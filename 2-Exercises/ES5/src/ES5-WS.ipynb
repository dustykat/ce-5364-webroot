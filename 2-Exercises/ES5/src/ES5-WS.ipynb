{
 "cells": [
  {
   "cell_type": "markdown",
   "metadata": {},
   "source": [
    "# <font color=darkblue>CE 5364 Groundwater Transport Phenemona <br> Fall 2023 Exercise Set 5</font>\n",
    "\n",
    "**LAST NAME, FIRST NAME**\n",
    "\n",
    "**R00000000**\n",
    "\n",
    "<hr>\n",
    "\n",
    "### Purpose : \n",
    "Apply selected analytical models for reactive transport\n",
    " \n",
    "### Assessment Criteria : \n",
    "Completion, results plausible, format correct, example calculations shown.  \n"
   ]
  },
  {
   "cell_type": "markdown",
   "metadata": {},
   "source": [
    "<hr><hr>\n",
    "\n",
    "## Problem 1 (Problem 11-1, pg. 594)\n",
    "\n",
    "A contaminated site has been surveyed and a contaminated region $100~ft. \\times 150~ft. \\times 15~ft.$ was delineated. The average concentration of total petroleum hydrocarbons (TPH) in soil is $10,000~\\frac{mg}{Kg}$\n",
    "\n",
    "Determine:\n",
    "\n",
    "1. The total mass of contaminants at the site in kilograms. Assume the soil has a specific gravity, $SG _{soil} \\approx 2.0$\n",
    "2. Estimate total volume of petroleum hydrocarbons released assuming 50% of the hydrocarbins are lost to volatization, biodegredation, and dissolution (report the answer in gallons). Assume the hydrocarbons were gasoline with a constant specific gravity, $SG_{\\text{gasoline}} \\approx 0.8$\n",
    "3. Estimate the residual saturation of the hydrocarbon-soil system.  Assume soil porosity is, $n=0.35$\n",
    "\n"
   ]
  },
  {
   "cell_type": "code",
   "execution_count": 2,
   "metadata": {},
   "outputs": [],
   "source": [
    "# Enter your solution below, or attach separate sheet(s) with your solution."
   ]
  },
  {
   "cell_type": "code",
   "execution_count": 2,
   "metadata": {},
   "outputs": [
    {
     "name": "stdout",
     "output_type": "stream",
     "text": [
      "Impacted Zone Volume :  6376.2  cubic meters \n"
     ]
    }
   ],
   "source": [
    "iZV = 100*150*15\n",
    "impacted_zone_volume = iZV/(3.28**3) # convert to cubic meters\n",
    "print(\"Impacted Zone Volume : \",round(impacted_zone_volume,1),\" cubic meters \")"
   ]
  },
  {
   "cell_type": "code",
   "execution_count": 7,
   "metadata": {},
   "outputs": [
    {
     "name": "stdout",
     "output_type": "stream",
     "text": [
      "Mass Soil Impacted :  12752372.3  kilograms \n",
      "Mass TPH in soil :  127523.72  kilograms \n",
      "Initial TPH Volume :  84150.0  gallons \n"
     ]
    }
   ],
   "source": [
    "tph = 10000 # mg/Kg\n",
    "rho_soil = 2.0*1000 #Kg/m^3\n",
    "rho_tph = 0.8*1000 #Kg/m^3\n",
    "mass_soil_impacted = rho_soil*impacted_zone_volume\n",
    "mass_tph = tph*mass_soil_impacted*(1/1000)*(1/1000) # convert to kilograms\n",
    "loss_fraction = 0.50 # HC losses\n",
    "volume_soil_tph = mass_tph/rho_tph\n",
    "volume_release_tph = volume_soil_tph/loss_fraction\n",
    "volume_release_tph = volume_release_tph*(3.28**3)*7.48 # convert m^3 to gallons\n",
    "print(\"Mass Soil Impacted : \",round(mass_soil_impacted,1),\" kilograms \")\n",
    "print(\"Mass TPH in soil : \",round(mass_tph,2),\" kilograms \")\n",
    "print(\"Initial TPH Volume : \",round(volume_release_tph,1),\" gallons \")"
   ]
  },
  {
   "cell_type": "code",
   "execution_count": 10,
   "metadata": {},
   "outputs": [
    {
     "name": "stdout",
     "output_type": "stream",
     "text": [
      "Impacted Zone Pore Volume :  2231.7  cubic meters \n",
      "TPH saturation in soil :  0.07   \n"
     ]
    }
   ],
   "source": [
    "porosity = 0.35\n",
    "pore_volume = porosity*impacted_zone_volume\n",
    "saturation_tph = volume_soil_tph/pore_volume\n",
    "print(\"Impacted Zone Pore Volume : \",round(pore_volume,1),\" cubic meters \")\n",
    "print(\"TPH saturation in soil : \",round(saturation_tph,2),\"  \")"
   ]
  },
  {
   "cell_type": "markdown",
   "metadata": {},
   "source": [
    "<hr><hr>\n",
    "\n",
    "## Problem 2 (Problem 11-2, pg. 594)\n",
    "\n",
    "A sampling program at a Supermanfund site indicated the following DNAPL zones:\n",
    "- A pool of free phase DNAPL in a stratigraphic depression in an unfractured clay. The pool is 200 $ft^2$ in area and 5 $ft$ thick.\n",
    "- A zone of residual DNAPL extending directly underneath an old disposal pit 100 $ft^2$ in area.  The residual zone extends through the 5 $ft$ thick unsaturated zone and 15 $ft$ through the saturated zone until it reaches the DNAPL pool.\n",
    "\n",
    "![](pr2.1.png)\n",
    "\n",
    "Supporting data:\n",
    "\n",
    "|||\n",
    "|---|---|\n",
    "|Residual saturation in the unsaturated zone: |0.10|\n",
    "|Residual saturation in the saturated zone: |0.35|\n",
    "|Saturation in the free-phase zone: |0.70|\n",
    "|Average porosity in water zone:|0.30|\n",
    "\n",
    "\n",
    "\n",
    "\n",
    "Determine:\n",
    "1. The total volume of DNAPL at the site\n",
    "2. The recoverable volume using ordinary pumping.\n",
    "\n"
   ]
  },
  {
   "cell_type": "code",
   "execution_count": 13,
   "metadata": {},
   "outputs": [],
   "source": [
    "# Enter your solution below, or attach separate sheet(s) with your solution."
   ]
  },
  {
   "cell_type": "markdown",
   "metadata": {},
   "source": [
    "Assuming the clay portion depicted has porosity of 50%\n",
    "\n",
    "![](porosity-clay.png)"
   ]
  },
  {
   "cell_type": "code",
   "execution_count": 24,
   "metadata": {},
   "outputs": [
    {
     "name": "stdout",
     "output_type": "stream",
     "text": [
      "DNAPL free phase volume :  350.0  cubic feet\n",
      "DNAPL unsaturated zone volume :  15.0  cubic feet\n",
      "DNAPL saturated zone volume :  157.5  cubic feet\n",
      "DNAPL total volume :  522.5  cubic feet\n"
     ]
    }
   ],
   "source": [
    "dnapl_pool_vol = 0.5*0.7*200*5 # cubic feet; porosity*saturation*volume\n",
    "pore_volume_unsat = 0.30*100*5 # cubic feet\n",
    "pore_volume_sat = 0.30*100*15 # cubic feet\n",
    "dnapl_unsat = 0.10*pore_volume_unsat\n",
    "dnapl_sat = 0.35*pore_volume_sat\n",
    "total_dnapl = dnapl_pool_vol+dnapl_unsat+dnapl_sat\n",
    "print(\"DNAPL free phase volume : \",round(dnapl_pool_vol,1),\" cubic feet\")\n",
    "print(\"DNAPL unsaturated zone volume : \",round(dnapl_unsat,1),\" cubic feet\")\n",
    "print(\"DNAPL saturated zone volume : \",round(dnapl_sat,1),\" cubic feet\")\n",
    "print(\"DNAPL total volume : \",round(total_dnapl,1),\" cubic feet\")"
   ]
  },
  {
   "cell_type": "markdown",
   "metadata": {},
   "source": [
    "Recoverable volume:\n",
    "\n",
    "Using something like:\n",
    "\n",
    "![](dnapl-well.png)\n",
    "\n",
    "One could only expect to recover from the free phase pool.  Assuming the clay goes to a residual similar to the saturated zone (35% of the pore volume contains NAPL)"
   ]
  },
  {
   "cell_type": "code",
   "execution_count": 25,
   "metadata": {},
   "outputs": [
    {
     "name": "stdout",
     "output_type": "stream",
     "text": [
      "DNAPL recoverable volume :  227.5  cubic feet\n"
     ]
    }
   ],
   "source": [
    "pore_volume_clay = dnapl_pool_vol\n",
    "unrecoverable = pore_volume_clay*0.35\n",
    "recoverable = pore_volume_clay - unrecoverable\n",
    "print(\"DNAPL recoverable volume : \",round(recoverable,1),\" cubic feet\")"
   ]
  },
  {
   "cell_type": "markdown",
   "metadata": {},
   "source": [
    "<hr><hr> \n",
    "\n",
    "## Problem 3 (Problem 11-4, pg. 595)\n",
    "\n",
    "Gasoline is found in a monitoring well with $SG=0.80$.  A total depth of 6 $ft$ of gasoline is found in the well.\n",
    "\n",
    "Determine:\n",
    "1. Estimated thickness of free-phase LNAPL in the formation.\n"
   ]
  },
  {
   "cell_type": "code",
   "execution_count": 4,
   "metadata": {},
   "outputs": [],
   "source": [
    "# Enter your solution below, or attach separate sheet(s) with your solution."
   ]
  },
  {
   "cell_type": "markdown",
   "metadata": {},
   "source": [
    "Sketch situation \n",
    "\n",
    "![](IMG_0841.png)\n",
    "\n",
    "Apply equation 11.18 as follows:"
   ]
  },
  {
   "cell_type": "code",
   "execution_count": 23,
   "metadata": {},
   "outputs": [
    {
     "name": "stdout",
     "output_type": "stream",
     "text": [
      " NAPL formation thickness :  1.5  feet \n"
     ]
    }
   ],
   "source": [
    "head_well = 6.0 # feets\n",
    "rho_napl = 0.8*62.4 # lbf/ft^3\n",
    "rho_water    = 1.00*62.4 # lbf/ft^3\n",
    "head_formation = head_well*(rho_water-rho_napl)/rho_napl\n",
    "print(\" NAPL formation thickness : \",round(head_formation,1),\" feet \")"
   ]
  },
  {
   "cell_type": "code",
   "execution_count": null,
   "metadata": {},
   "outputs": [],
   "source": []
  }
 ],
 "metadata": {
  "kernelspec": {
   "display_name": "Python 3 (ipykernel)",
   "language": "python",
   "name": "python3"
  },
  "language_info": {
   "codemirror_mode": {
    "name": "ipython",
    "version": 3
   },
   "file_extension": ".py",
   "mimetype": "text/x-python",
   "name": "python",
   "nbconvert_exporter": "python",
   "pygments_lexer": "ipython3",
   "version": "3.10.12"
  }
 },
 "nbformat": 4,
 "nbformat_minor": 4
}
