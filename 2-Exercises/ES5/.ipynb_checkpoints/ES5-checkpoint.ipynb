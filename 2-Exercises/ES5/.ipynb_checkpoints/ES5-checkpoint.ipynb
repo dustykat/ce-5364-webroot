{
 "cells": [
  {
   "cell_type": "markdown",
   "metadata": {},
   "source": [
    "# <font color=darkblue>CE 5364 Groundwater Transport Phenemona <br> Fall 2023 Exercise Set 5</font>\n",
    "\n",
    "**LAST NAME, FIRST NAME**\n",
    "\n",
    "**R00000000**\n",
    "\n",
    "<hr>\n",
    "\n",
    "### Purpose : \n",
    "Apply selected analytical models for reactive transport\n",
    " \n",
    "### Assessment Criteria : \n",
    "Completion, results plausible, format correct, example calculations shown.  \n"
   ]
  },
  {
   "cell_type": "markdown",
   "metadata": {},
   "source": [
    "<hr><hr>\n",
    "\n",
    "## Problem 1 (Problem 11-1, pg. 594)\n",
    "\n",
    "A contaminated site has been surveyed and a contaminated region $100~ft. \\times 150~ft. \\times 15~ft.$ was delineated. The average concentration of total petroleum hydrocarbons (TPH) in soil is $10,000~\\frac{mg}{Kg}$\n",
    "\n",
    "Determine:\n",
    "\n",
    "1. The total mass of contaminants at the site in kilograms. Assume the soil has a specific gravity, $SG _{soil} \\approx 2.0$\n",
    "2. Estimate total volume of petroleum hydrocarbons released assuming 50% of the hydrocarbins are lost to volatization, biodegredation, and dissolution (report the answer in gallons). Assume the hydrocarbons were gasoline with a constant specific gravity, $SG_{\\text{gasoline}} \\approx 0.8$\n",
    "3. Estimate the residual saturation of the hydrocarbon-soil system.  Assume soil porosity is, $n=0.35$\n",
    "\n"
   ]
  },
  {
   "cell_type": "code",
   "execution_count": 2,
   "metadata": {},
   "outputs": [],
   "source": [
    "# Enter your solution below, or attach separate sheet(s) with your solution.\n",
    "\n"
   ]
  },
  {
   "cell_type": "markdown",
   "metadata": {},
   "source": [
    "<hr><hr>\n",
    "\n",
    "## Problem 2 (Problem 11-2, pg. 594)\n",
    "\n",
    "A sampling program at a Supermanfund site indicated the following DNAPL zones:\n",
    "- A pool of free phase DNAPL in a stratigraphic depression in an unfractured clay. The pool is 200 $ft^2$ in area and 5 $ft$ thick.\n",
    "- A zone of residual DNAPL extending directly underneath an old disposal pit 100 $ft^2$ in area.  The residual zone extends through the 5 $ft$ thick unsaturated zone and 15 $ft$ through the saturated zone until it reaches the DNAPL pool.\n",
    "\n",
    "![](pr2.1.png)\n",
    "\n",
    "Supporting data:\n",
    "\n",
    "|||\n",
    "|---|---|\n",
    "|Residual saturation in the unsaturated zone: |0.10|\n",
    "|Residual saturation in the saturated zone: |0.35|\n",
    "|Saturation in the free-phase zone: |0.70|\n",
    "|Average porosity in water zone:|0.30|\n",
    "\n",
    "\n",
    "\n",
    "\n",
    "Determine:\n",
    "1. The total volume of DNAPL at the site\n",
    "2. The recoverable volume using ordinary pumping.\n",
    "\n"
   ]
  },
  {
   "cell_type": "code",
   "execution_count": 3,
   "metadata": {},
   "outputs": [],
   "source": [
    "# Enter your solution below, or attach separate sheet(s) with your solution.\n",
    "\n"
   ]
  },
  {
   "cell_type": "markdown",
   "metadata": {},
   "source": [
    "<hr><hr> \n",
    "\n",
    "## Problem 3 (Problem 11-4, pg. 595)\n",
    "\n",
    "Gasoline is found in a monitoring well with $SG=0.80$.  A total depth of 6 $ft$ of gasoline is found in the well.\n",
    "\n",
    "Determine:\n",
    "1. Estimated thickness of free-phase LNAPL in the formation.\n"
   ]
  },
  {
   "cell_type": "code",
   "execution_count": 4,
   "metadata": {},
   "outputs": [],
   "source": [
    "# Enter your solution below, or attach separate sheet(s) with your solution.\n",
    "\n"
   ]
  }
 ],
 "metadata": {
  "kernelspec": {
   "display_name": "Python 3",
   "language": "python",
   "name": "python3"
  },
  "language_info": {
   "codemirror_mode": {
    "name": "ipython",
    "version": 3
   },
   "file_extension": ".py",
   "mimetype": "text/x-python",
   "name": "python",
   "nbconvert_exporter": "python",
   "pygments_lexer": "ipython3",
   "version": "3.8.10"
  }
 },
 "nbformat": 4,
 "nbformat_minor": 4
}
