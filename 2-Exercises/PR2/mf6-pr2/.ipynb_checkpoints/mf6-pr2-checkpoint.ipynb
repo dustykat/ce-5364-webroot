{
 "cells": [
  {
   "cell_type": "markdown",
   "metadata": {},
   "source": [
    "# MF6 Project Problem Statement"
   ]
  },
  {
   "cell_type": "markdown",
   "metadata": {},
   "source": [
    "A 300-ft thick aquifer is used for water supply.  The aquifer is also under consideration as a disposal field for treated waste water (aquifer-storage-recovery), where the filtration and dilution capacity of the aquifer will be used to receive the waste water for intentional re-use.\n",
    "\n",
    "The figure below is a plan-view representation of a conceptual model of the aquifer. Each cell in the schematic is $1,500$ feet by $1,500$ feet."
   ]
  },
  {
   "cell_type": "markdown",
   "metadata": {},
   "source": [
    "![](aquiferplan.png)"
   ]
  },
  {
   "cell_type": "markdown",
   "metadata": {},
   "source": [
    "The northern constant head boundary is set at h=600 ft. The southern edge constant boundary varies from 540 ft to 520 ft as one traverses from east to west.  Three water supply wells, W-1, W-2, and W-3 are already in service.  Hydrologic data suggests that the aquifer system has three distinct zones with different hydraulic characteristics.  These characteristics are tabulated below.\n",
    "\n",
    "|Zone|K(cm/sec)|$n$|\n",
    "|---|---:|---:|\n",
    "|1|4.72|0.20|\n",
    "|2|1.57|0.20|\n",
    "|3|0.47|0.20|\n",
    "\n",
    "The longitudinal dispersivity has been estimated as $\\alpha_l=50~m$ and the transverse dispersivity has been estimated at $\\alpha_t=20~m$.  The drinking water wells supply water at the rates tabulated below. \n",
    "\n",
    "|Well|Q(cfs)|\n",
    "|---|---:|\n",
    "|W-1|16.0|\n",
    "|W-2|7.0|\n",
    "|W-3|7.0|\n",
    "\n",
    "The proposed re-use scheme will inject tracer-labeled waste-water into the aquifer into any of the three injection sites, I-1, I-2, or I-3.  The goal is for the concentration of the non-toxic tracer to never exceede 250 mg/L at the water production wells.  The tracer is added just before injection as a dilution indicator so that the water utility can shut down a well if the water in that well is not sufficiently diluted (much like the tracer added to natural gas to detect leaks).  The tracer concentration at the injection point is 1000 mg/L (the operation goal is the dilute the waste water four fold before it reaches the drinking water wells).\n",
    "\n",
    "Determine using MF6 the answers to the questions below.  \n",
    "\n",
    "1. Can 30 cfs of waste water be injected at I-3 and meet the water quality goal (4:1 dilution at drinking water wells)?\n",
    "2. Is it possible to inject more waste water (higher flow or different location)?\n",
    "3. Find the maximum volume that can be injected (at any or all of the three sites) and meet the water quality goal - this is the \"regulatory assimilative capacity of the system.\"  Does this volume exceed the drinking water demand currently satisfied by the three wells?\n",
    "4. Assume that instead of a non-toxic tracer, the injection water concentration represents some particular water quality parameter.  Assuming that the injection rate never exceedes the demand rate, what is the maximum waste load (mg/sec) that can be put into the aquifer and meet the raw water quality goal?\n",
    "\n"
   ]
  },
  {
   "cell_type": "markdown",
   "metadata": {},
   "source": [
    "# Reverse-Engineered Transport Model\n",
    "\n",
    "Here we reverse-engineer the entire model system so we can read from specific files prepared independently (circa 1960's style) so that the need for python skills are reduced (at the expense of file building)\n",
    "\n",
    "## Workflow\n",
    "\n",
    "The modeling workflow is:\n",
    "1. Initial package set-up (Python package loading -- assume packages already installed in the kernel)\n",
    "2. Read model structure data (I named the file \"pr2-input-base.txt\", you can rename as needed)\n",
    "3. Read hydraulic conductivity array  \n",
    "4. Read boundary array\n",
    "5. Read idomain array\n",
    "6. Read storativity array\n",
    "7. Read porosity array\n",
    "8. Read/generate wells (once per stress period)\n"
   ]
  },
  {
   "cell_type": "code",
   "execution_count": 90,
   "metadata": {},
   "outputs": [],
   "source": [
    "%reset -f"
   ]
  },
  {
   "cell_type": "code",
   "execution_count": 91,
   "metadata": {},
   "outputs": [],
   "source": [
    "import warnings\n",
    "warnings.filterwarnings('ignore',category=DeprecationWarning)"
   ]
  },
  {
   "cell_type": "markdown",
   "metadata": {},
   "source": [
    ":::{note}\n",
    "The script generates a lot of output that are suppressed by a `;`  Comment the character out to re-enable full output (which is damn helpful for debugging the script!)\n",
    ":::\n",
    "\n",
    "## Initial setup\n",
    "\n",
    "Import dependencies, define the example name and workspace, and read settings from environment variables."
   ]
  },
  {
   "cell_type": "code",
   "execution_count": 92,
   "metadata": {},
   "outputs": [],
   "source": [
    "import os\n",
    "import pathlib as pl\n",
    "from pprint import pformat\n",
    "import flopy\n",
    "import git\n",
    "import matplotlib.pyplot as plt\n",
    "from matplotlib.colors import ListedColormap\n",
    "import numpy as np\n",
    "from flopy.plot.styles import styles\n",
    "from modflow_devtools.misc import get_env, timed\n",
    "import warnings\n",
    "warnings.filterwarnings('ignore',category=DeprecationWarning)"
   ]
  },
  {
   "cell_type": "markdown",
   "metadata": {},
   "source": [
    ":::{note}\n",
    "The code block above loads various modules into the environment; they must exist and be loaded into the kernel - if not you get a warning \"Module Not Found\" and will have to install into the kernel (i.e. `pip -m install module`, or the `conda` equivalent\n",
    "Filter warnings repeated to achieve \"for sure ...\" that the filter is applied.  By design the filter will not stop ERRORS, and warnings issued within functions will still display, but it will address one annoying deprecation error.\n",
    ":::\n",
    "\n",
    "### Define parameters\n",
    "\n",
    "Define model units, spatial, and temporal discritization settings."
   ]
  },
  {
   "cell_type": "code",
   "execution_count": 93,
   "metadata": {},
   "outputs": [],
   "source": [
    "# Read control file\n",
    "filename = \"pr2-input-base.txt\"\n",
    "# Read the file\n",
    "afile = open(filename,\"r\")  # connect and read file for base input\n",
    "lines = []\n",
    "for line in afile:\n",
    "    lines.append(line.rstrip('\\n'))\n",
    "afile.close()\n",
    "# Assign Properties\n",
    "length_units= lines[0]\n",
    "time_units= lines[1]\n",
    "nlay = int(lines[2])  # Number of layers\n",
    "nrow = int(lines[3])  # Number of rows\n",
    "ncol = int(lines[4])  # Number of columns\n",
    "delr = float(lines[5])  # Column width ($m$)\n",
    "delc = float(lines[6])  # Row width ($m$)\n",
    "delz = float(lines[7])  # Layer thickness ($m$)\n",
    "top  = float(lines[8])  # Top of the model ($m$)\n",
    "\n",
    "#\n",
    "\n",
    "# more above"
   ]
  },
  {
   "cell_type": "markdown",
   "metadata": {},
   "source": [
    "### Read Hydraulic Conductivity\n",
    "\n",
    "Read the hydraulic conductivity array (float) arranged in layer,row, column format.  Read one times per model."
   ]
  },
  {
   "cell_type": "code",
   "execution_count": 94,
   "metadata": {},
   "outputs": [],
   "source": [
    "# Read hydraulic conductivity array\n",
    "filename = \"pr2-input-hydcond.txt\"\n",
    "hk = []\n",
    "# Read the file\n",
    "afile = open(filename,\"r\")  # connect and read file for base input\n",
    "for ilay in range(nlay):\n",
    "    for line in afile:\n",
    "        hk.append([float(n) for n in line.strip().split(',')])\n",
    "afile.close()\n",
    "# convert into numpy array\n",
    "hk = np.array(hk)"
   ]
  },
  {
   "cell_type": "code",
   "execution_count": 95,
   "metadata": {},
   "outputs": [
    {
     "data": {
      "image/png": "[encoded data removed]",
      "text/plain": [
       "<Figure size 1008x720 with 2 Axes>"
      ]
     },
     "metadata": {
      "needs_background": "light"
     },
     "output_type": "display_data"
    }
   ],
   "source": [
    "# Render the array into a visual representation - will repeat this code block as needed\n",
    "import matplotlib.pyplot as plt\n",
    "import numpy as np\n",
    "\n",
    "# Example 2D array (you would replace this with your actual data)\n",
    "# Assuming my_array2D is your 2D array (nrow x ncol)\n",
    "my_array2D = hk  # Replace with your actual array\n",
    "\n",
    "# Plot the 2D array using imshow\n",
    "plt.figure(figsize=(14, 10))  # Optional: set the figure size\n",
    "plt.imshow(my_array2D, cmap='viridis', interpolation='none')\n",
    "\n",
    "# Add a colorbar to indicate the value scale\n",
    "plt.colorbar(label='Array Value')\n",
    "# Add the grid\n",
    "plt.grid(visible=True, color='black', linestyle='-', linewidth=0.1)\n",
    "# Customize the grid to align with the image cells\n",
    "plt.gca().set_xticks(np.arange(-0.5, my_array2D.shape[1], 1), minor=True)\n",
    "plt.gca().set_yticks(np.arange(-0.5, my_array2D.shape[0], 1), minor=True)\n",
    "# Enable minor ticks to show the grid at each cell\n",
    "plt.gca().grid(which='minor', color='black', linestyle='-', linewidth=1.5)\n",
    "# Disable the default major ticks\n",
    "plt.gca().tick_params(which='major', bottom=False, left=False)\n",
    "# Add row and column labels\n",
    "rows, cols = my_array2D.shape\n",
    "plt.xticks(np.arange(cols), labels=[f'Col {i}' for i in range(cols)])\n",
    "plt.yticks(np.arange(rows), labels=[f'Row {i}' for i in range(rows)])\n",
    "\n",
    "# Optional: Add labels for clarity\n",
    "plt.title('2D Array Visualization for array: hydraulic conductivity')\n",
    "plt.xlabel('Column Index')\n",
    "plt.ylabel('Row Index')\n",
    "\n",
    "# Display the plot\n",
    "plt.show()"
   ]
  },
  {
   "cell_type": "markdown",
   "metadata": {},
   "source": [
    "### Read Boundary Array\n",
    "\n",
    "Read the boundary indication array (integer) arranged in layer,row, column format.  Read one times per model."
   ]
  },
  {
   "cell_type": "code",
   "execution_count": 96,
   "metadata": {},
   "outputs": [],
   "source": [
    "# Read boundary array\n",
    "filename = \"pr2-input-ibound.txt\"\n",
    "ibound = []\n",
    "# Read the file\n",
    "afile = open(filename,\"r\")  # connect and read file for base input\n",
    "for ilay in range(nlay):\n",
    "    for line in afile:\n",
    "        ibound.append([int(n) for n in line.strip().split(',')])\n",
    "afile.close()\n",
    "# convert into numpy array\n",
    "ibound = np.array(ibound)"
   ]
  },
  {
   "cell_type": "code",
   "execution_count": 97,
   "metadata": {
    "jupyter": {
     "source_hidden": true
    }
   },
   "outputs": [
    {
     "data": {
      "image/png": "[encoded data removed]",
      "text/plain": [
       "<Figure size 1008x720 with 2 Axes>"
      ]
     },
     "metadata": {
      "needs_background": "light"
     },
     "output_type": "display_data"
    }
   ],
   "source": [
    "# Render the array into a visual representation - will repeat this code block as needed\n",
    "import matplotlib.pyplot as plt\n",
    "import numpy as np\n",
    "\n",
    "# Example 2D array (you would replace this with your actual data)\n",
    "# Assuming my_array2D is your 2D array (nrow x ncol)\n",
    "my_array2D = ibound  # Replace with your actual array\n",
    "\n",
    "# Plot the 2D array using imshow\n",
    "plt.figure(figsize=(14, 10))  # Optional: set the figure size\n",
    "plt.imshow(my_array2D, cmap='viridis', interpolation='none')\n",
    "\n",
    "# Add a colorbar to indicate the value scale\n",
    "plt.colorbar(label='Array Value')\n",
    "# Add the grid\n",
    "plt.grid(visible=True, color='black', linestyle='-', linewidth=0.1)\n",
    "# Customize the grid to align with the image cells\n",
    "plt.gca().set_xticks(np.arange(-0.5, my_array2D.shape[1], 1), minor=True)\n",
    "plt.gca().set_yticks(np.arange(-0.5, my_array2D.shape[0], 1), minor=True)\n",
    "# Enable minor ticks to show the grid at each cell\n",
    "plt.gca().grid(which='minor', color='black', linestyle='-', linewidth=1.5)\n",
    "# Disable the default major ticks\n",
    "plt.gca().tick_params(which='major', bottom=False, left=False)\n",
    "# Add row and column labels\n",
    "rows, cols = my_array2D.shape\n",
    "plt.xticks(np.arange(cols), labels=[f'Col {i}' for i in range(cols)])\n",
    "plt.yticks(np.arange(rows), labels=[f'Row {i}' for i in range(rows)])\n",
    "\n",
    "# Optional: Add labels for clarity\n",
    "plt.title('2D Array Visualization for array: ibound')\n",
    "plt.xlabel('Column Index')\n",
    "plt.ylabel('Row Index')\n",
    "\n",
    "# Display the plot\n",
    "plt.show()"
   ]
  },
  {
   "cell_type": "markdown",
   "metadata": {},
   "source": [
    "### Read Computation Domain Array\n",
    "\n",
    "Read the computation domain array (integer) indicating active/inactive cells arranged in layer,row, column format.  Read one times per model."
   ]
  },
  {
   "cell_type": "code",
   "execution_count": 98,
   "metadata": {},
   "outputs": [],
   "source": [
    "# Read idomain array\n",
    "filename = \"pr2-input-idomain.txt\"\n",
    "idomain = []\n",
    "# Read the file\n",
    "afile = open(filename,\"r\")  # connect and read file for base input\n",
    "for ilay in range(nlay):\n",
    "    for line in afile:\n",
    "        idomain.append([int(n) for n in line.strip().split(',')])\n",
    "afile.close()\n",
    "# convert into numpy array\n",
    "idomain = np.array(idomain)"
   ]
  },
  {
   "cell_type": "code",
   "execution_count": 99,
   "metadata": {},
   "outputs": [
    {
     "data": {
      "image/png": "[encoded data removed]",
      "text/plain": [
       "<Figure size 1008x720 with 2 Axes>"
      ]
     },
     "metadata": {
      "needs_background": "light"
     },
     "output_type": "display_data"
    }
   ],
   "source": [
    "# Render the array into a visual representation - will repeat this code block as needed\n",
    "import matplotlib.pyplot as plt\n",
    "import numpy as np\n",
    "\n",
    "# Example 2D array (you would replace this with your actual data)\n",
    "# Assuming my_array2D is your 2D array (nrow x ncol)\n",
    "my_array2D = idomain  # Replace with your actual array\n",
    "\n",
    "# Plot the 2D array using imshow\n",
    "plt.figure(figsize=(14, 10))  # Optional: set the figure size\n",
    "plt.imshow(my_array2D, cmap='viridis', interpolation='none')\n",
    "\n",
    "# Add a colorbar to indicate the value scale\n",
    "plt.colorbar(label='Array Value')\n",
    "# Add the grid\n",
    "plt.grid(visible=True, color='black', linestyle='-', linewidth=0.1)\n",
    "# Customize the grid to align with the image cells\n",
    "plt.gca().set_xticks(np.arange(-0.5, my_array2D.shape[1], 1), minor=True)\n",
    "plt.gca().set_yticks(np.arange(-0.5, my_array2D.shape[0], 1), minor=True)\n",
    "# Enable minor ticks to show the grid at each cell\n",
    "plt.gca().grid(which='minor', color='black', linestyle='-', linewidth=1.5)\n",
    "# Disable the default major ticks\n",
    "plt.gca().tick_params(which='major', bottom=False, left=False)\n",
    "# Add row and column labels\n",
    "rows, cols = my_array2D.shape\n",
    "plt.xticks(np.arange(cols), labels=[f'Col {i}' for i in range(cols)])\n",
    "plt.yticks(np.arange(rows), labels=[f'Row {i}' for i in range(rows)])\n",
    "\n",
    "# Optional: Add labels for clarity\n",
    "plt.title('2D Array Visualization for array: idomain')\n",
    "plt.xlabel('Column Index')\n",
    "plt.ylabel('Row Index')\n",
    "\n",
    "# Display the plot\n",
    "plt.show()"
   ]
  },
  {
   "cell_type": "markdown",
   "metadata": {},
   "source": [
    "### Read storage array\n",
    "\n",
    "Read the storage coefficient array (float) arranged in layer,row, column format.  Read one times per model."
   ]
  },
  {
   "cell_type": "code",
   "execution_count": 100,
   "metadata": {},
   "outputs": [],
   "source": [
    "# Read storativity array\n",
    "filename = \"pr2-input-storage.txt\"\n",
    "ss_array = []\n",
    "# Read the file\n",
    "afile = open(filename,\"r\")  # connect and read file for base input\n",
    "for ilay in range(nlay):\n",
    "    for line in afile:\n",
    "        ss_array.append([float(n) for n in line.strip().split(',')])\n",
    "afile.close()\n",
    "# convert into numpy array\n",
    "ss_array = np.array(ss_array)"
   ]
  },
  {
   "cell_type": "code",
   "execution_count": 101,
   "metadata": {},
   "outputs": [
    {
     "data": {
      "image/png": "[encoded data removed]",
      "text/plain": [
       "<Figure size 1008x720 with 2 Axes>"
      ]
     },
     "metadata": {
      "needs_background": "light"
     },
     "output_type": "display_data"
    }
   ],
   "source": [
    "# Render the array into a visual representation - will repeat this code block as needed\n",
    "import matplotlib.pyplot as plt\n",
    "import numpy as np\n",
    "\n",
    "# Example 2D array (you would replace this with your actual data)\n",
    "# Assuming my_array2D is your 2D array (nrow x ncol)\n",
    "my_array2D = ss_array  # Replace with your actual array\n",
    "\n",
    "# Plot the 2D array using imshow\n",
    "plt.figure(figsize=(14, 10))  # Optional: set the figure size\n",
    "plt.imshow(my_array2D, cmap='viridis', interpolation='none')\n",
    "\n",
    "# Add a colorbar to indicate the value scale\n",
    "plt.colorbar(label='Array Value')\n",
    "# Add the grid\n",
    "plt.grid(visible=True, color='black', linestyle='-', linewidth=0.1)\n",
    "# Customize the grid to align with the image cells\n",
    "plt.gca().set_xticks(np.arange(-0.5, my_array2D.shape[1], 1), minor=True)\n",
    "plt.gca().set_yticks(np.arange(-0.5, my_array2D.shape[0], 1), minor=True)\n",
    "# Enable minor ticks to show the grid at each cell\n",
    "plt.gca().grid(which='minor', color='black', linestyle='-', linewidth=1.5)\n",
    "# Disable the default major ticks\n",
    "plt.gca().tick_params(which='major', bottom=False, left=False)\n",
    "# Add row and column labels\n",
    "rows, cols = my_array2D.shape\n",
    "plt.xticks(np.arange(cols), labels=[f'Col {i}' for i in range(cols)])\n",
    "plt.yticks(np.arange(rows), labels=[f'Row {i}' for i in range(rows)])\n",
    "\n",
    "# Optional: Add labels for clarity\n",
    "plt.title('2D Array Visualization for array: specific storage')\n",
    "plt.xlabel('Column Index')\n",
    "plt.ylabel('Row Index')\n",
    "\n",
    "# Display the plot\n",
    "plt.show()"
   ]
  },
  {
   "cell_type": "markdown",
   "metadata": {},
   "source": [
    "### Read porosity array\n",
    "\n",
    "Read theporosity array (float) arranged in layer, row, column format.  Read one times per model."
   ]
  },
  {
   "cell_type": "code",
   "execution_count": 102,
   "metadata": {},
   "outputs": [],
   "source": [
    "# Read porosity array\n",
    "filename = \"pr2-input-porosity.txt\"\n",
    "pors_array = []\n",
    "# Read the file\n",
    "afile = open(filename,\"r\")  # connect and read file for base input\n",
    "for ilay in range(nlay):\n",
    "    for line in afile:\n",
    "        pors_array.append([float(n) for n in line.strip().split(',')])\n",
    "afile.close()\n",
    "# convert into numpy array\n",
    "pors_array = np.array(pors_array)"
   ]
  },
  {
   "cell_type": "code",
   "execution_count": 103,
   "metadata": {},
   "outputs": [
    {
     "data": {
      "image/png": "[encoded data removed]",
      "text/plain": [
       "<Figure size 1008x720 with 2 Axes>"
      ]
     },
     "metadata": {
      "needs_background": "light"
     },
     "output_type": "display_data"
    }
   ],
   "source": [
    "# Render the array into a visual representation - will repeat this code block as needed\n",
    "import matplotlib.pyplot as plt\n",
    "import numpy as np\n",
    "\n",
    "# Example 2D array (you would replace this with your actual data)\n",
    "# Assuming my_array2D is your 2D array (nrow x ncol)\n",
    "my_array2D = pors_array  # Replace with your actual array\n",
    "\n",
    "# Plot the 2D array using imshow\n",
    "plt.figure(figsize=(14, 10))  # Optional: set the figure size\n",
    "plt.imshow(my_array2D, cmap='viridis', interpolation='none')\n",
    "\n",
    "# Add a colorbar to indicate the value scale\n",
    "plt.colorbar(label='Array Value')\n",
    "# Add the grid\n",
    "plt.grid(visible=True, color='black', linestyle='-', linewidth=0.1)\n",
    "# Customize the grid to align with the image cells\n",
    "plt.gca().set_xticks(np.arange(-0.5, my_array2D.shape[1], 1), minor=True)\n",
    "plt.gca().set_yticks(np.arange(-0.5, my_array2D.shape[0], 1), minor=True)\n",
    "# Enable minor ticks to show the grid at each cell\n",
    "plt.gca().grid(which='minor', color='black', linestyle='-', linewidth=1.5)\n",
    "# Disable the default major ticks\n",
    "plt.gca().tick_params(which='major', bottom=False, left=False)\n",
    "# Add row and column labels\n",
    "rows, cols = my_array2D.shape\n",
    "plt.xticks(np.arange(cols), labels=[f'Col {i}' for i in range(cols)])\n",
    "plt.yticks(np.arange(rows), labels=[f'Row {i}' for i in range(rows)])\n",
    "\n",
    "# Optional: Add labels for clarity\n",
    "plt.title('2D Array Visualization for array: porosity')\n",
    "plt.xlabel('Column Index')\n",
    "plt.ylabel('Row Index')\n",
    "\n",
    "# Display the plot\n",
    "plt.show()"
   ]
  },
  {
   "cell_type": "markdown",
   "metadata": {},
   "source": [
    "### Read longitudinal dispersivity array\n",
    "\n",
    "Read the longitudinal dispersivity array (float) arranged in layer, row, column format.  Read one times per model."
   ]
  },
  {
   "cell_type": "code",
   "execution_count": 104,
   "metadata": {},
   "outputs": [],
   "source": [
    "# Read longitudinal dispersivity array\n",
    "filename = \"pr2-input-disperl.txt\"\n",
    "displ_array = []\n",
    "# Read the file\n",
    "afile = open(filename,\"r\")  # connect and read file for base input\n",
    "for ilay in range(nlay):\n",
    "    for line in afile:\n",
    "        displ_array.append([float(n) for n in line.strip().split(',')])\n",
    "afile.close()\n",
    "# convert into numpy array\n",
    "displ_array = np.array(displ_array)"
   ]
  },
  {
   "cell_type": "code",
   "execution_count": 105,
   "metadata": {},
   "outputs": [
    {
     "data": {
      "image/png": "[encoded data removed]",
      "text/plain": [
       "<Figure size 1008x720 with 2 Axes>"
      ]
     },
     "metadata": {
      "needs_background": "light"
     },
     "output_type": "display_data"
    }
   ],
   "source": [
    "# Render the array into a visual representation - will repeat this code block as needed\n",
    "import matplotlib.pyplot as plt\n",
    "import numpy as np\n",
    "\n",
    "# Example 2D array (you would replace this with your actual data)\n",
    "# Assuming my_array2D is your 2D array (nrow x ncol)\n",
    "my_array2D = displ_array  # Replace with your actual array\n",
    "\n",
    "# Plot the 2D array using imshow\n",
    "plt.figure(figsize=(14, 10))  # Optional: set the figure size\n",
    "plt.imshow(my_array2D, cmap='viridis', interpolation='none')\n",
    "\n",
    "# Add a colorbar to indicate the value scale\n",
    "plt.colorbar(label='Array Value')\n",
    "# Add the grid\n",
    "plt.grid(visible=True, color='black', linestyle='-', linewidth=0.1)\n",
    "# Customize the grid to align with the image cells\n",
    "plt.gca().set_xticks(np.arange(-0.5, my_array2D.shape[1], 1), minor=True)\n",
    "plt.gca().set_yticks(np.arange(-0.5, my_array2D.shape[0], 1), minor=True)\n",
    "# Enable minor ticks to show the grid at each cell\n",
    "plt.gca().grid(which='minor', color='black', linestyle='-', linewidth=1.5)\n",
    "# Disable the default major ticks\n",
    "plt.gca().tick_params(which='major', bottom=False, left=False)\n",
    "# Add row and column labels\n",
    "rows, cols = my_array2D.shape\n",
    "plt.xticks(np.arange(cols), labels=[f'Col {i}' for i in range(cols)])\n",
    "plt.yticks(np.arange(rows), labels=[f'Row {i}' for i in range(rows)])\n",
    "\n",
    "# Optional: Add labels for clarity\n",
    "plt.title('2D Array Visualization for array: longitudinal dispersivity ')\n",
    "plt.xlabel('Column Index')\n",
    "plt.ylabel('Row Index')\n",
    "\n",
    "# Display the plot\n",
    "plt.show()"
   ]
  },
  {
   "cell_type": "markdown",
   "metadata": {},
   "source": [
    "### Read transverse dispersivity array \n",
    "\n",
    "Read the transverse dispersivity array (float) arranged in layer, row, column format.  Read one times per model."
   ]
  },
  {
   "cell_type": "code",
   "execution_count": 106,
   "metadata": {},
   "outputs": [],
   "source": [
    "# Read dispersivity in y-direction array\n",
    "filename = \"pr2-input-dispert.txt\"\n",
    "dispt_array = []\n",
    "# Read the file\n",
    "afile = open(filename,\"r\")  # connect and read file for base input\n",
    "for ilay in range(nlay):\n",
    "    for line in afile:\n",
    "        dispt_array.append([float(n) for n in line.strip().split(',')])\n",
    "afile.close()\n",
    "# convert into numpy array\n",
    "dispt_array = np.array(dispt_array)"
   ]
  },
  {
   "cell_type": "code",
   "execution_count": 107,
   "metadata": {},
   "outputs": [
    {
     "data": {
      "image/png": "[encoded data removed]",
      "text/plain": [
       "<Figure size 1008x720 with 2 Axes>"
      ]
     },
     "metadata": {
      "needs_background": "light"
     },
     "output_type": "display_data"
    }
   ],
   "source": [
    "# Render the array into a visual representation - will repeat this code block as needed\n",
    "import matplotlib.pyplot as plt\n",
    "import numpy as np\n",
    "\n",
    "# Example 2D array (you would replace this with your actual data)\n",
    "# Assuming my_array2D is your 2D array (nrow x ncol)\n",
    "my_array2D = dispt_array  # Replace with your actual array\n",
    "\n",
    "# Plot the 2D array using imshow\n",
    "plt.figure(figsize=(14, 10))  # Optional: set the figure size\n",
    "plt.imshow(my_array2D, cmap='viridis', interpolation='none')\n",
    "\n",
    "# Add a colorbar to indicate the value scale\n",
    "plt.colorbar(label='Array Value')\n",
    "# Add the grid\n",
    "plt.grid(visible=True, color='black', linestyle='-', linewidth=0.1)\n",
    "# Customize the grid to align with the image cells\n",
    "plt.gca().set_xticks(np.arange(-0.5, my_array2D.shape[1], 1), minor=True)\n",
    "plt.gca().set_yticks(np.arange(-0.5, my_array2D.shape[0], 1), minor=True)\n",
    "# Enable minor ticks to show the grid at each cell\n",
    "plt.gca().grid(which='minor', color='black', linestyle='-', linewidth=1.5)\n",
    "# Disable the default major ticks\n",
    "plt.gca().tick_params(which='major', bottom=False, left=False)\n",
    "# Add row and column labels\n",
    "rows, cols = my_array2D.shape\n",
    "plt.xticks(np.arange(cols), labels=[f'Col {i}' for i in range(cols)])\n",
    "plt.yticks(np.arange(rows), labels=[f'Row {i}' for i in range(rows)])\n",
    "\n",
    "# Optional: Add labels for clarity\n",
    "plt.title('2D Array Visualization for array: transverse dispersivity')\n",
    "plt.xlabel('Column Index')\n",
    "plt.ylabel('Row Index')\n",
    "\n",
    "# Display the plot\n",
    "plt.show()"
   ]
  },
  {
   "cell_type": "code",
   "execution_count": 108,
   "metadata": {},
   "outputs": [
    {
     "data": {
      "text/plain": [
       "array([[9999.99 , 9999.99 , 9999.99 , 9999.99 , 9999.99 , 9999.99 ,\n",
       "        9999.99 , 9999.99 , 9999.99 , 9999.99 ],\n",
       "       [9999.99 ,  600.   ,  600.   ,  600.   ,  600.   ,  600.   ,\n",
       "         600.   ,  600.   ,  600.   , 9999.99 ],\n",
       "       [9999.99 ,  598.627,  598.635,  598.651,  598.671,  598.685,\n",
       "         598.696,  598.698,  598.699, 9999.99 ],\n",
       "       [9999.99 ,  597.244,  597.263,  597.299,  597.347,  597.373,\n",
       "         597.4  ,  597.399,  597.398, 9999.99 ],\n",
       "       [9999.99 ,  595.844,  595.873,  595.935,  596.046,  596.058,\n",
       "         596.134,  596.1  ,  596.095, 9999.99 ],\n",
       "       [9999.99 ,  592.981,  593.023,  593.102,  593.21 ,  593.295,\n",
       "         593.388,  593.439,  593.477, 9999.99 ],\n",
       "       [9999.99 ,  588.644,  588.707,  588.823,  588.976,  589.14 ,\n",
       "         589.307,  589.46 ,  589.587, 9999.99 ],\n",
       "       [9999.99 ,  584.245,  584.338,  584.507,  584.73 ,  584.981,\n",
       "         585.242,  585.506,  585.823, 9999.99 ],\n",
       "       [9999.99 ,  579.753,  579.891,  580.139,  580.457,  580.812,\n",
       "         581.174,  581.498,  581.729, 9999.99 ],\n",
       "       [9999.99 ,  569.734,  570.035,  570.535,  571.135,  571.774,\n",
       "         572.459,  573.025,  573.375, 9999.99 ],\n",
       "       [9999.99 ,  554.028,  554.679,  555.666,  556.761,  557.828,\n",
       "         559.177,  560.211,  560.877, 9999.99 ],\n",
       "       [9999.99 ,  537.671,  538.985,  540.691,  542.414,  543.602,\n",
       "         546.211,  547.765,  549.045, 9999.99 ],\n",
       "       [9999.99 ,  520.   ,  522.9  ,  525.7  ,  528.6  ,  531.4  ,\n",
       "         534.3  ,  537.1  ,  540.   , 9999.99 ],\n",
       "       [9999.99 , 9999.99 , 9999.99 , 9999.99 , 9999.99 , 9999.99 ,\n",
       "        9999.99 , 9999.99 , 9999.99 , 9999.99 ]])"
      ]
     },
     "execution_count": 108,
     "metadata": {},
     "output_type": "execute_result"
    }
   ],
   "source": [
    "# Read initial heads array\n",
    "filename = \"pr2-input-headinit.txt\"\n",
    "strt = []\n",
    "# Read the file\n",
    "afile = open(filename,\"r\")  # connect and read file for base input\n",
    "for ilay in range(nlay):\n",
    "    for line in afile:\n",
    "        strt.append([float(n) for n in line.strip().split(',')])\n",
    "afile.close()\n",
    "# convert into numpy array\n",
    "strt = np.array(strt)\n",
    "\n",
    "strt"
   ]
  },
  {
   "cell_type": "code",
   "execution_count": 109,
   "metadata": {},
   "outputs": [
    {
     "data": {
      "image/png": "[encoded data removed]",
      "text/plain": [
       "<Figure size 1008x720 with 2 Axes>"
      ]
     },
     "metadata": {
      "needs_background": "light"
     },
     "output_type": "display_data"
    }
   ],
   "source": [
    "# Render the array into a visual representation - will repeat this code block as needed\n",
    "import matplotlib.pyplot as plt\n",
    "import numpy as np\n",
    "\n",
    "# Example 2D array (you would replace this with your actual data)\n",
    "# Assuming my_array2D is your 2D array (nrow x ncol)\n",
    "my_array2D = strt  # Replace with your actual array\n",
    "\n",
    "# Plot the 2D array using imshow\n",
    "plt.figure(figsize=(14, 10))  # Optional: set the figure size\n",
    "plt.imshow(my_array2D, cmap='viridis', interpolation='none')\n",
    "\n",
    "# Add a colorbar to indicate the value scale\n",
    "plt.colorbar(label='Array Value')\n",
    "# Add the grid\n",
    "plt.grid(visible=True, color='black', linestyle='-', linewidth=0.1)\n",
    "# Customize the grid to align with the image cells\n",
    "plt.gca().set_xticks(np.arange(-0.5, my_array2D.shape[1], 1), minor=True)\n",
    "plt.gca().set_yticks(np.arange(-0.5, my_array2D.shape[0], 1), minor=True)\n",
    "# Enable minor ticks to show the grid at each cell\n",
    "plt.gca().grid(which='minor', color='black', linestyle='-', linewidth=1.5)\n",
    "# Disable the default major ticks\n",
    "plt.gca().tick_params(which='major', bottom=False, left=False)\n",
    "# Add row and column labels\n",
    "rows, cols = my_array2D.shape\n",
    "plt.xticks(np.arange(cols), labels=[f'Col {i}' for i in range(cols)])\n",
    "plt.yticks(np.arange(rows), labels=[f'Row {i}' for i in range(rows)])\n",
    "\n",
    "# Optional: Add labels for clarity\n",
    "plt.title('2D Array Visualization for array: starting heads ')\n",
    "plt.xlabel('Column Index')\n",
    "plt.ylabel('Row Index')\n",
    "\n",
    "# Display the plot\n",
    "plt.show()"
   ]
  },
  {
   "cell_type": "code",
   "execution_count": 110,
   "metadata": {},
   "outputs": [
    {
     "data": {
      "text/plain": [
       "0.01548"
      ]
     },
     "execution_count": 110,
     "metadata": {},
     "output_type": "execute_result"
    }
   ],
   "source": [
    "0.01548"
   ]
  },
  {
   "cell_type": "markdown",
   "metadata": {},
   "source": [
    "### Pumping and Injection Wells\n",
    "\n",
    "Define wellfield settings, here we are using scripting to build the input structure, bou could just as well use a file read structure."
   ]
  },
  {
   "cell_type": "code",
   "execution_count": 111,
   "metadata": {},
   "outputs": [],
   "source": [
    "# Wellfield Conditions\n",
    "# MF2K5 pumping/injection rates in length-time units\n",
    "# CFS pumping is negative\n",
    "qW1 = -16.0 \n",
    "qW2 =  -7.0\n",
    "qW3 =  -7.0\n",
    "# CFS injection is positive\n",
    "qI1 = 10.0 \n",
    "qI2 = 10.0\n",
    "qI3 = 10.0\n",
    "# Concentrations \n",
    "# PPM pumping (set pumpings to zero value)\n",
    "cW1 = 0.0\n",
    "cW2 = 0.0\n",
    "cW3 = 0.0\n",
    "# PPM injection\n",
    "cI1 = 1000.0\n",
    "cI2 = 1000.0\n",
    "cI3 = 1000.0\n",
    "#spd = {\n",
    " #   0: [[0, 3, 6, cwell1, 2], [0, 10, 6, cwell0, 2]],\n",
    "  #  1: [[0, 3, 6, cwell0, 2], [0, 10, 6, cwell0, 2]],\n",
    "#}  # Well info 4 MT3D\n",
    "# Build MF6 wellfield objects\n",
    "wellist_sp1 = []\n",
    "#                   (k,  i, j),   flow,  conc\n",
    "wellist_sp1.append([(0, 4, 4), qI1, cI1])  # Injection well\n",
    "wellist_sp1.append([(0, 4, 6), qI1, cI2])  # Injection well\n",
    "wellist_sp1.append([(0, 7, 8), qI1, cI3])  # Injection well\n",
    "wellist_sp1.append([(0, 11, 5), qW1, cW1])  # Pumping well\n",
    "wellist_sp1.append([(0, 11, 7), qW2, cW2])  # Pumping well\n",
    "wellist_sp1.append([(0, 11, 8), qW3, cW3])  # Pumping well\n",
    "#\n",
    "wellist_sp2 = []\n",
    "#                   (k,  i, j),   flow,  conc\n",
    "wellist_sp2.append([(0, 4, 4), qI1, cI1])  # Injection well\n",
    "wellist_sp2.append([(0, 4, 6), qI2, cI2])  # Injection well\n",
    "wellist_sp2.append([(0, 7, 8), qI3, cI3])  # Injection well\n",
    "wellist_sp2.append([(0, 11, 5), qW1, cW1])  # Pumping well\n",
    "wellist_sp2.append([(0, 11, 7), qW2, cW2])  # Pumping well\n",
    "wellist_sp2.append([(0, 11, 8), qW3, cW3])  # Pumping well\n",
    "#\n",
    "spd_mf6 = {0: wellist_sp1, 1: wellist_sp2}"
   ]
  },
  {
   "cell_type": "raw",
   "metadata": {},
   "source": [
    "# Build MF6 constant head boundaries:\n",
    "xc = gwf.modelgrid.xcellcenters\n",
    "chdspd = []\n",
    "# Loop through the top & bottom sides.\n",
    "for j in range(1,ncol-1):\n",
    "#for j in np.arange(ncol):\n",
    "#               l,  r, c,  head, conc\n",
    "    chdspd.append([(0, 1, j), 600.0, 0.0])  # Top boundary\n",
    "    hd = 520.0 + (xc[-1, j] - xc[-1, 1]) * 2.8572 / 1500\n",
    "    chdspd.append([(0, 12, j), round(hd,1), 0.0])  # Bottom boundary\n",
    "chdspd = {0: chdspd}"
   ]
  },
  {
   "cell_type": "markdown",
   "metadata": {},
   "source": [
    "### Define parameters\n",
    "\n",
    "Define model units, spatial, and temporal discritization settings."
   ]
  },
  {
   "cell_type": "code",
   "execution_count": 112,
   "metadata": {},
   "outputs": [],
   "source": [
    "# Model units\n",
    "#length_units = \"meters\"\n",
    "#time_units = \"seconds\"\n",
    "\n",
    "# Model parameters\n",
    "#nlay = 1  # Number of layers\n",
    "#nrow = 18  # Number of rows\n",
    "#ncol = 14  # Number of columns\n",
    "#delr = 100.0  # Column width ($m$)\n",
    "#delc = 100.0  # Row width ($m$)\n",
    "#delz = 10.0  # Layer thickness ($m$)\n",
    "#top = 0.0  # Top of the model ($m$)\n",
    "#prsity = 0.3  # Porosity - array reader above\n",
    "k1 = 1.474e-4  # Horiz. hyd. conductivity of medium grain material ($m/sec$)\n",
    "k2 = 1.474e-7  # Horiz. hyd. conductivity of fine grain material ($m/sec$)\n",
    "inj = 0.001  # Injection well rate ($m^3/sec$)\n",
    "ext = -0.0189  # Extraction well pumping rate ($m^3/sec$)\n",
    "al = 20.0  # Longitudinal dispersivity ($m$)\n",
    "trpt = 0.2  # Ratio of horiz. transverse to longitudinal dispersivity ($m$)\n",
    "perlen = 2.0  # Simulation time ($years$)\n",
    "\n",
    "# Additional model input\n",
    "#hk = k1 * np.ones((nlay, nrow, ncol), dtype=float)\n",
    "#hk[:, 5:8, 1:8] = k2\n",
    "laytyp = icelltype = 0\n",
    "\n",
    "# Active model domain\n",
    "#ibound = np.ones((nlay, nrow, ncol), dtype=int)\n",
    "#ibound[0, 0, :] = -1\n",
    "#ibound[0, -1, :] = -1\n",
    "#idomain = np.ones((nlay, nrow, ncol), dtype=int)\n",
    "icbund = 1\n",
    "\n",
    "# Boundary conditions\n",
    "\n",
    "# Transport related\n",
    "sconc = 0.0\n",
    "ath1 = al * trpt\n",
    "dmcoef = 0.0  # m^2/s\n",
    "# Time variables\n",
    "perlen = [365.0 * 86400, 365.0 * 86400]\n",
    "steady = [False, False]\n",
    "nper = len(perlen)\n",
    "nstp = [365, 365]\n",
    "tsmult = [1.0, 1.0]\n",
    "#\n",
    "sconc = 0.0\n",
    "c0 = 0.0\n",
    "botm = [top - delz]\n",
    "mixelm = -1\n",
    "\n",
    "# Solver settings\n",
    "nouter, ninner = 100, 300\n",
    "hclose, rclose, relax = 1e-6, 1e-6, 1.0\n",
    "percel = 1.0  # HMOC parameters\n",
    "itrack = 2\n",
    "wd = 0.5\n",
    "dceps = 1.0e-5\n",
    "nplane = 0\n",
    "npl = 0\n",
    "nph = 16\n",
    "npmin = 2\n",
    "npmax = 32\n",
    "dchmoc = 1.0e-3\n",
    "nlsink = nplane\n",
    "npsink = nph\n",
    "nadvfd = 1"
   ]
  },
  {
   "cell_type": "markdown",
   "metadata": {},
   "source": [
    "The code block above loads variables and constants to define the actual model.  We will focus on how to conceptualize later on."
   ]
  },
  {
   "cell_type": "markdown",
   "metadata": {
    "lines_to_next_cell": 2
   },
   "source": [
    "## Model setup\n",
    "\n",
    "Define functions to build models, write input files, and run the simulation.\n",
    "\n",
    "**Groundwater Flow Package Build**"
   ]
  },
  {
   "cell_type": "code",
   "execution_count": 113,
   "metadata": {},
   "outputs": [],
   "source": [
    "# Workspace and Executibles\n",
    "binary = \"/home/sensei/ce-4363-webroot/ModflowExperimental/mf6-arm/mf6\"  # location on MY computer of the compiled modflow program\n",
    "workarea = \"/home/sensei/ce-4363-webroot/ModflowExperimental/mf6-arm/mf6-pr2\" # location on MY computer to store files this example (directory must already exist)\n",
    "#workarea = workspace # location on MY computer to store files this example (directory must already exist)\n",
    "\n",
    "# Set Simulation Name(s)\n",
    "name = \"mf6-pr2\"\n",
    "gwfname = \"gwf-\" + name\n",
    "gwtname = \"gwt-\" + name\n",
    "\n",
    "##### FLOPY Build simulation framework ####\n",
    "sim = flopy.mf6.MFSimulation(\n",
    "    sim_name=\"sim-\" + name, exe_name=binary, version=\"mf6\", sim_ws=workarea\n",
    ")\n",
    "####### CREATED \"/home/sensei/ce-4363-webroot/ModflowExperimental/mf6-arm/mt3d_example9\""
   ]
  },
  {
   "cell_type": "markdown",
   "metadata": {},
   "source": [
    "The code block above sets paths to the binary (in my case a compiled MODFLOW6 object located at `/home/sensei/ce-4363-webroot/ModflowExperimental/mf6-arm/`.   The binary was built using the `make` utility operating on the `makefile` contained in `~path_to_source/mf6.4.1_linux/make`"
   ]
  },
  {
   "cell_type": "code",
   "execution_count": 114,
   "metadata": {},
   "outputs": [],
   "source": [
    "####### Instantiating MODFLOW 6 time discretization ########\n",
    "tdis_rc = []\n",
    "for i in range(nper):\n",
    "    tdis_rc.append((perlen[i], nstp[i], tsmult[i]))\n",
    "flopy.mf6.ModflowTdis(sim, nper=nper, perioddata=tdis_rc, time_units=time_units);\n",
    "## delete \";\" in above line at end to show full output"
   ]
  },
  {
   "cell_type": "markdown",
   "metadata": {},
   "source": [
    "The code block above sets the time stepping structure.  Units are supplied in the model constants already created. `perlen` is a list of period length in time units of a stress period. , `nstp` is a list of the number of time steps per period, tsmult is a list of time step multipliers."
   ]
  },
  {
   "cell_type": "code",
   "execution_count": 115,
   "metadata": {},
   "outputs": [],
   "source": [
    "####### Instantiating MODFLOW 6 groundwater flow model ########\n",
    "# Set Model Name (using same base name as the simulation)\n",
    "model_nam_file = \"{}.nam\".format(gwfname)\n",
    "# create MODFLOW6 flow model framework\n",
    "gwf = flopy.mf6.ModflowGwf(sim, modelname=gwfname, save_flows=True, model_nam_file=model_nam_file);\n",
    "## delete \";\" in above line at end to show full output"
   ]
  },
  {
   "cell_type": "markdown",
   "metadata": {},
   "source": [
    "The code block above sets prefix of the flow model file names.  "
   ]
  },
  {
   "cell_type": "code",
   "execution_count": 116,
   "metadata": {},
   "outputs": [],
   "source": [
    "###### Instantiating MODFLOW 6 solver for flow model #######\n",
    "# Set Iterative Model Solution (choose solver parameters)\n",
    "# about IMS see: https://water.usgs.gov/nrp/gwsoftware/ModelMuse/Help/sms_sparse_matrix_solution_pac.htm\n",
    "# using defaults see: https://flopy.readthedocs.io/en/3.3.2/source/flopy.mf6.modflow.mfims.html\n",
    "imsgwf = flopy.mf6.ModflowIms(\n",
    "    sim,\n",
    "    print_option=\"SUMMARY\",\n",
    "    outer_dvclose=hclose,\n",
    "    outer_maximum=nouter,\n",
    "    under_relaxation=\"NONE\",\n",
    "    inner_maximum=ninner,\n",
    "    inner_dvclose=hclose,\n",
    "    rcloserecord=rclose,\n",
    "    linear_acceleration=\"CG\",\n",
    "    scaling_method=\"NONE\",\n",
    "    reordering_method=\"NONE\",\n",
    "    relaxation_factor=relax,\n",
    "    filename=f\"{gwfname}.ims\",\n",
    "    )\n",
    "sim.register_ims_package(imsgwf, [gwf.name]);\n",
    "## delete \";\" in above line at end to show full output"
   ]
  },
  {
   "cell_type": "markdown",
   "metadata": {},
   "source": [
    "The code block above sets the iteration and solver parameters.  URL to documents is included in the comments."
   ]
  },
  {
   "cell_type": "code",
   "execution_count": 117,
   "metadata": {},
   "outputs": [],
   "source": [
    "###### Instantiating MODFLOW 6 discretization package ######\n",
    "flopy.mf6.ModflowGwfdis(\n",
    "    gwf,\n",
    "    length_units=length_units,\n",
    "    nlay=nlay,\n",
    "    nrow=nrow,\n",
    "    ncol=ncol,\n",
    "    delr=delr,\n",
    "    delc=delc,\n",
    "    top=top,\n",
    "    botm=botm,\n",
    "    idomain=idomain,\n",
    "    filename=f\"{gwfname}.dis\",\n",
    "    );\n",
    "## delete \";\" in above line at end to show full output"
   ]
  },
  {
   "cell_type": "markdown",
   "metadata": {},
   "source": [
    "The code block above sets the spatial structure.  We must supply layers, rows, columns, and spacing between rows and columns (i.e. how big is a pixel).  Vertical spacing computed as \n",
    "\n",
    "$$\\Delta z = \\frac{\\text{top}-\\text{bottom}}{\\text{number of layers}}$$"
   ]
  },
  {
   "cell_type": "code",
   "execution_count": 118,
   "metadata": {},
   "outputs": [],
   "source": [
    "# Build MF6 constant head boundaries:\n",
    "xc = gwf.modelgrid.xcellcenters\n",
    "chdspd = []\n",
    "# Loop through the top & bottom sides.\n",
    "for j in range(1,ncol-1):\n",
    "#for j in np.arange(ncol):\n",
    "#               l,  r, c,  head, conc\n",
    "    chdspd.append([(0, 1, j), 600.0, 0.0])  # Top boundary\n",
    "    hd = 520.0 + (xc[-1, j] - xc[-1, 1]) * 2.8572 / 1500\n",
    "    chdspd.append([(0, 12, j), round(hd,1), 0.0])  # Bottom boundary\n",
    "chdspd = {0: chdspd}"
   ]
  },
  {
   "cell_type": "code",
   "execution_count": 119,
   "metadata": {},
   "outputs": [],
   "source": [
    "###### Instantiating MODFLOW 6 initial conditions package for flow model #######\n",
    "flopy.mf6.ModflowGwfic(gwf, strt=strt, filename=f\"{gwfname}.ic\");\n",
    "## delete \";\" in above line at end to show full output"
   ]
  },
  {
   "cell_type": "markdown",
   "metadata": {},
   "source": [
    "The code block above sets the initial conditions. The top row in this example is set to 250, the bottom row from 20 to 52.5 in steps of 2.5.  If there are other starting conditions either write code or read from a file, or hard-code the constants as needed."
   ]
  },
  {
   "cell_type": "code",
   "execution_count": 120,
   "metadata": {},
   "outputs": [],
   "source": [
    "# Instantiating MODFLOW 6 node-property flow package\n",
    "flopy.mf6.ModflowGwfnpf(\n",
    "    gwf,\n",
    "    save_flows=False,\n",
    "    icelltype=icelltype,\n",
    "    k=hk,\n",
    "    k33=hk,\n",
    "    save_specific_discharge=True,\n",
    "    filename=f\"{gwfname}.npf\",\n",
    "    );\n",
    "## delete \";\" in above line at end to show full output"
   ]
  },
  {
   "cell_type": "markdown",
   "metadata": {},
   "source": [
    "The code block above sets the node-property data (its like the old BCF package).  Here we supply that we want to save sp. discharge (needed for transport), the k, and k33 values the same implies NOT unconfined sustem."
   ]
  },
  {
   "cell_type": "code",
   "execution_count": 121,
   "metadata": {},
   "outputs": [],
   "source": [
    "# Define the Storage package (sto) with the ss array\n",
    "#sto = flopy.mf6.ModflowGwfsto(gwf, ss=1.0e-05)\n",
    "sto = flopy.mf6.ModflowGwfsto(gwf, ss=ss_array);\n",
    "## delete \";\" in above line at end to show full output"
   ]
  },
  {
   "cell_type": "markdown",
   "metadata": {},
   "source": [
    "The code block above sets the storage properties for transient simulations."
   ]
  },
  {
   "cell_type": "code",
   "execution_count": 122,
   "metadata": {},
   "outputs": [],
   "source": [
    "# Instantiating MODFLOW 6 constant head package\n",
    "\n",
    "flopy.mf6.ModflowGwfchd(\n",
    "    gwf,\n",
    "    maxbound=len(chdspd),\n",
    "    stress_period_data=chdspd,\n",
    "    save_flows=False,\n",
    "    auxiliary=\"CONCENTRATION\",\n",
    "    pname=\"CHD-1\",\n",
    "    filename=f\"{gwfname}.chd\",\n",
    "    );\n",
    "## delete \";\" in above line at end to show full output"
   ]
  },
  {
   "cell_type": "markdown",
   "metadata": {},
   "source": [
    "The code block above sets the constant head boundary conditions."
   ]
  },
  {
   "cell_type": "code",
   "execution_count": 123,
   "metadata": {},
   "outputs": [],
   "source": [
    "# Instantiate the wel package\n",
    "flopy.mf6.ModflowGwfwel(\n",
    "    gwf,\n",
    "    print_input=True,\n",
    "    print_flows=True,\n",
    "    stress_period_data=spd_mf6,\n",
    "    save_flows=False,\n",
    "    auxiliary=\"CONCENTRATION\",\n",
    "    pname=\"WEL-1\",\n",
    "    filename=f\"{gwfname}.wel\",\n",
    "    );\n",
    "## delete \";\" in above line at end to show full output"
   ]
  },
  {
   "cell_type": "markdown",
   "metadata": {},
   "source": [
    "The code block above sets activates the well paclage"
   ]
  },
  {
   "cell_type": "code",
   "execution_count": 124,
   "metadata": {},
   "outputs": [],
   "source": [
    "# Instantiating MODFLOW 6 output control package for flow model\n",
    "flopy.mf6.ModflowGwfoc(\n",
    "    gwf,\n",
    "    head_filerecord=f\"{gwfname}.hds\",\n",
    "    budget_filerecord=f\"{gwfname}.bud\",\n",
    "    headprintrecord=[(\"COLUMNS\", 10, \"WIDTH\", 15, \"DIGITS\", 6, \"GENERAL\")],\n",
    "    saverecord=[(\"HEAD\", \"LAST\"), (\"BUDGET\", \"LAST\")],\n",
    "    printrecord=[(\"HEAD\", \"LAST\"), (\"BUDGET\", \"LAST\")],\n",
    "    );\n",
    "## delete \";\" in above line at end to show full output"
   ]
  },
  {
   "cell_type": "markdown",
   "metadata": {},
   "source": [
    "The code block above defines parts of output control."
   ]
  },
  {
   "cell_type": "markdown",
   "metadata": {},
   "source": [
    "\n",
    "\n",
    "**Transport Package Building**"
   ]
  },
  {
   "cell_type": "code",
   "execution_count": 125,
   "metadata": {},
   "outputs": [],
   "source": [
    "###### Instantiating MODFLOW 6 groundwater transport package ##########\n",
    "gwtname = \"gwt-\" + name\n",
    "gwt = flopy.mf6.MFModel(\n",
    "    sim,\n",
    "    model_type=\"gwt6\",\n",
    "    modelname=gwtname,\n",
    "    model_nam_file=f\"{gwtname}.nam\",\n",
    "    )#;\n",
    "## delete \";\" in above line at end to show full output\n",
    "gwt.name_file.save_flows = True"
   ]
  },
  {
   "cell_type": "markdown",
   "metadata": {},
   "source": [
    "The code block above sets prefix of the transport model file names.  "
   ]
  },
  {
   "cell_type": "code",
   "execution_count": 126,
   "metadata": {},
   "outputs": [],
   "source": [
    "# create iterative model solution and register the gwt model with it\n",
    "imsgwt = flopy.mf6.ModflowIms(\n",
    "    sim,\n",
    "    print_option=\"SUMMARY\",\n",
    "    outer_dvclose=hclose,\n",
    "    outer_maximum=nouter,\n",
    "    under_relaxation=\"NONE\",\n",
    "    inner_maximum=ninner,\n",
    "    inner_dvclose=hclose,\n",
    "    rcloserecord=rclose,\n",
    "    linear_acceleration=\"BICGSTAB\",\n",
    "    scaling_method=\"NONE\",\n",
    "    reordering_method=\"NONE\",\n",
    "    relaxation_factor=relax,\n",
    "    filename=f\"{gwtname}.ims\",\n",
    "    )\n",
    "sim.register_ims_package(imsgwt, [gwt.name]);\n",
    "## delete \";\" in above line at end to show full output"
   ]
  },
  {
   "cell_type": "markdown",
   "metadata": {},
   "source": [
    "The code block above sets the iteration and solver parameters.  "
   ]
  },
  {
   "cell_type": "code",
   "execution_count": 127,
   "metadata": {},
   "outputs": [],
   "source": [
    "###### Instantiating MODFLOW 6 transport discretization package #####\n",
    "flopy.mf6.ModflowGwtdis(\n",
    "    gwt,\n",
    "    nlay=nlay,\n",
    "    nrow=nrow,\n",
    "    ncol=ncol,\n",
    "    delr=delr,\n",
    "    delc=delc,\n",
    "    top=top,\n",
    "    botm=botm,\n",
    "    idomain=idomain,\n",
    "    filename=f\"{gwtname}.dis\",\n",
    "    );\n",
    "## delete \";\" in above line at end to show full output"
   ]
  },
  {
   "cell_type": "markdown",
   "metadata": {},
   "source": [
    "The code block above sets the spatial structure.  We must supply layers, rows, columns, and spacing between rows and columns (i.e. how big is a pixel).  Vertical spacing computed as \n",
    "\n",
    "$$\\Delta z = \\frac{\\text{top}-\\text{bottom}}{\\text{number of layers}}$$\n",
    "\n",
    "Typically will be same as flow model."
   ]
  },
  {
   "cell_type": "code",
   "execution_count": 128,
   "metadata": {},
   "outputs": [],
   "source": [
    "# Instantiating MODFLOW 6 transport initial concentrations\n",
    "flopy.mf6.ModflowGwtic(gwt, strt=sconc, filename=f\"{gwtname}.ic\");\n",
    "## delete \";\" in above line at end to show full output"
   ]
  },
  {
   "cell_type": "markdown",
   "metadata": {},
   "source": [
    "Initial conditions (concentration) for transport."
   ]
  },
  {
   "cell_type": "code",
   "execution_count": 129,
   "metadata": {},
   "outputs": [],
   "source": [
    "    # Instantiating MODFLOW 6 transport advection package\n",
    "    if mixelm >= 0:\n",
    "        scheme = \"UPSTREAM\"\n",
    "    elif mixelm == -1:\n",
    "        scheme = \"TVD\"\n",
    "    else:\n",
    "        raise Exception()\n",
    "    flopy.mf6.ModflowGwtadv(gwt, scheme=scheme, filename=f\"{gwtname}.adv\");\n",
    "## delete \";\" in above line at end to show full output"
   ]
  },
  {
   "cell_type": "markdown",
   "metadata": {},
   "source": [
    "Advective transport methods.  In this example upwind formulation with Total Variation Diminishing (TVD) flux limiters. A TVD formulation is a numerical method designed to ensure that the computed solution to a transport equation does not exhibit non-physical oscillations or spurious oscillations, particularly near discontinuities or steep gradients. This flux limitation is crucial for maintaining the accuracy and stability of the numerical solution in simulations involving advective transport, such as contaminant transport in groundwater models.\n",
    "\n",
    "Key points about TVD formulations:\n",
    "\n",
    "- Purpose: TVD methods aim to prevent the introduction of oscillations or artifacts in the numerical solution that can arise from the discretization of the transport equation, especially in regions with sharp gradients or discontinuities.\n",
    "\n",
    "- Techniques: TVD schemes use various strategies to achieve this, including modifying the standard discretization approaches, using flux limiters, or applying specific numerical flux functions that ensure the total variation of the solution is not increased.\n",
    "\n",
    "- Applications: TVD methods are commonly used in computational fluid dynamics, meteorology, and environmental modeling where accurate representation of transport processes is essential. In groundwater modeling, TVD formulations help to ensure realistic simulation of contaminant transport and avoid numerical artifacts that could lead to incorrect predictions.\n",
    "\n",
    "- Examples: Common TVD schemes include the TVD Runge-Kutta methods, TVD Lax-Wendroff schemes, and various other high-resolution schemes that incorporate flux limiters or other modifications to ensure total variation diminishing properties."
   ]
  },
  {
   "cell_type": "code",
   "execution_count": 130,
   "metadata": {},
   "outputs": [
    {
     "ename": "SyntaxError",
     "evalue": "invalid syntax (<ipython-input-130-8660812e5d6e>, line 9)",
     "output_type": "error",
     "traceback": [
      "\u001b[0;36m  File \u001b[0;32m\"<ipython-input-130-8660812e5d6e>\"\u001b[0;36m, line \u001b[0;32m9\u001b[0m\n\u001b[0;31m    filename=f\"{gwtname}.dsp\",\u001b[0m\n\u001b[0m    ^\u001b[0m\n\u001b[0;31mSyntaxError\u001b[0m\u001b[0;31m:\u001b[0m invalid syntax\n"
     ]
    }
   ],
   "source": [
    "# Instantiating MODFLOW 6 transport dispersion package\n",
    "if al != 0:\n",
    "    flopy.mf6.ModflowGwtdsp(\n",
    "        gwt,\n",
    "        #alh=al, # longitudinal\n",
    "        alh = displ_array,\n",
    "        #ath1=ath1, # transverse\n",
    "        ath1 = dispt_array,\n",
    "        filename=f\"{gwtname}.dsp\",\n",
    "        );\n",
    "## delete \";\" in above line at end to show full output"
   ]
  },
  {
   "cell_type": "markdown",
   "metadata": {},
   "source": [
    "This code iniatiates the dispersion method with Longitudinal dispersivity  $a_l = 20.0~m$ and the ratio of horizontal transverse to longitudinal dispersivity $trpt = 0.2$  In the above script $a_t = trpt \\times a_l$"
   ]
  },
  {
   "cell_type": "code",
   "execution_count": null,
   "metadata": {},
   "outputs": [],
   "source": [
    "# Instantiating MODFLOW 6 transport mass storage package\n",
    "flopy.mf6.ModflowGwtmst(\n",
    "    gwt,\n",
    "    porosity=pors_array,\n",
    "##    porosity=prsity,\n",
    "    first_order_decay=False,\n",
    "    decay=None,\n",
    "    decay_sorbed=None,\n",
    "    sorption=None,\n",
    "    bulk_density=None,\n",
    "    distcoef=None,\n",
    "    filename=f\"{gwtname}.mst\",\n",
    "    );\n",
    "## delete \";\" in above line at end to show full output"
   ]
  },
  {
   "cell_type": "markdown",
   "metadata": {},
   "source": [
    "Code block sets adsorbtion/desorbtion and 1st order decay terms if any."
   ]
  },
  {
   "cell_type": "code",
   "execution_count": null,
   "metadata": {},
   "outputs": [],
   "source": [
    "# Instantiating MODFLOW 6 transport source-sink mixing package\n",
    "sourcerecarray = [\n",
    "    (\"WEL-1\", \"AUX\", \"CONCENTRATION\"),\n",
    "    (\"CHD-1\", \"AUX\", \"CONCENTRATION\"),\n",
    "    ]\n",
    "flopy.mf6.ModflowGwtssm(\n",
    "    gwt,\n",
    "    sources=sourcerecarray,\n",
    "    print_flows=True,\n",
    "    filename=f\"{gwtname}.ssm\",\n",
    "    );\n",
    "## delete \";\" in above line at end to show full output"
   ]
  },
  {
   "cell_type": "markdown",
   "metadata": {},
   "source": [
    "Code above manages source/sink mixing terms."
   ]
  },
  {
   "cell_type": "code",
   "execution_count": null,
   "metadata": {},
   "outputs": [],
   "source": [
    "# Instantiating MODFLOW 6 transport output control package\n",
    "flopy.mf6.ModflowGwtoc(\n",
    "    gwt,\n",
    "    budget_filerecord=f\"{gwtname}.cbc\",\n",
    "    concentration_filerecord=f\"{gwtname}.ucn\",\n",
    "    concentrationprintrecord=[(\"COLUMNS\", 10, \"WIDTH\", 15, \"DIGITS\", 6, \"GENERAL\")],\n",
    "    saverecord=[(\"CONCENTRATION\", \"LAST\"), (\"BUDGET\", \"LAST\")],\n",
    "    printrecord=[(\"CONCENTRATION\", \"LAST\"), (\"BUDGET\", \"LAST\")],\n",
    "    filename=f\"{gwtname}.oc\",\n",
    "    );\n",
    "## delete \";\" in above line at end to show full output"
   ]
  },
  {
   "cell_type": "markdown",
   "metadata": {},
   "source": [
    "Output control for transport"
   ]
  },
  {
   "cell_type": "code",
   "execution_count": null,
   "metadata": {},
   "outputs": [],
   "source": [
    "# Instantiating MODFLOW 6 flow-transport exchange mechanism\n",
    "flopy.mf6.ModflowGwfgwt(\n",
    "    sim,\n",
    "    exgtype=\"GWF6-GWT6\",\n",
    "    exgmnamea=gwfname,\n",
    "    exgmnameb=gwtname,\n",
    "    filename=f\"{name}.gwfgwt\",\n",
    "    );\n",
    "## delete \";\" in above line at end to show full output"
   ]
  },
  {
   "cell_type": "markdown",
   "metadata": {},
   "source": [
    "Code above manages how flow (gwf) and transport (gwt) exchange information at each time step."
   ]
  },
  {
   "cell_type": "markdown",
   "metadata": {},
   "source": [
    "**Generate the Files**"
   ]
  },
  {
   "cell_type": "code",
   "execution_count": null,
   "metadata": {},
   "outputs": [],
   "source": [
    "sim.write_simulation(silent=True)"
   ]
  },
  {
   "cell_type": "markdown",
   "metadata": {},
   "source": [
    "**Running the Model** "
   ]
  },
  {
   "cell_type": "code",
   "execution_count": null,
   "metadata": {},
   "outputs": [],
   "source": [
    "#success, buff = sim.run_simulation(silent=False, report=True)#Verbose output\n",
    "success, buff = sim.run_simulation(silent=True, report=True)#Suppress output\n",
    "assert success, pformat(buff)"
   ]
  },
  {
   "cell_type": "markdown",
   "metadata": {},
   "source": [
    "### Plotting results\n",
    "\n",
    "Plotting model results.\n",
    "\n",
    ":::{note}\n",
    "A lot of reverse engineering to produce plots; am positive this is not the best way to make the plots, but was using the original example link as a go-by.\n",
    ":::"
   ]
  },
  {
   "cell_type": "code",
   "execution_count": null,
   "metadata": {},
   "outputs": [],
   "source": [
    "import copy\n",
    "import matplotlib as mpl\n",
    "# Figure properties\n",
    "figure_size = (7, 5)\n",
    "# Get the MF6 concentration output\n",
    "gwt = sim.get_model(list(sim.model_names)[1])\n",
    "ucnobj_mf6 = gwt.output.concentration()\n",
    "conc_mf6 = ucnobj_mf6.get_alldata()\n",
    "\n",
    "\n",
    "# Create figure for scenario\n",
    "with styles.USGSPlot() as fs:\n",
    "    sim_name = sim.name\n",
    "    plt.rcParams[\"lines.dashed_pattern\"] = [5.0, 5.0]\n",
    "    levels = np.arange(0.2, 10, 0.4)\n",
    "    stp_idx = 0  # 0-based (out of 2 possible stress periods)\n",
    "# Plot after 8 years\n",
    "    axWasNone = False\n",
    "#    if ax is None:\n",
    "    fig = plt.figure(figsize=figure_size, dpi=300, tight_layout=True)\n",
    "    axWasNone = True\n",
    "    ax = fig.add_subplot(1, 2, 1, aspect=\"equal\")\n",
    "    cflood = np.ma.masked_less_equal(conc_mf6[stp_idx], 0.2)\n",
    "    mm = flopy.plot.PlotMapView(ax=ax, model=gwf)\n",
    "    cmap = copy.copy(mpl.cm.get_cmap(\"RdYlGn_r\"))\n",
    "    #cmap = plt.get_cmap('RdYlGn_r')\n",
    "    cmap.set_bad(color='none')\n",
    "    colors = ['saddlebrown', 'goldenrod']\n",
    "    cmap = ListedColormap(colors)\n",
    "    #mm.plot_array(hk, masked_values=[hk[0, 0, 0]], alpha=0.8, cmap = cmap)\n",
    "    mm.plot_array(hk, alpha=0.5, cmap = cmap)\n",
    "    mm.plot_ibound()\n",
    "    mm.plot_grid(color=\".5\", alpha=0.2)\n",
    "    cmap = copy.copy(mpl.cm.get_cmap(\"RdYlGn_r\"))\n",
    "    #cmap = plt.get_cmap('RdYlGn_r')\n",
    "    cmap.set_bad(color='none')\n",
    "    cs = mm.plot_array(cflood[0],  alpha=1.0, vmin=0, vmax=1000, cmap = cmap)\n",
    "# Add a colorbar to the plot\n",
    "    cbar = plt.colorbar(cs, orientation='horizontal')  # Use orientation='horizontal' if preferred\n",
    "    cbar.set_label('Concentration (ppm)')  # Replace with appropriate label for your data\n",
    "    cs = mm.contour_array(conc_mf6[stp_idx], colors=\"k\", levels=levels, linewidths=0.5)\n",
    "    plt.clabel(cs, fmt='%.2f')\n",
    "    plt.xlabel(\"Distance Along X-Axis, in meters\")\n",
    "    plt.ylabel(\"Distance Along Y-Axis, in meters\")\n",
    "\n",
    "    title = \"MF6 - End of Stress Period \" + str(stp_idx + 1)\n",
    "# set idx\n",
    "    idx = 0\n",
    "    letter = chr(ord(\"@\") + idx + 1)\n",
    "    styles.heading(letter=letter, heading=title)\n",
    "    \n",
    "# second stress period\n",
    "    stp_idx = 1  # 0-based (out of 2 possible stress periods)\n",
    "    if axWasNone:\n",
    "        ax = fig.add_subplot(1, 2, 2, aspect=\"equal\",label = \"subplot2\")\n",
    "    cflood = np.ma.masked_less_equal(conc_mf6[stp_idx], 0.2)\n",
    "    mm = flopy.plot.PlotMapView(ax=ax, model=gwf)\n",
    "    colors = ['saddlebrown', 'goldenrod']\n",
    "    cmap = ListedColormap(colors)\n",
    "    #mm.plot_array(hk, masked_values=[hk[0, 0, 0]], alpha=0.8, cmap = cmap)\n",
    "    mm.plot_array(hk, alpha=0.5, cmap = cmap)\n",
    "    mm.plot_ibound()\n",
    "    mm.plot_grid(color=\".5\", alpha=0.2)\n",
    "    cmap = copy.copy(mpl.cm.get_cmap(\"RdYlGn_r\"))\n",
    "    #cmap = plt.get_cmap('RdYlGn_r')\n",
    "    cmap.set_bad(color='none')\n",
    "    cs = mm.plot_array(cflood[0], alpha=1.0, vmin=0, vmax=1000, cmap = cmap)\n",
    "# Add a colorbar to the plot\n",
    "    cbar = plt.colorbar(cs, orientation='horizontal')  # Use orientation='horizontal' if preferred\n",
    "    cbar.set_label('Concentration (ppm)')  # Replace with appropriate label for your data\n",
    "    cs = mm.contour_array(conc_mf6[stp_idx], colors=\"k\", levels=levels, linewidths=0.5)\n",
    "    plt.clabel(cs, fmt='%.2f')\n",
    "    plt.xlabel(\"Distance Along X-Axis, in meters\")\n",
    "    plt.ylabel(\"Distance Along Y-Axis, in meters\")\n",
    "\n",
    "    title = \"MF6 - End of Stress Period \" + str(stp_idx + 1)\n",
    "# set idx\n",
    "    idx = 1\n",
    "    letter = chr(ord(\"@\") + idx + 1)\n",
    "    styles.heading(letter=letter, heading=title)"
   ]
  },
  {
   "cell_type": "markdown",
   "metadata": {},
   "source": [
    "In the figures above, the brown rectangle contained within the goldenrod rectangle represent two different horizontal hydraulic conductivities. The goldenrod color represents the conductivity of a medium grain material, $K_1 = 1.474\\times 10^{-4}~\\frac{m}{sec}$. The brown color represents theconductivity of a fine grain material, $K_2 = 1.474 \\times 10^{-7}~\\frac{m}{sec}$.\n",
    "\n",
    "The plume \"color map\" is overlain on the material property map, and is set to opaque (not transparent).  The color ramp is and inverted GreenYellowRed.  High values render as red, lowest as green."
   ]
  },
  {
   "cell_type": "markdown",
   "metadata": {},
   "source": [
    "## Conclusions\n",
    "\n",
    "Reverse engineered enough to be able to model reasonably complex situations.  The reader should experiment how to get specific discharge out of the model and plot as a \"arrow plot\" to show flow directions. "
   ]
  },
  {
   "cell_type": "code",
   "execution_count": null,
   "metadata": {},
   "outputs": [],
   "source": []
  }
 ],
 "metadata": {
  "kernelspec": {
   "display_name": "Python 3",
   "language": "python",
   "name": "python3"
  },
  "language_info": {
   "codemirror_mode": {
    "name": "ipython",
    "version": 3
   },
   "file_extension": ".py",
   "mimetype": "text/x-python",
   "name": "python",
   "nbconvert_exporter": "python",
   "pygments_lexer": "ipython3",
   "version": "3.8.10"
  }
 },
 "nbformat": 4,
 "nbformat_minor": 4
}
