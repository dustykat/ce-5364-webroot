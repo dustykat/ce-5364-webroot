{
 "cells": [
  {
   "cell_type": "markdown",
   "metadata": {},
   "source": [
    "# <font color=darkblue>CE 5364 Groundwater Transport Phenemona <br> Fall 2023 Exercise Set 4</font>\n",
    "\n",
    "**LAST NAME, FIRST NAME**\n",
    "\n",
    "**R00000000**\n",
    "\n",
    "<hr>\n",
    "\n",
    "### Purpose : \n",
    "Reactive transport concepts and application of isotherms to estimate retardation\n",
    " \n",
    "### Assessment Criteria : \n",
    "Completion, results plausible, format correct, example calculations shown.  \n"
   ]
  },
  {
   "cell_type": "markdown",
   "metadata": {},
   "source": [
    "<hr><hr>\n",
    "\n",
    "## Problem 1 ()\n",
    "\n",
    "A batch isotherm test was performed with several 1-L solutions of the chemical of interest and one soil type, 20 g in each solution container.  The initial and final solution concentrations are shown in the table.  Fit the linear, Freundlich, and Langmuir isotherm equations to this data.  \n",
    "\n",
    "Determine:\n",
    "\n",
    "1. The Linear isotherm equation for these data (i.e. fit the isotherm model to the data), plot the isotherm and data\n",
    "2. The Freundlich isotherm equation for these data, plot the isotherm and data\n",
    "3. The Langmuir isotherm equation for these data, plot the isotherm and data\n",
    "4. Which looks best?\n",
    "\n",
    "Show calculations and identify all fitted parameter values."
   ]
  },
  {
   "cell_type": "code",
   "execution_count": 1,
   "metadata": {},
   "outputs": [],
   "source": [
    "# Enter your solution below, or attach separate sheet(s) with your solution.\n",
    "\n"
   ]
  },
  {
   "cell_type": "markdown",
   "metadata": {},
   "source": [
    "<hr><hr>\n",
    "\n",
    "## Problem 2 ()\n",
    "\n",
    "A well with effective diameter of 0.5 m fully penetrates an aquifer that has a uniform saturated thickness of 10 m.  One hundred grams of benzene are spilled into the well, immediately dissolve, and mix into the water in the well. The seepage velocity is 30 m/yr in the x-direction, the longitudinal dispersivity is 1.0 m, and the transverse dispersivity is 0.1 m.\n",
    "The aquifer has the following characteristics: \n",
    "\n",
    "- Bulk density = 1.8 g/cc\n",
    "- porosity = 0.30\n",
    "- foc =  1 percent\n",
    "- Kow = 135 L/kg\n",
    "\n",
    "Determine:\n",
    "\n",
    "1. The retardation factor R for benzene in this aquifer.  \n",
    "2. The maximum benzene concentration at t = 1 yr.  \n",
    "3. The location of this maximum.\n"
   ]
  },
  {
   "cell_type": "code",
   "execution_count": 2,
   "metadata": {},
   "outputs": [],
   "source": [
    "# Enter your solution below, or attach separate sheet(s) with your solution.\n",
    "\n"
   ]
  },
  {
   "cell_type": "markdown",
   "metadata": {},
   "source": [
    "<hr><hr> \n",
    "\n",
    "## Problem 3 ()\n",
    "\n",
    "The following data for concentration of TCE were taken at a single monitoring well.  Use the Mann-Kendall test to determine whether the concentration has an upward or downward trend.\n",
    "\n",
    "\n",
    "|Date|TCE (ppb)|\n",
    "|:---|:---|\n",
    "|9/92|8|\n",
    "|12/92|19|\n",
    "|3/93|21|\n",
    "|6/93|13|\n",
    "|9/93|39|\n",
    "|12/93|24|\n",
    "|3/94|28|\n",
    "|6/94|25|\n",
    "\n",
    "\n",
    "Determine:\n",
    "1. The upward or downward concentration trend, using a Mann-Kendall test.\n"
   ]
  },
  {
   "cell_type": "code",
   "execution_count": 3,
   "metadata": {},
   "outputs": [],
   "source": [
    "# Enter your solution below, or attach separate sheet(s) with your solution.\n",
    "\n"
   ]
  },
  {
   "cell_type": "code",
   "execution_count": null,
   "metadata": {},
   "outputs": [],
   "source": []
  }
 ],
 "metadata": {
  "kernelspec": {
   "display_name": "Python 3",
   "language": "python",
   "name": "python3"
  },
  "language_info": {
   "codemirror_mode": {
    "name": "ipython",
    "version": 3
   },
   "file_extension": ".py",
   "mimetype": "text/x-python",
   "name": "python",
   "nbconvert_exporter": "python",
   "pygments_lexer": "ipython3",
   "version": "3.8.10"
  }
 },
 "nbformat": 4,
 "nbformat_minor": 4
}
