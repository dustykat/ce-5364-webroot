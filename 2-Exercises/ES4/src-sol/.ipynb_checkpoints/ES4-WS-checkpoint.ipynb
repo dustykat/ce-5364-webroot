{
 "cells": [
  {
   "cell_type": "markdown",
   "metadata": {},
   "source": [
    "# <font color=darkblue>CE 5364 Groundwater Transport Phenemona <br> Fall 2023 Exercise Set 4</font>\n",
    "\n",
    "**LAST NAME, FIRST NAME**\n",
    "\n",
    "**R00000000**\n",
    "\n",
    "<hr>\n",
    "\n",
    "### Purpose : \n",
    "Reactive transport concepts and application of isotherms to estimate retardation\n",
    " \n",
    "### Assessment Criteria : \n",
    "Completion, results plausible, format correct, example calculations shown.  \n"
   ]
  },
  {
   "cell_type": "markdown",
   "metadata": {},
   "source": [
    "<hr><hr>\n",
    "\n",
    "## Problem 1 \n",
    "\n",
    "A fuel mixture of benzene, toluene, ethylbenzene at mole fractions 0.075, 0.065, and 0.035 respectively equilibrates with the atmosphere at 25$^oC$\n",
    "\n",
    "![](Fig4-13.png) ![](Tab7-1.png)\n",
    "\n",
    "Determine:\n",
    "1. Concentration in the gas (air) phase of the three components in $\\frac{mg}{L}$\n",
    "2. Concentration in the gas (air) phase of the three components in $\\frac{\\mu g}{m^3}$"
   ]
  },
  {
   "cell_type": "markdown",
   "metadata": {},
   "source": [
    "## Use Gas Law\n",
    "\n",
    "Gas law \n",
    "\n",
    "$$ pV = \\frac{m}{M}RT$$\n",
    "\n",
    "put in mass into numerator\n",
    "\n",
    "$$ \\frac{m}{pV} = \\frac{m}{\\frac{m}{M}RT}$$\n",
    "\n",
    "recall $\\frac{m}{M}$ is the number of moles, or mole fraction.  $p$ is partial pressure of indicated species. Apply some algebra\n",
    "\n",
    "$$ \\frac{m}{V} = \\frac{p \\cdot m}{\\frac{m}{M}RT}$$  \n",
    "\n",
    "a bit more algebra\n",
    "\n",
    "$$ \\frac{m}{V} = \\frac{p \\cdot M}{RT}$$ \n",
    "\n",
    "So other than unit conversions, the above formula should return desired concentrations in gas phase.\n"
   ]
  },
  {
   "cell_type": "code",
   "execution_count": 119,
   "metadata": {},
   "outputs": [
    {
     "name": "stdout",
     "output_type": "stream",
     "text": [
      "Benzene partial pressure in gas phase :  4.5 mmHg\n",
      "Toluene partial pressure in gas phase :  1.43 mmHg\n",
      "Ethylbenzene partial pressure in gas phase :  0.245 mmHg\n",
      "Benzene conc. in gas phase  18.904  mg/L \n",
      "Toluene conc. in gas phase  7.083  mg/L \n",
      "Ethylbenzene conc. in gas phase  1.406  mg/L \n"
     ]
    }
   ],
   "source": [
    "R = 0.0821 # L-atm/K-mol\n",
    "Temp = 298 # K\n",
    "\n",
    "benzene_mole_fraction = 0.075 #molFraction\n",
    "toluene_mole_fraction = 0.065\n",
    "ethylbenzene_mole_fraction = 0.035\n",
    "\n",
    "benzene_vapor_press = 60 #mmHg from Table 7.1\n",
    "toluene_vapor_press = 22\n",
    "ethylbenzene_vapor_press = 7\n",
    "\n",
    "mw_benzene = 78.11 #g/mol from Figure 4.13\n",
    "mw_toluene = 92.1\n",
    "mw_ethylbenzene = 106.7\n",
    "\n",
    "benzene_mixture_pressure = benzene_mole_fraction*benzene_vapor_press\n",
    "toluene_mixture_pressure = toluene_mole_fraction*toluene_vapor_press\n",
    "ethylbenzene_mixture_pressure = ethylbenzene_mole_fraction*ethylbenzene_vapor_press\n",
    "\n",
    "print(\"Benzene partial pressure in gas phase : \",round(benzene_mixture_pressure,3), \"mmHg\")\n",
    "print(\"Toluene partial pressure in gas phase : \",round(toluene_mixture_pressure,3), \"mmHg\")\n",
    "print(\"Ethylbenzene partial pressure in gas phase : \",round(ethylbenzene_mixture_pressure,3), \"mmHg\")\n",
    "\n",
    "#pressure to atmospheres,g to milligrams\n",
    "benzene_mixture_conc = 1000*mw_benzene*(benzene_mixture_pressure/760)/(R*Temp)\n",
    "toluene_mixture_conc = 1000*mw_toluene*(toluene_mixture_pressure/760)/(R*Temp)\n",
    "ethylbenzene_mixture_conc = 1000*mw_ethylbenzene*(ethylbenzene_mixture_pressure/760)/(R*Temp)\n",
    "\n",
    "\n",
    "print(\"Benzene conc. in gas phase \",round(benzene_mixture_conc,3),\" mg/L \")\n",
    "print(\"Toluene conc. in gas phase \",round(toluene_mixture_conc,3),\" mg/L \")\n",
    "print(\"Ethylbenzene conc. in gas phase \",round(ethylbenzene_mixture_conc,3),\" mg/L \")"
   ]
  },
  {
   "cell_type": "markdown",
   "metadata": {},
   "source": [
    "Convert to micrograms/m^3\n",
    "\n",
    "$$\\frac{mg}{L} \\times \\frac{1000~\\mu g}{mg} \\times \\frac{1000~L}{m^3} = \\frac{\\mu g}{m^3}$$"
   ]
  },
  {
   "cell_type": "code",
   "execution_count": 120,
   "metadata": {},
   "outputs": [
    {
     "name": "stdout",
     "output_type": "stream",
     "text": [
      "Benzene conc. in gas phase  18903670.473  ug/m^3 \n",
      "Toluene conc. in gas phase  7083088.272  ug/m^3 \n",
      "Ethylbenzene conc. in gas phase  1405909.904  ug/m^3 \n"
     ]
    }
   ],
   "source": [
    "print(\"Benzene conc. in gas phase \",round(1000*1000*benzene_mixture_conc,3),\" ug/m^3 \")\n",
    "print(\"Toluene conc. in gas phase \",round(1000*1000*toluene_mixture_conc,3),\" ug/m^3 \")\n",
    "print(\"Ethylbenzene conc. in gas phase \",round(1000*1000*ethylbenzene_mixture_conc,3),\" ug/m^3 \")"
   ]
  },
  {
   "cell_type": "markdown",
   "metadata": {},
   "source": [
    "<hr><hr>\n",
    "\n",
    "## Problem 2 (Modified from 6.22 pg. 592)\n",
    "\n",
    "A well with effective diameter of 0.5 m fully penetrates an aquifer that has a uniform saturated thickness of 10 m.  One hundred grams of benzene are spilled into the well, immediately dissolve, and mix into the water in the well. The seepage velocity is 30 m/yr in the x-direction, the longitudinal dispersivity is 1.0 m, and the transverse dispersivity is 0.1 m.\n",
    "The aquifer has the following characteristics: \n",
    "\n",
    "- Bulk density = 1.8 g/cc\n",
    "- porosity = 0.30\n",
    "- $f_{oc}$ =  1 percent\n",
    "- $K_{ow}$ = 135 L/kg\n",
    "\n",
    "Determine:\n",
    "\n",
    "1. The retardation factor R for benzene in this aquifer.  \n",
    "2. The maximum benzene concentration at t = 1 yr.  \n",
    "3. The location of this maximum.\n"
   ]
  },
  {
   "cell_type": "code",
   "execution_count": 121,
   "metadata": {},
   "outputs": [],
   "source": [
    "# Enter your solution below, or attach separate sheet(s) with your solution."
   ]
  },
  {
   "cell_type": "markdown",
   "metadata": {},
   "source": [
    "**Retardation Definition**\n",
    "\n",
    "$1 + \\frac{\\rho_b}{n} K_d = R$\n",
    "\n",
    "**$K_d$ Definition for Benzene**\n",
    "\n",
    "$K_d = f_{oc}k_{oc}$\n",
    "\n",
    "**$k_{oc}$ regression (Table 7.2 textbook)**\n",
    "\n",
    "$ln~k_{oc} = 0.544 ln~k_{ow} + 1.377$\n",
    "\n",
    "or use tabulations such as \n",
    "\n",
    "![](kowtable.png)\n",
    "\n",
    "> The tabulation above is base-10 logarithms; the regressions are base-e logarithms.\n"
   ]
  },
  {
   "cell_type": "code",
   "execution_count": 122,
   "metadata": {},
   "outputs": [
    {
     "name": "stdout",
     "output_type": "stream",
     "text": [
      "57.138\n",
      "60.256\n",
      "55.485\n"
     ]
    }
   ],
   "source": [
    "kow = 135 #L/kg\n",
    "# using a regression formula\n",
    "logkoc = math.log(kow)*0.544+1.377\n",
    "koc = math.exp(logkoc)\n",
    "print(round(koc,3))\n",
    "\n",
    "# using tabulation above\n",
    "kkoc = 10**(1.78)\n",
    "print(round(kkoc,3))\n",
    "\n",
    "# using deMarsily's rule of thumb\n",
    "k_oc = 0.411*kow\n",
    "print(round(k_oc,3))\n",
    "\n",
    "# like your nose, pick one"
   ]
  },
  {
   "cell_type": "code",
   "execution_count": 123,
   "metadata": {},
   "outputs": [
    {
     "name": "stdout",
     "output_type": "stream",
     "text": [
      "0.571\n"
     ]
    }
   ],
   "source": [
    "foc = 0.01 # given\n",
    "kdee = foc*koc\n",
    "print(round(kdee,3))"
   ]
  },
  {
   "cell_type": "code",
   "execution_count": 124,
   "metadata": {},
   "outputs": [
    {
     "name": "stdout",
     "output_type": "stream",
     "text": [
      "Retardation coefficient : 4.428\n"
     ]
    }
   ],
   "source": [
    "rhob = 1.8 #kg/L\n",
    "porosity = 0.30 #given\n",
    "rrr = 1.0 + kdee*rhob/porosity\n",
    "print(\"Retardation coefficient :\",round(rrr,3))"
   ]
  },
  {
   "cell_type": "code",
   "execution_count": 125,
   "metadata": {},
   "outputs": [],
   "source": [
    "def impulse2D(x,y,t,m,dx,dy,v,r):\n",
    "    import math\n",
    "    dispx=dx/r\n",
    "    dispy=dy/r\n",
    "    vel=v/r\n",
    "    term1 = (4.0*math.pi*t)*math.sqrt(dispx*dispy)\n",
    "    term2 = math.exp(-((x-vel*t)**2)/(4.0*dispx*t) -((y)**2)/(4.0*dispy*t))\n",
    "    impulse2D = (mass/term1)*term2\n",
    "    return(impulse2D)"
   ]
  },
  {
   "cell_type": "code",
   "execution_count": 126,
   "metadata": {},
   "outputs": [
    {
     "name": "stdout",
     "output_type": "stream",
     "text": [
      "            Conc :  0.509  kg/m^3\n",
      "          Conc*A :  2.546  kg-m^2/m^3\n",
      "Well bore volume :  0.196  m^3\n",
      "   Pore velocity :  0.082  m/day\n",
      "    Dispersion x :  0.082  m^2/day\n",
      "    Dispersion y :  0.0  m^2/day\n"
     ]
    }
   ],
   "source": [
    "import math\n",
    "diam = 0.5 #m\n",
    "thick = 10.0 #m\n",
    "volume = 0.25*math.pi*diam**2\n",
    "mass        = 0.1 #kg\n",
    "conc0 = mass/volume\n",
    "cA = conc0*thick*diam\n",
    "velocity    = 30.0/365.0 #m/day\n",
    "alphal=1.0\n",
    "alphat=0.00001\n",
    "dx = alphal*velocity  #m^2/day\n",
    "dy = alphat*velocity #m^2/day\n",
    "\n",
    "print(\"            Conc : \",round(conc0,3),\" kg/m^3\")\n",
    "print(\"          Conc*A : \",round(cA,3),\" kg-m^2/m^3\")\n",
    "print(\"Well bore volume : \",round(volume,3),\" m^3\")\n",
    "print(\"   Pore velocity : \",round(velocity,3),\" m/day\")\n",
    "print(\"    Dispersion x : \",round(dx,3),\" m^2/day\")\n",
    "print(\"    Dispersion y : \",round(dy,3),\" m^2/day\")\n"
   ]
  },
  {
   "cell_type": "code",
   "execution_count": 127,
   "metadata": {},
   "outputs": [
    {
     "data": {
      "image/png": "[encoded data removed]",
      "text/plain": [
       "<Figure size 432x288 with 1 Axes>"
      ]
     },
     "metadata": {
      "needs_background": "light"
     },
     "output_type": "display_data"
    }
   ],
   "source": [
    "deltax      = (0.1) #meters\n",
    "howmany =     60/deltax\n",
    "howmany = int(howmany)\n",
    "\n",
    "x = [] #meters\n",
    "for i in range(howmany):\n",
    "    x.append(float(i)*deltax)\n",
    "\n",
    "    \n",
    "t        = 365  #days\n",
    "y        = 0    #meters\n",
    "\n",
    "\n",
    "c = [0 for i in range(howmany)] #concentration \n",
    "\n",
    "for i in range(howmany):\n",
    "    c[i]=impulse2D(x[i],y,t,cA,dx,dy,velocity,rrr)\n",
    "\n",
    "\n",
    "#\n",
    "# Import graphics routines for picture making\n",
    "#\n",
    "from matplotlib import pyplot as plt\n",
    "#\n",
    "# Build and Render the Plot\n",
    "#\n",
    "plt.plot(x,c, color='red', linestyle = 'solid')  # make the plot object\n",
    "plt.title(\" Concentration Profile \\n Time: \" + repr(t) + \" days \\n\" ) # caption the plot object\n",
    "plt.xlabel(\" Distance (meters) \") # label x-axis\n",
    "plt.ylabel(\" Concentration  (ppm)      \") # label y-axis\n",
    "plt.show() # plot to stdio -- has to be last call as it kills prior objects\n",
    "plt.close('all') # needed when plt.show call not invoked, optional here, optional here\n",
    "#sys.exit() # used to elegant exit for CGI-BIN use"
   ]
  },
  {
   "cell_type": "code",
   "execution_count": 128,
   "metadata": {},
   "outputs": [
    {
     "name": "stdout",
     "output_type": "stream",
     "text": [
      "Maximum concentration :  0.371  kg/m^3\n",
      "          Observed at :  6.8  meters\n"
     ]
    }
   ],
   "source": [
    "# find location of peak at 1 year\n",
    "print(\"Maximum concentration : \",round(max(c),3),\" kg/m^3\")\n",
    "print(\"          Observed at : \",round(x[c.index(max(c))],3),\" meters\")\n",
    "xloc = x[c.index(max(c))]"
   ]
  },
  {
   "cell_type": "markdown",
   "metadata": {},
   "source": [
    "Now make a history plot at 6.8 meters"
   ]
  },
  {
   "cell_type": "code",
   "execution_count": 129,
   "metadata": {},
   "outputs": [
    {
     "data": {
      "image/png": "[encoded data removed]",
      "text/plain": [
       "<Figure size 432x288 with 1 Axes>"
      ]
     },
     "metadata": {
      "needs_background": "light"
     },
     "output_type": "display_data"
    }
   ],
   "source": [
    "#\n",
    "# forward define and initialize vectors for a profile plot\n",
    "#\n",
    "time=365*2 #days\n",
    "how_many_points = 365*2   \n",
    "deltat = time/how_many_points #\n",
    "t = [i*deltat for i in range(how_many_points)] # constructor notation\n",
    "c = [0.0 for i in range(how_many_points)]      # constructor notation\n",
    "x = xloc\n",
    "y = 0\n",
    "t[0]=1e-5 #cannot have zero time, so use really small value first position in list\n",
    "#\n",
    "# build the profile predictions\n",
    "#\n",
    "r=2\n",
    "for i in range(0,how_many_points,1):\n",
    "    c[i] = impulse2D(x,y,t[i],cA,dx,dy,velocity,rrr)\n",
    "for i in range(0,how_many_points,1):\n",
    "    t[i]=t[i]/365 # days as years\n",
    "#\n",
    "# Import graphics routines for picture making\n",
    "#\n",
    "from matplotlib import pyplot as plt\n",
    "#\n",
    "# Build and Render the Plot\n",
    "#\n",
    "plt.plot(t,c, color='red', linestyle = 'solid')  # make the plot object\n",
    "plt.title(\" Concentration History at \\n \" + \"x = \" + repr(round(x,3)) + \" y = \" + repr(y)) # caption the plot object\n",
    "plt.xlabel(\" Time since release (years)\") # label x-axis\n",
    "plt.ylabel(\" Concentration  (ppm)      \") # label y-axis\n",
    "#plt.savefig(\"ogatabanksplot.png\") # optional generates just a plot for embedding into a report\n",
    "plt.show() # plot to stdio -- has to be last call as it kills prior objects\n",
    "plt.close('all') # needed when plt.show call not invoked, optional here\n",
    "#sys.exit() # used to elegant exit for CGI-BIN use"
   ]
  },
  {
   "cell_type": "markdown",
   "metadata": {},
   "source": [
    "Summary:\n",
    "\n",
    "1. The retardation factor R for benzene in this aquifer is 4.428\n",
    "2. The maximum benzene concentration at t = 1 yr is 0.371  kg/m^3\n",
    "3. The location of this maximum is at $(x,y)=(6.8,0)$ meters."
   ]
  },
  {
   "cell_type": "markdown",
   "metadata": {},
   "source": [
    "<hr><hr> \n",
    "\n",
    "## Problem 3 \n",
    "\n",
    "The following data for concentration of TCE were taken at a single monitoring well.  Use the Mann-Kendall test (pp. 458-460) to determine whether the concentration has an upward or downward trend.\n",
    "\n",
    "\n",
    "|Date|TCE (ppb)|\n",
    "|:---|:---|\n",
    "|9/92|8|\n",
    "|12/92|19|\n",
    "|3/93|21|\n",
    "|6/93|13|\n",
    "|9/93|39|\n",
    "|12/93|24|\n",
    "|3/94|28|\n",
    "|6/94|25|\n",
    "\n",
    "\n",
    "Determine:\n",
    "1. The upward or downward concentration trend, using a Mann-Kendall test.\n",
    "\n",
    "Hints:<br>\n",
    "1. [Mann-Kendall Explaination (YouTube)](https://www.youtube.com/watch?v=YvoxgeahoI0)\n",
    "2. [Trend Analysis (US EPA)](https://www.epa.gov/sites/default/files/2016-05/documents/tech_notes_6_dec2013_trend.pdf)"
   ]
  },
  {
   "cell_type": "code",
   "execution_count": 132,
   "metadata": {},
   "outputs": [],
   "source": [
    "# Enter your solution below, or attach separate sheet(s) with your solution.\n"
   ]
  },
  {
   "cell_type": "code",
   "execution_count": 133,
   "metadata": {},
   "outputs": [
    {
     "name": "stdout",
     "output_type": "stream",
     "text": [
      "Trend type:  increasing\n",
      "Attained Significance at rejection : 0.063\n"
     ]
    },
    {
     "data": {
      "image/png": "[encoded data removed]",
      "text/plain": [
       "<Figure size 504x504 with 1 Axes>"
      ]
     },
     "metadata": {
      "needs_background": "light"
     },
     "output_type": "display_data"
    }
   ],
   "source": [
    "import numpy as np\n",
    "import pandas as pd\n",
    "import pymannkendall as mk\n",
    "import matplotlib.pyplot as plt\n",
    "import statsmodels.api as sm\n",
    "%matplotlib inline\n",
    "gfg_data = [8,19,21,13,39,24,28,25]\n",
    " \n",
    "# perform Mann-Kendall Trend Test\n",
    "result=mk.original_test(gfg_data,alpha=0.1)\n",
    "print(\"Trend type: \",result.trend)\n",
    "print(\"Attained Significance at rejection :\",round(result.p,3))\n",
    "trend_line = np.arange(len(gfg_data))*result.slope + result.intercept\n",
    "\n",
    "#data plot \n",
    "plt.figure(figsize=(7,7))\n",
    "plt.plot(gfg_data,marker='o',linewidth=0)\n",
    "plt.plot(trend_line)\n",
    "plt.xlabel(\"Sample Number\")\n",
    "plt.ylabel(\"Conc. (ppm) \")\n",
    "plt.ylim(0,40);\n",
    "# autocorrelation plot\n",
    "#fig, ax = plt.subplots(figsize=(12, 8))\n",
    "#sm.graphics.tsa.plot_acf(gfg_data, lags=7, ax=ax);"
   ]
  },
  {
   "cell_type": "code",
   "execution_count": null,
   "metadata": {},
   "outputs": [],
   "source": []
  }
 ],
 "metadata": {
  "kernelspec": {
   "display_name": "Python 3",
   "language": "python",
   "name": "python3"
  },
  "language_info": {
   "codemirror_mode": {
    "name": "ipython",
    "version": 3
   },
   "file_extension": ".py",
   "mimetype": "text/x-python",
   "name": "python",
   "nbconvert_exporter": "python",
   "pygments_lexer": "ipython3",
   "version": "3.8.10"
  }
 },
 "nbformat": 4,
 "nbformat_minor": 4
}
