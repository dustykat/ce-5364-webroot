{
 "cells": [
  {
   "cell_type": "markdown",
   "metadata": {},
   "source": [
    "# <font color=darkblue>CE 5364 Groundwater Transport Phenemona <br> Fall 2023 Exercise Set 4</font>\n",
    "\n",
    "**LAST NAME, FIRST NAME**\n",
    "\n",
    "**R00000000**\n",
    "\n",
    "<hr>\n",
    "\n",
    "### Purpose : \n",
    "Reactive transport concepts and application of isotherms to estimate retardation\n",
    " \n",
    "### Assessment Criteria : \n",
    "Completion, results plausible, format correct, example calculations shown.  \n"
   ]
  },
  {
   "cell_type": "markdown",
   "metadata": {},
   "source": [
    "<hr><hr>\n",
    "\n",
    "## Problem 1 \n",
    "\n",
    "A fuel mixture of benzene, toluene, ethylbenzene at mole fractions 0.075, 0.065, and 0.035 respectively equilibrates with the atmosphere at 25$^oC$\n",
    "\n",
    "![](Fig4-13.png) ![](Tab7-1.png)\n",
    "\n",
    "Determine:\n",
    "1. Concentration in the gas (air) phase of the three components in $\\frac{mg}{L}$\n",
    "2. Concentration in the gas (air) phase of the three components in $\\frac{\\mu g}{m^3}$"
   ]
  },
  {
   "cell_type": "markdown",
   "metadata": {},
   "source": [
    "## Use Gas Law\n",
    "\n",
    "Gas law \n",
    "\n",
    "$$ pV = \\frac{m}{M}RT$$\n",
    "\n",
    "put in mass into numerator\n",
    "\n",
    "$$ \\frac{m}{pV} = \\frac{m}{\\frac{m}{M}RT}$$\n",
    "\n",
    "recall $\\frac{m}{M}$ is the number of moles, or mole fraction.  $p$ is partial pressure of indicated species. Apply some algebra\n",
    "\n",
    "$$ \\frac{m}{V} = \\frac{p \\cdot m}{\\frac{m}{M}RT}$$  \n",
    "\n",
    "a bit more algebra\n",
    "\n",
    "$$ \\frac{m}{V} = \\frac{p \\cdot M}{RT}$$ \n",
    "\n",
    "So other than unit conversions, the above formula should return desired concentrations in gas phase.\n"
   ]
  },
  {
   "cell_type": "code",
   "execution_count": 20,
   "metadata": {},
   "outputs": [
    {
     "name": "stdout",
     "output_type": "stream",
     "text": [
      "Benzene partial pressure in gas phase :  4.5 mmHg\n",
      "Toluene partial pressure in gas phase :  1.43 mmHg\n",
      "Ethylbenzene partial pressure in gas phase :  0.245 mmHg\n",
      "Benzene conc. in gas phase  18.904  mg/L \n",
      "Toluene conc. in gas phase  7.083  mg/L \n",
      "Ethylbenzene conc. in gas phase  1.406  mg/L \n"
     ]
    }
   ],
   "source": [
    "R = 0.0821 # L-atm/K-mol\n",
    "Temp = 298 # K\n",
    "\n",
    "benzene_mole_fraction = 0.075 #molFraction\n",
    "toluene_mole_fraction = 0.065\n",
    "ethylbenzene_mole_fraction = 0.035\n",
    "\n",
    "benzene_vapor_press = 60 #mmHg from Table 7.1\n",
    "toluene_vapor_press = 22\n",
    "ethylbenzene_vapor_press = 7\n",
    "\n",
    "mw_benzene = 78.11 #g/mol from Figure 4.13\n",
    "mw_toluene = 92.1\n",
    "mw_ethylbenzene = 106.7\n",
    "\n",
    "benzene_mixture_pressure = benzene_mole_fraction*benzene_vapor_press\n",
    "toluene_mixture_pressure = toluene_mole_fraction*toluene_vapor_press\n",
    "ethylbenzene_mixture_pressure = ethylbenzene_mole_fraction*ethylbenzene_vapor_press\n",
    "\n",
    "print(\"Benzene partial pressure in gas phase : \",round(benzene_mixture_pressure,3), \"mmHg\")\n",
    "print(\"Toluene partial pressure in gas phase : \",round(toluene_mixture_pressure,3), \"mmHg\")\n",
    "print(\"Ethylbenzene partial pressure in gas phase : \",round(ethylbenzene_mixture_pressure,3), \"mmHg\")\n",
    "\n",
    "#pressure to atmospheres,g to milligrams\n",
    "benzene_mixture_conc = 1000*mw_benzene*(benzene_mixture_pressure/760)/(R*Temp)\n",
    "toluene_mixture_conc = 1000*mw_toluene*(toluene_mixture_pressure/760)/(R*Temp)\n",
    "ethylbenzene_mixture_conc = 1000*mw_ethylbenzene*(ethylbenzene_mixture_pressure/760)/(R*Temp)\n",
    "\n",
    "\n",
    "print(\"Benzene conc. in gas phase \",round(benzene_mixture_conc,3),\" mg/L \")\n",
    "print(\"Toluene conc. in gas phase \",round(toluene_mixture_conc,3),\" mg/L \")\n",
    "print(\"Ethylbenzene conc. in gas phase \",round(ethylbenzene_mixture_conc,3),\" mg/L \")"
   ]
  },
  {
   "cell_type": "markdown",
   "metadata": {},
   "source": [
    "Convert to micrograms/m^3\n",
    "\n",
    "$$\\frac{mg}{L} \\times \\frac{1000~\\mu g}{mg} \\times \\frac{1000~L}{m^3} = \\frac{\\mu g}{m^3}$$"
   ]
  },
  {
   "cell_type": "code",
   "execution_count": 21,
   "metadata": {},
   "outputs": [
    {
     "name": "stdout",
     "output_type": "stream",
     "text": [
      "Benzene conc. in gas phase  18903670.473  ug/m^3 \n",
      "Toluene conc. in gas phase  7083088.272  ug/m^3 \n",
      "Ethylbenzene conc. in gas phase  1405909.904  ug/m^3 \n"
     ]
    }
   ],
   "source": [
    "print(\"Benzene conc. in gas phase \",round(1000*1000*benzene_mixture_conc,3),\" ug/m^3 \")\n",
    "print(\"Toluene conc. in gas phase \",round(1000*1000*toluene_mixture_conc,3),\" ug/m^3 \")\n",
    "print(\"Ethylbenzene conc. in gas phase \",round(1000*1000*ethylbenzene_mixture_conc,3),\" ug/m^3 \")"
   ]
  },
  {
   "cell_type": "markdown",
   "metadata": {},
   "source": [
    "<hr><hr>\n",
    "\n",
    "## Problem 2 (Modified from 6.22 pg. 592)\n",
    "\n",
    "A well with effective diameter of 0.5 m fully penetrates an aquifer that has a uniform saturated thickness of 10 m.  One hundred grams of benzene are spilled into the well, immediately dissolve, and mix into the water in the well. The seepage velocity is 30 m/yr in the x-direction, the longitudinal dispersivity is 1.0 m, and the transverse dispersivity is 0.1 m.\n",
    "The aquifer has the following characteristics: \n",
    "\n",
    "- Bulk density = 1.8 g/cc\n",
    "- porosity = 0.30\n",
    "- $f_{oc}$ =  1 percent\n",
    "- $K_{ow}$ = 135 L/kg\n",
    "\n",
    "Determine:\n",
    "\n",
    "1. The retardation factor R for benzene in this aquifer.  \n",
    "2. The maximum benzene concentration at t = 1 yr.  \n",
    "3. The location of this maximum.\n"
   ]
  },
  {
   "cell_type": "code",
   "execution_count": 2,
   "metadata": {},
   "outputs": [],
   "source": [
    "# Enter your solution below, or attach separate sheet(s) with your solution.\n",
    "\n"
   ]
  },
  {
   "cell_type": "markdown",
   "metadata": {},
   "source": [
    "<hr><hr> \n",
    "\n",
    "## Problem 3 \n",
    "\n",
    "The following data for concentration of TCE were taken at a single monitoring well.  Use the Mann-Kendall test (pp. 458-460) to determine whether the concentration has an upward or downward trend.\n",
    "\n",
    "\n",
    "|Date|TCE (ppb)|\n",
    "|:---|:---|\n",
    "|9/92|8|\n",
    "|12/92|19|\n",
    "|3/93|21|\n",
    "|6/93|13|\n",
    "|9/93|39|\n",
    "|12/93|24|\n",
    "|3/94|28|\n",
    "|6/94|25|\n",
    "\n",
    "\n",
    "Determine:\n",
    "1. The upward or downward concentration trend, using a Mann-Kendall test.\n",
    "\n",
    "Hint:<br>\n",
    "[Mann-Kendall Explaination (YouTube)](https://www.youtube.com/watch?v=YvoxgeahoI0)"
   ]
  },
  {
   "cell_type": "code",
   "execution_count": 3,
   "metadata": {},
   "outputs": [],
   "source": [
    "# Enter your solution below, or attach separate sheet(s) with your solution.\n",
    "\n"
   ]
  },
  {
   "cell_type": "code",
   "execution_count": null,
   "metadata": {},
   "outputs": [],
   "source": []
  }
 ],
 "metadata": {
  "kernelspec": {
   "display_name": "Python 3",
   "language": "python",
   "name": "python3"
  },
  "language_info": {
   "codemirror_mode": {
    "name": "ipython",
    "version": 3
   },
   "file_extension": ".py",
   "mimetype": "text/x-python",
   "name": "python",
   "nbconvert_exporter": "python",
   "pygments_lexer": "ipython3",
   "version": "3.8.10"
  }
 },
 "nbformat": 4,
 "nbformat_minor": 4
}
