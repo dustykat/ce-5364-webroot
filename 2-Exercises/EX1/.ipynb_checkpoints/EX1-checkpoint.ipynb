{
 "cells": [
  {
   "cell_type": "markdown",
   "metadata": {},
   "source": []
  },
  {
   "cell_type": "markdown",
   "metadata": {},
   "source": [
    "<hr><hr>\n",
    "\n",
    "## Problem 1 (Problem 2-3, pg. 578)\n",
    "\n",
    "A sand column has the following characteristics:\n",
    "\n",
    "$$ K = 10^{-4} \\frac{cm}{s} \\\\ A = 75 cm^{2} \\\\ \\frac{dh}{dl} = 0.01 \\\\ n = 0.20$$\n",
    "\n",
    "Determine:\n",
    "\n",
    "1. Sketch the system.\n",
    "2. The discharge velocity.\n",
    "3. The seepage velocity.\n",
    "4. The volumetric flow rate through the column."
   ]
  },
  {
   "cell_type": "code",
   "execution_count": 4,
   "metadata": {},
   "outputs": [],
   "source": [
    "# Enter your solution below, or attach separate sheet(s) with your solution.\n",
    "\n"
   ]
  },
  {
   "cell_type": "markdown",
   "metadata": {},
   "source": [
    "<hr><hr>\n",
    "\n",
    "## Problem 2 (Problem 2-8, pg. 578)\n",
    "\n",
    "The figure below shows a piezometric map for a shallow sand aquifer.  The hydraulic conductivtiy is estimated to be $1.5 \\times 10^{-2}~\\frac{cm}{s}$.\n",
    "\n",
    "Determine:\n",
    "\n",
    "1. Which well is expected to be the most contaminated.\n",
    "2. The groundwater velocity and seepage velocity across the plume.\n",
    "3. The duration that the source has been contaminating the aquifer (neglect dispersion, diffusiom, and adsorption).\n",
    "4. The flow rate across the plume.\n",
    "5. An explaination for contamination upgradient of the source zone."
   ]
  },
  {
   "cell_type": "markdown",
   "metadata": {},
   "source": [
    "<hr><hr> \n",
    "\n",
    "## Problem 3 (Problem 2-12, pg. 579)\n",
    "\n",
    "Three geologic formations overlie one another with the characteristics listed below.\n",
    "\n",
    "$$ b_1 = 50~ft ~~~~ K_1 = 0.0002 \\frac{ft}{s}\\\\ b_2 = 20~ft ~~~~ K_1 = 0.000005 \\frac{ft}{s}\\\\ b_3 = 210~ft ~~~~ K_1 = 0.001 \\frac{ft}{s}$$\n",
    "\n",
    "A constant velocity vertical flow field exists across the three formations.\n",
    "The hydraulic head at the top of the formations (top of formation 1) is 33 feet.  The hydraulic head at the bottom of the formations (bottom of formation 3) is 21 feet.\n",
    "\n",
    "Determine:\n",
    "\n",
    "1. Sketch the system.\n",
    "2. The hydraulic head at the internal boundary between formation 1 and 2.\n",
    "3. The hydraulic head at the internal boundary between formation 2 and 3."
   ]
  },
  {
   "cell_type": "markdown",
   "metadata": {},
   "source": [
    "<hr><hr> \n",
    "\n",
    "## Problem 4 "
   ]
  },
  {
   "cell_type": "code",
   "execution_count": null,
   "metadata": {},
   "outputs": [],
   "source": []
  }
 ],
 "metadata": {
  "kernelspec": {
   "display_name": "Python 3",
   "language": "python",
   "name": "python3"
  },
  "language_info": {
   "codemirror_mode": {
    "name": "ipython",
    "version": 3
   },
   "file_extension": ".py",
   "mimetype": "text/x-python",
   "name": "python",
   "nbconvert_exporter": "python",
   "pygments_lexer": "ipython3",
   "version": "3.8.10"
  }
 },
 "nbformat": 4,
 "nbformat_minor": 4
}
