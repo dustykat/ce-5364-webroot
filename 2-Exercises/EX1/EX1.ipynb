{
 "cells": [
  {
   "cell_type": "markdown",
   "metadata": {},
   "source": []
  },
  {
   "cell_type": "markdown",
   "metadata": {},
   "source": [
    "<hr><hr>\n",
    "\n",
    "## Problem 1 (10 points)\n",
    "\n",
    "Two observation wells 1700 meters apart have been constructed in a confined aquifer with spatially variable hydraulic conductivity as shown below:\n",
    "\n",
    "![](FigP2.9.png)\n",
    "\n",
    "The flow rate is 0.008 $\\frac{m^3}{hr}$ per unit width (into the plane of the figure) of aquifer.  Well 1 is drilled into soil A which has hydraulic conductivity $K = 13 \\frac{m}{d}$. Well 2 is drilled into soil B which has hydraulic conductivity $K = 9 \\frac{m}{d}$.  Soil zone B is between the wells as shown, 600 meters from Well 1 and 300 meters from Well 2.  The potentiometric surface is 6 meters above the upper confining unit in Well 1 and 2.5 meters above the upper confining unit in Well 2.\n",
    "\n",
    "Determine:\n",
    "\n",
    "1. Hydraulic conductivity in Soil B\n",
    "2. Sketch the hydraulic grade line (HGL) from Well 1 to Well 2; clearly indicate the changes in slope in each part of the HGL."
   ]
  },
  {
   "cell_type": "markdown",
   "metadata": {},
   "source": [
    "<hr><hr>\n",
    "\n",
    "## Problem 2 (Problem 2-8, pg. 578)\n",
    "\n",
    "The figure below shows a piezometric map for a shallow sand aquifer.  The hydraulic conductivtiy is estimated to be $1.5 \\times 10^{-2}~\\frac{cm}{s}$.\n",
    "\n",
    "Determine:\n",
    "\n",
    "1. Which well is expected to be the most contaminated.\n",
    "2. The groundwater velocity and seepage velocity across the plume.\n",
    "3. The duration that the source has been contaminating the aquifer (neglect dispersion, diffusiom, and adsorption).\n",
    "4. The flow rate across the plume.\n",
    "5. An explaination for contamination upgradient of the source zone."
   ]
  },
  {
   "cell_type": "markdown",
   "metadata": {},
   "source": [
    "<hr><hr> \n",
    "\n",
    "## Problem 3 (Problem 2-12, pg. 579)\n",
    "\n",
    "Three geologic formations overlie one another with the characteristics listed below.\n",
    "\n",
    "$$ b_1 = 50~ft ~~~~ K_1 = 0.0002 \\frac{ft}{s}\\\\ b_2 = 20~ft ~~~~ K_1 = 0.000005 \\frac{ft}{s}\\\\ b_3 = 210~ft ~~~~ K_1 = 0.001 \\frac{ft}{s}$$\n",
    "\n",
    "A constant velocity vertical flow field exists across the three formations.\n",
    "The hydraulic head at the top of the formations (top of formation 1) is 33 feet.  The hydraulic head at the bottom of the formations (bottom of formation 3) is 21 feet.\n",
    "\n",
    "Determine:\n",
    "\n",
    "1. Sketch the system.\n",
    "2. The hydraulic head at the internal boundary between formation 1 and 2.\n",
    "3. The hydraulic head at the internal boundary between formation 2 and 3."
   ]
  },
  {
   "cell_type": "markdown",
   "metadata": {},
   "source": [
    "<hr><hr> \n",
    "\n",
    "## Problem 4 (modified from Problem 6-24 pg. 592)\n",
    "\n",
    "A tank storing various liquids leaks over an area of 10 m$^2$ into an aquifer.  One constituient of concern is benzene that is released at a concentration of 10,000 $\\frac{\\mu~g}{L}$. Assume the aquifer exhibits a retardation factor for benzene of 2.0, and benzene experiences first-order degredation with a decay coefficient $\\lambda~=\\frac{0.0005}{day}$; the longitudinal dispersion coefficient is $D_l = 1 \\frac{m^2}{day}$, the transverse dispersion coefficient is $D_t = 0.1 \\frac{m^2}{day}$, the seepage velocity (in longitudinal direction) is $u = 1.0 \\frac{m}{day}$.\n",
    "\n",
    "Determine:\n",
    "\n",
    "1. Time required for the release to traverse 75 meters (ignoring dispersion and degredation)\n",
    "2. Peak concentration at 75 meters\n",
    "3. Approximate plume longitudinal and transverse dimensions at 365 days\n"
   ]
  },
  {
   "cell_type": "code",
   "execution_count": null,
   "metadata": {},
   "outputs": [],
   "source": []
  }
 ],
 "metadata": {
  "kernelspec": {
   "display_name": "Python 3",
   "language": "python",
   "name": "python3"
  },
  "language_info": {
   "codemirror_mode": {
    "name": "ipython",
    "version": 3
   },
   "file_extension": ".py",
   "mimetype": "text/x-python",
   "name": "python",
   "nbconvert_exporter": "python",
   "pygments_lexer": "ipython3",
   "version": "3.8.10"
  }
 },
 "nbformat": 4,
 "nbformat_minor": 4
}
