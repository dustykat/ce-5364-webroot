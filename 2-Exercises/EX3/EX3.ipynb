{
 "cells": [
  {
   "cell_type": "markdown",
   "metadata": {},
   "source": [
    "# <font color=darkblue>CE 5364 Groundwater Contaminant Transport Phenomena <br> Fall 2023 Exam 3 Template</font>\n",
    "\n",
    "**LAST NAME, FIRST NAME**\n",
    "\n",
    "**R00000000**\n",
    "\n",
    "___\n",
    "\n",
    "### Purpose : \n",
    "Demonstrate ability to apply principles of groundwater contaminant transport\n",
    "\n",
    "### Additional Instructions\n",
    "\n",
    "The test is intended to be completed on blackboard.  The questions below are transcribed to BB as (in general) `file response` questions or in the short answer part, as essay response."
   ]
  },
  {
   "cell_type": "markdown",
   "metadata": {},
   "source": [
    "<hr><hr>\n",
    "\n",
    "## Problem 1 (Site Investigation)\n",
    "\n",
    "Groundwater samples have been collected quarterly  and analyzed for TCE in ppb.\n",
    "The table below shows the results for one monitoring well. \n",
    "\n",
    "|Date| TCE (ppb)|\n",
    "|---|---:|\n",
    "|3/2016 |15.0|\n",
    "|6/2016|12.0|\n",
    "|9/2016|28.0|\n",
    "|12/2016|16.0|\n",
    "|3/2017|10.0|\n",
    "|6/2017|30.0|\n",
    "|9/2017| 18.0|\n",
    "|12/2017 | 20.0|\n",
    "|3/2018 | 25.0|\n",
    "|6/2018| 6.8|\n",
    "|9/2018| 20.1|\n",
    "|12/2018 | 6.3|\n",
    "|3/2019 | 9.9|\n",
    "|6/2019| 12.5|\n",
    "|9/2019| 20.5|\n",
    "|12/2019 | 7.8|\n",
    "|3/2020 | 21.6|\n",
    "|6/2020| 5.9|\n",
    "|9/2020| 9.8|\n",
    "|12/2020 | 10.2|\n",
    "|3/2021 | 13.7|\n",
    "|6/2021| 3.7|\n",
    "|9/2021| 10.0|\n",
    "|12/2021 | 5.1|\n",
    "|3/2022 | 18.0|\n",
    "|6/2022| 6.0|\n",
    "|9/2022| 9.5|\n",
    "|12/2022 | 2.1|\n",
    "|3/2023 | 12.0|\n",
    "|6/2023 | 6.3|\n",
    "|9/2023 | 3.5|\n",
    "\n",
    "Determine:\n",
    "1. Do these data contain evidence of a trend? Use the Mann-Kendall test (pp. 456-462) \n",
    "2. Is the trend is increasing or decreasing?\n"
   ]
  },
  {
   "cell_type": "code",
   "execution_count": 10,
   "metadata": {},
   "outputs": [],
   "source": [
    "# Enter your solution below, or attach separate sheet(s) with your solution.\n",
    "\n"
   ]
  },
  {
   "cell_type": "markdown",
   "metadata": {},
   "source": [
    "<hr><hr>\n",
    "\n",
    "## Problem 2 (Chemflow2000)\n",
    "\n"
   ]
  },
  {
   "cell_type": "code",
   "execution_count": 11,
   "metadata": {},
   "outputs": [],
   "source": [
    "# Enter your solution below, or attach separate sheet(s) with your solution.\n",
    "\n"
   ]
  },
  {
   "cell_type": "markdown",
   "metadata": {},
   "source": [
    "<!-- <hr><hr> \n",
    "\n",
    "## Problem 4 \n",
    "\n",
    "A fuel mixture includes benzene, toluene, and ethylbenzene at mole fractions of 0.075,0.065, and 0.035 respectively.  The mixture is allowed to come to equilibrium with the atmosphere at 25$^o$C\n",
    "\n",
    "The following information from the textbook is useful\n",
    "\n",
    "![](Fig4-13.png) ![](Tab7-1.png)\n",
    "\n",
    "Determine:\n",
    "\n",
    "1. The concentrations of these VOCs in air in mg/L and $\\mu g/m^3$ -->"
   ]
  },
  {
   "cell_type": "markdown",
   "metadata": {},
   "source": [
    "<hr>\n",
    "<hr>\n",
    "\n",
    "## Problem 3 (Remediation)\n",
    "\n",
    "A $1400~m$ long, $200~m$ wide plume of contaminant exists in a sandy aquifer and a set of production wells are to be placed downgradient of the plume to prevent off-site migration.  The saturated thickness of the aquifer is $12~m$, the hydraulic conductivity is $6~m/d$, the regional gradient is $0.004$.  To prevent excessive draw-down the well production rate is limited to $30~\\frac{m^3}{d}$ per well.  \n",
    "\n",
    "Determine:\n",
    "1. A suitable conceptual model to inform USGS-MOC or other tool to produce an answer\n",
    "2. How many wells are required to capture the plume."
   ]
  },
  {
   "cell_type": "code",
   "execution_count": 9,
   "metadata": {},
   "outputs": [],
   "source": [
    "# Enter your solution below, or attach separate sheet(s) with your solution.\n",
    "\n"
   ]
  },
  {
   "cell_type": "code",
   "execution_count": null,
   "metadata": {},
   "outputs": [],
   "source": []
  }
 ],
 "metadata": {
  "kernelspec": {
   "display_name": "Python 3",
   "language": "python",
   "name": "python3"
  },
  "language_info": {
   "codemirror_mode": {
    "name": "ipython",
    "version": 3
   },
   "file_extension": ".py",
   "mimetype": "text/x-python",
   "name": "python",
   "nbconvert_exporter": "python",
   "pygments_lexer": "ipython3",
   "version": "3.8.10"
  }
 },
 "nbformat": 4,
 "nbformat_minor": 4
}
