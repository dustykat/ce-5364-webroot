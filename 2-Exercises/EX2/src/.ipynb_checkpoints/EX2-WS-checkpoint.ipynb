{
 "cells": [
  {
   "cell_type": "markdown",
   "metadata": {},
   "source": [
    "# <font color=darkblue>CE 5364 Groundwater Contaminant Transport Phenomena <br> Fall 2023 Exam 2 Template</font>\n",
    "\n",
    "**LAST NAME, FIRST NAME**\n",
    "\n",
    "**R00000000**\n",
    "\n",
    "___\n",
    "\n",
    "### Purpose : \n",
    "Demonstrate ability to apply principles of groundwater contaminant transport\n",
    "\n",
    "### Additional Instructions\n",
    "\n",
    "The test is intended to be completed on blackboard.  The questions below are transcribed to BB as (in general) `file response` questions or in the short answer part, as essay response."
   ]
  },
  {
   "cell_type": "markdown",
   "metadata": {},
   "source": [
    "<hr><hr>\n",
    "\n",
    "## Problem 1 (10 points)\n",
    "\n",
    "In a plan view of a contaminant plume you observe that a conservative constituent (e.g. chloride) has moved about 1500 meters while a reactive constituent (e.g. chromium) has moved only 400 meters. Both species were released at the same time.\n",
    "\n",
    "Determine:\n",
    "\n",
    "1. Sketch the situation\n",
    "2. An estimate of the distribution coefficient of the reactive species if the porosity is 0.35 and the solids density is 2.22 g/mL."
   ]
  },
  {
   "cell_type": "markdown",
   "metadata": {},
   "source": [
    "### Sketch:\n",
    "\n",
    "![](sketch1.png)"
   ]
  },
  {
   "cell_type": "markdown",
   "metadata": {},
   "source": [
    "### Estimate retardation\n",
    "\n",
    "Using definition of retardation (and LEA):\n",
    "\n",
    "$R = 1+\\frac{1-n}{n}\\rho_s K_d$\n",
    "\n",
    "First find $R$ from the problem situation, then compute $K_d$.\n",
    "\n",
    "$R = \\frac{V_c}{V_r} = \\frac{x_c}{t}\\frac{t}{x_r} = \\frac{1500m}{400m} = 3.75$\n",
    "\n",
    "where the subscripts $_c$ and $_r$ represent conservative and reactive constituients, respectively."
   ]
  },
  {
   "cell_type": "code",
   "execution_count": 8,
   "metadata": {},
   "outputs": [
    {
     "name": "stdout",
     "output_type": "stream",
     "text": [
      "Retardation Coefficient :  3.75\n"
     ]
    }
   ],
   "source": [
    "x_c = 1500\n",
    "x_r = 400\n",
    "R = x_c/x_r\n",
    "print(\"Retardation Coefficient : \",round(R,3))"
   ]
  },
  {
   "cell_type": "markdown",
   "metadata": {},
   "source": [
    "### Estimate $K_d$ for reactive constituient.\n",
    "\n",
    "Using definition of retardation (and LEA):\n",
    "\n",
    "$K_d = (R-1)\\frac{n}{(1-n)\\rho_s}=(3.75-1)\\frac{0.35}{(1-0.35)\\cdot2.22}$"
   ]
  },
  {
   "cell_type": "code",
   "execution_count": 10,
   "metadata": {},
   "outputs": [
    {
     "name": "stdout",
     "output_type": "stream",
     "text": [
      "Reactive species distribution coefficient 0.667  mL/g\n"
     ]
    }
   ],
   "source": [
    "n =0.35\n",
    "rho_s = 2.22\n",
    "Kd = (R-1)*(n/((1-n)*rho_s))\n",
    "print(\"Reactive species distribution coefficient\",round(Kd,3),\" mL/g\")"
   ]
  },
  {
   "cell_type": "markdown",
   "metadata": {},
   "source": [
    "<hr><hr>\n",
    "\n",
    "## Problem 2 (10 points)\n",
    "\n",
    "Water in the unsaturated zone contains chlorobenzene at a concentration of 50 mg/L. \n",
    "\n",
    "Determine:\n",
    "\n",
    "1. The equilibrium concentration of chlorobenzene in soil air with this water, in mg/L\n",
    "2. The equilibrium concentration of chlorobenzene in soil air with this water, in $\\mu g/m^3$"
   ]
  },
  {
   "cell_type": "markdown",
   "metadata": {},
   "source": [
    "### Obtain Henry's law values for target species.\n",
    "\n",
    "![](HenryLawPr2.png)\n",
    "\n"
   ]
  },
  {
   "cell_type": "code",
   "execution_count": 15,
   "metadata": {},
   "outputs": [
    {
     "name": "stdout",
     "output_type": "stream",
     "text": [
      "Gas concentration is : 8.404  mg/L\n",
      "Gas concentration is : 8404050.0  ug/m^3\n"
     ]
    }
   ],
   "source": [
    "Kh = 2.4e-03 # mol/m^3-Pa  \n",
    "# from same source document above the volatility constant in dimensionless gas/aqueous is\n",
    "KHvcc = 0.168081 # Cgas/Caq (dimensionless) or use value in textbook of 0.165\n",
    "Caq = 50 #mg/L \n",
    "Cgas = KHvcc*Caq\n",
    "print(\"Gas concentration is :\",round(Cgas,3),\" mg/L\")\n",
    "# comvert to other units\n",
    "print(\"Gas concentration is :\",round(Cgas*1000*1000,3),\" ug/m^3\")"
   ]
  },
  {
   "cell_type": "markdown",
   "metadata": {},
   "source": [
    "<hr><hr> \n",
    "\n",
    "## Problem 3 (20 Points)\n",
    "\n",
    "A cubic meter of sand-gravel aquifer is contaminated with 20 L of tetrachloroethylene (PCE). The aquifer has porosity of 20% and hydraulic conductivity of 410 m/d. You may assume that the air content is negligible.\n",
    "\n",
    "Determine:\n",
    "1. Sketch the situation\n",
    "2. The equilibrium concentration of PCE in the water phase.\n",
    "3. The mass of PCE in the water phase.\n",
    "4. What is the mass PCE in the NAPL phase.\n",
    "5. If the aquifer gradient is 0.001 estimate how long it would take to completely dissolve and flush the PCE from the cubic-meter source zone."
   ]
  },
  {
   "cell_type": "markdown",
   "metadata": {},
   "source": [
    "### Sketch\n",
    "\n",
    "![](pcespill.png)\n",
    "\n"
   ]
  },
  {
   "cell_type": "markdown",
   "metadata": {},
   "source": [
    "### Partioning water/napl\n",
    "\n",
    "1. Sand/gravel unlikely to have much organic carbon so use OW "
   ]
  },
  {
   "cell_type": "markdown",
   "metadata": {},
   "source": [
    "<!-- <hr><hr> \n",
    "\n",
    "## Problem 4 \n",
    "\n",
    "A fuel mixture includes benzene, toluene, and ethylbenzene at mole fractions of 0.075,0.065, and 0.035 respectively.  The mixture is allowed to come to equilibrium with the atmosphere at 25$^o$C\n",
    "\n",
    "The following information from the textbook is useful\n",
    "\n",
    "![](Fig4-13.png) ![](Tab7-1.png)\n",
    "\n",
    "Determine:\n",
    "\n",
    "1. The concentrations of these VOCs in air in mg/L and $\\mu g/m^3$ -->"
   ]
  },
  {
   "cell_type": "markdown",
   "metadata": {},
   "source": [
    "<hr><hr> \n",
    "\n",
    "## Problem 4 (30 points)\n",
    "\n",
    "**Adapted from Baetsle, L.H. (1969). Migration of Radionuclides in Porous Media. In: A. M. F. Duhamel (Eds.), Progress in Nuclear Energy Series XII, Health Physics, pp.707-730. Pergamon Press, Elmsford, NY.**  \n",
    "\n",
    "A leak in a storage tank for radioactive waste results in an accidental release of 1000 ci (curie) of 10 yr cooled fission products and tritium.  The waste contains 400 ci Cs-137(t$_{1/2}$=33yr),400 ci Sr-90(t$_{1/2}$=28yr),100 ci Pm-147(t$_{1/2}$=2.7yr), and 100 ci H-3(t$_{1/2}$=12.26yr).  A stream exists 100 m downgradient of the release.  The groundwater velocity is 0.1 meters per day. Other data:\n",
    "\n",
    "|Nuclide|$K_d$(mg/L)|$R_f$|$D_x$(cm/sec)|$D_y=D_z$||\n",
    "|---|-----|---|---|---|---|\n",
    "|Cs-137|10|47.6|$10^{-4}$|$10^{-3}$|$~$|\n",
    "|Sr-90 |0.6|2.885|$10^{-3}$|$10^{-5}$||\n",
    "|Pm-147|100|476.|$10^{-5}$|$10^{-5}$||\n",
    "|H-3   |0|1.|$10^{-5}$|$10^{-5}$||\n",
    "\n",
    "\n",
    "Determine:\n",
    "\n",
    "1. Sketch the situation\n",
    "2. A time history (plot) for each constituient at the stream-aquifer interface that captures the peak concentration for each constituient\n",
    "\n",
    "*A useful analytical solution is found as Eq. 2 in [A Probabilistic Framework for the Assessment of Environmental Effects in Groundwater Contaminant Hydrology](http://www.scienpress.com/Upload/GEO/Vol%2010_5_5.pdf).  Equation 6.28 (textbook) is an identical equation*"
   ]
  },
  {
   "cell_type": "code",
   "execution_count": 7,
   "metadata": {},
   "outputs": [],
   "source": [
    "# Enter your solution below, or attach separate sheet(s) with your solution.\n",
    "\n"
   ]
  },
  {
   "cell_type": "markdown",
   "metadata": {},
   "source": [
    "<hr>\n",
    "<hr>\n",
    "\n",
    "## Problem 5 (20 points)\n",
    "\n",
    "Dissolution of constituents from a residual NAPL source results in a contaminant plume whose maximum length is determined by the balance between advection and decay. \n",
    "\n",
    "Determine:\n",
    "1. Develop an expression (or a method) for the plume length (from source to target MCL value) if the source-term concentration is $C_0$. \n",
    "2. Apply the expression (or method) to estimate the maximum length of a benzene plume whose equilibrium concentration in water at the source is 2.4 mg/L and whose MCL is 0.005mg/L. Assume that the pore velocity is 0.35 m/d and the half-life of the benzene in a first order decay model is 60 days. Assume that the retardation coefficient for benzene in the aquifer is 2."
   ]
  },
  {
   "cell_type": "code",
   "execution_count": 8,
   "metadata": {},
   "outputs": [],
   "source": [
    "# Enter your solution below, or attach separate sheet(s) with your solution.\n",
    "\n"
   ]
  },
  {
   "cell_type": "markdown",
   "metadata": {},
   "source": [
    "<hr>\n",
    "<hr>\n",
    "\n",
    "## Problem 6 (10 points)\n",
    "\n",
    "Consider an MTBE plume originating from a leaky gasoline storage tank.  The free-phase gasoline contains MTBE at 0.2 mole-fraction. The seepage velocity is $1~ \\frac{ft}{d}$ and the half-life for first-order decay of MTBE (from biochemical activity) is $T_{1/2} = 365~day$ and the retardation coefficient for MTBE in the auqifer is $R=1.1$.\n",
    "\n",
    "Determine:\n",
    "1. The MTBE concentration in the water phase at the source.\n",
    "2. The anticipated plume length from the source to a concentration limit of $C=20~\\frac{\\mu g}{L}$\n",
    "\n"
   ]
  },
  {
   "cell_type": "code",
   "execution_count": 9,
   "metadata": {},
   "outputs": [],
   "source": [
    "# Enter your solution below, or attach separate sheet(s) with your solution.\n",
    "\n"
   ]
  },
  {
   "cell_type": "code",
   "execution_count": null,
   "metadata": {},
   "outputs": [],
   "source": []
  }
 ],
 "metadata": {
  "kernelspec": {
   "display_name": "Python 3",
   "language": "python",
   "name": "python3"
  },
  "language_info": {
   "codemirror_mode": {
    "name": "ipython",
    "version": 3
   },
   "file_extension": ".py",
   "mimetype": "text/x-python",
   "name": "python",
   "nbconvert_exporter": "python",
   "pygments_lexer": "ipython3",
   "version": "3.8.10"
  }
 },
 "nbformat": 4,
 "nbformat_minor": 4
}
