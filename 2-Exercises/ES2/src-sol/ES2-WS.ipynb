{
 "cells": [
  {
   "cell_type": "markdown",
   "metadata": {},
   "source": [
    "# <font color=darkblue>CE 4363/5363 Groundwater Transport Phenomena <br> Spring 2023 Exercise Set 2</font>\n",
    "\n",
    "**LAST NAME, FIRST NAME**\n",
    "\n",
    "**R00000000**\n",
    "\n",
    "<hr>\n",
    "\n",
    "### Purpose : \n",
    "Apply selected analytical models for conservative (non-reactive) transport\n",
    " \n",
    "### Assessment Criteria : \n",
    "Completion, results plausible, format correct, example calculations shown.  \n"
   ]
  },
  {
   "cell_type": "markdown",
   "metadata": {},
   "source": [
    "<hr><hr>\n",
    "\n",
    "## Problem 1 (Problem 6-1, pg. 567)\n",
    "\n",
    "Chloride ($Cl^{-}$) is injected as a continuous source into a 1-D column 50 centimeters long at a seepage velocity of $10^{-3}~\\frac{cm}{s}$.  The effluent concentration measured at $t=1800~s$ from the start of the injection is $0.3$ of the initial concentration, and at $t=2700~s$ the effluent concentration is measured to be $0.4$ of the initial concentration.\n",
    "\n",
    "Determine:\n",
    "\n",
    "1. Sketch the system.\n",
    "2. The longitudinal dispersivity.\n",
    "3. The dispersion coefficient.\n"
   ]
  },
  {
   "cell_type": "markdown",
   "metadata": {},
   "source": [
    "# Enter your solution below, or attach separate sheet(s) with your solution.\n",
    "\n",
    "1. Sketch the system.\n",
    "\n",
    "![](p1.col.png)\n",
    "\n",
    "To find the two values below it is easiest to build a model, fit it to the observations, extract the dispersion coefficient and back-compute the dispersivity."
   ]
  },
  {
   "cell_type": "code",
   "execution_count": 5,
   "metadata": {},
   "outputs": [
    {
     "name": "stdout",
     "output_type": "stream",
     "text": [
      "29.497733712430787 41.05691699451572\n"
     ]
    },
    {
     "data": {
      "image/png": "[encoded data removed]",
      "text/plain": [
       "<Figure size 432x288 with 1 Axes>"
      ]
     },
     "metadata": {
      "needs_background": "light"
     },
     "output_type": "display_data"
    },
    {
     "name": "stdout",
     "output_type": "stream",
     "text": [
      "Computed concentration at time  1700  =  29.0  Target value  30.0\n",
      "Computed concentration at time  2700  =  41.0  Target value  40.0\n"
     ]
    }
   ],
   "source": [
    "from math import sqrt,erf,erfc,exp  # get special math functions\n",
    "#\n",
    "# prototype ogatabanks function\n",
    "#\n",
    "def ogatabanks(c_source,space,time,dispersion,velocity):\n",
    "    term1 = erfc(((space-velocity*time))/(2.0*sqrt(dispersion*time)))\n",
    "    term2 = exp(velocity*space/dispersion)\n",
    "    term3 = erfc(((space+velocity*time))/(2.0*sqrt(dispersion*time)))\n",
    "    ogatabanks = c_source*0.5*(term1+term2*term3)\n",
    "    return(ogatabanks)\n",
    "#\n",
    "# example inputs\n",
    "#\n",
    "c_source = 100.0 # source concentration\n",
    "space = 50.0        # (cm) where in X-direction are we\n",
    "time  = 6000.      # (s)how far in T-direction to extend the plot\n",
    "dispersion = .64  # dispersion coefficient (cm^2/s)\n",
    "velocity = 0.001  # pore velocity (cm/s)\n",
    "#\n",
    "# forward define and initialize vectors for a profile plot\n",
    "#\n",
    "how_many_points = 50   \n",
    "deltat = time/how_many_points\n",
    "t = [i*deltat for i in range(how_many_points)] # constructor notation\n",
    "c = [0.0 for i in range(how_many_points)]      # constructor notation\n",
    "\n",
    "t[0]=1e-5 #cannot have zero time, so use really small value first position in list\n",
    "#\n",
    "# build the profile predictions\n",
    "#\n",
    "for i in range(0,how_many_points,1):\n",
    "    c[i] = ogatabanks(c_source,space,t[i],dispersion,velocity)\n",
    "\n",
    "# Special Points\n",
    "cone = ogatabanks(c_source,space,1700,dispersion,velocity)\n",
    "ctwo = ogatabanks(c_source,space,2700,dispersion,velocity)\n",
    "print(cone,ctwo)\n",
    "#\n",
    "# Import graphics routines for picture making\n",
    "#\n",
    "from matplotlib import pyplot as plt\n",
    "#\n",
    "# Build and Render the Plot\n",
    "#\n",
    "plt.plot(t,c, color='red', linestyle = 'solid')  # make the plot object\n",
    "plt.title(\" Concentration History \\n Space: \" + repr(space) + \" length units \\n\" + \" Dispersion: \" + repr(dispersion) + \" length^2/time units \\n\" + \" Velocity: \" + repr(velocity) + \" length/time units \\n\") # caption the plot object\n",
    "plt.xlabel(\" Time since release \") # label x-axis\n",
    "plt.ylabel(\" Concentration        \") # label y-axis\n",
    "#plt.savefig(\"ogatabanksplot.png\") # optional generates just a plot for embedding into a report\n",
    "plt.plot([0,time],[0.3*c_source,0.3*c_source],color=\"magenta\")# target value 1\n",
    "plt.plot([1800,1800],[0,c_source],color=\"magenta\")# target value 1\n",
    "plt.plot([0,time],[0.4*c_source,0.4*c_source],color=\"orange\")# target value 2\n",
    "plt.plot([2700,2700],[0,c_source],color=\"orange\")# target value 2\n",
    "plt.plot(1800,cone,color=\"magenta\",marker=\".\", markersize=20)\n",
    "plt.plot(2700,ctwo,color=\"orange\",marker=\".\", markersize=20)\n",
    "plt.show() # plot to stdio -- has to be last call as it kills prior objects\n",
    "plt.close('all') # needed when plt.show call not invoked, optional here\n",
    "#sys.exit() # used to elegant exit for CGI-BIN use\n",
    "\n",
    "print(\"Computed concentration at time \",1700,\" = \",round(cone,0),\" Target value \",round(0.3*c_source,0))\n",
    "print(\"Computed concentration at time \",2700,\" = \",round(ctwo,0),\" Target value \",round(0.4*c_source,0))"
   ]
  },
  {
   "cell_type": "markdown",
   "metadata": {},
   "source": [
    "3. The dispersion coefficient.\n",
    "\n",
    "The dispersion coefficient from the modeling exercise above is $0.64~\\frac{cm^2}{sec}$\n",
    "\n",
    "2. The longitudinal dispersivity.\n",
    "\n",
    "Using equation 6.41 and a reported value for molecular diffusion of chloride in wasser of $2.3 \\times 10^{-5} ~ \\frac{cm^2}{sec}$ the dispersivity is $\\alpha_l = \\frac{D_l-D_d}{1 \\times 10^{-3}} = \\frac{0.64-2.3 \\times 10^{-5}}{1 \\times 10^{-3}} $\n",
    "\n"
   ]
  },
  {
   "cell_type": "code",
   "execution_count": 6,
   "metadata": {},
   "outputs": [
    {
     "name": "stdout",
     "output_type": "stream",
     "text": [
      "Dispersivity =  640.0  centimeters\n"
     ]
    }
   ],
   "source": [
    "alpha_l = (dispersion/velocity - 2.3e-5) #cm\n",
    "print(\"Dispersivity = \",round(alpha_l,3),\" centimeters\")"
   ]
  },
  {
   "cell_type": "markdown",
   "metadata": {},
   "source": [
    "## Comments \n",
    "This value of dispersivity is unrealistic."
   ]
  },
  {
   "cell_type": "markdown",
   "metadata": {},
   "source": [
    "The longitudinal dispersivity using the dispersivity plot in the book\n",
    "\n",
    "<br> ![](dispersivity.plot.png) \n",
    "\n",
    "Observe that for the problem conditions we are in the lower left corner of the log-log plot where dispersivities are approximately $\\frac{1}{10} ~ to ~\\frac{1}{100}$ of the path length. So for this problem $\\alpha_l = 0.5 ~to ~ 5 ~\\text{centimeters}$\n",
    "\n",
    "3. The dispersion coefficient.\n",
    "\n",
    "The dispersion coefficient is the product of dispersivity and seepage velocity (Eq. 6.7 of textbook) plus the molecular diffusion coefficient ($D_d ~\\approx~2 \\times 10^{-9} \\frac{cm^2}{sec}$). For this problem\n",
    "\n",
    "$D_l = 0.5 \\cdot 1\\times~10^{-3}~\\frac{cm^2}{sec} + 2 \\times 10^{-9} \\frac{cm^2}{sec} ~\\approx~ 5.0~to~50.0 \\times 10^{-4} \\frac{cm^2}{sec}$\n",
    "\n",
    "So the dispersion coefficients in this problem are unrealistic. \n",
    "\n"
   ]
  },
  {
   "cell_type": "markdown",
   "metadata": {},
   "source": [
    "<hr><hr>\n",
    "\n",
    "## Problem 2 (Problem 6-2, pg. 567)\n",
    "\n",
    "Chloride (𝐶𝑙−) is injected as a continuous source into a 1-D column.\n",
    "The system has Darcy velocity of $5.18 \\times 10^{-3}~\\frac{in}{day}$, a porosity of $n=0.30$, and longitudinal dispersivity of $5 m$.\n",
    "\n",
    "Determine:\n",
    "\n",
    "1. Sketch the system.\n",
    "2. The ratio $\\frac{C}{C_0}$ at a location 0.3 meters from the injection location after 5 days of injection.\n",
    "3. The ratio $\\frac{C}{C_0}$ at a location 0.3 meters from the injection location after 5 days of injection, if the dispersivity is 4 times larger ($20 m$).\n",
    "4. Comment on the difference in results.\n"
   ]
  },
  {
   "cell_type": "code",
   "execution_count": 7,
   "metadata": {},
   "outputs": [],
   "source": [
    "# Enter your solution below, or attach separate sheet(s) with your solution."
   ]
  },
  {
   "cell_type": "markdown",
   "metadata": {},
   "source": [
    "### 1. Sketch the system\n",
    "\n",
    "Convert $5.18 \\times 10^{-3}~\\frac{in}{day}$ into meters per day\n",
    "\n",
    "$5.18 \\times 10^{-3}~\\frac{in}{day} * \\frac{1~ft}{12~in} * \\frac{1~m}{3.28~ft} = 1.32 \\times 10^{-4} \\frac{m}{day}$\n",
    "\n",
    "Then find the pore velocity\n",
    "\n",
    "$u = 1.32 \\times 10^{-4} \\frac{m}{day} \\cdot \\frac{1}{0.3} = 4.4 \\times 10^{-4} \\frac{m}{day} $\n",
    "\n",
    "![](p2.col.png)\n",
    "\n",
    "\n",
    "### 2. The ratio $\\frac{C}{C_0}$ at a location 0.3 meters from the injection location after 5 days of injection.\n",
    "\n",
    "Apply the same modeling tool."
   ]
  },
  {
   "cell_type": "code",
   "execution_count": 1,
   "metadata": {},
   "outputs": [
    {
     "data": {
      "image/png": "[encoded data removed]",
      "text/plain": [
       "<Figure size 432x288 with 1 Axes>"
      ]
     },
     "metadata": {
      "needs_background": "light"
     },
     "output_type": "display_data"
    },
    {
     "name": "stdout",
     "output_type": "stream",
     "text": [
      "C/Co at 0.3 meters =  0.04\n"
     ]
    }
   ],
   "source": [
    "from math import sqrt,erf,erfc,exp  # get special math functions\n",
    "#\n",
    "# prototype ogatabanks function\n",
    "#\n",
    "def ogatabanks(c_source,space,time,dispersion,velocity):\n",
    "    term1 = erfc(((space-velocity*time))/(2.0*sqrt(dispersion*time)))\n",
    "    term2 = exp(velocity*space/dispersion)\n",
    "    term3 = erfc(((space+velocity*time))/(2.0*sqrt(dispersion*time)))\n",
    "    ogatabanks = c_source*0.5*(term1+term2*term3)\n",
    "    return(ogatabanks)\n",
    "#\n",
    "# example inputs\n",
    "#\n",
    "c_source = 1000.0 # source concentration\n",
    "space = 3.      # how far in X-direction to extend the plot\n",
    "time  = 5.       # time since release\n",
    "velocity = (1.32E-04)/(0.30)    # pore velocity (in/day)\n",
    "dispersion = (5)*velocity  # dispersion coefficient\n",
    "#\n",
    "# forward define and initialize vectors for a profile plot\n",
    "#\n",
    "how_many_points = 500  \n",
    "deltax = space/how_many_points\n",
    "x = [i*deltax for i in range(how_many_points)] # constructor notation\n",
    "c = [0.0 for i in range(how_many_points)]      # constructor notation\n",
    "#\n",
    "# build the profile predictions\n",
    "#\n",
    "for i in range(0,how_many_points,1):\n",
    "    c[i] = ogatabanks(c_source,x[i],time,dispersion,velocity)\n",
    "#\n",
    "# Import graphics routines for picture making\n",
    "#\n",
    "from matplotlib import pyplot as plt\n",
    "#\n",
    "# Build and Render the Plot\n",
    "#\n",
    "plt.plot(x,c, color='red', linestyle = 'solid')  # make the plot object\n",
    "plt.title(\" Concentration Profile \\n Time: \" + repr(time) + \" time units \\n\" + \" Dispersion: \" + repr(dispersion) + \" length^2/time units \\n\" + \" Velocity: \" + repr(velocity) + \" length/time units \\n\") # caption the plot object\n",
    "plt.xlabel(\" Distance from Source \") # label x-axis\n",
    "plt.ylabel(\" Concentration        \") # label y-axis\n",
    "#plt.savefig(\"ogatabanksplot.png\") # optional generates just a plot for embedding into a report\n",
    "plt.show() # plot to stdio -- has to be last call as it kills prior objects\n",
    "plt.close('all') # needed when plt.show call not invoked, optional here\n",
    "#sys.exit() # used to elegant exit for CGI-BIN use\n",
    "\n",
    "cone = ogatabanks(c_source,0.3,time,dispersion,velocity)\n",
    "print(\"C/Co at 0.3 meters = \",round(cone/c_source,2),)"
   ]
  },
  {
   "cell_type": "markdown",
   "metadata": {},
   "source": [
    "### 3. The ratio $\\frac{C}{C_0}$ at a location 0.3 meters from the injection location after 5 days of injection, if the dispersivity is 4 times larger ($20 m$)."
   ]
  },
  {
   "cell_type": "code",
   "execution_count": 3,
   "metadata": {},
   "outputs": [
    {
     "data": {
      "image/png": "[encoded data removed]",
      "text/plain": [
       "<Figure size 432x288 with 1 Axes>"
      ]
     },
     "metadata": {
      "needs_background": "light"
     },
     "output_type": "display_data"
    },
    {
     "name": "stdout",
     "output_type": "stream",
     "text": [
      "C/Co at 0.3 meters =  0.31\n"
     ]
    }
   ],
   "source": [
    "from math import sqrt,erf,erfc,exp  # get special math functions\n",
    "#\n",
    "# prototype ogatabanks function\n",
    "#\n",
    "def ogatabanks(c_source,space,time,dispersion,velocity):\n",
    "    term1 = erfc(((space-velocity*time))/(2.0*sqrt(dispersion*time)))\n",
    "    term2 = exp(velocity*space/dispersion)\n",
    "    term3 = erfc(((space+velocity*time))/(2.0*sqrt(dispersion*time)))\n",
    "    ogatabanks = c_source*0.5*(term1+term2*term3)\n",
    "    return(ogatabanks)\n",
    "#\n",
    "# example inputs\n",
    "#\n",
    "c_source = 1000.0 # source concentration\n",
    "space = 3.      # how far in X-direction to extend the plot\n",
    "time  = 5.       # time since release\n",
    "velocity = (1.32E-04)/(0.30)    # pore velocity (in/day)\n",
    "dispersion = 4*(5)*velocity  # dispersion coefficient\n",
    "#\n",
    "# forward define and initialize vectors for a profile plot\n",
    "#\n",
    "how_many_points = 50  \n",
    "deltax = space/how_many_points\n",
    "x = [i*deltax for i in range(how_many_points)] # constructor notation\n",
    "c = [0.0 for i in range(how_many_points)]      # constructor notation\n",
    "#\n",
    "# build the profile predictions\n",
    "#\n",
    "for i in range(0,how_many_points,1):\n",
    "    c[i] = ogatabanks(c_source,x[i],time,dispersion,velocity)\n",
    "#\n",
    "# Import graphics routines for picture making\n",
    "#\n",
    "from matplotlib import pyplot as plt\n",
    "#\n",
    "# Build and Render the Plot\n",
    "#\n",
    "plt.plot(x,c, color='red', linestyle = 'solid')  # make the plot object\n",
    "plt.title(\" Concentration Profile \\n Time: \" + repr(time) + \" time units \\n\" + \" Dispersion: \" + repr(dispersion) + \" length^2/time units \\n\" + \" Velocity: \" + repr(velocity) + \" length/time units \\n\") # caption the plot object\n",
    "plt.xlabel(\" Distance from Source \") # label x-axis\n",
    "plt.ylabel(\" Concentration        \") # label y-axis\n",
    "#plt.savefig(\"ogatabanksplot.png\") # optional generates just a plot for embedding into a report\n",
    "plt.show() # plot to stdio -- has to be last call as it kills prior objects\n",
    "plt.close('all') # needed when plt.show call not invoked, optional here\n",
    "#sys.exit() # used to elegant exit for CGI-BIN use\n",
    "\n",
    "cone = ogatabanks(c_source,0.3,time,dispersion,velocity)\n",
    "print(\"C/Co at 0.3 meters = \",round(cone/c_source,2),)"
   ]
  },
  {
   "cell_type": "markdown",
   "metadata": {},
   "source": [
    "### 4. Comment on the difference in results.\n",
    "\n",
    "The first condition with relatively small dispersivity exhibits about 1/7 the spread at the indicated time.  The \"advective\" part of the transport is at location $x_{adv} = 0.00044 \\frac{m}{day} \\cdot 5 \\text{day} = 0.0022~meters$ hence the \"front\" has hardly moved."
   ]
  },
  {
   "cell_type": "markdown",
   "metadata": {},
   "source": [
    "<hr><hr> \n",
    "\n",
    "## Problem 3 (Problem 6-3, pg. 587)\n",
    "\n",
    "The estimated mass from an instantaneous release of benzene is $107 \\frac{kg}{m^2}$ of a 1-D aquifer system. The aquifer has a seepage velocity of $0.03 \\frac{in}{day}$ and a longitudinal **dispersion coefficient** of $9 \\times 10^{-4}\\frac{m^2}{day}$\n",
    "\n",
    "Determine:\n",
    "\n",
    "1. Sketch the system.\n",
    "2. Plot a concentration profile at $t = 1~\\text{year}$ for $x = 0$ to $x = 50$ inches, in 1-inch increments.\n",
    "2. Plot a concentration history at $x=v\\times (1~\\text{year})$ (this value stays constant) for $t = 0$ to $t = 2 $ years in $\\frac{1}{12}$-year increments.\n",
    "3. The maximum concentration at $t = 1~\\text{year}$ and its location."
   ]
  },
  {
   "cell_type": "code",
   "execution_count": 10,
   "metadata": {},
   "outputs": [],
   "source": [
    "# Enter your solution below, or attach separate sheet(s) with your solution."
   ]
  },
  {
   "cell_type": "markdown",
   "metadata": {},
   "source": [
    "### 1. Sketch the system.\n",
    "\n",
    "- Convert $0.03 \\frac{in}{day}$ into $\\frac{m}{day}$ <br>\n",
    "$0.03 \\frac{in}{day} * \\frac{1~ft}{12~in} * \\frac{1~m}{3.28~ft} = 0.0007622 \\frac{m}{day}$\n",
    "\n",
    "- Convert $1 in * \\frac{0.0254~m}{1~in} = 0.0254~m$\n",
    "\n",
    "![](p3.col.png)"
   ]
  },
  {
   "cell_type": "markdown",
   "metadata": {},
   "source": [
    "### 2. Plot a concentration profile at $t = 1~\\text{year}$ for $x = 0$ to $x = 50$ inches, in 1-inch increments.\n",
    "\n",
    "- Convert $1~in * \\frac{0.0254~m}{1~in} = 0.0254~m$"
   ]
  },
  {
   "cell_type": "code",
   "execution_count": 11,
   "metadata": {},
   "outputs": [
    {
     "data": {
      "image/png": "[encoded data removed]",
      "text/plain": [
       "<Figure size 432x288 with 1 Axes>"
      ]
     },
     "metadata": {
      "needs_background": "light"
     },
     "output_type": "display_data"
    },
    {
     "name": "stdout",
     "output_type": "stream",
     "text": [
      "Center of Distribution Position :  0.28  length units\n"
     ]
    }
   ],
   "source": [
    "def conc(distance,time,mass,dispersion,velocity):\n",
    "    import math\n",
    "    term1 = math.sqrt(4.0*math.pi*dispersion*time)\n",
    "    term2 = math.exp(-((distance-velocity*time)**2)/(4.0*dispersion*time))\n",
    "    conc = (mass/term1)*term2\n",
    "    return(conc)\n",
    "\n",
    "thick       = 1.0\n",
    "width       = 1.0\n",
    "length      = 1.0\n",
    "c0          = 107.0 # kg/m^3\n",
    "volume      = thick*width*length\n",
    "porosity    = 1.0\n",
    "mass        = (c0*volume)/(porosity)\n",
    "dispersion  = 9e-04 #m^2/day\n",
    "velocity    = 0.0007622 #m/day\n",
    "deltax      = 0.0254 #inches as meters\n",
    "x = [] #inches as meters\n",
    "for i in range(50):\n",
    "    x.append(float(i)*deltax)\n",
    "time        = 365.0 #years as days\n",
    "c = [0 for i in range(50)] #concentration \n",
    "for i in range(50):\n",
    "    c[i]=conc(x[i],time,mass,dispersion,velocity)\n",
    "#\n",
    "# Import graphics routines for picture making\n",
    "#\n",
    "from matplotlib import pyplot as plt\n",
    "#\n",
    "# Build and Render the Plot\n",
    "#\n",
    "plt.plot(x,c, color='red', linestyle = 'solid')  # make the plot object\n",
    "plt.title(\" Concentration Profile \\n Time: \" + repr(time) + \" time units \\n\" + \" Dispersion: \" + repr(dispersion) + \" length^2/time units \\n\" + \" Velocity: \" + repr(velocity) + \" length/time units \\n\") # caption the plot object\n",
    "plt.xlabel(\" Distance from Source \") # label x-axis\n",
    "plt.ylabel(\" Concentration        \") # label y-axis\n",
    "#plt.savefig(\"ogatabanksplot.png\") # optional generates just a plot for embedding into a report\n",
    "plt.show() # plot to stdio -- has to be last call as it kills prior objects\n",
    "plt.close('all') # needed when plt.show call not invoked, optional here\n",
    "#sys.exit() # used to elegant exit for CGI-BIN use\n",
    "print(\"Center of Distribution Position : \",round(time*velocity,2),\" length units\")\n"
   ]
  },
  {
   "cell_type": "markdown",
   "metadata": {},
   "source": [
    "### 3. Plot a concentration history at $x=v\\times (1~\\text{year})$ (this value stays constant) for $t = 0$ to $t = 2 $ years in $\\frac{1}{12}$-year increments."
   ]
  },
  {
   "cell_type": "code",
   "execution_count": 12,
   "metadata": {},
   "outputs": [
    {
     "data": {
      "image/png": "[encoded data removed]",
      "text/plain": [
       "<Figure size 432x288 with 1 Axes>"
      ]
     },
     "metadata": {
      "needs_background": "light"
     },
     "output_type": "display_data"
    },
    {
     "name": "stdout",
     "output_type": "stream",
     "text": [
      "Center of Distribution Position :  0.28  length units\n"
     ]
    }
   ],
   "source": [
    "def conc(distance,time,mass,dispersion,velocity):\n",
    "    import math\n",
    "    term1 = math.sqrt(4.0*math.pi*dispersion*time)\n",
    "    term2 = math.exp(-((distance-velocity*time)**2)/(4.0*dispersion*time))\n",
    "    conc = (mass/term1)*term2\n",
    "    return(conc)\n",
    "\n",
    "thick       = 1.0\n",
    "width       = 1.0\n",
    "length      = 1.0\n",
    "c0          = 107.0 # kg/m^3\n",
    "volume      = thick*width*length\n",
    "porosity    = 1.0\n",
    "mass        = (c0*volume)/(porosity)\n",
    "dispersion  = 9e-04 #m^2/day\n",
    "velocity    = 0.0007622 #m/day\n",
    "deltat      = (1/12)*365 #\n",
    "howmany = 2*365/deltat \n",
    "howmany = int(howmany)\n",
    "#print(howmany)\n",
    "\n",
    "t = [] #days\n",
    "for i in range(howmany*2):\n",
    "    t.append(float(i)*deltat)\n",
    "    if t[i] == 0: # trap zero time to prevent divide by zero\n",
    "        t[i]= 0.00000001\n",
    "    \n",
    "distance        = 365.0*velocity #years as days\n",
    "\n",
    "c = [0 for i in range(howmany*2)] #concentration \n",
    "\n",
    "for i in range(howmany*2):\n",
    "    c[i]=conc(distance,t[i],mass,dispersion,velocity)\n",
    "#\n",
    "# Import graphics routines for picture making\n",
    "#\n",
    "from matplotlib import pyplot as plt\n",
    "#\n",
    "# Build and Render the Plot\n",
    "#\n",
    "plt.plot(t,c, color='red', linestyle = 'solid')  # make the plot object\n",
    "plt.title(\" Concentration History \\n Distance: \" + repr(distance) + \" length units \\n\" + \" Dispersion: \" + repr(dispersion) + \" length^2/time units \\n\" + \" Velocity: \" + repr(velocity) + \" length/time units \\n\") # caption the plot object\n",
    "plt.xlabel(\" Elapsed Time (days) \") # label x-axis\n",
    "plt.ylabel(\" Concentration        \") # label y-axis\n",
    "plt.plot([365,365],[0,c0])\n",
    "plt.plot([365*2,365*2],[0,c0])\n",
    "plt.text(365,100,\"  year 1\")\n",
    "plt.text(365*2,100,\"  year 2\")\n",
    "#plt.savefig(\"ogatabanksplot.png\") # optional generates just a plot for embedding into a report\n",
    "plt.show() # plot to stdio -- has to be last call as it kills prior objects\n",
    "plt.close('all') # needed when plt.show call not invoked, optional here\n",
    "#sys.exit() # used to elegant exit for CGI-BIN use\n",
    "print(\"Center of Distribution Position : \",round(time*velocity,2),\" length units\")\n"
   ]
  },
  {
   "cell_type": "markdown",
   "metadata": {},
   "source": [
    "### 4. The maximum concentration at $t = 1~\\text{year}$ and its location."
   ]
  },
  {
   "cell_type": "code",
   "execution_count": 13,
   "metadata": {},
   "outputs": [
    {
     "name": "stdout",
     "output_type": "stream",
     "text": [
      " Maximum at time :  365.0  days\n",
      "     at location :  10.953  inches\n",
      "      is : 52.664  ppm \n"
     ]
    }
   ],
   "source": [
    "def conc(distance,time,mass,dispersion,velocity):\n",
    "    import math\n",
    "    term1 = math.sqrt(4.0*math.pi*dispersion*time)\n",
    "    term2 = math.exp(-((distance-velocity*time)**2)/(4.0*dispersion*time))\n",
    "    conc = (mass/term1)*term2\n",
    "    return(conc)\n",
    "\n",
    "thick       = 1.0\n",
    "width       = 1.0\n",
    "length      = 1.0\n",
    "c0          = 107.0 # kg/m^3\n",
    "volume      = thick*width*length\n",
    "porosity    = 1.0\n",
    "mass        = (c0*volume)/(porosity)\n",
    "dispersion  = 9e-04 #m^2/day\n",
    "velocity    = 0.0007622 #m/day\n",
    "deltax      = 0.0254 #inches as meters\n",
    "x = [] #inches as meters\n",
    "for i in range(365):\n",
    "    x.append(float(i)*deltax)\n",
    "time        = 365.0 #years as days\n",
    "c = [0 for i in range(365)] #concentration \n",
    "for i in range(365):\n",
    "    c[i]=conc(x[i],time,mass,dispersion,velocity)\n",
    "    \n",
    "#for i in range(365):\n",
    "#    print(round(x[i],3),round(c[i],3))\n",
    "\n",
    "    \n",
    "xmax = velocity*time\n",
    "cmax = conc(xmax,time,mass,dispersion,velocity)\n",
    "\n",
    "print(\" Maximum at time : \",round(time,3) ,\" days\\n     at location : \", round(xmax/deltax,3),\" inches\\n      is :\" ,round(cmax,3),\" ppm \")"
   ]
  },
  {
   "cell_type": "code",
   "execution_count": null,
   "metadata": {},
   "outputs": [],
   "source": []
  }
 ],
 "metadata": {
  "kernelspec": {
   "display_name": "Python 3",
   "language": "python",
   "name": "python3"
  },
  "language_info": {
   "codemirror_mode": {
    "name": "ipython",
    "version": 3
   },
   "file_extension": ".py",
   "mimetype": "text/x-python",
   "name": "python",
   "nbconvert_exporter": "python",
   "pygments_lexer": "ipython3",
   "version": "3.8.10"
  }
 },
 "nbformat": 4,
 "nbformat_minor": 4
}
