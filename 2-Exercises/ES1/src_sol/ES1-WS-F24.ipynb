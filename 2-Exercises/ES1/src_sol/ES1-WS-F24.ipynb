{
 "cells": [
  {
   "cell_type": "markdown",
   "metadata": {},
   "source": [
    "# <font color=darkblue>CE 5364 Groundwater Transport Phenomena <br> Fall 2024 Exercise Set 1</font>\n",
    "\n",
    "**LAST NAME, FIRST NAME**\n",
    "\n",
    "**R00000000**\n",
    "\n",
    "<hr>\n",
    "\n",
    "### Purpose : \n",
    "Refresh groundwater principles; apply principles to quantitative cases\n",
    " \n",
    "### Assessment Criteria : \n",
    "Completion, results plausible, format correct, example calculations shown.  \n"
   ]
  },
  {
   "cell_type": "markdown",
   "metadata": {},
   "source": [
    "<hr><hr>\n",
    "\n",
    "## Problem 1 (Problem 2-3, pg. 578)\n",
    "\n",
    "A sand column has the following characteristics:\n",
    "\n",
    "$$ K = 10^{-4} \\frac{cm}{s} \\\\ A = 75 cm^{2} \\\\ \\frac{dh}{dl} = 0.01 \\\\ n = 0.20$$\n",
    "\n",
    "Determine:\n",
    "\n",
    "1. Sketch the system.\n",
    "2. The discharge velocity.\n",
    "3. The seepage velocity.\n",
    "4. The volumetric flow rate through the column."
   ]
  },
  {
   "cell_type": "markdown",
   "metadata": {},
   "source": [
    "## sketch\n",
    "\n",
    "![](es1-1-sketch.png)"
   ]
  },
  {
   "cell_type": "markdown",
   "metadata": {},
   "source": [
    "## list known quantities\n",
    "\n",
    "$$ K = 10^{-4} \\frac{cm}{s} $$\n",
    "$$ A = 75 cm^{2} $$ \n",
    "$$ \\frac{dh}{dl} = 0.01 $$\n",
    "$$ n = 0.20 $$\n"
   ]
  },
  {
   "cell_type": "markdown",
   "metadata": {},
   "source": [
    "## list unknown quantities\n",
    "\n",
    "1. The discharge velocity, $q = \\frac{Q}{A}$\n",
    "3. The seepage velocity, $u = \\frac{q}{n} = \\frac{Q}{nA}$\n",
    "4. The volumetric flow rate through the column, $Q$"
   ]
  },
  {
   "cell_type": "markdown",
   "metadata": {},
   "source": [
    "## governing principles\n",
    "\n",
    "1. Darcy's law; $Q=KA\\frac{dh}{dl}$\n",
    "2. Definition(s) of discharge and seepage velocity "
   ]
  },
  {
   "cell_type": "markdown",
   "metadata": {},
   "source": [
    "## solution details (e.g. step-by-step computations)"
   ]
  },
  {
   "cell_type": "code",
   "execution_count": 1,
   "metadata": {},
   "outputs": [],
   "source": [
    "K = 1.0e-04\n",
    "A = 75\n",
    "dhdl= 0.01\n",
    "n = 0.20"
   ]
  },
  {
   "cell_type": "code",
   "execution_count": 2,
   "metadata": {},
   "outputs": [
    {
     "name": "stdout",
     "output_type": "stream",
     "text": [
      "discharge velocity =  1e-06  cm/sec\n"
     ]
    }
   ],
   "source": [
    "q=K*dhdl\n",
    "print(\"discharge velocity = \",round(q,6),\" cm/sec\")"
   ]
  },
  {
   "cell_type": "code",
   "execution_count": 3,
   "metadata": {},
   "outputs": [
    {
     "name": "stdout",
     "output_type": "stream",
     "text": [
      "seepage velocity =  5e-06  cm/sec\n"
     ]
    }
   ],
   "source": [
    "u=q/n\n",
    "print(\"seepage velocity = \",round(u,6),\" cm/sec\")"
   ]
  },
  {
   "cell_type": "code",
   "execution_count": 4,
   "metadata": {},
   "outputs": [
    {
     "name": "stdout",
     "output_type": "stream",
     "text": [
      "Volumetric discharge =  7.5e-05  ml/sec\n"
     ]
    }
   ],
   "source": [
    "Q=q*A\n",
    "print(\"Volumetric discharge = \",round(Q,6),\" ml/sec\")"
   ]
  },
  {
   "cell_type": "markdown",
   "metadata": {},
   "source": [
    "## discussion\n",
    "\n",
    "Direct application of Darcy's law and definitions from the mighty internet is all that is required for this exercise."
   ]
  },
  {
   "cell_type": "markdown",
   "metadata": {},
   "source": [
    "<hr><hr> \n",
    "\n",
    "## Problem 2 (Problem 2-12, pg. 579)\n",
    "\n",
    "Three geologic formations overlie one another with the characteristics listed below.\n",
    "\n",
    "$$ b_1 = 50~ft ~~~~ K_1 = 0.0002 \\frac{ft}{s}\\\\ b_2 = 20~ft ~~~~ K_1 = 0.000005 \\frac{ft}{s}\\\\ b_3 = 210~ft ~~~~ K_1 = 0.001 \\frac{ft}{s}$$\n",
    "\n",
    "A constant velocity vertical flow field exists across the three formations.\n",
    "The hydraulic head at the top of the formations (top of formation 1) is 33 feet.  The hydraulic head at the bottom of the formations (bottom of formation 3) is 21 feet.\n",
    "\n",
    "Determine:\n",
    "\n",
    "1. Sketch the system.\n",
    "2. The hydraulic head at the internal boundary between formation 1 and 2.\n",
    "3. The hydraulic head at the internal boundary between formation 2 and 3.\n",
    "4. Approximate time for a tracer to flow through the three layers if the porosities $n_1$, $n_2$, and $n_3$ are 0.30,0.42, and 0.35, respectively"
   ]
  },
  {
   "cell_type": "code",
   "execution_count": 5,
   "metadata": {},
   "outputs": [],
   "source": [
    "# sketch(s) \n",
    "# list known quantities\n",
    "# list unknown quantities\n",
    "# governing principles\n",
    "# solution details (e.g. step-by-step computations)\n",
    "# discussion"
   ]
  },
  {
   "cell_type": "markdown",
   "metadata": {},
   "source": [
    "## sketch\n",
    "\n",
    "![](es1-3-sketch.png)\n",
    "\n",
    "## list known quantities\n",
    "\n",
    "Thickness, hydraulic conductivities, porosities and heads as shown on sketch above.\n",
    "\n",
    "## list unknown quantities\n",
    "\n",
    "1. H at 1-2 interface.\n",
    "2. H at 2-3 interface.\n",
    "3. Time for tracer to traverse entire formation\n",
    "\n",
    "\n",
    "## governing principles\n",
    "\n",
    "1. Darcy's law by layer\n",
    "3. velocity = q/n\n",
    "2. time = thickness/velocity\n"
   ]
  },
  {
   "cell_type": "code",
   "execution_count": 6,
   "metadata": {},
   "outputs": [
    {
     "name": "stdout",
     "output_type": "stream",
     "text": [
      "vertical composite Kv:  6.3e-05  ft/sec\n",
      "vertical hydraulic gradient : 0.042857  ft/ft\n",
      "vertical specific discharge q:  3e-06  ft/sec\n"
     ]
    }
   ],
   "source": [
    "# Find total discharge per unit area through entire formation\n",
    "htop=33\n",
    "hbot=21\n",
    "k1=0.0002\n",
    "k2=0.000005\n",
    "k3=0.001\n",
    "l1=50\n",
    "l2=20\n",
    "l3=210\n",
    "n1=0.30\n",
    "n2=0.42\n",
    "n3=0.35\n",
    "Kbar=(l1+l2+l3)/((l1/k1) + (l2/k2) + (l3/k3))\n",
    "print(\"vertical composite Kv: \",round(Kbar,6),\" ft/sec\")\n",
    "dH=htop - hbot\n",
    "dl = l1+l2+l3\n",
    "qt=Kbar*dH/dl\n",
    "print(\"vertical hydraulic gradient :\",round(dH/dl,6),\" ft/ft\")\n",
    "print(\"vertical specific discharge q: \",round(qt,6),\" ft/sec\")"
   ]
  },
  {
   "cell_type": "code",
   "execution_count": 7,
   "metadata": {},
   "outputs": [
    {
     "name": "stdout",
     "output_type": "stream",
     "text": [
      "head at layer 1-2 interface : 32.33  ft \n"
     ]
    }
   ],
   "source": [
    "# find head loss in layer 1\n",
    "dh1 = l1*qt/k1\n",
    "h12 = htop -dh1\n",
    "print(\"head at layer 1-2 interface :\",round(h12,2),\" ft \")"
   ]
  },
  {
   "cell_type": "code",
   "execution_count": 8,
   "metadata": {},
   "outputs": [
    {
     "name": "stdout",
     "output_type": "stream",
     "text": [
      "head at layer 2-3 interface : 21.57  ft \n"
     ]
    }
   ],
   "source": [
    "# find head loss in layer 2\n",
    "dh2 = l2*qt/k2\n",
    "h23 = htop - dh1 -dh2\n",
    "print(\"head at layer 2-3 interface :\",round(h23,2),\" ft \")"
   ]
  },
  {
   "cell_type": "code",
   "execution_count": 9,
   "metadata": {},
   "outputs": [
    {
     "name": "stdout",
     "output_type": "stream",
     "text": [
      "tracer time in layer 1 : 5575000.0  sec\n"
     ]
    }
   ],
   "source": [
    "# time in layer 1\n",
    "time1 = l1*n1/qt\n",
    "print(\"tracer time in layer 1 :\",round(time1,6),\" sec\")"
   ]
  },
  {
   "cell_type": "code",
   "execution_count": 10,
   "metadata": {},
   "outputs": [
    {
     "name": "stdout",
     "output_type": "stream",
     "text": [
      "tracer time in layer 2 : 3122000.0  sec\n"
     ]
    }
   ],
   "source": [
    "# time in layer 2\n",
    "time2 = l2*n2/qt\n",
    "print(\"tracer time in layer 2 :\",round(time2,6),\" sec\")"
   ]
  },
  {
   "cell_type": "code",
   "execution_count": 11,
   "metadata": {},
   "outputs": [
    {
     "name": "stdout",
     "output_type": "stream",
     "text": [
      "tracer time in layer 3 : 27317500.0  sec\n"
     ]
    }
   ],
   "source": [
    "# time in layer 3\n",
    "time3 = l3*n3/qt\n",
    "print(\"tracer time in layer 3 :\",round(time3,6),\" sec\")"
   ]
  },
  {
   "cell_type": "code",
   "execution_count": 12,
   "metadata": {},
   "outputs": [
    {
     "name": "stdout",
     "output_type": "stream",
     "text": [
      "Tracer travel time : 416.834  days \n"
     ]
    }
   ],
   "source": [
    "totaltime=time1+time2+time3\n",
    "totaltime=totaltime/86400\n",
    "print(\"Tracer travel time :\",round(totaltime,3),\" days \")"
   ]
  },
  {
   "cell_type": "markdown",
   "metadata": {},
   "source": [
    "<hr><hr>\n",
    "\n",
    "## Problem 3 (Problem 2-8, pg. 578)\n",
    "\n",
    "The figure below shows a piezometric map for a shallow sand aquifer.  The hydraulic conductivtiy is estimated to be $1.5 \\times 10^{-2}~\\frac{cm}{s}$, the saturated thickness is 40 feet, and the effective porosity is 0.3.\n",
    "\n",
    "![](Fig5.18.png)\n",
    "\n",
    "Determine:\n",
    "\n",
    "1. Which well is expected to be the most contaminated.\n",
    "2. The groundwater velocity and seepage velocity across the plume.\n",
    "3. The duration that the source has been contaminating the aquifer (neglect dispersion, diffusiom, and adsorption).\n",
    "4. The flow rate across the plume.\n",
    "5. An explaination for contamination upgradient of the source zone."
   ]
  },
  {
   "cell_type": "markdown",
   "metadata": {},
   "source": [
    "# sketch(s) \n",
    "# list known quantities\n",
    "- Head map (provided)\n",
    "- $b~\\approx~40~feet$\n",
    "- $K~\\approx~ 1.5 \\times 10^{-2}~\\frac{cm}{s} \\cdot \\frac{1~in}{2.54~cm} \\cdot \\frac{1~ft}{12~in} \\cdot \\frac{86400~s}{1~day} = 42.52~\\frac{ft}{day}$\n",
    "- $n~\\approx~ 0.30 $\n",
    "# list unknown quantities\n",
    "1. Which well is expected to be the most contaminated.\n",
    "2. The groundwater velocity and seepage velocity across the plume.\n",
    "3. The duration that the source has been contaminating the aquifer (neglect dispersion, diffusiom, and adsorption).\n",
    "4. The flow rate across the plume.\n",
    "5. An explaination for contamination upgradient of the source zone.\n",
    "\n",
    "# governing principles\n",
    "1. Darcy's law; $Q=KA\\frac{dh}{dl}$\n",
    "2. Definition(s) of discharge and seepage velocity \n",
    "\n",
    "# solution details (e.g. step-by-step computations)\n",
    "1. Which well is expected to be the most contaminated.\n",
    "  - If release is ongoing, probably well A in annotated map below.\n",
    "  - If release is \"past history\" then probably well M near middle of the plume.\n",
    "  <br>![](Fig5.18.annotate.png)\n",
    "2. The groundwater velocity and seepage velocity across the plume.\n",
    "  - See annotated map below.\n",
    "  - Gradients near well A and well M are calculated directly on the map annotations.\n",
    "  - Specific discharge values:\n",
    "  <br> $q_{near~well~A} = \\frac{Q}{A} _{near~well~A}~\\approx~45.52\\frac{ft}{day}(0.0014)= 0.0637 \\frac{ft}{day}$\n",
    "  <br> $q_{near~well~M} = \\frac{Q}{A} _{near~well~M}~\\approx~45.52\\frac{ft}{day}(0.00125)= 0.0569 \\frac{ft}{day}$\n",
    "  <br> A reasonable average is  $q = \\frac{Q}{A} _{average}~\\approx~0.06 \\frac{ft}{day}$\n",
    "  - Species (seepage) velocity is \n",
    "  <br> $U=\\frac{q}{n} = \\frac{1}{n} \\frac{Q}{A} = \\frac{1}{0.3} 0.06 \\frac{ft}{day} = 0.2 \\frac{ft}{day}$\n",
    "3. The duration that the source has been contaminating the aquifer (neglect dispersion, diffusiom, and adsorption).\n",
    "  - Choose a reasonable pathline like the one on the drawing below and measure its length, then using definition of velocity, solve for duration.\n",
    "  <br> Pathline is $\\approx~925~feet$\n",
    "  <br> $t=\\frac{x}{U}= \\frac{925}{0.02} = 4625~days$\n",
    "4. The flow rate across the plume.\n",
    "  - Apply Darcy's law\n",
    "  <br> $Q=qA=0.06 \\frac{ft}{day} \\cdot 325 ft \\cdot 40 ft = 780 \\frac{ft^3}{day}$\n",
    "5. An explaination for contamination upgradient of the source zone.\n",
    "  - Dispersion/diffusion of constituients, and/or\n",
    "  - The regional water table is not static and at some point in past, gradient was in Easterly direction.\n",
    "\n",
    "# discussion\n",
    "\n",
    "- The non-static water table is very likely, and quarterly monitoring is a usual standard to detect and account for seasonal/temporal variability.\n",
    "- We will revisit this problem later on when we discuss advection modeling."
   ]
  },
  {
   "cell_type": "code",
   "execution_count": null,
   "metadata": {},
   "outputs": [],
   "source": []
  }
 ],
 "metadata": {
  "kernelspec": {
   "display_name": "Python 3",
   "language": "python",
   "name": "python3"
  },
  "language_info": {
   "codemirror_mode": {
    "name": "ipython",
    "version": 3
   },
   "file_extension": ".py",
   "mimetype": "text/x-python",
   "name": "python",
   "nbconvert_exporter": "python",
   "pygments_lexer": "ipython3",
   "version": "3.8.10"
  }
 },
 "nbformat": 4,
 "nbformat_minor": 4
}
