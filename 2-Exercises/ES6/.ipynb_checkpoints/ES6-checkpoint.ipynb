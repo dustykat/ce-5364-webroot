{
 "cells": [
  {
   "cell_type": "markdown",
   "metadata": {},
   "source": [
    "# <font color=darkblue>CE 5364 Groundwater Transport Phenemona <br> Fall 2023 Exercise Set 5</font>\n",
    "\n",
    "**LAST NAME, FIRST NAME**\n",
    "\n",
    "**R00000000**\n",
    "\n",
    "<hr>\n",
    "\n",
    "### Purpose : \n",
    "Apply selected analytical models for reactive transport\n",
    " \n",
    "### Assessment Criteria : \n",
    "Completion, results plausible, format correct, example calculations shown.  \n"
   ]
  },
  {
   "cell_type": "markdown",
   "metadata": {},
   "source": [
    "<hr><hr>\n",
    "\n",
    "## Problem 1 (Problem 11-1, pg. 594)\n",
    "\n",
    "A contaminated site has been surveyed and a contaminated region $100~ft. \\times 150~ft. \\times 15~ft.$ was delineated. The average concentration of total petroleum hydrocarbons (TPH) in soil is $10,000~\\frac{mg}{Kg}$\n",
    "\n",
    "Determine:\n",
    "\n",
    "1. The total mass of contaminants at the site in kilograms. Assume the soil has a specific gravity, $SG _{soil} \\approx 2.0$\n",
    "2. Estimate total volume of petroleum hydrocarbons released assuming 50% of the hydrocarbins are lost to volatization, biodegredation, and dissolution (report the answer in gallons). Assume the hydrocarbons were gasoline with a constant specific gravity, $SG_{\\text{gasoline}} \\approx 0.8$\n",
    "3. Estimate the residual saturation of the hydrocarbon-soil system.  Assume soil porosity is, $n=0.35$\n",
    "\n"
   ]
  },
  {
   "cell_type": "code",
   "execution_count": 2,
   "metadata": {},
   "outputs": [],
   "source": [
    "# Enter your solution below, or attach separate sheet(s) with your solution.\n",
    "\n"
   ]
  },
  {
   "cell_type": "markdown",
   "metadata": {},
   "source": [
    "<hr><hr>\n",
    "\n",
    "## Problem 2 (Problem 11-2, pg. 594)\n",
    "\n",
    "\n",
    "\n",
    "Determine:\n",
    "\n",
    "\n"
   ]
  },
  {
   "cell_type": "code",
   "execution_count": 3,
   "metadata": {},
   "outputs": [],
   "source": [
    "# Enter your solution below, or attach separate sheet(s) with your solution.\n",
    "\n"
   ]
  },
  {
   "cell_type": "markdown",
   "metadata": {},
   "source": [
    "<hr><hr> \n",
    "\n",
    "## Problem 3 (Problem 11-4, pg. 595)\n",
    "\n",
    "\n",
    "\n",
    "Determine:\n",
    "\n"
   ]
  },
  {
   "cell_type": "code",
   "execution_count": 4,
   "metadata": {},
   "outputs": [],
   "source": [
    "# Enter your solution below, or attach separate sheet(s) with your solution.\n",
    "\n"
   ]
  },
  {
   "cell_type": "markdown",
   "metadata": {},
   "source": [
    "<hr><hr> \n",
    "\n",
    "## Problem 4 \n",
    "\n",
    "The following table has data from a column test with bromide (conservative) and chromium (sorbed).  The porosity of the soil was 0.485, the bulk density was 1.85 g/cc, velocity was 0.244 cm/min, and the column was 25.4 cm long with a diameter of 2.54 cm.  \n",
    "\n",
    "\n",
    "|Time (min)|Bromide $\\frac{C}{Co}$|Chromium $\\frac{C}{Co}$|\n",
    "|:---|:---|:---|\n",
    "|0|0.000|0.000|\n",
    "|15|0.000|0.000|\n",
    "|30|0.005|0.000|\n",
    "|45|0.003|0.000|\n",
    "|60|0.013|0.000|\n",
    "|75|0.075|0.000|\n",
    "|90|0.137|0.000|\n",
    "|105|0.530|0.000|\n",
    "|120|0.841|0.000|\n",
    "|135|1.000|0.000|\n",
    "|150|1.000|0.000|\n",
    "|165|1.000|0.009|\n",
    "|180|1.000|0.186|\n",
    "|195|1.000|0.595|\n",
    "|210|1.000|0.791|\n",
    "|225|1.000|0.875|\n",
    "|240|1.000|0.913|\n",
    "|255|1.000|0.946|\n",
    "|270|1.000|0.946|\n",
    "|285|1.000|1.000|\n",
    "|300|1.000|1.000|\n",
    "|315|1.000|1.000|\n",
    "|330|1.000|1.000|\n",
    "|345|1.000|1.000|\n",
    "|360|1.000|1.000|\n",
    "\n",
    "Determine\n",
    "\n",
    "1. The dispersivity in cm \n",
    "2. The retardation factor for $Cr$."
   ]
  },
  {
   "cell_type": "code",
   "execution_count": 1,
   "metadata": {},
   "outputs": [],
   "source": [
    "# Enter your solution below, or attach separate sheet(s) with your solution.\n",
    "\n"
   ]
  },
  {
   "cell_type": "code",
   "execution_count": null,
   "metadata": {},
   "outputs": [],
   "source": []
  }
 ],
 "metadata": {
  "kernelspec": {
   "display_name": "Python 3",
   "language": "python",
   "name": "python3"
  },
  "language_info": {
   "codemirror_mode": {
    "name": "ipython",
    "version": 3
   },
   "file_extension": ".py",
   "mimetype": "text/x-python",
   "name": "python",
   "nbconvert_exporter": "python",
   "pygments_lexer": "ipython3",
   "version": "3.8.10"
  }
 },
 "nbformat": 4,
 "nbformat_minor": 4
}
