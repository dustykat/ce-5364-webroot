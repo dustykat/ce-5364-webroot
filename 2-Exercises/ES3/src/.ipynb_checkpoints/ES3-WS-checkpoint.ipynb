{
 "cells": [
  {
   "cell_type": "markdown",
   "metadata": {},
   "source": [
    "# <font color=darkblue>CE 5364 Groundwater Transport Phenemona <br> Fall 2023 Exercise Set 3</font>\n",
    "\n",
    "**LAST NAME, FIRST NAME**\n",
    "\n",
    "**R00000000**\n",
    "\n",
    "<hr>\n",
    "\n",
    "### Purpose : \n",
    "Apply selected analytical models for reactive transport\n",
    " \n",
    "### Assessment Criteria : \n",
    "Completion, results plausible, format correct, example calculations shown.  \n"
   ]
  },
  {
   "cell_type": "markdown",
   "metadata": {},
   "source": [
    "<hr><hr>\n",
    "\n",
    "## Problem 1 (Problem 6-7, pg. 588)\n",
    "\n",
    "An instantaneous release of biodegradable constituients occurs in a 1-D aquifer. Assume the mass released is $1.0 ~kg$ over a $10~m^2$ area normal to the flow direction, $\\alpha_l = 1.0~m$, the seepage velocity is 1.0 $\\frac{m}{day}$, and the half-life of the decaying constituient is 33 years.\n",
    "\n",
    "Determine:\n",
    "\n",
    "1. The maximum concentration at 100 meters from the source.\n",
    "2. Plot a concentration history (annual intervals) for a 40 year period from release date for a location 100 meters from the source.\n"
   ]
  },
  {
   "cell_type": "code",
   "execution_count": null,
   "metadata": {},
   "outputs": [],
   "source": [
    "# sketch(s) \n",
    "# list known quantities\n",
    "# list unknown quantities\n",
    "# governing principles\n",
    "# solution details (e.g. step-by-step computations)\n",
    "# discussion"
   ]
  },
  {
   "cell_type": "markdown",
   "metadata": {},
   "source": [
    "## Known quantities\n",
    "\n",
    "initial mass = 1 kg. <br>\n",
    "cross section area = 10 $m^2$<br>\n",
    "$\\alpha_L = 1.0~m$ <br>\n",
    "$v_x = 1~\\frac{m}{d}$<br>\n",
    "$\\lambda = \\frac{t_{1/2}}{0.693}$\n",
    "\n"
   ]
  },
  {
   "cell_type": "markdown",
   "metadata": {},
   "source": [
    "## list unknown quantities\n",
    "\n",
    "$C(100,t)_{max}$<br>\n",
    "Plot $C(100,t)~\\text{for}~t=1,2,...,40~yr$<br>"
   ]
  },
  {
   "cell_type": "markdown",
   "metadata": {},
   "source": [
    "## governing principles\n",
    "\n",
    "- Finite mass implies instant release. Use equation 6.18 as modified on g. 175 in book<br>\n",
    "\n",
    "![](pr1.png)\n",
    "\n",
    "## solution details (e.g. step-by-step computations)\n",
    "\n",
    "Build a prototype function"
   ]
  },
  {
   "cell_type": "code",
   "execution_count": 82,
   "metadata": {},
   "outputs": [],
   "source": [
    "def c1addinst(distance,time,mass,dispersion,velocity,decay):\n",
    "    import math\n",
    "    term0 = math.exp(-1.0*decay*time)\n",
    "    term1 = math.sqrt(4.0*math.pi*dispersion*time)\n",
    "    term2 = math.exp(-((distance-velocity*time)**2)/(4.0*dispersion*time))\n",
    "    c1addinst = term0*(mass/term1)*term2\n",
    "    return(c1addinst)"
   ]
  },
  {
   "cell_type": "markdown",
   "metadata": {},
   "source": [
    "Build input data manager, report intermediate computations"
   ]
  },
  {
   "cell_type": "code",
   "execution_count": 99,
   "metadata": {},
   "outputs": [
    {
     "name": "stdout",
     "output_type": "stream",
     "text": [
      "Mass :  0.1  kg/m^3\n",
      "Decay constant :  5.8e-05  day^-1 \n",
      "Dispersion :  1.0  m^2/day\n"
     ]
    }
   ],
   "source": [
    "total_mass  = 1.0\n",
    "area        = 10 \n",
    "mass        = total_mass/area\n",
    "velocity    = 1.0 #m/year\n",
    "dispersivity = 1.0 #m\n",
    "dispersion  = velocity*dispersivity #m^2/day\n",
    "half_life  = 33 #years\n",
    "decay = 0.693/(half_life)/365 #1/days\n",
    "print(\"Mass : \",round(mass,3),\" kg/m^3\")\n",
    "print(\"Decay constant : \",round(decay,6),\" day^-1 \")\n",
    "print(\"Dispersion : \",round(dispersion,3),\" m^2/day\")"
   ]
  },
  {
   "cell_type": "markdown",
   "metadata": {},
   "source": [
    "Plot a concentration history over 40 years"
   ]
  },
  {
   "cell_type": "code",
   "execution_count": 100,
   "metadata": {},
   "outputs": [
    {
     "data": {
      "image/png": "[encoded data removed]",
      "text/plain": [
       "<Figure size 432x288 with 1 Axes>"
      ]
     },
     "metadata": {
      "needs_background": "light"
     },
     "output_type": "display_data"
    }
   ],
   "source": [
    "deltat      = (1.0) #days\n",
    "howmany =     365*40/deltat \n",
    "howmany = int(howmany)\n",
    "\n",
    "t = [] #days\n",
    "for i in range(howmany):\n",
    "    t.append(float(i)*deltat)\n",
    "    if t[i] == 0: # trap zero time to prevent divide by zero\n",
    "        t[i]= 0.00000001\n",
    "    \n",
    "distance        = 100  #years as days\n",
    "\n",
    "c = [0 for i in range(howmany)] #concentration \n",
    "\n",
    "for i in range(howmany):\n",
    "    c[i]=c1addinst(distance,t[i],mass,dispersion,velocity,decay)\n",
    "\n",
    "# rescale time into years\n",
    "for i in range(howmany):\n",
    "    t[i]=t[i]/365.\n",
    "#\n",
    "# Import graphics routines for picture making\n",
    "#\n",
    "from matplotlib import pyplot as plt\n",
    "#\n",
    "# Build and Render the Plot\n",
    "#\n",
    "plt.plot(t,c, color='red', linestyle = 'solid')  # make the plot object\n",
    "plt.title(\" Concentration History \\n Distance: \" + repr(distance) + \" meters \\n\" + \" Dispersion: \" + repr(dispersion) + \" meters^2/year \\n\" + \" Velocity: \" + repr(velocity) + \" meters/year \\n\") # caption the plot object\n",
    "plt.xlabel(\" Elapsed Time (years) \") # label x-axis\n",
    "plt.ylabel(\" Concentration  (kg/meter^3)      \") # label y-axis\n",
    "#plt.plot([365,365],[0,c0])\n",
    "#plt.plot([365*2,365*2],[0,c0])\n",
    "#plt.text(365,100,\"  year 1\")\n",
    "#plt.text(365*2,100,\"  year 2\")\n",
    "#plt.savefig(\"ogatabanksplot.png\") # optional generates just a plot for embedding into a report\n",
    "plt.show() # plot to stdio -- has to be last call as it kills prior objects\n",
    "plt.close('all') # needed when plt.show call not invoked, optional here\n",
    "#sys.exit() # used to elegant exit for CGI-BIN use\n",
    "#print(\"Center of Distribution Position : \",round(time*velocity,2),\" length units\")"
   ]
  },
  {
   "cell_type": "markdown",
   "metadata": {},
   "source": [
    "Plot a concentration history over one year (easier to see)"
   ]
  },
  {
   "cell_type": "code",
   "execution_count": 101,
   "metadata": {},
   "outputs": [
    {
     "data": {
      "image/png": "[encoded data removed]",
      "text/plain": [
       "<Figure size 432x288 with 1 Axes>"
      ]
     },
     "metadata": {
      "needs_background": "light"
     },
     "output_type": "display_data"
    }
   ],
   "source": [
    "deltat      = (1.0) #days\n",
    "howmany =     365*1/deltat \n",
    "howmany = int(howmany)\n",
    "\n",
    "t = [] #days\n",
    "for i in range(howmany):\n",
    "    t.append(float(i)*deltat)\n",
    "    if t[i] == 0: # trap zero time to prevent divide by zero\n",
    "        t[i]= 0.00000001\n",
    "    \n",
    "distance        = 100  #years as days\n",
    "\n",
    "c = [0 for i in range(howmany)] #concentration \n",
    "\n",
    "for i in range(howmany):\n",
    "    c[i]=c1addinst(distance,t[i],mass,dispersion,velocity,decay)\n",
    "\n",
    "# rescale time into years\n",
    "for i in range(howmany):\n",
    "    t[i]=t[i]/365.\n",
    "#\n",
    "# Import graphics routines for picture making\n",
    "#\n",
    "from matplotlib import pyplot as plt\n",
    "#\n",
    "# Build and Render the Plot\n",
    "#\n",
    "plt.plot(t,c, color='red', linestyle = 'solid')  # make the plot object\n",
    "plt.title(\" Concentration History \\n Distance: \" + repr(distance) + \" meters \\n\" + \" Dispersion: \" + repr(dispersion) + \" meters^2/year \\n\" + \" Velocity: \" + repr(velocity) + \" meters/year \\n\") # caption the plot object\n",
    "plt.xlabel(\" Elapsed Time (years) \") # label x-axis\n",
    "plt.ylabel(\" Concentration  (kg/meter^3)      \") # label y-axis\n",
    "#plt.plot([365,365],[0,c0])\n",
    "#plt.plot([365*2,365*2],[0,c0])\n",
    "#plt.text(365,100,\"  year 1\")\n",
    "#plt.text(365*2,100,\"  year 2\")\n",
    "#plt.savefig(\"ogatabanksplot.png\") # optional generates just a plot for embedding into a report\n",
    "plt.show() # plot to stdio -- has to be last call as it kills prior objects\n",
    "plt.close('all') # needed when plt.show call not invoked, optional here\n",
    "#sys.exit() # used to elegant exit for CGI-BIN use\n",
    "#print(\"Center of Distribution Position : \",round(time*velocity,2),\" length units\")"
   ]
  },
  {
   "cell_type": "markdown",
   "metadata": {},
   "source": [
    "Looks like maximum occurs at about 100 days, but lets just be stupid about it and find the value from the plot, and report the time of occurance (in days)"
   ]
  },
  {
   "cell_type": "code",
   "execution_count": 102,
   "metadata": {},
   "outputs": [
    {
     "name": "stdout",
     "output_type": "stream",
     "text": [
      "Maximum concentration :  0.002811946630297342  kg/m^3\n",
      "          Observed at :  99.0  days\n"
     ]
    }
   ],
   "source": [
    "print(\"Maximum concentration : \",max(c),\" kg/m^3\")\n",
    "print(\"          Observed at : \",t[c.index(max(c))]*365,\" days\")"
   ]
  },
  {
   "cell_type": "markdown",
   "metadata": {},
   "source": [
    "<hr><hr>\n",
    "\n",
    "## Problem 2 (Problem 6-9, pg. 589)\n",
    "\n",
    "An unintentional discharge from a point source introduced $10~kg$ of contaminant mass to an aquifer. The seepage velocity is $0.1~\\frac{ft}{day}$ in the $+x$ direction.  The longitudinal dispersion coefficient is $D_x = 0.01 \\frac{ft^2}{day}$ the transverse dispersion coefficients are $D_y = D_z = 0.001 \\frac{ft^2}{day}$.\n",
    "\n",
    "Determine:\n",
    "\n",
    "1. Calculate the maximum concentration at $x=100~ft$ and $t=5~years$.\n",
    "2. Calculate the concentration at $(x,y,z,t) = (200~ft,5~ft,2~ft,5~years)$\n",
    "\n"
   ]
  },
  {
   "cell_type": "code",
   "execution_count": null,
   "metadata": {},
   "outputs": [],
   "source": [
    "# sketch(s) \n",
    "# list known quantities\n",
    "# list unknown quantities\n",
    "# governing principles\n",
    "# solution details (e.g. step-by-step computations)\n",
    "# discussion"
   ]
  },
  {
   "cell_type": "markdown",
   "metadata": {},
   "source": [
    "## governing principles\n",
    "\n",
    "**point** source spill; use Equation 6.28 in book <br>\n",
    "\n",
    "![](beasties.png)\n",
    "\n",
    "# solution details (e.g. step-by-step computations)\n",
    "\n",
    "Create a prototype function"
   ]
  },
  {
   "cell_type": "code",
   "execution_count": 135,
   "metadata": {},
   "outputs": [],
   "source": [
    "def c3addinst(x,y,z,t,m,dx,dy,dz,v,lm):\n",
    "# Baetsle 1969 model\n",
    "    import math\n",
    "    term0 = math.exp(-1.0*lm*t)\n",
    "    term1 = 8.0*math.sqrt(math.pi*dx*t*math.pi*dy*t*math.pi*dz*t)\n",
    "    term2 = math.exp(-((x-v*t)**2)/(4.0*dx*t) -((y)**2)/(4.0*dy*t) -((z)**2)/(4.0*dz*t))\n",
    "    c3addinst = term0*(mass/term1)*term2\n",
    "    return(c3addinst)"
   ]
  },
  {
   "cell_type": "markdown",
   "metadata": {},
   "source": [
    "Build input data manager, report intermediate computations"
   ]
  },
  {
   "cell_type": "code",
   "execution_count": 152,
   "metadata": {},
   "outputs": [
    {
     "name": "stdout",
     "output_type": "stream",
     "text": [
      "         Mass :  10.0  kg/m^3\n",
      "Pore velocity :  0.1  ft/day\n",
      " Dispersion x :  0.01  ft^2/day\n",
      " Dispersion y :  0.001  ft^2/day\n",
      " Dispersion z :  0.001  ft^2/day\n"
     ]
    }
   ],
   "source": [
    "mass        = 10.0 #kg\n",
    "velocity    = 0.1 #ft/day\n",
    "disp_x = 0.01  #ft^2/day\n",
    "disp_y = 0.001 #ft^2/day\n",
    "disp_z = 0.001 #ft^2/day\n",
    "\n",
    "print(\"         Mass : \",round(mass,3),\" kg/m^3\")\n",
    "print(\"Pore velocity : \",round(velocity,3),\" ft/day\")\n",
    "print(\" Dispersion x : \",round(disp_x,3),\" ft^2/day\")\n",
    "print(\" Dispersion y : \",round(disp_y,3),\" ft^2/day\")\n",
    "print(\" Dispersion z : \",round(disp_z,3),\" ft^2/day\")"
   ]
  },
  {
   "cell_type": "markdown",
   "metadata": {},
   "source": [
    "Calculate the maximum concentration at $x=100~ft$ \n",
    "- use a history plot\n",
    "\n",
    "Calculate the maximum concentration at $t=5~years$\n",
    "- use a profile plot"
   ]
  },
  {
   "cell_type": "code",
   "execution_count": 153,
   "metadata": {},
   "outputs": [
    {
     "data": {
      "image/png": "[encoded data removed]",
      "text/plain": [
       "<Figure size 432x288 with 1 Axes>"
      ]
     },
     "metadata": {
      "needs_background": "light"
     },
     "output_type": "display_data"
    }
   ],
   "source": [
    "deltat      = (1.0) #days\n",
    "howmany =     1500/deltat \n",
    "howmany = int(howmany)\n",
    "\n",
    "t = [] #days\n",
    "for i in range(howmany):\n",
    "    t.append(float(i)*deltat)\n",
    "    if t[i] == 0: # trap zero time to prevent divide by zero\n",
    "        t[i]= 0.00000001\n",
    "    \n",
    "x        = 100  #ft\n",
    "y        = 0\n",
    "z        = 0\n",
    "\n",
    "c = [0 for i in range(howmany)] #concentration \n",
    "\n",
    "for i in range(howmany):\n",
    "    c[i]=c3addinst(x,y,z,t[i],mass,disp_x,disp_y,disp_z,velocity,0)\n",
    "\n",
    "\n",
    "#\n",
    "# Import graphics routines for picture making\n",
    "#\n",
    "from matplotlib import pyplot as plt\n",
    "#\n",
    "# Build and Render the Plot\n",
    "#\n",
    "plt.plot(t,c, color='red', linestyle = 'solid')  # make the plot object\n",
    "plt.title(\" Concentration History \\n Distance: \" + repr(x) + \" feet \\n\" ) # caption the plot object\n",
    "plt.xlabel(\" Elapsed Time (days) \") # label x-axis\n",
    "plt.ylabel(\" Concentration  (kg/ft^3)      \") # label y-axis\n",
    "plt.show() # plot to stdio -- has to be last call as it kills prior objects\n",
    "plt.close('all') # needed when plt.show call not invoked, optional here"
   ]
  },
  {
   "cell_type": "code",
   "execution_count": 155,
   "metadata": {},
   "outputs": [
    {
     "name": "stdout",
     "output_type": "stream",
     "text": [
      "Maximum concentration :  0.07114794548155023  kg/ft^3\n",
      "          Observed at :  997.0  days\n"
     ]
    }
   ],
   "source": [
    "print(\"Maximum concentration : \",max(c),\" kg/ft^3\")\n",
    "print(\"          Observed at : \",t[c.index(max(c))],\" days\")"
   ]
  },
  {
   "cell_type": "code",
   "execution_count": 156,
   "metadata": {},
   "outputs": [
    {
     "data": {
      "image/png": "[encoded data removed]",
      "text/plain": [
       "<Figure size 432x288 with 1 Axes>"
      ]
     },
     "metadata": {
      "needs_background": "light"
     },
     "output_type": "display_data"
    }
   ],
   "source": [
    "deltax      = (1.0) #days\n",
    "howmany =     250/deltax\n",
    "howmany = int(howmany)\n",
    "\n",
    "x = [] #feet\n",
    "for i in range(howmany):\n",
    "    x.append(float(i)*deltax)\n",
    "\n",
    "    \n",
    "t        = 5*365  #days\n",
    "y        = 0\n",
    "z        = 0\n",
    "\n",
    "c = [0 for i in range(howmany)] #concentration \n",
    "\n",
    "for i in range(howmany):\n",
    "    c[i]=c3addinst(x[i],y,z,t,mass,disp_x,disp_y,disp_z,velocity,0)\n",
    "\n",
    "\n",
    "#\n",
    "# Import graphics routines for picture making\n",
    "#\n",
    "from matplotlib import pyplot as plt\n",
    "#\n",
    "# Build and Render the Plot\n",
    "#\n",
    "plt.plot(x,c, color='red', linestyle = 'solid')  # make the plot object\n",
    "plt.title(\" Concentration Profile \\n Time: \" + repr(t) + \" days \\n\" ) # caption the plot object\n",
    "plt.xlabel(\" Distance (feet) \") # label x-axis\n",
    "plt.ylabel(\" Concentration  (kg/ft^3)      \") # label y-axis\n",
    "plt.show() # plot to stdio -- has to be last call as it kills prior objects\n",
    "plt.close('all') # needed when plt.show call not invoked, optional here"
   ]
  },
  {
   "cell_type": "code",
   "execution_count": 157,
   "metadata": {},
   "outputs": [
    {
     "name": "stdout",
     "output_type": "stream",
     "text": [
      "Maximum concentration :  0.02869482568927895  kg/ft^3\n",
      "          Observed at :  182.0  feet\n"
     ]
    }
   ],
   "source": [
    "print(\"Maximum concentration : \",max(c),\" kg/ft^3\")\n",
    "print(\"          Observed at : \",x[c.index(max(c))],\" feet\")"
   ]
  },
  {
   "cell_type": "markdown",
   "metadata": {},
   "source": [
    "Calculate the concentration at $(x,y,z,t) = (200~ft,5~ft,2~ft,5~years)$"
   ]
  },
  {
   "cell_type": "code",
   "execution_count": 168,
   "metadata": {},
   "outputs": [
    {
     "name": "stdout",
     "output_type": "stream",
     "text": [
      "C(200,5,2,5) :  8.2e-06  kg/ft^3\n"
     ]
    }
   ],
   "source": [
    "conc = c3addinst(200,5,2,5*365,mass,disp_x,disp_y,disp_z,velocity,0)\n",
    "print(\"C(200,5,2,5) : \",round(conc,7),\" kg/ft^3\")"
   ]
  },
  {
   "cell_type": "markdown",
   "metadata": {},
   "source": [
    "<hr><hr> \n",
    "\n",
    "## Problem 3 (Problem 6-10, pg. 589)\n",
    "\n",
    "Apply the Domenico and Schwartz (1998) planar source model (pg. XXX) to a case of a continuous source that has been leaking contaminant into an aquifer for 15 years.  The source had a width $Y=6~m$ and depth $Z=6~m$. The source concentration is $10~\\frac{mg}{l}$. The seepage velocity is $0.057~\\frac{m}{day}$. The longitudinal, transverse, and vertical dispervities are $1~m$,$0.1~m$, and $0.01~m$ respectively.\n",
    "\n",
    "Determine:\n",
    "\n",
    "1. The contaminant concentration history at a location $x=200~m$ from the source using 1-year increments for 30 years.\n",
    "\n",
    "\n"
   ]
  },
  {
   "cell_type": "code",
   "execution_count": 169,
   "metadata": {},
   "outputs": [],
   "source": [
    "# sketch(s) \n",
    "# list known quantities\n",
    "# list unknown quantities\n",
    "# governing principles\n",
    "# solution details (e.g. step-by-step computations)\n",
    "# discussion"
   ]
  },
  {
   "cell_type": "markdown",
   "metadata": {},
   "source": [
    "## sketch(s) \n",
    "## list known quantities\n",
    "## list unknown quantities\n",
    "## governing principles\n",
    "\n",
    "Using the planar source model (Eqn 6.31)\n",
    "\n",
    "![](planarsource.png)\n",
    "\n",
    "# solution details (e.g. step-by-step computations)\n",
    "\n",
    "Usual procedure, first a prototype function - unlike prior cases will use dispersivities rather than dispersion coefficients:"
   ]
  },
  {
   "cell_type": "code",
   "execution_count": 170,
   "metadata": {},
   "outputs": [],
   "source": [
    "def c3dad(conc0, distx, disty, distz, lenX, lenY, lenZ, dispx, dispy, dispz, velocity, etime):\n",
    "    import math\n",
    "    from scipy.special import erf, erfc # scipy needs to already be loaded into the kernel\n",
    "    # Constant of integration\n",
    "    term1 = conc0 / 8.0\n",
    "\n",
    "    # Centerline axis solution\n",
    "    arg1 = (distx - velocity*etime) / (2*math.sqrt(dispx*velocity*etime)) #dispx is dispersivity\n",
    "    term2 = erfc(arg1)\n",
    "\n",
    "    # Off-axis solution, Y direction\n",
    "#    arg2 = 2.0 * math.sqrt(dispy*distx / velocity)\n",
    "    arg2 = 2.0 * math.sqrt(dispy*distx) #dispy is dispersivity\n",
    "    arg3 = disty + 0.5*lenY\n",
    "    arg4 = disty - 0.5*lenY\n",
    "    term3 = erf(arg3 / arg2) - erf(arg4 / arg2)\n",
    "\n",
    "    # Off-axis solution, Z direction\n",
    "#    arg5 = 2.0 * math.sqrt(dispz*distx / velocity)\n",
    "    arg5 = 2.0 * math.sqrt(dispz*distx) #dispz is dispersivity\n",
    "    arg6 = distz + 0.5*lenZ\n",
    "    arg7 = distz - 0.5*lenZ\n",
    "    term4 = erf(arg6 / arg5) - erf(arg7 / arg5)\n",
    "\n",
    "    # Convolve the solutions\n",
    "    c3dad = term1 * term2 * term3 * term4\n",
    "    return c3dad"
   ]
  },
  {
   "cell_type": "markdown",
   "metadata": {},
   "source": [
    "Now an input manager section"
   ]
  },
  {
   "cell_type": "code",
   "execution_count": 178,
   "metadata": {},
   "outputs": [
    {
     "name": "stdout",
     "output_type": "stream",
     "text": [
      "Source Concentration :  10.0  ppm \n",
      "            Velocity :  0.057  m/sec \n",
      "     Dispersivity_x  :  1.0  m \n",
      "     Dispersivity_y  :  1.0  m \n",
      "     Dispersivity_z  :  1.0  m \n",
      "             Width Y :  6.0  m \n",
      "             Width Z :  6.0  m \n"
     ]
    }
   ],
   "source": [
    "# inputs\n",
    "conco = 10.0\n",
    "velocity = 0.057\n",
    "dispersivity_x = 1.0\n",
    "dispersivity_y = 0.1\n",
    "dispersivity_z = 0.01\n",
    "width_y = 6.0\n",
    "width_z = 6.0\n",
    "xloc = 200.0\n",
    "yloc = 0.0 # not explicit in problem statement\n",
    "zloc = 0.0\n",
    "time = 30*365 #years as days\n",
    "# echo inputs\n",
    "print(\"Source Concentration : \",round(conco,3),\" ppm \")\n",
    "print(\"            Velocity : \",round(velocity,3),\" m/sec \")\n",
    "print(\"     Dispersivity_x  : \",round(dispersivity_x,3),\" m \")\n",
    "print(\"     Dispersivity_y  : \",round(dispersivity_x,3),\" m \")\n",
    "print(\"     Dispersivity_z  : \",round(dispersivity_x,3),\" m \")\n",
    "print(\"             Width Y : \",round(width_y,3),\" m \")\n",
    "print(\"             Width Z : \",round(width_z,3),\" m \")"
   ]
  },
  {
   "cell_type": "markdown",
   "metadata": {},
   "source": [
    "Now build script for concentration history (time is the variable)"
   ]
  },
  {
   "cell_type": "code",
   "execution_count": 181,
   "metadata": {},
   "outputs": [
    {
     "data": {
      "image/png": "[encoded data removed]",
      "text/plain": [
       "<Figure size 432x288 with 1 Axes>"
      ]
     },
     "metadata": {
      "needs_background": "light"
     },
     "output_type": "display_data"
    }
   ],
   "source": [
    "#\n",
    "# forward define and initialize vectors for a profile plot\n",
    "#\n",
    "how_many_points = 30   \n",
    "deltat = time/how_many_points\n",
    "t = [i*deltat for i in range(how_many_points)] # constructor notation\n",
    "c = [0.0 for i in range(how_many_points)]      # constructor notation\n",
    "\n",
    "t[0]=1e-5 #cannot have zero time, so use really small value first position in list\n",
    "#\n",
    "# build the profile predictions\n",
    "#\n",
    "for i in range(0,how_many_points,1):\n",
    "    c[i] = c3dad(conco, xloc, yloc, zloc, 0, width_y, width_z, dispersivity_x, dispersivity_y, dispersivity_z, velocity, t[i])\n",
    "for i in range(0,how_many_points,1):\n",
    "    t[i]=t[i]/365 # days as years\n",
    "#\n",
    "# Import graphics routines for picture making\n",
    "#\n",
    "from matplotlib import pyplot as plt\n",
    "#\n",
    "# Build and Render the Plot\n",
    "#\n",
    "plt.plot(t,c, color='red', linestyle = 'solid')  # make the plot object\n",
    "plt.title(\" Concentration History \\n  \") # caption the plot object\n",
    "plt.xlabel(\" Time since release (years)\") # label x-axis\n",
    "plt.ylabel(\" Concentration  (ppm)      \") # label y-axis\n",
    "#plt.savefig(\"ogatabanksplot.png\") # optional generates just a plot for embedding into a report\n",
    "plt.show() # plot to stdio -- has to be last call as it kills prior objects\n",
    "plt.close('all') # needed when plt.show call not invoked, optional here\n",
    "#sys.exit() # used to elegant exit for CGI-BIN use"
   ]
  },
  {
   "cell_type": "markdown",
   "metadata": {},
   "source": [
    "# discussion\n",
    "\n",
    "The equilibrium concentration can be found from the plot either by finding the maximum in the list or just taking the last element in the list."
   ]
  },
  {
   "cell_type": "code",
   "execution_count": 185,
   "metadata": {},
   "outputs": [
    {
     "name": "stdout",
     "output_type": "stream",
     "text": [
      "Equilibrium concentration @ x=200,y=0,z=0,t->big :  3.16  ppm \n"
     ]
    }
   ],
   "source": [
    "print(\"Equilibrium concentration @ x=200,y=0,z=0,t->big : \",round(max(c),3),\" ppm \")"
   ]
  },
  {
   "cell_type": "markdown",
   "metadata": {},
   "source": []
  },
  {
   "cell_type": "markdown",
   "metadata": {},
   "source": [
    "<hr><hr> \n",
    "\n",
    "## Problem 4 \n",
    "\n",
    "The following table has data from a column test with bromide (conservative) and chromium (sorbed).  The porosity of the soil was 0.485, the bulk density was 1.85 g/cc, velocity was 0.244 cm/min, and the column was 25.4 cm long with a diameter of 2.54 cm.  \n",
    "\n",
    "\n",
    "|Time (min)|Bromide $\\frac{C}{Co}$|Chromium $\\frac{C}{Co}$|\n",
    "|:---|:---|:---|\n",
    "|0|0.000|0.000|\n",
    "|15|0.000|0.000|\n",
    "|30|0.005|0.000|\n",
    "|45|0.003|0.000|\n",
    "|60|0.013|0.000|\n",
    "|75|0.075|0.000|\n",
    "|90|0.137|0.000|\n",
    "|105|0.530|0.000|\n",
    "|120|0.841|0.000|\n",
    "|135|1.000|0.000|\n",
    "|150|1.000|0.000|\n",
    "|165|1.000|0.009|\n",
    "|180|1.000|0.186|\n",
    "|195|1.000|0.595|\n",
    "|210|1.000|0.791|\n",
    "|225|1.000|0.875|\n",
    "|240|1.000|0.913|\n",
    "|255|1.000|0.946|\n",
    "|270|1.000|0.946|\n",
    "|285|1.000|1.000|\n",
    "|300|1.000|1.000|\n",
    "|315|1.000|1.000|\n",
    "|330|1.000|1.000|\n",
    "|345|1.000|1.000|\n",
    "|360|1.000|1.000|\n",
    "\n",
    "Determine:\n",
    "\n",
    "1. The dispersivity in cm \n",
    "2. The retardation coefficient for $Cr$.\n"
   ]
  },
  {
   "cell_type": "code",
   "execution_count": null,
   "metadata": {},
   "outputs": [],
   "source": [
    "# sketch(s) \n",
    "# list known quantities\n",
    "# list unknown quantities\n",
    "# governing principles\n",
    "# solution details (e.g. step-by-step computations)\n",
    "# discussion"
   ]
  },
  {
   "cell_type": "code",
   "execution_count": null,
   "metadata": {},
   "outputs": [],
   "source": [
    "# sketch(s) \n",
    "# list known quantities\n",
    "# list unknown quantities\n",
    "# governing principles"
   ]
  },
  {
   "cell_type": "markdown",
   "metadata": {},
   "source": [
    "## solution details (e.g. step-by-step computations)\n",
    "\n",
    "Prototype function from class notes"
   ]
  },
  {
   "cell_type": "code",
   "execution_count": 203,
   "metadata": {},
   "outputs": [],
   "source": [
    "#\n",
    "# prototype decaying species function\n",
    "#\n",
    "def c1dadrd(c_source,space,time,dispersion,velocity,retardation,decay):\n",
    "    from math import sqrt,erf,erfc,exp  # get special math functions\n",
    "    dee = dispersion/retardation\n",
    "    vee = velocity/retardation\n",
    "    uuu = (vee**2 + 4.0*decay*dee)\n",
    "    uuu = sqrt(uuu)\n",
    "    arg1 = (space*(vee-uuu))/(2.0*dee)\n",
    "    arg2 = (space - uuu*time)/(2.0*sqrt(dee*time))\n",
    "    arg3 = (space*(vee+uuu))/(2.0*dee)\n",
    "    arg4 = (space + uuu*time)/(2.0*sqrt(dee*time))\n",
    "    temp1 = c_source/2.0\n",
    "    temp2 = exp(arg1)\n",
    "    temp3 = erfc(arg2)\n",
    "    temp4 = exp(arg3)\n",
    "    temp5 = erfc(arg4)\n",
    "    \n",
    "    c1dadrd = temp1*(temp2*temp3+temp4*temp5)\n",
    "    \n",
    "    return c1dadrd"
   ]
  },
  {
   "cell_type": "markdown",
   "metadata": {},
   "source": [
    "### copy the data from the table above \n",
    "1. cut-n-paste, then \n",
    "2. insert delimiters\n",
    "3. Parse into useable lists"
   ]
  },
  {
   "cell_type": "code",
   "execution_count": 207,
   "metadata": {},
   "outputs": [],
   "source": [
    "# copy the data from the table above (cut-n-paste, then insert delimiters)\n",
    "p4df = [[0 ,0.000 ,0.000],\n",
    "[15 ,0.000 ,0.000],\n",
    "[30 ,0.005 ,0.000],\n",
    "[45 ,0.003 ,0.000],\n",
    "[60 ,0.013 ,0.000],\n",
    "[75 ,0.075 ,0.000],\n",
    "[90 ,0.137 ,0.000],\n",
    "[105 ,0.530 ,0.000],\n",
    "[120 ,0.841 ,0.000],\n",
    "[135 ,1.000 ,0.000],\n",
    "[150 ,1.000 ,0.000],\n",
    "[165 ,1.000 ,0.009],\n",
    "[180 ,1.000 ,0.186],\n",
    "[195 ,1.000 ,0.595],\n",
    "[210 ,1.000 ,0.791],\n",
    "[225 ,1.000 ,0.875],\n",
    "[240 ,1.000 ,0.913],\n",
    "[255 ,1.000 ,0.946],\n",
    "[270 ,1.000 ,0.946],\n",
    "[285 ,1.000 ,1.000],\n",
    "[300 ,1.000 ,1.000],\n",
    "[315 ,1.000 ,1.000],\n",
    "[330 ,1.000 ,1.000],\n",
    "[345 ,1.000 ,1.000],\n",
    "[360 ,1.000 ,1.000]]\n",
    "# count rows\n",
    "howmanyrows = len(p4df)\n",
    "# allocate lists\n",
    "t=[0 for i in range(howmanyrows)]\n",
    "bromide=[0 for i in range(howmanyrows)]\n",
    "chromium=[0 for i in range(howmanyrows)]\n",
    "# parse into useful lists\n",
    "for irow in range(howmanyrows):\n",
    "    t[irow]=p4df[irow][0]\n",
    "    bromide[irow]=p4df[irow][1]\n",
    "    chromium[irow]=p4df[irow][2]\n",
    "\n",
    "if t[0]==0:t[0]=0.00001"
   ]
  },
  {
   "cell_type": "markdown",
   "metadata": {},
   "source": [
    "build an input data manager\n",
    "- echo inputs\n",
    "- plot observations and model results\n",
    "- trial-and-error (or some optimization) to minimize prediction error by changing dispersivity and retardation to recover values\n",
    "- report results"
   ]
  },
  {
   "cell_type": "code",
   "execution_count": 292,
   "metadata": {},
   "outputs": [
    {
     "name": "stdout",
     "output_type": "stream",
     "text": [
      "        ---- Supplied Values ----  \n",
      "                 Porosity :  0.485\n",
      "            Pore Velocity :  0.244  cm/min\n",
      "             Dispersivity :  0.232  cm \n",
      " Molecular Diffusivity Br :  0.001111  cm^2/min \n",
      " Molecular Diffusivity Cr :  0.00072  cm^2/min \n",
      "    Retardation Factor Br :  1.0\n",
      "    Retardation Factor Cr :  1.85\n",
      "        ---- Computed Values ----  \n",
      "       Specific Discharge :  0.11834  cm/min \n",
      "               Dispersion :  0.057  cm^2/min \n",
      "               Kd-bromide :  0.0\n",
      "              Kd-chromium :  0.223\n"
     ]
    },
    {
     "data": {
      "image/png": "[encoded data removed]",
      "text/plain": [
       "<Figure size 432x288 with 1 Axes>"
      ]
     },
     "metadata": {
      "needs_background": "light"
     },
     "output_type": "display_data"
    }
   ],
   "source": [
    "# input data manager\n",
    "porosity = 0.485\n",
    "velocity = 0.244 #cm/min\n",
    "dispersivity = 0.232 #initial guess - change to fit bromide curve\n",
    "retardationBr = 1.0\n",
    "retardationCr = 1.85\n",
    "dCr = (1.2e-09)*60*100*100 #molecular diffusivity - in cm^2/min\n",
    "dBr = (1.6e-04)*100*100/1440 #molecular diffusivity in cm^2/min\n",
    "spdischarge = velocity*porosity\n",
    "dispersion = dispersivity*velocity\n",
    "length = 25.4 #cm\n",
    "diameter = 2.54 #cm\n",
    "rhob = 1.85 #g/ml\n",
    "#echo inputs\n",
    "print(\"        ---- Supplied Values ----  \")\n",
    "print(\"                 Porosity : \",porosity)\n",
    "print(\"            Pore Velocity : \",round(velocity,3),\" cm/min\" )\n",
    "print(\"             Dispersivity : \",dispersivity,\" cm \")\n",
    "print(\" Molecular Diffusivity Br : \",round(dBr,6),\" cm^2/min \")\n",
    "print(\" Molecular Diffusivity Cr : \",round(dCr,6),\" cm^2/min \")\n",
    "print(\"    Retardation Factor Br : \",retardationBr)\n",
    "print(\"    Retardation Factor Cr : \",retardationCr)\n",
    "print(\"        ---- Computed Values ----  \")\n",
    "print(\"       Specific Discharge : \",spdischarge,\" cm/min \")\n",
    "print(\"               Dispersion : \",round(dispersion,3),\" cm^2/min \")\n",
    "print(\"               Kd-bromide : \",round((retardationBr-1)*(porosity/rhob),3))\n",
    "print(\"              Kd-chromium : \",round((retardationCr-1)*(porosity/rhob),3))\n",
    "\n",
    "# build simulation results\n",
    "brmodel = [0 for i in range(howmanyrows)]\n",
    "crmodel = [0 for i in range(howmanyrows)]\n",
    "for irow in range(howmanyrows):\n",
    "    brmodel[irow]= c1dadrd(1.0,length,t[irow],dispersion+dBr,velocity,retardationBr,0)\n",
    "    crmodel[irow]= c1dadrd(1.0,length,t[irow],dispersion+dCr,velocity,retardationCr,0)\n",
    "# compute some error measure\n",
    "sseBr = 0.0\n",
    "sseCr = 0.0\n",
    "for irow in range(howmanyrows):\n",
    "    sseBr = sseBr + ((bromide[irow]-brmodel[irow])**2)\n",
    "    sseCr = sseCr + ((chromium[irow]-crmodel[irow])**2)\n",
    "#plot simulation and observation results\n",
    "from matplotlib import pyplot as plt\n",
    "plt.plot(t,bromide, color='blue', linestyle = \"none\", marker = 'o')  # make the plot object\n",
    "plt.plot(t,chromium, color='orange', linestyle = \"none\", marker = 'o', fillstyle = 'none')  # make the plot object\n",
    "plt.plot(t,brmodel, color='blue', linestyle = \"dotted\" )  # make the plot object\n",
    "plt.plot(t,crmodel, color='orange', linestyle = \"dotted\")  # make the plot object\n",
    "plt.title(\" Concentration History \\n  \" + \" Bromide model SSE : \" + repr(round(sseBr,5)) + \"\\n Chromium model SSE : \" + repr(round(sseCr,5))) # caption the plot object\n",
    "plt.xlabel(\" Time since release (minutes)\") # label x-axis\n",
    "plt.ylabel(\" C/Co        \") # label y-axis\n",
    "#plt.xscale('log')\n",
    "#plt.yscale('log')\n",
    "plt.legend([\"Br-obs\",\"Cr-obs\",\"Br-mod\",\"Cr-mod\"])\n",
    "plt.show() # plot to stdio -- has to be last call as it kills prior objects\n",
    "plt.close('all') # needed when plt.show call not invoked, optional here\n",
    "#sys.exit() # used to elegant exit for CGI-BIN use"
   ]
  },
  {
   "cell_type": "markdown",
   "metadata": {},
   "source": [
    "## discussion\n",
    "\n",
    "Trial-and-error fit could be replaced by an optimizer (Solver in excel, or some python equilivant), but hardly worth the effort - once you have the advection part (C/Co = 0.5) located, then dispersivity controls curvature.  If one could argue for different dispersivities for each species could get a better fit, but dispersivtiy is considered a material property of the porous media.  The solution above uses literature supplied diffusivities from:\n",
    "\n",
    "![](diffusivityBr.png)\n",
    "\n",
    "and\n",
    "\n",
    "![](diffusivityCr.png)"
   ]
  },
  {
   "cell_type": "markdown",
   "metadata": {},
   "source": [
    "<hr><hr>\n",
    "\n",
    "## Problem 5 \n",
    "\n",
    "A batch isotherm test was performed with several 1-L solutions of the chemical of interest and one soil type, 20 g in each solution container.  The initial and final solution concentrations are shown in the table.  Fit the linear, Freundlich, and Langmuir isotherm equations to this data.  \n",
    "\n",
    "|Initial Concentration (mg/L)|Equilibrium Concentration (mg/L)|\n",
    "|:---|:---|\n",
    "|7.10|6.71|\n",
    "|4.53|4.18|\n",
    "|1.89|1.63|\n",
    "|1.31|1.10|\n",
    "|1.03|0.85|\n",
    "\n",
    "Determine:\n",
    "\n",
    "1. The Linear isotherm equation for these data (i.e. fit the isotherm model to the data), plot the isotherm and data\n",
    "2. The Freundlich isotherm equation for these data, plot the isotherm and data\n",
    "3. The Langmuir isotherm equation for these data, plot the isotherm and data\n",
    "4. Which isotherm model produces the best fit for these data?\n",
    "\n",
    "Show calculations and identify all fitted parameter values."
   ]
  },
  {
   "cell_type": "code",
   "execution_count": 365,
   "metadata": {},
   "outputs": [],
   "source": [
    "# sketch(s) \n",
    "# list known quantities\n",
    "# list unknown quantities\n",
    "# governing principles\n",
    "# solution details (e.g. step-by-step computations)\n",
    "# discussion"
   ]
  },
  {
   "cell_type": "markdown",
   "metadata": {},
   "source": [
    "## The Linear isotherm equation for these data (i.e. fit the isotherm model to the data), plot the isotherm and data"
   ]
  },
  {
   "cell_type": "code",
   "execution_count": 366,
   "metadata": {},
   "outputs": [],
   "source": [
    "p5df = [[7.10 ,6.71],\n",
    "[4.53 ,4.18],\n",
    "[1.89 ,1.63],\n",
    "[1.31 ,1.10],\n",
    "[1.03 ,0.85]]\n",
    "howmanyrows = len(p5df)# allocate lists\n",
    "c0=[0 for i in range(howmanyrows)]\n",
    "cEq=[0 for i in range(howmanyrows)]\n",
    "cS=[0 for i in range(howmanyrows)]\n",
    "cSoS=[0 for i in range(howmanyrows)]\n",
    "#input values\n",
    "massS = 0.020 #kg\n",
    "volL = 1 #L\n",
    "# build lists\n",
    "for i in range(howmanyrows):\n",
    "    c0[i]=p5df[i][0]\n",
    "    cEq[i]=p5df[i][1]\n",
    "    cS[i]=(c0[i]-cEq[i])*volL/massS\n",
    "    cSoS[i]=cEq[i]/cS[i]"
   ]
  },
  {
   "cell_type": "code",
   "execution_count": 367,
   "metadata": {},
   "outputs": [],
   "source": [
    "# Now we need to do some analysis to earn our keep\n",
    "# heres how to do the fits using python\n",
    "#Load the necessary packages\n",
    "import numpy as np\n",
    "import pandas as pd\n",
    "import statistics \n",
    "import statsmodels.formula.api as smf # here is the regression package to fit lines\n",
    "data = pd.DataFrame({'X':cEq, 'Y':cS}) # we use X,Y as column names for simplicity\n",
    "#data.head()"
   ]
  },
  {
   "cell_type": "code",
   "execution_count": 368,
   "metadata": {},
   "outputs": [
    {
     "data": {
      "image/png": "[encoded data removed]",
      "text/plain": [
       "<Figure size 864x432 with 1 Axes>"
      ]
     },
     "metadata": {
      "needs_background": "light"
     },
     "output_type": "display_data"
    }
   ],
   "source": [
    "\n",
    "# Initialise and fit linear regression model using `statsmodels`\n",
    "model = smf.ols('Y ~ X', data=data) # model object constructor syntax\n",
    "model = model.fit()\n",
    "\n",
    "# Predict values\n",
    "y_pred = model.predict(X)\n",
    "\n",
    "beta0 = model.params[0] # the fitted intercept\n",
    "beta1 = model.params[1]\n",
    "sse = model.ssr\n",
    "rsq = model.rsquared\n",
    "\n",
    "titleline = \"Isotherm Study (Linear Model) \\n Data model y = \" + str(round(beta0,3)) + \" + \" + str(round(beta1,3)) + \"x\" # put the model into the title\n",
    "titleline = titleline + '\\n SSE = ' + str(round(sse,4)) + '\\n R^2 = ' + str(round(rsq,3)) \n",
    "\n",
    "# Plot regression against actual data\n",
    "plt.figure(figsize=(12, 6))\n",
    "plt.plot(data['X'], data['Y'], 'o')           # scatter plot showing actual data\n",
    "plt.plot(data['X'], y_pred, 'r', linewidth=1)   # regression line\n",
    "plt.xlabel(\" C_aq (mg/L) \") # label x-axis\n",
    "plt.ylabel(\" C_s  (mg/kg) \") # label y-axis\n",
    "plt.legend(['Observed Values','Data Model'])\n",
    "plt.title(titleline)\n",
    "plt.grid(which=\"both\")\n",
    "plt.show() # plot to stdio -- has to be last call as it kills prior objects\n",
    "plt.close('all') # needed when plt.show call not invoked, optional here\n",
    "#sys.exit() # used to elegant exit for CGI-BIN use"
   ]
  },
  {
   "cell_type": "markdown",
   "metadata": {},
   "source": [
    "## The Freundlich isotherm equation for these data, plot the isotherm and data"
   ]
  },
  {
   "cell_type": "code",
   "execution_count": 373,
   "metadata": {},
   "outputs": [],
   "source": [
    "data = pd.DataFrame({'X':cEq, 'Y':cS}) # we use X,Y as column names for simplicity\n",
    "import math\n",
    "data['lnX']=data['X'].apply(math.log)\n",
    "data['lnY']=data['Y'].apply(math.log)\n",
    "#data.head()"
   ]
  },
  {
   "cell_type": "code",
   "execution_count": 376,
   "metadata": {},
   "outputs": [
    {
     "name": "stdout",
     "output_type": "stream",
     "text": [
      "      X     Y       lnX       lnY       Ymod\n",
      "0  6.71  19.5  1.903599  2.970414  20.324788\n",
      "1  4.18  17.5  1.430311  2.862201  17.086669\n",
      "2  1.63  13.0  0.488580  2.564949  12.097387\n",
      "3  1.10  10.5  0.095310  2.351375  10.472862\n",
      "4  0.85   9.0 -0.162519  2.197225   9.528125\n"
     ]
    },
    {
     "data": {
      "image/png": "[encoded data removed]",
      "text/plain": [
       "<Figure size 864x432 with 1 Axes>"
      ]
     },
     "metadata": {
      "needs_background": "light"
     },
     "output_type": "display_data"
    },
    {
     "data": {
      "image/png": "[encoded data removed]",
      "text/plain": [
       "<Figure size 864x432 with 1 Axes>"
      ]
     },
     "metadata": {
      "needs_background": "light"
     },
     "output_type": "display_data"
    },
    {
     "data": {
      "text/plain": [
       "array([3.01184123, 2.83829856, 2.49298948, 2.34878735, 2.25424792])"
      ]
     },
     "execution_count": 376,
     "metadata": {},
     "output_type": "execute_result"
    }
   ],
   "source": [
    "# Initialise and fit linear regression model using `statsmodels`\n",
    "model = smf.ols('lnY ~ lnX', data=data) # model object constructor syntax\n",
    "model = model.fit()\n",
    "\n",
    "# Predict values\n",
    "y_pred = model.predict()\n",
    "\n",
    "beta0 = model.params[0] # the fitted intercept\n",
    "beta1 = model.params[1]\n",
    "sse = model.ssr\n",
    "rsq = model.rsquared\n",
    "\n",
    "data['Ymod']=math.exp(beta0)*(data['X']**beta1)\n",
    "print(data.head())\n",
    "\n",
    "titleline = \"Isotherm Study (Freundlich Model) \\n Data model y = \" + str(round(beta0,3)) + \" + \" + str(round(beta1,3)) + \"x\" # put the model into the title\n",
    "titleline = titleline + '\\n SSE = ' + str(round(sse,4)) + '\\n R^2 = ' + str(round(rsq,3)) \n",
    "\n",
    "# Plot regression against actual data\n",
    "plt.figure(figsize=(12, 6))\n",
    "plt.plot(data['X'], data['Y'], 'o')           # scatter plot showing actual data\n",
    "plt.plot(data['X'],data['Ymod'], 'r', linewidth=1)   # regression line\n",
    "plt.xlabel(\"C_aq (mg/L) \") # label x-axis\n",
    "plt.ylabel(\"C_s  (mg/kg) \") # label y-axis\n",
    "plt.yscale('log') # set y-axis to display a logarithmic scale #################\n",
    "plt.xscale('log') # set x-axis to display a logarithmic scale #################\n",
    "plt.legend(['Observed Values','Data Model'])\n",
    "plt.title(titleline)\n",
    "plt.grid(which=\"both\")\n",
    "plt.show() # plot to stdio -- has to be last call as it kills prior objects\n",
    "\n",
    "# Plot regression against actual data\n",
    "plt.figure(figsize=(12, 6))\n",
    "plt.plot(data['lnX'], data['lnY'], 'o')           # scatter plot showing actual data\n",
    "plt.plot(data['lnX'],y_pred, 'r', linewidth=1)   # regression line\n",
    "plt.xlabel(\"ln C_aq (mg/L) \") # label x-axis\n",
    "plt.ylabel(\"ln C_s  (mg/kg) \") # label y-axis\n",
    "#plt.yscale('log') # set y-axis to display a logarithmic scale #################\n",
    "#plt.xscale('log') # set x-axis to display a logarithmic scale #################\n",
    "plt.legend(['Observed Values','Data Model'])\n",
    "plt.title(titleline)\n",
    "plt.grid(which=\"both\")\n",
    "plt.show() # plot to stdio -- has to be last call as it kills prior objects\n",
    "plt.close('all') # needed when plt.show call not invoked, optional here\n",
    "#sys.exit() # used to elegant exit for CGI-BIN use"
   ]
  },
  {
   "cell_type": "markdown",
   "metadata": {},
   "source": [
    "## The Langmuir isotherm equation for these data, plot the isotherm and data"
   ]
  },
  {
   "cell_type": "code",
   "execution_count": 371,
   "metadata": {},
   "outputs": [
    {
     "data": {
      "image/png": "[encoded data removed]",
      "text/plain": [
       "<Figure size 864x432 with 1 Axes>"
      ]
     },
     "metadata": {
      "needs_background": "light"
     },
     "output_type": "display_data"
    }
   ],
   "source": [
    "data = pd.DataFrame({'X':cEq, 'Y':cSoS}) # we use X,Y as column names for simplicity\n",
    "#data.head()\n",
    "\n",
    "# Initialise and fit linear regression model using `statsmodels`\n",
    "model = smf.ols('Y ~ X', data=data) # model object constructor syntax\n",
    "model = model.fit()\n",
    "\n",
    "# Predict values\n",
    "y_pred = model.predict(X)\n",
    "\n",
    "beta0 = model.params[0] # the fitted intercept\n",
    "beta1 = model.params[1]\n",
    "sse = model.ssr\n",
    "rsq = model.rsquared\n",
    "\n",
    "titleline = \"Isotherm Study (Langmuir Model) \\n Data model y = \" + str(round(beta0,3)) + \" + \" + str(round(beta1,3)) + \"x\" # put the model into the title\n",
    "titleline = titleline + '\\n SSE = ' + str(round(sse,4)) + '\\n R^2 = ' + str(round(rsq,3)) \n",
    "\n",
    "# Plot regression against actual data\n",
    "plt.figure(figsize=(12, 6))\n",
    "plt.plot(data['X'], data['Y'], 'o')           # scatter plot showing actual data\n",
    "plt.plot(data['X'], y_pred, 'r', linewidth=1)   # regression line\n",
    "plt.xlabel(\" C_aq (mg/L) \") # label x-axis\n",
    "plt.ylabel(\" C_aq/C_s  (mg/kg) \") # label y-axis\n",
    "plt.legend(['Observed Values','Data Model'])\n",
    "plt.title(titleline)\n",
    "plt.grid(which=\"both\")\n",
    "plt.show() # plot to stdio -- has to be last call as it kills prior objects\n",
    "plt.close('all') # needed when plt.show call not invoked, optional here\n",
    "#sys.exit() # used to elegant exit for CGI-BIN use"
   ]
  },
  {
   "cell_type": "markdown",
   "metadata": {},
   "source": [
    "## Which isotherm model produces the best fit for these data?\n",
    "\n",
    "Using R^2 as criterion,Langmuir is bestest"
   ]
  },
  {
   "cell_type": "code",
   "execution_count": null,
   "metadata": {},
   "outputs": [],
   "source": []
  }
 ],
 "metadata": {
  "kernelspec": {
   "display_name": "Python 3",
   "language": "python",
   "name": "python3"
  },
  "language_info": {
   "codemirror_mode": {
    "name": "ipython",
    "version": 3
   },
   "file_extension": ".py",
   "mimetype": "text/x-python",
   "name": "python",
   "nbconvert_exporter": "python",
   "pygments_lexer": "ipython3",
   "version": "3.8.10"
  }
 },
 "nbformat": 4,
 "nbformat_minor": 4
}
