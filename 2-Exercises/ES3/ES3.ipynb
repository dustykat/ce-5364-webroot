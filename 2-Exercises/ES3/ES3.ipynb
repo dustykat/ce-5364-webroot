{
 "cells": [
  {
   "cell_type": "markdown",
   "metadata": {},
   "source": [
    "# <font color=darkblue>CE 5364 Groundwater Transport Phenemona <br> Fall 2023 Exercise Set 3</font>\n",
    "\n",
    "**LAST NAME, FIRST NAME**\n",
    "\n",
    "**R00000000**\n",
    "\n",
    "<hr>\n",
    "\n",
    "### Purpose : \n",
    "Apply selected analytical models for reactive transport\n",
    " \n",
    "### Assessment Criteria : \n",
    "Completion, results plausible, format correct, example calculations shown.  \n"
   ]
  },
  {
   "cell_type": "markdown",
   "metadata": {},
   "source": [
    "<hr><hr>\n",
    "\n",
    "## Problem 1 (Problem 6-7, pg. 588)\n",
    "\n",
    "An instantaneous release of biodegradable constituients occurs in a 1-D aquifer. Assume the mass released is $1.0 ~kg$ over a $10~m^2$ area normal to the flow direction, $\\alpha_l = 1.0~m$, the seepage velocity is 1.0 $\\frac{m}{day}$, and the half-life of the decaying constituient is 33 years.\n",
    "\n",
    "Determine:\n",
    "\n",
    "1. The maximum concentration at 100 meters from the source.\n",
    "2. Plot a concentration history (annual intervals) for a 40 year period from release date for a location 100 meters from the source.\n"
   ]
  },
  {
   "cell_type": "code",
   "execution_count": 8,
   "metadata": {},
   "outputs": [],
   "source": [
    "# Enter your solution below, or attach separate sheet(s) with your solution.\n",
    "\n"
   ]
  },
  {
   "cell_type": "markdown",
   "metadata": {},
   "source": [
    "<hr><hr>\n",
    "\n",
    "## Problem 2 (Problem 6-9, pg. 589)\n",
    "\n",
    "An unintentional discharge from a point source introduced $10~kg$ of contaminant mass to an aquifer. The seepage velocity is $0.1~\\frac{ft}{day}$ in the $+x$ direction.  The longitudinal dispersion coefficient is $D_x = 0.01 \\frac{ft^2}{day}$ the transverse dispersion coefficients are $D_y = D_z = 0.001 \\frac{ft^2}{day}$.\n",
    "\n",
    "Determine:\n",
    "\n",
    "1. Calculate the maximum concentration at $x=100~ft$ and $t=5~years$.\n",
    "2. Calculate the concentration at $(x,y,z,t) = (200~ft,5~ft,2~ft,5~years)$\n",
    "\n"
   ]
  },
  {
   "cell_type": "code",
   "execution_count": 6,
   "metadata": {},
   "outputs": [],
   "source": [
    "# Enter your solution below, or attach separate sheet(s) with your solution.\n",
    "\n"
   ]
  },
  {
   "cell_type": "markdown",
   "metadata": {},
   "source": [
    "<hr><hr> \n",
    "\n",
    "## Problem 3 (Problem 6-10, pg. 589)\n",
    "\n",
    "Apply the Domenico and Schwartz (1998) planar source model (pg. XXX) to a case of a continuous source that has been leaking contaminant into an aquifer for 15 years.  The source had a width $Y=6~m$ and depth $Z=6~m$. The source concentration is $10~\\frac{mg}{l}$. The seepage velocity is $0.057~\\frac{m}{day}$. The longitudinal, transverse, and vertical dispervities are $1~m$,$0.1~m$, and $0.01~m$ respectively.\n",
    "\n",
    "Determine:\n",
    "\n",
    "1. The contaminant concentration history at a location $x=200~m$ from the source using 1-year increments for 30 years.\n",
    "\n",
    "\n"
   ]
  },
  {
   "cell_type": "code",
   "execution_count": 7,
   "metadata": {},
   "outputs": [],
   "source": [
    "# Enter your solution below, or attach separate sheet(s) with your solution.\n",
    "\n"
   ]
  },
  {
   "cell_type": "markdown",
   "metadata": {},
   "source": [
    "<hr><hr> \n",
    "\n",
    "## Problem 4 \n",
    "\n",
    "The following table has data from a column test with bromide (conservative) and chromium (sorbed).  The porosity of the soil was 0.485, the bulk density was 1.85 g/cc, velocity was 0.244 cm/min, and the column was 25.4 cm long with a diameter of 2.54 cm.  \n",
    "\n",
    "\n",
    "|Time (min)|Bromide $\\frac{C}{Co}$|Chromium $\\frac{C}{Co}$|\n",
    "|:---|:---|:---|\n",
    "|0|0.000|0.000|\n",
    "|15|0.000|0.000|\n",
    "|30|0.005|0.000|\n",
    "|45|0.003|0.000|\n",
    "|60|0.013|0.000|\n",
    "|75|0.075|0.000|\n",
    "|90|0.137|0.000|\n",
    "|105|0.530|0.000|\n",
    "|120|0.841|0.000|\n",
    "|135|1.000|0.000|\n",
    "|150|1.000|0.000|\n",
    "|165|1.000|0.009|\n",
    "|180|1.000|0.186|\n",
    "|195|1.000|0.595|\n",
    "|210|1.000|0.791|\n",
    "|225|1.000|0.875|\n",
    "|240|1.000|0.913|\n",
    "|255|1.000|0.946|\n",
    "|270|1.000|0.946|\n",
    "|285|1.000|1.000|\n",
    "|300|1.000|1.000|\n",
    "|315|1.000|1.000|\n",
    "|330|1.000|1.000|\n",
    "|345|1.000|1.000|\n",
    "|360|1.000|1.000|\n",
    "\n",
    "Determine:\n",
    "\n",
    "1. The dispersivity in cm \n",
    "2. The retardation coefficient for $Cr$.\n"
   ]
  },
  {
   "cell_type": "code",
   "execution_count": 1,
   "metadata": {},
   "outputs": [],
   "source": [
    "# Enter your solution below, or attach separate sheet(s) with your solution.\n",
    "\n"
   ]
  },
  {
   "cell_type": "code",
   "execution_count": null,
   "metadata": {},
   "outputs": [],
   "source": []
  }
 ],
 "metadata": {
  "kernelspec": {
   "display_name": "Python 3",
   "language": "python",
   "name": "python3"
  },
  "language_info": {
   "codemirror_mode": {
    "name": "ipython",
    "version": 3
   },
   "file_extension": ".py",
   "mimetype": "text/x-python",
   "name": "python",
   "nbconvert_exporter": "python",
   "pygments_lexer": "ipython3",
   "version": "3.8.10"
  }
 },
 "nbformat": 4,
 "nbformat_minor": 4
}
