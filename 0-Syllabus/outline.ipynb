{
 "cells": [
  {
   "cell_type": "markdown",
   "metadata": {},
   "source": [
    "# Introduction"
   ]
  },
  {
   "cell_type": "markdown",
   "metadata": {},
   "source": [
    "## Scope of the Course\n",
    "\n",
    "1. Introduction\n",
    "2. Essential Groundwater Hydrology Review\n",
    "  - Layered Aquifers \n",
    "  - Boundary Conditions\n",
    "2. Non-Reactive (Tracers) Mass Transport in Porous Media\n",
    "  - Advection\n",
    "  - Diffusion\n",
    "  - Dispersion\n",
    "  - Analytical Solutions \n",
    "3. Reactive Mass Transport in Porous Media\n",
    "  - Solid-Liquid Reactions (Adsorbtion)\n",
    "  - Constituient Decay\n",
    "  - Analytical Solutions\n",
    "4. Numerical Modeling Tools\n",
    "  - Modeling Pure Advection by Particle Tracking\n",
    "  - MODFLOW/MODPATH/MOC3D\n",
    "5. Estimating Model Parameters\n",
    "6. Multi-Component Reactive Transport\n",
    "7. Multi-Phase Transport\n",
    "8. Unsaturated Zone Hydrology\n",
    "  - Richards' equation\n",
    "9. Numerical Modeling Tools\n",
    "  - CHEMFLO model\n",
    "8. Using the Geochemical Balance (USGS-BALANCE) Model\n",
    "9. Extensions to Pollution Modeling in Surface Water and Air Quality (as time permits)"
   ]
  },
  {
   "cell_type": "code",
   "execution_count": null,
   "metadata": {},
   "outputs": [],
   "source": []
  }
 ],
 "metadata": {
  "kernelspec": {
   "display_name": "Python 3",
   "language": "python",
   "name": "python3"
  },
  "language_info": {
   "codemirror_mode": {
    "name": "ipython",
    "version": 3
   },
   "file_extension": ".py",
   "mimetype": "text/x-python",
   "name": "python",
   "nbconvert_exporter": "python",
   "pygments_lexer": "ipython3",
   "version": "3.8.10"
  }
 },
 "nbformat": 4,
 "nbformat_minor": 4
}
