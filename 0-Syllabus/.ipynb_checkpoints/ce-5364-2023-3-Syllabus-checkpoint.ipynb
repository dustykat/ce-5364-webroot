{
 "cells": [
  {
   "cell_type": "code",
   "execution_count": 4,
   "metadata": {},
   "outputs": [
    {
     "data": {
      "text/html": [
       "<!--Script block to left align Markdown Tables-->\n",
       "<style>\n",
       "  table {margin-left: 0 !important;}\n",
       "</style>\n"
      ],
      "text/plain": [
       "<IPython.core.display.HTML object>"
      ]
     },
     "metadata": {},
     "output_type": "display_data"
    }
   ],
   "source": [
    "%%html\n",
    "<!--Script block to left align Markdown Tables-->\n",
    "<style>\n",
    "  table {margin-left: 0 !important;}\n",
    "</style>"
   ]
  },
  {
   "cell_type": "markdown",
   "metadata": {},
   "source": [
    "# CE 5364 Groundwater Transport Phenomenoa"
   ]
  },
  {
   "cell_type": "markdown",
   "metadata": {},
   "source": [
    "## Course Description: \n",
    "\n",
    "ipsum lorem\n",
    "\n",
    "## Catalog Description\n",
    "\n",
    "CE 5364: title (3:3:0). \n",
    "\n",
    "## Prerequisites: \n",
    "\n",
    "CE 3305 Engineering Fluid Mechanics and CE 3354 Engineering Hydrology.   Familarity with computational thinking as examined in ENGR 1330 and EGR 1207. CE 4363/5363 Groundwater Hydrology or equivalent.\n",
    "\n",
    "## Course Sections (in this syllabus)\n",
    "Lesson time, days, and location: \n",
    "\n",
    "1. CE xxxx Section 001; CRN xxxx; 1500-1620 M,W ; CE 205\n",
    "\n",
    "\n",
    "## Course Instructor:\n",
    "\n",
    "Instructor: Theodore G. Cleveland, Ph.D., P.E., M. ASCE, F. EWRI\n",
    "\n",
    "Email: theodore.cleveland@ttu.edu  (Put CE 5364)\n",
    "\n",
    "Office location: CE 203F\n",
    "\n",
    "Office hours: TBD\n",
    "\n",
    "## Teaching assistants:\n",
    "\n",
    "Assistant: none\n",
    "\n",
    "Email : NA\n",
    "\n",
    "Office location: NA\n",
    "\n",
    "Office hours: NA"
   ]
  },
  {
   "cell_type": "markdown",
   "metadata": {},
   "source": [
    "## Textbook: \n",
    "\n",
    "[Bedient, P.B., Rifai, H. S., and Newell, C. J. (1999). *Groundwater Contamination: Transport, and Remediation* Prentice Hall. 604 p.](https://www.amazon.com/Ground-Water-Contamination-Transport-Remediation/dp/0130138401) Porchase from Amazon or Follet Discover (the TTU book supplier conrtact)"
   ]
  },
  {
   "cell_type": "markdown",
   "metadata": {},
   "source": [
    "## Instructor Notes\n",
    "\n",
    "[Cleveland, T.G. (2024) Groundwater Transport Phenomena *JupyterBook notes to accompany CE 5364 at TTU*]"
   ]
  },
  {
   "cell_type": "markdown",
   "metadata": {},
   "source": [
    "## Course Schedule \n",
    "\n",
    "| Date | Lesson | Readings | Homework |\n",
    "|:---|:---|:---|:---|\n",
    "|24 AUG 2023|[0. Introduction]() <br> - Syllabus <br> - Blackboard <br> - Web server| Ch. 1 <br> 1.1-1.5| - none|\n",
    "|29 AUG 2023|[1. Computational Tools](http://54.243.252.9/ce-4353-webroot/ce4353jb/ce4353workbook/_build/html/lessons/computationaltools/computationaltools.html) <br> - Jupyter Notebooks <br> - Excel Spreadsheets <br> - Specialized software (USGS MOC;Chemflo2000) | - none | |\n",
    "|31 AUG 2023|[2. Essential Groundwater Review - I]() <br> - Porous Media <br> - Saturated Zone <br> - Unsaturated Zone | Ch 2 <br> 2.1- 2.5 <br>||\n",
    "|5 SEP 2023|[3. Essential Groundwater Review - II]()<br> - Darcy's Law <br> - Pore Velocity <br> - Anisotropy| Ch. 2 & Ch. 3 <br> - 2.6-2.7<br> - 3.1-3.2 | |\n",
    "|7 SEP 2023|[4. Pollutants]()<br> - Concentrations <br> - Types/Sources <br> - Dose/Response| Ch 4 <br> - 4.1-4.12 <br>  ||\n",
    "|12 SEP 2023|[5. Non-Reactive Mass Transport in Porous Media - I]() <br> - Tracer Hypothesis <br> - Mass Flux <br> - Advection| Ch. 6 <br> - 6.1-6.2 |[ES1 Due](http://54.243.252.9/ce-5364-webroot/2-Exercises/ES1/ES1.html)|\n",
    "|14 SEP 2023|[6. Non-Reactive Mass Transport in Porous Media - II]()<br> - Diffusion <br> - Dispersion <br> - Advection-Dispersion Equation (ADE)| Ch. 6 <br> - 6.3-6.4 ||\n",
    "|19 SEP 2023|[7. Analytical Models]()<br> - Analytical solutions to ADE <br> - Appliciability and Uses <br> - Examples| Ch. 6 <br> - 6.5-6.8 <br> ||\n",
    "|21 SEP 2023|[8. Reactive Mass Transport in Porous Media - I](http://54.243.252.9/ce-4353-webroot/ce4353jb/ce4353workbook/_build/html/lessons/momentum/momentum3.html) <br> - Solid-Liquid Reactions (Adsorbtion) <br> - Isotherms <br> - Adjusted time in the ADE| Ch. 7 <br> - 7.1-7.7 <br> ||\n",
    "|26 SEP 2023|[9. Reactive Mass Transport in Porous Media - II]()<br> - Constituient Decay <br> - Adding 1-st order decay in ADE | Ch 7 <br> - 7.8-7.16 <br>   |[ES2 Due](http://54.243.252.9/ce-5364-webroot/2-Exercises/ES2/ES2.html)||\n",
    "|28 SEP 2023|[10. Analytical Models]()<br> - ADE with adsorbtion <br> - ADE with adsorbtion and decay <br> - Examples| Ch. 7 <br> - 7.17 <br> -subtopic 2||\n",
    "|03 OCT 2023|[11. Modeling Advective Transport]()<br> - Need for Numerical Models <br> - Velocity Potential - Stream Function <br> - Particle Tracking| Ch 10 <br> - Flow Models <br> - Transport Models ||\n",
    "|05 OCT 2023|[12. MODFLOW/MODPATH]()<br> - Introduction/Install <br> - Accessing with FloPy <br> - Example 1| Ch 10 <br> - Finite-Difference Methods <br> - Numerical Flow Models|[ES3 Due](http://54.243.252.9/ce-5364-webroot/2-Exercises/ES3/ES3.html)|\n",
    "|08 OCT 2023|[<font color=\"red\">Exam 1 Due</font>](http://54.243.252.9/ce-5364-webroot/5-Exams/EX1/EX1.html)|<font color=\"red\">Submit on Blackboard</font>|\n",
    "|10 OCT 2023|[13. MODFLOW/MOC3](http://54.243.252.9/ce-4353-webroot/ce4353jb/ce4353workbook/_build/html/lessons/graduallyvariedflow/graduallyvaried1.html) <br> - Accessing with FloPy <br> - Example 2| Ch 10 <br> - Method of Characteristics <br> - Numerical Transport Models||\n",
    "|12 OCT 2023|[14. MODPATH Modeling/Project Workshop ]()<br> - Project review <br> - Examples| Ch. 5 <br> - 5.1-5.4 <br> -subtopic 2||\n",
    "|17 OCT 2023|[15. Data-Collection ]()<br> - Definitions <br> - Explicit Fixed Depth Changes| Ch. 5 <br> - 5.1-5.4 <br> -subtopic 2||\n",
    "|19 OCT 2023|[16. Site Investigations]()<br> - Strategies  <br> - Sampling Network Design| Ch. 12 <br> - 12.1-12.6 <br> -subtopic 2 ||\n",
    "|24 OCT 2023|17. [Unsaturated Zone Flow and Transport - I]() <br> - Introduction/Install <br> - Uses/Example| topic name <br> - subtopic1 <br> -subtopic 2|[ES4 Due](http://54.243.252.9/ce-5364-webroot/2-Exercises/ES4/ES4.html)|\n",
    "|26 OCT 2023|18. [Unsaturated Zone Flow and Transport - II]()  <br> - subtopic1 <br> -subtopic 2| topic name <br> - subtopic1 <br> -subtopic 2 |\n",
    "|31 OCT 2023|[19. CHEMFLO-2000 Model]() <br> - Introduction/Install <br> - Uses/Example| Mays Ch. 16 <br> - subtopic1 <br> -subtopic 2 |[ES5 Due](http://54.243.252.9/ce-5364-webroot/2-Exercises/ES5/ES5.html)|\n",
    "|02 NOV 2023|[20. NAPLs and CHEMFLO-2000 Model]() <br> - NAPL <br> - Dense <br> - Light | Ch. 11 <br> - LNAPL <br> - DNAPL <br> - Fate and Transport|blank|\n",
    "|07 NOV 2023|[14. CHEMFLO Modeling/Project Workshop ]()<br> - Project review <br> - Examples| Ch. 5 <br> - 5.1-5.4 <br> -subtopic 2||\n",
    "|09 NOV 2023|[22. Remediation Alternatives - I]() <br> - Source control <br> - Capture and Treat <br> - Capture ind Dispose| Ch. 13 <br> - 13.1-13.4||\n",
    "|14 NOV 2023|[<font color=\"red\">Exam 2 Due</font>](http://54.243.252.9/ce-5364-webroot/5-Exams/EX2/EX2.html)|<font color=\"red\">Submit on Blackboard</font>|\n",
    "|16 NOV 2023|[23. Remediation Alternatives - I]() <br> - Source control <br> - Capture and Treat <br> - Capture ind Dispose| Ch. 13 <br> - 13.1-13.4|[ES6 Due](http://54.243.252.9/ce-5364-webroot/2-Exercises/ES6/ES6.html)|\n",
    "|28 NOV 2023|[24. Remediation Alternatives - II]()  <br> - In-situ Treatment <br> - Vapor Extraction <br> - NAPL Sites| Ch. 13 <br> - 13.5-13.9||\n",
    "|30 NOV 2023|[25. Legal Protection - I]() <br> - Process of Protection <br> - Regulatory Authority (Federal)| Ch. 14 <br> - 14.1-14.4 |Project Report Due||\n",
    "|05 DEC 2023|[26. Legal Protection - II]() <br> - Regulatory Authority (Texas) <br> - | Ch. 14 <br> - 14.5-14.6 <br> - Selected TAC Sections||\n",
    "|13 DEC 2023|[<font color=\"red\">Exam 3 Due</font>](http://54.243.252.9/ce-5364-webroot/5-Exams/EX3/EX2.html)|<font color=\"red\">Submit on Blackboard</font>||"
   ]
  },
  {
   "cell_type": "markdown",
   "metadata": {},
   "source": [
    "## Learning Outcomes: \n",
    "On completion of the course, students will have\n",
    "1. "
   ]
  },
  {
   "cell_type": "markdown",
   "metadata": {},
   "source": [
    "## ABET Student Outcomes\n",
    "* General Engineering:\n",
    "\n",
    "|ABET Outcome|Assessment|\n",
    "|:---|:---|\n",
    "|(1) an ability to identify, formulate, and solve complex engineering problems by applying principles of engineering, science, and mathematics|application of fluid mechanics principles and computer modeling of open channel flow|\n",
    "|(2) an ability to apply engineering design to produce solutions that meet specified needs with consideration of public health, safety, and welfare, as well as global, cultural, social, environmental, and economic factors|design of open channels of various shapes and bed materials, selection of culvert design for required flow|\n",
    "|(7) an ability to acquire and apply new knowledge as needed, using appropriate learning strategies| application of HEC-RAS for open channel flow modeling and assorted jupyter notebook calculation|\n",
    "\n",
    "* Civil Engineering Program Criteria:\n",
    "\n",
    "|ABET Outcome|Assessment|\n",
    "|:---|:---|\n",
    "|(v) proficiency in water resources engineering|applications of fluid mechanics and open channel flow principles for water transmission|\n",
    "|(vii) design a system, component, or process in more than one civil engineering context|design of open channels of various shapes and bed materials, selection of culvert design for required flow|\n",
    "    \n",
    "* Environmental Engineering Program Criteria:\n",
    "\n",
    "|ABET Outcome|Assessment|\n",
    "|:---|:---|\n",
    "|(iv) an ability to perform engineering design by means of design experiences integrated throughout the professional component of the curriculum |design of open channels of various shapes and bed materials, selection of culvert design for required flow|\n"
   ]
  },
  {
   "cell_type": "markdown",
   "metadata": {},
   "source": [
    "### Specialized Software\n",
    "\n",
    "1. [MODFLOW6](https://www.usgs.gov/software/modflow-6-usgs-modular-hydrologic-model) USGS supplied \"standard\" porous media computation engine.  Interfaces are separate ModelMuse and GroundwaterVistas are the most popular - [FloPy](https://github.com/modflowpy/flopy) is used to interface with MODFLOW6 and related software  in the course notes.\n",
    "2. [CHEMFLO-2000](https://www.epa.gov/water-research/chemflo-2000-interactive-software-simulating-water-and-chemical-movement-unsaturated) US EPA supplied unsaturated zone contaminant transport model.\n",
    "3. [Jupyter Notebooks]() Calculations illustrated in the course are accomplished using Jupyter Notebooks running in a JupyterHub environment.  If you have a working Jupyter environment, most of the examples are cut-and-paste.\n",
    "4. [Spreadsheets]() Alternative to scripting is use of spreadsheets.  All calculations in the course can be accomplished using spreadsheets.  Any examples supplied are likely to be [LibreOffice]() which are MS Excel compatable (you will have to refactor a little bit)."
   ]
  },
  {
   "cell_type": "markdown",
   "metadata": {},
   "source": [
    "## Course Assessment and Grading Criteria:\n",
    "There will be three exams and one comprehensive final project for the course.  \n",
    "In addition, lab participation, quizzes, and assignments also contribute to the final grade.  \n",
    "<strong>Late</strong> assignments will not be scored.  \n",
    "\n",
    "Grades will be based on the following components; weighting is approximate:\n",
    "\n",
    "|Assessment Instrument|Weight(%)|\n",
    "|---|---:|\n",
    "|Attendance|10|\n",
    "|Homework|30|\n",
    "|Exam 1|10|\n",
    "|Exam 2|20|\n",
    "|Exam 3|20|\n",
    "|Project|10|\n",
    "|Overall total|1000|100|\n",
    "\n",
    "Letter grades will be assigned using the following proportions:\n",
    "\n",
    "|Normalized Score Range|Letter Grade|\n",
    "|:-|---:|\n",
    "|≥ 90|A|\n",
    "|80-89|B|\n",
    "|70-79|C|\n",
    "|55-69|D|\n",
    "|< 55|F|\n",
    "\n",
    "\n"
   ]
  },
  {
   "cell_type": "markdown",
   "metadata": {},
   "source": [
    "## Classroom Policy:\n",
    "The following activities are not allowed in the classroom: Texting or talking on the cellphone or other electronic devices, and reading non-course related materials.\n",
    "### Telepresence (On-line) Courses\n",
    "Obviously electronic devices are vital; disrupting the webinar is prohibited, please mute your microphone unless you have a question - consider typing your question into the chat window as well. "
   ]
  },
  {
   "cell_type": "markdown",
   "metadata": {},
   "source": [
    "## ADA Statement: \n",
    "Any student who, because of a disability, may require special arrangements in order to meet the course requirements should contact the instructor as soon as possible to make necessary arrangements.  Students must present appropriate verification from Student Disability Services during the instructor's office hours.  Please note that instructors are not allowed to provide classroom accommodation to a student until appropriate verification from Student Disability Services has been provided.  For additional information, please contact Student Disability Services \n",
    "office in 335 West Hall or call 806.742.2405.\n",
    "\n",
    "## Academic Integrity Statement:\n",
    "Academic integrity is taking responsibility for one’s own class and/or course work, being individually accountable, and demonstrating intellectual honesty and ethical behavior.  Academic integrity is a personal choice to abide by the standards of intellectual honesty and responsibility.  Because education is a shared effort to achieve learning through the exchange of ideas, students, faculty, and staff have the collective responsibility to build mutual trust and respect.  Ethical behavior and independent thought are essential for the highest level of academic achievement, which then must be measured.  Academic achievement includes scholarship, teaching, and learning, all of which are shared endeavors.  Grades are a device used to quantify the successful accumulation of knowledge through learning.  Adhering to the standards of academic integrity ensures grades are earned honestly.  Academic integrity is the foundation upon which students, faculty, and staff build their educational and professional careers.  [Texas Tech University (“University”) Quality Enhancement Plan, Academic Integrity Task Force, 2010].\n",
    "\n",
    "## Religious Holy Day Statement: \n",
    "“Religious holy day” means a holy day observed by a religion whose places of worship are exempt from property taxation under Texas Tax Code §11.20.  A student who intends to observe a religious holy day should make that intention known to the instructor prior to the absence.  A student who is absent from classes for the observance of a religious holy day shall be allowed to take an examination or complete an assignment scheduled for that day within a reasonable time after the absence.  A student who is excused may not be penalized for the absence; however, the instructor may respond appropriately if the student fails to complete the assignment satisfactorily.\n",
    "\n",
    "## Ethical Conduct Policy:\n",
    "Cheating is prohibited, and the representation of the work of another person as your own will be grounds for receiving a failing grade in the course.  Use of [Large Language Generative Models](https://www.depts.ttu.edu/tlpdc/AIUSeAllowedwithDisclosureUpdated.pdf) is acceptable\n",
    "\n",
    "## Additional Required Statements\n",
    "1. [Discrimination, Harassment, and Sexual Violence Statement](https://www.depts.ttu.edu/tlpdc/DiscriminationHarrasmentSexualViolenceStatement.pdf)\n",
    "2. [Civility in the Classroom Statement](https://www.depts.ttu.edu/tlpdc/CivilityInTheClassroomStatement.pdf)\n",
    "3. [Student Support Statement](https://www.depts.ttu.edu/tlpdc/StudentSupportStatement.pdf)\n",
    "4. [Statement About Food Insecurity](https://www.depts.ttu.edu/tlpdc/FoodInsecurityStatement.pdf)\n",
    "   \n"
   ]
  },
  {
   "cell_type": "markdown",
   "metadata": {},
   "source": []
  }
 ],
 "metadata": {
  "kernelspec": {
   "display_name": "Python 3",
   "language": "python",
   "name": "python3"
  },
  "language_info": {
   "codemirror_mode": {
    "name": "ipython",
    "version": 3
   },
   "file_extension": ".py",
   "mimetype": "text/x-python",
   "name": "python",
   "nbconvert_exporter": "python",
   "pygments_lexer": "ipython3",
   "version": "3.8.10"
  }
 },
 "nbformat": 4,
 "nbformat_minor": 4
}
