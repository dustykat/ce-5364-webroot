{
 "cells": [
  {
   "cell_type": "markdown",
   "metadata": {},
   "source": [
    "# Introduction"
   ]
  },
  {
   "cell_type": "markdown",
   "metadata": {},
   "source": [
    "## Scope of the Course\n",
    "\n",
    "1. Essential Groundwater Hydrology\n",
    "  - Theory of Flow in Aquifers (2D-Flow)\n",
    "  - Theory of Flow in Layered-Coupled Aquifers (Quasi-3D Flow)\n",
    "  - Boundary Conditions\n",
    "  - Flow Modeling Tools\n",
    "2. Non-Reactive (Tracers) Mass Transport in Porous Media\n",
    "  - Advection\n",
    "  - Diffusion\n",
    "  - Dispersion\n",
    "  - Analytical Solutions \n",
    "3. Reactive Mass Transport in Porous Media\n",
    "  - Solid-Liquid Reactions (Adsorbtion)\n",
    "  - Constituient Decay\n",
    "  - Analytical Solutions\n",
    "4. Numerical Methods\n",
    "  - Multiple Cell Balance (MCB) Method\n",
    "  - Upwind Formulation\n",
    "  - Modeling Pure Advection by Particle Tracking\n",
    "  - Using the Method of Characteristics (USGS-MOC) Model\n",
    "5. Estimating Model Parameters\n",
    "6. Multi-Component Reactive Transport\n",
    "7. Multi-Phase Transport\n",
    "8. Using the Geochemical Balance (USGS-BALANCE) Model\n",
    "9. Extensions to Pollution Modeling in Surface Water and Air Quality (as time permits)"
   ]
  }
 ],
 "metadata": {
  "kernelspec": {
   "display_name": "Python 3",
   "language": "python",
   "name": "python3"
  },
  "language_info": {
   "codemirror_mode": {
    "name": "ipython",
    "version": 3
   },
   "file_extension": ".py",
   "mimetype": "text/x-python",
   "name": "python",
   "nbconvert_exporter": "python",
   "pygments_lexer": "ipython3",
   "version": "3.8.10"
  }
 },
 "nbformat": 4,
 "nbformat_minor": 4
}
