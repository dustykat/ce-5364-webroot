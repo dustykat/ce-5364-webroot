{
 "cells": [
  {
   "cell_type": "markdown",
   "metadata": {},
   "source": [
    "<!--# <font color=darkblue>CE 4363/5363 Groundwater Transport Phenomena <br> Spring 2023 Exercise Set 2</font>-->\n",
    "\n",
    "# F23 Exercise Set 2\n",
    "\n",
    "**LAST NAME, FIRST NAME**\n",
    "\n",
    "**R00000000**\n",
    "\n",
    "<hr>\n",
    "\n",
    "### Purpose : \n",
    "Apply selected analytical models for conservative (non-reactive) transport\n",
    " \n",
    "### Assessment Criteria : \n",
    "Completion, results plausible, format correct, example calculations shown.  \n"
   ]
  },
  {
   "cell_type": "markdown",
   "metadata": {},
   "source": [
    "<hr>\n",
    "\n",
    "## Problem 1 (Problem 6-1, pg. 567)\n",
    "\n",
    "Chloride ($Cl^{-}$) is injected as a continuous source into a 1-D column 50 centimeters long at a seepage velocity of $10^{-3}~\\frac{cm}{s}$.  The effluent concentration measured at $t=1800~s$ from the start of the injection is $0.3$ of the initial concentration, and at $t=2700~s$ the effluent concentration is measured to be $0.4$ of the initial concentration.\n",
    "\n",
    "Determine:\n",
    "\n",
    "1. Sketch the system.\n",
    "2. The longitudinal dispersivity.\n",
    "3. The dispersion coefficient.\n",
    "4. The volumetric flow rate through the column."
   ]
  },
  {
   "cell_type": "code",
   "execution_count": 1,
   "metadata": {},
   "outputs": [],
   "source": [
    "# Enter your solution below, or attach separate sheet(s) with your solution.\n",
    "\n"
   ]
  },
  {
   "cell_type": "markdown",
   "metadata": {},
   "source": [
    "<hr>\n",
    "\n",
    "## Problem 2 (Problem 6-2, pg. 567)\n",
    "\n",
    "Chloride (𝐶𝑙−) is injected as a continuous source into a 1-D column.\n",
    "The system has Darcy velocity of $5.18 \\times 10^{-3}~\\frac{in}{day}$, a porosity of $n=0.30$, and longitudinal dispersivity of $5 m$.\n",
    "\n",
    "Determine:\n",
    "\n",
    "1. Sketch the system.\n",
    "2. The ratio $\\frac{C}{C_0}$ at a location 0.3 meters from the injection location after 5 days of injection.\n",
    "3. The ratio $\\frac{C}{C_0}$ at a location 0.3 meters from the injection location after 5 days of injection, if the dispersivity is 4 times larger ($20 m$).\n",
    "4. Comment on the difference in results.\n"
   ]
  },
  {
   "cell_type": "code",
   "execution_count": 2,
   "metadata": {},
   "outputs": [],
   "source": [
    "# Enter your solution below, or attach separate sheet(s) with your solution.\n",
    "\n"
   ]
  },
  {
   "cell_type": "markdown",
   "metadata": {},
   "source": [
    "<hr>\n",
    "\n",
    "## Problem 3 (Problem 6-3, pg. 587)\n",
    "\n",
    "The estimated mass from an instantaneous release of benzene is $107 \\frac{kg}{m^2}$ of a 1-D aquifer system. The aquifer has a seepage velocity of $0.03 \\frac{in}{day}$ and a longitudinal **dispersion coefficient** of $9 \\times 10^{-4}\\frac{m^2}{day}$\n",
    "\n",
    "Determine:\n",
    "\n",
    "1. Sketch the system.\n",
    "2. Plot a concentration profile at $t = 1~\\text{year}$ for $x = 0$ to $x = 50$ inches, in 1-inch increments.\n",
    "2. Plot a concentration history at $x=v\\times (1~\\text{year})$ (this value stays constant) for $t = 0$ to $t = 2 $ years in $\\frac{1}{12}$-year increments.\n",
    "3. The maximum concentration at $t = 1~\\text{year}$ and its location."
   ]
  },
  {
   "cell_type": "code",
   "execution_count": 3,
   "metadata": {},
   "outputs": [],
   "source": [
    "# Enter your solution below, or attach separate sheet(s) with your solution.\n",
    "\n"
   ]
  },
  {
   "cell_type": "markdown",
   "metadata": {},
   "source": [
    "<!--## [Solution Sketch](http://54.243.252.9/ce-5364-webroot/2-Exercises/ES2/src-sol/ES2-WS.html)-->"
   ]
  },
  {
   "cell_type": "code",
   "execution_count": null,
   "metadata": {},
   "outputs": [],
   "source": []
  }
 ],
 "metadata": {
  "kernelspec": {
   "display_name": "Python 3",
   "language": "python",
   "name": "python3"
  },
  "language_info": {
   "codemirror_mode": {
    "name": "ipython",
    "version": 3
   },
   "file_extension": ".py",
   "mimetype": "text/x-python",
   "name": "python",
   "nbconvert_exporter": "python",
   "pygments_lexer": "ipython3",
   "version": "3.8.10"
  }
 },
 "nbformat": 4,
 "nbformat_minor": 4
}
