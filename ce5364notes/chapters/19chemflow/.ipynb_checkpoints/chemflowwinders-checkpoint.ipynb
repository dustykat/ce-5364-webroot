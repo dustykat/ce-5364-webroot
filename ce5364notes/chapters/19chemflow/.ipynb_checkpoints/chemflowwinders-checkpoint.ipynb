{
 "cells": [
  {
   "cell_type": "markdown",
   "metadata": {},
   "source": [
    "# CHEMFLO-2000\n",
    "\n",
    "Water and chemical movement in soils are dynamic processes, changing dramatically over time and space. Soil properties, chemical properties, and water and chemical application rates interact in complex ways within the soil system to determine the direction and rate of movement of these materials. Researchers have worked many years to understand the physical and chemical mechanisms responsible for the movement of these materials. They have developed mathematical models describing these processes and compared the predictions of these models with field and laboratory measurements. The resulting mathematical models form a basis for predicting the behavior of water and chemicals in soils.\n",
    "\n",
    "The `CHEMFLO` software was created to enhance understanding of the flow and transport processes of water and chemicals into and through soils.  The software enables users to define water and chemical movement systems. The software then solves equation(s) from mathematical models of these systems and displays the results graphically.\n",
    "\n",
    "The software is intended for use by students, regulators, consultants, scientists, and others who are interested in understanding unsaturated flow and transport processes. \n",
    "\n",
    "## Installation\n",
    "\n",
    "In theory it should run over the wire (via the mighty Internet) however below I demonstrate download and running on a Raspberry Pi and on a Winders machine. The install insturctions on the web-o-rama are "
   ]
  },
  {
   "cell_type": "markdown",
   "metadata": {},
   "source": [
    "# ARM7/AARCH Build\n",
    "\n",
    "This section shows the install process on an ARM7 device (a Raspberry Pi 4, running Ubuntu OS).  Its mostly here because the server that hosts these Jupyter books is the same Raspberry Pi \n",
    "\n",
    "## Install the Java Development Kit (JDK) which will be needed by the software; in my case\n",
    "\n",
    "`sudo apt install default-jdk` was sufficient (but no telling what I broke to enable the JDK)\n",
    "\n",
    "## Navigate to `CHEMFLO 2000` at the EPA site\n",
    "\n",
    "![](NavigateToCF.png) <br>\n",
    "\n",
    "## Scroll down to the actual program (a .zip archive) and download the file.\n",
    "\n",
    "![](ChooseZip.png) <br>\n",
    "\n",
    "## Upon complete download examine archive contents\n",
    "\n",
    "![](DownloadDone.png)\n",
    "\n",
    "## Extract the archive\n",
    "\n",
    "![](ExtractTheProgram.png)\n",
    "\n",
    "In my case I put the program into the directory `/home/sensei/ce-5364-webroot/ce5364notes/chapters/19chemflow/chemflo2000/`\n"
   ]
  },
  {
   "cell_type": "markdown",
   "metadata": {},
   "source": [
    "## Running the Program\n",
    "\n",
    "To run the program, open a desktop (on my server I use XFCE as the desktop, and serve it via TightVNC server)  windows users have desktop manager by default so they can NBR this step.\n",
    "\n",
    "## Starting a vncserver (to get to a GUI)\n",
    "\n",
    "```\n",
    "Wed Sep 27 16:52:49 UTC 2023\n",
    "sensei@atomickitty:~$ vncserver :1\n",
    "\n",
    "New 'X' desktop is atomickitty:1\n",
    "\n",
    "Starting applications specified in /home/sensei/.vnc/xstartup\n",
    "Log file is /home/sensei/.vnc/atomickitty:1.log\n",
    "```"
   ]
  },
  {
   "cell_type": "markdown",
   "metadata": {},
   "source": [
    "## Starting the program\n",
    "\n",
    "Open a terminal window in XFCE navigate to directory where the program is stored.\n",
    "\n",
    "![](XFCEterminal.png) \n",
    "\n",
    "Then launch the program using the command `java -jar chemflow.jar`\n",
    "\n",
    "![](startinXFCE.png)\n",
    "\n",
    "A little time elapses then the program loads.\n",
    "\n",
    "![](chemfloOnRASPI.png)"
   ]
  },
  {
   "cell_type": "markdown",
   "metadata": {},
   "source": []
  },
  {
   "cell_type": "code",
   "execution_count": null,
   "metadata": {},
   "outputs": [],
   "source": []
  }
 ],
 "metadata": {
  "kernelspec": {
   "display_name": "Python 3",
   "language": "python",
   "name": "python3"
  },
  "language_info": {
   "codemirror_mode": {
    "name": "ipython",
    "version": 3
   },
   "file_extension": ".py",
   "mimetype": "text/x-python",
   "name": "python",
   "nbconvert_exporter": "python",
   "pygments_lexer": "ipython3",
   "version": "3.8.10"
  }
 },
 "nbformat": 4,
 "nbformat_minor": 4
}
