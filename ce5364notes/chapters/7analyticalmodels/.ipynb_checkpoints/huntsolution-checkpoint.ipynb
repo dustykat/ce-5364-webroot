{
 "cells": [
  {
   "cell_type": "code",
   "execution_count": 56,
   "metadata": {},
   "outputs": [],
   "source": [
    "from scipy import *\n",
    "from scipy import special\n",
    "from scipy.special import kn as BesselK\n",
    "#from scipy.special import expn as ExpInt\n",
    "from math import sqrt as sqrt\n",
    "from math import cosh as cosh\n",
    "from math import log as ln # in python: log(x)=Ln(x)\n",
    "\n",
    "def ExpInt(n,u):\n",
    "\n",
    "    # n wordt niet gebruikt\n",
    "\n",
    "    # Fast approximation for Wu according to equation 7a and 7b from Srivastava(1998)\n",
    "    gamma = 0.5772 # Euler-Macheroni constant\n",
    "\n",
    "    # Wu for u<1\n",
    "    u0  = where(u<1.0,u,1) # u=1 is just a dummy to make ln() work on all values\n",
    "    Wu0 = log(exp(-gamma)/u0) + 0.9653*u - 0.1690*u0**2\n",
    "\n",
    "    #Wu for u>=1\n",
    "    u1 = where(u>=1.0,u,1) # u=1 is just a dummy to make ln() work on all values\n",
    "    Wu1 = 1/(u1*exp(u1))*(u1+0.3575)/(u1+1.280)\n",
    "\n",
    "    # combine Wu0 and Wu1\n",
    "    Wu = where(u<1.0,Wu0,Wu1)\n",
    "    return Wu\n",
    "\n",
    "def func_F(rho,tau):\n",
    "# func_F is a fast approximation of Hantush well function W\n",
    "\n",
    "    # Calculate parameter w\n",
    "    w = (ExpInt(1,rho)-BesselK(0,rho))/(ExpInt(1,rho)-ExpInt(1,rho/2))\n",
    "\n",
    "    # Calculate F(rho,tau)\n",
    "    if tau <= 0:\n",
    "        F = w*ExpInt(1,rho/2*e**(-tau))-(w-1)*ExpInt(1,rho*cosh(tau))\n",
    "    else:\n",
    "        F = 2*BesselK(0,rho) - w*ExpInt(1,rho/2*e**tau) + (w-1)*ExpInt(1,rho*cosh(tau))\n",
    "\n",
    "    # return calculated value of F(rho,tau)\n",
    "    return F"
   ]
  },
  {
   "cell_type": "code",
   "execution_count": 74,
   "metadata": {},
   "outputs": [
    {
     "data": {
      "text/plain": [
       "0.21934715011109937"
      ]
     },
     "execution_count": 74,
     "metadata": {},
     "output_type": "execute_result"
    }
   ],
   "source": [
    "#######################\n",
    "# Theis Well Function # \n",
    "#######################\n",
    "def wellfn(u):\n",
    "    import math\n",
    "    if ((u >= 0) and (u <=1)):\n",
    "# polynomial approximation constants\n",
    "        a0 = -0.57721566\n",
    "        a1 =  0.99999193\n",
    "        a2 = -0.24991055\n",
    "        a3 =  0.05519968\n",
    "        a4 = -0.00976004\n",
    "        a5 =  0.00107857\n",
    "        wellfn = -math.log(u) + a0 + a1*u + a2*u**2 + a3*u**3 + a4*u**4 + a5*u**5\n",
    "        return(wellfn)\n",
    "    elif ((u >1)):\n",
    "# polynomial approximation constants\n",
    "        a1 =  8.5733287401\n",
    "        a2 = 18.0590169730\n",
    "        a3 =  8.6347608925\n",
    "        a4 =  0.2677737343\n",
    "        b1 =  9.5733223454\n",
    "        b2 = 25.6329561486\n",
    "        b3 = 21.0996530827\n",
    "        b4 =  3.9584969228\n",
    "        frac1 = u**4 + a1*u**3 + a2*u**2 + a3*u + a4\n",
    "        frac2 = u**4 + b1*u**3 + b2*u**2 + b3*u + b4\n",
    "        frac3 = u*math.exp(u)\n",
    "        wellfn = (frac1/frac2)/frac3\n",
    "        return(wellfn)\n",
    "    else:\n",
    "        print('error in wellfn')\n",
    "        wellfn = -999.0\n",
    "        return(wellfn)"
   ]
  },
  {
   "cell_type": "code",
   "execution_count": 77,
   "metadata": {},
   "outputs": [
    {
     "data": {
      "text/plain": [
       "8.633224708670133"
      ]
     },
     "execution_count": 77,
     "metadata": {},
     "output_type": "execute_result"
    }
   ],
   "source": [
    "wellfn(0.0001)"
   ]
  },
  {
   "cell_type": "code",
   "execution_count": 117,
   "metadata": {},
   "outputs": [
    {
     "data": {
      "text/plain": [
       "0.0037766133746428825"
      ]
     },
     "execution_count": 117,
     "metadata": {},
     "output_type": "execute_result"
    }
   ],
   "source": [
    "#######################\n",
    "# Leaky Well Function #\n",
    "#######################\n",
    "def leakyfn(u,v):\n",
    "    import math\n",
    "    import numpy\n",
    "    from scipy.special import kn as besselK\n",
    "    from scipy.special import iv as besselI\n",
    "# finite series recursion constants\n",
    "    c12 =  0.0277777777777778\n",
    "#\n",
    "    c14 = -0.00347222222222222\n",
    "    c15 =  0.00173611111111111\n",
    "#\n",
    "    c17 =  0.000416666666666667\n",
    "    c18 = -0.000138888888888889\n",
    "    c19 =  0.0000694444444444444\n",
    "#\n",
    "    c21 = -0.0000462962962962963\n",
    "    c22 =  0.0000115740740740741\n",
    "    c23 = -3.85802469135802E-06\n",
    "    c24 =  1.92901234567901E-06\n",
    "#\n",
    "    c26 =  4.72411186696901E-06\n",
    "    c27 = -9.44822373393802E-07\n",
    "    c28 =  2.3620559334845E-07\n",
    "    c29 = -7.87351977828168E-08\n",
    "    c30 =  3.93675988914084E-08\n",
    "#\n",
    "    c32 = -4.42885487528345E-07\n",
    "    c33 =  7.38142479213908E-08\n",
    "    c34 = -1.47628495842782E-08\n",
    "    c35 =  3.69071239606954E-09\n",
    "    c36 = -1.23023746535651E-09\n",
    "    c37 =  6.15118732678257E-10\n",
    "#\n",
    "# entry point \n",
    "    a3 = (v**2)/4  \n",
    "# if leakance term is negligible, then return well function\n",
    "    if (a3 == 0) :\n",
    "        leakyfn = wellfn(u)\n",
    "        return(leakyfn)\n",
    "# if leakance/time term is large enough, then return besselKo\n",
    "    if (a3/u > 5) :\n",
    "        leakyfn = 2*besselK(0,v)\n",
    "        return(leakyfn)\n",
    "#  }\n",
    "# finite series approximation for u>1, v<=2\n",
    "    if ((u >= 1) and (v <= 2)) :\n",
    "    # recursion terms built by-hand (ported from SSANTS)\n",
    "        g11 = c12*a3\n",
    "        g12 = c14*(a3**2)/(u)\n",
    "        g21 = c15*(a3**2)\n",
    "        g22 = c17*(a3**3)/(u**2)\n",
    "        g23 = c18*(a3**3)/(u)\n",
    "        g31 = c19*(a3**3)\n",
    "        g32 = c21*(a3**4)/(u**3)\n",
    "        g33 = c22*(a3**4)/(u**2)\n",
    "        g34 = c23*(a3**4)/(u)\n",
    "        g41 = c24*(a3**4)\n",
    "        g42 = c26*(a3**5)/(u**4)\n",
    "        g43 = c27*(a3**5)/(u**3)\n",
    "        g44 = c28*(a3**5)/(u**2)\n",
    "        g45 = c29*(a3**5)/(u)\n",
    "        g51 = c30*(a3**5)\n",
    "        g52 = c32*(a3**6)/(u**5)\n",
    "        g53 = c33*(a3**6)/(u**4)\n",
    "        g54 = c34*(a3**6)/(u**3)\n",
    "        g55 = c35*(a3**6)/(u**2)\n",
    "        g56 = c36*(a3**6)/(u)\n",
    "        g61 = c37*(a3**6)\n",
    "    # sum them up!\n",
    "        a34list = [g11,g12,g21,g22,g23,g31,g32,g33,g34,g41,g42,g43,g44,g45,g51,g52,g53,g54,g55,g56,g61]\n",
    "        a34 = numpy.sum(a34list)\n",
    "        a35 = a34*math.exp(-u)\n",
    "        a36 = a3/u\n",
    "        a37 = besselI(v,0)\n",
    "        a38 = wellfn(u)*a37\n",
    "        a39 = 0.5772 + math.log(a36) + wellfn(a36) - a36 +(besselI(0,v)-1)/u\n",
    "        a40 = a39*math.exp(-u)\n",
    "        leakyfn = a38 - a40 + a35\n",
    "        leakyfn=abs(leakyfn)\n",
    "        return(leakyfn)\n",
    "# finite series approximation for u<=1, v<=2\n",
    "    if ((u <= 1) and (v <= 2)) :\n",
    "    # recursion terms built by-hand (ported from SSANTS)\n",
    "        g11 = c12*a3\n",
    "        g12 = c14*(a3)/(u**-1)\n",
    "        g21 = c15*(a3**2)\n",
    "        g22 = c17*(a3)/(u**-2)\n",
    "        g23 = c18*(a3**2)/(u**-1)\n",
    "        g31 = c19*(a3**3)\n",
    "        g32 = c21*(a3)/(u**-3)\n",
    "        g33 = c22*(a3**2)/(u**-2)\n",
    "        g34 = c23*(a3)/(u**-1)\n",
    "        g41 = c24*(a3**4)\n",
    "        g42 = c26*(a3)/(u**-4)\n",
    "        g43 = c27*(a3**2)/(u**-3)\n",
    "        g44 = c28*(a3**3)/(u**-2)\n",
    "        g45 = c29*(a3**4)/(u**-1)\n",
    "        g51 = c30*(a3**5)\n",
    "        g52 = c32*(a3)/(u**-5)\n",
    "        g53 = c33*(a3**2)/(u**-4)\n",
    "        g54 = c34*(a3**3)/(u**-3)\n",
    "        g55 = c35*(a3**4)/(u**-2)\n",
    "        g56 = c36*(a3**5)/(u**-1)\n",
    "        g61 = c37*(a3**6)\n",
    "    # sum them up!  \n",
    "        a70list = [g11,g12,g21,g22,g23,g31,g32,g33,g34,g41,g42,g43,g44,g45,g51,g52,g53,g54,g55,g56,g61]\n",
    "        a70 = sum(a70list)\n",
    "        a71 = u*a70\n",
    "        a72 = a3/u\n",
    "        a73 = 0.5772+math.log(u)+wellfn(u)-u+(besselI(0,v)-1)/(a72)\n",
    "        a74 = a73*exp(-a72)\n",
    "        a75 = besselI(0,v)*wellfn(a72)\n",
    "        a76 = a75 - a74 + a71\n",
    "        a77 = 2*besselK(0,v)\n",
    "        leakyfn = (a77-a76)\n",
    "        return(leakyfn)\n",
    "# approximation for v > 2\n",
    "    if (v > 2) :\n",
    "        term1 = math.sqrt(pi/(2*v))\n",
    "        term2 = math.exp(-v)\n",
    "        term3 = -(v-2*u)/(2*math.sqrt(u))\n",
    "        term4 = math.erfc(term3)\n",
    "        leakyfn = term1*term2*term4\n",
    "        return(leakyfn)\n",
    "    else:\n",
    "        print('error in leakyfn')\n",
    "        leakyfn = -999.0\n",
    "        return(leakyfn)\n",
    "\n",
    "leakyfn(2.5 ,5.0)"
   ]
  },
  {
   "cell_type": "code",
   "execution_count": 164,
   "metadata": {},
   "outputs": [],
   "source": [
    "def wh(u, rho): # Hantush Leaky aquifer well function\n",
    "    import numpy\n",
    "    \"\"\"Returns Hantush's well function values\n",
    "\n",
    "    Note: works only for scalar values of u and rho\n",
    "\n",
    "    Parameters:\n",
    "    -----------\n",
    "    u : scalar  (u= r^2 * S / (4 * kD * t))\n",
    "    rho : sclaar (rho =r / lambda, lambda = sqrt(kD * c))\n",
    "    Returns:\n",
    "    --------\n",
    "    Wh(u, rho) : Hantush well function value for (u, rho)\n",
    "    \"\"\"\n",
    "    try:\n",
    "        u =float(u)\n",
    "        rho =float(rho)\n",
    "    except:\n",
    "        print(\"u and rho must be scalars.\")\n",
    "        raise ValueError()\n",
    "\n",
    "    LOGINF = 2\n",
    "    y = numpy.logspace(numpy.log10(u), LOGINF, 1000)\n",
    "    ym = 0.5 * (y[:-1]+  y[1:])\n",
    "    dy = numpy.diff(y)\n",
    "    wh = numpy.sum(numpy.exp(-ym - (rho / 2)**2 / ym ) * dy / ym)\n",
    "    return(wh)\n",
    "\n",
    "def chunt(c_injection,q_injection,l_thickness,d_x,d_y,velocity,x_location,y_location,time):\n",
    "    import math\n",
    "    rsq = (x_location**2 + (y_location**2)*(d_x/d_y))\n",
    "    rrr = math.sqrt(rsq)\n",
    "    aaa = rsq/(4.0*d_x*time)\n",
    "    bbb = (rrr*velocity)/(2.0*d_x)\n",
    "#    print(rsq,rrr,aaa,bbb)\n",
    "    term1 = c_injection*q_injection/(4.0*math.pi*l_thickness)\n",
    "    term2 = 1.0/(math.sqrt(d_x*d_y))\n",
    "    term3 = math.exp((x_location*velocity)/(2.0*d_x))\n",
    "    term4 = wh(aaa,bbb)\n",
    "    #if term4 <= 0.0: term4 = 0.0\n",
    "#    print(term1,term2,term3,term4)\n",
    "    chunt = term1*term2*term3*term4\n",
    "    return chunt"
   ]
  },
  {
   "cell_type": "code",
   "execution_count": 165,
   "metadata": {},
   "outputs": [
    {
     "name": "stdout",
     "output_type": "stream",
     "text": [
      "1.877873727209694\n"
     ]
    }
   ],
   "source": [
    "# inputs\n",
    "c_injection = 133\n",
    "q_injection = 3.66\n",
    "l_thickness = 1.75\n",
    "d_x = 0.920\n",
    "d_y = 0.092\n",
    "velocity = 0.187\n",
    "x_location = 123\n",
    "y_location = 16\n",
    "time = 505\n",
    "output = chunt(c_injection,q_injection,l_thickness,d_x,d_y,velocity,x_location,y_location,time)\n",
    "print(output)\n",
    "#"
   ]
  },
  {
   "cell_type": "code",
   "execution_count": null,
   "metadata": {},
   "outputs": [],
   "source": []
  },
  {
   "cell_type": "code",
   "execution_count": 166,
   "metadata": {},
   "outputs": [],
   "source": [
    "# build a grid\n",
    "how_many_points = 50   \n",
    "deltax = (x_location*2)/how_many_points\n",
    "x = [i*deltax for i in range(how_many_points)] # constructor notation\n",
    "x[0]=0.001\n",
    "how_many_points = 50   \n",
    "deltay = (y_location*2)/how_many_points\n",
    "y = [i*deltay for i in range(how_many_points)] # constructor notation\n",
    "y[0]=0.001\n",
    "ccc = [[0 for i in range(how_many_points)] for j in range(how_many_points)]\n",
    "\n",
    "for jcol in range(how_many_points):\n",
    "    for irow in range(how_many_points):\n",
    "        ccc[irow][jcol] = chunt(c_injection,q_injection,l_thickness,d_x,d_y,velocity,x[irow],y[jcol],time)"
   ]
  },
  {
   "cell_type": "code",
   "execution_count": 176,
   "metadata": {},
   "outputs": [],
   "source": [
    "my_xyz = [] # empty list\n",
    "nrows = how_many_points\n",
    "ncols = how_many_points\n",
    "\n",
    "#        for irow in range(nrows):\n",
    "#            for jcol in range(ncols):\n",
    "#                my_xyz.append([distancex[0][jcol],distancey[0][irow],head[irow][jcol]])\n",
    "\n",
    "for irow in range(nrows):\n",
    "    for jcol in range(ncols):\n",
    "        my_xyz.append([ x[irow],y[jcol],ccc[irow][jcol] ])\n",
    "            \n",
    "      "
   ]
  },
  {
   "cell_type": "code",
   "execution_count": 179,
   "metadata": {},
   "outputs": [
    {
     "data": {
      "text/plain": [
       "[0.001, 1.28, 165.7867188033908]"
      ]
     },
     "execution_count": 179,
     "metadata": {},
     "output_type": "execute_result"
    }
   ],
   "source": [
    "my_xyz[2]"
   ]
  },
  {
   "cell_type": "code",
   "execution_count": 180,
   "metadata": {},
   "outputs": [
    {
     "ename": "NameError",
     "evalue": "name 'deltat' is not defined",
     "output_type": "error",
     "traceback": [
      "\u001b[0;31m---------------------------------------------------------------------------\u001b[0m",
      "\u001b[0;31mNameError\u001b[0m                                 Traceback (most recent call last)",
      "\u001b[0;32m<ipython-input-180-8aa1acc700cb>\u001b[0m in \u001b[0;36m<module>\u001b[0;34m\u001b[0m\n\u001b[1;32m     21\u001b[0m \u001b[0mCS\u001b[0m \u001b[0;34m=\u001b[0m \u001b[0max\u001b[0m\u001b[0;34m.\u001b[0m\u001b[0mcontour\u001b[0m\u001b[0;34m(\u001b[0m\u001b[0mX\u001b[0m\u001b[0;34m,\u001b[0m \u001b[0mY\u001b[0m\u001b[0;34m,\u001b[0m \u001b[0mZ\u001b[0m\u001b[0;34m,\u001b[0m \u001b[0mlevels\u001b[0m \u001b[0;34m=\u001b[0m \u001b[0;36m12\u001b[0m\u001b[0;34m)\u001b[0m\u001b[0;34m\u001b[0m\u001b[0;34m\u001b[0m\u001b[0m\n\u001b[1;32m     22\u001b[0m \u001b[0max\u001b[0m\u001b[0;34m.\u001b[0m\u001b[0mclabel\u001b[0m\u001b[0;34m(\u001b[0m\u001b[0mCS\u001b[0m\u001b[0;34m,\u001b[0m \u001b[0minline\u001b[0m\u001b[0;34m=\u001b[0m\u001b[0;36m2\u001b[0m\u001b[0;34m,\u001b[0m \u001b[0mfontsize\u001b[0m\u001b[0;34m=\u001b[0m\u001b[0;36m16\u001b[0m\u001b[0;34m)\u001b[0m\u001b[0;34m\u001b[0m\u001b[0;34m\u001b[0m\u001b[0m\n\u001b[0;32m---> 23\u001b[0;31m \u001b[0max\u001b[0m\u001b[0;34m.\u001b[0m\u001b[0mset_title\u001b[0m\u001b[0;34m(\u001b[0m\u001b[0;34m'Head Map at Elapsed Time '\u001b[0m\u001b[0;34m+\u001b[0m \u001b[0mstr\u001b[0m\u001b[0;34m(\u001b[0m\u001b[0mround\u001b[0m\u001b[0;34m(\u001b[0m\u001b[0mdeltat\u001b[0m\u001b[0;34m*\u001b[0m\u001b[0;34m(\u001b[0m\u001b[0mitime\u001b[0m\u001b[0;34m+\u001b[0m\u001b[0;36m1\u001b[0m\u001b[0;34m)\u001b[0m\u001b[0;34m,\u001b[0m\u001b[0;36m1\u001b[0m\u001b[0;34m)\u001b[0m\u001b[0;34m)\u001b[0m\u001b[0;34m+\u001b[0m\u001b[0;34m' days'\u001b[0m\u001b[0;34m)\u001b[0m\u001b[0;34m\u001b[0m\u001b[0;34m\u001b[0m\u001b[0m\n\u001b[0m\u001b[1;32m     24\u001b[0m \u001b[0;31m## End Time Stepping Outer Loop\u001b[0m\u001b[0;34m\u001b[0m\u001b[0;34m\u001b[0m\u001b[0;34m\u001b[0m\u001b[0m\n",
      "\u001b[0;31mNameError\u001b[0m: name 'deltat' is not defined"
     ]
    },
    {
     "data": {
      "image/png": "[encoded data removed]",
      "text/plain": [
       "<Figure size 1008x504 with 1 Axes>"
      ]
     },
     "metadata": {
      "needs_background": "light"
     },
     "output_type": "display_data"
    }
   ],
   "source": [
    "import pandas\n",
    "my_xyz = pandas.DataFrame(my_xyz) # convert into a data frame\n",
    "#print(my_xyz) # activate to examine the dataframe\n",
    "import numpy \n",
    "import matplotlib.pyplot\n",
    "from scipy.interpolate import griddata\n",
    "# extract lists from the dataframe\n",
    "coord_x = my_xyz[0].values.tolist() # column 0 of dataframe\n",
    "coord_y = my_xyz[1].values.tolist() # column 1 of dataframe\n",
    "coord_z = my_xyz[2].values.tolist() # column 2 of dataframe\n",
    "coord_xy = numpy.column_stack((coord_x, coord_y))\n",
    "# Set plotting range in original data units\n",
    "lon = numpy.linspace(min(coord_x), max(coord_x), 300)\n",
    "lat = numpy.linspace(min(coord_y), max(coord_y), 80)\n",
    "X, Y = numpy.meshgrid(lon, lat)\n",
    "# Grid the data; use linear interpolation (choices are nearest, linear, cubic)\n",
    "Z = griddata(numpy.array(coord_xy), numpy.array(coord_z), (X, Y), method='cubic')\n",
    "# Build the map\n",
    "fig, ax = matplotlib.pyplot.subplots()\n",
    "fig.set_size_inches(14, 7)\n",
    "CS = ax.contour(X, Y, Z, levels = 12)\n",
    "ax.clabel(CS, inline=2, fontsize=16)\n",
    "ax.set_title('Head Map at Elapsed Time '+ str(round(deltat*(itime+1),1))+' days')\n",
    "## End Time Stepping Outer Loop"
   ]
  },
  {
   "cell_type": "code",
   "execution_count": 168,
   "metadata": {},
   "outputs": [
    {
     "ename": "ValueError",
     "evalue": "Unknown interpolation method 'cubic' for 100 dimensional data",
     "output_type": "error",
     "traceback": [
      "\u001b[0;31m---------------------------------------------------------------------------\u001b[0m",
      "\u001b[0;31mValueError\u001b[0m                                Traceback (most recent call last)",
      "\u001b[0;32m<ipython-input-168-f74f987fee4f>\u001b[0m in \u001b[0;36m<module>\u001b[0;34m\u001b[0m\n\u001b[1;32m     23\u001b[0m \u001b[0mX\u001b[0m\u001b[0;34m,\u001b[0m \u001b[0mY\u001b[0m \u001b[0;34m=\u001b[0m \u001b[0mnumpy\u001b[0m\u001b[0;34m.\u001b[0m\u001b[0mmeshgrid\u001b[0m\u001b[0;34m(\u001b[0m\u001b[0mlon\u001b[0m\u001b[0;34m,\u001b[0m \u001b[0mlat\u001b[0m\u001b[0;34m)\u001b[0m\u001b[0;34m\u001b[0m\u001b[0;34m\u001b[0m\u001b[0m\n\u001b[1;32m     24\u001b[0m \u001b[0;31m# Grid the data; use linear interpolation (choices are nearest, linear, cubic)\u001b[0m\u001b[0;34m\u001b[0m\u001b[0;34m\u001b[0m\u001b[0;34m\u001b[0m\u001b[0m\n\u001b[0;32m---> 25\u001b[0;31m \u001b[0mZ\u001b[0m \u001b[0;34m=\u001b[0m \u001b[0mgriddata\u001b[0m\u001b[0;34m(\u001b[0m\u001b[0mnumpy\u001b[0m\u001b[0;34m.\u001b[0m\u001b[0marray\u001b[0m\u001b[0;34m(\u001b[0m\u001b[0mcoord_xy\u001b[0m\u001b[0;34m)\u001b[0m\u001b[0;34m,\u001b[0m \u001b[0mnumpy\u001b[0m\u001b[0;34m.\u001b[0m\u001b[0marray\u001b[0m\u001b[0;34m(\u001b[0m\u001b[0mcoord_z\u001b[0m\u001b[0;34m)\u001b[0m\u001b[0;34m,\u001b[0m \u001b[0;34m(\u001b[0m\u001b[0mX\u001b[0m\u001b[0;34m,\u001b[0m \u001b[0mY\u001b[0m\u001b[0;34m)\u001b[0m\u001b[0;34m,\u001b[0m \u001b[0mmethod\u001b[0m\u001b[0;34m=\u001b[0m\u001b[0;34m'cubic'\u001b[0m\u001b[0;34m)\u001b[0m\u001b[0;34m\u001b[0m\u001b[0;34m\u001b[0m\u001b[0m\n\u001b[0m\u001b[1;32m     26\u001b[0m \u001b[0;31m# Build the map\u001b[0m\u001b[0;34m\u001b[0m\u001b[0;34m\u001b[0m\u001b[0;34m\u001b[0m\u001b[0m\n\u001b[1;32m     27\u001b[0m \u001b[0mfig\u001b[0m\u001b[0;34m,\u001b[0m \u001b[0max\u001b[0m \u001b[0;34m=\u001b[0m \u001b[0mmatplotlib\u001b[0m\u001b[0;34m.\u001b[0m\u001b[0mpyplot\u001b[0m\u001b[0;34m.\u001b[0m\u001b[0msubplots\u001b[0m\u001b[0;34m(\u001b[0m\u001b[0;34m)\u001b[0m\u001b[0;34m\u001b[0m\u001b[0;34m\u001b[0m\u001b[0m\n",
      "\u001b[0;32m/opt/jupyterhub/lib/python3.8/site-packages/scipy/interpolate/ndgriddata.py\u001b[0m in \u001b[0;36mgriddata\u001b[0;34m(points, values, xi, method, fill_value, rescale)\u001b[0m\n\u001b[1;32m    266\u001b[0m         \u001b[0;32mreturn\u001b[0m \u001b[0mip\u001b[0m\u001b[0;34m(\u001b[0m\u001b[0mxi\u001b[0m\u001b[0;34m)\u001b[0m\u001b[0;34m\u001b[0m\u001b[0;34m\u001b[0m\u001b[0m\n\u001b[1;32m    267\u001b[0m     \u001b[0;32melse\u001b[0m\u001b[0;34m:\u001b[0m\u001b[0;34m\u001b[0m\u001b[0;34m\u001b[0m\u001b[0m\n\u001b[0;32m--> 268\u001b[0;31m         raise ValueError(\"Unknown interpolation method %r for \"\n\u001b[0m\u001b[1;32m    269\u001b[0m                          \"%d dimensional data\" % (method, ndim))\n",
      "\u001b[0;31mValueError\u001b[0m: Unknown interpolation method 'cubic' for 100 dimensional data"
     ]
    }
   ],
   "source": []
  },
  {
   "cell_type": "code",
   "execution_count": 115,
   "metadata": {},
   "outputs": [
    {
     "name": "stdout",
     "output_type": "stream",
     "text": [
      "0.0037766133746428825\n"
     ]
    }
   ],
   "source": [
    "import math\n",
    "rsq = (x_location**2 + (y_location**2)*(d_x/d_y))\n",
    "rrr = math.sqrt(rsq)\n",
    "u = rsq/(4.0*d_x*time)\n",
    "v = (rrr*velocity)/(2.0*d_x)\n",
    "term1 = math.sqrt(math.pi/(2*v))\n",
    "term2 = math.exp(-v)\n",
    "term3 = -(v-2*u)/(2*math.sqrt(u))\n",
    "term4 = math.erfc(term3)\n",
    "lfn = term1*term2*term4\n",
    "print(lfn)"
   ]
  },
  {
   "cell_type": "code",
   "execution_count": 139,
   "metadata": {},
   "outputs": [
    {
     "data": {
      "text/plain": [
       "657.7540106951872"
      ]
     },
     "execution_count": 139,
     "metadata": {},
     "output_type": "execute_result"
    }
   ],
   "source": [
    "123/.187\n"
   ]
  },
  {
   "cell_type": "code",
   "execution_count": null,
   "metadata": {},
   "outputs": [],
   "source": []
  }
 ],
 "metadata": {
  "kernelspec": {
   "display_name": "Python 3",
   "language": "python",
   "name": "python3"
  },
  "language_info": {
   "codemirror_mode": {
    "name": "ipython",
    "version": 3
   },
   "file_extension": ".py",
   "mimetype": "text/x-python",
   "name": "python",
   "nbconvert_exporter": "python",
   "pygments_lexer": "ipython3",
   "version": "3.8.10"
  }
 },
 "nbformat": 4,
 "nbformat_minor": 4
}
