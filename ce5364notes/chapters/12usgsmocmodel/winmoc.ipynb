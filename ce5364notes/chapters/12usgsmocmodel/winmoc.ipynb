{
 "cells": [
  {
   "cell_type": "markdown",
   "metadata": {},
   "source": [
    "# USGS MOC Windows Build\n",
    "\n",
    "You may find the build on the USGS website won't run on your computer. Options at this point are to get a FORTRAN compiler and build it yourself from source code, or you can use a build from around 1997 that I tested on a Windows computer.\n",
    "\n",
    "Download from\n",
    "\n",
    "[WINMOC_32.exe (compiled for Windows) circa 1997](http://54.243.252.9/ce-5364-webroot/ce5364notes/chapters/12usgsmocmodel/winmoc/bin/WINMOC_32.exe)"
   ]
  },
  {
   "cell_type": "markdown",
   "metadata": {},
   "source": []
  },
  {
   "cell_type": "markdown",
   "metadata": {},
   "source": [
    "When you get the program and an example input file put it somewhere on your computer\n",
    "\n",
    "![](mocwin1.png)"
   ]
  },
  {
   "cell_type": "markdown",
   "metadata": {},
   "source": [
    "Then when you run this program it should generate a terminal window.\n",
    "\n",
    "![](mocwin2.png)"
   ]
  },
  {
   "cell_type": "markdown",
   "metadata": {},
   "source": [
    "Supply the input file name\n",
    "\n",
    "![](mocwin3.png)"
   ]
  },
  {
   "cell_type": "markdown",
   "metadata": {},
   "source": [
    "Supply an output file name\n",
    "\n",
    "![](mocwin4.png)"
   ]
  },
  {
   "cell_type": "markdown",
   "metadata": {},
   "source": [
    "When it is completed, the terminal closes by itself\n",
    "\n",
    "![](mocwin5.png)"
   ]
  },
  {
   "cell_type": "markdown",
   "metadata": {},
   "source": [
    "\n",
    "Then you can examine the output and post-process as needed\n",
    "\n",
    "![](mocwin6.png)"
   ]
  },
  {
   "cell_type": "code",
   "execution_count": null,
   "metadata": {},
   "outputs": [],
   "source": []
  }
 ],
 "metadata": {
  "kernelspec": {
   "display_name": "Python 3",
   "language": "python",
   "name": "python3"
  },
  "language_info": {
   "codemirror_mode": {
    "name": "ipython",
    "version": 3
   },
   "file_extension": ".py",
   "mimetype": "text/x-python",
   "name": "python",
   "nbconvert_exporter": "python",
   "pygments_lexer": "ipython3",
   "version": "3.8.10"
  }
 },
 "nbformat": 4,
 "nbformat_minor": 4
}
