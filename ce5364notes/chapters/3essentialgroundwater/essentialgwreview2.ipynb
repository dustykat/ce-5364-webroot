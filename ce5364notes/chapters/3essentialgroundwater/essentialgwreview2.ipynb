{
 "cells": [
  {
   "cell_type": "markdown",
   "metadata": {},
   "source": [
    "# Essential Groundwater Review - II"
   ]
  },
  {
   "cell_type": "markdown",
   "metadata": {},
   "source": [
    "## Darcy's Law\n",
    "\n",
    "\n",
    "\n",
    "\n"
   ]
  },
  {
   "cell_type": "markdown",
   "metadata": {},
   "source": [
    "## Pore Velocity\n",
    "\n"
   ]
  },
  {
   "cell_type": "markdown",
   "metadata": {},
   "source": [
    "## Anisotropy\n",
    "\n",
    "\n",
    "### Principal Directions of Hydraulic Conductivity\n",
    "\n",
    "To determine the principal values of the hydraulic conductivity tensor in 2D, you would typically follow these steps:\n",
    "\n",
    "> **Define the Hydraulic Conductivity Tensor**: The hydraulic conductivity tensor represents the anisotropic properties of the subsurface material in terms of its ability to transmit water. In 2D, the hydraulic conductivity tensor is a symmetric matrix with three components: Kxx, Kyy, and Kxy (or Kyx). Kxx represents the hydraulic conductivity in the x-direction, Kyy represents the hydraulic conductivity in the y-direction, and Kxy (or Kyx) represents the cross-component.\n",
    "\n",
    "> **Formulate the Hydraulic Conductivity Matrix**: Arrange the components of the hydraulic conductivity tensor into a 2x2 matrix, typically denoted as [K]. In matrix form, the hydraulic conductivity tensor for 2D becomes:\n",
    "\n",
    "$$\n",
    "\\begin{gather}\n",
    "\\mathbf{K} =\n",
    "\\begin{pmatrix}\n",
    "K_{xx} & K_{xy} \\\\\n",
    "~\\\\\n",
    "K_{yx} & K_{yy} \\\\\n",
    "\\end{pmatrix}\n",
    "~\n",
    "\\end{gather}\n",
    "$$\n",
    "\n",
    ">**Solve for Eigenvalues**: Determine the eigenvalues of the hydraulic conductivity matrix [K]. Eigenvalues represent the principal values of the matrix and provide information about the directional properties of the hydraulic conductivity tensor.\n",
    "\n",
    ">**Calculate Principal Values**: The eigenvalues of the hydraulic conductivity matrix [K] correspond to the principal values of the hydraulic conductivity tensor. These principal values represent the maximum and minimum hydraulic conductivities in the directions determined by the corresponding eigenvectors.\n",
    "\n",
    ">**Interpret the Results**: The principal values of the hydraulic conductivity tensor provide insights into the anisotropic nature of fluid flow in the subsurface. The larger eigenvalue corresponds to the direction of maximum hydraulic conductivity, while the smaller eigenvalue represents the direction of minimum hydraulic conductivity.\n",
    "\n",
    "Obtaining accurate values for the hydraulic conductivity components involves field measurements and laboratory testing of soil or rock samples.\n",
    "\n",
    "In 3D the determination is simply the natural extension of the 2D process.  The matrix (tensor) is\n",
    "\n",
    "$$\n",
    "\\begin{gather}\n",
    "\\mathbf{K} =\n",
    "\\begin{pmatrix}\n",
    "K_{xx} & K_{xy} & K_{xz}\\\\\n",
    "~\\\\\n",
    "K_{yx} & K_{yy} & K_{yz} \\\\\n",
    "~\\\\\n",
    "K_{zx} & K_{zy} & K_{zz} \\\\\n",
    "\\end{pmatrix}\n",
    "~\n",
    "\\end{gather}\n",
    "$$"
   ]
  },
  {
   "cell_type": "markdown",
   "metadata": {},
   "source": [
    "## Cell Balance Models (Flow)"
   ]
  },
  {
   "cell_type": "markdown",
   "metadata": {},
   "source": []
  },
  {
   "cell_type": "markdown",
   "metadata": {},
   "source": [
    "## "
   ]
  },
  {
   "cell_type": "markdown",
   "metadata": {},
   "source": [
    "## "
   ]
  },
  {
   "cell_type": "markdown",
   "metadata": {},
   "source": []
  },
  {
   "cell_type": "markdown",
   "metadata": {},
   "source": [
    "## References\n",
    "\n",
    "1. [My notes](http://54.243.252.9/ce-5364-webroot/3-Readings/GroundwaterReview.pdf)\n"
   ]
  },
  {
   "cell_type": "code",
   "execution_count": null,
   "metadata": {},
   "outputs": [],
   "source": []
  }
 ],
 "metadata": {
  "kernelspec": {
   "display_name": "Python 3",
   "language": "python",
   "name": "python3"
  },
  "language_info": {
   "codemirror_mode": {
    "name": "ipython",
    "version": 3
   },
   "file_extension": ".py",
   "mimetype": "text/x-python",
   "name": "python",
   "nbconvert_exporter": "python",
   "pygments_lexer": "ipython3",
   "version": "3.8.10"
  }
 },
 "nbformat": 4,
 "nbformat_minor": 4
}
