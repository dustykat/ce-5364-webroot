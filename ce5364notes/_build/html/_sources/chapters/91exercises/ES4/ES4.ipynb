{
 "cells": [
  {
   "cell_type": "markdown",
   "metadata": {},
   "source": [
    "<!-- # <font color=darkblue>CE 5364 Groundwater Transport Phenemona <br> Fall 2023 Exercise Set 4</font> -->\n",
    "\n",
    "# F23 Exercise Set 4\n",
    "\n",
    "**LAST NAME, FIRST NAME**\n",
    "\n",
    "**R00000000**\n",
    "\n",
    "<hr>\n",
    "\n",
    "## Purpose : \n",
    "Reactive transport concepts and application of isotherms to estimate retardation\n",
    " \n",
    "## Assessment Criteria : \n",
    "Completion, results plausible, format correct, example calculations shown.  \n"
   ]
  },
  {
   "cell_type": "markdown",
   "metadata": {},
   "source": [
    "<hr>\n",
    "\n",
    "## Problem 1 \n",
    "\n",
    "A fuel mixture of benzene, toluene, ethylbenzene at mole fractions 0.075, 0.065, and 0.035 respectively equilibrates with the atmosphere at 25$^oC$\n",
    "\n",
    "![](Fig4-13.png) ![](Tab7-1.png)\n",
    "\n",
    "Determine:\n",
    "1. Concentration in the gas (air) phase of the three components in $\\frac{mg}{L}$\n",
    "2. Concentration in the gas (air) phase of the three components in $\\frac{\\mu g}{m^3}$"
   ]
  },
  {
   "cell_type": "code",
   "execution_count": 1,
   "metadata": {},
   "outputs": [],
   "source": [
    "# Enter your solution below, or attach separate sheet(s) with your solution.\n",
    "\n"
   ]
  },
  {
   "cell_type": "markdown",
   "metadata": {},
   "source": [
    "<hr>\n",
    "\n",
    "## Problem 2 (Modified from 6.22 pg. 592)\n",
    "\n",
    "A well with effective diameter of 0.5 m fully penetrates an aquifer that has a uniform saturated thickness of 10 m.  One hundred grams of benzene are spilled into the well, immediately dissolve, and mix into the water in the well. The seepage velocity is 30 m/yr in the x-direction, the longitudinal dispersivity is 1.0 m, and the transverse dispersivity is 0.1 m.\n",
    "The aquifer has the following characteristics: \n",
    "\n",
    "- Bulk density = 1.8 g/cc\n",
    "- porosity = 0.30\n",
    "- $f_{oc}$ =  1 percent\n",
    "- $K_{ow}$ = 135 L/kg\n",
    "\n",
    "Determine:\n",
    "\n",
    "1. The retardation factor R for benzene in this aquifer.  \n",
    "2. The maximum benzene concentration at t = 1 yr.  \n",
    "3. The location of this maximum.\n"
   ]
  },
  {
   "cell_type": "code",
   "execution_count": 2,
   "metadata": {},
   "outputs": [],
   "source": [
    "# Enter your solution below, or attach separate sheet(s) with your solution.\n",
    "\n"
   ]
  },
  {
   "cell_type": "markdown",
   "metadata": {},
   "source": [
    "<hr>\n",
    "\n",
    "## Problem 3 \n",
    "\n",
    "The following data for concentration of TCE were taken at a single monitoring well.  Use the Mann-Kendall test (pp. 458-460) to determine whether the concentration has an upward or downward trend.\n",
    "\n",
    "\n",
    "|Date|TCE (ppb)|\n",
    "|:---|:---|\n",
    "|9/92|8|\n",
    "|12/92|19|\n",
    "|3/93|21|\n",
    "|6/93|13|\n",
    "|9/93|39|\n",
    "|12/93|24|\n",
    "|3/94|28|\n",
    "|6/94|25|\n",
    "\n",
    "\n",
    "Determine:\n",
    "1. The upward or downward concentration trend, using a Mann-Kendall test.\n",
    "\n",
    "Hint:<br>\n",
    "[Mann-Kendall Explaination (YouTube)](https://www.youtube.com/watch?v=YvoxgeahoI0)\n"
   ]
  },
  {
   "cell_type": "code",
   "execution_count": 3,
   "metadata": {},
   "outputs": [],
   "source": [
    "# Enter your solution below, or attach separate sheet(s) with your solution.\n",
    "\n"
   ]
  },
  {
   "cell_type": "markdown",
   "metadata": {},
   "source": [
    "<!-- <hr><hr>\n",
    "<p> <a href=\"http://54.243.252.9/ce-5364-webroot/2-Exercises/ES4/src/ES4-WS.html\"> <img src=\"http://54.243.252.9/ce-5364-webroot/2-Exercises/ES4/easy-button.png\" alt=\"EZ Button Link to ES-3 solution sketch\" style=\"width:42px;height:42px;\"> </a> <br><br></p> -->"
   ]
  },
  {
   "cell_type": "code",
   "execution_count": null,
   "metadata": {},
   "outputs": [],
   "source": []
  }
 ],
 "metadata": {
  "kernelspec": {
   "display_name": "Python 3",
   "language": "python",
   "name": "python3"
  },
  "language_info": {
   "codemirror_mode": {
    "name": "ipython",
    "version": 3
   },
   "file_extension": ".py",
   "mimetype": "text/x-python",
   "name": "python",
   "nbconvert_exporter": "python",
   "pygments_lexer": "ipython3",
   "version": "3.8.10"
  }
 },
 "nbformat": 4,
 "nbformat_minor": 4
}
