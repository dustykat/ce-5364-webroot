{
 "cells": [
  {
   "cell_type": "markdown",
   "metadata": {},
   "source": [
    "# Analytical Models with Decay and Adsorbtion"
   ]
  },
  {
   "cell_type": "code",
   "execution_count": 20,
   "metadata": {},
   "outputs": [],
   "source": [
    "import math\n",
    "from scipy.special import erf, erfc\n",
    "\n",
    "def c2adrl(conc0, distx, disty, dispx, dispy, velocity, time, lenY, retardation, _lambda):\n",
    "    vadj = velocity / retardation\n",
    "    dispXadj = dispx / retardation\n",
    "    dispYadj = dispy / retardation\n",
    "    lambadj = _lambda / retardation\n",
    "\n",
    "    uuu = math.sqrt(1.0 + 4.0*lambadj*dispXadj/vadj)\n",
    "    ypp = (disty + 0.5*lenY) / (2*math.sqrt(dispYadj*distx))\n",
    "    ymm = (disty - 0.5*lenY) / (2*math.sqrt(dispYadj*distx))\n",
    "\n",
    "    arg1 = (distx - vadj*time*uuu) / (2*math.sqrt(dispXadj*vadj*time))\n",
    "    arg2 = (distx / (2*dispXadj)) * (1 - uuu)\n",
    "\n",
    "    term0 = conc0 / 4\n",
    "    term1 = math.exp(arg2)\n",
    "    term2 = erfc(arg1)\n",
    "    term3 = (erf(ypp) - erf(ymm))\n",
    "\n",
    "    c2adrl = term0 * term1 * term2 * term3\n",
    "    return c2adrl"
   ]
  },
  {
   "cell_type": "code",
   "execution_count": 8,
   "metadata": {
    "collapsed": true,
    "jupyter": {
     "outputs_hidden": true
    }
   },
   "outputs": [
    {
     "name": "stdout",
     "output_type": "stream",
     "text": [
      "x=  100  y=  5  t=  10.0  C(x,y,t) =  0.0\n"
     ]
    },
    {
     "data": {
      "image/png": "[encoded data removed]",
      "text/plain": [
       "<Figure size 1008x504 with 1 Axes>"
      ]
     },
     "metadata": {
      "needs_background": "light"
     },
     "output_type": "display_data"
    }
   ],
   "source": [
    "# inputs\n",
    "c_initial = 100.0\n",
    "xx = 100\n",
    "yy = 5\n",
    "Dx = 1.0\n",
    "Dy = 0.1\n",
    "V = 1.0\n",
    "time = 10.0\n",
    "Y = 10.0\n",
    "R = 1.0\n",
    "LAM = 0.00001\n",
    "\n",
    "output=c2adrl(c_initial, xx, yy, Dx, Dy, V, time, Y, R, LAM)\n",
    "print(\"x= \",round(xx,2),\" y= \",round(yy,2),\" t= \",round(time,1),\" C(x,y,t) = \",round(output,3))\n",
    "\n",
    "# make a plot\n",
    "x_max = 400\n",
    "y_max = 20\n",
    "# build a grid\n",
    "nrows = 50   \n",
    "deltax = (x_max)/nrows\n",
    "x = []\n",
    "x.append(1)\n",
    "for i in range(nrows):\n",
    "    if x[i] == 0.0:\n",
    "        x[i] = 0.00001\n",
    "    x.append(x[i]+deltax)\n",
    "\n",
    "ncols = 50   \n",
    "deltay = (y_max*2)/(ncols-1)\n",
    "y = []\n",
    "y.append(-y_max)\n",
    "for i in range(1,ncols):\n",
    "    if y[i-1] == 0.0:\n",
    "        y[i-1] = 0.00001\n",
    "    y.append(y[i-1]+deltay)\n",
    "    \n",
    "#y\n",
    "\n",
    "#y = [i*deltay for i in range(how_many_points)] # constructor notation\n",
    "#y[0]=0.001\n",
    "ccc = [[0 for i in range(nrows)] for j in range(ncols)]\n",
    "\n",
    "for jcol in range(ncols):\n",
    "    for irow in range(nrows):\n",
    "        ccc[irow][jcol] = c2adrl(c_initial, x[irow], y[jcol], Dx, Dy, V, time, Y, R, LAM)\n",
    "        \n",
    "#y\n",
    "\n",
    "my_xyz = [] # empty list\n",
    "count=0\n",
    "for irow in range(nrows):\n",
    "    for jcol in range(ncols):\n",
    "        my_xyz.append([ x[irow],y[jcol],ccc[irow][jcol] ])\n",
    "       # print(count)\n",
    "        count=count+1\n",
    "        \n",
    "#print(len(my_xyz))\n",
    "\n",
    "import pandas\n",
    "my_xyz = pandas.DataFrame(my_xyz) # convert into a data frame\n",
    "import numpy \n",
    "import matplotlib.pyplot\n",
    "from scipy.interpolate import griddata\n",
    "# extract lists from the dataframe\n",
    "coord_x = my_xyz[0].values.tolist() # column 0 of dataframe\n",
    "coord_y = my_xyz[1].values.tolist() # column 1 of dataframe\n",
    "coord_z = my_xyz[2].values.tolist() # column 2 of dataframe\n",
    "#print(min(coord_x), max(coord_x)) # activate to examine the dataframe\n",
    "#print(min(coord_y), max(coord_y))\n",
    "coord_xy = numpy.column_stack((coord_x, coord_y))\n",
    "# Set plotting range in original data units\n",
    "lon = numpy.linspace(min(coord_x), max(coord_x), 64)\n",
    "lat = numpy.linspace(min(coord_y), max(coord_y), 64)\n",
    "X, Y = numpy.meshgrid(lon, lat)\n",
    "# Grid the data; use linear interpolation (choices are nearest, linear, cubic)\n",
    "Z = griddata(numpy.array(coord_xy), numpy.array(coord_z), (X, Y), method='cubic')\n",
    "# Build the map\n",
    "fig, ax = matplotlib.pyplot.subplots()\n",
    "fig.set_size_inches(14, 7)\n",
    "CS = ax.contour(X, Y, Z, levels = [1,5,10,25,50,75,100])\n",
    "ax.clabel(CS, inline=2, fontsize=16)\n",
    "ax.set_title('Concentration Map at Elapsed Time '+ str(round(time,1))+' days');\n"
   ]
  }
 ],
 "metadata": {
  "kernelspec": {
   "display_name": "Python 3",
   "language": "python",
   "name": "python3"
  },
  "language_info": {
   "codemirror_mode": {
    "name": "ipython",
    "version": 3
   },
   "file_extension": ".py",
   "mimetype": "text/x-python",
   "name": "python",
   "nbconvert_exporter": "python",
   "pygments_lexer": "ipython3",
   "version": "3.8.10"
  }
 },
 "nbformat": 4,
 "nbformat_minor": 4
}
