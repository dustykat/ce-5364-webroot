{
 "cells": [
  {
   "cell_type": "markdown",
   "metadata": {},
   "source": [
    "# CHEMFLO-2000\n",
    "\n",
    "Water and chemical movement in soils are dynamic processes, changing dramatically over time and space. Soil properties, chemical properties, and water and chemical application rates interact in complex ways within the soil system to determine the direction and rate of movement of these materials. Researchers have worked many years to understand the physical and chemical mechanisms responsible for the movement of these materials. They have developed mathematical models describing these processes and compared the predictions of these models with field and laboratory measurements. The resulting mathematical models form a basis for predicting the behavior of water and chemicals in soils.\n",
    "\n",
    "The `CHEMFLO` software was created to enhance understanding of the flow and transport processes of water and chemicals into and through soils.  The software enables users to define water and chemical movement systems. The software then solves equation(s) from mathematical models of these systems and displays the results graphically.\n",
    "\n",
    "The software is intended for use by students, regulators, consultants, scientists, and others who are interested in understanding unsaturated flow and transport processes. \n",
    "\n",
    "## Installation\n",
    "\n",
    "In theory it should run over the wire (via the mighty Internet) however below I demonstrate download and running on a Windows machine (x86-64) and a Raspberry Pi (aarch64). The install instructions on the web-o-rama are a touch confusing - so the notes below might be of value.  "
   ]
  },
  {
   "cell_type": "markdown",
   "metadata": {},
   "source": []
  },
  {
   "cell_type": "code",
   "execution_count": null,
   "metadata": {},
   "outputs": [],
   "source": []
  }
 ],
 "metadata": {
  "kernelspec": {
   "display_name": "Python 3",
   "language": "python",
   "name": "python3"
  },
  "language_info": {
   "codemirror_mode": {
    "name": "ipython",
    "version": 3
   },
   "file_extension": ".py",
   "mimetype": "text/x-python",
   "name": "python",
   "nbconvert_exporter": "python",
   "pygments_lexer": "ipython3",
   "version": "3.8.10"
  }
 },
 "nbformat": 4,
 "nbformat_minor": 4
}
