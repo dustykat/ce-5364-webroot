{
 "cells": [
  {
   "cell_type": "markdown",
   "metadata": {},
   "source": [
    "# Data Collection and Analysis\n",
    "\n",
    "The textbook (pp. 113-158) has a decent description of how to perform a site investigation.\n",
    "\n",
    "A short background follows:\n"
   ]
  },
  {
   "cell_type": "markdown",
   "metadata": {},
   "source": [
    "## Demonstrating Trend(s) \n",
    "\n",
    "Demonstration of trends will typically employ both plotting (visual cues) and some kind of trend analysis.  The methods suggested in the textbook are variations of non-parametric statistical hypothesis tests.  (pp. 456-462)\n",
    "\n",
    "**Mann-Kendall Trend Test** is used to determine whether or not a trend exists in time series (ordered) data. It is a non-parametric test, meaning there is no underlying assumption made about the normality of the data.\n",
    "\n",
    "The textbook presents a tabular approach for small data sets as one would expect on a remediation site - here we present a scripting approach using python packages.\n",
    "\n",
    ">Mann-Kendall Trend Test using `mk.original_test()` function <br><br>In this approach, the `mk.original_test()` function with required parameters from the **pymannkendall** library to conduct the Mann-Kendall Trend test on the given data in the python programming language. To install the pymannkendall library for mk.original_test() function employ `pip` or `conda` like:<br><br> ::: root@atomickitty:/home/sensei# sudo -H /opt/jupyterhub/bin/python3 -m pip install pymannkendall :::\n",
    "\n",
    "An example from [https://www.geeksforgeeks.org](https://www.geeksforgeeks.org/how-to-perform-a-mann-kendall-trend-test-in-python/) below is used to check the install"
   ]
  },
  {
   "cell_type": "code",
   "execution_count": 1,
   "metadata": {},
   "outputs": [
    {
     "name": "stdout",
     "output_type": "stream",
     "text": [
      "no trend\n"
     ]
    },
    {
     "data": {
      "text/plain": [
       "(0.0, 100.0)"
      ]
     },
     "execution_count": 1,
     "metadata": {},
     "output_type": "execute_result"
    },
    {
     "data": {
      "image/png": "[encoded data removed]",
      "text/plain": [
       "<Figure size 432x288 with 1 Axes>"
      ]
     },
     "metadata": {
      "filenames": {
       "image/png": "/home/sensei/ce-5364-webroot/ce5364notes/_build/jupyter_execute/chapters/15datacollection/datacollection_2_2.png"
      },
      "needs_background": "light"
     },
     "output_type": "display_data"
    }
   ],
   "source": [
    "import numpy as np\n",
    "import pandas as pd\n",
    "import pymannkendall as mk\n",
    "import matplotlib.pyplot as plt\n",
    "import statsmodels.api as sm\n",
    "%matplotlib inline\n",
    " \n",
    "gfg_data = [54, 52, 53, 59, 56, 57, 51, 52, 50, 53]\n",
    "\n",
    "# perform Mann-Kendall Trend Test\n",
    "result=mk.original_test(gfg_data,alpha=0.1)\n",
    "print(result.trend)\n",
    "trend_line = np.arange(len(gfg_data))*result.slope + result.intercept\n",
    "\n",
    "#data plot \n",
    "plt.plot(gfg_data)\n",
    "plt.plot(trend_line)\n",
    "plt.ylim(0,100)\n",
    "# autocorrelation plot\n",
    "#fig, ax = plt.subplots(figsize=(12, 8))\n",
    "#sm.graphics.tsa.plot_acf(gfg_data, lags=7, ax=ax);"
   ]
  },
  {
   "cell_type": "markdown",
   "metadata": {},
   "source": [
    "Now we have a tool, lets repeat the example on page 461 of the textbook"
   ]
  },
  {
   "cell_type": "code",
   "execution_count": 2,
   "metadata": {},
   "outputs": [
    {
     "name": "stdout",
     "output_type": "stream",
     "text": [
      "Trend type:  decreasing\n"
     ]
    },
    {
     "data": {
      "image/png": "[encoded data removed]",
      "text/plain": [
       "<Figure size 504x504 with 1 Axes>"
      ]
     },
     "metadata": {
      "filenames": {
       "image/png": "/home/sensei/ce-5364-webroot/ce5364notes/_build/jupyter_execute/chapters/15datacollection/datacollection_4_1.png"
      },
      "needs_background": "light"
     },
     "output_type": "display_data"
    }
   ],
   "source": [
    "import numpy as np\n",
    "import pandas as pd\n",
    "import pymannkendall as mk\n",
    "import matplotlib.pyplot as plt\n",
    "import statsmodels.api as sm\n",
    "%matplotlib inline\n",
    "gfg_data = [3.18,3.455,3.022,4.876,1.635,2.561,2.329,0.95]\n",
    " \n",
    "# perform Mann-Kendall Trend Test\n",
    "result=mk.original_test(gfg_data,alpha=0.1)\n",
    "print(\"Trend type: \",result.trend)\n",
    "trend_line = np.arange(len(gfg_data))*result.slope + result.intercept\n",
    "\n",
    "#data plot \n",
    "plt.figure(figsize=(7,7))\n",
    "plt.plot(gfg_data,marker='o',linewidth=0)\n",
    "plt.plot(trend_line)\n",
    "plt.xlabel(\"Sample Number\")\n",
    "plt.ylabel(\"Conc. (ppm) \")\n",
    "plt.ylim(0,5);\n",
    "# autocorrelation plot\n",
    "#fig, ax = plt.subplots(figsize=(12, 8))\n",
    "#sm.graphics.tsa.plot_acf(gfg_data, lags=7, ax=ax);"
   ]
  },
  {
   "cell_type": "markdown",
   "metadata": {},
   "source": [
    "## References\n",
    "\n",
    "1. [U.S. Environmental Protection Agency, National Nonpoint Source Monitoring Program, Tech Notes #6](https://www.epa.gov/sites/default/files/2016-05/documents/tech_notes_6_dec2013_trend.pdf)\n",
    "\n",
    "2. [U.S. Environmental Protection Agency, Office of Solid Waste. (1986) RCRA ground-water monitoring technical enforcement guidance document. OSWER-9950.1](https://www.epa.gov/sites/default/files/documents/rcragwguiddoc-rpt_0.pdf)\n",
    "\n",
    "\n",
    "\n"
   ]
  }
 ],
 "metadata": {
  "kernelspec": {
   "display_name": "Python 3",
   "language": "python",
   "name": "python3"
  },
  "language_info": {
   "codemirror_mode": {
    "name": "ipython",
    "version": 3
   },
   "file_extension": ".py",
   "mimetype": "text/x-python",
   "name": "python",
   "nbconvert_exporter": "python",
   "pygments_lexer": "ipython3",
   "version": "3.8.10"
  }
 },
 "nbformat": 4,
 "nbformat_minor": 4
}