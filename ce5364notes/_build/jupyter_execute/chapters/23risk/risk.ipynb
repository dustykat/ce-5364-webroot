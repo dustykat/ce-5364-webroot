{
 "cells": [
  {
   "cell_type": "markdown",
   "metadata": {},
   "source": [
    "# Risk Assessment\n",
    "\n",
    "Risk = (Likliehood of outcome) $\\times$ (Consequence)\n",
    "\n",
    "If we observe or predict a concentration at a point in an aquifer how bad is it? Do we have to clean it up to **zero**?\n",
    "\n",
    "Usually cannot afford to! So we assess risk to establish a technologically achievable target.\n",
    "\n",
    "The concept of a technology-based target is incorporated into the [Clean Air Act](https://www.epa.gov/clean-air-act-overview/setting-emissions-standards-based-technology-performance) and under the Clean Wasser Act, under Sections 301, 302, 304, and 306, the EPA issues [technology-based effluent guidelines](https://www.ecfr.gov/current/title-40/chapter-I/subchapter-D/part-125) that establish discharge standards based on treatment technologies that are available and economically achievable. Each EPA Region issues permits that meet or exceed the guidelines and standards.\n",
    "\n",
    "A similar concept applies in groundwater contaminantion and restoration.  All these concept rely on risk as the arbiter of target values.\n",
    "\n",
    ":::{note}\n",
    "Here is an interesting review of [risks of technology-based standards](https://scholarship.law.duke.edu/cgi/viewcontent.cgi?referer=&httpsredir=1&article=1096&context=delpf); its written from a litigation lawyer point of view - but nonetheless interesting!  A similar law article is [The Triumph of Technology-Based Standards](https://heinonline.org/HOL/Page?handle=hein.journals/unilllr2000&div=11&g_sent=1&casa_token=&collection=journals)\n",
    ":::\n",
    "\n"
   ]
  },
  {
   "cell_type": "markdown",
   "metadata": {},
   "source": [
    "![](hazard2risk.png)"
   ]
  },
  {
   "cell_type": "markdown",
   "metadata": {},
   "source": [
    "## Hazard ID\n",
    "\n",
    "- Sample collection & analytical data\n",
    " - presence/absence; locations\n",
    " - non-detects: how are these included in statistics?<br> < DL, or <PQL, or 1/2 DL, or zero? <br> A whole science of censored data is needed to be considered."
   ]
  },
  {
   "cell_type": "markdown",
   "metadata": {},
   "source": [
    "## Exposure Assessment\n",
    "- Pathways: inhale, ingest, absorb (through skin)\n",
    "- Medium: Air, water, soil\n",
    "- Receptor: Worker, resident, adult (70kg), child (16kg), infant (3kg)\n",
    "- Exposure:  $$EXP\\frac{mg}{kg \\cdot d} = IF(\\frac{amount of medium}{d})\\times C(\\frac{mg}{medium}) \\times EDF \\times CF$$ <br>  IF == intake factor; EDF == exposure duration factor; CF == conversion factor <br> concentrations are compared to MCLs if available <br> derived from animal or human exposure\n",
    "\n",
    "[Asante-Duah, K. (1993) Hazardous Waste Risk Assessment](http://54.243.,252.9/ce-5364-webroot/3-Readings/HazardousWasteRiskAssessmentbyAsante-Duah.pdf)\n",
    "\n",
    "![](intakedose.png)"
   ]
  },
  {
   "cell_type": "markdown",
   "metadata": {},
   "source": [
    "General AT guidelines:\n",
    "\n",
    "Carcinogen: AT == Lifetime (70 $\\times$ 365 days)<br>\n",
    "Non-Carcinogen: AT == Approximate exposure time\n",
    "\n",
    "Long-term: \n",
    "- CDI == chronic daily intake over 70 years<br>\n",
    "- C == reasonably maximum exposure (time)\n",
    "\n",
    "Short-term:\n",
    "- SDI == subchronic daily intake\n",
    "\n",
    "LADD == lifetime average daily dose (cancer) <br>\n",
    "ADD ==  average daily dose (non-cancer)<br>\n",
    "MDD = maximum daily dose (short-term acute)<br>\n",
    "            "
   ]
  },
  {
   "cell_type": "markdown",
   "metadata": {},
   "source": [
    "## Toxicity Assessment\n",
    "\n",
    "Type of adverse effects.  Relates exposure magnitude to amount of effect.\n",
    "\n",
    "An example:\n",
    "\n",
    "Total body exposure of 100 roentgens/rad or 1 Gray unit (Gy) causes radiation sickness. Total body exposure of 400 roentgens/rad (or 4 Gy) causes radiation sickness and death in half of the individuals who are exposed.\n",
    "\n",
    ":::{note}\n",
    "There is a missing component above - 4 Gy kills 1/2 exposed in some prescribed time interval (I recall its 30 days).  This whole concept of LD50 implicitly includes some response time window.  \n",
    ":::\n",
    "\n",
    "[Radiation health effects](https://www.epa.gov/radiation/radiation-health-effects) are phenomenally well studied and much toxicity understanding is directly sourced from radition behavoir.  \n",
    "\n",
    "**Data Sources**\n",
    "- [US EPA IRIS](https://www.epa.gov/iris) \n",
    "Has browsable database for example part of [Agent Orange](https://iris.epa.gov/ChemicalLanding/&substance_nmbr=150)\n",
    "- Scientific literature\n",
    "- Health literature [VA Agent Orange](https://www.publichealth.va.gov/exposures/agentorange/#:~:text=Agent%20Orange%20was%20a%20tactical,herbicides%20during%20the%20Vietnam%20War.)\n",
    "- Conspiracy literature (probably less reliable) [YouTube Agent Orange](https://www.youtube.com/watch?v=BHcd-srsSBY)\n",
    "\n",
    "\n",
    "All based to some extent on:\n",
    "- Case clusters\n",
    "- [Theoretical toxicology](https://www.ncbi.nlm.nih.gov/pmc/articles/PMC5837539/)\n",
    "- Short-term laboratory studies\n",
    "- [Long-term animal model studies](https://www.sciencedirect.com/science/article/pii/S2452302X1930316X)\n",
    "- [Human (epidemiological) studies](https://www.ncbi.nlm.nih.gov/books/NBK219116/)\n",
    "- [Unethical human experiments](https://en.wikipedia.org/wiki/Unethical_human_experimentation) ![](wasteOfFood.png) Although wrong, should we use the data? "
   ]
  },
  {
   "cell_type": "markdown",
   "metadata": {},
   "source": [
    "## References\n",
    "\n",
    "1. [Asante-Duah, K. (1993) Hazardous Waste Risk Assessment](http://54.243.,252.9/ce-5364-webroot/3-Readings/HazardousWasteRiskAssessmentbyAsante-Duah.pdf)\n",
    "2. [Hazard Ranking System Guidance Manual](http://54.243.252.9/ce-5364-webroot/3-Readings/HRSmanual.pdf)\n",
    "3. [EPA Risk Communication Seminar (1990)](http://54.243.252.9/ce-5364-webroot/3-Readings/EPARiskCommunicationSeminar.pdf)"
   ]
  },
  {
   "cell_type": "code",
   "execution_count": null,
   "metadata": {},
   "outputs": [],
   "source": []
  }
 ],
 "metadata": {
  "kernelspec": {
   "display_name": "Python 3",
   "language": "python",
   "name": "python3"
  },
  "language_info": {
   "codemirror_mode": {
    "name": "ipython",
    "version": 3
   },
   "file_extension": ".py",
   "mimetype": "text/x-python",
   "name": "python",
   "nbconvert_exporter": "python",
   "pygments_lexer": "ipython3",
   "version": "3.8.10"
  }
 },
 "nbformat": 4,
 "nbformat_minor": 4
}