{
 "cells": [
  {
   "cell_type": "markdown",
   "metadata": {},
   "source": [
    "# Advection\n",
    "\n",
    "Advection (convection) is the transport of dissolved or suspended material by motion of the host fluid. The prediction of the direction and amount of material transported requires knowledge of the fluid velocity field (the velocity of a fluid particle).  \n",
    "\n",
    "![](labeledparcel.png)\n",
    "\n",
    "The figure depicts the flow of a labeled fluid in a tube.  One can use the sketch to define various useful properties of the labeled fluid portion as listed.\n",
    "\n",
    "|Property|Expression|\n",
    "|---|---|\n",
    "|Mass of labeled fluid|$m=\\rho A\\Delta L$ |\n",
    "|Mass of tracer|$m=C A\\Delta L$|\n",
    "|Distance traveled by leading (trailing edge)|$x=\\Delta L$|\n",
    "|Time required to travel distance|$time = \\Delta t$|\n",
    "|Velocity of leading edge|$u = \\frac{x}{time} = \\frac{\\Delta L}{\\Delta t}$|\n",
    "|Mass through circular frame/unit time|$m=\\frac{\\rho A\\Delta L}{\\Delta t}$|\n",
    "|Tracer through circular frame/unit time|$m=\\frac{C A\\Delta L}{\\Delta t}$|\n",
    "|Fluid mass flux|$J=\\rho\\frac{UA}{A}=\\rho\\frac{Q}{A}=\\rho U$|\n",
    "|Tracer mass flux|$J=C\\frac{UA}{A}=C\\frac{Q}{A}=C U$|\n",
    "\n",
    "The advective flux is the product of the quantity of interest (in this case mass of either host fluid or tracer) and the velocity term.  Typically the mean section velocity is used (pipe flow, open channel flow) because fine scale resolution of the velocity field is impossible.  In porous media, the pore velocity or average linear velocity is used.\n",
    "Advection calculations usually use mean section velocity based on discharge measurements.\n"
   ]
  },
  {
   "cell_type": "code",
   "execution_count": null,
   "metadata": {},
   "outputs": [],
   "source": []
  }
 ],
 "metadata": {
  "kernelspec": {
   "display_name": "Python 3",
   "language": "python",
   "name": "python3"
  },
  "language_info": {
   "codemirror_mode": {
    "name": "ipython",
    "version": 3
   },
   "file_extension": ".py",
   "mimetype": "text/x-python",
   "name": "python",
   "nbconvert_exporter": "python",
   "pygments_lexer": "ipython3",
   "version": "3.8.10"
  }
 },
 "nbformat": 4,
 "nbformat_minor": 4
}