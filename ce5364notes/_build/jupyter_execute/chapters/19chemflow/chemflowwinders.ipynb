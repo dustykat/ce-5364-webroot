{
 "cells": [
  {
   "cell_type": "markdown",
   "metadata": {},
   "source": []
  },
  {
   "cell_type": "markdown",
   "metadata": {},
   "source": [
    "# Windows Install\n",
    "\n",
    "This section shows the install process on a Windows device (an Atomic Pi).  \n",
    "\n",
    "## Install the Java Development Kit (JDK) which will be needed by the software\n",
    "\n",
    "The program needs a current JDK installed - its free until 2026.  It was to be free eternally, but the creator [Sun Microsystems](https://en.wikipedia.org/wiki/Sun_Microsystems) ceased to exist in 2010\n",
    "\n",
    "### Navigate to EPA Webster\n",
    "\n",
    "![](CF2Kpage.png)\n",
    "\n",
    "### Take Link to Java SDK pages\n",
    "\n",
    "![](LinkToJAVA.png)\n",
    "\n",
    "### Navigate to Winders Downloads\n",
    "\n",
    "![](JDK-choices.png)\n",
    "\n",
    "Download the SDK, I highlighted bestest choice although the MSI option is fine too.  Then run the executible on your computer; heres my file system\n",
    "\n",
    "![](windozeInstaller.png)\n",
    "\n",
    "When you run the installer you get something like\n",
    "\n",
    "![](JDKinstaller.png)\n",
    "\n",
    "Just accept defaults and wait it out.\n",
    "\n",
    "### Navigate back to EPA Webster\n",
    "\n",
    "Now download the actual software.\n",
    "\n",
    "![](LinkToCF2K.png)\n",
    "\n",
    "Download the file (.zip) then extract where you want it to run.\n",
    "\n",
    "![](CF2Kzip.png)\n",
    "\n",
    "For example, if extract into Downloads (kind of dumb, but we can move as needed)\n",
    "\n",
    "![](extracted.png)"
   ]
  },
  {
   "cell_type": "markdown",
   "metadata": {},
   "source": [
    "## Running the Program\n",
    "\n",
    "To run the program, navigate into the extracted directory and double click the file `CHEMFLO.BAT`.  Wait a short time and you should get the interface.\n",
    "\n",
    "![](CF2KRunning.png)\n",
    "\n"
   ]
  },
  {
   "cell_type": "markdown",
   "metadata": {},
   "source": [
    "## VNC Demonstration\n",
    "\n",
    "On WCOE hardware end users are forbidden to install useful tools; hence here I use a hack to access a remote desktop. The remote desktop is used to access the software remotely. \n",
    "\n",
    "[VNC-Viewer Windoze (portable) 32-bit](http://54.243.252.9/ce-5364-webroot/ce5364notes/chapters/19chemflow/VNCportable/VNC-Viewer-7.7.0-Windows-32bit.exe)\n",
    "\n",
    "[VNC-viewer Winders (portable) 64-bit](http://54.243.252.9/ce-5364-webroot/ce5364notes/chapters/19chemflow/VNCportable/VNC-Viewer-7.7.0-Windows-64bit.exe)\n",
    "\n",
    "The actual remote desktop is a Raspberry Pi computer running an XFCE desktop.  Its CHEMFLOW configuration is described in the next section."
   ]
  },
  {
   "cell_type": "code",
   "execution_count": null,
   "metadata": {},
   "outputs": [],
   "source": []
  }
 ],
 "metadata": {
  "kernelspec": {
   "display_name": "Python 3",
   "language": "python",
   "name": "python3"
  },
  "language_info": {
   "codemirror_mode": {
    "name": "ipython",
    "version": 3
   },
   "file_extension": ".py",
   "mimetype": "text/x-python",
   "name": "python",
   "nbconvert_exporter": "python",
   "pygments_lexer": "ipython3",
   "version": "3.8.10"
  }
 },
 "nbformat": 4,
 "nbformat_minor": 4
}