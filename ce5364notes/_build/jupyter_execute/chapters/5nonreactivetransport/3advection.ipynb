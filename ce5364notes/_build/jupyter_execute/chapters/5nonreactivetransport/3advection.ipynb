{
 "cells": [
  {
   "cell_type": "markdown",
   "metadata": {},
   "source": [
    "# Advection\n",
    "\n",
    "Advection (convection) is the transport of dissolved or suspended material by motion of the host fluid. The prediction of the direction and amount of material transported requires knowledge of the fluid velocity field (the velocity of a fluid particle).  \n",
    "\n",
    "![](labeledparcel.png)\n",
    "\n",
    "The figure depicts the flow of a labeled fluid in a tube.  One can use the sketch to define various useful properties of the labeled fluid portion as listed.\n",
    "\n",
    "|Property|Expression|\n",
    "|---|---|\n",
    "|Mass of labeled fluid|$m=\\rho A\\Delta L$ |\n",
    "|Mass of tracer|$m=C A\\Delta L$|\n",
    "|Distance traveled by leading (trailing edge)|$x=\\Delta L$|\n",
    "|Time required to travel distance|$time = \\Delta t$|\n",
    "|Velocity of leading edge|$u = \\frac{x}{time} = \\frac{\\Delta L}{\\Delta t}$|\n",
    "|Mass through circular frame/unit time|$m=\\frac{\\rho A\\Delta L}{\\Delta t}$|\n",
    "|Tracer through circular frame/unit time|$m=\\frac{C A\\Delta L}{\\Delta t}$|\n",
    "|Fluid mass flux|$J=\\rho\\frac{UA}{A}=\\rho\\frac{Q}{A}=\\rho U$|\n",
    "|Tracer mass flux|$J=C\\frac{UA}{A}=C\\frac{Q}{A}=C U$|\n",
    "\n",
    "The advective flux is the product of the quantity of interest (in this case mass of either host fluid or tracer) and the velocity term.  Typically the mean section velocity is used (pipe flow, open channel flow) because fine scale resolution of the velocity field is impossible.  In porous media, the pore velocity or average linear velocity is used.\n",
    "Advection calculations usually use mean section velocity based on discharge measurements.\n"
   ]
  },
  {
   "cell_type": "markdown",
   "metadata": {},
   "source": [
    "## Modeling Advection \n",
    "\n",
    "1D Examples are in the textbook; 1D is not too difficult as the direction hence the path is known.  \n",
    "\n",
    "Higher spatial dimensions (2D, 3D) use either a particle tracking approach (DPRW, MOC, MT3D, ...) or flux-limited Reynolds-averaged Navier-Stokes (FLUENT, SUTRA, HST3D, ....)\n",
    "\n",
    "Later on we will use USGS-MOC, so will illustrate particle tracking.\n",
    "\n",
    "- Particle or front tracking is typically performed using special software.\n",
    "- It can be performed using a spreadsheet.\n",
    "- The spreadsheet exercise is useful to illustrate the principles involved in particle tracking calculations.\n",
    "- Particle tracking with reactions is very computationally intensive and is beyond practical application in a spreadsheet; such computations are used to design space shuttles, helicopters and other things where the knowledge gained justifies the costs\n",
    "\n",
    "The first step is to compute the velocity field (if it is steady even better, if not then every time increment it is recomputed)\n",
    "\n",
    "- If analytical functions are available for the velocity field then tracking is relatively easy.\n",
    "- Usually the velocity field is determined numerically at discrete points in space, and this is the situation of interest.\n",
    "- The interpolation schemes in common use are simple; simple, simple-linear, and multi-linear schemes.\n",
    "- Only the simple-linear scheme preserves cell-by-cell mass balances.\n",
    "\n",
    "The figure below illustrates simple linear interpolation.\n",
    "\n",
    "![](particle_track_interpolation.png)\n",
    "\n",
    "- Typical computational grid for heads.\n",
    "- Arrows are the interfacial fluxes. \n",
    "- The simple scheme assigns the top and left flux to $(x_1,y_1)$.\n",
    "- The simple scheme assgins the right and bottom flux to $(x_2,y_2)$."
   ]
  },
  {
   "cell_type": "markdown",
   "metadata": {},
   "source": [
    "The particle velocity is determined by position of the particle relative to the velocity grid.\n",
    "\n",
    "![](pt_find_particle.png)\n",
    "\n",
    "Uses the same grid as the head scheme.\n",
    "Velocity is the distance weighted average of the cell that the particle occupies."
   ]
  },
  {
   "cell_type": "markdown",
   "metadata": {},
   "source": [
    "![](pt_get_velo.png)\n",
    "\n",
    "From the above figure, the particle's velocities (x- and y- directions) are:\n",
    "\n",
    "- $u_p = \\frac{1-\\delta x}{\\Delta x}u(x_1,y_1)+\\frac{\\delta x}{\\Delta x}u(x_2,y_2)$\n",
    "\n",
    "- $v_p = \\frac{1-\\delta y}{\\Delta y}v(x_1,y_1)+\\frac{\\delta y}{\\Delta y}v(x_2,y_2)$"
   ]
  },
  {
   "cell_type": "markdown",
   "metadata": {},
   "source": [
    "### Multi-Linear Interpolation\n",
    "\n",
    "Higher order schemes produce smoother velocity fields at the expense of cell mass balances and computational ease. The USGS-MOC model uses a bi-linear scheme where the velocities at the four corners of the occupied cell are used. When transient flow fields occur, averaging in time is also used. The differences in the schemes are hard to detect when the grid spacing is small and the flow field is smoothly varying."
   ]
  },
  {
   "cell_type": "markdown",
   "metadata": {},
   "source": [
    "### Spreadsheet Approach\n",
    "\n",
    "To illustrate particle tracking the simple velocity scheme is used.  \n",
    "Extension to higher order schemes is straight forward.\n",
    "\n",
    "Illustrate with simple scheme. Consider:\n",
    "\n",
    "![](ss_fig1.png)\n",
    "\n",
    "- Large rectangles represent the velocity grid.\n",
    "- Circles represent the geometric location where velocity is known.\n",
    "- Small rectangle represents the particle that we wish to track.\n",
    "\n",
    "**Cell Indexing**\n",
    "\n",
    "![](ss_fig2.png)\n",
    "\n",
    "- Each cell represents a grid location in the velocity field.  Thus each cell has a unique row and column index.\n",
    "- Each cell centroid also has a unique geomteric (x,y) location.\n",
    "- The particle in the figure is located in cell named: Col_1,Row_2.\n",
    "- The cell is located at position: (X_1,Y_2).\n",
    "- The particle position is (XP,YP)."
   ]
  },
  {
   "cell_type": "markdown",
   "metadata": {},
   "source": [
    "**Locating the Particle**\n",
    "\n",
    "- At the start of a time-step:\n",
    " - particle position is known.\n",
    " - cell positions are known.\n",
    " - cell that the particle occupies is unknown.\n",
    "- Construct a distance table\n",
    " - The distance from each cell to the particle is calculated and stored in a table.\n",
    "- Search the table,find the cell nearest the particle.\n",
    " - The cell coordinates of the smallest distance in the table is determined\n",
    " \n",
    "**Locating in Excel**\n",
    "- The spreadsheet function that finds the value in an array (rectangular area of cells), given the position in the array to search is the function `INDEX(array,row_index,column_index)`\n",
    "- The spreadsheet function that can find the position in an array where a particular value appears is the function `MATCH(value,array,type)`\n",
    "\n",
    "**INDEX Function**\n",
    "- `INDEX(array,row_index,column_index)`\n",
    "array is the location of the rectangular area of cells to search (eg. A3:C6).\n",
    "row_index is number of rows down from the starting row to search.\n",
    "column_index is the number of columns across from the starting column to search.\n",
    "\n",
    "**MATCH Function**\n",
    "- `MATCH(value,array,type)`\n",
    "value is the numerical value to search for in the array.\n",
    "array is the location of the rectangular area of cells to search (eg. A3:C6).\n",
    "type is the type of match to use.  type=0 means exact matching.\n",
    "\n",
    "**Using the Functions**\n",
    "- The `INDEX` function allows us to select the correct values of velocity if we know which cell the particle resides in.\n",
    "- The `MATCH` function allows us to compare values in an array and determine the position in the array that these values are found.  \n",
    "Thus the `MATCH` function lets us search a distance table, find the cell center nearest the particle, and then use the index to find the correct velocity.\n",
    "\n",
    "**Moving the Particle**\n",
    "\n",
    "Once the cell containing the particle is identified, the particle is assigned the velocity values for that cell.\n",
    "The particle is then “moved” by the simple kinematic calculation:\n",
    "\n",
    "- $x_p(t+\\Delta t)=x_p(t)+u_p(t)\\Delta t$\n",
    "- $y_p(t+\\Delta t)=y_p(t)+v_p(t)\\Delta t$"
   ]
  },
  {
   "cell_type": "markdown",
   "metadata": {},
   "source": [
    "**Illustrative Example**\n",
    "\n",
    "An example with 3 particles is shown below - the spreadsheet is kind of big because iterative computations are intentionally avoided.\n",
    "\n",
    "![](pt_seg0.png)\n",
    "\n",
    "Closer view for particle 1:\n",
    "\n",
    "![](pt_seg1.png)\n",
    "\n",
    "Closer view for particle 2:\n",
    "\n",
    "![](pt_seg2.png)\n",
    "\n",
    "Closer view for particle 3:\n",
    "\n",
    "![](pt_seg3.png)"
   ]
  },
  {
   "cell_type": "markdown",
   "metadata": {},
   "source": [
    "**Summary**\n",
    "\n",
    "- Particle tracking is a tool to determine the position of a fluid particle in a flow field.\n",
    "- A two-step approach is required:\n",
    " - Determine particle velocity\n",
    "   - Locate the particle relative to known velocity locations.\n",
    "   - Assign the velocity to the particle based on an interpolation scheme.\n",
    " - Move the particle.\n",
    "- All particle tracking programs use this type of two-step logic.\n",
    "\n",
    "## Spreadsheets\n",
    "1. [Cleveland, T.G. (1997) *Particle Tracking Spreadsheet (10X10) (Excel)*](ce-5364-webroot/ce5364notes/chapters/5nonreactivetransport/PartTrack_10.xls/)\n",
    "2. [Cleveland, T.G. (1997) *Particle Tracking Spreadsheet (20X20) (Excel)*](ce-5364-webroot/ce5364notes/chapters/5nonreactivetransport/PartTrack_20.xls/)\n",
    "3. [Cleveland, T.G. (1997) *Particle Tracking Spreadsheet (5X5 same as example above) (Excel)*](ce-5364-webroot/ce5364notes/chapters/5nonreactivetransport/PartTrack.xls/)\n",
    "\n",
    "## Flownets\n",
    "\n",
    "3. [Cleveland, T.G. (2002) *Flownets* Notes to accompany \"CIVE 7332 Flow and Transport Modeling for Environmental Engineering\" at University of Houston](http://54.243.252.9/ce-5364-webroot/3-Readings/flownet_1.pdf)"
   ]
  },
  {
   "cell_type": "markdown",
   "metadata": {},
   "source": [
    "## References\n",
    "\n",
    "1. [Zheng, C. and Bennett, G.D. (1995) pp. 3-23 *Applied Contaminant Transport Modeling* Van Nostrand Reinhold](http://54.243.252.9/ce-5364-webroot/ce5364notes/chapters/3advection/Advection.PDF)\n",
    "2. [Cleveland, T.G. (2002) *Advection* Notes to accompany *\"CIVE 7332 Flow and Transport Modeling for Environmental Engineering\" at University of Houston*](http://54.243.252.9/ce-5364-webroot/3-Readings/AdvectionNotes.pdf)\n",
    "3. [Cleveland, T.G. (2002) *Particle Tracking in a Spreadsheet* Notes to accompany \"CIVE 7332 Flow and Transport Modeling for Environmental Engineering\" at University of Houston](http://54.243.252.9/ce-5364-webroot/3-Readings/parttrack_1.pdf)"
   ]
  },
  {
   "cell_type": "code",
   "execution_count": null,
   "metadata": {},
   "outputs": [],
   "source": []
  }
 ],
 "metadata": {
  "kernelspec": {
   "display_name": "Python 3",
   "language": "python",
   "name": "python3"
  },
  "language_info": {
   "codemirror_mode": {
    "name": "ipython",
    "version": 3
   },
   "file_extension": ".py",
   "mimetype": "text/x-python",
   "name": "python",
   "nbconvert_exporter": "python",
   "pygments_lexer": "ipython3",
   "version": "3.8.10"
  }
 },
 "nbformat": 4,
 "nbformat_minor": 4
}