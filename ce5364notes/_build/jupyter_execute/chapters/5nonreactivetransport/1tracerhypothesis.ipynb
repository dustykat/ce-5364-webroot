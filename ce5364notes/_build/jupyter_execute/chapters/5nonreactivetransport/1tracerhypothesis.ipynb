{
 "cells": [
  {
   "cell_type": "markdown",
   "metadata": {},
   "source": [
    "# The Tracer Hypothesis\n",
    "\n",
    "The tracer hypothesis is an assumption that is often used in groundwater contaminant transport models. \n",
    "The hypothesis states that the movement of a conservative tracer (a substance that is not affected by chemical reactions or other processes that alter its concentration) through a porous medium can be used to determine the movement of other, non-conservative substances (such as contaminants) through that same medium.\n",
    "\n",
    "In other words, if we introduce a known quantity of a conservative tracer into a groundwater system, we can track its movement over time and use that information to estimate how other substances, such as pollutants or contaminants, might be moving through the same system. This can be a useful tool for understanding and predicting the behavior of contaminants in groundwater, and for designing effective remediation strategies.\n",
    "\n",
    "It is a widely used and well-established concept in groundwater contaminant transport modeling.\n",
    "\n",
    "It is especially helpful in providing a way to approximate transport of constituients that react with the solid matrix using a concept called retardation (apparent species velocities are retarded relative to non-reactive species)."
   ]
  },
  {
   "cell_type": "code",
   "execution_count": null,
   "metadata": {},
   "outputs": [],
   "source": []
  }
 ],
 "metadata": {
  "kernelspec": {
   "display_name": "Python 3",
   "language": "python",
   "name": "python3"
  },
  "language_info": {
   "codemirror_mode": {
    "name": "ipython",
    "version": 3
   },
   "file_extension": ".py",
   "mimetype": "text/x-python",
   "name": "python",
   "nbconvert_exporter": "python",
   "pygments_lexer": "ipython3",
   "version": "3.8.10"
  }
 },
 "nbformat": 4,
 "nbformat_minor": 4
}