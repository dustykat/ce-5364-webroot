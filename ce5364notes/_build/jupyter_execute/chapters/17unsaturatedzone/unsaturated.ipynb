{
 "cells": [
  {
   "cell_type": "markdown",
   "metadata": {},
   "source": [
    "# Unsaturated Zone Transport\n",
    "\n",
    "Unsaturated Zone Flow and Transport refers to the movement and transport of water and contaminants in the portion of the subsurface that lies above the groundwater table and contains both air and water within the pore spaces of the soil or rock. In this zone, the pore spaces are not completely saturated with water; rather, they contain a mixture of air and water, with the degree of saturation varying depending on factors such as rainfall, evaporation, and soil properties.\n",
    "\n",
    "The unsaturated zone, also known as the vadose zone, is a critical component of the hydrological cycle. Water moves through this zone due to gravity, capillary forces, and pressure gradients. It plays a crucial role in processes like soil moisture replenishment, plant root uptake, and filtration of contaminants. Understanding unsaturated zone flow and transport is essential for managing water resources, assessing the risk of groundwater contamination, and optimizing land use practices to protect both water quality and quantity. \n",
    "\n",
    "## Infiltration\n",
    "\n",
    "The unsaturated zone is the portion of groundwater system where liquids and gasses share the pore space.  The liquid phase may be discontinuous.\n",
    "\n",
    "![](vadose1.png)\n",
    "\n",
    "In the rainfall (or fuel spill) runoff process we can discuss the zone as a microcosm of a hydrologic cycle\n",
    "\n",
    "![](abstractions.png)\n",
    "\n",
    "## Tension (suction); Capillary Pressure\n",
    "\n",
    "![](suction1.png)\n",
    "\n",
    "The pressure for water to move upward into the sponge (porous medium) is called the suction pressure, tension, or capillary pressure (almost interchangeably).\n",
    "\n",
    "In the next figure - we examine the pore scale conditions in comparison to a capillary tube.\n",
    "\n",
    "![](porepressure.png)\n",
    "\n",
    "The capillary rise (capillary pressure) is related to the pore size - small pores, large negative pressure at a water table.\n",
    "\n",
    "![](suctionpressure.png)\n",
    "\n",
    "## Soil Characteristic Curves\n",
    "\n",
    "These are relationships between water content and suction pressure.  Unique for each soil, but many, many soils already characterized.  Methods are discussed below.\n",
    "\n",
    "![](soilcharcurve.png)\n",
    "\n",
    "The soil characteristic curve is often modeled using one of several models such as (both these models are incorporated into Chemflo-2000):\n",
    "\n",
    "1. [**Local Copy** Brooks, R.H. and Corey, A.T. (1964) Hydraulic Properties of Porous Media. Hydrology Paper, Vol. 3, Colorado State University, Fort Collins. (local copy)](http://54.243.252.9/ce-5364-webroot/3-Readings/BrooksCorey2.PDF)\n",
    "3. [**Local Copy** van Genuchten, M.T. (1980), A Closed-form Equation for Predicting the Hydraulic Conductivity of Unsaturated Soils. Soil Science Society of America Journal, 44: 892-898.](http://54.243.252.9/ce-5364-webroot/3-Readings/291980vGClosed-formKh.pdf)\n",
    "## Darcy's Law in Unsaturated Flow\n",
    "\n",
    "![](unsatdarcy.png)\n",
    "\n",
    "![](retardseqn.png)\n",
    "\n",
    "## Measurement of Soil Properties\n",
    "\n",
    "![](soilproperties1.png)\n",
    "\n",
    "![](soilproperties2.png)\n",
    "\n",
    "![](soilproperties3.png)\n",
    "\n",
    "Instead of the hanging column a more modern technique uses a [Tempe Cell](https://www.soilmoisture.com/TEMPE-CELL-2-1-4-DIAM.-6-CM-1-BAR-STD-CERAMIC/)\n",
    "\n",
    "![](soilproperties4.png)\n",
    "\n",
    "### Relative Permeability\n",
    "\n",
    "![](relativeperm.png)\n",
    "\n",
    "![](relativeperm2.png)"
   ]
  },
  {
   "cell_type": "markdown",
   "metadata": {},
   "source": [
    "## Infiltration Models\n",
    "\n",
    "![](infiltration1.png)\n",
    "\n",
    "### Green-Ampt Model\n",
    "\n",
    "![](green-ampt.png)\n",
    "\n",
    "![](greenampt2.png)\n",
    "\n",
    "![](greenampt3.png)\n"
   ]
  },
  {
   "cell_type": "markdown",
   "metadata": {},
   "source": [
    "## References\n",
    "\n",
    "1. [Brooks, R.H. and Corey, A.T. (1964) Hydraulic Properties of Porous Media. Hydrology Paper, Vol. 3, Colorado State University, Fort Collins. (DOE link)](https://www.wipp.energy.gov/library/cra/2009_cra/references/Others/Brooks_Corey_1964_Hydraulic_Properties_ERMS241117.pdf)\n",
    "2. [van Genuchten, M.T. (1980), A Closed-form Equation for Predicting the Hydraulic Conductivity of Unsaturated Soils. Soil Science Society of America Journal, 44: 892-898.](https://doi.org/10.2136/sssaj1980.03615995004400050002x)"
   ]
  },
  {
   "cell_type": "code",
   "execution_count": null,
   "metadata": {},
   "outputs": [],
   "source": []
  }
 ],
 "metadata": {
  "kernelspec": {
   "display_name": "Python 3",
   "language": "python",
   "name": "python3"
  },
  "language_info": {
   "codemirror_mode": {
    "name": "ipython",
    "version": 3
   },
   "file_extension": ".py",
   "mimetype": "text/x-python",
   "name": "python",
   "nbconvert_exporter": "python",
   "pygments_lexer": "ipython3",
   "version": "3.8.10"
  }
 },
 "nbformat": 4,
 "nbformat_minor": 4
}