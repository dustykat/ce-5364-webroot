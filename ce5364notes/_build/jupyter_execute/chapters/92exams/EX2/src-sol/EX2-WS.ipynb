{
 "cells": [
  {
   "cell_type": "markdown",
   "metadata": {},
   "source": [
    "<!--# <font color=darkblue>CE 5364 Groundwater Contaminant Transport Phenomena <br> Fall 2023 Exam 2 Template</font>-->\n",
    "\n",
    "# F23 Exam 2 Solution Sketch\n",
    "\n",
    "**LAST NAME, FIRST NAME**\n",
    "\n",
    "**R00000000**\n",
    "\n",
    "___\n",
    "\n",
    "### Purpose : \n",
    "Demonstrate ability to apply principles of groundwater contaminant transport\n",
    "\n",
    "### Additional Instructions\n",
    "\n",
    "The test is intended to be completed on blackboard.  The questions below are transcribed to BB as (in general) `file response` questions or in the short answer part, as essay response."
   ]
  },
  {
   "cell_type": "markdown",
   "metadata": {},
   "source": [
    "<hr><hr>\n",
    "\n",
    "## Problem 1 (10 points)\n",
    "\n",
    "In a plan view of a contaminant plume you observe that a conservative constituent (e.g. chloride) has moved about 1500 meters while a reactive constituent (e.g. chromium) has moved only 400 meters. Both species were released at the same time.\n",
    "\n",
    "Determine:\n",
    "\n",
    "1. Sketch the situation\n",
    "2. An estimate of the distribution coefficient of the reactive species if the porosity is 0.35 and the solids density is 2.22 g/mL."
   ]
  },
  {
   "cell_type": "markdown",
   "metadata": {},
   "source": [
    "### Sketch:\n",
    "\n",
    "![](sketch1.png)"
   ]
  },
  {
   "cell_type": "markdown",
   "metadata": {},
   "source": [
    "### Estimate retardation\n",
    "\n",
    "Using definition of retardation (and LEA):\n",
    "\n",
    "$R = 1+\\frac{1-n}{n}\\rho_s K_d$\n",
    "\n",
    "First find $R$ from the problem situation, then compute $K_d$.\n",
    "\n",
    "$R = \\frac{V_c}{V_r} = \\frac{x_c}{t}\\frac{t}{x_r} = \\frac{1500m}{400m} = 3.75$\n",
    "\n",
    "where the subscripts $_c$ and $_r$ represent conservative and reactive constituients, respectively."
   ]
  },
  {
   "cell_type": "code",
   "execution_count": 392,
   "metadata": {},
   "outputs": [
    {
     "name": "stdout",
     "output_type": "stream",
     "text": [
      "Retardation Coefficient :  3.75\n"
     ]
    }
   ],
   "source": [
    "x_c = 1500\n",
    "x_r = 400\n",
    "R = x_c/x_r\n",
    "print(\"Retardation Coefficient : \",round(R,3))"
   ]
  },
  {
   "cell_type": "markdown",
   "metadata": {},
   "source": [
    "### Estimate $K_d$ for reactive constituient.\n",
    "\n",
    "Using definition of retardation (and LEA):\n",
    "\n",
    "$K_d = (R-1)\\frac{n}{(1-n)\\rho_s}=(3.75-1)\\frac{0.35}{(1-0.35)\\cdot2.22}$"
   ]
  },
  {
   "cell_type": "code",
   "execution_count": 393,
   "metadata": {},
   "outputs": [
    {
     "name": "stdout",
     "output_type": "stream",
     "text": [
      "Reactive species distribution coefficient 0.667  mL/g\n"
     ]
    }
   ],
   "source": [
    "n =0.35\n",
    "rho_s = 2.22\n",
    "Kd = (R-1)*(n/((1-n)*rho_s))\n",
    "print(\"Reactive species distribution coefficient\",round(Kd,3),\" mL/g\")"
   ]
  },
  {
   "cell_type": "markdown",
   "metadata": {},
   "source": [
    "<hr><hr>\n",
    "\n",
    "## Problem 2 (10 points)\n",
    "\n",
    "Water in the unsaturated zone contains chlorobenzene at a concentration of 50 mg/L. \n",
    "\n",
    "Determine:\n",
    "\n",
    "1. The equilibrium concentration of chlorobenzene in soil air with this water, in mg/L\n",
    "2. The equilibrium concentration of chlorobenzene in soil air with this water, in $\\mu g/m^3$"
   ]
  },
  {
   "cell_type": "markdown",
   "metadata": {},
   "source": [
    "### Obtain Henry's law values for target species.\n",
    "\n",
    "![](HenryLawPr2.png)\n",
    "\n"
   ]
  },
  {
   "cell_type": "code",
   "execution_count": 394,
   "metadata": {},
   "outputs": [
    {
     "name": "stdout",
     "output_type": "stream",
     "text": [
      "Gas concentration is : 8.404  mg/L\n",
      "Gas concentration is : 8404050.0  ug/m^3\n"
     ]
    }
   ],
   "source": [
    "Kh = 2.4e-03 # mol/m^3-Pa  \n",
    "# from same source document above the volatility constant in dimensionless gas/aqueous is\n",
    "KHvcc = 0.168081 # Cgas/Caq (dimensionless) or use value in textbook of 0.165\n",
    "Caq = 50 #mg/L \n",
    "Cgas = KHvcc*Caq\n",
    "print(\"Gas concentration is :\",round(Cgas,3),\" mg/L\")\n",
    "# comvert to other units\n",
    "print(\"Gas concentration is :\",round(Cgas*1000*1000,3),\" ug/m^3\")"
   ]
  },
  {
   "cell_type": "markdown",
   "metadata": {},
   "source": [
    "<hr><hr> \n",
    "\n",
    "## Problem 3 (20 Points)\n",
    "\n",
    "A cubic meter of sand-gravel aquifer is contaminated with 20 L of tetrachloroethylene (PCE). The aquifer has porosity of 20% and hydraulic conductivity of 410 m/d. You may assume that the air content is negligible.\n",
    "\n",
    "Determine:\n",
    "1. Sketch the situation\n",
    "2. The equilibrium concentration of PCE in the water phase.\n",
    "3. The mass of PCE in the water phase.\n",
    "4. What is the mass PCE in the NAPL phase.\n",
    "5. If the aquifer gradient is 0.001 estimate how long it would take to completely dissolve and flush the PCE from the cubic-meter source zone."
   ]
  },
  {
   "cell_type": "markdown",
   "metadata": {},
   "source": [
    "### Sketch\n",
    "\n",
    "![](pcespill.png)\n",
    "\n"
   ]
  },
  {
   "cell_type": "markdown",
   "metadata": {},
   "source": [
    "### Equilibrium concentration(s) \n",
    "\n",
    "1. PCE solubility from table 7.1; $PCE_{aq} = 150 ~ \\frac{mg}{L}$\n",
    "2. Total void volume $n*V_{aquifer}$\n",
    "3. Density PCE is $ 1.631 \\frac{g}{mL}$ (also from table 7.1).\n",
    "4. Sand/gravel $f_{oc} = 0.0011$ estimate from literature:\n",
    "\n",
    "![](focdata.png)\n",
    "\n",
    "5. $k_{ow} = 390 $ estimate from literature (table 7.1)\n",
    "\n",
    "6. $k_{oc} = 316~\\frac{L}{kg}$ see computation below\n",
    "\n",
    "7. $k_d = k_{oc}f_{oc} = 316*0.0011 = 0.348$\n"
   ]
  },
  {
   "cell_type": "code",
   "execution_count": 395,
   "metadata": {},
   "outputs": [
    {
     "name": "stdout",
     "output_type": "stream",
     "text": [
      "Volume Solids : 800.0  Liters \n",
      "Volume Voids : 200.0  Liters \n",
      "Volume Water (Initial Guess) : 180.0  Liters \n",
      "Mass PCE aqueous : 27.0  grams\n",
      "\n",
      "Aqueous-Solid Partitioning\n",
      "\n",
      "   foc approx:  0.0011\n",
      "   koc approx:  316.128\n",
      "    kd approx:  0.348\n",
      "Mass PCE solid : 7511.198  grams\n",
      "\n",
      "Free-Phase Partitioning\n",
      "\n",
      "   Mass PCE total (released) : 32620.0  grams\n",
      "         Mass PCE Free-Phase : 25081.8  grams\n",
      "   Mass PCE adsorbed (solid) : 7511.198  grams\n",
      "Mass PCE dissolved (aqueous) : 27.0  grams\n",
      "          Checksum PCE total : 32620.0  grams\n"
     ]
    }
   ],
   "source": [
    "porosity = 0.20 #given\n",
    "volumeAquifer = 1.0*1000 #given\n",
    "volumeVoids = porosity*volumeAquifer\n",
    "volumeSolids = (1-porosity)*volumeAquifer\n",
    "print(\"Volume Solids :\",round(volumeSolids,3),\" Liters \")\n",
    "print(\"Volume Voids :\",round(volumeVoids,3),\" Liters \")\n",
    "volumePCE = 20 #L\n",
    "volumeWater = volumeVoids-volumePCE\n",
    "print(\"Volume Water (Initial Guess) :\",round(volumeWater,3),\" Liters \")\n",
    "solubilityPCE = 150 #mg/L\n",
    "massPCEaqueous = solubilityPCE*volumeWater #mg\n",
    "print(\"Mass PCE aqueous :\",round(massPCEaqueous/1000,3),\" grams\")\n",
    "################ aqueous-solid partitioning ###################\n",
    "print(\"\\nAqueous-Solid Partitioning\\n\")\n",
    "import math\n",
    "foc = 0.0011\n",
    "kow = 390 #L/kg\n",
    "print(\"   foc approx: \",round(foc,4))\n",
    "# using a regression formula\n",
    "logkoc = math.log(kow)-0.21\n",
    "koc = math.exp(logkoc)\n",
    "print(\"   koc approx: \",round(koc,3))\n",
    "kd = koc*foc\n",
    "print(\"    kd approx: \",round(kd,3))\n",
    "massSolids = (volumeSolids)*2.65\n",
    "#print(\"Mass Solids :\",massSolids,\" kg\")\n",
    "massPCEsolid = kd*(solubilityPCE*volumeWater)*volumeSolids\n",
    "print(\"Mass PCE solid :\",round(massPCEsolid/1000,3),\" grams\")\n",
    "################## free phase water/solid partitioning\n",
    "print(\"\\nFree-Phase Partitioning\\n\")\n",
    "densityPCE = 1.631 #g/mL\n",
    "volumePCE = 20 #L\n",
    "print(\"   Mass PCE total (released) :\",round(massPCE,1),\" grams\")\n",
    "massPCEnapl = massPCE-massPCEaqueous/1000-massPCEsolid/1000\n",
    "print(\"         Mass PCE Free-Phase :\",round(massPCEnapl,1),\" grams\")\n",
    "print(\"   Mass PCE adsorbed (solid) :\",round(massPCEsolid/1000,3),\" grams\")\n",
    "print(\"Mass PCE dissolved (aqueous) :\",round(massPCEaqueous/1000,3),\" grams\")\n",
    "checksum = massPCEnapl+massPCEsolid/1000+massPCEaqueous/1000\n",
    "print(\"          Checksum PCE total :\",round(checksum,3),\" grams\")\n"
   ]
  },
  {
   "cell_type": "markdown",
   "metadata": {},
   "source": [
    "### Time to flush\n",
    "\n",
    "Dissolve all the PCE, then how many pore volumes to flush the source zone.\n",
    "\n",
    "Estimate neglects adsorbtion/desorbtion time (assumes instant, also assumes dissolution is always at solubility.\n",
    "\n"
   ]
  },
  {
   "cell_type": "code",
   "execution_count": 396,
   "metadata": {},
   "outputs": [
    {
     "name": "stdout",
     "output_type": "stream",
     "text": [
      "Minimum flush volume : 217466.667  liters\n",
      "Flushing rate : 410.0  liters/day\n",
      "Flushing duration  530.407  days\n"
     ]
    }
   ],
   "source": [
    "import math\n",
    "liters = massPCE*1000/solubilityPCE\n",
    "print(\"Minimum flush volume :\",round(liters,3),\" liters\")\n",
    "K = 410 #m/d\n",
    "A = 1 #m^2\n",
    "i = 0.001\n",
    "q = 1000* K*A*i\n",
    "print(\"Flushing rate :\",round(q,1),\" liters/day\")\n",
    "time2flush = liters/q\n",
    "print(\"Flushing duration \",round(time2flush,3),\" days\")\n"
   ]
  },
  {
   "cell_type": "markdown",
   "metadata": {},
   "source": [
    "<!-- <hr><hr> \n",
    "\n",
    "## Problem 4 \n",
    "\n",
    "A fuel mixture includes benzene, toluene, and ethylbenzene at mole fractions of 0.075,0.065, and 0.035 respectively.  The mixture is allowed to come to equilibrium with the atmosphere at 25$^o$C\n",
    "\n",
    "The following information from the textbook is useful\n",
    "\n",
    "![](Fig4-13.png) ![](Tab7-1.png)\n",
    "\n",
    "Determine:\n",
    "\n",
    "1. The concentrations of these VOCs in air in mg/L and $\\mu g/m^3$ -->"
   ]
  },
  {
   "cell_type": "markdown",
   "metadata": {},
   "source": [
    "<hr><hr> \n",
    "\n",
    "## Problem 4 (30 points)\n",
    "\n",
    "**Adapted from Baetsle, L.H. (1969). Migration of Radionuclides in Porous Media. In: A. M. F. Duhamel (Eds.), Progress in Nuclear Energy Series XII, Health Physics, pp.707-730. Pergamon Press, Elmsford, NY.**  \n",
    "\n",
    "A leak in a storage tank for radioactive waste results in an accidental release of 1000 ci (curie) of 10 yr cooled fission products and tritium.  The waste contains 400 ci Cs-137(t$_{1/2}$=33yr),400 ci Sr-90(t$_{1/2}$=28yr),100 ci Pm-147(t$_{1/2}$=2.7yr), and 100 ci H-3(t$_{1/2}$=12.26yr).  A stream exists 100 m downgradient of the release.  The groundwater velocity is 0.1 meters per day. Other data:\n",
    "\n",
    "|Nuclide|$K_d$(mg/L)|$R_f$|$D_x$(cm^2/sec)|$D_y=D_z$||\n",
    "|---|-----|---|---|---|---|\n",
    "|Cs-137|10|47.6|$10^{-4}$|$10^{-3}$|$~$|\n",
    "|Sr-90 |0.6|2.885|$10^{-3}$|$10^{-5}$||\n",
    "|Pm-147|100|476.|$10^{-5}$|$10^{-5}$||\n",
    "|H-3   |0|1.|$10^{-5}$|$10^{-5}$||\n",
    "\n",
    "\n",
    "Determine:\n",
    "\n",
    "1. Sketch the situation\n",
    "2. A time history (plot) for each constituient at the stream-aquifer interface that captures the peak concentration for each constituient\n",
    "\n",
    "*A useful analytical solution is found as Eq. 2 in [A Probabilistic Framework for the Assessment of Environmental Effects in Groundwater Contaminant Hydrology](http://www.scienpress.com/Upload/GEO/Vol%2010_5_5.pdf).  Equation 6.28 (textbook) is an identical equation*"
   ]
  },
  {
   "cell_type": "markdown",
   "metadata": {},
   "source": [
    "### Enter your solution below, or attach separate sheet(s) with your solution.\n",
    "\n",
    "Create a 3D impulse function:"
   ]
  },
  {
   "cell_type": "code",
   "execution_count": 397,
   "metadata": {},
   "outputs": [],
   "source": [
    "def impulse3D(x,y,z,t,mass,dx,dy,dz,v,r,decay):\n",
    "    import math\n",
    "    tadj = t/r\n",
    "    term1 = ((8.0*math.pi*tadj)**(3/2))*math.sqrt(dx*dy*dz)\n",
    "    term2 = math.exp(-((x-v*tadj)**2)/(4.0*dx*tadj) \\\n",
    "                     -((y       )**2)/(4.0*dy*tadj) \\\n",
    "                     -((z       )**2)/(4.0*dz*tadj) \\\n",
    "                     -(decay*tadj))\n",
    "    impulse3D = (term2/term1)*mass\n",
    "#    print(term2/term1)\n",
    "    return(impulse3D)"
   ]
  },
  {
   "cell_type": "code",
   "execution_count": 398,
   "metadata": {},
   "outputs": [],
   "source": [
    "import math\n",
    "# given hydraulic data\n",
    "distance = 100 #meters to stream\n",
    "velocity = 0.1 #m/day\n",
    "# treat initial activity as \"mass\" in ADE\n",
    "cs137init=400/1000\n",
    "sr90init=400/1000\n",
    "pm147init=100/1000\n",
    "h3init=100/1000\n",
    "# transport properties\n",
    "r_cs137 = 47.6\n",
    "r_sr90  = 2.885\n",
    "r_pm147 = 476.\n",
    "r_h3    = 1.0\n",
    "# dispersion\n",
    "dxcs137=1e-04*(1/100)*(1/100)*86400 #cm^2/sec convert to m^2/day\n",
    "dycs137=1e-03*(1/100)*(1/100)*86400\n",
    "dzcs137=1e-03*(1/100)*(1/100)*86400\n",
    "dxsr90=1e-03*(1/100)*(1/100)*86400 #cm^2/sec convert to m^2/day\n",
    "dysr90=1e-05*(1/100)*(1/100)*86400\n",
    "dzsr90=1e-05*(1/100)*(1/100)*86400\n",
    "dxpm147=1e-05*(1/100)*(1/100)*86400 #cm^2/sec convert to m^2/day\n",
    "dypm147=1e-05*(1/100)*(1/100)*86400\n",
    "dzpm147=1e-05*(1/100)*(1/100)*86400\n",
    "dxh3=1e-05*(1/100)*(1/100)*86400 #cm^2/sec convert to m^2/day\n",
    "dyh3=1e-05*(1/100)*(1/100)*86400\n",
    "dzh3=1e-05*(1/100)*(1/100)*86400\n",
    "# decay\n",
    "decay_cs137=math.log(2)/(33*365) #decay rate in recipricol days\n",
    "decay_sr90=math.log(2)/(28*365) #decay rate in recipricol days\n",
    "decay_pm147=math.log(2)/(2.7*365) #decay rate in recipricol days\n",
    "decay_h3=math.log(2)/(12.26*365) #decay rate in recipricol days\n",
    "#print(decay_h3)\n"
   ]
  },
  {
   "cell_type": "code",
   "execution_count": 399,
   "metadata": {},
   "outputs": [
    {
     "data": {
      "image/png": "[encoded data removed]",
      "text/plain": [
       "<Figure size 432x288 with 1 Axes>"
      ]
     },
     "metadata": {
      "filenames": {
       "image/png": "/home/sensei/ce-5364-webroot/ce5364notes/_build/jupyter_execute/chapters/92exams/EX2/src-sol/EX2-WS_21_0.png"
      },
      "needs_background": "light"
     },
     "output_type": "display_data"
    }
   ],
   "source": [
    "deltat      = 2 #days\n",
    "howmany     = 30000 #how many points to compute\n",
    "t = [] #days\n",
    "time=1000\n",
    "for i in range(howmany):\n",
    "    if i == 0:\n",
    "        t.append((0.00001)) #avoid divide by zero in function\n",
    "    else:\n",
    "        t.append((float(i))*deltat)\n",
    "        \n",
    "ccs137 = [0 for i in range(howmany)] #concentration \n",
    "csr90 = [0 for i in range(howmany)] #concentration \n",
    "cpm147 = [0 for i in range(howmany)] #concentration \n",
    "ch3 = [0 for i in range(howmany)] #concentration \n",
    "for i in range(howmany):\n",
    "    ccs137[i]=impulse3D(distance,0,0,t[i],cs137init,dxcs137,dycs137,dzcs137,velocity,r_cs137,decay_cs137)\n",
    "    csr90[i]=impulse3D(distance,0,0,t[i],sr90init,dxsr90,dysr90,dzsr90,velocity,r_sr90,decay_sr90)\n",
    "    cpm147[i]=impulse3D(distance,0,0,t[i],pm147init,dxpm147,dypm147,dzpm147,velocity,r_pm147,decay_pm147)\n",
    "    ch3[i]=impulse3D(distance,0,0,t[i],h3init,dxh3,dyh3,dzh3,velocity,r_h3,decay_h3)\n",
    "#\n",
    "# Import graphics routines for picture making\n",
    "#\n",
    "from matplotlib import pyplot as plt\n",
    "#\n",
    "# Build and Render the Plot\n",
    "#\n",
    "plt.plot(t,ccs137, color='orange', linestyle = 'solid')  # make the plot object\n",
    "#plt.plot(t,csr90, color='gray', linestyle = 'solid')  # make the plot object\n",
    "#plt.plot(t,cpm147, color='magenta', linestyle = 'solid')  # make the plot object\n",
    "#plt.plot(t,ch3, color='red', linestyle = 'solid')  # make the plot object\n",
    "plt.title(\" Cs 137 Concentration History \\n Distance: \" + repr(distance) + \" meters \\n\"  + \" Velocity: \" + repr(velocity) + \" m/d\") # caption the plot object\n",
    "plt.xlabel(\" Elapsed Time (days)\") # label x-axis\n",
    "plt.ylabel(\" Concentration (Ci)      \") # label y-axis\n",
    "#plt.savefig(\"ogatabanksplot.png\") # optional generates just a plot for embedding into a report\n",
    "plt.show() # plot to stdio -- has to be last call as it kills prior objects\n",
    "plt.close('all') # needed when plt.show call not invoked, optional here\n",
    "#sys.exit() # used to elegant exit for CGI-BIN use\n",
    "#print(\"Advective Front Position : \",round(time*velocity,2),\" length units\")\n",
    "#print(\"Total Mass : \",round(mass,3),\" kg\")"
   ]
  },
  {
   "cell_type": "code",
   "execution_count": 400,
   "metadata": {},
   "outputs": [
    {
     "data": {
      "image/png": "[encoded data removed]",
      "text/plain": [
       "<Figure size 432x288 with 1 Axes>"
      ]
     },
     "metadata": {
      "filenames": {
       "image/png": "/home/sensei/ce-5364-webroot/ce5364notes/_build/jupyter_execute/chapters/92exams/EX2/src-sol/EX2-WS_22_0.png"
      },
      "needs_background": "light"
     },
     "output_type": "display_data"
    }
   ],
   "source": [
    "deltat      = 1 #days\n",
    "howmany     = 4000 #how many points to compute\n",
    "t = [] #days\n",
    "time=1000\n",
    "for i in range(howmany):\n",
    "    if i == 0:\n",
    "        t.append((0.00001)) #avoid divide by zero in function\n",
    "    else:\n",
    "        t.append((float(i))*deltat)\n",
    "        \n",
    "ccs137 = [0 for i in range(howmany)] #concentration \n",
    "csr90 = [0 for i in range(howmany)] #concentration \n",
    "cpm147 = [0 for i in range(howmany)] #concentration \n",
    "ch3 = [0 for i in range(howmany)] #concentration \n",
    "for i in range(howmany):\n",
    "    ccs137[i]=impulse3D(distance,0,0,t[i],cs137init,dxcs137,dycs137,dzcs137,velocity,r_cs137,decay_cs137)\n",
    "    csr90[i]=impulse3D(distance,0,0,t[i],sr90init,dxsr90,dysr90,dzsr90,velocity,r_sr90,decay_sr90)\n",
    "    cpm147[i]=impulse3D(distance,0,0,t[i],pm147init,dxpm147,dypm147,dzpm147,velocity,r_pm147,decay_pm147)\n",
    "    ch3[i]=impulse3D(distance,0,0,t[i],h3init,dxh3,dyh3,dzh3,velocity,r_h3,decay_h3)\n",
    "#\n",
    "# Import graphics routines for picture making\n",
    "#\n",
    "from matplotlib import pyplot as plt\n",
    "#\n",
    "# Build and Render the Plot\n",
    "#\n",
    "#plt.plot(t,ccs137, color='orange', linestyle = 'solid')  # make the plot object\n",
    "plt.plot(t,csr90, color='gray', linestyle = 'solid')  # make the plot object\n",
    "#plt.plot(t,cpm147, color='magenta', linestyle = 'solid')  # make the plot object\n",
    "#plt.plot(t,ch3, color='red', linestyle = 'solid')  # make the plot object\n",
    "plt.title(\" Sr 90 Concentration History \\n Distance: \" + repr(distance) + \" meters \\n\"  + \" Velocity: \" + repr(velocity) + \" m/d\") # caption the plot object\n",
    "plt.xlabel(\" Elapsed Time (days)\") # label x-axis\n",
    "plt.ylabel(\" Concentration (Ci)      \") # label y-axis\n",
    "#plt.savefig(\"ogatabanksplot.png\") # optional generates just a plot for embedding into a report\n",
    "plt.show() # plot to stdio -- has to be last call as it kills prior objects\n",
    "plt.close('all') # needed when plt.show call not invoked, optional here\n",
    "#sys.exit() # used to elegant exit for CGI-BIN use\n",
    "#print(\"Advective Front Position : \",round(time*velocity,2),\" length units\")\n",
    "#print(\"Total Mass : \",round(mass,3),\" kg\")"
   ]
  },
  {
   "cell_type": "code",
   "execution_count": 401,
   "metadata": {},
   "outputs": [
    {
     "data": {
      "image/png": "[encoded data removed]",
      "text/plain": [
       "<Figure size 432x288 with 1 Axes>"
      ]
     },
     "metadata": {
      "filenames": {
       "image/png": "/home/sensei/ce-5364-webroot/ce5364notes/_build/jupyter_execute/chapters/92exams/EX2/src-sol/EX2-WS_23_0.png"
      },
      "needs_background": "light"
     },
     "output_type": "display_data"
    }
   ],
   "source": [
    "deltat      = 100 #days\n",
    "howmany     = 5000 #how many points to compute\n",
    "t = [] #days\n",
    "time=1000\n",
    "for i in range(howmany):\n",
    "    if i == 0:\n",
    "        t.append((0.00001)) #avoid divide by zero in function\n",
    "    else:\n",
    "        t.append((float(i))*deltat)\n",
    "        \n",
    "ccs137 = [0 for i in range(howmany)] #concentration \n",
    "csr90 = [0 for i in range(howmany)] #concentration \n",
    "cpm147 = [0 for i in range(howmany)] #concentration \n",
    "ch3 = [0 for i in range(howmany)] #concentration \n",
    "for i in range(howmany):\n",
    "    ccs137[i]=impulse3D(distance,0,0,t[i],cs137init,dxcs137,dycs137,dzcs137,velocity,r_cs137,decay_cs137)\n",
    "    csr90[i]=impulse3D(distance,0,0,t[i],sr90init,dxsr90,dysr90,dzsr90,velocity,r_sr90,decay_sr90)\n",
    "    cpm147[i]=impulse3D(distance,0,0,t[i],pm147init,dxpm147,dypm147,dzpm147,velocity,r_pm147,decay_pm147)\n",
    "    ch3[i]=impulse3D(distance,0,0,t[i],h3init,dxh3,dyh3,dzh3,velocity,r_h3,decay_h3)\n",
    "#\n",
    "# Import graphics routines for picture making\n",
    "#\n",
    "from matplotlib import pyplot as plt\n",
    "#\n",
    "# Build and Render the Plot\n",
    "#\n",
    "#plt.plot(t,ccs137, color='orange', linestyle = 'solid')  # make the plot object\n",
    "#plt.plot(t,csr90, color='gray', linestyle = 'solid')  # make the plot object\n",
    "plt.plot(t,cpm147, color='magenta', linestyle = 'solid')  # make the plot object\n",
    "#plt.plot(t,ch3, color='red', linestyle = 'solid')  # make the plot object\n",
    "plt.title(\" Pm 147 Concentration History \\n Distance: \" + repr(distance) + \" meters \\n\"  + \" Velocity: \" + repr(velocity) + \" m/d\") # caption the plot object\n",
    "plt.xlabel(\" Elapsed Time (days)\") # label x-axis\n",
    "plt.ylabel(\" Concentration (Ci)      \") # label y-axis\n",
    "#plt.savefig(\"ogatabanksplot.png\") # optional generates just a plot for embedding into a report\n",
    "plt.show() # plot to stdio -- has to be last call as it kills prior objects\n",
    "plt.close('all') # needed when plt.show call not invoked, optional here\n",
    "#sys.exit() # used to elegant exit for CGI-BIN use\n",
    "#print(\"Advective Front Position : \",round(time*velocity,2),\" length units\")\n",
    "#print(\"Total Mass : \",round(mass,3),\" kg\")"
   ]
  },
  {
   "cell_type": "code",
   "execution_count": 402,
   "metadata": {},
   "outputs": [
    {
     "data": {
      "image/png": "[encoded data removed]",
      "text/plain": [
       "<Figure size 432x288 with 1 Axes>"
      ]
     },
     "metadata": {
      "filenames": {
       "image/png": "/home/sensei/ce-5364-webroot/ce5364notes/_build/jupyter_execute/chapters/92exams/EX2/src-sol/EX2-WS_24_0.png"
      },
      "needs_background": "light"
     },
     "output_type": "display_data"
    }
   ],
   "source": [
    "deltat      = 1 #days\n",
    "howmany     = 1100 #how many points to compute\n",
    "t = [] #days\n",
    "time=1000\n",
    "for i in range(howmany):\n",
    "    if i == 0:\n",
    "        t.append((0.00001)) #avoid divide by zero in function\n",
    "    else:\n",
    "        t.append((float(i))*deltat)\n",
    "        \n",
    "ccs137 = [0 for i in range(howmany)] #concentration \n",
    "csr90 = [0 for i in range(howmany)] #concentration \n",
    "cpm147 = [0 for i in range(howmany)] #concentration \n",
    "ch3 = [0 for i in range(howmany)] #concentration \n",
    "for i in range(howmany):\n",
    "    ccs137[i]=impulse3D(distance,0,0,t[i],cs137init,dxcs137,dycs137,dzcs137,velocity,r_cs137,decay_cs137)\n",
    "    csr90[i]=impulse3D(distance,0,0,t[i],sr90init,dxsr90,dysr90,dzsr90,velocity,r_sr90,decay_sr90)\n",
    "    cpm147[i]=impulse3D(distance,0,0,t[i],pm147init,dxpm147,dypm147,dzpm147,velocity,r_pm147,decay_pm147)\n",
    "    ch3[i]=impulse3D(distance,0,0,t[i],h3init,dxh3,dyh3,dzh3,velocity,r_h3,decay_h3)\n",
    "#\n",
    "# Import graphics routines for picture making\n",
    "#\n",
    "from matplotlib import pyplot as plt\n",
    "#\n",
    "# Build and Render the Plot\n",
    "#\n",
    "#plt.plot(t,ccs137, color='orange', linestyle = 'solid')  # make the plot object\n",
    "#plt.plot(t,csr90, color='gray', linestyle = 'solid')  # make the plot object\n",
    "#plt.plot(t,cpm147, color='magenta', linestyle = 'solid')  # make the plot object\n",
    "plt.plot(t,ch3, color='red', linestyle = 'solid')  # make the plot object\n",
    "plt.title(\" Tritium Concentration History \\n Distance: \" + repr(distance) + \" meters \\n\"  + \" Velocity: \" + repr(velocity) + \" m/d\") # caption the plot object\n",
    "plt.xlabel(\" Elapsed Time (days) \") # label x-axis\n",
    "plt.ylabel(\" Concentration  (Ci)      \") # label y-axis\n",
    "#plt.savefig(\"ogatabanksplot.png\") # optional generates just a plot for embedding into a report\n",
    "plt.show() # plot to stdio -- has to be last call as it kills prior objects\n",
    "plt.close('all') # needed when plt.show call not invoked, optional here\n",
    "#sys.exit() # used to elegant exit for CGI-BIN use\n",
    "#print(\"Advective Front Position : \",round(time*velocity,2),\" length units\")\n",
    "#print(\"Total Mass : \",round(mass,3),\" kg\")"
   ]
  },
  {
   "cell_type": "markdown",
   "metadata": {},
   "source": [
    "<hr>\n",
    "<hr>\n",
    "\n",
    "## Problem 5 (20 points)\n",
    "\n",
    "Dissolution of constituents from a residual NAPL source results in a contaminant plume whose maximum length is determined by the balance between advection and decay. \n",
    "\n",
    "Determine:\n",
    "1. Develop an expression (or a method) for the plume length (from source to target MCL value) if the source-term concentration is $C_0$. \n",
    "2. Apply the expression (or method) to estimate the maximum length of a benzene plume whose equilibrium concentration in water at the source is 2.4 mg/L and whose MCL is 0.005mg/L. Assume that the pore velocity is 0.35 m/d and the half-life of the benzene in a first order decay model is 60 days. Assume that the retardation coefficient for benzene in the aquifer is 2."
   ]
  },
  {
   "cell_type": "markdown",
   "metadata": {},
   "source": [
    "### Enter your solution below, or attach separate sheet(s) with your solution.\n",
    "\n",
    "- Build a model that is advection dominant (use a small value for dispersion).\n",
    "$$\\frac{\\partial C}{\\partial t}  =  \\frac{\\partial}{\\partial x} D_x \\frac{\\partial C}{\\partial x} - v_x \\frac{\\partial C}{\\partial x} - \\lambda C$$\n",
    "- Run the model for different times, determine distance the MCL.\n",
    "$$C(x_{MCL},t) = MCL$$\n",
    "- Plot time vs. distance (should be approaching some asymptotic distance)\n",
    "- Extrapolate to the asymptotic distance (time)\n",
    "- Verify with model; report plume length."
   ]
  },
  {
   "cell_type": "code",
   "execution_count": 403,
   "metadata": {},
   "outputs": [],
   "source": [
    "def c1dadrd(c_source,space,time,dispersion,velocity,retardation,decay):\n",
    "    from math import sqrt,erf,erfc,exp  # get special math functions\n",
    "    dee = dispersion/retardation\n",
    "    vee = velocity/retardation\n",
    "    uuu = (vee**2 + 4.0*decay*dee)\n",
    "    uuu = sqrt(uuu)\n",
    "    arg1 = (space*(vee-uuu))/(2.0*dee)\n",
    "    arg2 = (space - uuu*time)/(2.0*sqrt(dee*time))\n",
    "    arg3 = (space*(vee+uuu))/(2.0*dee)\n",
    "    arg4 = (space + uuu*time)/(2.0*sqrt(dee*time))\n",
    "    temp1 = c_source/2.0\n",
    "    temp2 = exp(arg1)\n",
    "    temp3 = erfc(arg2)\n",
    "    temp4 = exp(arg3)\n",
    "    temp5 = erfc(arg4)\n",
    "    c1dadrd = temp1*(temp2*temp3+temp4*temp5)\n",
    "    return c1dadrd"
   ]
  },
  {
   "cell_type": "markdown",
   "metadata": {},
   "source": [
    "First screen pass:"
   ]
  },
  {
   "cell_type": "code",
   "execution_count": 404,
   "metadata": {},
   "outputs": [
    {
     "data": {
      "image/png": "[encoded data removed]",
      "text/plain": [
       "<Figure size 432x288 with 1 Axes>"
      ]
     },
     "metadata": {
      "filenames": {
       "image/png": "/home/sensei/ce-5364-webroot/ce5364notes/_build/jupyter_execute/chapters/92exams/EX2/src-sol/EX2-WS_29_0.png"
      },
      "needs_background": "light"
     },
     "output_type": "display_data"
    }
   ],
   "source": [
    "#\n",
    "# example inputs\n",
    "#\n",
    "c_source = 2.4 # source concentration\n",
    "c_mcl = 0.005 # MCL concentration\n",
    "space = 600.      # how far in X-direction to extend the plot\n",
    "time  = 200.       # time since release\n",
    "dispersion = 1.0 # dispersion coefficient\n",
    "velocity = 0.35    # pore velocity\n",
    "retardation = 2.0\n",
    "decay = math.log(2)/60\n",
    "#\n",
    "# forward define and initialize vectors for a profile plot\n",
    "#\n",
    "how_many_points = 50   \n",
    "deltax = space/how_many_points\n",
    "x = [i*deltax for i in range(how_many_points)] # constructor notation\n",
    "c1 = [0.0 for i in range(how_many_points)]      # constructor notation\n",
    "c2 = [0.0 for i in range(how_many_points)]      # constructor notation\n",
    "c3 = [0.0 for i in range(how_many_points)]      # constructor notation\n",
    "c4 = [0.0 for i in range(how_many_points)]      # constructor notation\n",
    "c5 = [0.0 for i in range(how_many_points)]      # constructor notation\n",
    "c6 = [0.0 for i in range(how_many_points)]      # constructor notation\n",
    "#\n",
    "# build the profile predictions\n",
    "#\n",
    "for i in range(0,how_many_points,1):\n",
    "    c1[i] = c1dadrd(c_source,x[i],1*time,dispersion,velocity,retardation,decay)\n",
    "    c2[i] = c1dadrd(c_source,x[i],2*time,dispersion,velocity,retardation,decay)\n",
    "    c3[i] = c1dadrd(c_source,x[i],3*time,dispersion,velocity,retardation,decay)\n",
    "    c4[i] = c1dadrd(c_source,x[i],4*time,dispersion,velocity,retardation,decay)\n",
    "    c5[i] = c1dadrd(c_source,x[i],5*time,dispersion,velocity,retardation,decay)\n",
    "    c6[i] = c1dadrd(c_source,x[i],6*time,dispersion,velocity,retardation,decay)\n",
    "\n",
    "#\n",
    "# Import graphics routines for picture making\n",
    "#\n",
    "from matplotlib import pyplot as plt\n",
    "#\n",
    "# Build and Render the Plot\n",
    "#\n",
    "plt.plot(x,c1, color='red', linestyle = 'solid')  # make the plot object\n",
    "plt.plot(x,c2, color='blue', linestyle = 'solid')  # make the plot object\n",
    "plt.plot(x,c3, color='green', linestyle = 'solid')  # make the plot object\n",
    "plt.plot(x,c4, color='magenta', linestyle = 'solid')  # make the plot object\n",
    "plt.plot(x,c5, color='orange', linestyle = 'solid')  # make the plot object\n",
    "plt.plot(x,c6, color='cyan', linestyle = 'solid')  # make the plot object\n",
    "plt.plot([x[0],x[-1]],[c_mcl,c_mcl], color='black', linestyle = 'solid')  # make the plot object\n",
    "plt.title(\" Concentration Profile \\n Red Time: \" + repr(time) + \" time units \\n\" + \" Dispersion: \" + repr(dispersion) + \" length^2/time units \\n\" + \" Velocity: \" + repr(velocity) + \" length/time units \\n\") # caption the plot object\n",
    "plt.xlabel(\" Distance from Source \") # label x-axis\n",
    "plt.ylabel(\" Concentration        \") # label y-axis\n",
    "plt.legend([\"T1 = \" + repr(1*time),\"T2 = \" + repr(2*time),\"T3 = \" + repr(3*time),\\\n",
    "            \"T4 = \" + repr(4*time),\"T5 = \" + repr(5*time),\"T6 = \" + repr(6*time)])\n",
    "plt.xscale(\"log\")\n",
    "plt.yscale(\"log\")\n",
    "#plt.savefig(\"ogatabanksplot.png\") # optional generates just a plot for embedding into a report\n",
    "plt.show() # plot to stdio -- has to be last call as it kills prior objects\n",
    "plt.close('all') # needed when plt.show call not invoked, optional here\n",
    "#sys.exit() # used to elegant exit for CGI-BIN use"
   ]
  },
  {
   "cell_type": "code",
   "execution_count": 405,
   "metadata": {},
   "outputs": [
    {
     "name": "stdout",
     "output_type": "stream",
     "text": [
      "distance to MCL at time : 200.0  days is:  72.0  meters \n",
      "distance to MCL at time : 400.0  days is:  96.0  meters \n",
      "distance to MCL at time : 600.0  days is:  108.0  meters \n",
      "distance to MCL at time : 800.0  days is:  108.0  meters \n",
      "distance to MCL at time : 1000.0  days is:  108.0  meters \n",
      "distance to MCL at time : 1200.0  days is:  108.0  meters \n"
     ]
    }
   ],
   "source": [
    "# now search array for MCL value\n",
    "whois=min(enumerate(c1), key=lambda x: abs(x[1]-c_mcl))\n",
    "print(\"distance to MCL at time :\",1*time,\" days is: \",x[whois[0]],\" meters \")\n",
    "whois=min(enumerate(c2), key=lambda x: abs(x[1]-c_mcl))\n",
    "print(\"distance to MCL at time :\",2*time,\" days is: \",x[whois[0]],\" meters \")\n",
    "whois=min(enumerate(c3), key=lambda x: abs(x[1]-c_mcl))\n",
    "print(\"distance to MCL at time :\",3*time,\" days is: \",x[whois[0]],\" meters \")\n",
    "whois=min(enumerate(c4), key=lambda x: abs(x[1]-c_mcl))\n",
    "print(\"distance to MCL at time :\",4*time,\" days is: \",x[whois[0]],\" meters \")\n",
    "whois=min(enumerate(c5), key=lambda x: abs(x[1]-c_mcl))\n",
    "print(\"distance to MCL at time :\",5*time,\" days is: \",x[whois[0]],\" meters \")\n",
    "whois=min(enumerate(c6), key=lambda x: abs(x[1]-c_mcl))\n",
    "print(\"distance to MCL at time :\",6*time,\" days is: \",x[whois[0]],\" meters \")\n"
   ]
  },
  {
   "cell_type": "markdown",
   "metadata": {},
   "source": [
    "Now repeat, but start at time 400 days - to check if have asymptotic result"
   ]
  },
  {
   "cell_type": "code",
   "execution_count": 406,
   "metadata": {},
   "outputs": [
    {
     "data": {
      "image/png": "[encoded data removed]",
      "text/plain": [
       "<Figure size 432x288 with 1 Axes>"
      ]
     },
     "metadata": {
      "filenames": {
       "image/png": "/home/sensei/ce-5364-webroot/ce5364notes/_build/jupyter_execute/chapters/92exams/EX2/src-sol/EX2-WS_32_0.png"
      },
      "needs_background": "light"
     },
     "output_type": "display_data"
    }
   ],
   "source": [
    "#\n",
    "# example inputs\n",
    "#\n",
    "c_source = 2.4 # source concentration\n",
    "c_mcl = 0.005 # MCL concentration\n",
    "space = 600.      # how far in X-direction to extend the plot\n",
    "time  = 400.       # time since release\n",
    "dispersion = 1.0 # dispersion coefficient\n",
    "velocity = 0.35    # pore velocity\n",
    "retardation = 2.0\n",
    "decay = math.log(2)/60\n",
    "#\n",
    "# forward define and initialize vectors for a profile plot\n",
    "#\n",
    "how_many_points = 50   \n",
    "deltax = space/how_many_points\n",
    "x = [i*deltax for i in range(how_many_points)] # constructor notation\n",
    "c1 = [0.0 for i in range(how_many_points)]      # constructor notation\n",
    "c2 = [0.0 for i in range(how_many_points)]      # constructor notation\n",
    "c3 = [0.0 for i in range(how_many_points)]      # constructor notation\n",
    "c4 = [0.0 for i in range(how_many_points)]      # constructor notation\n",
    "c5 = [0.0 for i in range(how_many_points)]      # constructor notation\n",
    "c6 = [0.0 for i in range(how_many_points)]      # constructor notation\n",
    "#\n",
    "# build the profile predictions\n",
    "#\n",
    "for i in range(0,how_many_points,1):\n",
    "    c1[i] = c1dadrd(c_source,x[i],1*time,dispersion,velocity,retardation,decay)\n",
    "    c2[i] = c1dadrd(c_source,x[i],2*time,dispersion,velocity,retardation,decay)\n",
    "    c3[i] = c1dadrd(c_source,x[i],3*time,dispersion,velocity,retardation,decay)\n",
    "    c4[i] = c1dadrd(c_source,x[i],4*time,dispersion,velocity,retardation,decay)\n",
    "    c5[i] = c1dadrd(c_source,x[i],5*time,dispersion,velocity,retardation,decay)\n",
    "    c6[i] = c1dadrd(c_source,x[i],6*time,dispersion,velocity,retardation,decay)\n",
    "\n",
    "#\n",
    "# Import graphics routines for picture making\n",
    "#\n",
    "from matplotlib import pyplot as plt\n",
    "#\n",
    "# Build and Render the Plot\n",
    "#\n",
    "plt.plot(x,c1, color='red', linestyle = 'solid')  # make the plot object\n",
    "plt.plot(x,c2, color='blue', linestyle = 'solid')  # make the plot object\n",
    "plt.plot(x,c3, color='green', linestyle = 'solid')  # make the plot object\n",
    "plt.plot(x,c4, color='magenta', linestyle = 'solid')  # make the plot object\n",
    "plt.plot(x,c5, color='orange', linestyle = 'solid')  # make the plot object\n",
    "plt.plot(x,c6, color='cyan', linestyle = 'solid')  # make the plot object\n",
    "plt.plot([x[0],x[-1]],[c_mcl,c_mcl], color='black', linestyle = 'solid')  # make the plot object\n",
    "plt.title(\" Concentration Profile \\n Red Time: \" + repr(time) + \" time units \\n\" + \" Dispersion: \" + repr(dispersion) + \" length^2/time units \\n\" + \" Velocity: \" + repr(velocity) + \" length/time units \\n\") # caption the plot object\n",
    "plt.xlabel(\" Distance from Source \") # label x-axis\n",
    "plt.ylabel(\" Concentration        \") # label y-axis\n",
    "plt.legend([\"T1 = \" + repr(1*time),\"T2 = \" + repr(2*time),\"T3 = \" + repr(3*time),\\\n",
    "            \"T4 = \" + repr(4*time),\"T5 = \" + repr(5*time),\"T6 = \" + repr(6*time)])\n",
    "plt.xscale(\"log\")\n",
    "plt.yscale(\"log\")\n",
    "#plt.savefig(\"ogatabanksplot.png\") # optional generates just a plot for embedding into a report\n",
    "plt.show() # plot to stdio -- has to be last call as it kills prior objects\n",
    "plt.close('all') # needed when plt.show call not invoked, optional here\n",
    "#sys.exit() # used to elegant exit for CGI-BIN use"
   ]
  },
  {
   "cell_type": "code",
   "execution_count": 407,
   "metadata": {},
   "outputs": [
    {
     "name": "stdout",
     "output_type": "stream",
     "text": [
      "distance to MCL at time : 400.0  days is:  96.0  meters \n",
      "distance to MCL at time : 800.0  days is:  108.0  meters \n",
      "distance to MCL at time : 1200.0  days is:  108.0  meters \n",
      "distance to MCL at time : 1600.0  days is:  108.0  meters \n",
      "distance to MCL at time : 2000.0  days is:  108.0  meters \n",
      "distance to MCL at time : 2400.0  days is:  108.0  meters \n"
     ]
    }
   ],
   "source": [
    "# now search array for MCL value\n",
    "whois=min(enumerate(c1), key=lambda x: abs(x[1]-c_mcl))\n",
    "print(\"distance to MCL at time :\",1*time,\" days is: \",x[whois[0]],\" meters \")\n",
    "whois=min(enumerate(c2), key=lambda x: abs(x[1]-c_mcl))\n",
    "print(\"distance to MCL at time :\",2*time,\" days is: \",x[whois[0]],\" meters \")\n",
    "whois=min(enumerate(c3), key=lambda x: abs(x[1]-c_mcl))\n",
    "print(\"distance to MCL at time :\",3*time,\" days is: \",x[whois[0]],\" meters \")\n",
    "whois=min(enumerate(c4), key=lambda x: abs(x[1]-c_mcl))\n",
    "print(\"distance to MCL at time :\",4*time,\" days is: \",x[whois[0]],\" meters \")\n",
    "whois=min(enumerate(c5), key=lambda x: abs(x[1]-c_mcl))\n",
    "print(\"distance to MCL at time :\",5*time,\" days is: \",x[whois[0]],\" meters \")\n",
    "whois=min(enumerate(c6), key=lambda x: abs(x[1]-c_mcl))\n",
    "print(\"distance to MCL at time :\",6*time,\" days is: \",x[whois[0]],\" meters \")\n"
   ]
  },
  {
   "cell_type": "markdown",
   "metadata": {},
   "source": [
    "So from simulation the result is the plume length is 108 meters from source to MCL using supplied values."
   ]
  },
  {
   "cell_type": "markdown",
   "metadata": {},
   "source": [
    "<hr>\n",
    "<hr>\n",
    "\n",
    "## Problem 6 (10 points)\n",
    "\n",
    "Consider an MTBE plume originating from a leaky gasoline storage tank.  The free-phase gasoline contains MTBE at 0.2 mole-fraction. The seepage velocity is $1~ \\frac{ft}{d}$ and the half-life for first-order decay of MTBE (from biochemical activity) is $T_{1/2} = 365~day$ and the retardation coefficient for MTBE in the auqifer is $R=1.1$.\n",
    "\n",
    "Determine:\n",
    "1. The MTBE concentration in the water phase at the source.\n",
    "2. The anticipated plume length from the source to a concentration limit of $C=20~\\frac{\\mu g}{L}$\n",
    "\n"
   ]
  },
  {
   "cell_type": "markdown",
   "metadata": {},
   "source": [
    "### Enter your solution below, or attach separate sheet(s) with your solution.\n",
    "\n",
    "Use prior tool but adjust for MTBE source.\n",
    "\n",
    "![](mtbe.png)\n",
    "\n",
    "Estimate water solubility as $X_{MTBE} \\cdot 45000\\frac{mg}{L}$"
   ]
  },
  {
   "cell_type": "code",
   "execution_count": 408,
   "metadata": {},
   "outputs": [
    {
     "name": "stdout",
     "output_type": "stream",
     "text": [
      "Source Concentration (Initial) :  9000.0  mg/L\n"
     ]
    }
   ],
   "source": [
    "X_mtbe = 0.2\n",
    "S_mtbe = 45000\n",
    "c_init = X_mtbe*S_mtbe\n",
    "print(\"Source Concentration (Initial) : \",c_init,\" mg/L\")"
   ]
  },
  {
   "cell_type": "code",
   "execution_count": 409,
   "metadata": {},
   "outputs": [
    {
     "data": {
      "image/png": "[encoded data removed]",
      "text/plain": [
       "<Figure size 432x288 with 1 Axes>"
      ]
     },
     "metadata": {
      "filenames": {
       "image/png": "/home/sensei/ce-5364-webroot/ce5364notes/_build/jupyter_execute/chapters/92exams/EX2/src-sol/EX2-WS_38_0.png"
      },
      "needs_background": "light"
     },
     "output_type": "display_data"
    }
   ],
   "source": [
    "#\n",
    "# example inputs\n",
    "#\n",
    "c_source = c_init # source concentration\n",
    "c_mcl = 0.020 # MCL concentration\n",
    "space = 2000.      # how far in X-direction to extend the plot\n",
    "time  = 400.       # time since release\n",
    "dispersion = 1.0 # dispersion coefficient\n",
    "velocity = 1*(1/3.28)   # pore velocity (meters per day)\n",
    "retardation = 2.0\n",
    "decay = math.log(2)/365\n",
    "#\n",
    "# forward define and initialize vectors for a profile plot\n",
    "#\n",
    "how_many_points = 90   \n",
    "deltax = space/how_many_points\n",
    "x = [i*deltax for i in range(how_many_points)] # constructor notation\n",
    "c1 = [0.0 for i in range(how_many_points)]      # constructor notation\n",
    "c2 = [0.0 for i in range(how_many_points)]      # constructor notation\n",
    "c3 = [0.0 for i in range(how_many_points)]      # constructor notation\n",
    "c4 = [0.0 for i in range(how_many_points)]      # constructor notation\n",
    "c5 = [0.0 for i in range(how_many_points)]      # constructor notation\n",
    "c6 = [0.0 for i in range(how_many_points)]      # constructor notation\n",
    "#\n",
    "# build the profile predictions\n",
    "#\n",
    "for i in range(0,how_many_points,1):\n",
    "    c1[i] = c1dadrd(c_source,x[i],1*time,dispersion,velocity,retardation,decay)\n",
    "    c2[i] = c1dadrd(c_source,x[i],2*time,dispersion,velocity,retardation,decay)\n",
    "    c3[i] = c1dadrd(c_source,x[i],3*time,dispersion,velocity,retardation,decay)\n",
    "    c4[i] = c1dadrd(c_source,x[i],4*time,dispersion,velocity,retardation,decay)\n",
    "    c5[i] = c1dadrd(c_source,x[i],5*time,dispersion,velocity,retardation,decay)\n",
    "    c6[i] = c1dadrd(c_source,x[i],6*time,dispersion,velocity,retardation,decay)\n",
    "\n",
    "#\n",
    "# Import graphics routines for picture making\n",
    "#\n",
    "from matplotlib import pyplot as plt\n",
    "#\n",
    "# Build and Render the Plot\n",
    "#\n",
    "plt.plot(x,c1, color='red', linestyle = 'solid')  # make the plot object\n",
    "plt.plot(x,c2, color='blue', linestyle = 'solid')  # make the plot object\n",
    "plt.plot(x,c3, color='green', linestyle = 'solid')  # make the plot object\n",
    "plt.plot(x,c4, color='magenta', linestyle = 'solid')  # make the plot object\n",
    "plt.plot(x,c5, color='orange', linestyle = 'solid')  # make the plot object\n",
    "plt.plot(x,c6, color='cyan', linestyle = 'solid')  # make the plot object\n",
    "plt.plot([x[0],x[-1]],[c_mcl,c_mcl], color='black', linestyle = 'solid')  # make the plot object\n",
    "plt.title(\" MTBE Concentration Profile \\n Red Time: \" + repr(time) + \" time units \\n\" + \" Dispersion: \" + repr(dispersion) + \" length^2/time units \\n\" + \" Velocity: \" + repr(velocity) + \" length/time units \\n\") # caption the plot object\n",
    "plt.xlabel(\" Distance from Source \") # label x-axis\n",
    "plt.ylabel(\" Concentration        \") # label y-axis\n",
    "plt.legend([\"T1 = \" + repr(1*time),\"T2 = \" + repr(2*time),\"T3 = \" + repr(3*time),\\\n",
    "            \"T4 = \" + repr(4*time),\"T5 = \" + repr(5*time),\"T6 = \" + repr(6*time)])\n",
    "plt.xscale(\"log\")\n",
    "plt.yscale(\"log\")\n",
    "#plt.savefig(\"ogatabanksplot.png\") # optional generates just a plot for embedding into a report\n",
    "plt.show() # plot to stdio -- has to be last call as it kills prior objects\n",
    "plt.close('all') # needed when plt.show call not invoked, optional here\n",
    "#sys.exit() # used to elegant exit for CGI-BIN use"
   ]
  },
  {
   "cell_type": "code",
   "execution_count": 410,
   "metadata": {
    "jupyter": {
     "source_hidden": true
    }
   },
   "outputs": [
    {
     "name": "stdout",
     "output_type": "stream",
     "text": [
      "distance to MCL at time : 400.0  days is:  155.55555555555554  meters \n",
      "distance to MCL at time : 800.0  days is:  244.44444444444443  meters \n",
      "distance to MCL at time : 1200.0  days is:  333.3333333333333  meters \n",
      "distance to MCL at time : 1600.0  days is:  400.0  meters \n",
      "distance to MCL at time : 2000.0  days is:  488.88888888888886  meters \n",
      "distance to MCL at time : 2400.0  days is:  555.5555555555555  meters \n"
     ]
    }
   ],
   "source": [
    "# now search array for MCL value\n",
    "whois=min(enumerate(c1), key=lambda x: abs(x[1]-c_mcl))\n",
    "print(\"distance to MCL at time :\",1*time,\" days is: \",x[whois[0]],\" meters \")\n",
    "whois=min(enumerate(c2), key=lambda x: abs(x[1]-c_mcl))\n",
    "print(\"distance to MCL at time :\",2*time,\" days is: \",x[whois[0]],\" meters \")\n",
    "whois=min(enumerate(c3), key=lambda x: abs(x[1]-c_mcl))\n",
    "print(\"distance to MCL at time :\",3*time,\" days is: \",x[whois[0]],\" meters \")\n",
    "whois=min(enumerate(c4), key=lambda x: abs(x[1]-c_mcl))\n",
    "print(\"distance to MCL at time :\",4*time,\" days is: \",x[whois[0]],\" meters \")\n",
    "whois=min(enumerate(c5), key=lambda x: abs(x[1]-c_mcl))\n",
    "print(\"distance to MCL at time :\",5*time,\" days is: \",x[whois[0]],\" meters \")\n",
    "whois=min(enumerate(c6), key=lambda x: abs(x[1]-c_mcl))\n",
    "print(\"distance to MCL at time :\",6*time,\" days is: \",x[whois[0]],\" meters \")\n"
   ]
  },
  {
   "cell_type": "markdown",
   "metadata": {},
   "source": [
    "Need to start at later time, 2400 days"
   ]
  },
  {
   "cell_type": "code",
   "execution_count": 411,
   "metadata": {},
   "outputs": [
    {
     "data": {
      "image/png": "[encoded data removed]",
      "text/plain": [
       "<Figure size 432x288 with 1 Axes>"
      ]
     },
     "metadata": {
      "filenames": {
       "image/png": "/home/sensei/ce-5364-webroot/ce5364notes/_build/jupyter_execute/chapters/92exams/EX2/src-sol/EX2-WS_41_0.png"
      },
      "needs_background": "light"
     },
     "output_type": "display_data"
    }
   ],
   "source": [
    "#\n",
    "# example inputs\n",
    "#\n",
    "c_source = c_init # source concentration\n",
    "c_mcl = 0.020 # MCL concentration\n",
    "space = 2000.      # how far in X-direction to extend the plot\n",
    "time  = 2400.       # time since release\n",
    "dispersion = 1.0 # dispersion coefficient\n",
    "velocity = 1*(1/3.28)   # pore velocity (meters per day)\n",
    "retardation = 2.0\n",
    "decay = math.log(2)/365\n",
    "#\n",
    "# forward define and initialize vectors for a profile plot\n",
    "#\n",
    "how_many_points = 90   \n",
    "deltax = space/how_many_points\n",
    "x = [i*deltax for i in range(how_many_points)] # constructor notation\n",
    "c1 = [0.0 for i in range(how_many_points)]      # constructor notation\n",
    "c2 = [0.0 for i in range(how_many_points)]      # constructor notation\n",
    "c3 = [0.0 for i in range(how_many_points)]      # constructor notation\n",
    "c4 = [0.0 for i in range(how_many_points)]      # constructor notation\n",
    "c5 = [0.0 for i in range(how_many_points)]      # constructor notation\n",
    "c6 = [0.0 for i in range(how_many_points)]      # constructor notation\n",
    "#\n",
    "# build the profile predictions\n",
    "#\n",
    "for i in range(0,how_many_points,1):\n",
    "    c1[i] = c1dadrd(c_source,x[i],1*time,dispersion,velocity,retardation,decay)\n",
    "    c2[i] = c1dadrd(c_source,x[i],2*time,dispersion,velocity,retardation,decay)\n",
    "    c3[i] = c1dadrd(c_source,x[i],3*time,dispersion,velocity,retardation,decay)\n",
    "    c4[i] = c1dadrd(c_source,x[i],4*time,dispersion,velocity,retardation,decay)\n",
    "    c5[i] = c1dadrd(c_source,x[i],5*time,dispersion,velocity,retardation,decay)\n",
    "    c6[i] = c1dadrd(c_source,x[i],6*time,dispersion,velocity,retardation,decay)\n",
    "\n",
    "#\n",
    "# Import graphics routines for picture making\n",
    "#\n",
    "from matplotlib import pyplot as plt\n",
    "#\n",
    "# Build and Render the Plot\n",
    "#\n",
    "plt.plot(x,c1, color='red', linestyle = 'solid')  # make the plot object\n",
    "plt.plot(x,c2, color='blue', linestyle = 'solid')  # make the plot object\n",
    "plt.plot(x,c3, color='green', linestyle = 'solid')  # make the plot object\n",
    "plt.plot(x,c4, color='magenta', linestyle = 'solid')  # make the plot object\n",
    "plt.plot(x,c5, color='orange', linestyle = 'solid')  # make the plot object\n",
    "plt.plot(x,c6, color='cyan', linestyle = 'solid')  # make the plot object\n",
    "plt.plot([x[0],x[-1]],[c_mcl,c_mcl], color='black', linestyle = 'solid')  # make the plot object\n",
    "plt.title(\" MTBE Concentration Profile \\n Red Time: \" + repr(time) + \" time units \\n\" + \" Dispersion: \" + repr(dispersion) + \" length^2/time units \\n\" + \" Velocity: \" + repr(velocity) + \" length/time units \\n\") # caption the plot object\n",
    "plt.xlabel(\" Distance from Source \") # label x-axis\n",
    "plt.ylabel(\" Concentration        \") # label y-axis\n",
    "plt.legend([\"T1 = \" + repr(1*time),\"T2 = \" + repr(2*time),\"T3 = \" + repr(3*time),\\\n",
    "            \"T4 = \" + repr(4*time),\"T5 = \" + repr(5*time),\"T6 = \" + repr(6*time)])\n",
    "plt.xscale(\"log\")\n",
    "plt.yscale(\"log\")\n",
    "#plt.savefig(\"ogatabanksplot.png\") # optional generates just a plot for embedding into a report\n",
    "plt.show() # plot to stdio -- has to be last call as it kills prior objects\n",
    "plt.close('all') # needed when plt.show call not invoked, optional here\n",
    "#sys.exit() # used to elegant exit for CGI-BIN use"
   ]
  },
  {
   "cell_type": "code",
   "execution_count": 412,
   "metadata": {},
   "outputs": [
    {
     "name": "stdout",
     "output_type": "stream",
     "text": [
      "distance to MCL at time : 2400.0  days is:  555.5555555555555  meters \n",
      "distance to MCL at time : 4800.0  days is:  888.8888888888889  meters \n",
      "distance to MCL at time : 7200.0  days is:  1088.888888888889  meters \n",
      "distance to MCL at time : 9600.0  days is:  1088.888888888889  meters \n",
      "distance to MCL at time : 12000.0  days is:  1088.888888888889  meters \n",
      "distance to MCL at time : 14400.0  days is:  1088.888888888889  meters \n"
     ]
    }
   ],
   "source": [
    "# now search array for MCL value\n",
    "whois=min(enumerate(c1), key=lambda x: abs(x[1]-c_mcl))\n",
    "print(\"distance to MCL at time :\",1*time,\" days is: \",x[whois[0]],\" meters \")\n",
    "whois=min(enumerate(c2), key=lambda x: abs(x[1]-c_mcl))\n",
    "print(\"distance to MCL at time :\",2*time,\" days is: \",x[whois[0]],\" meters \")\n",
    "whois=min(enumerate(c3), key=lambda x: abs(x[1]-c_mcl))\n",
    "print(\"distance to MCL at time :\",3*time,\" days is: \",x[whois[0]],\" meters \")\n",
    "whois=min(enumerate(c4), key=lambda x: abs(x[1]-c_mcl))\n",
    "print(\"distance to MCL at time :\",4*time,\" days is: \",x[whois[0]],\" meters \")\n",
    "whois=min(enumerate(c5), key=lambda x: abs(x[1]-c_mcl))\n",
    "print(\"distance to MCL at time :\",5*time,\" days is: \",x[whois[0]],\" meters \")\n",
    "whois=min(enumerate(c6), key=lambda x: abs(x[1]-c_mcl))\n",
    "print(\"distance to MCL at time :\",6*time,\" days is: \",x[whois[0]],\" meters \")\n"
   ]
  },
  {
   "cell_type": "markdown",
   "metadata": {},
   "source": [
    "Asymptotic distance to MCL is 1088 meters"
   ]
  },
  {
   "cell_type": "code",
   "execution_count": null,
   "metadata": {},
   "outputs": [],
   "source": []
  }
 ],
 "metadata": {
  "kernelspec": {
   "display_name": "Python 3",
   "language": "python",
   "name": "python3"
  },
  "language_info": {
   "codemirror_mode": {
    "name": "ipython",
    "version": 3
   },
   "file_extension": ".py",
   "mimetype": "text/x-python",
   "name": "python",
   "nbconvert_exporter": "python",
   "pygments_lexer": "ipython3",
   "version": "3.8.10"
  }
 },
 "nbformat": 4,
 "nbformat_minor": 4
}