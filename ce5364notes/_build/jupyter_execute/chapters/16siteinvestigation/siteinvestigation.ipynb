{
 "cells": [
  {
   "cell_type": "markdown",
   "metadata": {},
   "source": [
    "# Site Investigations \n",
    "\n",
    "The textbook (pp. 113-158) has a decent description of how to perform a site investigation.\n"
   ]
  },
  {
   "cell_type": "markdown",
   "metadata": {},
   "source": [
    "## Regulatory Framework\n",
    "\n",
    "### Water Rights\n",
    "\n",
    "### Federal Law\n",
    "\n",
    "## Groundwater Geochemistry\n"
   ]
  },
  {
   "cell_type": "markdown",
   "metadata": {},
   "source": [
    "## Hydrological Assessment (for Flow and Transport)\n",
    "\n",
    "### Geologic Framework\n",
    "\n",
    "### Developing the Hydrogeologic Description\n",
    "\n",
    "### Preparing Illustrations"
   ]
  },
  {
   "cell_type": "markdown",
   "metadata": {},
   "source": [
    "## References\n",
    "\n",
    "1. [Cleveland, T.G. (circa 1995) \"Site Investigations\" in *Notes to accompany CE 6361 Groundwater Hydrology at University of Houston* ](http://54.243.252.9/ce-5364-webroot/3-Readings/MySiteInvestigation.pdf)\n",
    "\n",
    "2. [U.S. Environmental Protection Agency, Office of Solid Waste. (1986) RCRA ground-water monitoring technical enforcement guidance document. OSWER-9950.1](https://www.epa.gov/sites/default/files/documents/rcragwguiddoc-rpt_0.pdf)\n",
    "\n",
    "3. [USGS National Field Manual for Collection of Water Quality Data (2019)](https://www.usgs.gov/mission-areas/water-resources/science/national-field-manual-collection-water-quality-data-nfm)\n",
    "\n",
    "3. [California Code, Health and Safety Code - HSC § 25208.8 (Good specification of hydrological report contents)](https://codes.findlaw.com/ca/health-and-safety-code/hsc-sect-25208-8/)\n",
    "\n",
    "3. [Porter-Cologne Water Quality Control Act (2023 Edition)](https://www.waterboards.ca.gov/laws_regulations/docs/portercologne.pdf)\n",
    "\n",
    "1. [Cleveland, T.G. and W. W-G. Yeh, 1990. Sampling Network Design for Transport Parameter Identification, Journal of Water Resources Planning and Management, American Society of Civil Engineers, Vol. 116, No. 6, pp 764-782.](http://54.243.252.9/about-me-webroot/about-me/MyWebPapers/journal_papers/ASCE_JWRPM_1990A/ASCE_JWRPM_1990A.pdf)\n",
    "\n",
    "2. [Cleveland, T.G. and W. W-G. Yeh, 1991. Optimal Configuration and Scheduling of a Groundwater Tracer Test, Journal of Water Resources Planning and Management, American Society of Civil Engineers, Vol. 117, No. 1, pp 37-51](http://54.243.252.9/about-me-webroot/about-me/MyWebPapers/journal_papers/optimal_tracer_asce_1991/optimal_tracer_asce_1991.pdf)\n",
    "\n"
   ]
  },
  {
   "cell_type": "code",
   "execution_count": null,
   "metadata": {},
   "outputs": [],
   "source": []
  }
 ],
 "metadata": {
  "kernelspec": {
   "display_name": "Python 3",
   "language": "python",
   "name": "python3"
  },
  "language_info": {
   "codemirror_mode": {
    "name": "ipython",
    "version": 3
   },
   "file_extension": ".py",
   "mimetype": "text/x-python",
   "name": "python",
   "nbconvert_exporter": "python",
   "pygments_lexer": "ipython3",
   "version": "3.8.10"
  }
 },
 "nbformat": 4,
 "nbformat_minor": 4
}