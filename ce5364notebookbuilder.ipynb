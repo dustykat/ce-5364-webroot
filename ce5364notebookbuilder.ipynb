{
 "cells": [
  {
   "cell_type": "code",
   "execution_count": 24,
   "metadata": {},
   "outputs": [
    {
     "name": "stdout",
     "output_type": "stream",
     "text": [
      "\n",
      "\u001b[92m===============================================================================\u001b[0m\n",
      "\n",
      "Your _build directory has been emptied except for .jupyter_cache\n",
      "\n",
      "\u001b[92m===============================================================================\u001b[0m\n",
      "\n"
     ]
    }
   ],
   "source": [
    "! jupyter-book clean ce5364notes"
   ]
  },
  {
   "cell_type": "code",
   "execution_count": 37,
   "metadata": {},
   "outputs": [
    {
     "name": "stdout",
     "output_type": "stream",
     "text": [
      "\u001b[32m\u001b[1mRunning Jupyter-Book v0.12.0\u001b[0m\n",
      "Traceback (most recent call last):\n",
      "  File \"/opt/jupyterhub/bin/jupyter-book\", line 8, in <module>\n",
      "    sys.exit(main())\n",
      "  File \"/opt/jupyterhub/lib/python3.8/site-packages/click/core.py\", line 1128, in __call__\n",
      "    return self.main(*args, **kwargs)\n",
      "  File \"/opt/jupyterhub/lib/python3.8/site-packages/click/core.py\", line 1053, in main\n",
      "    rv = self.invoke(ctx)\n",
      "  File \"/opt/jupyterhub/lib/python3.8/site-packages/click/core.py\", line 1659, in invoke\n",
      "    return _process_result(sub_ctx.command.invoke(sub_ctx))\n",
      "  File \"/opt/jupyterhub/lib/python3.8/site-packages/click/core.py\", line 1395, in invoke\n",
      "    return ctx.invoke(self.callback, **ctx.params)\n",
      "  File \"/opt/jupyterhub/lib/python3.8/site-packages/click/core.py\", line 754, in invoke\n",
      "    return __callback(*args, **kwargs)\n",
      "  File \"/opt/jupyterhub/lib/python3.8/site-packages/jupyter_book/cli/main.py\", line 244, in build\n",
      "    parse_toc_yaml(toc)\n",
      "  File \"/opt/jupyterhub/lib/python3.8/site-packages/sphinx_external_toc/parsing.py\", line 81, in parse_toc_yaml\n",
      "    data = yaml.safe_load(handle)\n",
      "  File \"/opt/jupyterhub/lib/python3.8/site-packages/yaml/__init__.py\", line 162, in safe_load\n",
      "    return load(stream, SafeLoader)\n",
      "  File \"/opt/jupyterhub/lib/python3.8/site-packages/yaml/__init__.py\", line 114, in load\n",
      "    return loader.get_single_data()\n",
      "  File \"/opt/jupyterhub/lib/python3.8/site-packages/yaml/constructor.py\", line 49, in get_single_data\n",
      "    node = self.get_single_node()\n",
      "  File \"/opt/jupyterhub/lib/python3.8/site-packages/yaml/composer.py\", line 36, in get_single_node\n",
      "    document = self.compose_document()\n",
      "  File \"/opt/jupyterhub/lib/python3.8/site-packages/yaml/composer.py\", line 55, in compose_document\n",
      "    node = self.compose_node(None, None)\n",
      "  File \"/opt/jupyterhub/lib/python3.8/site-packages/yaml/composer.py\", line 84, in compose_node\n",
      "    node = self.compose_mapping_node(anchor)\n",
      "  File \"/opt/jupyterhub/lib/python3.8/site-packages/yaml/composer.py\", line 133, in compose_mapping_node\n",
      "    item_value = self.compose_node(node, item_key)\n",
      "  File \"/opt/jupyterhub/lib/python3.8/site-packages/yaml/composer.py\", line 82, in compose_node\n",
      "    node = self.compose_sequence_node(anchor)\n",
      "  File \"/opt/jupyterhub/lib/python3.8/site-packages/yaml/composer.py\", line 111, in compose_sequence_node\n",
      "    node.value.append(self.compose_node(node, index))\n",
      "  File \"/opt/jupyterhub/lib/python3.8/site-packages/yaml/composer.py\", line 84, in compose_node\n",
      "    node = self.compose_mapping_node(anchor)\n",
      "  File \"/opt/jupyterhub/lib/python3.8/site-packages/yaml/composer.py\", line 133, in compose_mapping_node\n",
      "    item_value = self.compose_node(node, item_key)\n",
      "  File \"/opt/jupyterhub/lib/python3.8/site-packages/yaml/composer.py\", line 82, in compose_node\n",
      "    node = self.compose_sequence_node(anchor)\n",
      "  File \"/opt/jupyterhub/lib/python3.8/site-packages/yaml/composer.py\", line 111, in compose_sequence_node\n",
      "    node.value.append(self.compose_node(node, index))\n",
      "  File \"/opt/jupyterhub/lib/python3.8/site-packages/yaml/composer.py\", line 84, in compose_node\n",
      "    node = self.compose_mapping_node(anchor)\n",
      "  File \"/opt/jupyterhub/lib/python3.8/site-packages/yaml/composer.py\", line 127, in compose_mapping_node\n",
      "    while not self.check_event(MappingEndEvent):\n",
      "  File \"/opt/jupyterhub/lib/python3.8/site-packages/yaml/parser.py\", line 98, in check_event\n",
      "    self.current_event = self.state()\n",
      "  File \"/opt/jupyterhub/lib/python3.8/site-packages/yaml/parser.py\", line 438, in parse_block_mapping_key\n",
      "    raise ParserError(\"while parsing a block mapping\", self.marks[-1],\n",
      "yaml.parser.ParserError: while parsing a block mapping\n",
      "  in \"/home/sensei/ce-5364-webroot/ce5364notes/_toc.yml\", line 26, column 5\n",
      "expected <block end>, but found '-'\n",
      "  in \"/home/sensei/ce-5364-webroot/ce5364notes/_toc.yml\", line 27, column 5\n"
     ]
    }
   ],
   "source": [
    "! jupyter-book build ce5364notes"
   ]
  },
  {
   "cell_type": "code",
   "execution_count": null,
   "metadata": {},
   "outputs": [],
   "source": []
  }
 ],
 "metadata": {
  "kernelspec": {
   "display_name": "Python 3",
   "language": "python",
   "name": "python3"
  },
  "language_info": {
   "codemirror_mode": {
    "name": "ipython",
    "version": 3
   },
   "file_extension": ".py",
   "mimetype": "text/x-python",
   "name": "python",
   "nbconvert_exporter": "python",
   "pygments_lexer": "ipython3",
   "version": "3.8.10"
  }
 },
 "nbformat": 4,
 "nbformat_minor": 4
}
