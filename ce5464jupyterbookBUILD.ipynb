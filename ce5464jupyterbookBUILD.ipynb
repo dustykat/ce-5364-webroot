{
 "cells": [
  {
   "cell_type": "code",
   "execution_count": 1,
   "metadata": {},
   "outputs": [
    {
     "name": "stdout",
     "output_type": "stream",
     "text": [
      "/home/webroot/ce-5364-webroot\n"
     ]
    }
   ],
   "source": [
    "! pwd"
   ]
  },
  {
   "cell_type": "code",
   "execution_count": 2,
   "metadata": {},
   "outputs": [
    {
     "name": "stdout",
     "output_type": "stream",
     "text": [
      "\u001b[32m\u001b[1mRunning Jupyter-Book v1.0.2\u001b[0m\n",
      "\u001b[34m\u001b[1mSource Folder: \u001b[0m/home/webroot/ce-5364-webroot/ce5364jupyterbook\n",
      "\u001b[34m\u001b[1mConfig Path: \u001b[0m/home/webroot/ce-5364-webroot/ce5364jupyterbook/_config.yml\n",
      "\u001b[34m\u001b[1mOutput Path: \u001b[0m/home/webroot/ce-5364-webroot/ce5364jupyterbook/_build/html\n",
      "\u001b[01mRunning Sphinx v7.4.7\u001b[39;49;00m\n",
      "\u001b[01mloading translations [en]... \u001b[39;49;00mdone\n",
      "[etoc] Changing master_doc to 'intro'\n",
      "\u001b[01mloading pickled environment... \u001b[39;49;00mchecking bibtex cache... up to date\n",
      "done\n",
      "\u001b[01mmyst v2.0.0:\u001b[39;49;00m MdParserConfig(commonmark_only=False, gfm_only=False, enable_extensions={'colon_fence', 'substitution', 'tasklist', 'dollarmath', 'linkify'}, disable_syntax=[], all_links_external=False, url_schemes=('mailto', 'http', 'https'), ref_domains=None, fence_as_directive=set(), number_code_blocks=[], title_to_header=False, heading_anchors=0, heading_slug_func=None, html_meta={}, footnote_transition=True, words_per_minute=200, substitutions={}, linkify_fuzzy_links=True, dmath_allow_labels=True, dmath_allow_space=True, dmath_allow_digits=True, dmath_double_inline=False, update_mathjax=True, mathjax_classes='tex2jax_process|mathjax_process|math|output_area', enable_checkboxes=False, suppress_warnings=[], highlight_code_blocks=True)\n",
      "\u001b[01mmyst-nb v1.1.1:\u001b[39;49;00m NbParserConfig(custom_formats={}, metadata_key='mystnb', cell_metadata_key='mystnb', kernel_rgx_aliases={}, eval_name_regex='^[a-zA-Z_][a-zA-Z0-9_]*$', execution_mode='cache', execution_cache_path='', execution_excludepatterns=[], execution_timeout=-1, execution_in_temp=False, execution_allow_errors=False, execution_raise_on_error=False, execution_show_tb=False, merge_streams=False, render_plugin='default', remove_code_source=False, remove_code_outputs=False, code_prompt_show='Show code cell {type}', code_prompt_hide='Hide code cell {type}', number_source_lines=False, output_stderr='show', render_text_lexer='myst-ansi', render_error_lexer='ipythontb', render_image_options={}, render_figure_options={}, render_markdown_format='commonmark', output_folder='build', append_css=True, metadata_to_fm=False)\n",
      "Using jupyter-cache at: /home/webroot/ce-5364-webroot/ce5364jupyterbook/_build/.jupyter_cache\n",
      "\u001b[01msphinx-multitoc-numbering v0.1.3:\u001b[39;49;00m Loaded\n",
      "\u001b[01mbuilding [mo]: \u001b[39;49;00mtargets for 0 po files that are out of date\n",
      "\u001b[01mwriting output... \u001b[39;49;00m\n",
      "\u001b[01mbuilding [html]: \u001b[39;49;00mtargets for 6 source files that are out of date\n",
      "\u001b[01mupdating environment: \u001b[39;49;00m1 added, 9 changed, 0 removed\n",
      "/home/webroot/ce-5364-webroot/ce5364jupyterbook/chapters/04physical.transport/physical.transport.ipynb: Executing notebook using local CWD [mystnb]\n",
      "/home/webroot/ce-5364-webroot/ce5364jupyterbook/chapters/04physical.transport/physical.transport.ipynb: Executed notebook in 1.02 seconds [mystnb]\n",
      "/home/webroot/ce-5364-webroot/ce5364jupyterbook/chapters/04physical.transport/physical.transport.ipynb: Cached executed notebook: ID=66 [mystnb]\n",
      "/home/webroot/ce-5364-webroot/ce5364jupyterbook/chapters/05analyticalmodels1d/05analyticalmodels1d.ipynb: Using cached notebook: ID=11 [mystnb]\n",
      "/home/webroot/ce-5364-webroot/ce5364jupyterbook/chapters/5nonreactivetransport/2flux.ipynb: Using cached notebook: ID=11 [mystnb]\n",
      "/home/webroot/ce-5364-webroot/ce5364jupyterbook/chapters/5nonreactivetransport/3advection.ipynb: Using cached notebook: ID=11 [mystnb]\n",
      "/home/webroot/ce-5364-webroot/ce5364jupyterbook/chapters/5nonreactivetransport/5nonreactivetransport.ipynb: Using cached notebook: ID=11 [mystnb]\n",
      "/home/webroot/ce-5364-webroot/ce5364jupyterbook/chapters/6nonreactivetransport/4diffusion.ipynb: Using cached notebook: ID=11 [mystnb]\n",
      "/home/webroot/ce-5364-webroot/ce5364jupyterbook/chapters/6nonreactivetransport/5dispersion.ipynb: Using cached notebook: ID=11 [mystnb]\n",
      "/home/webroot/ce-5364-webroot/ce5364jupyterbook/chapters/7analyticalmodels/impulse.ipynb: Executing notebook using local CWD [mystnb]\n",
      "/home/webroot/ce-5364-webroot/ce5364jupyterbook/chapters/7analyticalmodels/impulse.ipynb: Executed notebook in 1.91 seconds [mystnb]\n",
      "/home/webroot/ce-5364-webroot/ce5364jupyterbook/chapters/7analyticalmodels/impulse.ipynb: Cached executed notebook: ID=67 [mystnb]\n",
      "\u001b[2K\u001b[01mreading sources... \u001b[39;49;00m[100%] \u001b[35mintro\u001b[39;49;00m\n",
      "\u001b[91m/home/webroot/ce-5364-webroot/ce5364jupyterbook/chapters/05analyticalmodels1d/05analyticalmodels1d.ipynb:: WARNING: image file not readable: chapters/05analyticalmodels1d/profilehistory.png\u001b[39;49;00m\n",
      "\u001b[01mlooking for now-outdated files... \u001b[39;49;00mnone found\n",
      "\u001b[01mpickling environment... \u001b[39;49;00mdone\n",
      "\u001b[01mchecking consistency... \u001b[39;49;00m\u001b[91m/home/webroot/ce-5364-webroot/ce5364jupyterbook/Untitled.ipynb: WARNING: document isn't included in any toctree\u001b[39;49;00m\n",
      "\u001b[91m/home/webroot/ce-5364-webroot/ce5364jupyterbook/chapters/01fundamentals/ade_derivation_sketch.md: WARNING: document isn't included in any toctree\u001b[39;49;00m\n",
      "\u001b[91m/home/webroot/ce-5364-webroot/ce5364jupyterbook/chapters/02regulatory.overview/pollutants.sources.exposure.ipynb: WARNING: document isn't included in any toctree\u001b[39;49;00m\n",
      "\u001b[91m/home/webroot/ce-5364-webroot/ce5364jupyterbook/chapters/02regulatory.overview/regulatory.ipynb: WARNING: document isn't included in any toctree\u001b[39;49;00m\n",
      "\u001b[91m/home/webroot/ce-5364-webroot/ce5364jupyterbook/chapters/02regulatory.overview/sources.exposure.ipynb: WARNING: document isn't included in any toctree\u001b[39;49;00m\n",
      "\u001b[91m/home/webroot/ce-5364-webroot/ce5364jupyterbook/chapters/03site.mapping.tools/exercise/Untitled.ipynb: WARNING: document isn't included in any toctree\u001b[39;49;00m\n",
      "\u001b[91m/home/webroot/ce-5364-webroot/ce5364jupyterbook/chapters/04computationaltools/04computationaltools.ipynb: WARNING: document isn't included in any toctree\u001b[39;49;00m\n",
      "\u001b[91m/home/webroot/ce-5364-webroot/ce5364jupyterbook/chapters/05analyticalmodels1d/05analyticalmodels1d.ipynb: WARNING: document isn't included in any toctree\u001b[39;49;00m\n",
      "\u001b[91m/home/webroot/ce-5364-webroot/ce5364jupyterbook/chapters/06reactivemodels1d/06reactivemodels1d.ipynb: WARNING: document isn't included in any toctree\u001b[39;49;00m\n",
      "\u001b[91m/home/webroot/ce-5364-webroot/ce5364jupyterbook/chapters/07analyticalmodels2d/07analyticalmodels2d.ipynb: WARNING: document isn't included in any toctree\u001b[39;49;00m\n",
      "\u001b[91m/home/webroot/ce-5364-webroot/ce5364jupyterbook/chapters/08plumeandcapture/08plumeandcapture.ipynb: WARNING: document isn't included in any toctree\u001b[39;49;00m\n",
      "\u001b[91m/home/webroot/ce-5364-webroot/ce5364jupyterbook/chapters/09heterogenity/09heterogenity.ipynb: WARNING: document isn't included in any toctree\u001b[39;49;00m\n",
      "\u001b[91m/home/webroot/ce-5364-webroot/ce5364jupyterbook/chapters/10mf6introduction/10mf6introduction.ipynb: WARNING: document isn't included in any toctree\u001b[39;49;00m\n",
      "\u001b[91m/home/webroot/ce-5364-webroot/ce5364jupyterbook/chapters/11mf6simple/11mf6simple.ipynb: WARNING: document isn't included in any toctree\u001b[39;49;00m\n",
      "\u001b[91m/home/webroot/ce-5364-webroot/ce5364jupyterbook/chapters/11modelingadvection/0modelingadvection.ipynb: WARNING: document isn't included in any toctree\u001b[39;49;00m\n",
      "\u001b[91m/home/webroot/ce-5364-webroot/ce5364jupyterbook/chapters/11modelingadvection/1particletracking.ipynb: WARNING: document isn't included in any toctree\u001b[39;49;00m\n",
      "\u001b[91m/home/webroot/ce-5364-webroot/ce5364jupyterbook/chapters/11modelingadvection/2upwindfdm.ipynb: WARNING: document isn't included in any toctree\u001b[39;49;00m\n",
      "\u001b[91m/home/webroot/ce-5364-webroot/ce5364jupyterbook/chapters/12.01usgsmodflow6/mf6-pr2/mf6-pr2.ipynb: WARNING: document isn't included in any toctree\u001b[39;49;00m\n",
      "\u001b[91m/home/webroot/ce-5364-webroot/ce5364jupyterbook/chapters/12.01usgsmodflow6/mf6-project/mf6-ex1.ipynb: WARNING: document isn't included in any toctree\u001b[39;49;00m\n",
      "\u001b[91m/home/webroot/ce-5364-webroot/ce5364jupyterbook/chapters/12.01usgsmodflow6/usgsmodflow6.ipynb: WARNING: document isn't included in any toctree\u001b[39;49;00m\n",
      "\u001b[91m/home/webroot/ce-5364-webroot/ce5364jupyterbook/chapters/12mf6transport/12mf6transport.ipynb: WARNING: document isn't included in any toctree\u001b[39;49;00m\n",
      "\u001b[91m/home/webroot/ce-5364-webroot/ce5364jupyterbook/chapters/15datacollection/datacollection.ipynb: WARNING: document isn't included in any toctree\u001b[39;49;00m\n",
      "\u001b[91m/home/webroot/ce-5364-webroot/ce5364jupyterbook/chapters/16siteinvestigation/siteinvestigation.ipynb: WARNING: document isn't included in any toctree\u001b[39;49;00m\n",
      "\u001b[91m/home/webroot/ce-5364-webroot/ce5364jupyterbook/chapters/17unsaturatedzone/unsaturated.ipynb: WARNING: document isn't included in any toctree\u001b[39;49;00m\n",
      "\u001b[91m/home/webroot/ce-5364-webroot/ce5364jupyterbook/chapters/18untransport/unsaturatedtransport.ipynb: WARNING: document isn't included in any toctree\u001b[39;49;00m\n",
      "\u001b[91m/home/webroot/ce-5364-webroot/ce5364jupyterbook/chapters/19chemflow/chemflow.ipynb: WARNING: document isn't included in any toctree\u001b[39;49;00m\n",
      "\u001b[91m/home/webroot/ce-5364-webroot/ce5364jupyterbook/chapters/22remediation/remediation.ipynb: WARNING: document isn't included in any toctree\u001b[39;49;00m\n",
      "\u001b[91m/home/webroot/ce-5364-webroot/ce5364jupyterbook/chapters/23risk/risk.ipynb: WARNING: document isn't included in any toctree\u001b[39;49;00m\n",
      "\u001b[91m/home/webroot/ce-5364-webroot/ce5364jupyterbook/chapters/26regulatory/regulatory.ipynb: WARNING: document isn't included in any toctree\u001b[39;49;00m\n",
      "\u001b[91m/home/webroot/ce-5364-webroot/ce5364jupyterbook/chapters/2essentialgroundwater/essentialgwreview.ipynb: WARNING: document isn't included in any toctree\u001b[39;49;00m\n",
      "\u001b[91m/home/webroot/ce-5364-webroot/ce5364jupyterbook/chapters/4pollutants/4pollutants.ipynb: WARNING: document isn't included in any toctree\u001b[39;49;00m\n",
      "\u001b[91m/home/webroot/ce-5364-webroot/ce5364jupyterbook/chapters/5nonreactivetransport/1tracerhypothesis.ipynb: WARNING: document isn't included in any toctree\u001b[39;49;00m\n",
      "\u001b[91m/home/webroot/ce-5364-webroot/ce5364jupyterbook/chapters/5nonreactivetransport/2flux.ipynb: WARNING: document isn't included in any toctree\u001b[39;49;00m\n",
      "\u001b[91m/home/webroot/ce-5364-webroot/ce5364jupyterbook/chapters/5nonreactivetransport/3advection.ipynb: WARNING: document isn't included in any toctree\u001b[39;49;00m\n",
      "\u001b[91m/home/webroot/ce-5364-webroot/ce5364jupyterbook/chapters/5nonreactivetransport/5nonreactivetransport.ipynb: WARNING: document isn't included in any toctree\u001b[39;49;00m\n",
      "\u001b[91m/home/webroot/ce-5364-webroot/ce5364jupyterbook/chapters/6nonreactivetransport/4diffusion.ipynb: WARNING: document isn't included in any toctree\u001b[39;49;00m\n",
      "\u001b[91m/home/webroot/ce-5364-webroot/ce5364jupyterbook/chapters/6nonreactivetransport/5dispersion.ipynb: WARNING: document isn't included in any toctree\u001b[39;49;00m\n",
      "\u001b[91m/home/webroot/ce-5364-webroot/ce5364jupyterbook/chapters/7analyticalmodels/analyticalmodels.ipynb: WARNING: document isn't included in any toctree\u001b[39;49;00m\n",
      "\u001b[91m/home/webroot/ce-5364-webroot/ce5364jupyterbook/chapters/8.0reactivetransport/8reactivetransport.ipynb: WARNING: document isn't included in any toctree\u001b[39;49;00m\n",
      "\u001b[91m/home/webroot/ce-5364-webroot/ce5364jupyterbook/chapters/8.1analyticalmodels/reactivemodels.ipynb: WARNING: document isn't included in any toctree\u001b[39;49;00m\n",
      "\u001b[91m/home/webroot/ce-5364-webroot/ce5364jupyterbook/chapters/91exercises/2-Exercises.ipynb: WARNING: document isn't included in any toctree\u001b[39;49;00m\n",
      "\u001b[91m/home/webroot/ce-5364-webroot/ce5364jupyterbook/chapters/92exams/exams.ipynb: WARNING: document isn't included in any toctree\u001b[39;49;00m\n",
      "\u001b[91m/home/webroot/ce-5364-webroot/ce5364jupyterbook/chapters/93projects/Projects.ipynb: WARNING: document isn't included in any toctree\u001b[39;49;00m\n",
      "\u001b[91m/home/webroot/ce-5364-webroot/ce5364jupyterbook/chapters/99legacy/99legacy.ipynb: WARNING: document isn't included in any toctree\u001b[39;49;00m\n",
      "done\n",
      "\u001b[01mpreparing documents... \u001b[39;49;00mdone\n",
      "\u001b[01mcopying assets... \u001b[39;49;00m\n",
      "\u001b[01mcopying static files... \u001b[39;49;00mdone\n",
      "\u001b[01mcopying extra files... \u001b[39;49;00mdone\n",
      "\u001b[01mcopying assets: \u001b[39;49;00mdone\n",
      "\u001b[2K\u001b[01mwriting output... \u001b[39;49;00m[100%] \u001b[32mintro\u001b[39;49;00micalmodels/analyticalmodels\u001b[39;49;00m39;49;00m\u001b[01mwriting output... \u001b[39;49;00m[ 90%] \u001b[32mchapters/7analyticalmodels/impulse\u001b[39;49;00m\n",
      "\u001b[01mgenerating indices... \u001b[39;49;00mgenindex done\n",
      "\u001b[01mwriting additional pages... \u001b[39;49;00msearch done\n",
      "\u001b[2K\u001b[01mcopying images... \u001b[39;49;00m[100%] \u001b[33m_build/jupyter_execute/7162a19d8875657b476e7483e6275688d81fd2dba604ea8526149e4feacfe66c.png\u001b[39;49;00m%] \u001b[33m_build/jupyter_execute/62e202771def79ab0a81d3150e27145afbc6840eb7c8647484fee19dd5f8beb3.png\u001b[39;49;00m\n",
      "\u001b[01mdumping search index in English (code: en)... \u001b[39;49;00mdone\n",
      "\u001b[01mdumping object inventory... \u001b[39;49;00mdone\n",
      "\u001b[01mbuild succeeded, 45 warnings.\u001b[39;49;00m\n",
      "\n",
      "The HTML pages are in ce5364jupyterbook/_build/html.\n",
      "\n",
      "\u001b[92m===============================================================================\u001b[0m\n",
      "\n",
      "Finished generating HTML for book.\n",
      "Your book's HTML pages are here:\n",
      "    ce5364jupyterbook/_build/html/\n",
      "You can look at your book by opening this file in a browser:\n",
      "    ce5364jupyterbook/_build/html/index.html\n",
      "Or paste this line directly into your browser bar:\n",
      "    file:///home/webroot/ce-5364-webroot/ce5364jupyterbook/_build/html/index.html            \n",
      "\n",
      "\u001b[92m===============================================================================\u001b[0m\n",
      "\n"
     ]
    }
   ],
   "source": [
    "! jupyter-book build ce5364jupyterbook"
   ]
  },
  {
   "cell_type": "code",
   "execution_count": null,
   "metadata": {},
   "outputs": [],
   "source": []
  }
 ],
 "metadata": {
  "kernelspec": {
   "display_name": "Python Common Environment",
   "language": "python",
   "name": "python-my-env"
  },
  "language_info": {
   "codemirror_mode": {
    "name": "ipython",
    "version": 3
   },
   "file_extension": ".py",
   "mimetype": "text/x-python",
   "name": "python",
   "nbconvert_exporter": "python",
   "pygments_lexer": "ipython3",
   "version": "3.10.12"
  }
 },
 "nbformat": 4,
 "nbformat_minor": 4
}
