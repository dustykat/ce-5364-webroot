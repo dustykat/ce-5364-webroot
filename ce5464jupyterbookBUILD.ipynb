{
 "cells": [
  {
   "cell_type": "code",
   "execution_count": null,
   "metadata": {},
   "outputs": [
    {
     "name": "stdout",
     "output_type": "stream",
     "text": [
      "\u001b[32m\u001b[1mRunning Jupyter-Book v0.12.0\u001b[0m\n",
      "\u001b[34m\u001b[1mSource Folder: \u001b[0m/home/sensei/ce-5364-webroot/ce5364jupyterbook\n",
      "\u001b[34m\u001b[1mConfig Path: \u001b[0m/home/sensei/ce-5364-webroot/ce5364jupyterbook/_config.yml\n",
      "\u001b[34m\u001b[1mOutput Path: \u001b[0m/home/sensei/ce-5364-webroot/ce5364jupyterbook/_build/html\n",
      "\u001b[01mRunning Sphinx v3.5.2\u001b[39;49;00m\n",
      "[etoc] Changing master_doc to 'intro'\n",
      "\u001b[01mloading pickled environment... \u001b[39;49;00mchecking for /home/sensei/ce-5364-webroot/ce5364jupyterbook/references.bib in bibtex cache... up to date\n",
      "done\n",
      "\u001b[01mmyst v0.15.2:\u001b[39;49;00m MdParserConfig(renderer='sphinx', commonmark_only=False, enable_extensions=['colon_fence', 'dollarmath', 'linkify', 'substitution', 'tasklist'], dmath_allow_labels=True, dmath_allow_space=True, dmath_allow_digits=True, dmath_double_inline=False, update_mathjax=True, mathjax_classes='tex2jax_process|mathjax_process|math|output_area', disable_syntax=[], url_schemes=['mailto', 'http', 'https'], heading_anchors=None, heading_slug_func=None, html_meta=[], footnote_transition=True, substitutions=[], sub_delimiters=['{', '}'], words_per_minute=200)\n",
      "\u001b[01mbuilding [mo]: \u001b[39;49;00mtargets for 0 po files that are out of date\n",
      "\u001b[01mbuilding [html]: \u001b[39;49;00mtargets for 1 source files that are out of date\n",
      "\u001b[01mupdating environment: \u001b[39;49;00m\u001b[01mexecuting outdated notebooks... \u001b[39;49;00mExecuting: /home/sensei/ce-5364-webroot/ce5364jupyterbook/chapters/12.01usgsmodflow6/transportmodel2.1.ipynb\n",
      "Execution Succeeded: /home/sensei/ce-5364-webroot/ce5364jupyterbook/chapters/12.01usgsmodflow6/transportmodel2.1.ipynb\n",
      "Executing: /home/sensei/ce-5364-webroot/ce5364jupyterbook/chapters/12.02usgsmocmodel/usgsmoc.ipynb\n",
      "Execution Succeeded: /home/sensei/ce-5364-webroot/ce5364jupyterbook/chapters/12.02usgsmocmodel/usgsmoc.ipynb\n",
      "done\n",
      "5 added, 7 changed, 4 removed\n",
      "\u001b[01mreading sources... \u001b[39;49;00m[ 57%] \u001b[35mchapters/12.02usgsmocmodel/dprw\u001b[39;49;00m                       \r"
     ]
    }
   ],
   "source": [
    "! jupyter-book build ce5364jupyterbook"
   ]
  },
  {
   "cell_type": "code",
   "execution_count": null,
   "metadata": {},
   "outputs": [],
   "source": []
  }
 ],
 "metadata": {
  "kernelspec": {
   "display_name": "Python 3",
   "language": "python",
   "name": "python3"
  },
  "language_info": {
   "codemirror_mode": {
    "name": "ipython",
    "version": 3
   },
   "file_extension": ".py",
   "mimetype": "text/x-python",
   "name": "python",
   "nbconvert_exporter": "python",
   "pygments_lexer": "ipython3",
   "version": "3.8.10"
  }
 },
 "nbformat": 4,
 "nbformat_minor": 4
}
