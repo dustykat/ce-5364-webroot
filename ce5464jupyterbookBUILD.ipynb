{
 "cells": [
  {
   "cell_type": "code",
   "execution_count": 1,
   "metadata": {},
   "outputs": [
    {
     "name": "stdout",
     "output_type": "stream",
     "text": [
      "/home/webroot/ce-5364-webroot\n"
     ]
    }
   ],
   "source": [
    "! pwd"
   ]
  },
  {
   "cell_type": "code",
   "execution_count": 1,
   "metadata": {
    "scrolled": true
   },
   "outputs": [
    {
     "name": "stdout",
     "output_type": "stream",
     "text": [
      "\u001b[32m\u001b[1mRunning Jupyter-Book v0.12.0\u001b[0m\n",
      "\u001b[34m\u001b[1mSource Folder: \u001b[0m/home/sensei/ce-5364-webroot/ce5364jupyterbook\n",
      "\u001b[34m\u001b[1mConfig Path: \u001b[0m/home/sensei/ce-5364-webroot/ce5364jupyterbook/_config.yml\n",
      "\u001b[34m\u001b[1mOutput Path: \u001b[0m/home/sensei/ce-5364-webroot/ce5364jupyterbook/_build/html\n",
      "\u001b[01mRunning Sphinx v7.1.2\u001b[39;49;00m\n",
      "\u001b[01mloading translations [None]... \u001b[39;49;00mnot available for built-in messages\n",
      "/opt/jupyterhub/lib/python3.8/site-packages/sphinxcontrib/applehelp/__init__.py:24: RemovedInSphinx80Warning: The alias 'sphinx.util.SkipProgressMessage' is deprecated, use 'sphinx.util.display.SkipProgressMessage' instead. Check CHANGES for Sphinx API modifications.\n",
      "  from sphinx.util import SkipProgressMessage, progress_message\n",
      "/opt/jupyterhub/lib/python3.8/site-packages/sphinxcontrib/applehelp/__init__.py:24: RemovedInSphinx80Warning: The alias 'sphinx.util.progress_message' is deprecated, use 'sphinx.http_date.epoch_to_rfc1123' instead. Check CHANGES for Sphinx API modifications.\n",
      "  from sphinx.util import SkipProgressMessage, progress_message\n",
      "/opt/jupyterhub/lib/python3.8/site-packages/myst_nb/execution.py:26: RemovedInSphinx80Warning: The alias 'sphinx.util.progress_message' is deprecated, use 'sphinx.http_date.epoch_to_rfc1123' instead. Check CHANGES for Sphinx API modifications.\n",
      "  from sphinx.util import logging, progress_message\n",
      "\u001b[91mWARNING: The config value `language' has type `NoneType'; expected `str'.\u001b[39;49;00m\n",
      "\n",
      "\u001b[91mExtension error (sphinx.config):\u001b[39;49;00m\n",
      "Handler <function check_confval_types at 0xffffb0be7f70> for event 'config-inited' threw an exception (exception: 'NoneType' object has no attribute 'startswith')\n",
      "Traceback (most recent call last):\n",
      "  File \"/opt/jupyterhub/lib/python3.8/site-packages/sphinx/events.py\", line 96, in emit\n",
      "    results.append(listener.handler(self.app, *args))\n",
      "  File \"/opt/jupyterhub/lib/python3.8/site-packages/sphinx/config.py\", line 476, in check_confval_types\n",
      "    default = default(config)  # evaluate default value\n",
      "  File \"/opt/jupyterhub/lib/python3.8/site-packages/sphinx/builders/latex/__init__.py\", line 477, in default_latex_engine\n",
      "    if config.language.startswith('zh'):\n",
      "AttributeError: 'NoneType' object has no attribute 'startswith'\n",
      "\n",
      "The above exception was the direct cause of the following exception:\n",
      "\n",
      "Traceback (most recent call last):\n",
      "  File \"/opt/jupyterhub/lib/python3.8/site-packages/jupyter_book/sphinx.py\", line 114, in build_sphinx\n",
      "    app = Sphinx(\n",
      "  File \"/opt/jupyterhub/lib/python3.8/site-packages/sphinx/application.py\", line 253, in __init__\n",
      "    self.events.emit('config-inited', self.config)\n",
      "  File \"/opt/jupyterhub/lib/python3.8/site-packages/sphinx/events.py\", line 107, in emit\n",
      "    raise ExtensionError(__(\"Handler %r for event %r threw an exception\") %\n",
      "sphinx.errors.ExtensionError: Handler <function check_confval_types at 0xffffb0be7f70> for event 'config-inited' threw an exception (exception: 'NoneType' object has no attribute 'startswith')\n",
      "\n",
      "The above exception was the direct cause of the following exception:\n",
      "\n",
      "Traceback (most recent call last):\n",
      "  File \"/opt/jupyterhub/bin/jupyter-book\", line 8, in <module>\n",
      "    sys.exit(main())\n",
      "  File \"/opt/jupyterhub/lib/python3.8/site-packages/click/core.py\", line 1128, in __call__\n",
      "    return self.main(*args, **kwargs)\n",
      "  File \"/opt/jupyterhub/lib/python3.8/site-packages/click/core.py\", line 1053, in main\n",
      "    rv = self.invoke(ctx)\n",
      "  File \"/opt/jupyterhub/lib/python3.8/site-packages/click/core.py\", line 1659, in invoke\n",
      "    return _process_result(sub_ctx.command.invoke(sub_ctx))\n",
      "  File \"/opt/jupyterhub/lib/python3.8/site-packages/click/core.py\", line 1395, in invoke\n",
      "    return ctx.invoke(self.callback, **ctx.params)\n",
      "  File \"/opt/jupyterhub/lib/python3.8/site-packages/click/core.py\", line 754, in invoke\n",
      "    return __callback(*args, **kwargs)\n",
      "  File \"/opt/jupyterhub/lib/python3.8/site-packages/jupyter_book/cli/main.py\", line 319, in build\n",
      "    builder_specific_actions(\n",
      "  File \"/opt/jupyterhub/lib/python3.8/site-packages/jupyter_book/cli/main.py\", line 519, in builder_specific_actions\n",
      "    raise RuntimeError(_message_box(msg, color=\"red\", doprint=False)) from result\n",
      "RuntimeError: \n",
      "\u001b[91m===============================================================================\u001b[0m\n",
      "\n",
      "There was an error in building your book. Look above for the cause.\n",
      "\n",
      "\u001b[91m===============================================================================\u001b[0m\n",
      "\n"
     ]
    }
   ],
   "source": [
    "! jupyter-book build ce5364jupyterbook"
   ]
  },
  {
   "cell_type": "code",
   "execution_count": null,
   "metadata": {},
   "outputs": [],
   "source": []
  }
 ],
 "metadata": {
  "kernelspec": {
   "display_name": "Python 3 (ipykernel)",
   "language": "python",
   "name": "python3"
  },
  "language_info": {
   "codemirror_mode": {
    "name": "ipython",
    "version": 3
   },
   "file_extension": ".py",
   "mimetype": "text/x-python",
   "name": "python",
   "nbconvert_exporter": "python",
   "pygments_lexer": "ipython3",
   "version": "3.10.12"
  }
 },
 "nbformat": 4,
 "nbformat_minor": 4
}
