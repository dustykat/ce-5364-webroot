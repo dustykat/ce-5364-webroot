{
 "cells": [
  {
   "cell_type": "markdown",
   "metadata": {},
   "source": [
    "# 2. Fundamentals (Science)\n",
    "\n",
    "This chapter presents a scientific and practical framework that explains what makes groundwater transport complex, introduces (without extensive derivations) governing equations, scales, and parameters, and emphasizes conceptual foundations and dimensional reasoning."
   ]
  },
  {
   "cell_type": "markdown",
   "metadata": {},
   "source": [
    ":::{admonition} Course Website\n",
    "[Link to Course Website](http://54.243.252.9/ce-5364-webroot/)\n",
    ":::\n",
    "\n",
    "---"
   ]
  },
  {
   "cell_type": "code",
   "execution_count": 1,
   "metadata": {
    "scrolled": true
   },
   "outputs": [
    {
     "data": {
      "text/html": [
       "<style> table {margin-left: 0 !important;} </style>\n"
      ],
      "text/plain": [
       "<IPython.core.display.HTML object>"
      ]
     },
     "metadata": {},
     "output_type": "display_data"
    }
   ],
   "source": [
    "%%html\n",
    "<style> table {margin-left: 0 !important;} </style>"
   ]
  },
  {
   "cell_type": "code",
   "execution_count": 2,
   "metadata": {
    "collapsed": true,
    "jupyter": {
     "outputs_hidden": true,
     "source_hidden": true
    },
    "scrolled": true
   },
   "outputs": [
    {
     "name": "stdout",
     "output_type": "stream",
     "text": [
      "ip-172-26-5-168\n",
      "sensei\n",
      "/opt/jupyterhub/bin/python3\n",
      "3.10.12 (main, May 27 2025, 17:12:29) [GCC 11.4.0]\n",
      "sys.version_info(major=3, minor=10, micro=12, releaselevel='final', serial=0)\n"
     ]
    }
   ],
   "source": [
    "import sys\n",
    "! hostname\n",
    "! whoami\n",
    "print(sys.executable)\n",
    "print(sys.version)\n",
    "print(sys.version_info)"
   ]
  },
  {
   "cell_type": "markdown",
   "metadata": {},
   "source": [
    "## Readings\n",
    "1. [Bedient, P.B., Rifai, H. S., and Newell, C. J. (1999). *Groundwater Contamination: Transport, and Remediation* Prentice Hall. pp. 15-34, 289-297.](https://www.amazon.com/Ground-Water-Contamination-Transport-Remediation/dp/0130138401) \n",
    "1. [Becquerel (radioactivity unit) - Wikipedia](https://en.wikipedia.org/wiki/Becquerel)\n",
    "2. [*Fluid Properties* excerpt from: Casey, T.J. (1992) Water and Wastewater Engineering Hydraulics. Oxford University Press pp. 1-27](http://54.243.252.9/ce-5364-webroot/3-Readings/FluidPropertiesReading.pdf)\n",
    "3. [*Transport Phenomenon* excerpt from: Nazarov, W.W. and Alvarez-Cohen, L (19XX) Environmental Engineering Science. Wiley. pp. 159-199 ](http://54.243.252.9/ce-5364-webroot/3-Readings/TransportPhenomenonReading.pdf)\n",
    "4. [*Advective and Dispersive Transport* excerpt from: Cheng and Bennett (20XX) Applied Contaminant Transport Modeling. Academic Press. pp. 3-59](dummy)\n",
    "5. [Fluid Mechanics Review (handwritten notes)](http://54.243.252.9/ce-5364-webroot/3-Readings/FluidMechanicsReview.PDF)\n",
    "6. [Modeling Pollution (handwritten notes)](http://54.243.252.9/ce-5364-webroot/3-Readings/ModelingPollution.PDF)\n",
    "7. [Ground Water and Surface Water A Single Resource](https://pubs.usgs.gov/circ/circ1139/)\n",
    "8. [Cleveland, T.G. (1997) *Groundwater Review* Notes to accompany \"CIVE 7332 Flow and Transport Modeling for Environmental Engineering\" at University of Houston](http://54.243.252.9/ce-5364-webroot/3-Readings/GroundwaterReview.pdf)\n",
    "9. [Zheng, C. and Bennett, G.D. (1995) pp. 3-23 *Applied Contaminant Transport Modeling* Van Nostrand Reinhold](http://54.243.252.9/ce-5364-webroot/ce5364notes/chapters/3advection/Advection.PDF)\n",
    "10. [Cleveland, T.G. (2002) *Flownets* Notes to accompany \"CIVE 7332 Flow and Transport Modeling for Environmental Engineering\" at University of Houston](http://54.243.252.9/ce-5364-webroot/3-Readings/flownet_1.pdf)\n",
    "11. [Cleveland, T.G. (1997) *Velocity Potential - Stream Function Ideal Flow Model (circa 1999) (Excel)*](http://54.243.252.9/ce-5364-webroot/ce5364notes/chapters/5nonreactivetransport/VelocityPotential-StreamFunction-FDM.xls)\n",
    "12. [Cleveland, T.G. (2002) *Advection* Notes to accompany \"CIVE 7332 Flow and Transport Modeling for Environmental Engineering\" at University of Houston](http://54.243.252.9/ce-5364-webroot/3-Readings/AdvectionNotes.pdf)\n",
    "13. [Bear, J. (1972) *Dynamics of Fluids in Porous Media* McGraw Hill (pp. 236-241)](https://d1wqtxts1xzle7.cloudfront.net/31171747/195055535-libre.pdf?1392371142=&response-content-disposition=inline%3B+filename%3DDynamics_of_fluids_in_porous_media.pdf&Expires=1695231543&Signature=fcj7Wef3HIA7wlTx~LJhmfFgQJIrRLnrwEgqd2KIjnsouiRrFZpLAgMw-gRJ7oxI1~h89bo-YpAQuhLHZc1vtNFq5d0QBrxwYRbAvr5jztdUDHWZrfjBPYBgujy5WCnrrtoN7GKrziCwbk7mDi1AUyBnC4RDidrKgBV-bMOpJR4ZR8~L6BTEPXhBAQJbLohdpWi8Ni6VUl33~rEQaum8NMcY11P6okNvXbXKft3vdYwjEK5NXezeVe6dQpYIiBcyPVqkFahRD9CFLXLHZsxXryzDT~x9pszx86ka0kXYN9y1Y7RzyAgZQaB5YWD8XZhK4w2PoIEVgIvGeuCxxt099Q__&Key-Pair-Id=APKAJLOHF5GGSLRBV4ZA)\n",
    "<!--(http://54.243.252.9/ce-5364-webroot/3-Readings/DFPM-Flownets.pdf)-->\n",
    "\n",
    "---"
   ]
  },
  {
   "cell_type": "markdown",
   "metadata": {},
   "source": [
    "## Videos\n",
    "\n",
    "- None\n",
    "\n",
    "---"
   ]
  },
  {
   "cell_type": "markdown",
   "metadata": {},
   "source": [
    "## Spreadsheets/Programs/Data\n",
    "\n",
    "- None\n",
    "\n",
    "---"
   ]
  },
  {
   "cell_type": "markdown",
   "metadata": {},
   "source": [
    "## Preliminary Concepts\n",
    "\n",
    "Solvent phase (soil, air, water) is the phase that contains the solute (constituient) phase. The amount of solute contained in the solvent is usually expressed as some kind of concentration,\n",
    "\n",
    "Concentrations are expressed in a variety of units:\n",
    "\n",
    "|Type|Meaning|Symbol|\n",
    "|---|---|---|\n",
    "|Volumetric|mass/volume|$\\frac{mg}{L}$|\n",
    "|Massic|mass/mass|$ppm$|\n",
    "|Molarity|moles/volume|$M=\\frac{mol}{L}$|\n",
    "|Molality|moles/mass|$$m=\\frac{mol}{kg}$$|\n",
    "|Mole Fraction (also partial pressures)|moles/moles|$X_{species}$|\n",
    "|Equivalents|moles$\\times$valence/volume|$Eq$|\n",
    "|Activity|disintegrations/second/volume|$\\frac{Bq}{L}$ - a contrived unit|\n",
    "\n",
    "The most common in environmental flow and transport models are volumetric and massic.  \n",
    "\n",
    "There are cases where multiple phases are present (multi-phase transport) and multiple components in a solute mixture (multi-component).\n",
    "\n",
    "Emulsions are a special kind of two-(or more)phase system where the emulsion behaves as a single phase with respect to motion.  Oil-in-water, water-in-oil, biosolids-in-water (technically a slurry), coal-in-water (a slurry) are examples of common emulsions."
   ]
  },
  {
   "cell_type": "markdown",
   "metadata": {},
   "source": [
    "I use the terms constituients and pollutants more or less interchangeably; however a pollutant reflects a value judgement - if the particular constituient is undesirable, for example methyl-ethyl death in water - then its a pollutant, otherwise its just a lowly constituient.  The distinction is irrelevant unless lawyers, judges, and money are involved - then be careful; someone goes to jail, and someone loses their doublewide if you get your mords wixed!\n",
    "\n",
    "## Non-reactive constituients\n",
    "\n",
    "Non-reactive constituients are constituients that **do not** undergo changes, exchanges, or reactions while traversing a region of interest.\n",
    "\n",
    "Solutes are constituients that are soluible in the solvent or are larger aggregates that to not constitute a distinct mobile phase from the transporting or host fluid.\n",
    "\n",
    "Examples include:\n",
    "1. Chemicals dissolved in water\n",
    "2. Solids suspended in water (liquid-solid emulsion)\n",
    "3. Oil **dispersed** in water (liquid-liquid emulsion)\n",
    "4. Water dispersed in air (liquid-gas emulsion)\n",
    "5. nitrogen dissolved in air (mixture)\n",
    "\n",
    "Examples of systems that are not strictly solvent-solute pairs is an oil-water system where each liquid has a distinct phase, such as an oil slick in an estuary (distinct from produced water from a well which is almost always an emulsion) - such a system would be a two-phase system and is dealt with using different but related tools."
   ]
  },
  {
   "cell_type": "markdown",
   "metadata": {},
   "source": [
    "## Scope\n",
    "- Sources of contamination\n",
    "- Hydrogeologic framework and transport pathways\n",
    "- Role of retardation and degradation\n",
    "\n",
    "## Essential Groundwater Review\n",
    "\n",
    "This essential review of groundwater should remind the reader of important aspects of:\n",
    "\n",
    "1. Introduction to Groundwater including: A definition of groundwater, the importance of groundwater as a natural resource, and the distinction between surface water and groundwater.\n",
    "2. Aquifers and Aquitards including: An explanation of aquifers and their properties, the role of aquitards in groundwater containment, types of aquifers (unconfined, confined, etc.).\n",
    "3. Groundwater Movement: Darcy's Law and groundwater flow, factors influencing groundwater flow rates, flow patterns in aquifers (radial flow, regional flow, etc.)\n",
    "4. Groundwater Storage and Recharge: Methods of groundwater recharge, Groundwater storage and water table fluctuations, Sustainable groundwater management\n",
    "5. Groundwater Flow Modeling: Overview of groundwater flow modeling, application of numerical models (MODFLOW, FEMWATER, etc.), use of models for aquifer characterization and contamination prediction\n",
    "6. Groundwater Extraction and Wells: Types of groundwater wells (e.g., artesian wells, extraction wells), pumping tests and their significance, groundwater extraction for drinking water, remediation, and irrigation."
   ]
  },
  {
   "cell_type": "markdown",
   "metadata": {},
   "source": [
    "## Porous Media\n",
    "\n",
    "Porous media refers to a class of materials that have **interconnected** void spaces or pores, allowing the flow and transport of fluids. In the context of groundwater, porous media plays a crucial role as it forms the subsurface medium through which water flows and contaminants can be transported. The properties and characteristics of the porous media significantly influence the movement of groundwater and the fate of contaminants within an aquifer.\n",
    "\n",
    "Two fundamental properties govern behavior of fluids in a porous media:\n",
    "\n",
    "1. The **porosity**, which represents the volume of void spaces within the material, determines the storage capacity for fluid within the porous media and affects the flow rate. Porous media with high porosity can concievably store more water, but it may also delay movement of groundwater because of reduced size of individual pores.\n",
    "\n",
    "2. The **permeability**, which describes the ease with which fluids can flow through the porous media, depends on factors such as pore size, shape, and connectivity. High-permeability materials, like coarse sand or gravel, allow water to flow more easily, whereas low-permeability materials, like clay or silt, impede water movement. Permeability influences the speed and direction of groundwater flow, as well as the potential for contaminants to migrate through the aquifer.\n",
    "\n",
    "Porous media also exhibits **heterogeneity**, meaning it can have spatial variations in these fundamental properties. This heterogeneity arises from geological processes, such as sediment deposition, compaction, and tectonic activity. Variations in porosity and permeability within a porous medium lead to complex flow patterns, preferential flow paths, and the potential for localized contaminant accumulation or dispersion. Understanding the heterogeneity of porous media is crucial for accurately predicting groundwater flow and contaminant transport.\n",
    "\n",
    "Interactions between fluids and porous media involves various physical and chemical processes. **Advection**, the bulk movement of groundwater, is influenced by the permeability and hydraulic gradient. **Dispersion**, the spreading of solutes due to molecular diffusion and mechanical mixing, occurs as water moves through the porous medium. **Adsorption** refers to the attachment of contaminants to the solid surfaces of the porous media, affecting their mobility and persistence. These processes, along with others like biodegradation and chemical reactions, shape the fate and transport of contaminants in groundwater.\n",
    "\n"
   ]
  },
  {
   "cell_type": "markdown",
   "metadata": {},
   "source": [
    "## Saturated Zone\n",
    "\n",
    "The saturated zone refers to the region within the subsurface where all the available pore spaces are filled with water, creating a saturated condition. It is an important concept in groundwater hydrology and plays a crucial role in groundwater flow and contaminant transport.\n",
    "\n",
    "The saturated zone begins at the water table, which represents the boundary between the unsaturated zone (where there is both air and water in the pore spaces) and the saturated zone (where all pore spaces are filled with water). The depth of the saturated zone can vary depending on factors such as topography, geology, and seasonality.\n",
    "\n",
    "![](vertdist1.png)\n",
    "\n",
    "Within the saturated zone, groundwater flow occurs as water moves through the interconnected pore spaces under the influence of gravity. The direction and speed of groundwater flow are governed by hydraulic gradients, which are the differences in hydraulic head (a measure of the potential energy of groundwater) between different locations. The saturated zone acts as a conduit for the movement of water from areas of higher hydraulic head to areas of lower hydraulic head.\n",
    "\n",
    "The properties of the saturated zone, such as its permeability, porosity, and heterogeneity, have a significant impact on groundwater flow. Permeability determines how easily water can move through the saturated zone. Materials with high permeability, like gravel or sand, allow for faster groundwater flow, while low-permeability materials, such as clay or shale, impede flow. Porosity, the volume of void spaces, determines the amount of water that can be stored in the saturated zone.\n",
    "\n",
    "Heterogeneity in the saturated zone refers to variations in the properties of the porous medium, such as permeability and porosity, over space. This heterogeneity can influence the flow of groundwater by creating preferential flow paths or areas of localized flow convergence or divergence. Understanding the heterogeneity of the saturated zone is important for accurate modeling and prediction of groundwater flow patterns.\n",
    "\n",
    "Contaminant transport also occurs within the saturated zone. Once contaminants enter the groundwater system, they can be transported through the interconnected pore spaces. The movement of contaminants is influenced by factors such as advection (bulk movement of groundwater), dispersion (spreading of contaminants due to mechanical mixing and molecular diffusion), and sorption (attachment of contaminants to solid surfaces). The saturated zone acts as a medium for the migration and dispersion of contaminants, and its properties influence the rate and extent of contaminant transport.\n"
   ]
  },
  {
   "cell_type": "markdown",
   "metadata": {},
   "source": [
    "## Unsaturated Zone \n",
    "\n",
    "The unsaturated zone, also known as the vadose zone or the zone of aeration, is the region within the subsurface where the pore spaces contain both air and water. In this zone, the water content is less than the total porosity of the material. The unsaturated zone extends from the land surface down to the water table, where it transitions into the saturated zone.\n",
    "\n",
    "![](vertdist3.png)\n",
    "\n",
    "The unsaturated zone is characterized by a dynamic water content profile that changes over time due to factors such as precipitation, evaporation, and plant uptake. At the land surface, water infiltrates through the soil and rock layers until it reaches a point where the pore spaces are completely saturated. This point is known as the water table, which marks the transition to the saturated zone.\n",
    "\n",
    "The movement of water in the unsaturated zone is influenced by capillary forces and gravity. Capillary forces cause water to rise in small pores against the force of gravity, allowing it to be retained in the unsaturated zone. The rate of water movement through the unsaturated zone is generally slower compared to the saturated zone due to the presence of air and the lower hydraulic conductivity of unsaturated materials.\n",
    "\n",
    "The unsaturated zone plays a crucial role in controlling the recharge of groundwater. It acts as a buffer, allowing for the filtration, storage, and gradual release of water to the underlying aquifer. The unsaturated zone also contributes to the purification of water through processes such as filtration, adsorption, and biodegradation as water percolates through the soil and rock layers.\n",
    "\n",
    "In terms of contaminant transport, the unsaturated zone can act as a barrier or filter, reducing the potential for contaminants to reach the groundwater system. The unsaturated materials can adsorb or retain contaminants, and the slower movement of water through this zone provides additional time for degradation or removal of contaminants.\n",
    "\n"
   ]
  },
  {
   "cell_type": "markdown",
   "metadata": {},
   "source": [
    "## Aquifers \n",
    "\n",
    "An [**aquifer**](https://civillearners.com/2021/11/07/types-of-aquifers-detailed-explanation/) is a geologic formation that (i) contains and (ii) transmits water in economically useful quantities under normal field conditions.\n",
    "\n",
    "Some related terms include:\n",
    "\n",
    "1. An **aquitard** is a geologic formation or layer that has low permeability, restricting the flow of groundwater. It acts as a barrier or confining layer that limits the movement of water between aquifers. Unlike aquifers, which are capable of storing and transmitting water, aquitards have a lower hydraulic conductivity, impeding or retarding the flow of groundwater. Aquitards can consist of various materials such as clay, silt, shale, or unconsolidated sediment, which offer limited pathways for groundwater movement. They play a crucial role in groundwater systems by confining and isolating aquifers, influencing groundwater storage, and controlling the vertical movement of water.\n",
    "2. An **aquifuge** is a geologic formation or layer that is essentially impermeable to groundwater flow. Unlike aquitards, which have limited permeability, aquifuges are completely impermeable, meaning they do not allow the movement of water. Aquifuges act as barriers that prevent the flow of groundwater between aquifers and restrict the vertical or lateral movement of water. They are typically composed of dense and impermeable materials such as unfractured bedrock, solid clay, or thick layers of compacted till. Aquifuges are important in groundwater hydrology as they create boundaries or seals that confine and isolate aquifers, preventing the intermixing or contamination of groundwater between different layers.\n",
    "3. An **aquiclude** is a geologic formation or layer that is completely impermeable to groundwater flow. It is similar to an aquifuge in that it acts as a barrier to the movement of water, but it differs in that it is typically much thicker and more extensive. Aquicludes are composed of highly impermeable materials, such as solid rock or dense clay, which do not allow water to pass through them. They effectively impede the flow of groundwater and can serve as long-lasting barriers between aquifers. Aquicludes are important features in groundwater systems as they help confine and isolate aquifers, preventing the vertical or lateral movement of water and maintaining the integrity of groundwater resources.\n",
    "\n",
    "Aquifers are typically categorized as **confined** or **unconfined**; these two types of aquifers that differ in their geological characteristics and water storage conditions. \n",
    "\n",
    "![](aquifersystems.png)\n",
    "\n",
    ">**Definition**:<br>\n",
    "**Confined Aquifer**: A confined aquifer, also known as an artesian aquifer, is an aquifer that is bounded above and below by impermeable layers, such as clay or dense rock, which confine the groundwater within a confined space.<br>\n",
    "**Unconfined Aquifer**: An unconfined aquifer, also called a water table aquifer, is an aquifer where the upper boundary, known as the water table, is not confined by an impermeable layer, allowing water to freely move up and down through the aquifer.<br>\n",
    "\n",
    ">**Recharge**:<br>\n",
    "**Confined Aquifer**: Confined aquifers are typically recharged in areas where the confining layers are absent or fractured, allowing water to infiltrate from the surface. Recharge to confined aquifers can be more limited and localized.<br>\n",
    "**Unconfined Aquifer**: Unconfined aquifers are primarily recharged through precipitation, where water percolates through the unsaturated zone until it reaches the water table. Recharge to unconfined aquifers can occur over larger areas.<br>\n",
    "\n",
    ">**Water Storage and Pressure**:<br>\n",
    "**Confined Aquifer**: Due to the confining layers, water in confined aquifers is under higher pressure and can be stored under artesian conditions. When a well is drilled into a confined aquifer, the water may rise above the ground level due to the pressure exerted by the confined aquifer.<br>\n",
    "**Unconfined Aquifer**: Water in unconfined aquifers is not under significant pressure and is stored under the water table. The height of the water table fluctuates based on factors such as recharge rates, extraction, and seasonality.<br>\n",
    "\n",
    ">**Vulnerability to Contamination**:<br>\n",
    "**Confined Aquifer**: Confined aquifers are generally less vulnerable to contamination compared to unconfined aquifers. The presence of confining layers acts as a barrier, limiting the potential for contaminants to infiltrate the aquifer.<br>\n",
    "**Unconfined Aquifer**: Unconfined aquifers are more susceptible to contamination as there is no confining layer to impede the movement of contaminants. Contaminants can more easily reach the water table and potentially affect the groundwater quality.\n",
    "<br>\n",
    "\n",
    ">**Extraction and Well Productivity**:<br>\n",
    "**Confined Aquifer**: Extraction of water from a confined aquifer typically yields higher well productivity due to the increased pressure within the aquifer. Wells drilled into confined aquifers can have a steady and sustained water supply.<br>\n",
    "**Unconfined Aquifer**: Extraction from unconfined aquifers may yield variable well productivity depending on the fluctuating water table. The yield of wells in unconfined aquifers may be influenced by seasonal variations in recharge and the proximity to other water sources.\n"
   ]
  },
  {
   "cell_type": "markdown",
   "metadata": {},
   "source": [
    "A **leaky aquifer** refers to an aquifer that exhibits characteristics of both an aquifer and an aquitard. It is a geological formation that has varying degrees of permeability and acts as a partial barrier to the flow of groundwater. In a leaky aquifer, the presence of semi-permeable layers or zones with lower permeability allows some water to pass through, while also impeding or retarding the flow to some extent.\n",
    "\n",
    "Leaky aquifers are distinct from fully confined aquifers or unconfined aquifers, as they possess intermediate characteristics. They can be seen as \"leaky\" due to the reduced hydraulic conductivity of the semi-permeable layers present within the aquifer system. These semi-permeable layers act as partial barriers, restricting or slowing down the movement of groundwater between different zones or layers.\n",
    "\n",
    "The presence of leaky aquifers can have significant implications for groundwater management and hydrogeological assessments. They can influence the flow paths, distribution, and quality of groundwater within an aquifer system. Understanding the extent and properties of leaky aquifers is crucial for accurately modeling groundwater flow, assessing contaminant transport, and managing water resources effectively."
   ]
  },
  {
   "cell_type": "markdown",
   "metadata": {},
   "source": [
    "## Storage\n",
    "\n",
    "Storativity is the amount of water added to/released from storage per unit change in head per unit area of aquifer.  Mechanisms of storage are draining and filling of the pore space (unconfined) and compression/decompression of the solid matrix and water (confined).\n",
    "\n",
    "In confined aquifers the storage coefficient is denoted by the symbol $S$.  In unconfined aquifers the storage coefficient is the specific yield and is denoted by $S_y$.  The amount remaining is called the specific retention $S_r$.  The sum of these two terms is  the porosity."
   ]
  },
  {
   "cell_type": "markdown",
   "metadata": {},
   "source": [
    "## Transport (of Water)\n",
    "\n",
    "The ability to convey water is measured by the permeability, in the case of water it is called the hydraulic conductivtiy.  It is a combined property of porous media properties and fluid properties, the usual symbol is $K$.\n",
    "\n",
    ":::{note} The hydraulic conductivity for porous media plays the same role as the friction factor in pipe flow, which is also a combined property of pipe material and fluid properties.:::\n",
    "\n",
    "The ability of an entire thickness of aquifer to transmit water is called the transmissivity; the usual symbol is $T$"
   ]
  },
  {
   "cell_type": "markdown",
   "metadata": {},
   "source": [
    "## Darcy's Law\n",
    "\n",
    "Darcy's Law is a fundamental principle in hydrogeology that describes the movement of groundwater through porous media and its transport of contaminants. It provides a mathematical relationship between the flow rate of groundwater, the hydraulic gradient, and the properties of the porous medium.\n",
    "\n",
    "In the context of groundwater flow, Darcy's Law states that the flow rate of groundwater (Q) is directly proportional to the hydraulic conductivity (K) of the porous medium, the cross-sectional area perpendicular to the flow (A), and the hydraulic gradient (∇h) along which the groundwater is moving. Mathematically, it can be expressed as:\n",
    "\n",
    "Q = -K * A * ∇h\n",
    "\n",
    "Here, the negative sign indicates that groundwater flows from higher hydraulic head (pressure) to lower hydraulic head.\n",
    "\n",
    "Darcy's Law is also applicable to the transport of dissolved contaminants in groundwater. In this case, it is modified to include the concentration of the contaminant (C) and its dispersion coefficient (D):\n",
    "\n",
    "Q = -D * A * (∇C / C)\n",
    "\n",
    "This modified form describes the movement of contaminants within the flowing groundwater. The dispersion coefficient accounts for the spreading and mixing of the contaminant as it moves through the porous medium, due to the heterogeneity of the subsurface.\n",
    "\n",
    "Overall, Darcy's Law serves as a cornerstone in groundwater hydrology and contaminant transport studies, providing a quantitative basis for understanding and modeling the behavior of groundwater flow and mass transport in various geological settings.\n",
    "\n",
    "\n",
    "\n"
   ]
  },
  {
   "cell_type": "markdown",
   "metadata": {},
   "source": [
    "## Pore Velocity\n",
    "\n",
    "Pore velocity, in the context of groundwater flow, refers to the speed at which water molecules move through the interconnected void spaces (pores) within a porous medium, such as soil or rock. It is a measure of the actual velocity of water within these tiny channels and cavities, which collectively form the pathways for groundwater movement.\n",
    "\n",
    "Pore velocity is influenced by several factors, including the hydraulic gradient (the change in hydraulic head per unit distance), the hydraulic conductivity of the porous medium (which dictates how easily water can flow through it), and the porosity of the material (the volume of pore space compared to the total volume of the material). Additionally, the degree of saturation and the properties of the fluid itself also play a role in determining pore velocity.\n",
    "\n",
    "Understanding pore velocity is crucial for assessing groundwater flow rates, transport of contaminants, and the overall behavior of groundwater within subsurface formations. It helps hydrogeologists and scientists model and predict the movement of groundwater and the transport of dissolved substances, providing valuable insights into water resource management, environmental impact assessment, and remediation efforts.\n"
   ]
  },
  {
   "cell_type": "markdown",
   "metadata": {},
   "source": [
    "## Anisotropy\n",
    "\n",
    "Anisotropy in the context of groundwater flow refers to the property of subsurface materials that causes the flow of groundwater to exhibit varying degrees of preferential directionality. In other words, the hydraulic conductivity of the underground formation is not the same in all directions. This anisotropic behavior is often observed in geological formations composed of layered or oriented materials such as sedimentary rocks, fractured bedrock, or layered aquifer systems.\n",
    "\n",
    "Anisotropy can significantly impact the movement of groundwater. When the hydraulic conductivity is higher in one direction compared to another, groundwater will tend to flow more readily along the path of least resistance, following the direction of higher conductivity. This can lead to uneven flow patterns and the development of preferential flow pathways within the subsurface.\n",
    "\n",
    "Understanding anisotropy is crucial for accurate modeling and prediction of groundwater movement and contaminant transport. Groundwater flow simulations must account for anisotropic behavior to effectively predict the direction and rate of groundwater flow, as well as the dispersion and spread of contaminants through the subsurface. Neglecting anisotropy can lead to inaccurate predictions and improper management of groundwater resources and contamination issues.\n",
    "\n",
    "### Principal Directions of Hydraulic Conductivity\n",
    "\n",
    "To determine the principal values of the hydraulic conductivity tensor in 2D, you would typically follow these steps:\n",
    "\n",
    "> **Define the Hydraulic Conductivity Tensor**: The hydraulic conductivity tensor represents the anisotropic properties of the subsurface material in terms of its ability to transmit water. In 2D, the hydraulic conductivity tensor is a symmetric matrix with three components: Kxx, Kyy, and Kxy (or Kyx). Kxx represents the hydraulic conductivity in the x-direction, Kyy represents the hydraulic conductivity in the y-direction, and Kxy (or Kyx) represents the cross-component.\n",
    "\n",
    "> **Formulate the Hydraulic Conductivity Matrix**: Arrange the components of the hydraulic conductivity tensor into a 2x2 matrix, typically denoted as [K]. In matrix form, the hydraulic conductivity tensor for 2D becomes:\n",
    "\n",
    "$$\n",
    "\\begin{gather}\n",
    "\\mathbf{K} =\n",
    "\\begin{pmatrix}\n",
    "K_{xx} & K_{xy} \\\\\n",
    "~\\\\\n",
    "K_{yx} & K_{yy} \\\\\n",
    "\\end{pmatrix}\n",
    "~\n",
    "\\end{gather}\n",
    "$$\n",
    "\n",
    ">**Solve for Eigenvalues**: Determine the eigenvalues of the hydraulic conductivity matrix [K]. Eigenvalues represent the principal values of the matrix and provide information about the directional properties of the hydraulic conductivity tensor.\n",
    "\n",
    ">**Calculate Principal Values**: The eigenvalues of the hydraulic conductivity matrix [K] correspond to the principal values of the hydraulic conductivity tensor. These principal values represent the maximum and minimum hydraulic conductivities in the directions determined by the corresponding eigenvectors.\n",
    "\n",
    ">**Interpret the Results**: The principal values of the hydraulic conductivity tensor provide insights into the anisotropic nature of fluid flow in the subsurface. The larger eigenvalue corresponds to the direction of maximum hydraulic conductivity, while the smaller eigenvalue represents the direction of minimum hydraulic conductivity.\n",
    "\n",
    "Obtaining accurate values for the hydraulic conductivity components involves field measurements and laboratory testing of soil or rock samples.\n",
    "\n",
    "In 3D the determination is simply the natural extension of the 2D process.  The matrix (tensor) is\n",
    "\n",
    "$$\n",
    "\\begin{gather}\n",
    "\\mathbf{K} =\n",
    "\\begin{pmatrix}\n",
    "K_{xx} & K_{xy} & K_{xz}\\\\\n",
    "~\\\\\n",
    "K_{yx} & K_{yy} & K_{yz} \\\\\n",
    "~\\\\\n",
    "K_{zx} & K_{zy} & K_{zz} \\\\\n",
    "\\end{pmatrix}\n",
    "~\n",
    "\\end{gather}\n",
    "$$"
   ]
  },
  {
   "cell_type": "markdown",
   "metadata": {},
   "source": [
    "## Transport Processes\n",
    "\n",
    "The main physical transport processes are listed below, these are exanined in detail later in the notes.\n",
    "\n",
    ":::{note}\n",
    "Reactions are essentially treated as boundary conditions and while they affect behavior they are not in themselves considered as transport processes. They are most definitely fate processes, so we won't get to ignore them!\n",
    ":::\n",
    "\n",
    "### Advection\n",
    "\n",
    "Advection is the process by which a physical property, such as heat or a chemical substance, is transported by the motion of a fluid. This motion can be due to *convection*, where a fluid is heated or cooled and subsequently moves because of intrinsic density changes, or it can be due to the movement of the fluid itself by pressure gradients, such as in a river or ocean current, which is called *forced convection*.\n",
    "\n",
    ":::{note}\n",
    "In meteorology, advection refers to the horizontal movement of air or other atmospheric properties, such as moisture or temperature, by the wind. For example, warm air moving from the tropics to the poles is an example of advection.\n",
    "\n",
    "In oceanography, advection refers to the horizontal movement of water or other oceanic properties, such as salinity or nutrients, by ocean currents.\n",
    ":::\n",
    "\n",
    "In our discussion herein, advection is the transport of solutes by the motion of the host fluid.\n",
    "\n",
    "### Diffusion\n",
    "\n",
    "Solute diffusion in groundwater is the process by which solutes, such as dissolved contaminants or nutrients, move through the pore spaces and fractures of soil and rock in the subsurface. The rate and direction of solute diffusion are influenced by several factors, including the concentration gradient, the properties of the solute and the porous medium, and the temperature and pressure of the groundwater.\n",
    "\n",
    "The movement of solutes in groundwater can occur through both advection and diffusion. Advection refers to the movement of solutes due to the bulk flow of groundwater, while diffusion refers to the movement of solutes from areas of high concentration to areas of low concentration due to the random motion of molecules.\n",
    "\n",
    "The diffusion of solutes in groundwater is affected by the porosity and permeability of the subsurface, as well as the molecular properties of the solutes. For example, larger and more complex molecules may diffuse more slowly than smaller, simpler molecules. The temperature of the groundwater can also affect solute diffusion, as higher temperatures generally result in faster molecular motion and increased diffusion rates.\n",
    "\n",
    "Understanding solute diffusion in groundwater is important for predicting the movement and fate of contaminants in the subsurface, as well as for managing and protecting groundwater resources. Models of solute diffusion can be used to predict the transport of contaminants in the subsurface and to evaluate the effectiveness of different remediation strategies.\n",
    "\n",
    "A more compact definition is that diffusion is the mixing of solutes by Brownian (random) motion processes. Net transport is proportional to concentration gradients.\n",
    "\n",
    "### Dispersion\n",
    "\n",
    "Solute dispersion in groundwater refers to the spreading and mixing of solutes, such as dissolved contaminants or nutrients, as they move through the pore spaces and fractures of soil and rock in the subsurface. The rate and extent of solute dispersion are influenced by several factors, including the properties of the solute and the porous medium, the flow velocity of the groundwater, and the geometry of the flow paths.\n",
    "\n",
    "The movement of solutes in groundwater can occur through both advection and dispersion. Advection refers to the movement of solutes due to the bulk flow of groundwater, while dispersion refers to the spreading and mixing of solutes as they move through the subsurface due to variations in the velocity and direction of groundwater flow.\n",
    "\n",
    "Solute dispersion in groundwater can be characterized by several different parameters, including the longitudinal dispersivity, which describes the spreading of solutes parallel to the direction of groundwater flow, and the transverse dispersivity, which describes the spreading of solutes perpendicular to the direction of groundwater flow.\n",
    "\n",
    "Understanding solute dispersion in groundwater is important for predicting the movement and fate of contaminants in the subsurface, as well as for managing and protecting groundwater resources. Models of solute dispersion can be used to predict the transport of contaminants in the subsurface and to evaluate the effectiveness of different remediation strategies.\n",
    "\n",
    "Observe the definition is practically the same as that for diffusion, except the temperature importance is replaced by the concepts of dispersivity.\n",
    "\n",
    "The similarity arises in part because ultimately a Fickian-type descrpition is used to explain behavior for either process (the meanings and magnitudes of the dispersion coeficient and the diffusion coefficient are quite different).\n",
    "A compact definition is that dispersion is the mixing of solutes by small and large scale variations in the velocity field of the host fluid caused by shear resistance, turbulent fluctuations, and the braided flow paths.  Net transport is usually modeled as proportional to concentration gradients. \n",
    "\n",
    "Dispersion appears in several types:\n",
    "1. Shear induced dispersion (pipes and open channel flows)\n",
    "2. Turbulent dispersion (open flows)\n",
    "3. Hydrodynamic dispersion (porous flows)"
   ]
  },
  {
   "cell_type": "markdown",
   "metadata": {},
   "source": [
    "Pull chapter from Groundwater to fit here.\n",
    "\n",
    "[Well Hydraulics and Aquifer Tests](https://pubs.usgs.gov/wsp/wsp1536-E/pdf/wsp_1536-E.pdf)"
   ]
  },
  {
   "cell_type": "markdown",
   "metadata": {},
   "source": [
    "## "
   ]
  },
  {
   "cell_type": "markdown",
   "metadata": {},
   "source": [
    "## "
   ]
  },
  {
   "cell_type": "markdown",
   "metadata": {},
   "source": []
  },
  {
   "cell_type": "code",
   "execution_count": null,
   "metadata": {},
   "outputs": [],
   "source": []
  }
 ],
 "metadata": {
  "kernelspec": {
   "display_name": "Python 3 (ipykernel)",
   "language": "python",
   "name": "python3"
  },
  "language_info": {
   "codemirror_mode": {
    "name": "ipython",
    "version": 3
   },
   "file_extension": ".py",
   "mimetype": "text/x-python",
   "name": "python",
   "nbconvert_exporter": "python",
   "pygments_lexer": "ipython3",
   "version": "3.10.12"
  }
 },
 "nbformat": 4,
 "nbformat_minor": 4
}
