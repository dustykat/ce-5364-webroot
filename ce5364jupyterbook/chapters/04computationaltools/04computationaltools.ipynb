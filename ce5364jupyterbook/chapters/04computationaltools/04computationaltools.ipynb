{
 "cells": [
  {
   "cell_type": "markdown",
   "metadata": {},
   "source": [
    "# 4. Introduction to Modeling Environments\n",
    "\n",
    "## Scope\n",
    "- Overview of Jupyter Notebooks and Spreadsheets for analytical modeling\n",
    "- Introduction to MODFLOW6 and FLOPY (Groundwater Flow and Solute Transport)\n",
    "- Introduction to VS2DI (Variably Saturated Fluid Flow and Solute Transport)\n",
    "- Comparison of analytical and numerical approaches\n",
    "  "
   ]
  },
  {
   "cell_type": "markdown",
   "metadata": {},
   "source": [
    "## Calculators and Spreadsheets\n",
    "\n",
    "These tools are useful for most of the 1D situations (with some programming 2D can be addressed using spreadsheets).  \n",
    "\n",
    "In most analytical solutions you will need some special functions:\n",
    "\n",
    "- erf() error function\n",
    "- erfc() complimentary error function\n",
    "- besseli(,) bessel function type i\n",
    "- besselj(,) bessel function type j\n",
    "- Ei() exponential integral \n",
    "\n",
    "There are a few more, but these handle many of the cases. In Excel they are part of the Analysis Add-in, similarily with LibreOffice use Insert/Function/AddIn and a pull down menu appears with; alternatively they can be programmed using VBA and polynomial approximations to the functions.\n",
    "\n"
   ]
  },
  {
   "cell_type": "markdown",
   "metadata": {},
   "source": [
    "## Specialized Software\n",
    "\n",
    "More complex cases usually will require special software:\n",
    "\n",
    "- MODFLOW\n",
    "- MODPATH\n",
    "- MT3D\n",
    "- USGS-MOC (2D)\n",
    "- Chemflow-2000 are envisioned in this course.\n",
    "\n",
    "In many instances the output must be post processed to make graphical representations."
   ]
  },
  {
   "cell_type": "markdown",
   "metadata": {},
   "source": [
    ":::{note}\n",
    "We will probably use USGS-MOC, and output postprocessing for this course.\n",
    ":::\n",
    "\n",
    "\n"
   ]
  },
  {
   "cell_type": "markdown",
   "metadata": {},
   "source": [
    "## References\n",
    "\n",
    "1. [MODFLOW/MT3D](https://www.usgs.gov/software/mt3d-usgs-groundwater-solute-transport-simulator-modflow)\n",
    "2. [MODFLOW/MT3D Python Wrappers](https://flopy.readthedocs.io/en/3.4.2/introduction.html)\n",
    "2. [USGS-MOC](https://water.usgs.gov/nrp/gwsoftware/moc/moc.html)\n",
    "3. [Chemflow-2000](https://www.epa.gov/water-research/chemflo-2000-interactive-software-simulating-water-and-chemical-movement-unsaturated)"
   ]
  },
  {
   "cell_type": "code",
   "execution_count": null,
   "metadata": {},
   "outputs": [],
   "source": []
  }
 ],
 "metadata": {
  "kernelspec": {
   "display_name": "Python 3 (ipykernel)",
   "language": "python",
   "name": "python3"
  },
  "language_info": {
   "codemirror_mode": {
    "name": "ipython",
    "version": 3
   },
   "file_extension": ".py",
   "mimetype": "text/x-python",
   "name": "python",
   "nbconvert_exporter": "python",
   "pygments_lexer": "ipython3",
   "version": "3.10.12"
  }
 },
 "nbformat": 4,
 "nbformat_minor": 4
}
