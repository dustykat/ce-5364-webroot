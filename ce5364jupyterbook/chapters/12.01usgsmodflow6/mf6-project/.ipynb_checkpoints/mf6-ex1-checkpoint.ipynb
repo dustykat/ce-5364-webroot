{
 "cells": [
  {
   "cell_type": "markdown",
   "metadata": {},
   "source": [
    "# Reverse-Engineered Transport Model\n",
    "\n",
    "Here we reverse-engineer the entire model system so we can read from specific files prepared independently (circa 1960's style) so that the need for python skills are reduced (at the expense of file building)\n",
    "\n",
    "## Workflow\n",
    "\n",
    "The modeling workflow is:\n",
    "1. Initial package set-up (Python package loading -- assume packages already installed in the kernel)\n",
    "2. Read model structure data (I named the file \"ex1-input-base.txt\", you can rename as needed)\n",
    "3. Read hydraulic conductivity array  \n",
    "4. Read boundary array\n",
    "5. Read idomain array\n",
    "6. Read storativity array\n",
    "7. Read porosity array\n",
    "8. Read wells (once per stress period)\n",
    "\n",
    ":::{warning}\n",
    "The next two code cells are specific to my machine, the reset wipes the lernel memory when it attempts to build the notebook for caching and subsequent typesetting.  The `warnings ignore` turns off a lot of deprecation warnings.  The online reference is funny enough to share\n",
    "\n",
    "> You should just fix your code but just in case,\n",
    "\n",
    "```\n",
    "import warnings\n",
    "warnings.filterwarnings(\"ignore\", category=DeprecationWarning) \n",
    "```\n",
    "\n",
    ":::\n"
   ]
  },
  {
   "cell_type": "code",
   "execution_count": 1,
   "metadata": {},
   "outputs": [],
   "source": [
    "%reset -f"
   ]
  },
  {
   "cell_type": "code",
   "execution_count": 2,
   "metadata": {},
   "outputs": [],
   "source": [
    "import warnings\n",
    "warnings.filterwarnings('ignore',category=DeprecationWarning)"
   ]
  },
  {
   "cell_type": "markdown",
   "metadata": {},
   "source": [
    ":::{note}\n",
    "The script generates a lot of output that are suppressed by a `;`  Comment the character out to re-enable full output (which is damn helpful for debugging the script!)\n",
    ":::\n",
    "\n",
    "## Initial setup\n",
    "\n",
    "Import dependencies, define the example name and workspace, and read settings from environment variables."
   ]
  },
  {
   "cell_type": "code",
   "execution_count": 3,
   "metadata": {},
   "outputs": [],
   "source": [
    "import os\n",
    "import pathlib as pl\n",
    "from pprint import pformat\n",
    "\n",
    "import flopy\n",
    "import git\n",
    "import matplotlib.pyplot as plt\n",
    "from matplotlib.colors import ListedColormap\n",
    "import numpy as np\n",
    "from flopy.plot.styles import styles\n",
    "from modflow_devtools.misc import get_env, timed\n",
    "import warnings\n",
    "warnings.filterwarnings('ignore',category=DeprecationWarning)"
   ]
  },
  {
   "cell_type": "markdown",
   "metadata": {},
   "source": [
    ":::{note}\n",
    "The code block above loads various modules into the environment; they must exist and be loaded into the kernel - if not you get a warning \"Module Not Found\" and will have to install into the kernel (i.e. `pip -m install module`, or the `conda` equivalent\n",
    "Filter warnings repeated to achieve \"for sure ...\" that the filter is applied.  By design the filter will not stop ERRORS, and warnings issued within functions will still display, but it will address one annoying deprecation error.\n",
    ":::\n",
    "\n",
    "### Define parameters\n",
    "\n",
    "Define model units, parameters and other settings."
   ]
  },
  {
   "cell_type": "code",
   "execution_count": 4,
   "metadata": {},
   "outputs": [],
   "source": [
    "# Read control file\n",
    "filename = \"ex1-input-base.txt\"\n",
    "# Read the file\n",
    "afile = open(filename,\"r\")  # connect and read file for base input\n",
    "lines = []\n",
    "for line in afile:\n",
    "    lines.append(line.rstrip('\\n'))\n",
    "afile.close()\n",
    "# Assign Properties\n",
    "length_units= lines[0]\n",
    "time_units= lines[1]\n",
    "nlay = int(lines[2])  # Number of layers\n",
    "nrow = int(lines[3])  # Number of rows\n",
    "ncol = int(lines[4])  # Number of columns\n",
    "delr = float(lines[5])  # Column width ($m$)\n",
    "delc = float(lines[6])  # Row width ($m$)\n",
    "delz = float(lines[7])  # Layer thickness ($m$)\n",
    "top  = float(lines[8])  # Top of the model ($m$)\n",
    "\n",
    "# more above"
   ]
  },
  {
   "cell_type": "code",
   "execution_count": 5,
   "metadata": {},
   "outputs": [],
   "source": [
    "# Read hydraulic conductivity array\n",
    "filename = \"ex1-input-hydcond.txt\"\n",
    "hk = []\n",
    "# Read the file\n",
    "afile = open(filename,\"r\")  # connect and read file for base input\n",
    "for ilay in range(nlay):\n",
    "    for line in afile:\n",
    "        hk.append([float(n) for n in line.strip().split(',')])\n",
    "afile.close()\n",
    "# convert into numpy array\n",
    "hk = np.array(hk)"
   ]
  },
  {
   "cell_type": "code",
   "execution_count": 6,
   "metadata": {},
   "outputs": [],
   "source": [
    "# Read boundary array\n",
    "filename = \"ex1-input-ibound.txt\"\n",
    "ibound = []\n",
    "# Read the file\n",
    "afile = open(filename,\"r\")  # connect and read file for base input\n",
    "for ilay in range(nlay):\n",
    "    for line in afile:\n",
    "        ibound.append([int(n) for n in line.strip().split(',')])\n",
    "afile.close()\n",
    "# convert into numpy array\n",
    "ibound = np.array(ibound)"
   ]
  },
  {
   "cell_type": "code",
   "execution_count": 7,
   "metadata": {},
   "outputs": [],
   "source": [
    "# Read idomain array\n",
    "filename = \"ex1-input-idomain.txt\"\n",
    "idomain = []\n",
    "# Read the file\n",
    "afile = open(filename,\"r\")  # connect and read file for base input\n",
    "for ilay in range(nlay):\n",
    "    for line in afile:\n",
    "        idomain.append([int(n) for n in line.strip().split(',')])\n",
    "afile.close()\n",
    "# convert into numpy array\n",
    "idomain = np.array(idomain)"
   ]
  },
  {
   "cell_type": "code",
   "execution_count": 8,
   "metadata": {},
   "outputs": [],
   "source": [
    "# Read storativity array\n",
    "filename = \"ex1-input-storage.txt\"\n",
    "ss_array = []\n",
    "# Read the file\n",
    "afile = open(filename,\"r\")  # connect and read file for base input\n",
    "for ilay in range(nlay):\n",
    "    for line in afile:\n",
    "        ss_array.append([float(n) for n in line.strip().split(',')])\n",
    "afile.close()\n",
    "# convert into numpy array\n",
    "ss_array = np.array(ss_array)"
   ]
  },
  {
   "cell_type": "code",
   "execution_count": 9,
   "metadata": {},
   "outputs": [],
   "source": [
    "# Read porosity array\n",
    "filename = \"ex1-input-porosity.txt\"\n",
    "pors_array = []\n",
    "# Read the file\n",
    "afile = open(filename,\"r\")  # connect and read file for base input\n",
    "for ilay in range(nlay):\n",
    "    for line in afile:\n",
    "        pors_array.append([float(n) for n in line.strip().split(',')])\n",
    "afile.close()\n",
    "# convert into numpy array\n",
    "pors_array = np.array(pors_array)"
   ]
  },
  {
   "cell_type": "code",
   "execution_count": 10,
   "metadata": {},
   "outputs": [],
   "source": [
    "# Model units\n",
    "#length_units = \"meters\"\n",
    "#time_units = \"seconds\"\n",
    "\n",
    "# Model parameters\n",
    "#nlay = 1  # Number of layers\n",
    "#nrow = 18  # Number of rows\n",
    "#ncol = 14  # Number of columns\n",
    "#delr = 100.0  # Column width ($m$)\n",
    "#delc = 100.0  # Row width ($m$)\n",
    "#delz = 10.0  # Layer thickness ($m$)\n",
    "#top = 0.0  # Top of the model ($m$)\n",
    "#prsity = 0.3  # Porosity - array reader above\n",
    "k1 = 1.474e-4  # Horiz. hyd. conductivity of medium grain material ($m/sec$)\n",
    "k2 = 1.474e-7  # Horiz. hyd. conductivity of fine grain material ($m/sec$)\n",
    "inj = 0.001  # Injection well rate ($m^3/sec$)\n",
    "ext = -0.0189  # Extraction well pumping rate ($m^3/sec$)\n",
    "al = 20.0  # Longitudinal dispersivity ($m$)\n",
    "trpt = 0.2  # Ratio of horiz. transverse to longitudinal dispersivity ($m$)\n",
    "perlen = 2.0  # Simulation time ($years$)\n",
    "\n",
    "# Additional model input\n",
    "#hk = k1 * np.ones((nlay, nrow, ncol), dtype=float)\n",
    "#hk[:, 5:8, 1:8] = k2\n",
    "laytyp = icelltype = 0\n",
    "\n",
    "# Active model domain\n",
    "#ibound = np.ones((nlay, nrow, ncol), dtype=int)\n",
    "#ibound[0, 0, :] = -1\n",
    "#ibound[0, -1, :] = -1\n",
    "#idomain = np.ones((nlay, nrow, ncol), dtype=int)\n",
    "icbund = 1\n",
    "\n",
    "# Boundary conditions\n",
    "# MF2K5 pumping info\n",
    "qwell1 = 0.001\n",
    "qwell2 = -0.0189\n",
    "#welspd = {0: [[0, 3, 6, qwell1], [0, 10, 6, qwell2]]}  # Well pumping info for MF2K5\n",
    "cwell1 = 57.87\n",
    "cwell0 = 0.0\n",
    "#spd = {\n",
    " #   0: [[0, 3, 6, cwell1, 2], [0, 10, 6, cwell0, 2]],\n",
    "  #  1: [[0, 3, 6, cwell0, 2], [0, 10, 6, cwell0, 2]],\n",
    "#}  # Well info 4 MT3D\n",
    "# MF6 pumping information\n",
    "wellist_sp1 = []\n",
    "#                   (k,  i, j),   flow,  conc\n",
    "wellist_sp1.append([(0, 3, 6), qwell1, cwell1])  # Injection well\n",
    "wellist_sp1.append([(0, 10, 6), qwell2, cwell0])  # Pumping well\n",
    "#\n",
    "wellist_sp2 = []\n",
    "#                   (k,  i, j),   flow,  conc\n",
    "wellist_sp2.append([(0, 3, 6), qwell1, cwell0])  # Injection well\n",
    "wellist_sp2.append([(0, 10, 6), qwell2, cwell0])  # Pumping well\n",
    "spd_mf6 = {0: wellist_sp1, 1: wellist_sp2}\n",
    "\n",
    "# Transport related\n",
    "sconc = 0.0\n",
    "ath1 = al * trpt\n",
    "dmcoef = 0.0  # m^2/s\n",
    "# Time variables\n",
    "perlen = [365.0 * 86400, 365.0 * 86400]\n",
    "steady = [False, False]\n",
    "nper = len(perlen)\n",
    "nstp = [365, 365]\n",
    "tsmult = [1.0, 1.0]\n",
    "#\n",
    "sconc = 0.0\n",
    "c0 = 0.0\n",
    "botm = [top - delz]\n",
    "mixelm = -1\n",
    "\n",
    "# Solver settings\n",
    "nouter, ninner = 100, 300\n",
    "hclose, rclose, relax = 1e-6, 1e-6, 1.0\n",
    "percel = 1.0  # HMOC parameters\n",
    "itrack = 2\n",
    "wd = 0.5\n",
    "dceps = 1.0e-5\n",
    "nplane = 0\n",
    "npl = 0\n",
    "nph = 16\n",
    "npmin = 2\n",
    "npmax = 32\n",
    "dchmoc = 1.0e-3\n",
    "nlsink = nplane\n",
    "npsink = nph\n",
    "nadvfd = 1"
   ]
  },
  {
   "cell_type": "markdown",
   "metadata": {},
   "source": [
    "The code block above loads variables and constants to define the actual model.  We will focus on how to conceptualize later on."
   ]
  },
  {
   "cell_type": "markdown",
   "metadata": {
    "lines_to_next_cell": 2
   },
   "source": [
    "## Model setup\n",
    "\n",
    "Define functions to build models, write input files, and run the simulation.\n",
    "\n",
    "**Groundwater Flow Package Build**"
   ]
  },
  {
   "cell_type": "code",
   "execution_count": 11,
   "metadata": {},
   "outputs": [],
   "source": [
    "# Workspace and Executibles\n",
    "# binary = \"/home/sensei/ce-4363-webroot/ModflowExperimental/mf6-arm/mf6\"  # location on MY computer of the compiled modflow program\n",
    "# workarea = \"/home/sensei/ce-4363-webroot/ModflowExperimental/mf6-arm/mf6-ex1\" # location on MY computer to store files this example (directory must already exist)\n",
    "#workarea = workspace # location on MY computer to store files this example (directory must already exist)\n",
    "binary = \"/home/sensei/mfplayground/modflow-python/mf6.4.1_linux/bin/mf6\"  # location on AWS computer of the compiled modflow program\n",
    "workarea = \"/home/sensei/ce-5364-webroot/mfexperiments/mf6-ex1\" # location on MY computer to store files this example (directory must already exist)\n",
    "\n",
    "\n",
    "# Set Simulation Name(s)\n",
    "name = \"mt3d_ex09\"\n",
    "gwfname = \"gwf-\" + name\n",
    "gwtname = \"gwt-\" + name\n",
    "\n",
    "##### FLOPY Build simulation framework ####\n",
    "sim = flopy.mf6.MFSimulation(\n",
    "    sim_name=\"sim-\" + name, exe_name=binary, version=\"mf6\", sim_ws=workarea\n",
    ")\n",
    "####### CREATED \"/home/sensei/ce-4363-webroot/ModflowExperimental/mf6-arm/mt3d_example9\""
   ]
  },
  {
   "cell_type": "markdown",
   "metadata": {},
   "source": [
    "The code block above sets paths to the binary (in my case a compiled MODFLOW6 object located at `/home/sensei/ce-4363-webroot/ModflowExperimental/mf6-arm/`.   The binary was built using the `make` utility operating on the `makefile` contained in `~path_to_source/mf6.4.1_linux/make`"
   ]
  },
  {
   "cell_type": "code",
   "execution_count": 12,
   "metadata": {},
   "outputs": [],
   "source": [
    "####### Instantiating MODFLOW 6 time discretization ########\n",
    "tdis_rc = []\n",
    "for i in range(nper):\n",
    "    tdis_rc.append((perlen[i], nstp[i], tsmult[i]))\n",
    "flopy.mf6.ModflowTdis(sim, nper=nper, perioddata=tdis_rc, time_units=time_units);\n",
    "## delete \";\" in above line at end to show full output"
   ]
  },
  {
   "cell_type": "markdown",
   "metadata": {},
   "source": [
    "The code block above sets the time stepping structure.  Units are supplied in the model constants already created. `perlen` is a list of period length in time units of a stress period. , `nstp` is a list of the number of time steps per period, tsmult is a list of time step multipliers."
   ]
  },
  {
   "cell_type": "code",
   "execution_count": 13,
   "metadata": {},
   "outputs": [],
   "source": [
    "####### Instantiating MODFLOW 6 groundwater flow model ########\n",
    "# Set Model Name (using same base name as the simulation)\n",
    "model_nam_file = \"{}.nam\".format(gwfname)\n",
    "# create MODFLOW6 flow model framework\n",
    "gwf = flopy.mf6.ModflowGwf(sim, modelname=gwfname, save_flows=True, model_nam_file=model_nam_file);\n",
    "## delete \";\" in above line at end to show full output"
   ]
  },
  {
   "cell_type": "markdown",
   "metadata": {},
   "source": [
    "The code block above sets prefix of the flow model file names.  "
   ]
  },
  {
   "cell_type": "code",
   "execution_count": 14,
   "metadata": {},
   "outputs": [],
   "source": [
    "###### Instantiating MODFLOW 6 solver for flow model #######\n",
    "# Set Iterative Model Solution (choose solver parameters)\n",
    "# about IMS see: https://water.usgs.gov/nrp/gwsoftware/ModelMuse/Help/sms_sparse_matrix_solution_pac.htm\n",
    "# using defaults see: https://flopy.readthedocs.io/en/3.3.2/source/flopy.mf6.modflow.mfims.html\n",
    "imsgwf = flopy.mf6.ModflowIms(\n",
    "    sim,\n",
    "    print_option=\"SUMMARY\",\n",
    "    outer_dvclose=hclose,\n",
    "    outer_maximum=nouter,\n",
    "    under_relaxation=\"NONE\",\n",
    "    inner_maximum=ninner,\n",
    "    inner_dvclose=hclose,\n",
    "    rcloserecord=rclose,\n",
    "    linear_acceleration=\"CG\",\n",
    "    scaling_method=\"NONE\",\n",
    "    reordering_method=\"NONE\",\n",
    "    relaxation_factor=relax,\n",
    "    filename=f\"{gwfname}.ims\",\n",
    "    )\n",
    "sim.register_ims_package(imsgwf, [gwf.name]);\n",
    "## delete \";\" in above line at end to show full output"
   ]
  },
  {
   "cell_type": "markdown",
   "metadata": {},
   "source": [
    "The code block above sets the iteration and solver parameters.  URL to documents is included in the comments."
   ]
  },
  {
   "cell_type": "code",
   "execution_count": 15,
   "metadata": {},
   "outputs": [],
   "source": [
    "###### Instantiating MODFLOW 6 discretization package ######\n",
    "flopy.mf6.ModflowGwfdis(\n",
    "    gwf,\n",
    "    length_units=length_units,\n",
    "    nlay=nlay,\n",
    "    nrow=nrow,\n",
    "    ncol=ncol,\n",
    "    delr=delr,\n",
    "    delc=delc,\n",
    "    top=top,\n",
    "    botm=botm,\n",
    "    idomain=idomain,\n",
    "    filename=f\"{gwfname}.dis\",\n",
    "    );\n",
    "## delete \";\" in above line at end to show full output"
   ]
  },
  {
   "cell_type": "markdown",
   "metadata": {},
   "source": [
    "The code block above sets the spatial structure.  We must supply layers, rows, columns, and spacing between rows and columns (i.e. how big is a pixel).  Vertical spacing computed as \n",
    "\n",
    "$$\\Delta z = \\frac{\\text{top}-\\text{bottom}}{\\text{number of layers}}$$"
   ]
  },
  {
   "cell_type": "code",
   "execution_count": 16,
   "metadata": {},
   "outputs": [],
   "source": [
    "###### Instantiating MODFLOW 6 initial conditions package for flow model #######\n",
    "strt = np.zeros((nlay, nrow, ncol), dtype=float)\n",
    "strt[0, 0, :] = 250.0\n",
    "xc = gwf.modelgrid.xcellcenters\n",
    "for j in range(ncol):\n",
    "    strt[0, -1, j] = 20.0 + (xc[-1, j] - xc[-1, 0]) * 2.5 / 100\n",
    "flopy.mf6.ModflowGwfic(gwf, strt=strt, filename=f\"{gwfname}.ic\");\n",
    "## delete \";\" in above line at end to show full output"
   ]
  },
  {
   "cell_type": "markdown",
   "metadata": {},
   "source": [
    "The code block above sets the initial conditions. The top row in this example is set to 250, the bottom row from 20 to 52.5 in steps of 2.5.  If there are other starting conditions either write code or read from a file, or hard-code the constants as needed."
   ]
  },
  {
   "cell_type": "code",
   "execution_count": 17,
   "metadata": {},
   "outputs": [],
   "source": [
    "# Instantiating MODFLOW 6 node-property flow package\n",
    "flopy.mf6.ModflowGwfnpf(\n",
    "    gwf,\n",
    "    save_flows=False,\n",
    "    icelltype=icelltype,\n",
    "    k=hk,\n",
    "    k33=hk,\n",
    "    save_specific_discharge=True,\n",
    "    filename=f\"{gwfname}.npf\",\n",
    "    );\n",
    "## delete \";\" in above line at end to show full output"
   ]
  },
  {
   "cell_type": "markdown",
   "metadata": {},
   "source": [
    "The code block above sets the node-property data (its like the old BCF package).  Here we supply that we want to save sp. discharge (needed for transport), the k, and k33 values the same implies NOT unconfined sustem."
   ]
  },
  {
   "cell_type": "code",
   "execution_count": 18,
   "metadata": {},
   "outputs": [],
   "source": [
    "# Define the Storage package (sto) with the ss array\n",
    "#sto = flopy.mf6.ModflowGwfsto(gwf, ss=1.0e-05)\n",
    "sto = flopy.mf6.ModflowGwfsto(gwf, ss=ss_array);\n",
    "## delete \";\" in above line at end to show full output"
   ]
  },
  {
   "cell_type": "markdown",
   "metadata": {},
   "source": [
    "The code block above sets the storage properties for transient simulations."
   ]
  },
  {
   "cell_type": "code",
   "execution_count": 19,
   "metadata": {},
   "outputs": [],
   "source": [
    "# Instantiating MODFLOW 6 constant head package\n",
    "# MF6 constant head boundaries:\n",
    "chdspd = []\n",
    "# Loop through the top & bottom sides.\n",
    "for j in np.arange(ncol):\n",
    "        #               l,  r, c,  head, conc\n",
    "    chdspd.append([(0, 0, j), 250.0, 0.0])  # Top boundary\n",
    "    hd = 20.0 + (xc[-1, j] - xc[-1, 0]) * 2.5 / 100\n",
    "    chdspd.append([(0, 17, j), hd, 0.0])  # Bottom boundary\n",
    "chdspd = {0: chdspd}\n",
    "\n",
    "flopy.mf6.ModflowGwfchd(\n",
    "    gwf,\n",
    "    maxbound=len(chdspd),\n",
    "    stress_period_data=chdspd,\n",
    "    save_flows=False,\n",
    "    auxiliary=\"CONCENTRATION\",\n",
    "    pname=\"CHD-1\",\n",
    "    filename=f\"{gwfname}.chd\",\n",
    "    );\n",
    "## delete \";\" in above line at end to show full output"
   ]
  },
  {
   "cell_type": "markdown",
   "metadata": {},
   "source": [
    "The code block above sets the constant head boundary conditions."
   ]
  },
  {
   "cell_type": "code",
   "execution_count": 20,
   "metadata": {},
   "outputs": [],
   "source": [
    "# Instantiate the wel package\n",
    "flopy.mf6.ModflowGwfwel(\n",
    "    gwf,\n",
    "    print_input=True,\n",
    "    print_flows=True,\n",
    "    stress_period_data=spd_mf6,\n",
    "    save_flows=False,\n",
    "    auxiliary=\"CONCENTRATION\",\n",
    "    pname=\"WEL-1\",\n",
    "    filename=f\"{gwfname}.wel\",\n",
    "    );\n",
    "## delete \";\" in above line at end to show full output"
   ]
  },
  {
   "cell_type": "markdown",
   "metadata": {},
   "source": [
    "The code block above sets activates the well paclage"
   ]
  },
  {
   "cell_type": "code",
   "execution_count": 21,
   "metadata": {},
   "outputs": [],
   "source": [
    "# Instantiating MODFLOW 6 output control package for flow model\n",
    "flopy.mf6.ModflowGwfoc(\n",
    "    gwf,\n",
    "    head_filerecord=f\"{gwfname}.hds\",\n",
    "    budget_filerecord=f\"{gwfname}.bud\",\n",
    "    headprintrecord=[(\"COLUMNS\", 10, \"WIDTH\", 15, \"DIGITS\", 6, \"GENERAL\")],\n",
    "    saverecord=[(\"HEAD\", \"LAST\"), (\"BUDGET\", \"LAST\")],\n",
    "    printrecord=[(\"HEAD\", \"LAST\"), (\"BUDGET\", \"LAST\")],\n",
    "    );\n",
    "## delete \";\" in above line at end to show full output"
   ]
  },
  {
   "cell_type": "markdown",
   "metadata": {},
   "source": [
    "The code block above defines parts of output control."
   ]
  },
  {
   "cell_type": "markdown",
   "metadata": {},
   "source": [
    "\n",
    "\n",
    "**Transport Package Building**"
   ]
  },
  {
   "cell_type": "code",
   "execution_count": 22,
   "metadata": {},
   "outputs": [],
   "source": [
    "###### Instantiating MODFLOW 6 groundwater transport package ##########\n",
    "gwtname = \"gwt-\" + name\n",
    "gwt = flopy.mf6.MFModel(\n",
    "    sim,\n",
    "    model_type=\"gwt6\",\n",
    "    modelname=gwtname,\n",
    "    model_nam_file=f\"{gwtname}.nam\",\n",
    "    )#;\n",
    "## delete \";\" in above line at end to show full output\n",
    "gwt.name_file.save_flows = True"
   ]
  },
  {
   "cell_type": "markdown",
   "metadata": {},
   "source": [
    "The code block above sets prefix of the transport model file names.  "
   ]
  },
  {
   "cell_type": "code",
   "execution_count": 23,
   "metadata": {},
   "outputs": [],
   "source": [
    "# create iterative model solution and register the gwt model with it\n",
    "imsgwt = flopy.mf6.ModflowIms(\n",
    "    sim,\n",
    "    print_option=\"SUMMARY\",\n",
    "    outer_dvclose=hclose,\n",
    "    outer_maximum=nouter,\n",
    "    under_relaxation=\"NONE\",\n",
    "    inner_maximum=ninner,\n",
    "    inner_dvclose=hclose,\n",
    "    rcloserecord=rclose,\n",
    "    linear_acceleration=\"BICGSTAB\",\n",
    "    scaling_method=\"NONE\",\n",
    "    reordering_method=\"NONE\",\n",
    "    relaxation_factor=relax,\n",
    "    filename=f\"{gwtname}.ims\",\n",
    "    )\n",
    "sim.register_ims_package(imsgwt, [gwt.name]);\n",
    "## delete \";\" in above line at end to show full output"
   ]
  },
  {
   "cell_type": "markdown",
   "metadata": {},
   "source": [
    "The code block above sets the iteration and solver parameters.  "
   ]
  },
  {
   "cell_type": "code",
   "execution_count": 24,
   "metadata": {},
   "outputs": [],
   "source": [
    "###### Instantiating MODFLOW 6 transport discretization package #####\n",
    "flopy.mf6.ModflowGwtdis(\n",
    "    gwt,\n",
    "    nlay=nlay,\n",
    "    nrow=nrow,\n",
    "    ncol=ncol,\n",
    "    delr=delr,\n",
    "    delc=delc,\n",
    "    top=top,\n",
    "    botm=botm,\n",
    "    idomain=idomain,\n",
    "    filename=f\"{gwtname}.dis\",\n",
    "    );\n",
    "## delete \";\" in above line at end to show full output"
   ]
  },
  {
   "cell_type": "markdown",
   "metadata": {},
   "source": [
    "The code block above sets the spatial structure.  We must supply layers, rows, columns, and spacing between rows and columns (i.e. how big is a pixel).  Vertical spacing computed as \n",
    "\n",
    "$$\\Delta z = \\frac{\\text{top}-\\text{bottom}}{\\text{number of layers}}$$\n",
    "\n",
    "Typically will be same as flow model."
   ]
  },
  {
   "cell_type": "code",
   "execution_count": 25,
   "metadata": {},
   "outputs": [],
   "source": [
    "# Instantiating MODFLOW 6 transport initial concentrations\n",
    "flopy.mf6.ModflowGwtic(gwt, strt=sconc, filename=f\"{gwtname}.ic\");\n",
    "## delete \";\" in above line at end to show full output"
   ]
  },
  {
   "cell_type": "markdown",
   "metadata": {},
   "source": [
    "Initial conditions (concentration) for transport."
   ]
  },
  {
   "cell_type": "code",
   "execution_count": 26,
   "metadata": {},
   "outputs": [],
   "source": [
    "    # Instantiating MODFLOW 6 transport advection package\n",
    "    if mixelm >= 0:\n",
    "        scheme = \"UPSTREAM\"\n",
    "    elif mixelm == -1:\n",
    "        scheme = \"TVD\"\n",
    "    else:\n",
    "        raise Exception()\n",
    "    flopy.mf6.ModflowGwtadv(gwt, scheme=scheme, filename=f\"{gwtname}.adv\");\n",
    "## delete \";\" in above line at end to show full output"
   ]
  },
  {
   "cell_type": "markdown",
   "metadata": {},
   "source": [
    "Advective transport methods.  In this example upwind formulation with Total Variation Diminishing (TVD) flux limiters. A TVD formulation is a numerical method designed to ensure that the computed solution to a transport equation does not exhibit non-physical oscillations or spurious oscillations, particularly near discontinuities or steep gradients. This flux limitation is crucial for maintaining the accuracy and stability of the numerical solution in simulations involving advective transport, such as contaminant transport in groundwater models.\n",
    "\n",
    "Key points about TVD formulations:\n",
    "\n",
    "- Purpose: TVD methods aim to prevent the introduction of oscillations or artifacts in the numerical solution that can arise from the discretization of the transport equation, especially in regions with sharp gradients or discontinuities.\n",
    "\n",
    "- Techniques: TVD schemes use various strategies to achieve this, including modifying the standard discretization approaches, using flux limiters, or applying specific numerical flux functions that ensure the total variation of the solution is not increased.\n",
    "\n",
    "- Applications: TVD methods are commonly used in computational fluid dynamics, meteorology, and environmental modeling where accurate representation of transport processes is essential. In groundwater modeling, TVD formulations help to ensure realistic simulation of contaminant transport and avoid numerical artifacts that could lead to incorrect predictions.\n",
    "\n",
    "- Examples: Common TVD schemes include the TVD Runge-Kutta methods, TVD Lax-Wendroff schemes, and various other high-resolution schemes that incorporate flux limiters or other modifications to ensure total variation diminishing properties."
   ]
  },
  {
   "cell_type": "code",
   "execution_count": 27,
   "metadata": {},
   "outputs": [],
   "source": [
    "# Instantiating MODFLOW 6 transport dispersion package\n",
    "if al != 0:\n",
    "    flopy.mf6.ModflowGwtdsp(\n",
    "        gwt,\n",
    "        alh=al, # longitudinal\n",
    "        ath1=ath1, # transverse\n",
    "        filename=f\"{gwtname}.dsp\",\n",
    "        );\n",
    "## delete \";\" in above line at end to show full output"
   ]
  },
  {
   "cell_type": "markdown",
   "metadata": {},
   "source": [
    "This code iniatiates the dispersion method with Longitudinal dispersivity  $a_l = 20.0~m$ and the ratio of horizontal transverse to longitudinal dispersivity $trpt = 0.2$  In the above script $a_t = trpt \\times a_l$"
   ]
  },
  {
   "cell_type": "code",
   "execution_count": 28,
   "metadata": {},
   "outputs": [],
   "source": [
    "# Instantiating MODFLOW 6 transport mass storage package\n",
    "flopy.mf6.ModflowGwtmst(\n",
    "    gwt,\n",
    "    porosity=pors_array,\n",
    "##    porosity=prsity,\n",
    "    first_order_decay=False,\n",
    "    decay=None,\n",
    "    decay_sorbed=None,\n",
    "    sorption=None,\n",
    "    bulk_density=None,\n",
    "    distcoef=None,\n",
    "    filename=f\"{gwtname}.mst\",\n",
    "    );\n",
    "## delete \";\" in above line at end to show full output"
   ]
  },
  {
   "cell_type": "markdown",
   "metadata": {},
   "source": [
    "Code block sets adsorbtion/desorbtion and 1st order decay terms if any."
   ]
  },
  {
   "cell_type": "code",
   "execution_count": 29,
   "metadata": {},
   "outputs": [],
   "source": [
    "# Instantiating MODFLOW 6 transport source-sink mixing package\n",
    "sourcerecarray = [\n",
    "    (\"WEL-1\", \"AUX\", \"CONCENTRATION\"),\n",
    "    (\"CHD-1\", \"AUX\", \"CONCENTRATION\"),\n",
    "    ]\n",
    "flopy.mf6.ModflowGwtssm(\n",
    "    gwt,\n",
    "    sources=sourcerecarray,\n",
    "    print_flows=True,\n",
    "    filename=f\"{gwtname}.ssm\",\n",
    "    );\n",
    "## delete \";\" in above line at end to show full output"
   ]
  },
  {
   "cell_type": "markdown",
   "metadata": {},
   "source": [
    "Code above manages source/sink mixing terms."
   ]
  },
  {
   "cell_type": "code",
   "execution_count": 30,
   "metadata": {},
   "outputs": [],
   "source": [
    "# Instantiating MODFLOW 6 transport output control package\n",
    "flopy.mf6.ModflowGwtoc(\n",
    "    gwt,\n",
    "    budget_filerecord=f\"{gwtname}.cbc\",\n",
    "    concentration_filerecord=f\"{gwtname}.ucn\",\n",
    "    concentrationprintrecord=[(\"COLUMNS\", 10, \"WIDTH\", 15, \"DIGITS\", 6, \"GENERAL\")],\n",
    "    saverecord=[(\"CONCENTRATION\", \"LAST\"), (\"BUDGET\", \"LAST\")],\n",
    "    printrecord=[(\"CONCENTRATION\", \"LAST\"), (\"BUDGET\", \"LAST\")],\n",
    "    filename=f\"{gwtname}.oc\",\n",
    "    );\n",
    "## delete \";\" in above line at end to show full output"
   ]
  },
  {
   "cell_type": "markdown",
   "metadata": {},
   "source": [
    "Output control for transport"
   ]
  },
  {
   "cell_type": "code",
   "execution_count": 31,
   "metadata": {},
   "outputs": [],
   "source": [
    "# Instantiating MODFLOW 6 flow-transport exchange mechanism\n",
    "flopy.mf6.ModflowGwfgwt(\n",
    "    sim,\n",
    "    exgtype=\"GWF6-GWT6\",\n",
    "    exgmnamea=gwfname,\n",
    "    exgmnameb=gwtname,\n",
    "    filename=f\"{name}.gwfgwt\",\n",
    "    );\n",
    "## delete \";\" in above line at end to show full output"
   ]
  },
  {
   "cell_type": "markdown",
   "metadata": {},
   "source": [
    "Code above manages how flow (gwf) and transport (gwt) exchange information at each time step."
   ]
  },
  {
   "cell_type": "markdown",
   "metadata": {},
   "source": [
    "**Generate the Files**"
   ]
  },
  {
   "cell_type": "code",
   "execution_count": 32,
   "metadata": {},
   "outputs": [],
   "source": [
    "sim.write_simulation(silent=True)"
   ]
  },
  {
   "cell_type": "markdown",
   "metadata": {},
   "source": [
    "**Running the Model** "
   ]
  },
  {
   "cell_type": "code",
   "execution_count": 33,
   "metadata": {},
   "outputs": [
    {
     "ename": "FileNotFoundError",
     "evalue": "The program /home/sensei/ce-4363-webroot/ModflowExperimental/mf6-arm/mf6 does not exist or is not executable.",
     "output_type": "error",
     "traceback": [
      "\u001b[0;31m---------------------------------------------------------------------------\u001b[0m",
      "\u001b[0;31mFileNotFoundError\u001b[0m                         Traceback (most recent call last)",
      "Cell \u001b[0;32mIn[33], line 2\u001b[0m\n\u001b[1;32m      1\u001b[0m \u001b[38;5;66;03m#success, buff = sim.run_simulation(silent=False, report=True)#Verbose output\u001b[39;00m\n\u001b[0;32m----> 2\u001b[0m success, buff \u001b[38;5;241m=\u001b[39m \u001b[43msim\u001b[49m\u001b[38;5;241;43m.\u001b[39;49m\u001b[43mrun_simulation\u001b[49m\u001b[43m(\u001b[49m\u001b[43msilent\u001b[49m\u001b[38;5;241;43m=\u001b[39;49m\u001b[38;5;28;43;01mTrue\u001b[39;49;00m\u001b[43m,\u001b[49m\u001b[43m \u001b[49m\u001b[43mreport\u001b[49m\u001b[38;5;241;43m=\u001b[39;49m\u001b[38;5;28;43;01mTrue\u001b[39;49;00m\u001b[43m)\u001b[49m\u001b[38;5;66;03m#Suppress output\u001b[39;00m\n\u001b[1;32m      3\u001b[0m \u001b[38;5;28;01massert\u001b[39;00m success, pformat(buff)\n",
      "File \u001b[0;32m/opt/jupyterhub/lib/python3.10/site-packages/flopy/mf6/mfsimbase.py:1829\u001b[0m, in \u001b[0;36mMFSimulationBase.run_simulation\u001b[0;34m(self, silent, pause, report, processors, normal_msg, use_async, cargs, custom_print)\u001b[0m\n\u001b[1;32m   1827\u001b[0m     \u001b[38;5;28;01melse\u001b[39;00m:\n\u001b[1;32m   1828\u001b[0m         silent \u001b[38;5;241m=\u001b[39m \u001b[38;5;28;01mTrue\u001b[39;00m\n\u001b[0;32m-> 1829\u001b[0m \u001b[38;5;28;01mreturn\u001b[39;00m \u001b[43mrun_model\u001b[49m\u001b[43m(\u001b[49m\n\u001b[1;32m   1830\u001b[0m \u001b[43m    \u001b[49m\u001b[38;5;28;43mself\u001b[39;49m\u001b[38;5;241;43m.\u001b[39;49m\u001b[43mexe_name\u001b[49m\u001b[43m,\u001b[49m\n\u001b[1;32m   1831\u001b[0m \u001b[43m    \u001b[49m\u001b[38;5;28;43;01mNone\u001b[39;49;00m\u001b[43m,\u001b[49m\n\u001b[1;32m   1832\u001b[0m \u001b[43m    \u001b[49m\u001b[38;5;28;43mself\u001b[39;49m\u001b[38;5;241;43m.\u001b[39;49m\u001b[43msimulation_data\u001b[49m\u001b[38;5;241;43m.\u001b[39;49m\u001b[43mmfpath\u001b[49m\u001b[38;5;241;43m.\u001b[39;49m\u001b[43mget_sim_path\u001b[49m\u001b[43m(\u001b[49m\u001b[43m)\u001b[49m\u001b[43m,\u001b[49m\n\u001b[1;32m   1833\u001b[0m \u001b[43m    \u001b[49m\u001b[43msilent\u001b[49m\u001b[38;5;241;43m=\u001b[39;49m\u001b[43msilent\u001b[49m\u001b[43m,\u001b[49m\n\u001b[1;32m   1834\u001b[0m \u001b[43m    \u001b[49m\u001b[43mpause\u001b[49m\u001b[38;5;241;43m=\u001b[39;49m\u001b[43mpause\u001b[49m\u001b[43m,\u001b[49m\n\u001b[1;32m   1835\u001b[0m \u001b[43m    \u001b[49m\u001b[43mreport\u001b[49m\u001b[38;5;241;43m=\u001b[39;49m\u001b[43mreport\u001b[49m\u001b[43m,\u001b[49m\n\u001b[1;32m   1836\u001b[0m \u001b[43m    \u001b[49m\u001b[43mprocessors\u001b[49m\u001b[38;5;241;43m=\u001b[39;49m\u001b[43mprocessors\u001b[49m\u001b[43m,\u001b[49m\n\u001b[1;32m   1837\u001b[0m \u001b[43m    \u001b[49m\u001b[43mnormal_msg\u001b[49m\u001b[38;5;241;43m=\u001b[39;49m\u001b[43mnormal_msg\u001b[49m\u001b[43m,\u001b[49m\n\u001b[1;32m   1838\u001b[0m \u001b[43m    \u001b[49m\u001b[43muse_async\u001b[49m\u001b[38;5;241;43m=\u001b[39;49m\u001b[43muse_async\u001b[49m\u001b[43m,\u001b[49m\n\u001b[1;32m   1839\u001b[0m \u001b[43m    \u001b[49m\u001b[43mcargs\u001b[49m\u001b[38;5;241;43m=\u001b[39;49m\u001b[43mcargs\u001b[49m\u001b[43m,\u001b[49m\n\u001b[1;32m   1840\u001b[0m \u001b[43m    \u001b[49m\u001b[43mcustom_print\u001b[49m\u001b[38;5;241;43m=\u001b[39;49m\u001b[43mcustom_print\u001b[49m\u001b[43m,\u001b[49m\n\u001b[1;32m   1841\u001b[0m \u001b[43m\u001b[49m\u001b[43m)\u001b[49m\n",
      "File \u001b[0;32m/opt/jupyterhub/lib/python3.10/site-packages/flopy/mbase.py:1686\u001b[0m, in \u001b[0;36mrun_model\u001b[0;34m(exe_name, namefile, model_ws, silent, pause, report, processors, normal_msg, use_async, cargs, custom_print)\u001b[0m\n\u001b[1;32m   1684\u001b[0m \u001b[38;5;28;01mif\u001b[39;00m exe_name \u001b[38;5;129;01mis\u001b[39;00m \u001b[38;5;28;01mNone\u001b[39;00m:\n\u001b[1;32m   1685\u001b[0m     \u001b[38;5;28;01mraise\u001b[39;00m \u001b[38;5;167;01mValueError\u001b[39;00m(\u001b[38;5;124m\"\u001b[39m\u001b[38;5;124mAn executable name or path must be provided\u001b[39m\u001b[38;5;124m\"\u001b[39m)\n\u001b[0;32m-> 1686\u001b[0m exe_path \u001b[38;5;241m=\u001b[39m \u001b[43mresolve_exe\u001b[49m\u001b[43m(\u001b[49m\u001b[43mexe_name\u001b[49m\u001b[43m)\u001b[49m\n\u001b[1;32m   1687\u001b[0m \u001b[38;5;28;01mif\u001b[39;00m \u001b[38;5;129;01mnot\u001b[39;00m silent:\n\u001b[1;32m   1688\u001b[0m     \u001b[38;5;28mprint\u001b[39m(\n\u001b[1;32m   1689\u001b[0m         \u001b[38;5;124m\"\u001b[39m\u001b[38;5;124mFloPy is using the following executable to run the model: \u001b[39m\u001b[38;5;124m\"\u001b[39m\n\u001b[1;32m   1690\u001b[0m         \u001b[38;5;241m+\u001b[39m flopy_io\u001b[38;5;241m.\u001b[39mrelpath_safe(exe_path, model_ws)\n\u001b[1;32m   1691\u001b[0m     )\n",
      "File \u001b[0;32m/opt/jupyterhub/lib/python3.10/site-packages/flopy/mbase.py:102\u001b[0m, in \u001b[0;36mresolve_exe\u001b[0;34m(exe_name, forgive)\u001b[0m\n\u001b[1;32m     96\u001b[0m         warn(\n\u001b[1;32m     97\u001b[0m             \u001b[38;5;124mf\u001b[39m\u001b[38;5;124m\"\u001b[39m\u001b[38;5;124mThe program \u001b[39m\u001b[38;5;132;01m{\u001b[39;00mexe_name\u001b[38;5;132;01m}\u001b[39;00m\u001b[38;5;124m does not exist or is not executable.\u001b[39m\u001b[38;5;124m\"\u001b[39m,\n\u001b[1;32m     98\u001b[0m             category\u001b[38;5;241m=\u001b[39m\u001b[38;5;167;01mUserWarning\u001b[39;00m,\n\u001b[1;32m     99\u001b[0m         )\n\u001b[1;32m    100\u001b[0m         \u001b[38;5;28;01mreturn\u001b[39;00m \u001b[38;5;28;01mNone\u001b[39;00m\n\u001b[0;32m--> 102\u001b[0m     \u001b[38;5;28;01mraise\u001b[39;00m \u001b[38;5;167;01mFileNotFoundError\u001b[39;00m(\n\u001b[1;32m    103\u001b[0m         \u001b[38;5;124mf\u001b[39m\u001b[38;5;124m\"\u001b[39m\u001b[38;5;124mThe program \u001b[39m\u001b[38;5;132;01m{\u001b[39;00mexe_name\u001b[38;5;132;01m}\u001b[39;00m\u001b[38;5;124m does not exist or is not executable.\u001b[39m\u001b[38;5;124m\"\u001b[39m\n\u001b[1;32m    104\u001b[0m     )\n\u001b[1;32m    106\u001b[0m \u001b[38;5;28;01mreturn\u001b[39;00m \u001b[38;5;28mstr\u001b[39m(exe_path)\n",
      "\u001b[0;31mFileNotFoundError\u001b[0m: The program /home/sensei/ce-4363-webroot/ModflowExperimental/mf6-arm/mf6 does not exist or is not executable."
     ]
    }
   ],
   "source": [
    "#success, buff = sim.run_simulation(silent=False, report=True)#Verbose output\n",
    "success, buff = sim.run_simulation(silent=True, report=True)#Suppress output\n",
    "assert success, pformat(buff)"
   ]
  },
  {
   "cell_type": "markdown",
   "metadata": {},
   "source": [
    "### Plotting results\n",
    "\n",
    "Plotting model results.\n",
    "\n",
    ":::{note}\n",
    "A lot of reverse engineering to produce plots; am positive this is not the best way to make the plots, but was using the original example link as a go-by.\n",
    ":::"
   ]
  },
  {
   "cell_type": "code",
   "execution_count": null,
   "metadata": {},
   "outputs": [],
   "source": [
    "import copy\n",
    "import matplotlib as mpl\n",
    "# Figure properties\n",
    "figure_size = (7, 5)\n",
    "# Get the MF6 concentration output\n",
    "gwt = sim.get_model(list(sim.model_names)[1])\n",
    "ucnobj_mf6 = gwt.output.concentration()\n",
    "conc_mf6 = ucnobj_mf6.get_alldata()\n",
    "\n",
    "\n",
    "# Create figure for scenario\n",
    "with styles.USGSPlot() as fs:\n",
    "    sim_name = sim.name\n",
    "    plt.rcParams[\"lines.dashed_pattern\"] = [5.0, 5.0]\n",
    "    levels = np.arange(0.2, 10, 0.4)\n",
    "    stp_idx = 0  # 0-based (out of 2 possible stress periods)\n",
    "# Plot after 8 years\n",
    "    axWasNone = False\n",
    "#    if ax is None:\n",
    "    fig = plt.figure(figsize=figure_size, dpi=300, tight_layout=True)\n",
    "    axWasNone = True\n",
    "    ax = fig.add_subplot(1, 2, 1, aspect=\"equal\")\n",
    "    cflood = np.ma.masked_less_equal(conc_mf6[stp_idx], 0.2)\n",
    "    mm = flopy.plot.PlotMapView(ax=ax, model=gwf)\n",
    "    cmap = copy.copy(mpl.cm.get_cmap(\"RdYlGn_r\"))\n",
    "    #cmap = plt.get_cmap('RdYlGn_r')\n",
    "    cmap.set_bad(color='none')\n",
    "    colors = ['saddlebrown', 'goldenrod']\n",
    "    cmap = ListedColormap(colors)\n",
    "    #mm.plot_array(hk, masked_values=[hk[0, 0, 0]], alpha=0.8, cmap = cmap)\n",
    "    mm.plot_array(hk, alpha=0.5, cmap = cmap)\n",
    "    mm.plot_ibound()\n",
    "    mm.plot_grid(color=\".5\", alpha=0.2)\n",
    "    cmap = copy.copy(mpl.cm.get_cmap(\"RdYlGn_r\"))\n",
    "    #cmap = plt.get_cmap('RdYlGn_r')\n",
    "    cmap.set_bad(color='none')\n",
    "    cs = mm.plot_array(cflood[0],  alpha=1.0, vmin=0, vmax=3, cmap = cmap)\n",
    "# Add a colorbar to the plot\n",
    "    cbar = plt.colorbar(cs, orientation='horizontal')  # Use orientation='horizontal' if preferred\n",
    "    cbar.set_label('Concentration (ppm)')  # Replace with appropriate label for your data\n",
    "    cs = mm.contour_array(conc_mf6[stp_idx], colors=\"k\", levels=levels, linewidths=0.5)\n",
    "    plt.clabel(cs, fmt='%.2f')\n",
    "    plt.xlabel(\"Distance Along X-Axis, in meters\")\n",
    "    plt.ylabel(\"Distance Along Y-Axis, in meters\")\n",
    "\n",
    "    title = \"MF6 - End of Stress Period \" + str(stp_idx + 1)\n",
    "# set idx\n",
    "    idx = 0\n",
    "    letter = chr(ord(\"@\") + idx + 1)\n",
    "    styles.heading(letter=letter, heading=title)\n",
    "    \n",
    "# second stress period\n",
    "    stp_idx = 1  # 0-based (out of 2 possible stress periods)\n",
    "    if axWasNone:\n",
    "        ax = fig.add_subplot(1, 2, 2, aspect=\"equal\",label = \"subplot2\")\n",
    "    cflood = np.ma.masked_less_equal(conc_mf6[stp_idx], 0.2)\n",
    "    mm = flopy.plot.PlotMapView(ax=ax, model=gwf)\n",
    "    colors = ['saddlebrown', 'goldenrod']\n",
    "    cmap = ListedColormap(colors)\n",
    "    #mm.plot_array(hk, masked_values=[hk[0, 0, 0]], alpha=0.8, cmap = cmap)\n",
    "    mm.plot_array(hk, alpha=0.5, cmap = cmap)\n",
    "    mm.plot_ibound()\n",
    "    mm.plot_grid(color=\".5\", alpha=0.2)\n",
    "    cmap = copy.copy(mpl.cm.get_cmap(\"RdYlGn_r\"))\n",
    "    #cmap = plt.get_cmap('RdYlGn_r')\n",
    "    cmap.set_bad(color='none')\n",
    "    cs = mm.plot_array(cflood[0], alpha=1.0, vmin=0, vmax=3, cmap = cmap)\n",
    "# Add a colorbar to the plot\n",
    "    cbar = plt.colorbar(cs, orientation='horizontal')  # Use orientation='horizontal' if preferred\n",
    "    cbar.set_label('Concentration (ppm)')  # Replace with appropriate label for your data\n",
    "    cs = mm.contour_array(conc_mf6[stp_idx], colors=\"k\", levels=levels, linewidths=0.5)\n",
    "    plt.clabel(cs, fmt='%.2f')\n",
    "    plt.xlabel(\"Distance Along X-Axis, in meters\")\n",
    "    plt.ylabel(\"Distance Along Y-Axis, in meters\")\n",
    "\n",
    "    title = \"MF6 - End of Stress Period \" + str(stp_idx + 1)\n",
    "# set idx\n",
    "    idx = 1\n",
    "    letter = chr(ord(\"@\") + idx + 1)\n",
    "    styles.heading(letter=letter, heading=title)"
   ]
  },
  {
   "cell_type": "markdown",
   "metadata": {},
   "source": [
    "In the figures above, the brown rectangle contained within the goldenrod rectangle represent two different horizontal hydraulic conductivities. The goldenrod color represents the conductivity of a medium grain material, $K_1 = 1.474\\times 10^{-4}~\\frac{m}{sec}$. The brown color represents theconductivity of a fine grain material, $K_2 = 1.474 \\times 10^{-7}~\\frac{m}{sec}$.\n",
    "\n",
    "The plume \"color map\" is overlain on the material property map, and is set to opaque (not transparent).  The color ramp is and inverted GreenYellowRed.  High values render as red, lowest as green."
   ]
  },
  {
   "cell_type": "markdown",
   "metadata": {},
   "source": [
    "## Conclusions\n",
    "\n",
    "Reverse engineered enough to be able to model reasonably complex situations.  The reader should experiment how to get specific discharge out of the model and plot as a \"arrow plot\" to show flow directions. "
   ]
  },
  {
   "cell_type": "code",
   "execution_count": null,
   "metadata": {},
   "outputs": [],
   "source": []
  }
 ],
 "metadata": {
  "kernelspec": {
   "display_name": "Python 3 (ipykernel)",
   "language": "python",
   "name": "python3"
  },
  "language_info": {
   "codemirror_mode": {
    "name": "ipython",
    "version": 3
   },
   "file_extension": ".py",
   "mimetype": "text/x-python",
   "name": "python",
   "nbconvert_exporter": "python",
   "pygments_lexer": "ipython3",
   "version": "3.10.12"
  }
 },
 "nbformat": 4,
 "nbformat_minor": 4
}
