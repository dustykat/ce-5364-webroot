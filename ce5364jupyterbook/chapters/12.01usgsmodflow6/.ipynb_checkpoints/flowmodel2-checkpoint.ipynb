{
 "cells": [
  {
   "cell_type": "markdown",
   "metadata": {},
   "source": [
    "# Transient Flow, Single Layer Aquifer\n",
    "\n",
    "This example is adapted from the Obleo aquifer case, with modifications to make into an unsteady model.\n",
    "\n",
    "## Obleo Aquifer Unsteady Example \n",
    "This is a transient model of the Obleo aquifer system \n",
    "\n",
    ":::{note}\n",
    "This model is the identical conceptualization as the prior model, except we will use unsteady flow modeling.  We run the simulation to near equilibrium and should get about the same results.\n",
    ":::\n",
    "\n",
    "![](obleoaquifer.png)\n",
    "\n",
    "Sone added information about the system is:\n",
    "\n",
    "![](obleoparticulars.png)\n",
    "\n",
    "The general goals for the analysis are:\n",
    "\n",
    "![](obleogoals.png)\n",
    "\n",
    "So with a little infomration regarding how we will manage elevations we can move forward with the modeling effort.\n",
    "\n",
    "![](obleovertdatum.png)\n",
    "\n",
    "Now onto **modflow**\n",
    "\n",
    ":::{warning}\n",
    "Nearly every cell throws a deprecation warning, that filterwarnings('ignore') fails to suppress.  Code seems to still run on my server, but over time as new updates are added to the kernel the code at some point will fail without addressing the warning.  The development computer is `aarch64` an arm processor.  The AWS server is `amd64/intel` architecture, which gets a lot of code development so should stay current longer.  This continuous integration CI and push changes model of modern IT support is phenomenally annoying, but for time being have to get used to it.\n",
    ":::"
   ]
  },
  {
   "cell_type": "code",
   "execution_count": 1,
   "metadata": {},
   "outputs": [],
   "source": [
    "%reset -f"
   ]
  },
  {
   "cell_type": "code",
   "execution_count": 2,
   "metadata": {},
   "outputs": [],
   "source": [
    "import warnings\n",
    "warnings.filterwarnings('ignore',category=DeprecationWarning)"
   ]
  },
  {
   "cell_type": "markdown",
   "metadata": {},
   "source": []
  },
  {
   "cell_type": "code",
   "execution_count": 3,
   "metadata": {},
   "outputs": [],
   "source": [
    "import warnings\n",
    "warnings.filterwarnings('ignore')\n",
    "import os\n",
    "import numpy as np\n",
    "import matplotlib.pyplot as plt\n",
    "import flopy"
   ]
  },
  {
   "cell_type": "code",
   "execution_count": 4,
   "metadata": {},
   "outputs": [],
   "source": [
    "#dir(flopy.mf6)"
   ]
  },
  {
   "cell_type": "code",
   "execution_count": 5,
   "metadata": {},
   "outputs": [],
   "source": [
    "# Workspace and Executibles\n",
    "#binary = \"/home/sensei/ce-4363-webroot/ModflowExperimental/mf6-arm/mf6\"  # location on MY DEVELOPMENT computer of the compiled modflow program\n",
    "#workarea = \"/home/sensei/ce-4363-webroot/ModflowExperimental/mf6-arm/example_3\" # location on MY DEVELOPMENT computer to store files this example (directory must already exist)\n",
    "\n",
    "binary = \"/home/sensei/mfplayground/modflow-python/mf6.4.1_linux/bin/mf6\"  # location on AWS computer of the compiled modflow program\n",
    "workarea = \"/home/sensei/ce-5364-webroot/mfexperiments/example_2\" # location on MY computer to store files this example (directory must already exist)\n",
    "\n",
    "# Set Simulation Name\n",
    "name = \"example_2\"\n",
    "#modelname=name\n",
    "\n",
    "##### FLOPY Build simulation framework ####\n",
    "sim = flopy.mf6.MFSimulation(\n",
    "    sim_name=name, exe_name=binary, version=\"mf6\", sim_ws=workarea\n",
    ")"
   ]
  },
  {
   "cell_type": "code",
   "execution_count": 6,
   "metadata": {},
   "outputs": [],
   "source": [
    "# Set Time Structure\n",
    "Time_Units=\"YEARS\"\n",
    "\n",
    "# Multiple stress periods\n",
    "nper = 3 # how many periods\n",
    "perlen = [1.0, 100.0, 100.0] # how long each one\n",
    "nstp = [1, 100, 100] # how many steps in each\n",
    "steady = [True, False, False] # which ones are steady\n",
    "\n",
    "perioddata = [(1.0,1,1),(30.0,30,1),(30.0,30,1)]\n",
    "\n",
    "##### FLOPY Build time framework ##########\n",
    "tdis = flopy.mf6.ModflowTdis(\n",
    "    sim, pname=\"tdis\", time_units=Time_Units, nper=3, perioddata=perioddata,\n",
    ")"
   ]
  },
  {
   "cell_type": "code",
   "execution_count": 7,
   "metadata": {},
   "outputs": [],
   "source": [
    "# Set Iterative Model Solution (choose solver parameters)\n",
    "# about IMS see: https://water.usgs.gov/nrp/gwsoftware/ModelMuse/Help/sms_sparse_matrix_solution_pac.htm\n",
    "# using defaults see: https://flopy.readthedocs.io/en/3.3.2/source/flopy.mf6.modflow.mfims.html\n",
    "\n",
    "##### FLOPY Build IMS framework ###########\n",
    "ims = flopy.mf6.ModflowIms(sim, pname=\"ims\", complexity=\"SIMPLE\")"
   ]
  },
  {
   "cell_type": "code",
   "execution_count": 8,
   "metadata": {},
   "outputs": [],
   "source": [
    "# Set Model Name (using same base name as the simulation)\n",
    "model_nam_file = \"{}.nam\".format(name)\n",
    "\n",
    "##### FLOPY Build Model Name framework ####\n",
    "gwf = flopy.mf6.ModflowGwf(sim, modelname=name, model_nam_file=model_nam_file)"
   ]
  },
  {
   "cell_type": "code",
   "execution_count": 9,
   "metadata": {},
   "outputs": [],
   "source": [
    "\n",
    "# Define The Grid\n",
    "Nlay = 1 #number layers\n",
    "Nrow = 11 #number rows\n",
    "Ncol = 11 #number columns\n",
    "# Define distances and elevations\n",
    "delrow = 1000 # cell size along columns (how tall is a row)\n",
    "delcol = 1000 # cell size along row (how wide is a column)\n",
    "topelev = 100.0 # elevation of top of aquifer\n",
    "thick = 1000.0 #aquifer thickness\n",
    "\n",
    "bot = [topelev-thick] # bot is a list with Nlay entries\n",
    "#print(bot)\n",
    "\n",
    "\n",
    "##### FLOPY Build Model Grid framework #####\n",
    "dis = flopy.mf6.ModflowGwfdis(gwf,nlay=Nlay,nrow=Nrow,ncol=Ncol,delr=delrow,delc=delcol,top=topelev,botm=bot,\n",
    ")\n"
   ]
  },
  {
   "cell_type": "code",
   "execution_count": 10,
   "metadata": {},
   "outputs": [],
   "source": [
    "# Define initial conditions\n",
    "h1 = 0.0 # \n",
    "start = h1 * np.ones((Nlay, Nrow, Ncol)) # start heads are h1 everywhere\n",
    "\n",
    "##### FLOPY Build Initial Conditions framework ###\n",
    "ic = flopy.mf6.ModflowGwfic(gwf, pname=\"ic\", strt=start)"
   ]
  },
  {
   "cell_type": "code",
   "execution_count": 11,
   "metadata": {},
   "outputs": [],
   "source": [
    "# Define hydraulic conductivity arrays\n",
    "K = 3650.0\n",
    "k = K * np.ones((Nlay, Nrow, Ncol)) # Hydraulic conductivity is K everywhere\n",
    "# Use above to build layer-by-layer spatial varying K\n",
    "# need to read: to deal with Kx!=Ky\n",
    "\n",
    "##### FLOPY Build BCF framework ######\n",
    "npf = flopy.mf6.ModflowGwfnpf(gwf, icelltype=1, k=k, save_flows=True) \n",
    "# setting icelltype > 0 is unconfined \n",
    "# https://flopy.readthedocs.io/en/3.3.5/source/flopy.mf6.modflow.mfgwfnpf.html?highlight=icelltype#flopy.mf6.modflow.mfgwfnpf.ModflowGwfnpf.icelltype"
   ]
  },
  {
   "cell_type": "code",
   "execution_count": 12,
   "metadata": {},
   "outputs": [],
   "source": [
    "# Define the storativity arrays\n",
    "Sy = 0.25 # specific yield\n",
    "Ss = 2.5e-4 # specific storage\n",
    "\n",
    "sto = flopy.mf6.ModflowGwfsto(gwf, sy=Sy)"
   ]
  },
  {
   "cell_type": "code",
   "execution_count": 13,
   "metadata": {},
   "outputs": [],
   "source": [
    "# Define constant head boundary conditions - these need to be supplied for each stress period\n",
    "chd_rec = []\n",
    "#h2 = 90 # Just a different value \n",
    "#chd_rec.append(((0, 5, 5), h2))\n",
    "# L,R,T,B constant head boundaries\n",
    "for layer in range(0, Nlay):\n",
    "    for row in range(0, Nrow):\n",
    "        chd_rec.append(((layer, row, 0), h1))  #left column held at h1\n",
    "        chd_rec.append(((layer, row, Ncol-1), h1)) #right column held at h1\n",
    "#    for col in range(1,Ncol-1):\n",
    "#        chd_rec.append(((layer, 0, col), h1)) # top row held at h1\n",
    "#        chd_rec.append(((layer, Nrow-1 , col), h1)) # bottom row held at h1\n",
    "\n",
    "stress_period_data = {0: chd_rec, 1: chd_rec, 2: chd_rec} # dictionary same BC each stress period\n",
    "        \n",
    "##### FLOPY Build CHD framework #####          \n",
    "chd = flopy.mf6.ModflowGwfchd(gwf,maxbound=len(chd_rec),stress_period_data=stress_period_data,save_flows=True,\n",
    ")"
   ]
  },
  {
   "cell_type": "code",
   "execution_count": 14,
   "metadata": {},
   "outputs": [],
   "source": [
    "# Define wellfields\n",
    "#wel_rec = []\n",
    "# wel_rec.append((0, 5, 5, -0e6)) # 0 Mm3/yr - use to examine recharge only\n",
    "#wel_rec.append((0, 5, 5, -2114e6)) # 2,114 Mm3/yr\n",
    "# Multiple Stress Periods\n",
    "pumping_rate = -1000e6\n",
    "wel_sp1 = [[0, 5, 5, 0.0]]\n",
    "wel_sp2 = [[0, 5, 5, 1*pumping_rate]]\n",
    "wel_sp3 = [[0, 5, 5, 2.115*pumping_rate]]\n",
    "stress_period_data = {0: wel_sp1, 1: wel_sp2, 2: wel_sp3}\n",
    "#wel = flopy.modflow.ModflowWel(mf, stress_period_data=stress_period_data)\n",
    "\n",
    "\n",
    "\n",
    "##### FLOPY Build Wellfields framework #####  \n",
    "wel = flopy.mf6.ModflowGwfwel(gwf,maxbound=1,stress_period_data=stress_period_data,)"
   ]
  },
  {
   "cell_type": "code",
   "execution_count": 15,
   "metadata": {},
   "outputs": [
    {
     "ename": "FlopyException",
     "evalue": "Extraneous kwargs \"maxbound\" provided to MFPackage. ()",
     "output_type": "error",
     "traceback": [
      "\u001b[0;31m---------------------------------------------------------------------------\u001b[0m",
      "\u001b[0;31mFlopyException\u001b[0m                            Traceback (most recent call last)",
      "Cell \u001b[0;32mIn[15], line 11\u001b[0m\n\u001b[1;32m      7\u001b[0m rec_sp3 \u001b[38;5;241m=\u001b[39m rech_rec\n\u001b[1;32m      9\u001b[0m stress_period_data \u001b[38;5;241m=\u001b[39m {\u001b[38;5;241m0\u001b[39m: rec_sp1, \u001b[38;5;241m1\u001b[39m: rec_sp2, \u001b[38;5;241m2\u001b[39m: rec_sp3}\n\u001b[0;32m---> 11\u001b[0m rch \u001b[38;5;241m=\u001b[39m \u001b[43mflopy\u001b[49m\u001b[38;5;241;43m.\u001b[39;49m\u001b[43mmf6\u001b[49m\u001b[38;5;241;43m.\u001b[39;49m\u001b[43mModflowGwfrcha\u001b[49m\u001b[43m(\u001b[49m\u001b[43mgwf\u001b[49m\u001b[43m,\u001b[49m\u001b[43m \u001b[49m\u001b[43mmaxbound\u001b[49m\u001b[38;5;241;43m=\u001b[39;49m\u001b[38;5;28;43mlen\u001b[39;49m\u001b[43m(\u001b[49m\u001b[43mrech_rec\u001b[49m\u001b[43m)\u001b[49m\u001b[43m,\u001b[49m\u001b[43mrecharge\u001b[49m\u001b[38;5;241;43m=\u001b[39;49m\u001b[43mstress_period_data\u001b[49m\u001b[43m,\u001b[49m\u001b[43m)\u001b[49m\n\u001b[1;32m     13\u001b[0m \u001b[38;5;66;03m#rch = flopy.mf6.ModflowGwfrcha(gwf, recharge=rech_val) # default entry format\u001b[39;00m\n",
      "File \u001b[0;32m/opt/jupyterhub/lib/python3.10/site-packages/flopy/mf6/modflow/mfgwfrcha.py:330\u001b[0m, in \u001b[0;36mModflowGwfrcha.__init__\u001b[0;34m(self, model, loading_package, readasarrays, fixed_cell, auxiliary, auxmultname, print_input, print_flows, save_flows, timearrayseries, observations, export_array_netcdf, irch, recharge, aux, filename, pname, **kwargs)\u001b[0m\n\u001b[1;32m    309\u001b[0m \u001b[38;5;28;01mdef\u001b[39;00m \u001b[38;5;21m__init__\u001b[39m(\n\u001b[1;32m    310\u001b[0m     \u001b[38;5;28mself\u001b[39m,\n\u001b[1;32m    311\u001b[0m     model,\n\u001b[0;32m   (...)\u001b[0m\n\u001b[1;32m    328\u001b[0m     \u001b[38;5;241m*\u001b[39m\u001b[38;5;241m*\u001b[39mkwargs,\n\u001b[1;32m    329\u001b[0m ):\n\u001b[0;32m--> 330\u001b[0m     \u001b[38;5;28;43msuper\u001b[39;49m\u001b[43m(\u001b[49m\u001b[43m)\u001b[49m\u001b[38;5;241;43m.\u001b[39;49m\u001b[38;5;21;43m__init__\u001b[39;49m\u001b[43m(\u001b[49m\u001b[43mmodel\u001b[49m\u001b[43m,\u001b[49m\u001b[43m \u001b[49m\u001b[38;5;124;43m\"\u001b[39;49m\u001b[38;5;124;43mrcha\u001b[39;49m\u001b[38;5;124;43m\"\u001b[39;49m\u001b[43m,\u001b[49m\u001b[43m \u001b[49m\u001b[43mfilename\u001b[49m\u001b[43m,\u001b[49m\u001b[43m \u001b[49m\u001b[43mpname\u001b[49m\u001b[43m,\u001b[49m\u001b[43m \u001b[49m\u001b[43mloading_package\u001b[49m\u001b[43m,\u001b[49m\u001b[43m \u001b[49m\u001b[38;5;241;43m*\u001b[39;49m\u001b[38;5;241;43m*\u001b[39;49m\u001b[43mkwargs\u001b[49m\u001b[43m)\u001b[49m\n\u001b[1;32m    332\u001b[0m     \u001b[38;5;66;03m# set up variables\u001b[39;00m\n\u001b[1;32m    333\u001b[0m     \u001b[38;5;28mself\u001b[39m\u001b[38;5;241m.\u001b[39mreadasarrays \u001b[38;5;241m=\u001b[39m \u001b[38;5;28mself\u001b[39m\u001b[38;5;241m.\u001b[39mbuild_mfdata(\u001b[38;5;124m\"\u001b[39m\u001b[38;5;124mreadasarrays\u001b[39m\u001b[38;5;124m\"\u001b[39m, readasarrays)\n",
      "File \u001b[0;32m/opt/jupyterhub/lib/python3.10/site-packages/flopy/mf6/mfpackage.py:1886\u001b[0m, in \u001b[0;36mMFPackage.__init__\u001b[0;34m(self, parent, package_type, filename, pname, loading_package, **kwargs)\u001b[0m\n\u001b[1;32m   1882\u001b[0m kwargs_str \u001b[38;5;241m=\u001b[39m \u001b[38;5;124m\"\u001b[39m\u001b[38;5;124m, \u001b[39m\u001b[38;5;124m\"\u001b[39m\u001b[38;5;241m.\u001b[39mjoin(kwargs\u001b[38;5;241m.\u001b[39mkeys())\n\u001b[1;32m   1883\u001b[0m excpt_str \u001b[38;5;241m=\u001b[39m (\n\u001b[1;32m   1884\u001b[0m     \u001b[38;5;124mf\u001b[39m\u001b[38;5;124m'\u001b[39m\u001b[38;5;124mExtraneous kwargs \u001b[39m\u001b[38;5;124m\"\u001b[39m\u001b[38;5;132;01m{\u001b[39;00mkwargs_str\u001b[38;5;132;01m}\u001b[39;00m\u001b[38;5;124m\"\u001b[39m\u001b[38;5;124m provided to MFPackage.\u001b[39m\u001b[38;5;124m'\u001b[39m\n\u001b[1;32m   1885\u001b[0m )\n\u001b[0;32m-> 1886\u001b[0m \u001b[38;5;28;01mraise\u001b[39;00m FlopyException(excpt_str)\n",
      "\u001b[0;31mFlopyException\u001b[0m: Extraneous kwargs \"maxbound\" provided to MFPackage. ()"
     ]
    }
   ],
   "source": [
    "# Define recharge\n",
    "rech_val = 0.25 #  rate as depth/year\n",
    "rech_rec = rech_val * np.ones((1, Nrow, Ncol)) # set recharge top layer only\n",
    "\n",
    "rec_sp1 = rech_rec\n",
    "rec_sp2 = rech_rec\n",
    "rec_sp3 = rech_rec\n",
    "\n",
    "stress_period_data = {0: rec_sp1, 1: rec_sp2, 2: rec_sp3}\n",
    "\n",
    "#rch = flopy.mf6.ModflowGwfrcha(gwf, maxbound=len(rech_rec),recharge=stress_period_data,)\n",
    "rch = flopy.mf6.ModflowGwfrcha(gwf, recharge=stress_period_data,)\n",
    "\n",
    "#rch = flopy.mf6.ModflowGwfrcha(gwf, recharge=rech_val) # default entry format"
   ]
  },
  {
   "cell_type": "code",
   "execution_count": null,
   "metadata": {},
   "outputs": [],
   "source": [
    "# something to do with stress periods\n",
    "iper = 0\n",
    "ra = chd.stress_period_data.get_data(key=iper)\n"
   ]
  },
  {
   "cell_type": "code",
   "execution_count": null,
   "metadata": {},
   "outputs": [],
   "source": [
    "# Create the output control (`OC`) Package\n",
    "headfile = \"{}.hds\".format(name)\n",
    "head_filerecord = [headfile]\n",
    "budgetfile = \"{}.cbb\".format(name)\n",
    "budget_filerecord = [budgetfile]\n",
    "saverecord = [(\"HEAD\", \"ALL\"), (\"BUDGET\", \"ALL\")]\n",
    "printrecord = [(\"HEAD\", \"LAST\")]\n",
    "\n",
    "##### FLOPY Build OC framework\n",
    "oc = flopy.mf6.ModflowGwfoc(\n",
    "    gwf,\n",
    "    saverecord=saverecord,\n",
    "    head_filerecord=head_filerecord,\n",
    "    budget_filerecord=budget_filerecord,\n",
    "    printrecord=printrecord,\n",
    ")"
   ]
  },
  {
   "cell_type": "code",
   "execution_count": null,
   "metadata": {},
   "outputs": [],
   "source": [
    "# Write files to the directory\n",
    "sim.write_simulation();"
   ]
  },
  {
   "cell_type": "code",
   "execution_count": null,
   "metadata": {},
   "outputs": [],
   "source": [
    "# Attempt to run MODFLOW this model\n",
    "success, buff = sim.run_simulation(silent=True, report=True)\n",
    "if not success:\n",
    "    raise Exception(\"MODFLOW 6 did not terminate normally.\")"
   ]
  },
  {
   "cell_type": "code",
   "execution_count": null,
   "metadata": {},
   "outputs": [],
   "source": [
    "# now attempt to postprocess\n",
    "h = gwf.output.head().get_data(kstpkper=(0, 0))\n",
    "print(h[0].max())\n",
    "x =  np.linspace(0, delrow*Ncol, Ncol)\n",
    "y =  np.linspace(0, delrow*Nrow, Nrow)\n",
    "y = y[::-1]\n",
    "vmin, vmax = -200., 100.0\n",
    "contour_intervals = np.arange(-10., 1.0, 0.1)\n",
    "\n",
    "# ### Plot a Map of Layer 1\n",
    "\n",
    "fig = plt.figure(figsize=(9, 9))\n",
    "ax = fig.add_subplot(1, 1, 1, aspect=\"equal\")\n",
    "c = ax.contour(x, y, h[0], contour_intervals, colors=\"black\")\n",
    "plt.title(\"Obleo Aquifer Example 2 Head Map at Time = PreDevelopment \")\n",
    "plt.xlabel(\"Easting (meters)\")\n",
    "plt.ylabel(\"Northing (meters)\")\n",
    "plt.clabel(c, fmt=\"%2.1f\");"
   ]
  },
  {
   "cell_type": "code",
   "execution_count": null,
   "metadata": {},
   "outputs": [],
   "source": [
    "# ### Use the FloPy `PlotMapView()` capabilities for MODFLOW 6\n",
    "\n",
    "fig = plt.figure(figsize=(9, 9))\n",
    "ax = fig.add_subplot(1, 1, 1, aspect=\"equal\")\n",
    "ax.set_title(\"Obleo Aquifer Example 2 \\n Head Map\")\n",
    "ax.set_xlabel(\"Easting (meters)\")\n",
    "ax.set_ylabel(\"Northing (meters)\")\n",
    "modelmap = flopy.plot.PlotMapView(model=gwf, ax=ax)\n",
    "pa = modelmap.plot_array(h, vmin=-900, vmax=100)\n",
    "quadmesh = modelmap.plot_bc(\"CHD\")\n",
    "linecollection = modelmap.plot_grid(lw=0.5, color=\"0.5\")\n",
    "contours = modelmap.contour_array(\n",
    "    h,\n",
    "    levels=contour_intervals,\n",
    "    colors=\"black\",\n",
    ")\n",
    "ax.clabel(contours, fmt=\"%2.1f\")\n",
    "\n",
    "cb = plt.colorbar(pa, shrink=0.5, ax=ax)\n",
    "cb.set_label(' Head (meters) ', rotation=90)"
   ]
  },
  {
   "cell_type": "code",
   "execution_count": null,
   "metadata": {},
   "outputs": [],
   "source": [
    "# now attempt to postprocess\n",
    "h = gwf.output.head().get_data(kstpkper=(0, 1))\n",
    "#print(h[0].min())\n",
    "x =  np.linspace(0, delrow*Ncol, Ncol)\n",
    "y =  np.linspace(0, delrow*Nrow, Nrow)\n",
    "y = y[::-1]\n",
    "vmin, vmax = -200., 100.0\n",
    "contour_intervals = np.arange(-200., 1.0, 10)\n",
    "\n",
    "# ### Plot a Map of Layer 1\n",
    "\n",
    "fig = plt.figure(figsize=(9, 9))\n",
    "ax = fig.add_subplot(1, 1, 1, aspect=\"equal\")\n",
    "c = ax.contour(x, y, h[0], contour_intervals, colors=\"black\")\n",
    "plt.title(\"Obleo Aquifer Example 2 Head Map at Time = 30 years \")\n",
    "plt.xlabel(\"Easting (meters)\")\n",
    "plt.ylabel(\"Northing (meters)\")\n",
    "plt.clabel(c, fmt=\"%2.1f\");"
   ]
  },
  {
   "cell_type": "code",
   "execution_count": null,
   "metadata": {},
   "outputs": [],
   "source": [
    "# ### Use the FloPy `PlotMapView()` capabilities for MODFLOW 6\n",
    "\n",
    "fig = plt.figure(figsize=(9, 9))\n",
    "ax = fig.add_subplot(1, 1, 1, aspect=\"equal\")\n",
    "ax.set_title(\"Obleo Aquifer Example 2 \\n Head Map at Time = 30 years \")\n",
    "ax.set_xlabel(\"Easting (meters)\")\n",
    "ax.set_ylabel(\"Northing (meters)\")\n",
    "modelmap = flopy.plot.PlotMapView(model=gwf, ax=ax)\n",
    "pa = modelmap.plot_array(h, vmin=-900, vmax=100)\n",
    "quadmesh = modelmap.plot_bc(\"CHD\")\n",
    "linecollection = modelmap.plot_grid(lw=0.5, color=\"0.5\")\n",
    "contours = modelmap.contour_array(\n",
    "    h,\n",
    "    levels=contour_intervals,\n",
    "    colors=\"black\",\n",
    ")\n",
    "ax.clabel(contours, fmt=\"%2.1f\")\n",
    "\n",
    "cb = plt.colorbar(pa, shrink=0.5, ax=ax)\n",
    "cb.set_label(' Head (meters) ', rotation=90)"
   ]
  },
  {
   "cell_type": "code",
   "execution_count": null,
   "metadata": {},
   "outputs": [],
   "source": [
    "# now attempt to postprocess\n",
    "h = gwf.output.head().get_data(kstpkper=(0, 2))\n",
    "print(h[0].max())\n",
    "x =  np.linspace(0, delrow*Ncol, Ncol)\n",
    "y =  np.linspace(0, delrow*Nrow, Nrow)\n",
    "y = y[::-1]\n",
    "vmin, vmax = -200., 100.0\n",
    "contour_intervals = np.arange(-200., 1.0, 10)\n",
    "\n",
    "# ### Plot a Map of Layer 1\n",
    "\n",
    "fig = plt.figure(figsize=(9, 9))\n",
    "ax = fig.add_subplot(1, 1, 1, aspect=\"equal\")\n",
    "c = ax.contour(x, y, h[0], contour_intervals, colors=\"black\")\n",
    "plt.title(\"Obleo Aquifer Example 2 Head Map at Time = 60 years \")\n",
    "plt.xlabel(\"Easting (meters)\")\n",
    "plt.ylabel(\"Northing (meters)\")\n",
    "plt.clabel(c, fmt=\"%2.1f\");"
   ]
  },
  {
   "cell_type": "code",
   "execution_count": null,
   "metadata": {},
   "outputs": [],
   "source": [
    "# ### Use the FloPy `PlotMapView()` capabilities for MODFLOW 6\n",
    "\n",
    "fig = plt.figure(figsize=(9, 9))\n",
    "ax = fig.add_subplot(1, 1, 1, aspect=\"equal\")\n",
    "ax.set_title(\"Obleo Aquifer Example 2 \\n Head Map at Time = 60 years \")\n",
    "ax.set_xlabel(\"Easting (meters)\")\n",
    "ax.set_ylabel(\"Northing (meters)\")\n",
    "modelmap = flopy.plot.PlotMapView(model=gwf, ax=ax)\n",
    "pa = modelmap.plot_array(h, vmin=-900, vmax=100)\n",
    "quadmesh = modelmap.plot_bc(\"CHD\")\n",
    "linecollection = modelmap.plot_grid(lw=0.5, color=\"0.5\")\n",
    "contours = modelmap.contour_array(\n",
    "    h,\n",
    "    levels=contour_intervals,\n",
    "    colors=\"black\",\n",
    ")\n",
    "ax.clabel(contours, fmt=\"%2.1f\")\n",
    "\n",
    "cb = plt.colorbar(pa, shrink=0.5, ax=ax)\n",
    "cb.set_label(' Head (meters) ', rotation=90)"
   ]
  },
  {
   "cell_type": "markdown",
   "metadata": {},
   "source": [
    "Now for pretty mapping!"
   ]
  },
  {
   "cell_type": "markdown",
   "metadata": {},
   "source": [
    "So this is the working model, so now we can assess effect of pumping and decide if we can increase the pumping any We already have this information contained in the output object."
   ]
  },
  {
   "cell_type": "code",
   "execution_count": null,
   "metadata": {},
   "outputs": [],
   "source": [
    "print(\"Minimum allowed is -650.0 meters\")\n",
    "#print(\"Pumping at P-1 is:\",wel_rec[0][3]/1e6,\" Mm^3/yr\")\n",
    "print(\"Minimum Head is:\",round(h[0].min(),1),\" meters\")\n",
    "if h[0].min() < -650.0:\n",
    "    print(\"Computed head is below allowed value - reduce pumpage and rerun simulation\")"
   ]
  }
 ],
 "metadata": {
  "kernelspec": {
   "display_name": "Python 3 (ipykernel)",
   "language": "python",
   "name": "python3"
  },
  "language_info": {
   "codemirror_mode": {
    "name": "ipython",
    "version": 3
   },
   "file_extension": ".py",
   "mimetype": "text/x-python",
   "name": "python",
   "nbconvert_exporter": "python",
   "pygments_lexer": "ipython3",
   "version": "3.10.12"
  }
 },
 "nbformat": 4,
 "nbformat_minor": 4
}
