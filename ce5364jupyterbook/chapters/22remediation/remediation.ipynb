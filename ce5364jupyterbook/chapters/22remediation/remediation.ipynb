{
 "cells": [
  {
   "cell_type": "markdown",
   "metadata": {},
   "source": [
    "# Remediation Technologies\n",
    "\n",
    "Groundwater remediation technologies are a diverse set of techniques and methods used to restore contaminated groundwater to an acceptable quality. These technologies are deployed to mitigate the adverse effects of various pollutants, including chemicals, heavy metals, and other contaminants that can jeopardize both human health and the environment. Groundwater remediation is essential to protect valuable water resources and ensure their safe use. There are several key categories of groundwater remediation technologies:\n",
    "\n",
    "- **[Source Control](https://www.epa.gov/sites/default/files/2015-04/documents/gw_remed_selected.pdf):** Source control is focused on identifying and eliminating or mitigating the source of contamination, preventing further release into the groundwater. Source control measures may include the removal of underground storage tanks, sealing or capping contaminated areas, or implementing strict containment and management practices for hazardous materials to prevent future contamination incidents.\n",
    "\n",
    "- **[Pump-and-Treat Systems](https://19january2021snapshot.epa.gov/sites/static/files/2015-04/documents/a_citizens_guide_to_pump_and_treat.pdf):** This is one of the most common remediation methods. It involves extracting contaminated groundwater using wells, treating it at the surface, and then re-injecting the treated water back into the aquifer or disposing of it safely. Treatment methods may include air stripping, activated carbon adsorption, and chemical precipitation.\n",
    "\n",
    "- **[In-Situ Bioremediation](https://en.wikipedia.org/wiki/In_situ_bioremediation):** In this approach, microorganisms are introduced into the contaminated groundwater to facilitate the natural degradation of organic contaminants. Bioremediation can be enhanced by adding nutrients and other amendments to stimulate microbial activity.\n",
    "\n",
    "- **[Chemical Oxidation:](http://54.243.252.9/ce-5364-webroot/3-Readings/chemox.pdf)** Chemical oxidation methods involve injecting oxidizing agents, such as hydrogen peroxide or ozone, into the groundwater to break down and neutralize contaminants. These technologies are particularly effective for treating organic pollutants.\n",
    "\n",
    "- **[Permeable Reactive Barriers (PRBs)](https://www.epa.gov/sites/default/files/2015-04/documents/a_citizens_guide_to_permeable_reactive_barriers.pdf):** PRBs consist of reactive materials placed in the subsurface along the flow path of contaminated groundwater. These materials chemically react with and immobilize contaminants as they pass through the barrier.\n",
    "\n",
    "- **[Phytoremediation](https://bookstore.ksre.ksu.edu/pubs/mf3067.pdf):** This eco-friendly method uses specially selected plants to uptake, absorb, or transform contaminants from groundwater. Plants can help remediate metals, nutrients, and some organic pollutants.\n",
    "\n",
    "- **[Dual-Phase Extraction](https://www.epa.gov/sites/default/files/2014-03/documents/tum_ch11.pdf):** This technology is used when both groundwater and soil are contaminated. It involves the simultaneous extraction of groundwater and soil vapor for treatment.\n",
    "\n",
    "- **[Electrokinetic Remediation](https://en.wikipedia.org/wiki/Electrokinetic_remediation):** In this technique, low-level electric currents are applied to the subsurface to move charged ions, mobilize contaminants, and facilitate their removal from the groundwater.  A related technique is [soil vitrification](https://www.geoengineer.org/education/web-class-projects/cee-549-geoenvironmental-engineering-winter-2013/assignments/vitrification).\n",
    "\n",
    "- **[Ex-Situ Treatment](https://14d-1.itrcweb.org/remediation-and-treatment-technologies/#6_4):** For extremely contaminated groundwater, extraction and treatment above ground may be the most effective option. This can involve various physical and chemical treatment processes, such as advanced oxidation, ion exchange, and membrane filtration.\n",
    "\n",
    "- **[Natural Attenuation](https://www.epa.gov/sites/default/files/2015-04/documents/a_citizens_guide_to_monitored_natural_attenuation.pdf):** In some cases, allowing natural processes to attenuate contaminants over time may be a viable remediation strategy. This approach relies on factors like dilution, dispersion, sorption, and microbial degradation.\n",
    "\n",
    "Groundwater remediation technologies are chosen based on the specific contaminants, hydrogeological conditions, and regulatory requirements at a contaminated site. Successful groundwater restoration often involves a combination of these techniques to address multiple challenges and ensure the protection of water resources and human health. Groundwater remediation is a vital aspect of environmental management, safeguarding this precious resource for current and future generations."
   ]
  },
  {
   "cell_type": "markdown",
   "metadata": {},
   "source": [
    "## References\n",
    "\n",
    "1. [UST Corrective Action Technologies (US EPA Contract No. 68-C2-0108)](http://54.243.252.9/ce-5364-webroot/3-Readings/30003G8J.PDF) Discusses engineering design for pump-and-treat and vacuum enhanced extraction\n",
    "\n",
    "2. [Field Applications of In Situ Remediation Technologies: Chemical Oxidation (1998) EPA 542-R-98-008](http://54.243.252.9/ce-5364-webroot/3-Readings/chemox.pdf)\n",
    "\n",
    "3. [Bioremediation of Contaminated Soils: A Comparison of In Situ and Ex Situ Techniques. (circa 2000) ](https://home.engineering.iastate.edu/~tge/ce421-521/jera.pdf)\n",
    "\n",
    "4. [Kuppusamy, Saranya & Palanisami, Thavamani & Mallavarapu, Megharaj & Kadiyala, Venkateswarlu & Nadiu, R. (2016). In-Situ Remediation Approaches for the Management of Contaminated Sites: A Comprehensive Overview. Reviews of environmental contamination and toxicology. 236. 1-115. 10.1007/978-3-319-20013-2_1. ](http://54.243.252.9/ce-5364-webroot/3-Readings/KuppusamyetalRECTInSituTechnologiesRECT2016.pdf)\n",
    "\n",
    "5. [Site Remediation by In Situ Vitrification (1991)](https://onlinepubs.trb.org/Onlinepubs/trr/1991/1312/1312-020.pdf)\n",
    "\n",
    "6. [In Situ Vitrification of Transuranic Wastes (1987)](https://www.osti.gov/servlets/purl/6757179-g4A12u/)\n",
    "\n",
    "\n",
    "8. [Electrokinetic-Enhanced Remediation](https://www.frtr.gov/matrix/Electrokinetic-Enhanced-Remediation/)\n",
    "\n",
    "9. [Introduction to In Situ Bioremediation of Groundwater (2013) US EPA 542-R-13-018](https://www.epa.gov/sites/default/files/2015-04/documents/introductiontoinsitubioremediationofgroundwater_dec2013.pdf)"
   ]
  },
  {
   "cell_type": "code",
   "execution_count": null,
   "metadata": {},
   "outputs": [],
   "source": []
  }
 ],
 "metadata": {
  "kernelspec": {
   "display_name": "Python 3",
   "language": "python",
   "name": "python3"
  },
  "language_info": {
   "codemirror_mode": {
    "name": "ipython",
    "version": 3
   },
   "file_extension": ".py",
   "mimetype": "text/x-python",
   "name": "python",
   "nbconvert_exporter": "python",
   "pygments_lexer": "ipython3",
   "version": "3.8.10"
  }
 },
 "nbformat": 4,
 "nbformat_minor": 4
}
