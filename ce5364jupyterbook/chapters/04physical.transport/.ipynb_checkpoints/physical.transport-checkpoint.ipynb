{
 "cells": [
  {
   "cell_type": "markdown",
   "id": "671e655d-2d91-4239-b986-e681d1e18c6e",
   "metadata": {},
   "source": [
    "# 7. Physical Transport "
   ]
  },
  {
   "cell_type": "markdown",
   "id": "fbb7ea53-ae3e-4bf4-984b-ccd95639a122",
   "metadata": {},
   "source": [
    ":::{admonition} Course Website\n",
    "[Link to Course Website](http://54.243.252.9/ce-5364-webroot/)\n",
    ":::\n",
    "\n",
    "---"
   ]
  },
  {
   "cell_type": "code",
   "execution_count": 1,
   "id": "f7994aac-fe58-4071-9fdc-c6284571e529",
   "metadata": {
    "scrolled": true
   },
   "outputs": [
    {
     "data": {
      "text/html": [
       "<style> table {margin-left: 0 !important;} </style>\n"
      ],
      "text/plain": [
       "<IPython.core.display.HTML object>"
      ]
     },
     "metadata": {},
     "output_type": "display_data"
    }
   ],
   "source": [
    "%%html\n",
    "<style> table {margin-left: 0 !important;} </style>"
   ]
  },
  {
   "cell_type": "markdown",
   "id": "82ec2004-2049-4884-a9ec-4685d386289b",
   "metadata": {},
   "source": [
    "## Readings\n",
    "\n",
    "1. [Zheng, C. and Bennett, G.D. (1995) pp. 3-23 *Applied Contaminant Transport Modeling* Van Nostrand Reinhold](http://54.243.252.9/ce-5364-webroot/ce5364notes/chapters/3advection/Advection.PDF)\n",
    "2. [Cleveland, T.G. (2002) *Advection* Notes to accompany *\"CIVE 7332 Flow and Transport Modeling for Environmental Engineering\" at University of Houston*](http://54.243.252.9/ce-5364-webroot/3-Readings/AdvectionNotes.pdf)\n",
    "3. [Cleveland, T.G. (2002) *Particle Tracking in a Spreadsheet* Notes to accompany \"CIVE 7332 Flow and Transport Modeling for Environmental Engineering\" at University of Houston](http://54.243.252.9/ce-5364-webroot/3-Readings/parttrack_1.pdf)\n",
    "4. [Bear, J. (1972) *Dynamics of Fluids in Porous Media* McGraw Hill (pp. 236-241)](https://d1wqtxts1xzle7.cloudfront.net/31171747/195055535-libre.pdf?1392371142=&response-content-disposition=inline%3B+filename%3DDynamics_of_fluids_in_porous_media.pdf&Expires=1695231543&Signature=fcj7Wef3HIA7wlTx~LJhmfFgQJIrRLnrwEgqd2KIjnsouiRrFZpLAgMw-gRJ7oxI1~h89bo-YpAQuhLHZc1vtNFq5d0QBrxwYRbAvr5jztdUDHWZrfjBPYBgujy5WCnrrtoN7GKrziCwbk7mDi1AUyBnC4RDidrKgBV-bMOpJR4ZR8~L6BTEPXhBAQJbLohdpWi8Ni6VUl33~rEQaum8NMcY11P6okNvXbXKft3vdYwjEK5NXezeVe6dQpYIiBcyPVqkFahRD9CFLXLHZsxXryzDT~x9pszx86ka0kXYN9y1Y7RzyAgZQaB5YWD8XZhK4w2PoIEVgIvGeuCxxt099Q__&Key-Pair-Id=APKAJLOHF5GGSLRBV4ZA)\n",
    "<!--(http://54.243.252.9/ce-5364-webroot/3-Readings/DFPM-Flownets.pdf)-->\n",
    "\n"
   ]
  },
  {
   "cell_type": "markdown",
   "id": "0126dfa9-f66a-4eb7-86a1-9bc99d39f597",
   "metadata": {},
   "source": [
    "## Physical Transport Mechanisms\n",
    "\n",
    "Groundwater contaminants, once introduced into the subsurface, are redistributed by fundamental physical transport mechanisms. These processes operate at different scales — from the molecular to the aquifer — and together determine how a contaminant plume moves, spreads, and mixes over time. A clear understanding of these mechanisms is essential for building the mathematical framework that describes solute transport and, ultimately, for developing reliable predictive models.\n",
    "\n",
    "In this chapter, we will examine three key mechanisms:\n",
    "\n",
    "- Advection, the movement of solutes with the bulk groundwater flow;\n",
    "- Diffusion, the molecular spreading of solute due to concentration gradients; and\n",
    "- Dispersion, the additional spreading that arises from velocity variations at pore and field scales.\n",
    "\n",
    "We begin, however, with two preliminary ideas that prepare the ground for these mechanisms: the Tracer Hypothesis (assuming we can follow a non-reactive constituent) and the concept of flux as a measure of transport across a control surface. These concepts give us the language to formulate transport balances in terms of mass fluxes.\n",
    "\n",
    "Building these foundations, we will define:\n",
    "\n",
    "- Tracer Hypothesis — introduce the simplifying assumption of non-reactive solutes and why this is crucial for isolating physical processes.\n",
    "- Flux — define flux as a mass transport rate per unit area, establishing the link between concentration, velocity, and transport.\n",
    "- Advection — develop a cell-balance derivation that shows how solute is transported with the average linear velocity of groundwater.\n",
    "- Diffusion — present Fick’s Law and outline a pseudo-derivation connecting concentration gradients to molecular mixing.\n",
    "- Dispersion — extend the cell-balance concept to describe mechanical mixing and heterogeneity-driven spreading.\n",
    "\n",
    "![](transport_mechanisms.png)\n",
    "\n",
    "The chapter culminates in the Advection–Dispersion Equation (ADE), a governing partial differential equation that integrates all three mechanisms into a single framework. At this stage we will simply present the PDE itself, but not yet pursue solutions.\n",
    "\n",
    "The following chapter will build on this foundation by exploring modeling approaches: particle tracking of advective transport, finite difference schemes for the ADE (with upwinding to handle flow directionality), and practical applications such as travel-time estimation and capture-zone delineation."
   ]
  },
  {
   "cell_type": "markdown",
   "id": "526006ea-2683-46a2-9dc7-b661dc343603",
   "metadata": {},
   "source": [
    "## The Tracer Hypothesis\n",
    "\n",
    "The tracer hypothesis is an assumption that is often used in groundwater contaminant transport models. \n",
    "The hypothesis states that the movement of a conservative tracer (a substance that is not affected by chemical reactions or other processes that alter its concentration) through a porous medium can be used to determine the movement of other, non-conservative substances (such as contaminants) through that same medium.\n",
    "\n",
    "In other words, if we introduce a known quantity of a conservative tracer into a groundwater system, we can track its movement over time and use that information to estimate how other substances, such as pollutants or contaminants, might be moving through the same system. This can be a useful tool for understanding and predicting the behavior of contaminants in groundwater, and for designing effective remediation strategies.\n",
    "\n",
    "It is a widely used and well-established concept in groundwater contaminant transport modeling.\n",
    "\n",
    "It is especially helpful in providing a way to approximate transport of constituients that react with the solid matrix using a concept called retardation (apparent species velocities are retarded relative to non-reactive species)."
   ]
  },
  {
   "cell_type": "markdown",
   "id": "0cec0384-a341-46b3-be6a-538c1ffb3b89",
   "metadata": {},
   "source": [
    "## Flux\n",
    "\n",
    "Transport of materials is quantified in terms of flux density or flux.  Flux density is the amount of material that passes a point in space per unit area per unit time.  Flux is a vector quantity with magnitude and direction.  Flux vectors point in the direction of net material motion and their magnitude indicates the rate of motion in that direction.\n",
    " \n",
    "![](frux.png)\n",
    "\n",
    "The figure depicts how a flux vector is defined.  Imagine a frame centered at (x,y,z), oriented perpendicular to the plume time average flow line.  The mass of pollutant that passes through this frame per unit time divided by the area of the frame is called the pollutant mass flux.   The amount of fluid momentum passing through the frame would be called the momentum flux.  Any quantity can be defined in terms of its flux although mass, energy, and momentum are the most common quantities studied in engineering.\n",
    "\n",
    "![](fruxMath.png)\n",
    "![](fruxMath2.png)\n"
   ]
  },
  {
   "cell_type": "markdown",
   "id": "f044b985-81e0-4a2f-adba-da939cd7bfc9",
   "metadata": {},
   "source": [
    "# Advection\n",
    "\n",
    "Advection (convection) is the transport of dissolved or suspended material by motion of the host fluid. The prediction of the direction and amount of material transported requires knowledge of the fluid velocity field (the velocity of a fluid particle).  \n",
    "\n",
    "![](labeledparcel.png)\n",
    "\n",
    "The figure depicts the flow of a labeled fluid in a tube.  One can use the sketch to define various useful properties of the labeled fluid portion as listed.\n",
    "\n",
    "|Property|Expression|\n",
    "|---|---|\n",
    "|Mass of labeled fluid|$m=\\rho A\\Delta L$ |\n",
    "|Mass of tracer|$m=C A\\Delta L$|\n",
    "|Distance traveled by leading (trailing edge)|$x=\\Delta L$|\n",
    "|Time required to travel distance|$time = \\Delta t$|\n",
    "|Velocity of leading edge|$u = \\frac{x}{time} = \\frac{\\Delta L}{\\Delta t}$|\n",
    "|Mass through circular frame/unit time|$m=\\frac{\\rho A\\Delta L}{\\Delta t}$|\n",
    "|Tracer through circular frame/unit time|$m=\\frac{C A\\Delta L}{\\Delta t}$|\n",
    "|Fluid mass flux|$J=\\rho\\frac{UA}{A}=\\rho\\frac{Q}{A}=\\rho U$|\n",
    "|Tracer mass flux|$J=C\\frac{UA}{A}=C\\frac{Q}{A}=C U$|\n",
    "\n",
    "The advective flux is the product of the quantity of interest (in this case mass of either host fluid or tracer) and the velocity term.  Typically the mean section velocity is used (pipe flow, open channel flow) because fine scale resolution of the velocity field is impossible.  In porous media, the pore velocity or average linear velocity is used.\n",
    "Advection calculations usually use mean section velocity based on discharge measurements.\n"
   ]
  },
  {
   "cell_type": "markdown",
   "id": "a2b34c3f-3790-4584-be99-00fbafde1f6b",
   "metadata": {},
   "source": [
    "## Modeling Advection \n",
    "\n",
    "To build models, we simply apply the Reynolds Transport Theorem to the advective flux component something like:\n",
    "\n",
    "![](advectivefrux.png)\n",
    "\n",
    "## Modeling Tools\n",
    "\n",
    "Moved to Modeling Advection\n"
   ]
  },
  {
   "cell_type": "markdown",
   "id": "0ace712b-9d1d-48b2-81e1-8745a11caece",
   "metadata": {},
   "source": [
    "# Diffusion\n",
    "\n",
    "The sketch below represents three snapshots of a closed system with two ideal gasses. \n",
    "\n",
    "![](diffusionsketch.png)\n",
    "\n",
    "Initially the closed system consists of two different ideal gasses at the same pressure separated by a partition (a).  When the partition is removed, spontaneous mixing occurs (b).  The sharp concentration profiles are rounded.  After enough time has elapsed, equilibrium is reached and the concentration of gasses in the system is uniform (c).  \n",
    "This mixing process is called molecular diffusion.\n",
    "\n",
    "When the diffusing materials are dilute relative to the host fluid (mole fraction << 1), then the host fluid acts as a conduit and does not need to move for the materials to move.  When the materials are not dilute (as in the example above), significant bulk flow occurs of both the diffusing materials and the host fluid.  In most civil and environmental engineering problems, the infinite (dilute) dilution condition is appropriate and one ignores the motion effect that the diffusing materials cause on the host fluid."
   ]
  },
  {
   "cell_type": "markdown",
   "id": "671af718-182c-4b87-a779-1cf8216afb7f",
   "metadata": {},
   "source": [
    "The sketch below depicts a physical system with a volatile liquid in contact with the atmosphere through a narrow bore tube.  The liquid molecules evaporate to maintain a constant partial pressure equal to the vapor pressure of the liquid.  Random motion of these gas molecules takes some of them out of the tube where they are mixed in with the atmosphere.\n",
    "\n",
    "![](volatilesketch1.png)\n",
    "\n",
    "As these molecules leave the tube, more liquid must evaporate to maintain the constant vapor pressure – after a short time the rate of vaporization will become constant.  The rate of escape of the molecules is inversely proportional the length of the tube, proportional to the area of the tube, and proportional to the partial pressure of the liquid."
   ]
  },
  {
   "cell_type": "markdown",
   "id": "9e25316c-cc88-47a5-ba44-0190eb5eee8e",
   "metadata": {},
   "source": [
    "One can incorporate these observations as:  \n",
    "\n",
    "$$\\dot m \\propto -\\frac{C_L - C_o}{L}A $$\n",
    "\n",
    "The constant of proportionality is called the diffusion coefficient and the diffusive flux is expressed as:\n",
    "\n",
    "$$J= -D\\frac{\\partial C}{\\partial x}$$\n",
    "\n",
    "This expression is called Fick’s first law of diffusion.  It can be generalized into three-dimensions as\n",
    "\n",
    "$$ \\overrightarrow{J} = -D(\\frac{\\partial C}{\\partial x}\\overrightarrow{i} + \\frac{\\partial C}{\\partial y}\\overrightarrow{j} + \\frac{\\partial C}{\\partial z}\\overrightarrow{k}) = - D \\cdot \\nabla(C)$$\n",
    "The diffusion coefficient is a property of the diffusing species, the host fluid, the temperature, and the pressure.\n"
   ]
  },
  {
   "cell_type": "markdown",
   "id": "f1459e70-9942-4e31-9cfb-9c0c63aff333",
   "metadata": {},
   "source": [
    "## Kinetic-Molecular Model of Diffusion\n",
    "\n",
    "![](kineticmodel.png)\n",
    "\n",
    "Consider 3 small adjacent cells as depicted in the figure above. Each particle (molecule) has energy proportional to the square of its molecular velocity – while these velocities might be huge, the particles don’t move far before they hit a wall, another particle and their direction changes.\n",
    " \n",
    "$$ E = \\frac{1}{2} m |\\bar V^2| $$\n",
    "\n",
    "On average the velocities will have the same magnitude for any species (all tigers run the same speed, all bears run the same speed, but tigers and bears have different speeds).  If we consider the energy in each cell we have an energy gradient from cell A to cell C. (We are using the particle number in each cell as a measure of the energy – 10 particles in cell A, 3 in cell C)\n",
    "\n",
    "$$ E_A = \\frac{10}{2} m |\\bar V^2|~;~E_B = \\frac{6}{2} m |\\bar V^2|~;~E_C = \\frac{3}{2} m |\\bar V^2| $$\n",
    "\n",
    "From mechanics principles one can argue that on average more particles will cross from A to B  than from B to A in a short time period.  Thus cell B will accumulate particles while cell A will tend to lose particles.  When the number of particles in each cell is equal, then these will be no further **net** accumulation in either cell.  If we divide each cell by its volume we see that the energy term has dimensions of a concentration multiplied by velocity squared (nearly the same dimension as the diffusion coefficient).\n",
    "\n",
    "$$\\frac{E_A}{\\delta V} = \\frac{10}{2} \\frac{m |\\bar V^2|}{\\delta V} = C_A \\frac{|\\bar V^2|}{2} $$\n",
    "\n",
    "Now if we express the difference in energy in adjacent cells as a gradient \n",
    "\n",
    "$$\\nabla E_{A \\rightarrow B}  \\frac{C_B - C_A}{\\delta x}\\frac{|V^2|}{2} = \\frac{\\partial C}{\\partial x}\\frac{|V^2|}{2}$$\n",
    "Thus one can conclude that the gradient of energy is proportional to the gradient of concentration.  Flux is the flow of energy per unit time from high concentration to low concentration – using this mechanical model it can be expressed as \n",
    "\n",
    "$$J\\propto -\\frac{\\partial C}{\\partial x}\\frac{|V^2|}{2}$$\n",
    "\n",
    "Observe that the flux incorporates the molecular velocity of the molecule relative to the host fluid (a function of molecule size, temperature, and shape).  To obtain correct dimensionality we need to express the gradient as energy per unit weight of material (not unit volume) and relate velocity to host fluid properties – ultimately one can arrive at an explanation that matches Fick’s law."
   ]
  },
  {
   "cell_type": "markdown",
   "id": "1f507304-f738-4c96-aa02-69c3e9862164",
   "metadata": {},
   "source": [
    "## Importance of Diffusion\n",
    "\n",
    "In air the diffusion coefficients for a wide range of molecules of various molecular weights and functionalities range from $0.05 ~\\frac{ cm^2}{s}$ (large volatile organics) to $0.6 ~\\frac{ cm^2}{s}$ (hydrogen) – a variation of about one order of magnitude.  In water the diffusion coefficients range from $0.8 \\times 10^{–5}~\\frac{ cm^2}{s}$ to $4.5 \\times 10^{–5}~\\frac{ cm^2}{s}$ for similar compounds – a variation of about ½ an order of magnitude.   \n",
    "\n",
    "The distance a molecule will travel is proportional to the square root of the product of time and diffusion coefficient – in air 1 meter/per day is reasonable; in water 1 cm/day is reasonable – thus as a process for bulk transport, diffusion is meaningless except at interfaces where it may be the only process.  It can achieve huge transport rates at interfaces because of large gradients that occur in these regions.\n",
    "\n",
    "However at low host fluid velocities, diffusion can matter and more importantly the structure of the mathematical model is similar to the dispersion process.\n",
    "\n",
    "## Diffusion Modeling\n",
    "\n",
    "As with advection one can examine a small volume in space in terms of flux and construct the equations of mass transport - as bafore its really the Reynolds Transport Theorem applied to the diffusive flux.\n",
    "\n",
    "![](diffusionEquations.png)"
   ]
  },
  {
   "cell_type": "code",
   "execution_count": null,
   "id": "e9d61826-edf6-40eb-9bdb-9b721316e20a",
   "metadata": {},
   "outputs": [],
   "source": []
  },
  {
   "cell_type": "markdown",
   "id": "e4d0ed43-ba08-4af3-8ff3-c582c0e9555a",
   "metadata": {},
   "source": [
    "# Dispersion\n",
    "\n",
    "In actual releases of pollutants into the environment advection based on mean section velocity computations/measurements and diffusion cannot explain observed behavior. As an example, consider the release of smoke particles (0.1 m) on the left coast of the USA (California) into a westerly wind (wind blowing from west to east) at a speed of 5 meters/sec. Assuming a transcontinental trip, one would expect a spreading of the smoke particles of less than 4 cm over a distance of 5000 meters – thus these two processes alone cannot explain actual behavior.\n",
    "\n",
    "In actual flows, speeds (velocities) are neither uniform nor steady – the mixing caused by non-uniform flows is called dispersion. Dispersion is a consequence, in modeling, of not being able to accurately describe the velocity field at a small enough scale spatially and temporally to account for the continuous changes in directions and speeds that occurs in real flows. (Read any fluid mechanics textbook – especially the section on turbulent correlation coefficients). There are several processes that arise in fluid flow modeling and measurements that can be called dispersion: shear-induced dispersion; turbulent diffusion; hydrodynamic dispersion.\n",
    "\n",
    "## Shear-Induced Dispersion (Pipe and Open Flows)\n",
    "\n",
    "Shear-induced dispersion occurs in a flow field where the fluid velocity varies with position in a direction perpendicular to the mean section velocity. If contaminant concentrations in a shearing flow field vary in the direction of mean flow, then a\n",
    "dispersive mixing phenomenon will be observed, producing a net transport of pollutants from regions of high concentration to low concentration.\n",
    "\n",
    "![](sheardispersion.png)\n",
    "\n",
    "Typically a Fickian-type model using the section average concentration is used to explain shear-induced dispersion. The diffusion coefficient is called the shear-flow dispersivity.\n",
    "\n",
    "$$J_{shear} = - \\epsilon_{shear} \\frac{\\partial \\bar C}{\\partial x}  $$\n",
    "\n",
    "The dispersivity is often estimated from a ratio of velocity variation and a characteristic mixing length based on the dimensions of the flow field.\n",
    "\n",
    "## Turbulent Diffusion (Pipe and Open Flows)\n",
    "\n",
    "Most flows are turbulent – often we model the flows using ideal (laminar) flow theories and use turbulent flow equations of motion to determine mean velocity values, and turbulent flow variation models to explain the random nature of fluctuations about the mean flow values. In many cases the fluctuations themselves are uninteresting, but their effect on mixing is critical. The mixing caused by the turbulent variations in speed and direction is called turbulent diffusion.  \n",
    "\n",
    "Again a Fickian type model is used, but the point concentration replaces the section average concentration\n",
    "\n",
    "$$J_{turbulent} = - \\epsilon_{turbulent} \\frac{\\partial C}{\\partial x}  $$\n",
    "\n",
    "In three dimensions the flux is represented as (isotropic representation – off diagional terms are not necessarily zero)\n",
    "\n",
    "\n",
    "\n",
    "$$ \\overrightarrow{J}_{turbulent} = -(\\epsilon_{xx}\\frac{\\partial C}{\\partial x}\\overrightarrow{i} + \\epsilon_{yy}\\frac{\\partial C}{\\partial y}\\overrightarrow{j} + \\epsilon_{zz}\\frac{\\partial C}{\\partial z}\\overrightarrow{k}) = - \\begin{gather}\n",
    "\\begin{pmatrix}\n",
    "\\epsilon_{xx} & 0 & 0 \\\\\n",
    "0 & \\epsilon_{yy} & 0 \\\\\n",
    "0 & 0 & \\epsilon_{zz} \\\\\n",
    "\\end{pmatrix}\n",
    "\\end{gather} \\cdot \\nabla(C)$$\n",
    "\n",
    "\n",
    "The diffusion coefficients are known as turbulent diffusion coefficients, or eddy diffusivities. The values of eddy diffusivity vary in space, time, and direction. They are strongly dependent on the nature of the flow field (related to velocity at any location). Closure models (correlations between geometry, flow speed, and eddy diffusivities) are still incomplete, although for many flow systems good predictions are possible."
   ]
  }
 ],
 "metadata": {
  "kernelspec": {
   "display_name": "Python Common Environment",
   "language": "python",
   "name": "python-my-env"
  },
  "language_info": {
   "codemirror_mode": {
    "name": "ipython",
    "version": 3
   },
   "file_extension": ".py",
   "mimetype": "text/x-python",
   "name": "python",
   "nbconvert_exporter": "python",
   "pygments_lexer": "ipython3",
   "version": "3.10.12"
  }
 },
 "nbformat": 4,
 "nbformat_minor": 5
}
