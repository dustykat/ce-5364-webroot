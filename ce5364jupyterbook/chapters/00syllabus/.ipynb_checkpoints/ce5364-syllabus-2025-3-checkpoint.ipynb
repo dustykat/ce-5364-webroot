{
 "cells": [
  {
   "cell_type": "markdown",
   "id": "02140b63-7369-4769-b88d-87574c33fdb2",
   "metadata": {},
   "source": [
    "# 0. Syllabus (Fall 2025)\n",
    "\n",
    "## Course Catalog Description: \n",
    "\n",
    "CE 5364: Groundwater Transport Phenomena (3:3:0). Study of sources and fates of contamination in groundwater. Mathematical modeling of reactive and nonreactive pollutant movement. Aquifer restoration strategies. \n",
    "\n",
    "## Prerequisites: \n",
    "- Instructor consent.\n",
    "- CE 3305 Engineering Fluid Mechanics and CE 3354 Engineering Hydrology or equivalent, and\n",
    "- CE 4363/5363 Groundwater Hydrology or equivalent, and\n",
    "- Familarity with computational tools as examined in ENGR 1330 and EGR 1207. "
   ]
  },
  {
   "cell_type": "markdown",
   "id": "8ec686b5-8b7e-460e-b7d4-2115ee3a13c3",
   "metadata": {},
   "source": [
    ":::{admonition} Course Website\n",
    "[CE 5364 Course Webroot](http://54.243.252.9/ce-5364-webroot)\n",
    ":::"
   ]
  },
  {
   "cell_type": "code",
   "execution_count": 1,
   "id": "fb03576a-3bd1-447b-8339-839904a29f7a",
   "metadata": {
    "scrolled": true
   },
   "outputs": [
    {
     "data": {
      "text/html": [
       "<style> table {margin-left: 0 !important;} </style>\n"
      ],
      "text/plain": [
       "<IPython.core.display.HTML object>"
      ]
     },
     "metadata": {},
     "output_type": "display_data"
    }
   ],
   "source": [
    "%%html\n",
    "<style> table {margin-left: 0 !important;} </style>"
   ]
  },
  {
   "cell_type": "markdown",
   "id": "3bb4eecb-f584-45b5-9517-3830aee111e7",
   "metadata": {},
   "source": [
    "## Course Sections\n",
    "Lesson time, days, and location: \n",
    "\n",
    "1. Section 001; CRN xxxxx; **1700-1820** T,Th ; CE07 (F2F On campus students)\n",
    "2. Section D01; CRN xxxxx; **1700-1820** T,Th ; ASYNC distance (Off campus **Not in Lubbock**)\n",
    "\n",
    "## Course Instructor:\n",
    "\n",
    "Instructor: Theodore G. Cleveland, Ph.D., P.E., M. ASCE, F. EWRI\n",
    "\n",
    "Email: theodore.cleveland@ttu.edu  (put CE 5364 into the subject line for email related to this class)\n",
    "\n",
    "Office location: CECE 203F\n",
    "\n",
    "Office hours: TBD M,T,W,Th,F ; CE 203F"
   ]
  },
  {
   "cell_type": "markdown",
   "id": "557eecd4-cb6b-4d9c-81e1-654c870084f0",
   "metadata": {},
   "source": [
    "## Textbooks:\n",
    "\n",
    "1. [Bedient, P.B., Rifai, H. S., and Newell, C. J. (1999). *Groundwater Contamination: Transport, and Remediation* Prentice Hall. 604 p.](https://www.amazon.com/Ground-Water-Contamination-Transport-Remediation/dp/0130138401) Purchase from Amazon or Follet Discover (the contracted TTU book supplier)\n",
    "2. [Theodore G. Cleveland (2023), Groundwater Transport Phenomena: A JupyterBook of Instructor’s Notes to accompany CE 5364 at TTU. Department of Civil, Environmental, and Construction Engineering, Whitacre College of Engineering, Texas Tech University, https://doi.org/10.18738/T8/W5ZPDT, Texas Data Repository, V1](http://54.243.252.9/ce-5364-webroot/ce5364jupyterbook/_build/html/intro.html)"
   ]
  },
  {
   "cell_type": "markdown",
   "id": "0c5fadd8-0219-4104-a008-573b3a1cb75e",
   "metadata": {},
   "source": [
    "# Schedule\n",
    "\n",
    "The schedule below lists various topics and reading links.  The homweork links are located about where the particular exercise fits - these are **not** due dates; those dates are programmed in Canvas>\n",
    "\n",
    "|date|topic|readings|homework|\n",
    "|:---|:---|:---|:---|\n",
    "|26 Aug 2025|Introduction : <br> - Canvas navigation <br> - syllabus <br> - concentration, reactive, non-reactive constituients|- [ce5364-syllabus-2025-3.html](http://54.243.252.9/ce-5364-webroot/ce5364jupyterbook/_build/html/chapters/00syllabus/ce5364-syllabus-2025-3.html)<br> -[Introduction](http://54.243.252.9/ce-5364-webroot/ce5364jupyterbook/_build/html/chapters/00introduction/00introduction.html)||\n",
    "|28 Aug 2025|Fundamentals : <br> - porous media <br> - Darcy's law <br> - pore velocity|-  [Fundamentals I](http://54.243.252.9/ce-5364-webroot/ce5364jupyterbook/_build/html/chapters/01fundamentals/01fundamentals.science.html#)<br> - [porous media](http://54.243.252.9/ce-5364-webroot/ce5364jupyterbook/_build/html/chapters/01fundamentals/01fundamentals.science.html#porous-media)<br> - [Darcy's law](http://54.243.252.9/ce-5364-webroot/ce5364jupyterbook/_build/html/chapters/01fundamentals/01fundamentals.science.html#darcy-s-law)<br> - [pore velocity](http://54.243.252.9/ce-5364-webroot/ce5364jupyterbook/_build/html/chapters/01fundamentals/01fundamentals.science.html#pore-velocity)|[ES-1(new)](http://54.243.252.9/ce-5364-webroot/ce5364jupyterbook/chapters/01fundamentals/ce5364-es1-2025-3.pdf)| \\\\theory\n",
    "|02 sep 2025|Fundamentals : <br> - flow equations <br> - transport equations <br> - generating flow nets|- [Fundamentals II](http://54.243.252.9/ce-5364-webroot/ce5364jupyterbook/_build/html/chapters/01fundamentals/01fundamentals.practice.html) <br> - [flow equations](http://54.243.252.9/ce-5364-webroot/ce5364jupyterbook/_build/html/chapters/01fundamentals/01fundamentals.practice.html#flow-equations) <br> - [transport equations](http://54.243.252.9/ce-5364-webroot/ce5364jupyterbook/_build/html/chapters/01fundamentals/01fundamentals.practice.html#transport-equations) <br> - [numerical generation of flow nets](http://54.243.252.9/ce-5364-webroot/ce5364jupyterbook/_build/html/chapters/01fundamentals/01fundamentals.practice.html#flownets)|| \\\\practice\n",
    "|04 Sep 2025|Regulatory Overview : <br> - exposure sources and receptor pathways <br> - dose-response and toxicity <br> - risk assesment|- [Regulatory Overview](http://54.243.252.9/ce-5364-webroot/ce5364jupyterbook/_build/html/chapters/02regulatory.overview/regulatory.overview.html#) <br> - [exposure sources and receptor pathways](http://54.243.252.9/ce-5364-webroot/ce5364jupyterbook/_build/html/chapters/02regulatory.overview/regulatory.overview.html#exposure-sources-and-effects) <br> - [dose-response and toxicity](http://54.243.252.9/ce-5364-webroot/ce5364jupyterbook/_build/html/chapters/02regulatory.overview/regulatory.overview.html#dose-response-concepts) <br> - [risk assesment](http://54.243.252.9/ce-5364-webroot/ce5364jupyterbook/_build/html/chapters/02regulatory.overview/regulatory.overview.html#risk-assessment)|[ES-2 (new)](http://54.243.252.9/ce-5364-webroot/ce5364jupyterbook/chapters/02regulatory.overview/ce5364-es2-2025-3.pdf)| \\\\theory\n",
    "|09 Sep 2025|Site Characterization; Mapping tools <br> - 2D contour (plume) maps <br> - 3D block models    |- [Value of Mapping](http://54.243.252.9/ce-5364-webroot/ce5364jupyterbook/_build/html/chapters/03site.mapping.tools/site.mapping.tools.html#background) <br> - [2D contour maps](http://54.243.252.9/ce-5364-webroot/ce5364jupyterbook/_build/html/chapters/03site.mapping.tools/site.mapping.tools.html#contour-plots) <br> - [3D block models](http://54.243.252.9/ce-5364-webroot/ce5364jupyterbook/_build/html/chapters/03site.mapping.tools/site.mapping.tools.html#block-models-from-interval-data-experimental) || \\\\practice\n",
    "|11 Sep 2025|Site Characterization; Hydraulic properties <br> - Estimating $K$ and $n$ <br> - Tracer tests and site cross-sections|- [Investigation concepts](http://54.243.252.9/ce-5364-webroot/ce5364jupyterbook/_build/html/chapters/03site.characterization/site.characterization.html#concepts-of-investigations) <br> - [$K$ from slug tests](http://54.243.252.9/ce-5364-webroot/ce5364jupyterbook/_build/html/chapters/03site.characterization/site.characterization.html#slug-tests) <br> - [$K$, $S$ from pumping tests](http://54.243.252.9/ce-5364-webroot/ce5364jupyterbook/_build/html/chapters/03site.characterization/site.characterization.html#pumping-tests) <br> - [Tracer tests](http://54.243.252.9/ce-5364-webroot/ce5364jupyterbook/_build/html/chapters/03site.characterization/site.characterization.html#tracer-tests) |[ES-3 (new)](http://54.243.252.9/ce-5364-webroot/ce5364jupyterbook/chapters/03site.characterization/ce5364-es3-2025-3.pdf)| \\\\theory\n",
    "|16 Sep 2025|<font color=\"green\">No Class (Job Fair)</font>|||\n",
    "|18 Sep 2025|Physical Transport : <br> - Advection <br> - Diffusion and Dispersion|- [Advection](http://54.243.252.9/ce-5364-webroot/ce5364jupyterbook/_build/html/chapters/04physical.transport/physical.transport.html#advection) <br> - [Diffusion](http://54.243.252.9/ce-5364-webroot/ce5364jupyterbook/_build/html/chapters/04physical.transport/physical.transport.html#diffusion) <br> - [Dispersion](http://54.243.252.9/ce-5364-webroot/ce5364jupyterbook/_build/html/chapters/04physical.transport/physical.transport.html#dispersion)|| \\\\contour map; K&n estimation\n",
    "|23 Sep 2025|<font color=\"green\">No Class (Medical Leave)</font>||| \\\\FMLA\n",
    "|25 Sep 2025|<font color=\"green\">No Class (Medical Leave)</font>||| \\\\FMLA\n",
    "|30 Sep 2025|Physical Transport : <br> - Modeling Advection <br> - Travel Time(s) <br> - Capture Zones |- [Particle Tracking (excel)]() <br> - [Particle Tracking (python)]() <br> - [Upwind Finite Difference]() <br> - Capture Zone|[ES-4 (new)](http://54.243.252.9/ce-5364-webroot/ce5364jupyterbook/chapters/04physical.transport/ce5364-es4-2025-3.pdf)| \\\\theory\n",
    "|02 Oct 2025|Reactive Transport : <br> - Sorption (linear/nonlinear) <br> - Isotherms||| \\\\old es1\n",
    "|07 Oct 2025|Reactive Transport : <br> - Dissolution <br> - NAPLs||| \\\\\n",
    "|09 Oct 2025|Reactive Transport : <br> - Degradation mechanisms <br> - 0-th-,1-st-,order decay||| \\\\practice\n",
    "|14 Oct 2025|Analytical Models : <br> - topic 1 <br> - topic 2||| \\\\quiz programmed\n",
    "|16 Oct 2025|Analytical Models : <br> - topic 1 <br> - topic 2||ES-3| \\\\old es2\n",
    "|21 Oct 2025|Analytical Models : <br> - topic 1 <br> - topic 2||| \\\\quiz programmed\n",
    "|23 Oct 2025|Software Tools: <br> - Groundwater Flow (MODFLOW6-Flow)||| \\\\old es2\n",
    "|28 Oct 2025|Software Tools: <br> - Constituient Transport (MODFLOW6-Transport)||ES-4| \\\\old es3\n",
    "|30 Oct 2025|Software Tools: <br> - Constituient Transport (MODFLOW6-Transport)||| \\\\old es3\n",
    "|04 Nov 2025|Unsaturated Zone Transport : <br> - topic 1 <br> - topic 2 ||| \\\\NEED A QUIZ (envionrmental)\n",
    "|06 Nov 2025|Unsaturated Zone Transport : <br> - topic 1 <br> - topic 2||ES-5| \\\\old es4 \n",
    "|11 Nov 2025|Unsaturated Zone Transport : <br> - topic 1 <br> - topic 2||| \\\\quiz programmed \n",
    "|13 Nov 2025|Software Tools: <br> - Unsaturated Zone Model(s)||| \\quiz programmed\n",
    "|18 Nov 2025|Remediation and Risk : <br> - topic 1 <br> - topic 2||| \\\\quiz programmed\n",
    "|20 Nov 2025|Remediation and Risk : <br> - topic 1 <br> - topic 2||ES-6| \\\\old es5\n",
    "|25 Nov 2025|<font color=\"green\">No Class (Self-study)</font>|||\n",
    "|02 Dec 2025|Review||ES-7| \\\\ old es6\n",
    "|08 Dec 2025|<font color=\"red\">Final Exam (on Canvas)</font>|||"
   ]
  },
  {
   "cell_type": "markdown",
   "id": "94529d3f-520b-43db-a068-c4f5e60ead2f",
   "metadata": {},
   "source": [
    "## Safety and Wellness Statement:\n",
    "\n",
    "The Texas Tech University (TTU) and Edward E. Whitacre Jr. College of Engineering are committed to the safety and wellness of our students by providing various services and resources. \n",
    "Make sure you register with [Tech Alert](https://appserv.itts.ttu.edu/emergencyalert) to get emergency notifications by phone call, text, or email. You are encouraged to review the [Emergency Action Plans (EAPs)](https://www.depts.ttu.edu/adminfinance/safety/emergency-management/action-plans/?gclid=EAIaIQobChMI_66xhsrp-AIVVGpvBB2SdwZiEAAYAiAAEgIYd_D_BwE) and watch the videos of [Know What To Do In Emergency Events](https://www.youtube.com/watch?v=4pTtmPSL4-I) and [Surviving an Active Shooter Event Training](https://www.depts.ttu.edu/ttpd/active_shooter.php) to be prepared for those emergency situations. Additionally, due to the nature of laboratory or design courses, it is mandatory for you to follow the [university safety policies](https://www.depts.ttu.edu/ehs/academicsafety/labsafetydocs/LabSafetyManual.pdf) and any additional safety training and protocols required by the course instructor(s). \n",
    "For your wellbeing, various services are available at [Student Counseling Center](https://www.depts.ttu.edu/scc/) and [Student Health Services](https://www.depts.ttu.edu/studenthealth/). The Student Wellness Center provides convenient walk-in services M-F from 8 AM to 5 PM. Furthermore, the Texas Tech Crisis HelpLine (806-742-5555) provides 24/7/365 assistance for students experiencing a crisis or distress. \n",
    "\n",
    "**Emergency/Crisis Phone Number(s):**\n",
    "   \n",
    "|Entity Name|Phone Number|\n",
    "|---|---|\n",
    "|TTU Police (UPD) Emergency|911 |\n",
    "|TTU Police (UPD) Non-Emergency|806.742.3931|\n",
    "|TTU Emergency Maintenance|806.742.4OPS (4677)|\n",
    "|TTU EHS (M-F, 8 am – 5 pm)|806.742.3876|\n",
    "|SafeRide|806.742.RIDE (7433)|\n",
    "|TTU Crisis HelpLine|806.742.5555|\n",
    "|Student Wellness Center <br> (From Urgent Care to a Full-Service Pharmacy on site)|806.742.2848|\n",
    "    \n",
    "## Safety Training Requirement \n",
    "As part of our commitment to maintaining a safe learning environment, students are required to complete safety training before participating in any lab work or practical exercises. The safety training matrix and online safety training module are available from the Texas Tech Department of Environmental Health and Safety. Additional safety training may be required by the course instructor(s).\n",
    "\n",
    "### Mandatory Safety Training\n",
    "\n",
    "- You MUST complete the mandatory safety training before performing any experiment in the lab\n",
    "- The Mandatory training for CE 5364 includes: \n",
    "   - **NONE**\n"
   ]
  },
  {
   "cell_type": "markdown",
   "id": "27861069-0bc0-408d-b1bf-feba262a88e0",
   "metadata": {},
   "source": [
    "## ADA Statement (OP 34.22): \n",
    "Any student who, because of a disability, may require special arrangements in order to meet\n",
    "the course requirements should contact the instructor as soon as possible to make any\n",
    "necessary arrangements. Students should present appropriate verification from Student\n",
    "Disability Services during the instructor's office hours. Please note: instructors are not allowed\n",
    "to provide classroom accommodations to a student until appropriate verification from Student\n",
    "Disability Services has been provided. For additional information, please contact Student\n",
    "Disability Services in Weeks Hall or call 806-742-2405.\n",
    "\n",
    "Any student who, because of a disability, may require special arrangements in order to meet the course requirements should contact the instructor as soon as possible to make necessary arrangements.  Students must present appropriate verification from Student Disability Services during the instructor's office hours.  Please note that instructors are not allowed to provide classroom accommodation to a student until appropriate verification from Student Disability Services has been provided.  For additional information, please contact Student Disability Services \n",
    "office in 335 West Hall or call 806.742.2405.\n",
    "\n",
    "## Academic Integrity Statement (OP 34.12):\n",
    "Academic integrity is taking responsibility for one’s own class and/or course work, being individually accountable, and demonstrating intellectual honesty and ethical behavior.  Academic integrity is a personal choice to abide by the standards of intellectual honesty and responsibility.  Because education is a shared effort to achieve learning through the exchange of ideas, students, faculty, and staff have the collective responsibility to build mutual trust and respect.  Ethical behavior and independent thought are essential for the highest level of academic achievement, which then must be measured.  Academic achievement includes scholarship, teaching, and learning, all of which are shared endeavors.  Grades are a device used to quantify the successful accumulation of knowledge through learning.  Adhering to the standards of academic integrity ensures grades are earned honestly.  Academic integrity is the foundation upon which students, faculty, and staff build their educational and professional careers.  [Texas Tech University (“University”) Quality Enhancement Plan, Academic Integrity Task Force, 2010](https://www.depts.ttu.edu/tlpdc/Resources/NewFacultyResources/Student_Handbook_Academic_Integrity_Procedures.pdf).\n",
    "\n",
    "## Religious Holy Day Statement (OP 34.19): \n",
    "\n",
    "1. \"Religious holy day\" means a holy day observed by a religion whose places of worship are exempt from property taxation under Texas Tax Code §11.20.\n",
    "2. A student who intends to observe a religious holy day should make that intention known in writing to the instructor prior to the absence. A student who is absent from classes for the observance of a religious holy day shall be allowed to take an examination or complete an assignment scheduled for that day within a reasonable time after the absence.\n",
    "3. A student who is excused under section 2 may not be penalized for the absence; however, the instructor may respond appropriately if the student fails to complete the assignment satisfactorily\n",
    "\n",
    "## Ethical Conduct Policy:\n",
    "Cheating is prohibited, and the representation of the work of another person as your own will be grounds for receiving a failing grade in the course.  \n",
    "- Use of [Large Language Generative Models](https://www.depts.ttu.edu/tlpdc/AIUSeAllowedwithDisclosureUpdated.pdf) is acceptable provided the acknowledgement discussed in the link is included. \n",
    "- [Suggestion for citing use of Language Generative Models](https://ttu.blackboard.com/bbcswebdav/institution/Recommended%20Syllabus%20Statements/AI%20Use%20Allowed%20with%20Disclosure%20and%20Citation.pdf)\n",
    "\n",
    "## Additional Recommended Statements\n",
    "1. [Discrimination, Harassment, and Sexual Violence Statement](https://www.depts.ttu.edu/tlpdc/DiscriminationHarrasmentSexualViolenceStatement.pdf)\n",
    "2. [Civility in the Classroom Statement](https://www.depts.ttu.edu/tlpdc/CivilityInTheClassroomStatement.pdf)\n",
    "3. [Plagarism Statement](https://ttu.blackboard.com/bbcswebdav/institution/Recommended%20Syllabus%20Statements/Plagiarism.pdf)\n",
    "3. [Student Support Statement](https://www.depts.ttu.edu/tlpdc/StudentSupportStatement.pdf)\n",
    "4. [Statement About Food Insecurity](https://www.depts.ttu.edu/tlpdc/FoodInsecurityStatement.pdf)\n",
    "   "
   ]
  }
 ],
 "metadata": {
  "kernelspec": {
   "display_name": "Python Common Environment",
   "language": "python",
   "name": "python-my-env"
  },
  "language_info": {
   "codemirror_mode": {
    "name": "ipython",
    "version": 3
   },
   "file_extension": ".py",
   "mimetype": "text/x-python",
   "name": "python",
   "nbconvert_exporter": "python",
   "pygments_lexer": "ipython3",
   "version": "3.10.12"
  }
 },
 "nbformat": 4,
 "nbformat_minor": 5
}
