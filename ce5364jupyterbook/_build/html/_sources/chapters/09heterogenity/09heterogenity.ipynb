{
 "cells": [
  {
   "cell_type": "markdown",
   "id": "55d968f4-a94d-4845-9876-0f8287c38f53",
   "metadata": {},
   "source": [
    "# 9. Heterogeneity and Stochastic Approaches in Analytical Models\n",
    "\n",
    "## Scope\n",
    "- Effects of heterogeneity on contaminant transport\n",
    "- Monte Carlo simulations for uncertainty analysis"
   ]
  }
 ],
 "metadata": {
  "kernelspec": {
   "display_name": "Python Common Environment",
   "language": "python",
   "name": "python-my-env"
  },
  "language_info": {
   "codemirror_mode": {
    "name": "ipython",
    "version": 3
   },
   "file_extension": ".py",
   "mimetype": "text/x-python",
   "name": "python",
   "nbconvert_exporter": "python",
   "pygments_lexer": "ipython3",
   "version": "3.10.12"
  }
 },
 "nbformat": 4,
 "nbformat_minor": 5
}
