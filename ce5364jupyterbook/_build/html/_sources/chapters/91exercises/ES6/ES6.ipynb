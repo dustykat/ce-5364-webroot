{
 "cells": [
  {
   "cell_type": "markdown",
   "metadata": {},
   "source": [
    "<!-- # <font color=darkblue>CE 5364 Groundwater Transport Phenemona <br> Fall 2023 Exercise Set 6</font> -->\n",
    "\n",
    "# F23 Exercise Set 6\n",
    "\n",
    "**LAST NAME, FIRST NAME**\n",
    "\n",
    "**R00000000**\n",
    "\n",
    "<hr>\n",
    "\n",
    "## Purpose : \n",
    "Apply selected risk assessment methods\n",
    " \n",
    "## Assessment Criteria : \n",
    "Completion, results plausible, format correct, example calculations shown.  \n"
   ]
  },
  {
   "cell_type": "markdown",
   "metadata": {},
   "source": [
    "<hr>\n",
    "\n",
    "## Problem 1 \n",
    "\n",
    "Improper waste disposal practices at an industrial site resulted in contamination of the soil on site by cadmium, a known carcinogen with a slope factor of 6.10 $(\\frac{mg}{kg d})^{-1}$. We will consider the risk to off-site residents due to inhalation of airborne soil particles that include the cadmium.  Based on monitoring data, the concentration of cadmium in the air off site is $5.4 \\times 10^{-4}~\\frac{mg}{m^3}$.\n",
    "\n",
    "Determine:\n",
    "\n",
    "1. CInh for residents that are children 1-6 years of age and adults.\n",
    "2. The cancer risk due to these CInh values for the children and adults. \n",
    "\n",
    "Show all calculations and identify all parameter values used.\n",
    "\n",
    "\n"
   ]
  },
  {
   "cell_type": "code",
   "execution_count": 1,
   "metadata": {},
   "outputs": [],
   "source": [
    "# Enter your solution below, or attach separate sheet(s) with your solution.\n",
    "\n"
   ]
  },
  {
   "cell_type": "markdown",
   "metadata": {},
   "source": [
    "<hr>\n",
    "\n",
    "## Problem 2 \n",
    "\n",
    "The same site also caused off-site lead concentrations that can cause non-cancer effects on the residents. The RfD for lead is 6.90x10-4 $(\\frac{mg}{kg d})^{-1}$.  We will consider dermal exposures in this problem, with a lead concentration of $260~\\frac{mg}{kg}$ in the soil, and an absorption factor of 10 percent for the young children and 5 percent for adults. \n",
    "\n",
    "Determine:\n",
    "\n",
    "1. The NCDEX for residents that are children 1-6 years of age and adults. \n",
    "2. The hazard quotients due to these NCDEX values for the children and adults.\n",
    "\n",
    "Show all calculations and identify all parameter values used. "
   ]
  },
  {
   "cell_type": "code",
   "execution_count": 2,
   "metadata": {},
   "outputs": [],
   "source": [
    "# Enter your solution below, or attach separate sheet(s) with your solution.\n",
    "\n"
   ]
  },
  {
   "cell_type": "markdown",
   "metadata": {},
   "source": [
    "<hr>\n",
    "\n",
    "## Problem 3 \n",
    "\n",
    "A contaminated groundwater that is a potential drinking water source has a manganese concentration of $0.36~\\frac{mg}{L}$. The RfD for manganese is $0.10~\\frac{mg}{kg \\cdot d}$. We will consider effects on children 6-12 (drinking 1 L/d) and adults (2 L/d). \n",
    "\n",
    "Determine:\n",
    "1. The NCIng for children 6-12 and adults drinking this water. \n",
    "2. The hazard quotients due to these NCIng values for the children and adults. \n",
    "\n",
    "Show all calculations and identify all parameter values used. "
   ]
  },
  {
   "cell_type": "code",
   "execution_count": 3,
   "metadata": {},
   "outputs": [],
   "source": [
    "# Enter your solution below, or attach separate sheet(s) with your solution.\n",
    "\n"
   ]
  },
  {
   "cell_type": "markdown",
   "metadata": {},
   "source": [
    "<hr>\n",
    "\n",
    "## Problem 4 \n",
    "\n",
    "An animal exposure study was performed to determine an acceptable drinking water concentration for a chemical that causes liver disease in rats and is assumed to have a nonzero threshold. The following results were obtained. \n",
    "\n",
    "**Control Group**\n",
    "Comparison to historical records: no evidence of premature deaths \n",
    "Time of sacrifice: all surviving rats were sacrificed at 18 months \n",
    "Initial number: 100 \n",
    "Number of rats with liver disease: 3 \n",
    "\n",
    "**Test Group** \n",
    "Exposure conditions (lowest observed effect): 140 mg/L, 30 mL/d for a median of 12 months \n",
    "Time of sacrifice: all surviving rats were sacrificed at 18 months \n",
    "Comparison of weight and survival curves: no differences between test and control rats \n",
    "Median adult weight: 0.4 kg \n",
    "Initial number exposed: 100 \n",
    "Number of rats with liver disease: 12 \n",
    "\n",
    "Determine:\n",
    "\n",
    "1. The LOAEL for the rats based on this study.\n",
    "2. The RfD for humans by adjusting for uncertainty. This result is subchronic animal data with no human exposure data available. \n",
    "3. Convert the RfD to an acceptable drinking water concentration. \n",
    "\n"
   ]
  },
  {
   "cell_type": "code",
   "execution_count": 4,
   "metadata": {},
   "outputs": [],
   "source": [
    "# Enter your solution below, or attach separate sheet(s) with your solution.\n",
    "\n"
   ]
  },
  {
   "cell_type": "markdown",
   "metadata": {},
   "source": [
    "<hr>\n",
    "\n",
    "## Problem 5 \n",
    "\n",
    "Visit the EPA’s IRIS system website (http://www.epa.gov/iriswebp/iris/index.html)\n",
    "\n",
    "Determine:\n",
    "1. Your favorite toxic or carcinogenic substance and print (or screen capture) the Quick View page for your choice.\n",
    "\n"
   ]
  },
  {
   "cell_type": "code",
   "execution_count": null,
   "metadata": {},
   "outputs": [],
   "source": []
  }
 ],
 "metadata": {
  "kernelspec": {
   "display_name": "Python 3",
   "language": "python",
   "name": "python3"
  },
  "language_info": {
   "codemirror_mode": {
    "name": "ipython",
    "version": 3
   },
   "file_extension": ".py",
   "mimetype": "text/x-python",
   "name": "python",
   "nbconvert_exporter": "python",
   "pygments_lexer": "ipython3",
   "version": "3.8.10"
  }
 },
 "nbformat": 4,
 "nbformat_minor": 4
}
