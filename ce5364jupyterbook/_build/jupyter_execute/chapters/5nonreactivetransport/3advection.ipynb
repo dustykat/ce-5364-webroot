{
 "cells": [
  {
   "cell_type": "markdown",
   "metadata": {},
   "source": [
    "# Advection\n",
    "\n",
    "Advection (convection) is the transport of dissolved or suspended material by motion of the host fluid. The prediction of the direction and amount of material transported requires knowledge of the fluid velocity field (the velocity of a fluid particle).  \n",
    "\n",
    "![](labeledparcel.png)\n",
    "\n",
    "The figure depicts the flow of a labeled fluid in a tube.  One can use the sketch to define various useful properties of the labeled fluid portion as listed.\n",
    "\n",
    "|Property|Expression|\n",
    "|---|---|\n",
    "|Mass of labeled fluid|$m=\\rho A\\Delta L$ |\n",
    "|Mass of tracer|$m=C A\\Delta L$|\n",
    "|Distance traveled by leading (trailing edge)|$x=\\Delta L$|\n",
    "|Time required to travel distance|$time = \\Delta t$|\n",
    "|Velocity of leading edge|$u = \\frac{x}{time} = \\frac{\\Delta L}{\\Delta t}$|\n",
    "|Mass through circular frame/unit time|$m=\\frac{\\rho A\\Delta L}{\\Delta t}$|\n",
    "|Tracer through circular frame/unit time|$m=\\frac{C A\\Delta L}{\\Delta t}$|\n",
    "|Fluid mass flux|$J=\\rho\\frac{UA}{A}=\\rho\\frac{Q}{A}=\\rho U$|\n",
    "|Tracer mass flux|$J=C\\frac{UA}{A}=C\\frac{Q}{A}=C U$|\n",
    "\n",
    "The advective flux is the product of the quantity of interest (in this case mass of either host fluid or tracer) and the velocity term.  Typically the mean section velocity is used (pipe flow, open channel flow) because fine scale resolution of the velocity field is impossible.  In porous media, the pore velocity or average linear velocity is used.\n",
    "Advection calculations usually use mean section velocity based on discharge measurements.\n"
   ]
  },
  {
   "cell_type": "markdown",
   "metadata": {},
   "source": [
    "## Modeling Advection \n",
    "\n",
    "To build models, we simply apply the Reynolds Transport Theorem to the advective flux component something like:\n",
    "\n",
    "![](advectivefrux.png)\n",
    "\n",
    "## Modeling Tools\n",
    "\n",
    "Moved to Modeling Advection\n"
   ]
  },
  {
   "cell_type": "markdown",
   "metadata": {},
   "source": [
    "## Flownets (pp. 30-34)\n",
    "\n",
    "Moved to Essential Groundwater Review\n",
    "\n",
    "A related concept is flownets as outlined in [Cleveland, T.G. (2002) *Flownets* Notes to accompany \"CIVE 7332 Flow and Transport Modeling for Environmental Engineering\" at University of Houston](http://54.243.252.9/ce-5364-webroot/3-Readings/flownet_1.pdf)\n",
    "\n",
    "Numerical generation of flownets can be accomplished using a spreadsheet, python script, or MODFLOW.  \n",
    "\n",
    "A simple spreadsheet example is available from\n",
    "\n",
    "[Cleveland, T.G. (1997) *Velocity Potential - Stream Function Ideal Flow Model (circa 1999) (Excel)*](http://54.243.252.9/ce-5364-webroot/ce5364notes/chapters/5nonreactivetransport/VelocityPotential-StreamFunction-FDM.xls)\n",
    "\n"
   ]
  },
  {
   "cell_type": "markdown",
   "metadata": {},
   "source": [
    "## References\n",
    "\n",
    "1. [Zheng, C. and Bennett, G.D. (1995) pp. 3-23 *Applied Contaminant Transport Modeling* Van Nostrand Reinhold](http://54.243.252.9/ce-5364-webroot/ce5364notes/chapters/3advection/Advection.PDF)\n",
    "2. [Cleveland, T.G. (2002) *Advection* Notes to accompany *\"CIVE 7332 Flow and Transport Modeling for Environmental Engineering\" at University of Houston*](http://54.243.252.9/ce-5364-webroot/3-Readings/AdvectionNotes.pdf)\n",
    "3. [Cleveland, T.G. (2002) *Particle Tracking in a Spreadsheet* Notes to accompany \"CIVE 7332 Flow and Transport Modeling for Environmental Engineering\" at University of Houston](http://54.243.252.9/ce-5364-webroot/3-Readings/parttrack_1.pdf)\n",
    "4. [Bear, J. (1972) *Dynamics of Fluids in Porous Media* McGraw Hill (pp. 236-241)](https://d1wqtxts1xzle7.cloudfront.net/31171747/195055535-libre.pdf?1392371142=&response-content-disposition=inline%3B+filename%3DDynamics_of_fluids_in_porous_media.pdf&Expires=1695231543&Signature=fcj7Wef3HIA7wlTx~LJhmfFgQJIrRLnrwEgqd2KIjnsouiRrFZpLAgMw-gRJ7oxI1~h89bo-YpAQuhLHZc1vtNFq5d0QBrxwYRbAvr5jztdUDHWZrfjBPYBgujy5WCnrrtoN7GKrziCwbk7mDi1AUyBnC4RDidrKgBV-bMOpJR4ZR8~L6BTEPXhBAQJbLohdpWi8Ni6VUl33~rEQaum8NMcY11P6okNvXbXKft3vdYwjEK5NXezeVe6dQpYIiBcyPVqkFahRD9CFLXLHZsxXryzDT~x9pszx86ka0kXYN9y1Y7RzyAgZQaB5YWD8XZhK4w2PoIEVgIvGeuCxxt099Q__&Key-Pair-Id=APKAJLOHF5GGSLRBV4ZA)\n",
    "<!--(http://54.243.252.9/ce-5364-webroot/3-Readings/DFPM-Flownets.pdf)-->"
   ]
  },
  {
   "cell_type": "code",
   "execution_count": null,
   "metadata": {},
   "outputs": [],
   "source": []
  }
 ],
 "metadata": {
  "kernelspec": {
   "display_name": "Python 3 (ipykernel)",
   "language": "python",
   "name": "python3"
  },
  "language_info": {
   "codemirror_mode": {
    "name": "ipython",
    "version": 3
   },
   "file_extension": ".py",
   "mimetype": "text/x-python",
   "name": "python",
   "nbconvert_exporter": "python",
   "pygments_lexer": "ipython3",
   "version": "3.10.12"
  }
 },
 "nbformat": 4,
 "nbformat_minor": 4
}