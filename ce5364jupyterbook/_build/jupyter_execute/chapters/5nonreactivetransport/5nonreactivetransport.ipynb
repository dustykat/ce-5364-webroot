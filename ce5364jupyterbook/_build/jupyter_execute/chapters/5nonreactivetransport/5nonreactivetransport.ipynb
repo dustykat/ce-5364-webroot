{
 "cells": [
  {
   "cell_type": "markdown",
   "metadata": {},
   "source": [
    "# Non-Reactive Transport \n",
    "\n",
    "Non-reactive contaminant transport in groundwater refers to the movement of contaminants through underground aquifers without undergoing chemical reactions or significant changes in their chemical composition. This type of transport is primarily governed by the physical processes of advection and dispersion, and it is important to understand when assessing the spread of contaminants in groundwater systems. Here's a brief description of these key components:\n",
    "\n",
    "1. Advection: Advection is the process by which contaminants are transported through the porous spaces of the subsurface along with the flow of groundwater. This movement occurs because groundwater naturally flows from areas of higher hydraulic head (pressure) to areas of lower hydraulic head. Contaminants dissolved in the groundwater are carried along with this flow, similar to how a river carries objects downstream.\n",
    "\n",
    "2. Dispersion: Dispersion refers to the spreading and mixing of contaminants as they move through the porous media of the aquifer. It is a result of variations in groundwater flow velocities within the aquifer, which can cause contaminants to disperse both longitudinally and laterally. Longitudinal dispersion occurs along the direction of groundwater flow and leads to the elongation of the contaminant plume, while lateral dispersion results in its widening.\n",
    "\n",
    "Non-reactive contaminant transport is particularly relevant when the contaminants in question do not undergo significant chemical reactions with the surrounding geological materials or groundwater constituents. In such cases, the primary concern is understanding how these contaminants spread over time, their concentration patterns, and the potential risks they pose to groundwater quality.\n",
    "\n",
    "Models and simulations are commonly used to predict and manage non-reactive contaminant transport in groundwater. These models take into account factors such as groundwater flow rates, hydraulic conductivity of the aquifer, contaminant source characteristics, and the physical properties of the contaminants themselves to estimate the extent and behavior of the contaminant plume. By studying non-reactive contaminant transport, scientists and environmental engineers can make informed decisions regarding the protection of groundwater resources and the design of remediation strategies when contamination occurs.\n",
    "\n",
    "## Non-Reactive Constituient\n",
    "\n",
    "A non-reactive constituient is a substance that is not affected by chemical reactions or other processes that alter its concentration) through a porous medium.  Such a constituient does not participate in changes, exchanges, or reactions while traversing a region of interest.  "
   ]
  },
  {
   "cell_type": "markdown",
   "metadata": {},
   "source": [
    "## Videos\n",
    "\n",
    "1. [Drone Footage of Dispersion of Environmental Safe Tracer](https://www.youtube.com/watch?v=9ZmvKGHwagw)\n",
    "2. [Flow Visualization of Jack Rabbit II Trial 5 (Gas Release, so not strictly Advection/Diffusion but illustrative of spreading beyond that from advection alone)](https://www.youtube.com/watch?v=jslzDvzNHBA)\n",
    "3. [Advection](https://www.youtube.com/watch?v=5ts31cMKviQ)\n",
    "4. [Diffusion](https://www.youtube.com/watch?v=9pAcdRZ9iBk)\n",
    "5. [Dispersion (I think there is a sign error in the last two equations - it is corrected in the next video below, so no great damage)](https://www.youtube.com/watch?v=OnSrSS83EZI)\n",
    "6. [Advection Dispersion Finite Difference](https://www.youtube.com/watch?v=zbtQ5oFbaks)\n",
    "7. [Contaminant Transport - Diffusion, Dispersion, Advection (YouTube - about an hour + commercials)](https://www.youtube.com/watch?v=VpBJb0ArfBk)"
   ]
  },
  {
   "cell_type": "code",
   "execution_count": null,
   "metadata": {},
   "outputs": [],
   "source": []
  }
 ],
 "metadata": {
  "kernelspec": {
   "display_name": "Python 3 (ipykernel)",
   "language": "python",
   "name": "python3"
  },
  "language_info": {
   "codemirror_mode": {
    "name": "ipython",
    "version": 3
   },
   "file_extension": ".py",
   "mimetype": "text/x-python",
   "name": "python",
   "nbconvert_exporter": "python",
   "pygments_lexer": "ipython3",
   "version": "3.10.12"
  }
 },
 "nbformat": 4,
 "nbformat_minor": 4
}