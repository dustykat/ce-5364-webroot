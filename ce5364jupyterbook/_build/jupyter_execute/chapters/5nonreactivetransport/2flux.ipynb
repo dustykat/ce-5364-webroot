{
 "cells": [
  {
   "cell_type": "markdown",
   "metadata": {},
   "source": [
    "# Flux\n",
    "\n",
    "Transport of materials is quantified in terms of flux density or flux.  Flux density is the amount of material that passes a point in space per unit area per unit time.  Flux is a vector quantity with magnitude and direction.  Flux vectors point in the direction of net material motion and their magnitude indicates the rate of motion in that direction.\n",
    " \n",
    "![](frux.png)\n",
    "\n",
    "The figure depicts how a flux vector is defined.  Imagine a frame centered at (x,y,z), oriented perpendicular to the plume time average flow line.  The mass of pollutant that passes through this frame per unit time divided by the area of the frame is called the pollutant mass flux.   The amount of fluid momentum passing through the frame would be called the momentum flux.  Any quantity can be defined in terms of its flux although mass, energy, and momentum are the most common quantities studied in engineering.\n",
    "\n",
    "![](fruxMath.png)\n",
    "![](fruxMath2.png)\n"
   ]
  },
  {
   "cell_type": "code",
   "execution_count": null,
   "metadata": {},
   "outputs": [],
   "source": []
  }
 ],
 "metadata": {
  "kernelspec": {
   "display_name": "Python 3 (ipykernel)",
   "language": "python",
   "name": "python3"
  },
  "language_info": {
   "codemirror_mode": {
    "name": "ipython",
    "version": 3
   },
   "file_extension": ".py",
   "mimetype": "text/x-python",
   "name": "python",
   "nbconvert_exporter": "python",
   "pygments_lexer": "ipython3",
   "version": "3.10.12"
  }
 },
 "nbformat": 4,
 "nbformat_minor": 4
}