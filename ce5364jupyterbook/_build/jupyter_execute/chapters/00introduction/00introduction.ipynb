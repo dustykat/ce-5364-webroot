{
 "cells": [
  {
   "cell_type": "markdown",
   "metadata": {},
   "source": [
    "# 1. Introduction"
   ]
  },
  {
   "cell_type": "markdown",
   "metadata": {},
   "source": [
    ":::{admonition} Course Website\n",
    "[Link to Course Website](http://54.243.252.9/ce-5364-webroot/)\n",
    ":::\n",
    "\n",
    "---"
   ]
  },
  {
   "cell_type": "code",
   "execution_count": 1,
   "metadata": {
    "scrolled": true
   },
   "outputs": [
    {
     "data": {
      "text/html": [
       "<style> table {margin-left: 0 !important;} </style>\n"
      ],
      "text/plain": [
       "<IPython.core.display.HTML object>"
      ]
     },
     "metadata": {},
     "output_type": "display_data"
    }
   ],
   "source": [
    "%%html\n",
    "<style> table {margin-left: 0 !important;} </style>"
   ]
  },
  {
   "cell_type": "markdown",
   "metadata": {},
   "source": [
    "## Readings\n",
    "1. [Kresic, N. (2023), Hydrogeology 101:Introduction to Groundwater Science and Engineering. Blue Ridge Press LLC, Warrenton, VA. ISBN: 979-8-218-06984-1 pp. 1-14](http://c1614662.cdn.cloudfiles.rackspacecloud.com/Kresic_Hydrogeology_101_rev1.pdf?refresh=20250826163455)\n",
    "2. [Bedient, P.B., Rifai, H. S., and Newell, C. J. (1999). *Groundwater Contamination: Transport, and Remediation* Prentice Hall. pp. 1-15.](http://54.243.252.9ce-5364-webroot/3-Readings/Bedient_et_al/Bedient_et_al._Front_matter_and_Chapter_1.pdf)"
   ]
  },
  {
   "cell_type": "markdown",
   "metadata": {},
   "source": [
    "## Scope\n",
    "\n",
    "- Importance of contaminant transport modeling\n",
    "- Overview of groundwater flow equations\n",
    "- Advection, dispersion, diffusion, sorption, and degradation"
   ]
  },
  {
   "cell_type": "markdown",
   "metadata": {},
   "source": [
    "## Preliminary Concepts\n",
    "\n",
    "Solvent phase (soil, air, water) is the phase that contains the solute (constituient) phase. The amount of solute contained in the solvent is usually expressed as some kind of concentration,\n",
    "\n",
    "Concentrations are expressed in a variety of units:\n",
    "\n",
    "|Type|Meaning|Symbol|\n",
    "|---|---|---|\n",
    "|Volumetric|mass/volume|$\\frac{mg}{L}$|\n",
    "|Massic|mass/mass|$ppm$|\n",
    "|Molarity|moles/volume|$M=\\frac{mol}{L}$|\n",
    "|Molality|moles/mass|$$m=\\frac{mol}{kg}$$|\n",
    "|Mole Fraction (also partial pressures)|moles/moles|$X_{species}$|\n",
    "|Equivalents|moles$\\times$valence/volume|$Eq$|\n",
    "|Activity|disintegrations/second/volume|$\\frac{Bq}{L}$ - a contrived unit|\n",
    "\n",
    "The most common in environmental flow and transport models are volumetric and massic.  \n",
    "\n",
    "There are cases where multiple phases are present (multi-phase transport) and multiple components in a solute mixture (multi-component).\n",
    "\n",
    "Emulsions are a special kind of two-(or more)phase system where the emulsion behaves as a single phase with respect to motion.  Oil-in-water, water-in-oil, biosolids-in-water (technically a slurry), coal-in-water (a slurry) are examples of common emulsions."
   ]
  },
  {
   "cell_type": "markdown",
   "metadata": {},
   "source": [
    "I use the terms constituients and pollutants more or less interchangeably; however a pollutant reflects a value judgement - if the particular constituient is undesirable, for example methyl-ethyl death in water - then its a pollutant, otherwise its just a lowly constituient.  The distinction is irrelevant unless lawyers, judges, and money are involved - then be careful; someone goes to jail, and someone loses their doublewide if you get your mords wixed!\n",
    "\n",
    "## Non-reactive constituients\n",
    "\n",
    "Non-reactive constituients are constituients that **do not** undergo changes, exchanges, or reactions while traversing a region of interest.\n",
    "\n",
    "Solutes are constituients that are soluible in the solvent or are larger aggregates that to not constitute a distinct mobile phase from the transporting or host fluid.\n",
    "\n",
    "Examples include:\n",
    "1. Chemicals dissolved in water\n",
    "2. Solids suspended in water (liquid-solid emulsion)\n",
    "3. Oil **dispersed** in water (liquid-liquid emulsion)\n",
    "4. Water dispersed in air (liquid-gas emulsion)\n",
    "5. nitrogen dissolved in air (mixture)\n",
    "\n",
    "Examples of systems that are not strictly solvent-solute pairs is an oil-water system where each liquid has a distinct phase, such as an oil slick in an estuary (distinct from produced water from a well which is almost always an emulsion) - such a system would be a two-phase system and is dealt with using different but related tools."
   ]
  },
  {
   "cell_type": "markdown",
   "metadata": {},
   "source": [
    "## Transport Processes\n",
    "\n",
    "The main transport processes of interest are listed below\n",
    "\n",
    ":::{note}\n",
    "Reactions are boundary conditions and while they affect behavior they are not in themselves considered as transport processes. They are most definitely fate processes, so we won't get to ignore them!\n",
    ":::\n",
    "\n",
    "### Advection\n",
    "\n",
    "Advection is the process by which a physical property, such as heat or a chemical substance, is transported by the motion of a fluid. This motion can be due to *convection*, where a fluid is heated or cooled and subsequently moves because of intrinsic density changes, or it can be due to the movement of the fluid itself by pressure gradients, such as in a river or ocean current, which is called *forced convection*.\n",
    "\n",
    ":::{note}\n",
    "In meteorology, advection refers to the horizontal movement of air or other atmospheric properties, such as moisture or temperature, by the wind. For example, warm air moving from the tropics to the poles is an example of advection.\n",
    "\n",
    "In oceanography, advection refers to the horizontal movement of water or other oceanic properties, such as salinity or nutrients, by ocean currents.\n",
    ":::\n",
    "\n",
    "In our discussion herein, advection is the transport of solutes by the motion of the host fluid.\n",
    "\n",
    "### Diffusion\n",
    "\n",
    "Solute diffusion in groundwater is the process by which solutes, such as dissolved contaminants or nutrients, move through the pore spaces and fractures of soil and rock in the subsurface. The rate and direction of solute diffusion are influenced by several factors, including the concentration gradient, the properties of the solute and the porous medium, and the temperature and pressure of the groundwater.\n",
    "\n",
    "The movement of solutes in groundwater can occur through both advection and diffusion. Advection refers to the movement of solutes due to the bulk flow of groundwater, while diffusion refers to the movement of solutes from areas of high concentration to areas of low concentration due to the random motion of molecules.\n",
    "\n",
    "The diffusion of solutes in groundwater is affected by the porosity and permeability of the subsurface, as well as the molecular properties of the solutes. For example, larger and more complex molecules may diffuse more slowly than smaller, simpler molecules. The temperature of the groundwater can also affect solute diffusion, as higher temperatures generally result in faster molecular motion and increased diffusion rates.\n",
    "\n",
    "Understanding solute diffusion in groundwater is important for predicting the movement and fate of contaminants in the subsurface, as well as for managing and protecting groundwater resources. Models of solute diffusion can be used to predict the transport of contaminants in the subsurface and to evaluate the effectiveness of different remediation strategies.\n",
    "\n",
    "A more compact definition is that diffusion is the mixing of solutes by Brownian (random) motion processes. Net transport is proportional to concentration gradients.\n",
    "\n",
    "### Dispersion\n",
    "\n",
    "Solute dispersion in groundwater refers to the spreading and mixing of solutes, such as dissolved contaminants or nutrients, as they move through the pore spaces and fractures of soil and rock in the subsurface. The rate and extent of solute dispersion are influenced by several factors, including the properties of the solute and the porous medium, the flow velocity of the groundwater, and the geometry of the flow paths.\n",
    "\n",
    "The movement of solutes in groundwater can occur through both advection and dispersion. Advection refers to the movement of solutes due to the bulk flow of groundwater, while dispersion refers to the spreading and mixing of solutes as they move through the subsurface due to variations in the velocity and direction of groundwater flow.\n",
    "\n",
    "Solute dispersion in groundwater can be characterized by several different parameters, including the longitudinal dispersivity, which describes the spreading of solutes parallel to the direction of groundwater flow, and the transverse dispersivity, which describes the spreading of solutes perpendicular to the direction of groundwater flow.\n",
    "\n",
    "Understanding solute dispersion in groundwater is important for predicting the movement and fate of contaminants in the subsurface, as well as for managing and protecting groundwater resources. Models of solute dispersion can be used to predict the transport of contaminants in the subsurface and to evaluate the effectiveness of different remediation strategies.\n",
    "\n",
    "Observe the definition is practically the same as that for diffusion, except the temperature importance is replaced by the concepts of dispersivity.\n",
    "\n",
    "The similarity arises in part because ultimately a Fickian-type descrpition is used to explain behavior for either process (the meanings and magnitudes of the dispersion coeficient and the diffusion coefficient are quite different).\n",
    "A compact definition is that dispersion is the mixing of solutes by small and large scale variations in the velocity field of the host fluid caused by shear resistance, turbulent fluctuations, and the braided flow paths.  Net transport is usually modeled as proportional to concentration gradients. \n",
    "\n",
    "Dispersion appears in several types:\n",
    "1. Shear induced dispersion (pipes and open channel flows)\n",
    "2. Turbulent dispersion (open flows)\n",
    "3. Hydrodynamic dispersion (porous flows)"
   ]
  },
  {
   "cell_type": "markdown",
   "metadata": {},
   "source": [
    "## References\n",
    "\n",
    "1. [Becquerel (radioactivity unit)](https://en.wikipedia.org/wiki/Becquerel)\n",
    "2. [Fluid Mechanics Review (my notes)](http://54.243.252.9/ce-5364-webroot/3-Readings/FluidMechanicsReview.PDF)\n",
    "3. [Fluid Properties (reading)](http://54.243.252.9/ce-5364-webroot/3-Readings/FluidPropertiesReading.pdf)\n",
    "4. [Modeling Pollution (my notes)](http://54.243.252.9/ce-5364-webroot/3-Readings/ModelingPollution.PDF)\n",
    "5. [Transport Processes (reading)](http://54.243.252.9/ce-5364-webroot/3-Readings/TransportPhenomenonReading.pdf)"
   ]
  },
  {
   "cell_type": "code",
   "execution_count": null,
   "metadata": {},
   "outputs": [],
   "source": []
  }
 ],
 "metadata": {
  "kernelspec": {
   "display_name": "Python 3 (ipykernel)",
   "language": "python",
   "name": "python3"
  },
  "language_info": {
   "codemirror_mode": {
    "name": "ipython",
    "version": 3
   },
   "file_extension": ".py",
   "mimetype": "text/x-python",
   "name": "python",
   "nbconvert_exporter": "python",
   "pygments_lexer": "ipython3",
   "version": "3.10.12"
  }
 },
 "nbformat": 4,
 "nbformat_minor": 4
}