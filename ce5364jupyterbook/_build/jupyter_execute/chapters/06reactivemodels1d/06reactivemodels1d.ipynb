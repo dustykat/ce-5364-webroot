{
 "cells": [
  {
   "cell_type": "markdown",
   "id": "24540ba1-0faa-4cb0-8f46-82d176b30be7",
   "metadata": {},
   "source": [
    "# 6. 1-D Transport with Sorption and Decay\n",
    "\n",
    "## Scope\n",
    "- Retardation factor and first-order decay\n",
    "- Example problems with parameter sensitivity analysis"
   ]
  }
 ],
 "metadata": {
  "kernelspec": {
   "display_name": "Python Common Environment",
   "language": "python",
   "name": "python-my-env"
  },
  "language_info": {
   "codemirror_mode": {
    "name": "ipython",
    "version": 3
   },
   "file_extension": ".py",
   "mimetype": "text/x-python",
   "name": "python",
   "nbconvert_exporter": "python",
   "pygments_lexer": "ipython3",
   "version": "3.10.12"
  }
 },
 "nbformat": 4,
 "nbformat_minor": 5
}