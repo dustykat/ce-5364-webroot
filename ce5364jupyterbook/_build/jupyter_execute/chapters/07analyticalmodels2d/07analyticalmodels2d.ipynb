{
 "cells": [
  {
   "cell_type": "markdown",
   "id": "878634bc-9cfc-46e4-8485-b507413ea6bb",
   "metadata": {},
   "source": [
    "# 7. 2-D Analytical Transport Models\n",
    "\n",
    "## Scope\n",
    "- Domineco-Robbins approximation\n",
    "- Instantaneous vs. continuous sources\n",
    "- Application of the Ogata-Banks solution"
   ]
  }
 ],
 "metadata": {
  "kernelspec": {
   "display_name": "Python Common Environment",
   "language": "python",
   "name": "python-my-env"
  },
  "language_info": {
   "codemirror_mode": {
    "name": "ipython",
    "version": 3
   },
   "file_extension": ".py",
   "mimetype": "text/x-python",
   "name": "python",
   "nbconvert_exporter": "python",
   "pygments_lexer": "ipython3",
   "version": "3.10.12"
  }
 },
 "nbformat": 4,
 "nbformat_minor": 5
}