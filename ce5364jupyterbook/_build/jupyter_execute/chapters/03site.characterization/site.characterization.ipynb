{
 "cells": [
  {
   "cell_type": "markdown",
   "metadata": {},
   "source": [
    "# 6. Site Characterization\n",
    "\n",
    ":::{tip}\n",
    "The [textbook (pp. 113-158)](http://54.243.252.9/ce-5364-webroot/3-Readings/Bedient_et_al/Bedient_et_al._Chapter_5.pdf) has a decent description of how to perform an overall site investigation.\n",
    ":::"
   ]
  },
  {
   "cell_type": "markdown",
   "metadata": {},
   "source": [
    ":::{admonition} Course Website\n",
    "[Link to Course Website](http://54.243.252.9/ce-5364-webroot/)\n",
    ":::\n",
    "\n",
    "---"
   ]
  },
  {
   "cell_type": "code",
   "execution_count": 1,
   "metadata": {},
   "outputs": [
    {
     "data": {
      "text/html": [
       "<style> table {margin-left: 0 !important;} </style>\n"
      ],
      "text/plain": [
       "<IPython.core.display.HTML object>"
      ]
     },
     "metadata": {},
     "output_type": "display_data"
    }
   ],
   "source": [
    "%%html\n",
    "<style> table {margin-left: 0 !important;} </style>"
   ]
  },
  {
   "cell_type": "markdown",
   "metadata": {},
   "source": [
    "In the previous lesson on site mapping, we examined how to determine and map the extent of contamination, focusing on delineating plume boundaries and identifying zones of concern. With that foundation in place, we now turn to the physical characteristics of the aquifer itself. Understanding these hydraulic properties is essential for predicting how contaminants will migrate and for selecting effective remediation strategies."
   ]
  },
  {
   "cell_type": "markdown",
   "metadata": {},
   "source": [
    "## Readings\n",
    "\n",
    "1. [Cleveland, T.G., 1996. ”Type-Curve Matching using a Computer Spreadsheet,”\n",
    "Ground Water, Vol. 34, No. 3.](http://54.243.252.9/about-me-webroot/about-me/MyWebPapers/journal_papers/type_curve_jgw_1996/type_curve_jgw_1996.pdf)\n",
    "\n",
    "2. [Cleveland, T.G., 1996. ”Type-Curve Matching using a Computer Spreadsheet,”\n",
    "Ground Water, Vol. 34, No. 3. (Spreadsheets in the Document (XLS))](http://54.243.252.9/about-me-webroot/about-me/MyWebPapers/journal_papers/type_curve_jgw_1996/)\n",
    "\n",
    "3. [Hvorslev, 1951. \"Time Lag and Soil Permeability in Ground Water Observations\", Bulletin No. 36, U.S. Army Corps of Engineers p. 50.](https://health.hawaii.gov/heer/files/2021/07/Hvorslev1951.pdf)\n",
    "\n",
    "4. [Cleveland, T.G., (2001) *Groundwater Hydrology - Lecture 010* Lecture Notes to accompany CE 6361 at the University of Houston](http://54.243.252.9/ce-4363-webroot/ce4363notes/lessons/10gwflow2wells/Lecture010.PDF)\n",
    "\n",
    "5. [Slug Tests SOP#2046 US. EPA](https://dem.ri.gov/sites/g/files/xkgbur861/files/pubs/sops/wmsr2046.pdf)\n",
    "\n",
    "6. [Chirlin G. R. (1989) A Critique of the Hvorslev Method for Slug Test Analysis: The Fully Penetrating Well](\n",
    "https://doi.org/10.1111/j.1745-6592.1989.tb01147.x)\n",
    "\n",
    "7. [Springer, R.K. and L.W. Gelhar, 1991. Characterization of large-scale aquifer heterogeneity in glacial outwash by analysis of slug tests with oscillatory response, Cape Cod, Massachusetts, U.S. Geol. Surv. Water Res. Invest. Rep. 91-4034, pp. 36-40.](https://pubs.usgs.gov/publication/wri914034)\n",
    "\n",
    "8. Bouwer, H. and R.C. Rice, 1976. A slug test method for determining hydraulic conductivity of unconfined aquifers with completely or partially penetrating wells, Water Resources Research, vol. 12, no. 3, pp. 423-428.\n",
    "\n",
    "9. [Butler, J.J., Jr. and E.J. Garnett, 2000. Simple procedures for analysis of slug tests in formations of high hydraulic conductivity using spreadsheet and scientific graphics software, Kansas Geological Survey Open-File Rept. 2000-40.](https://www.kgs.ku.edu/Hydro/Publications/OFR00_40/index.html)\n",
    "\n"
   ]
  },
  {
   "cell_type": "markdown",
   "metadata": {},
   "source": [
    "The first steps beyond identifying the contaminant plume is to understand the physical characteristics of the subsurface that control groundwater movement and contaminant transport. This process, broadly referred to as site characterization, provides the foundation for selecting, designing, and evaluating remediation strategies.\n",
    "\n",
    "In this lesson, we will focus on characterizing the hydraulic properties of an aquifer, since these govern both the rate and direction of groundwater flow. Two properties that are particularly important are:\n",
    "\n",
    "- Hydraulic Conductivity ($K$): a measure of how easily water can move through pore spaces or fractures.\n",
    "- Porosity ($n$): the fraction of the subsurface volume that is void space, influencing both groundwater storage and contaminant residence time.\n",
    "\n",
    "To estimate these properties in practice, hydrogeologists rely on field-based hydraulic methods and, in some cases, tracer tests:\n",
    "\n",
    "- Slug tests provide localized estimates of aquifer response by observing how water levels recover after a sudden displacement in a well.\n",
    "\n",
    "- Pumping tests involve sustained pumping from a well and observing drawdown in surrounding wells, yielding information about aquifer transmissivity and storage at a larger scale.\n",
    "\n",
    "- Tracer tests—the intentional release and monitoring of a harmless tracer—reveal information about porosity, flow paths, and dispersion that cannot be obtained from hydraulic data alone.\n",
    "\n",
    "Combined, these methods allow us to quantify how groundwater moves, how fast contaminants might spread, and how the subsurface will respond to remediation measures. By the end of this lesson, you should be able to explain the purpose of each method, interpret typical results, and understand their role in developing a conceptual model of a contaminated site.\n",
    "\n",
    "### Lesson Roadmap\n",
    "\n",
    "In this lesson, we will:\n",
    "\n",
    "- Examine \"hydrogeologic frameworks\" to inform any design or risk assessment decisions.\n",
    "- Review key hydraulic properties (hydraulic conductivity and porosity) and their significance in contaminant transport.\n",
    "- Introduce slug tests as a method for measuring local aquifer response.\n",
    "- Examine pumping tests for larger-scale characterization of transmissivity and storage.\n",
    "- Explore tracer tests as a tool to investigate porosity, flow paths, and dispersion.\n",
    "- Discuss practical considerations and limitations of each method, emphasizing their role in building a conceptual site model."
   ]
  },
  {
   "cell_type": "markdown",
   "metadata": {},
   "source": [
    "## Hydrogeologic Frameworks\n",
    "\n",
    "### The Unsaturated (Vadose) Zone\n",
    "\n",
    "The unsaturated, or vadose, zone is a vital component of the Earth's subsurface that plays a pivotal role in the quality of groundwater resources. Situated above the saturated zone, where groundwater is found, the unsaturated zone acts as a barrier that contaminants must traverse before reaching the underlying aquifers. \n",
    "\n",
    "**Characteristics of the Unsaturated Zone:**\n",
    "\n",
    "- Overlying the Saturated Zone\n",
    "    The unsaturated zone is the region that overlies the saturated zone, which contains groundwater. It acts as the initial layer of defense against potential contamination, as any substances entering the unsaturated zone must pass through it before they can reach the underlying aquifers.\n",
    "\n",
    "- Contaminant Migration\n",
    "    Contaminants introduced into the environment almost invariably encounter the unsaturated zone on their journey to the aquifers. This zone is the first line of defense against pollutants, as it often serves as a natural filter, removing or attenuating contaminants before they can impact the groundwater.\n",
    "\n",
    "- Fluid Movement\n",
    "    Fluid movement within the unsaturated zone is governed by a complex interplay of physical forces, including surface tension, capillarity, and gravity. These forces influence the direction and rate at which water and other fluids move through the unsaturated zone. Surface tension and capillarity can draw water upward against the force of gravity, creating a dynamic and intricate flow regime.\n",
    "\n",
    "- Non-Homogeneous Nature\n",
    "    The unsaturated zone is non-homogeneous, meaning it lacks uniformity in terms of soil and rock properties. This heterogeneity can make accurate description of the geologic makeup a challenging task. To understand the composition and structure of the unsaturated zone, extensive subsurface investigations are often required, involving techniques such as borehole drilling, soil sampling, and geophysical surveys.\n",
    "\n",
    "**Processes Governing Flow in the Unsaturated Zone:**\n",
    "\n",
    "Several critical processes influence the flow of fluids within the unsaturated zone, ultimately determining its effectiveness as a protective barrier for groundwater. These processes include:\n",
    "\n",
    "- Hysteresis\n",
    "    Hysteresis describes the phenomenon where the wetting and drying paths of the unsaturated zone do not coincide. The relationship between moisture content and pressure or suction varies depending on whether the unsaturated zone is drying out or becoming wetter. Understanding hysteresis is essential for accurate modeling and prediction of fluid flow in this region.\n",
    "\n",
    "- Macropore Flow\n",
    "    Macropores are relatively large openings in the subsurface, such as fractures, root channels, and wormholes, that allow for rapid flow of water and contaminants. Macropore flow can significantly influence the movement of water and contaminants in the unsaturated zone, often bypassing the slower matrix flow and presenting challenges in contamination remediation.\n",
    "\n",
    "- Capillary Movement\n",
    "    Capillary action is the phenomenon responsible for water's ability to move upward in narrow soil pores against the force of gravity. Capillarity is a critical mechanism in the unsaturated zone that influences moisture distribution, particularly in fine-textured soils, and can facilitate the transport of contaminants.\n",
    "\n",
    "- Darcian Flow\n",
    "    Darcian flow is the slow, matrix flow of fluids through the unsaturated zone. It occurs when water moves through the interconnected pores and fractures within the soil and rock. This process can filter and attenuate contaminants, making it a key mechanism in protecting aquifers."
   ]
  },
  {
   "cell_type": "markdown",
   "metadata": {},
   "source": [
    "### The Saturated (Aquifer) Zone\n",
    "\n",
    "Underlying the unsaturated (vadose) zone, where water, air, and contaminants navigate, the saturated zone is completely inundated with water. \n",
    "\n",
    "**Characteristics of the Saturated Zone:**\n",
    "\n",
    "- Complete Saturation\n",
    "    The most defining characteristic of the saturated zone is its complete saturation with water. Unlike the unsaturated zone, which allows for the presence of both air and water, this realm beneath the surface is fully immersed in water. Consequently, it is the reservoir for groundwater storage.\n",
    "\n",
    "**Geologic Environments of the Saturated Zone:**\n",
    "\n",
    "The saturated zone can be encountered in various geologic settings, each with its unique attributes and groundwater potential. These environments include:\n",
    "\n",
    "- Igneous-Metamorphic Systems\n",
    "    In igneous and metamorphic rock environments, the saturated zone is often less abundant. These rocks are typically dry and do not yield significant amounts of groundwater. Flow within these systems primarily occurs in fractures, and in some cases, it may be substantial, contributing to localized groundwater resources.\n",
    "\n",
    "- Sedimentary Systems\n",
    "    Sedimentary environments, comprising sediments and limestones, are more conducive to groundwater abundance compared to igneous-metamorphic systems. In these settings, groundwater typically flows between the grains and voids of the sedimentary layers, with fractures also playing a role in certain cases. The relatively permeable nature of sedimentary rocks allows for the movement and storage of substantial groundwater resources.\n",
    "\n",
    "- Alluvial-Fluvial Systems\n",
    "    Alluvial and fluvial systems represent an abundant source of groundwater. These systems are characterized by the deposition of sediments carried by fluvial processes in shallow or deep basins. Groundwater is plentiful in these environments, with most systems comprised of clay and sand beds. The geometry of interbedding within these systems influences the behavior of groundwater flow, making it a dynamic and complex setting for hydrogeological investigations.\n",
    "\n",
    "**Flow Behavior in the Saturated Zone:**\n",
    "\n",
    "The flow dynamics within the saturated zone are influenced by the specific geologic environment in which it is found:\n",
    "\n",
    "- Fracture Flow\n",
    "    In igneous-metamorphic systems, fracture flow is a significant factor. Water flows primarily through fractures and faults in the rock, which act as conduits for groundwater movement. The effectiveness of fracture flow in these systems depends on the density and connectivity of fractures.\n",
    "\n",
    "- Intergranular Flow\n",
    "    Sedimentary systems exhibit intergranular flow, where water moves between the grains and voids of the sedimentary layers. This flow mechanism allows for the storage and movement of groundwater within the porous sedimentary rock.\n",
    "\n",
    "- Alluvial-Fluvial Influences\n",
    "    Alluvial and fluvial systems present unique flow dynamics. The abundance of groundwater in these systems is influenced by the composition and geometry of the interbedding of clay and sand beds. The interaction of fluvial processes and sediment deposition plays a crucial role in groundwater availability and movement in these environments."
   ]
  },
  {
   "cell_type": "markdown",
   "metadata": {},
   "source": [
    "### Groundwater Motion\n",
    "\n",
    "Discharge is proportional to driving energy (hydraulic gradient) cross sectional area ($A$), and ease of conductance (hydraulic conductivity, $K$) formally represented by Darcy's law \n",
    "\n",
    "$$\\vec{Q} = - KA \\nabla(h)$$\n",
    "\n",
    "The interstitial (seepage) velocity is estimated as \n",
    "\n",
    "$$\\vec{v} = \\frac{1}{n}\\vec{\\frac{Q}{A}}$$ \n",
    "\n",
    "where $n$ is the porosity."
   ]
  },
  {
   "cell_type": "markdown",
   "metadata": {},
   "source": [
    "## Concepts of Investigations\n",
    "\n",
    "Site investigation in hydrogeology is a critical step in understanding the complex interplay between geological features, groundwater flow, and potential contamination risks. The primary goal of such investigations is to collect comprehensive and accurate data to define the extent of contamination, allowing for the design of effective remediation strategies. \n",
    "\n",
    "**Defining the Extent of Contamination:**\n",
    "\n",
    "Site investigations serve as the foundation for delineating the extent of contamination within an area. Accurate data collection is vital to ensure that contamination plumes are well-defined, enabling the design of tailored and efficient remediation approaches. As the costs associated with remediation can be substantial, the need for precise information cannot be overstated.\n",
    "\n",
    "**The Role of Site Geology:**\n",
    "\n",
    "Site geology plays a pivotal role in forming the physical framework that governs the movement of groundwater and contaminants. The geological characteristics, such as the presence of aquifers, confining layers, and structural features, profoundly influence the flow pathways and dispersion of contaminants. Thus, a thorough understanding of site geology is essential for both contamination assessment and remediation design.\n",
    "\n",
    "**Scale and Specificity:**\n",
    "\n",
    "Site investigations in hydrogeology are fundamentally different from other hydrogeologic studies, such as regional water resource assessments. These investigations focus on small areas in intricate detail, rather than broad-scale assessments. In such cases, the devil is in the details, as small features can significantly impact groundwater flow and contamination migration.\n",
    "\n",
    "**Small-Scale Features of Significance:**\n",
    "\n",
    "- Shallow Water Zones\n",
    "    One of the primary objectives of site investigations is to identify shallow water zones that may not typically be used as water resources. These zones may be close to the surface and can be more susceptible to contamination, making their assessment vital for environmental protection.\n",
    "\n",
    "- Geological Study\n",
    "    Site geological studies provide the foundation for understanding the subsurface characteristics. Strata a few inches thick, animal burrows, root holes, cracks, decayed piping, and foundation drains are all small features that can influence groundwater flow, making their detailed quantification crucial.\n",
    "\n",
    "**Field Strategy:**\n",
    "\n",
    "A strategic approach to site investigation involves combining traditional water resources quantification methods with a detailed focus on small-scale features. This strategy allows for a comprehensive assessment of the site, ensuring that both the broader hydrogeological context and the specific intricacies are taken into account. Traditional techniques might include hydrogeological testing and monitoring well installation, while the detailed assessment would encompass close examination and quantification of small-scale features that could impact groundwater flow and contamination movement.\n",
    "\n",
    "![](conceptualsite.png) ![](background.png)"
   ]
  },
  {
   "cell_type": "markdown",
   "metadata": {},
   "source": [
    "### Subsurface Exploration Concepts\n",
    "\n",
    "![](subsurface.png)\n",
    "![](logistics.png)\n",
    "\n",
    "![](geodatacollect.png)"
   ]
  },
  {
   "cell_type": "markdown",
   "metadata": {},
   "source": []
  },
  {
   "cell_type": "markdown",
   "metadata": {},
   "source": [
    "### Drilling Boreholes\n",
    "\n",
    "![](drillingandsampling.png) ![](hollowstemsample.png) \n",
    "\n",
    "![](drillingmethods.png) \n",
    "\n",
    "**Videos**\n",
    "\n",
    "[Dry Auger Drilling (youtube)](https://www.youtube.com/watch?v=NbmfcXJLFNM)\n",
    "\n",
    "[Cable Tool Drilling (youtube)](https://www.youtube.com/watch?v=H6N0x8BnOKE)\n",
    "\n",
    "[Air Rotary Drilling (youtube)](https://www.youtube.com/watch?v=hPV3_PXvQnc)\n",
    "\n",
    "[Reverse-Circulation Rotary (youtube)](https://www.youtube.com/watch?v=7VCTv30WcLQ)\n",
    "\n",
    "[Mud-Rotary Drilling (youtube)](https://www.youtube.com/watch?v=wsnN_xuR4EQ)\n",
    "\n"
   ]
  },
  {
   "cell_type": "markdown",
   "metadata": {},
   "source": [
    "### Sampling Considerations\n",
    "\n",
    "![](decontamination.png)\n",
    "\n",
    "**Shelby-Tube Sample Probe**\n",
    "\n",
    "![](shelby.png)\n",
    "\n",
    "**Split Spoon Sample Probe (Typ.)**\n",
    "\n",
    "![Split Spoon Sample Probe (Typical)](splitspoon.png)\n",
    "\n",
    "**Piston-Core Sample Probe**\n",
    "\n",
    "![](pistoncore.png)\n",
    "\n",
    "[Getting high-quality samples in ‘sensitive’ soils for advanced\n",
    "laboratory tests. Innov. Infrastruct. Solut. (2017) 2:34](http://54.243.252.9/ce-5364-webroot/ce5364notes/chapters/16siteinvestigation/SamplerPaper.pdf)\n",
    "\n",
    "![](drilltypes.png) ![](hollowstemsample.png) \n",
    "\n",
    "\n",
    "\n",
    "![](procondrilling.png)\n",
    "\n",
    "![](boreholelogging.png) ![](gwinboring.png)"
   ]
  },
  {
   "cell_type": "markdown",
   "metadata": {},
   "source": [
    "### Monitoring Wells\n",
    "\n",
    "![](mwconsider.png) ![](wellscreen.png)\n",
    "\n",
    " ![](surfacecomplete.png) ![](completewell.png)\n",
    " \n",
    "**Cluster Wells**\n",
    "\n",
    "![](clusterwell.png)\n",
    "\n",
    "![](gwsampling.png) ![](laboratories.png)\n",
    "\n",
    "![](protocols.png)"
   ]
  },
  {
   "cell_type": "markdown",
   "metadata": {},
   "source": [
    "### QA/QC Considerations\n",
    "\n",
    "![](qaqc.png) \n",
    "\n",
    "![](bias.png) ![](duplicates.png)\n",
    "\n",
    "![](samplecollection.png) ![](collectingsample.png)"
   ]
  },
  {
   "cell_type": "markdown",
   "metadata": {},
   "source": [
    "![](samplers.png)\n",
    "\n",
    "![](lowK.png) ![](vadosesampler.png)"
   ]
  },
  {
   "cell_type": "markdown",
   "metadata": {},
   "source": [
    "[Keller Landfill Hydrogeology Example](http://54.243.252.9/ce-5364-webroot/ce5364jupyterbook/chapters/03site.characterization/HydrogeologyPractice.pdf)"
   ]
  },
  {
   "cell_type": "markdown",
   "metadata": {},
   "source": [
    "## Slug Tests\n",
    "\n",
    "A slug test is a localized field method used to estimate aquifer hydraulic conductivity by observing how groundwater levels in a well respond to a sudden, small change in water level. This change—called a “slug”—is usually introduced by quickly adding or removing a known volume of water, or by inserting/removing a solid object. The subsequent water level recovery is recorded over time and analyzed to infer aquifer properties in the immediate vicinity of the well.\n",
    "\n",
    "Slug tests are particularly valued in contaminated settings because they do not require sustained pumping and therefore avoid the need to withdraw, handle, and dispose of potentially contaminated water. However, the trade-off is that slug tests represent only a very small zone around the test well, limiting their spatial validity compared to larger-scale methods such as pumping tests.\n",
    "\n",
    "[Slug Test wikipedia](https://en.wikipedia.org/wiki/Slug_test)\n",
    "\n",
    "**Hvorslov's Approach**\n",
    "\n",
    "![](slug1.png)\n",
    "\n",
    "![](slug2.png)\n",
    "\n",
    "![](slug3.png)\n",
    "\n",
    "![](slug4.png)\n",
    "\n",
    "![](slug5.png)\n",
    "\n",
    "![](slug6.png)\n",
    "\n",
    "The spreadsheet above is located at [Slugtest_Hvorslev.xls](http://54.243.252.9/ce-5364-webroot/ce5364jupyterbook/chapters/03site.characterization/Slugtest_Hvorslev.xls)\n",
    "\n",
    "A python script to perform similar analysis (K is selected by guess-and-check) is shown below"
   ]
  },
  {
   "cell_type": "code",
   "execution_count": 2,
   "metadata": {},
   "outputs": [
    {
     "name": "stdout",
     "output_type": "stream",
     "text": [
      "\n",
      "=== INPUTS ===\n",
      "         well radius r: 0.083\n",
      "       filter radius R: 0.083\n",
      "       filter length L: 10.0\n",
      "           hydraulic K: 0.000864\n",
      "        shape factor A: 13.113191310477738\n",
      "  reference depth dref: 13.99\n",
      "\n",
      "=== TEST DATA (Time, Depth) ===\n",
      "      Time       Depth\n",
      "         0       14.87\n",
      "         1       14.59\n",
      "         2       14.37\n",
      "         3        14.2\n",
      "         4       14.11\n",
      "         5       14.05\n",
      "         6       14.03\n",
      "         7       14.01\n",
      "         8          14\n",
      "         9       13.99\n",
      "\n",
      "=== OBSERVED vs MODELED (aligned by time index) ===\n",
      "      Time       HwHoObs       HwHoMod  Diff(Obs-Mod)^2\n",
      "         0             1             1               0\n",
      "         1      0.681818      0.592444      0.00798778\n",
      "         2      0.431818       0.35099      0.00653325\n",
      "         3      0.238636      0.207942     0.000942166\n",
      "         4      0.136364      0.123194     0.000173446\n",
      "         5     0.0681818     0.0729854      2.3074e-05\n",
      "         6     0.0454545     0.0432397     4.90543e-06\n",
      "         7     0.0227273     0.0256171     8.35114e-06\n",
      "         8     0.0113636     0.0151767     1.45394e-05\n",
      "         9             0    0.00899134     8.08442e-05\n"
     ]
    },
    {
     "data": {
      "image/png": "[encoded data removed]",
      "text/plain": [
       "<Figure size 500x700 with 1 Axes>"
      ]
     },
     "metadata": {},
     "output_type": "display_data"
    }
   ],
   "source": [
    "# Hvorslev Slug Test Analysis (enhanced I/O + log-log plot)\n",
    "import math\n",
    "import matplotlib.pyplot as plt\n",
    "\n",
    "def HwHo(time, radius, conductivity, shape):\n",
    "    return math.exp(time * (-conductivity * shape) / (math.pi * radius**2))\n",
    "\n",
    "# --- Inputs ---\n",
    "r = 0.083      # well radius\n",
    "R = 0.083      # filter pack radius\n",
    "L = 10.0       # filter pack length\n",
    "K = .000864    # K guess - larger to make model plot flatter\n",
    "A = 2 * math.pi * L / math.log(L / R)  # Shape factor (geometry-dependent)\n",
    "dref = 13.99   # Pre-test depth to water\n",
    "\n",
    "# --- Print inputs (1) ---\n",
    "print(\"\\n=== INPUTS ===\")\n",
    "print(f\"{'well radius r':>22s}: {r}\")\n",
    "print(f\"{'filter radius R':>22s}: {R}\")\n",
    "print(f\"{'filter length L':>22s}: {L}\")\n",
    "print(f\"{'hydraulic K':>22s}: {K}\")\n",
    "print(f\"{'shape factor A':>22s}: {A}\")\n",
    "print(f\"{'reference depth dref':>22s}: {dref}\")\n",
    "\n",
    "# --- Test Observations ---\n",
    "etime = [0.,1.,2.,3.,4.,5.,6.,7.,8.,9.]\n",
    "depth = [14.87,14.59,14.37,14.2,14.11,14.05,14.03,14.01,14,13.99]\n",
    "\n",
    "# --- Print test data in two columns (2) ---\n",
    "print(\"\\n=== TEST DATA (Time, Depth) ===\")\n",
    "print(f\"{'Time':>10s}  {'Depth':>10s}\")\n",
    "for t_i, d_i in zip(etime, depth):\n",
    "    print(f\"{t_i:10.6g}  {d_i:10.6g}\")\n",
    "\n",
    "# --- Computed Values ---\n",
    "Hw = [d - dref for d in depth]\n",
    "HwHoObs = [0.0]*len(depth)\n",
    "HwHoMod = [0.0]*len(depth)\n",
    "for i, (t_i, Hw_i) in enumerate(zip(etime, Hw)):\n",
    "    HwHoObs[i] = Hw_i / Hw[0] if Hw[0] != 0 else float('nan')\n",
    "    HwHoMod[i] = HwHo(t_i, r, K, A)\n",
    "\n",
    "# --- Print side-by-side (3): Time, HwHoObs, HwHoMod, Diff ---\n",
    "print(\"\\n=== OBSERVED vs MODELED (aligned by time index) ===\")\n",
    "print(f\"{'Time':>10s}  {'HwHoObs':>12s}  {'HwHoMod':>12s}  {'Diff(Obs-Mod)^2':>14s}\")\n",
    "for t_i, o_i, m_i in zip(etime, HwHoObs, HwHoMod):\n",
    "    diff = (o_i - m_i)**2\n",
    "    print(f\"{t_i:10.6g}  {o_i:12.6g}  {m_i:12.6g}  {diff:14.6g}\")\n",
    "\n",
    "# --- Plot (4): linear time axis ---\n",
    "plt.figure(figsize=(5,7))\n",
    "plt.plot(etime, HwHoObs, marker='o', linestyle='none', label='HwHoObs (Observed)')\n",
    "plt.plot(etime, HwHoMod, linewidth=2, label='HwHoMod (Model)')\n",
    "plt.yscale('log') # set y-axis to display a logarithmic scale ######\n",
    "plt.xlabel(\"Elapsed Time\")\n",
    "plt.ylabel(\"H/H0\")\n",
    "plt.title(f\"Hvorslev Slug Test: H/H0 vs Time (linear time axis)\\n K={K:.3e}\")\n",
    "plt.grid(True, linestyle=':')\n",
    "plt.legend()\n",
    "plt.tight_layout()\n",
    "plt.show()"
   ]
  },
  {
   "cell_type": "markdown",
   "metadata": {},
   "source": [
    "**Nugyen and Pinder Approach**\n",
    "\n",
    "![](np1.png)\n",
    "\n",
    "![](np2.png)\n",
    "\n",
    "![](np3.png)\n",
    "\n",
    "A python script would function quite similarly and is left to the reader to construct (or you can buy one from [www.aqtesolv.com](http://www.aqtesolv.com/slug-tests/slug-tests.htm))"
   ]
  },
  {
   "cell_type": "markdown",
   "metadata": {},
   "source": [
    "## Pumping Tests\n",
    "\n",
    "A pumping test is a larger-scale method used to estimate aquifer transmissivity and storage properties by pumping groundwater from a well at a controlled rate and measuring the resulting drawdown in that well and in nearby observation wells. The analysis of drawdown over time and distance allows hydrogeologists to characterize aquifer behavior at a scale that reflects natural groundwater flow more accurately than slug tests.\n",
    "\n",
    "Pumping tests provide broader spatial validity, capturing aquifer properties over tens to hundreds of meters, which is useful for developing regional groundwater models and evaluating remediation strategies. However, in contaminated aquifers they present practical challenges: water extracted during the test must be managed and disposed of safely, adding cost and regulatory complexity."
   ]
  },
  {
   "cell_type": "markdown",
   "metadata": {},
   "source": [
    "## Tracer Tests\n",
    "\n",
    "A tracer test involves introducing a non-reactive or minimally reactive substance into the groundwater system and monitoring its movement over time at downstream wells. By observing the arrival time, concentration, and dispersion of the tracer, hydrogeologists can estimate effective porosity, identify flow paths, and quantify dispersion and mixing processes in the aquifer.\n",
    "\n",
    "Tracer tests provide valuable insight into how contaminants may migrate in real conditions, capturing transport behavior that hydraulic methods alone cannot reveal. However, their results are strongly influenced by the monitoring network design and subsurface heterogeneity, and they require careful planning to ensure the tracer is both environmentally safe and analytically detectable.\n",
    "\n",
    "\n",
    "\n",
    "Taken together, slug tests, pumping tests, and tracer tests form a complementary toolkit for site characterization. Each method provides a different scale of information: slug tests are quick and localized, pumping tests extend to a broader aquifer response, and tracer tests capture transport processes along flow paths. Understanding their relative strengths and limitations helps hydrogeologists design investigations that balance practicality, cost, and the need for reliable data.\n",
    "\n",
    "| Feature                  | Slug Test                                     | Pumping Test                                   | Tracer Test                                       |\n",
    "|---------------------------|-----------------------------------------------|-----------------------------------------------|---------------------------------------------------|\n",
    "| **Scale of influence**    | Very local (near the well, ~1–3 m radius)     | Regional (tens to hundreds of meters)         | Variable; depends on tracer path (tens to hundreds of meters) |\n",
    "| **Hydraulic property**    | Hydraulic conductivity (K)                    | Transmissivity (T) and storage properties (S) | Effective porosity, flow paths, dispersion        |\n",
    "| **Water handling**        | No water withdrawal (preferred in contaminated settings) | Requires withdrawal and safe disposal of potentially contaminated water | Introduces a non-toxic tracer; no pumping required unless combined with pumping test |\n",
    "| **Duration**              | Short (minutes to hours)                      | Longer (hours to days)                        | Variable (hours to weeks, depending on monitoring) |\n",
    "| **Cost & logistics**      | Low cost, simple equipment                    | Higher cost, pumping equipment and monitoring network required | Moderate; requires tracer chemical and sampling/analysis program |\n",
    "| **Spatial validity**      | Limited; may not represent broader aquifer    | Broad; reflects larger-scale aquifer behavior | Reveals flow and transport processes along flow paths, but depends on monitoring well network |\n",
    "\n",
    "\n",
    "In summary, no single method provides a complete picture of aquifer behavior. Slug tests are efficient for localized estimates, pumping tests extend characterization across a wider scale, and tracer tests reveal transport processes that hydraulic methods cannot capture. By considering the advantages and limitations of each, site characterization efforts can be tailored to the hydrogeologic setting and the practical constraints of contaminated site investigation."
   ]
  },
  {
   "cell_type": "markdown",
   "metadata": {},
   "source": []
  },
  {
   "cell_type": "raw",
   "metadata": {},
   "source": [
    "## Summary\n",
    "\n",
    "- Hydrological Assessment (for Flow and Transport)\n",
    "- Geologic Framework\n",
    "- Developing the Hydrogeologic Description\n",
    "- Preparing Illustrations"
   ]
  },
  {
   "cell_type": "raw",
   "metadata": {},
   "source": [
    "## Regulatory Framework\n",
    "\n",
    "### Water Rights\n",
    "\n",
    "### Federal Law\n",
    "\n",
    "## Groundwater Geochemistry\n"
   ]
  },
  {
   "cell_type": "markdown",
   "metadata": {},
   "source": [
    "## References\n",
    "\n",
    "1. [Cleveland, T.G. (circa 1995) \"Site Investigations\" in *Notes to accompany CE 6361 Groundwater Hydrology at University of Houston* ](http://54.243.252.9/ce-5364-webroot/3-Readings/MySiteInvestigation.pdf)\n",
    "\n",
    "2. [U.S. Environmental Protection Agency, Office of Solid Waste. (1986) RCRA ground-water monitoring technical enforcement guidance document. OSWER-9950.1](https://www.epa.gov/sites/default/files/documents/rcragwguiddoc-rpt_0.pdf)\n",
    "\n",
    "3. [USGS National Field Manual for Collection of Water Quality Data (2019)](https://www.usgs.gov/mission-areas/water-resources/science/national-field-manual-collection-water-quality-data-nfm)\n",
    "\n",
    "3. [California Code, Health and Safety Code - HSC § 25208.8 (Good specification of hydrological report contents)](https://codes.findlaw.com/ca/health-and-safety-code/hsc-sect-25208-8/)\n",
    "\n",
    "3. [Porter-Cologne Water Quality Control Act (2023 Edition)](https://www.waterboards.ca.gov/laws_regulations/docs/portercologne.pdf)\n",
    "\n",
    "1. [Cleveland, T.G. and W. W-G. Yeh, 1990. Sampling Network Design for Transport Parameter Identification, Journal of Water Resources Planning and Management, American Society of Civil Engineers, Vol. 116, No. 6, pp 764-782.](http://54.243.252.9/about-me-webroot/about-me/MyWebPapers/journal_papers/ASCE_JWRPM_1990A/ASCE_JWRPM_1990A.pdf)\n",
    "\n",
    "2. [Cleveland, T.G. and W. W-G. Yeh, 1991. Optimal Configuration and Scheduling of a Groundwater Tracer Test, Journal of Water Resources Planning and Management, American Society of Civil Engineers, Vol. 117, No. 1, pp 37-51](http://54.243.252.9/about-me-webroot/about-me/MyWebPapers/journal_papers/optimal_tracer_asce_1991/optimal_tracer_asce_1991.pdf)\n",
    "\n",
    "3. [Lee S-L. and Kitanidis P. K. 1996. Optimization of Monitoring Well Installation Time and Location During Aquifer Decontamination, Water Resources Management 10: 439-462](http://54.243.252.9/ce-5364-webroot/3-Readings/BF00422549.pdf)\n",
    "\n"
   ]
  },
  {
   "cell_type": "raw",
   "metadata": {},
   "source": [
    "### Unsaturated (Vadose) Zone\n",
    "- Region that overlies saturated zone.\n",
    "- Contaminants almost always pass through this region to get to an aquifer.\n",
    "- Fluid moves in response to surface tension, capillarity, and gravity.\n",
    "- Unsaturated zone is non-homogeneous.\n",
    "- Accurate description of the geologic makeup is difficult and requires substantial subsurface investigation\n",
    "- Important processes that govern flow in the unsaturated zone are:\n",
    "- Hysteresis\n",
    "- Macropore flow\n",
    "- Capillary movement\n",
    "- Darcian flow\n",
    "\n",
    "Collect data so that contamination extent is defined, and remediation can be designed.\n",
    "Site geology forms physical framework for groundwater and contaminant flow.\n",
    "Due to expenses involved the information must be as complete and accurate as possible for each borehole drilled\n",
    "Sites are small, scale is a lot different from other hydrogeologic (water resources type) investigations - one is looking at small areas in close detail.\n",
    "Searching for shallow water zones that are not usually used as a water resource - nearly all information is generated from the site geological study.\n",
    "Very small features are significant: strata a few inches thick, animal burrows, root holes, cracks, decayed piping, foundation drains, ...\n",
    "Field strategy is to proceede in a traditional (water resources quantification) manner, but also include detailed description and quantification of very small features."
   ]
  },
  {
   "cell_type": "code",
   "execution_count": null,
   "metadata": {},
   "outputs": [],
   "source": []
  }
 ],
 "metadata": {
  "kernelspec": {
   "display_name": "Python 3 (ipykernel)",
   "language": "python",
   "name": "python3"
  },
  "language_info": {
   "codemirror_mode": {
    "name": "ipython",
    "version": 3
   },
   "file_extension": ".py",
   "mimetype": "text/x-python",
   "name": "python",
   "nbconvert_exporter": "python",
   "pygments_lexer": "ipython3",
   "version": "3.10.12"
  }
 },
 "nbformat": 4,
 "nbformat_minor": 4
}