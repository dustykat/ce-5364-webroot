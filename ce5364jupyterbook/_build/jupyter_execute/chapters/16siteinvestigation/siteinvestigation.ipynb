{
 "cells": [
  {
   "cell_type": "markdown",
   "metadata": {},
   "source": [
    "# Site Characterization\n",
    "\n",
    ":::{tip}\n",
    "The textbook (pp. 113-158) has a decent description of how to perform an overall site investigation.\n",
    ":::\n",
    "\n",
    "In the previous lesson on site mapping, we examined how to determine and map the extent of contamination, focusing on delineating plume boundaries and identifying zones of concern. With that foundation in place, we now turn to the physical characteristics of the aquifer itself. Understanding these hydraulic properties is essential for predicting how contaminants will migrate and for selecting effective remediation strategies."
   ]
  },
  {
   "cell_type": "markdown",
   "metadata": {},
   "source": [
    "# Site Investigations \n",
    "\n",
    "The textbook (pp. 113-158) has a decent description of how to perform a site investigation.\n",
    "\n",
    "A short background follows:\n"
   ]
  },
  {
   "cell_type": "markdown",
   "metadata": {},
   "source": [
    "## Readings\n",
    "\n",
    "1. [Cleveland, T.G., 1996. ”Type-Curve Matching using a Computer Spreadsheet,”\n",
    "Ground Water, Vol. 34, No. 3.](http://54.243.252.9/about-me-webroot/about-me/MyWebPapers/journal_papers/type_curve_jgw_1996/type_curve_jgw_1996.pdf)\n",
    "\n",
    "2. [Cleveland, T.G., 1996. ”Type-Curve Matching using a Computer Spreadsheet,”\n",
    "Ground Water, Vol. 34, No. 3. (Spreadsheets in the Document (XLS))](http://54.243.252.9/about-me-webroot/about-me/MyWebPapers/journal_papers/type_curve_jgw_1996/)\n",
    "\n",
    "3. [Hvorslev, 1951. \"Time Lag and Soil Permeability in Ground Water Observations\", Bulletin No. 36, U.S. Army Corps of Engineers p. 50.](https://health.hawaii.gov/heer/files/2021/07/Hvorslev1951.pdf)\n",
    "\n",
    "4. [Cleveland, T.G., (2001) *Groundwater Hydrology - Lecture 010* Lecture Notes to accompany CE 6361 at the University of Houston](http://54.243.252.9/ce-4363-webroot/ce4363notes/lessons/10gwflow2wells/Lecture010.PDF)\n",
    "\n",
    "5. [Slug Tests SOP#2046 US. EPA](https://dem.ri.gov/sites/g/files/xkgbur861/files/pubs/sops/wmsr2046.pdf)\n",
    "\n",
    "6. [Chirlin G. R. (1989) A Critique of the Hvorslev Method for Slug Test Analysis: The Fully Penetrating Well](\n",
    "https://doi.org/10.1111/j.1745-6592.1989.tb01147.x)\n",
    "\n",
    "7. [Springer, R.K. and L.W. Gelhar, 1991. Characterization of large-scale aquifer heterogeneity in glacial outwash by analysis of slug tests with oscillatory response, Cape Cod, Massachusetts, U.S. Geol. Surv. Water Res. Invest. Rep. 91-4034, pp. 36-40.](https://pubs.usgs.gov/publication/wri914034)\n",
    "\n",
    "8. Bouwer, H. and R.C. Rice, 1976. A slug test method for determining hydraulic conductivity of unconfined aquifers with completely or partially penetrating wells, Water Resources Research, vol. 12, no. 3, pp. 423-428.\n",
    "\n",
    "9. [Butler, J.J., Jr. and E.J. Garnett, 2000. Simple procedures for analysis of slug tests in formations of high hydraulic conductivity using spreadsheet and scientific graphics software, Kansas Geological Survey Open-File Rept. 2000-40.](https://www.kgs.ku.edu/Hydro/Publications/OFR00_40/index.html)\n",
    "\n"
   ]
  },
  {
   "cell_type": "markdown",
   "metadata": {},
   "source": []
  },
  {
   "cell_type": "markdown",
   "metadata": {},
   "source": [
    "## Hydrogeologic Frameworks\n",
    "\n",
    "### The Unsaturated (Vadose) Zone\n",
    "\n",
    "The unsaturated, or vadose, zone is a vital component of the Earth's subsurface that plays a pivotal role in the quality of groundwater resources. Situated above the saturated zone, where groundwater is found, the unsaturated zone acts as a barrier that contaminants must traverse before reaching the underlying aquifers. \n",
    "\n",
    "**Characteristics of the Unsaturated Zone:**\n",
    "\n",
    "- Overlying the Saturated Zone\n",
    "    The unsaturated zone is the region that overlies the saturated zone, which contains groundwater. It acts as the initial layer of defense against potential contamination, as any substances entering the unsaturated zone must pass through it before they can reach the underlying aquifers.\n",
    "\n",
    "- Contaminant Migration\n",
    "    Contaminants introduced into the environment almost invariably encounter the unsaturated zone on their journey to the aquifers. This zone is the first line of defense against pollutants, as it often serves as a natural filter, removing or attenuating contaminants before they can impact the groundwater.\n",
    "\n",
    "- Fluid Movement\n",
    "    Fluid movement within the unsaturated zone is governed by a complex interplay of physical forces, including surface tension, capillarity, and gravity. These forces influence the direction and rate at which water and other fluids move through the unsaturated zone. Surface tension and capillarity can draw water upward against the force of gravity, creating a dynamic and intricate flow regime.\n",
    "\n",
    "- Non-Homogeneous Nature\n",
    "    The unsaturated zone is non-homogeneous, meaning it lacks uniformity in terms of soil and rock properties. This heterogeneity can make accurate description of the geologic makeup a challenging task. To understand the composition and structure of the unsaturated zone, extensive subsurface investigations are often required, involving techniques such as borehole drilling, soil sampling, and geophysical surveys.\n",
    "\n",
    "**Processes Governing Flow in the Unsaturated Zone:**\n",
    "\n",
    "Several critical processes influence the flow of fluids within the unsaturated zone, ultimately determining its effectiveness as a protective barrier for groundwater. These processes include:\n",
    "\n",
    "- **Hysteresis**: Hysteresis describes the phenomenon where the wetting and drying paths of the unsaturated zone do not coincide. The relationship between moisture content and pressure or suction varies depending on whether the unsaturated zone is drying out or becoming wetter. Understanding hysteresis is essential for accurate modeling and prediction of fluid flow in this region.\n",
    "\n",
    "- **Macropore Flow**: Macropores are relatively large openings in the subsurface, such as fractures, root channels, and wormholes, that allow for rapid flow of water and contaminants. Macropore flow can significantly influence the movement of water and contaminants in the unsaturated zone, often bypassing the slower matrix flow and presenting challenges in contamination remediation.\n",
    "\n",
    "- **Capillary Movement**: Capillary action is the phenomenon responsible for water's ability to move upward in narrow soil pores against the force of gravity. Capillarity is a critical mechanism in the unsaturated zone that influences moisture distribution, particularly in fine-textured soils, and can facilitate the transport of contaminants.\n",
    "\n",
    "- **Darcian Flow**: the slow, matrix flow of fluids through the unsaturated zone. It occurs when water moves through the interconnected pores and fractures within the soil and rock. This process can filter and attenuate contaminants, making it a key mechanism in protecting aquifers."
   ]
  },
  {
   "cell_type": "markdown",
   "metadata": {},
   "source": [
    "### The Saturated (Aquifer) Zone\n",
    "\n",
    "Underlying the unsaturated (vadose) zone, where water, air, and contaminants navigate, the saturated zone pore space is completely filled with water. \n",
    "\n",
    "**Characteristics of the Saturated Zone:**\n",
    "\n",
    "- Complete Saturation: The most defining characteristic of the saturated zone is its complete saturation with water. Unlike the unsaturated zone, which allows for the presence of both air and water, this realm beneath the surface is fully immersed in water. Consequently, it is the reservoir for groundwater storage.\n",
    "\n",
    "**Geologic Environments of the Saturated Zone:**\n",
    "\n",
    "The saturated zone can be encountered in various geologic settings, each with its unique attributes and groundwater potential. These environments include:\n",
    "\n",
    "- Igneous-Metamorphic Systems: In igneous and metamorphic rock environments, the saturated zone is often less abundant. These rocks are typically dry and do not yield significant amounts of groundwater. Flow within these systems primarily occurs in fractures, and in some cases, it may be substantial, contributing to localized groundwater resources.\n",
    "\n",
    "- Sedimentary Systems: Sedimentary environments, comprising sediments and limestones, are more conducive to groundwater abundance compared to igneous-metamorphic systems. In these settings, groundwater typically flows between the grains and voids of the sedimentary layers, with fractures also playing a role in certain cases. The relatively permeable nature of sedimentary rocks allows for the movement and storage of substantial groundwater resources.\n",
    "\n",
    "- Alluvial-Fluvial Systems: Alluvial and fluvial systems represent an abundant source of groundwater. These systems are characterized by the deposition of sediments carried by fluvial processes in shallow or deep basins. Groundwater is plentiful in these environments, with most systems comprised of clay and sand beds. The geometry of interbedding within these systems influences the behavior of groundwater flow, making it a dynamic and complex setting for hydrogeological investigations.\n",
    "\n",
    "**Flow Behavior in the Saturated Zone:**\n",
    "\n",
    "The flow dynamics within the saturated zone are influenced by the specific geologic environment in which it is found:\n",
    "\n",
    "- Fracture Flow: In igneous-metamorphic systems, fracture flow is a significant factor. Water flows primarily through fractures and faults in the rock, which act as conduits for groundwater movement. The effectiveness of fracture flow in these systems depends on the density and connectivity of fractures.\n",
    "\n",
    "- Intergranular Flow: Sedimentary systems exhibit intergranular flow, where water moves between the grains and voids of the sedimentary layers. This flow mechanism allows for the storage and movement of groundwater within the porous sedimentary rock.\n",
    "\n",
    "- Alluvial-Fluvial Influences: Alluvial and fluvial systems present unique flow dynamics. The abundance of groundwater in these systems is influenced by the composition and geometry of the interbedding of clay and sand beds. The interaction of fluvial processes and sediment deposition plays a crucial role in groundwater availability and movement in these environments."
   ]
  },
  {
   "cell_type": "markdown",
   "metadata": {},
   "source": [
    "### Groundwater Motion\n",
    "\n",
    "Discharge is proportional to driving energy (hydraulic gradient) cross sectional area (A), and ease of conductance (hydraulic conductivity, K) formally represented by Darcy's law \n",
    "\n",
    "$$Q = - KA \\nabla(h)$$\n",
    "\n",
    "The interstitial (seepage) velocity is estimated as \n",
    "\n",
    "$$v = \\frac{1}{n}\\frac{Q}{A}$$ \n",
    "\n",
    "where $n$ is the porosity.\n",
    "\n",
    "Transmissivity is the ability of an aquifer to transmit water through its entire thickness."
   ]
  },
  {
   "cell_type": "markdown",
   "metadata": {},
   "source": [
    "## Concepts of Investigations\n",
    "\n",
    "Site investigation in hydrogeology is a critical step in understanding the complex interplay between geological features, groundwater flow, and potential contamination risks. The primary goal of such investigations is to collect comprehensive and accurate data to define the extent of contamination, allowing for the design of effective remediation strategies. \n",
    "\n",
    "**Defining the Extent of Contamination:**\n",
    "\n",
    "Site investigations serve as the foundation for delineating the extent of contamination within an area. Accurate data collection is vital to ensure that contamination plumes are well-defined, enabling the design of tailored and efficient remediation approaches. As the costs associated with remediation can be substantial, the need for precise information cannot be overstated.\n",
    "\n",
    "**The Role of Site Geology:**\n",
    "\n",
    "Site geology plays a pivotal role in forming the physical framework that governs the movement of groundwater and contaminants. The geological characteristics, such as the presence of aquifers, confining layers, and structural features, profoundly influence the flow pathways and dispersion of contaminants. Thus, a thorough understanding of site geology is essential for both contamination assessment and remediation design.\n",
    "\n",
    "**Scale and Specificity:**\n",
    "\n",
    "Site investigations in hydrogeology are fundamentally different from other hydrogeologic studies, such as regional water resource assessments. These investigations focus on small areas in intricate detail, rather than broad-scale assessments. In such cases, the devil is in the details, as small features can significantly impact groundwater flow and contamination migration.\n",
    "\n",
    "**Small-Scale Features of Significance:**\n",
    "\n",
    "- Shallow Water Zones\n",
    "    One of the primary objectives of site investigations is to identify shallow water zones that may not typically be used as water resources. These zones may be close to the surface and can be more susceptible to contamination, making their assessment vital for environmental protection.\n",
    "\n",
    "- Geological Study\n",
    "    Site geological studies provide the foundation for understanding the subsurface characteristics. Strata a few inches thick, animal burrows, root holes, cracks, decayed piping, and foundation drains are all small features that can influence groundwater flow, making their detailed quantification crucial.\n",
    "\n",
    "**Field Strategy:**\n",
    "\n",
    "A strategic approach to site investigation involves combining traditional water resources quantification methods with a detailed focus on small-scale features. This strategy allows for a comprehensive assessment of the site, ensuring that both the broader hydrogeological context and the specific intricacies are taken into account. Traditional techniques might include hydrogeological testing and monitoring well installation, while the detailed assessment would encompass close examination and quantification of small-scale features that could impact groundwater flow and contamination movement.\n",
    "\n",
    "![](conceptualsite.png) ![](background.png)"
   ]
  },
  {
   "cell_type": "markdown",
   "metadata": {},
   "source": [
    "### Subsurface Exploration Concepts\n",
    "\n",
    "![](subsurface.png)\n",
    "![](logistics.png)\n",
    "\n",
    "![](geodatacollect.png)"
   ]
  },
  {
   "cell_type": "markdown",
   "metadata": {},
   "source": []
  },
  {
   "cell_type": "markdown",
   "metadata": {},
   "source": [
    "### Drilling Boreholes\n",
    "\n",
    "![](drillingandsampling.png) ![](hollowstemsample.png) \n",
    "\n",
    "![](drillingmethods.png) \n",
    "\n",
    "**Videos**\n",
    "\n",
    "[Dry Auger Drilling (youtube)](https://www.youtube.com/watch?v=NbmfcXJLFNM)\n",
    "\n",
    "[Cable Tool Drilling (youtube)](https://www.youtube.com/watch?v=H6N0x8BnOKE)\n",
    "\n",
    "[Air Rotary Drilling (youtube)](https://www.youtube.com/watch?v=hPV3_PXvQnc)\n",
    "\n",
    "[Reverse-Circulation Rotary (youtube)](https://www.youtube.com/watch?v=7VCTv30WcLQ)\n",
    "\n",
    "[Mud-Rotary Drilling (youtube)](https://www.youtube.com/watch?v=wsnN_xuR4EQ)\n",
    "\n"
   ]
  },
  {
   "cell_type": "markdown",
   "metadata": {},
   "source": [
    "### Sampling Considerations\n",
    "\n",
    "![](decontamination.png)\n",
    "\n",
    "**Shelby-Tube Sample Probe**\n",
    "\n",
    "![](shelby.png)\n",
    "\n",
    "**Split Spoon Sample Probe (Typ.)**\n",
    "\n",
    "![Split Spoon Sample Probe (Typical)](splitspoon.png)\n",
    "\n",
    "**Piston-Core Sample Probe**\n",
    "\n",
    "![](pistoncore.png)\n",
    "\n",
    "[Getting high-quality samples in ‘sensitive’ soils for advanced\n",
    "laboratory tests. Innov. Infrastruct. Solut. (2017) 2:34](http://54.243.252.9/ce-5364-webroot/ce5364notes/chapters/16siteinvestigation/SamplerPaper.pdf)\n",
    "\n",
    "![](drilltypes.png) ![](hollowstemsample.png) \n",
    "\n",
    "\n",
    "\n",
    "![](procondrilling.png)\n",
    "\n",
    "![](boreholelogging.png) ![](gwinboring.png)"
   ]
  },
  {
   "cell_type": "markdown",
   "metadata": {},
   "source": [
    "### Monitoring Wells\n",
    "\n",
    "![](mwconsider.png) ![](wellscreen.png)\n",
    "\n",
    " ![](surfacecomplete.png) ![](completewell.png)\n",
    " \n",
    "**Cluster Wells**\n",
    "\n",
    "![](clusterwell.png)\n",
    "\n",
    "![](gwsampling.png) ![](laboratories.png)\n",
    "\n",
    "![](protocols.png)"
   ]
  },
  {
   "cell_type": "markdown",
   "metadata": {},
   "source": [
    "### QA/QC Considerations\n",
    "\n",
    "![](qaqc.png) \n",
    "\n",
    "![](bias.png) ![](duplicates.png)\n",
    "\n",
    "![](samplecollection.png) ![](collectingsample.png)"
   ]
  },
  {
   "cell_type": "markdown",
   "metadata": {},
   "source": [
    "![](samplers.png)\n",
    "\n",
    "![](lowK.png) ![](vadosesampler.png)"
   ]
  },
  {
   "cell_type": "markdown",
   "metadata": {},
   "source": [
    "[Keller Landfill Hydrogeology Example](http://54.243.252.9/ce-5364-webroot/ce5364notes/chapters/16siteinvestigation/HydrogeologyPractice.pdf)"
   ]
  },
  {
   "cell_type": "raw",
   "metadata": {},
   "source": [
    "## Summary\n",
    "\n",
    "- Hydrological Assessment (for Flow and Transport)\n",
    "- Geologic Framework\n",
    "- Developing the Hydrogeologic Description\n",
    "- Preparing Illustrations"
   ]
  },
  {
   "cell_type": "raw",
   "metadata": {},
   "source": [
    "## Regulatory Framework\n",
    "\n",
    "### Water Rights\n",
    "\n",
    "### Federal Law\n",
    "\n",
    "## Groundwater Geochemistry\n"
   ]
  },
  {
   "cell_type": "markdown",
   "metadata": {},
   "source": [
    "## References\n",
    "\n",
    "1. [Cleveland, T.G. (circa 1995) \"Site Investigations\" in *Notes to accompany CE 6361 Groundwater Hydrology at University of Houston* ](http://54.243.252.9/ce-5364-webroot/3-Readings/MySiteInvestigation.pdf)\n",
    "\n",
    "2. [U.S. Environmental Protection Agency, Office of Solid Waste. (1986) RCRA ground-water monitoring technical enforcement guidance document. OSWER-9950.1](https://www.epa.gov/sites/default/files/documents/rcragwguiddoc-rpt_0.pdf)\n",
    "\n",
    "3. [USGS National Field Manual for Collection of Water Quality Data (2019)](https://www.usgs.gov/mission-areas/water-resources/science/national-field-manual-collection-water-quality-data-nfm)\n",
    "\n",
    "3. [California Code, Health and Safety Code - HSC § 25208.8 (Good specification of hydrological report contents)](https://codes.findlaw.com/ca/health-and-safety-code/hsc-sect-25208-8/)\n",
    "\n",
    "3. [Porter-Cologne Water Quality Control Act (2023 Edition)](https://www.waterboards.ca.gov/laws_regulations/docs/portercologne.pdf)\n",
    "\n",
    "1. [Cleveland, T.G. and W. W-G. Yeh, 1990. Sampling Network Design for Transport Parameter Identification, Journal of Water Resources Planning and Management, American Society of Civil Engineers, Vol. 116, No. 6, pp 764-782.](http://54.243.252.9/about-me-webroot/about-me/MyWebPapers/journal_papers/ASCE_JWRPM_1990A/ASCE_JWRPM_1990A.pdf)\n",
    "\n",
    "2. [Cleveland, T.G. and W. W-G. Yeh, 1991. Optimal Configuration and Scheduling of a Groundwater Tracer Test, Journal of Water Resources Planning and Management, American Society of Civil Engineers, Vol. 117, No. 1, pp 37-51](http://54.243.252.9/about-me-webroot/about-me/MyWebPapers/journal_papers/optimal_tracer_asce_1991/optimal_tracer_asce_1991.pdf)\n",
    "\n",
    "3. [Lee S-L. and Kitanidis P. K. 1996. Optimization of Monitoring Well Installation Time and Location During Aquifer Decontamination, Water Resources Management 10: 439-462](http://54.243.252.9/ce-5364-webroot/3-Readings/BF00422549.pdf)\n",
    "\n"
   ]
  },
  {
   "cell_type": "raw",
   "metadata": {},
   "source": [
    "### Unsaturated (Vadose) Zone\n",
    "- Region that overlies saturated zone.\n",
    "- Contaminants almost always pass through this region to get to an aquifer.\n",
    "- Fluid moves in response to surface tension, capillarity, and gravity.\n",
    "- Unsaturated zone is non-homogeneous.\n",
    "- Accurate description of the geologic makeup is difficult and requires substantial subsurface investigation\n",
    "- Important processes that govern flow in the unsaturated zone are:\n",
    "- Hysteresis\n",
    "- Macropore flow\n",
    "- Capillary movement\n",
    "- Darcian flow\n",
    "\n",
    "Collect data so that contamination extent is defined, and remediation can be designed.\n",
    "Site geology forms physical framework for groundwater and contaminant flow.\n",
    "Due to expenses involved the information must be as complete and accurate as possible for each borehole drilled\n",
    "Sites are small, scale is a lot different from other hydrogeologic (water resources type) investigations - one is looking at small areas in close detail.\n",
    "Searching for shallow water zones that are not usually used as a water resource - nearly all information is generated from the site geological study.\n",
    "Very small features are significant: strata a few inches thick, animal burrows, root holes, cracks, decayed piping, foundation drains, ...\n",
    "Field strategy is to proceede in a traditional (water resources quantification) manner, but also include detailed description and quantification of very small features."
   ]
  },
  {
   "cell_type": "code",
   "execution_count": null,
   "metadata": {},
   "outputs": [],
   "source": []
  }
 ],
 "metadata": {
  "kernelspec": {
   "display_name": "Python 3 (ipykernel)",
   "language": "python",
   "name": "python3"
  },
  "language_info": {
   "codemirror_mode": {
    "name": "ipython",
    "version": 3
   },
   "file_extension": ".py",
   "mimetype": "text/x-python",
   "name": "python",
   "nbconvert_exporter": "python",
   "pygments_lexer": "ipython3",
   "version": "3.10.12"
  }
 },
 "nbformat": 4,
 "nbformat_minor": 4
}