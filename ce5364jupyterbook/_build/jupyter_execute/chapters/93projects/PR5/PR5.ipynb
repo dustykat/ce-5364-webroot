{
 "cells": [
  {
   "cell_type": "markdown",
   "metadata": {},
   "source": [
    "# Chemflow 2000 Project 2\n",
    "\n",
    "This project is a self-training exercise using the Chemflow software.\n",
    "\n",
    "Perform the selected numerical experiments that are found at the end of the [CHEMFLO manual](http://54.243.252.9/ce-5364-webroot/3-Readings/ChemfloManual.pdf).   Perform the tasks as required by the problem statements.  Save screen captures that prove you did the work.  Provide text to answer the questions as stated in the numerical experiments."
   ]
  },
  {
   "cell_type": "markdown",
   "metadata": {},
   "source": [
    "## Numerical Experiments for Water Movement\n",
    "\n",
    "`2.` Infiltration of Water from Rainfall or Sprinkler Irrigation plus first Additional Work task\n",
    "- Initial situation (25)\n",
    " - Confirm you used the proper input values\n",
    " - Graphs of flux density (infiltration rate) and cumulative flux (infiltration) at the soil surface as \t\t\tfunction of time \n",
    " - Answers to the four questions\n",
    "- Lower Ksat situation (20)\n",
    " - Confirm you used the proper input values\n",
    " - Graphs of flux density (infiltration rate) and cumulative flux (infiltration) at the soil surface as \t\t\tfunction of time \n",
    " - Answers to the four questions\n",
    "<br>\n",
    "\n",
    "`8.` Influence of Initial Water Content upon Water Movement plus Additional Work task\n",
    "- Initial situation (40)\n",
    " - Confirm you used the proper input values\n",
    " - Graphs or table of flux density (infiltration rate) and cumulative flux (infiltration) at the soil \t\t\tsurface as function of time\n",
    " - Graph of moisture content vs. depth at 6 hours for each soil condition\n",
    " - Answers to the six questions\n",
    "- Lower Ksat situation (35)\n",
    " - Confirm you used the proper input values\n",
    " - Graphs or table of flux density (infiltration rate) and cumulative flux (infiltration) at the soil \t\t\tsurface as function of time\n",
    " - Graph of water content vs. depth at 6 hours for each soil condition\n",
    " - Answers to the six questions\n"
   ]
  },
  {
   "cell_type": "markdown",
   "metadata": {},
   "source": [
    "## Numerical Experiments for Water and Chemical Movement\n",
    "\n",
    "`1.` Chemical Movement during Infiltration Due to Rainfall plus Additional Work tasks\n",
    "- Initial situation (35)\n",
    " - Confirm you used the proper input values\n",
    " - Graphs of water content vs. distance and concentration vs. depth at multiple times up to 6 hrs\n",
    " - Graphs of cumulative flux of chemical and flux of water at selected depths, at least three\n",
    " - Answer the two questions\n",
    "- Second situation (15)\n",
    " - Confirm you used the proper input values\n",
    " - Graphs of water content vs. distance and concentration vs. depth at 18 hr (end of storm)\n",
    " - Answer the two questions\n",
    "\n",
    "`3.` Influence of Adsorption on Chemical Movement (includes all work from previous experiment)\n",
    "- Initial situation (30)\n",
    " - Confirm you used the proper input values, two different partition coefficients\n",
    " - Graphs of water content vs. distance and concentration vs. depth at multiple times up to 6 hrs for both partition coefficients\n",
    " - Graphs of concentration vs. time at soil surface for both partition coefficients, plus a third graphs with partition coefficient of 0\n",
    " - Answer the two questions\n",
    "\n"
   ]
  },
  {
   "cell_type": "code",
   "execution_count": null,
   "metadata": {},
   "outputs": [],
   "source": []
  }
 ],
 "metadata": {
  "kernelspec": {
   "display_name": "Python 3",
   "language": "python",
   "name": "python3"
  },
  "language_info": {
   "codemirror_mode": {
    "name": "ipython",
    "version": 3
   },
   "file_extension": ".py",
   "mimetype": "text/x-python",
   "name": "python",
   "nbconvert_exporter": "python",
   "pygments_lexer": "ipython3",
   "version": "3.8.10"
  }
 },
 "nbformat": 4,
 "nbformat_minor": 4
}