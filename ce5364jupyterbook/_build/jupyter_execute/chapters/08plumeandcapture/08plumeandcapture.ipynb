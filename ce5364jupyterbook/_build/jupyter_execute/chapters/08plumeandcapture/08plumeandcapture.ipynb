{
 "cells": [
  {
   "cell_type": "markdown",
   "id": "637ae437-df70-4ccf-b9bc-8ea94adffa60",
   "metadata": {},
   "source": [
    "# 8. Plume Evolution and Capture \n",
    "\n",
    "## Scope\n",
    "- Estimating plume lengths and wellhead protection areas\n",
    "- Analytical tools for well capture assessment\n",
    "- Semi-analytical tools (particle tracking)"
   ]
  }
 ],
 "metadata": {
  "kernelspec": {
   "display_name": "Python Common Environment",
   "language": "python",
   "name": "python-my-env"
  },
  "language_info": {
   "codemirror_mode": {
    "name": "ipython",
    "version": 3
   },
   "file_extension": ".py",
   "mimetype": "text/x-python",
   "name": "python",
   "nbconvert_exporter": "python",
   "pygments_lexer": "ipython3",
   "version": "3.10.12"
  }
 },
 "nbformat": 4,
 "nbformat_minor": 5
}