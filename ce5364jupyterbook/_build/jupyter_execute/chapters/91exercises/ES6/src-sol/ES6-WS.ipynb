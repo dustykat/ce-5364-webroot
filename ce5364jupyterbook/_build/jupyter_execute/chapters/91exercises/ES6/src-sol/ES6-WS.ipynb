{
 "cells": [
  {
   "cell_type": "markdown",
   "metadata": {},
   "source": [
    "<!--# <font color=darkblue>CE 5364 Groundwater Transport Phenemona <br> Fall 2023 Exercise Set 6</font>-->\n",
    "\n",
    "# F23 ES6 Solution Sketch\n",
    "\n",
    "**LAST NAME, FIRST NAME**\n",
    "\n",
    "**R00000000**\n",
    "\n",
    "<hr>\n",
    "\n",
    "## Purpose : \n",
    "Apply selected risk assessment methods\n",
    " \n",
    "## Assessment Criteria : \n",
    "Completion, results plausible, format correct, example calculations shown.  \n"
   ]
  },
  {
   "cell_type": "markdown",
   "metadata": {},
   "source": [
    "<hr>\n",
    "\n",
    "## Problem 1 \n",
    "\n",
    "Improper waste disposal practices at an industrial site resulted in contamination of the soil on site by cadmium, a known carcinogen with a slope factor of 6.10 $(\\frac{mg}{kg d})^{-1}$. We will consider the risk to off-site residents due to inhalation of airborne soil particles that include the cadmium.  Based on monitoring data, the concentration of cadmium in the air off site is $5.4 \\times 10^{-4}~\\frac{mg}{m^3}$.\n",
    "\n",
    "Determine:\n",
    "\n",
    "1. CInh for residents that are children 1-6 years of age and adults.\n",
    "2. The cancer risk due to these CInh values for the children and adults. \n",
    "\n",
    "Show all calculations and identify all parameter values used.\n",
    "\n",
    "\n"
   ]
  },
  {
   "cell_type": "code",
   "execution_count": 9,
   "metadata": {},
   "outputs": [
    {
     "name": "stdout",
     "output_type": "stream",
     "text": [
      "CInh for Child 1-6 y.o. 7.232e-06\n",
      "CInh for Adolt  6.3663e-05\n",
      "CR for Child  4.4116e-05\n",
      "CR for Adolt  0.000388342\n"
     ]
    }
   ],
   "source": [
    "# Enter your solution below, or attach separate sheet(s) with your solution.\n",
    "# Given\n",
    "CA=5.4e-04 # mg/m^3\n",
    "SF=6.10 #(mg/kgd)^-1\n",
    "# use formula for CInh from readings\n",
    "\n",
    "def CInh(CA,IR,RR,ABSs,ET,EF,ED,BW,AT):\n",
    "    CInh = (CA*IR*RR*ABSs*ET*EF*ED)/(BW*AT*365)\n",
    "    return(CInh)\n",
    "\n",
    "# populate values Child 1-6\n",
    "IR= 0.25 #m^3/hr\n",
    "RR=100/100 #x/100% \n",
    "ABSs=100/100 #x/100%\n",
    "ET= 12 #hr/d\n",
    "EF= 365 #d/yr\n",
    "ED= 5 #yr\n",
    "BW= 16 #kg, child\n",
    "AT= 70 #yr\n",
    "\n",
    "childCInh=CInh(CA,IR,RR,ABSs,ET,EF,ED,BW,AT)\n",
    "print(\"CInh for Child 1-6 y.o.\",round(childCInh,9))\n",
    "\n",
    "# populate values Adult 19-70y.o.\n",
    "CA=5.4e-04 # mg/m^3\n",
    "IR= 0.83 #m^3/hr\n",
    "RR=100/100 #x/100% \n",
    "ABSs=100/100 #x/100%\n",
    "ET= 12 #hr/d\n",
    "EF= 365 #d/yr\n",
    "ED= 58 #yr\n",
    "BW= 70 #kg, adolt\n",
    "AT= 70 #yr\n",
    "\n",
    "adoltCInh=CInh(CA,IR,RR,ABSs,ET,EF,ED,BW,AT)\n",
    "print(\"CInh for Adolt \",round(adoltCInh,9))\n",
    "\n",
    "# use formula for CR from readings\n",
    "\n",
    "def CR(SF,Cinh):\n",
    "    CR=SF*Cinh\n",
    "    return(CR)\n",
    "\n",
    "childCR=CR(SF,childCInh)\n",
    "adoltCR=CR(SF,adoltCInh)\n",
    "print(\"CR for Child \",round(childCR,9))\n",
    "print(\"CR for Adolt \",round(adoltCR,9))"
   ]
  },
  {
   "cell_type": "markdown",
   "metadata": {},
   "source": [
    "<hr>\n",
    "\n",
    "## Problem 2 \n",
    "\n",
    "The same site also caused off-site lead concentrations that can cause non-cancer effects on the residents. The RfD for lead is 6.90x10-4 $(\\frac{mg}{kg d})^{-1}$.  We will consider dermal exposures in this problem, with a lead concentration of $260~\\frac{mg}{kg}$ in the soil, and an absorption factor of 10 percent for the young children and 5 percent for adults. \n",
    "\n",
    "Determine:\n",
    "\n",
    "1. The NCDEX for residents that are children 1-6 years of age and adults. \n",
    "2. The hazard quotients due to these NCDEX values for the children and adults.\n",
    "\n",
    "Show all calculations and identify all parameter values used. "
   ]
  },
  {
   "cell_type": "code",
   "execution_count": 24,
   "metadata": {},
   "outputs": [
    {
     "name": "stdout",
     "output_type": "stream",
     "text": [
      "NCEDX child 0.000231\n",
      "NCEDX adolt 3.4e-05\n",
      "HQ child 0.334\n",
      "HQ adult 0.05\n"
     ]
    }
   ],
   "source": [
    "# Enter your solution below, or attach separate sheet(s) with your solution.\n",
    "# given\n",
    "RfD = 6.9e-04 #mg/kgd\n",
    "CS = 260 #mg/kg in soil\n",
    "\n",
    "# use formula for NCDEX from readings\n",
    "def NCDEX(CS,CF,SA,AF,ABSs,SM,EF,ED,BW,AT,AvT):\n",
    "    NCDEX = (CS*CF*SA*AF*AT*ABSs*SM*EF*ED)/(BW*AvT*365)\n",
    "    return(NCDEX)\n",
    "\n",
    "# Look up inputs\n",
    "CF = 1e-06 #kg/mg\n",
    "SA = 6980 #cm^2/d\n",
    "AT = 20/100 #%-child\n",
    "AF = 0.75 #mg/cm^2\n",
    "ABSs = 10/100 #%-child\n",
    "SM = 0.15\n",
    "EF = 330 #d/yr\n",
    "ED = 5 #yr child\n",
    "BW = 16 #kg child\n",
    "AvT = 5 #yr child\n",
    "\n",
    "childNCDEX= NCDEX(CS,CF,SA,AF,ABSs,SM,EF,ED,BW,AT,AvT)\n",
    "print(\"NCEDX child\",round(childNCDEX,6))\n",
    "\n",
    "# repeat fro adult\n",
    "\n",
    "SA = 18150 #cm^2/d\n",
    "AT = 10/100 #%-adult\n",
    "ABSs = 5/100 #%-adult\n",
    "ED = 58 #yr DULT\n",
    "BW = 70 #kg adult\n",
    "AvT = 58 #yr adult\n",
    "\n",
    "adultNCDEX= NCDEX(CS,CF,SA,AF,ABSs,SM,EF,ED,BW,AT,AvT)\n",
    "print(\"NCEDX adolt\",round(adultNCDEX,6))\n",
    "\n",
    "# use hazard quotiet formula\n",
    "\n",
    "def HQ(E,RfD):\n",
    "    HQ = E/RfD\n",
    "    return(HQ)\n",
    "\n",
    "childHQ = HQ(childNCDEX,RfD)\n",
    "adultHQ = HQ(adultNCDEX,RfD)\n",
    "\n",
    "print(\"HQ child\",round(childHQ,3))\n",
    "print(\"HQ adult\",round(adultHQ,3))\n"
   ]
  },
  {
   "cell_type": "markdown",
   "metadata": {},
   "source": [
    "<hr>\n",
    "\n",
    "## Problem 3 \n",
    "\n",
    "A contaminated groundwater that is a potential drinking water source has a manganese concentration of $0.36~\\frac{mg}{L}$. The RfD for manganese is $0.10~\\frac{mg}{kg \\cdot d}$. We will consider effects on children 6-12 (drinking 1 L/d) and adults (2 L/d). \n",
    "\n",
    "Determine:\n",
    "1. The NCIng for children 6-12 and adults drinking this water. \n",
    "2. The hazard quotients due to these NCIng values for the children and adults. \n",
    "\n",
    "Show all calculations and identify all parameter values used. "
   ]
  },
  {
   "cell_type": "code",
   "execution_count": 29,
   "metadata": {},
   "outputs": [
    {
     "name": "stdout",
     "output_type": "stream",
     "text": [
      "NCing child 0.012414\n",
      "NCing adolt 0.010286\n",
      "HQ child 0.124\n",
      "HQ adult 0.103\n"
     ]
    }
   ],
   "source": [
    "# Enter your solution below, or attach separate sheet(s) with your solution.\n",
    "# given\n",
    "CW = 0.36 #mg/L\n",
    "RfD = 0.10 #mg/kgd\n",
    "IRc = 1 #L/d\n",
    "IRa = 2 #L/d\n",
    "\n",
    "# use formula for NCing from readings\n",
    "def NCing(CW,IR,FI,ABSs,EF,ED,BW,AT):\n",
    "    NCing=(CW*IR*FI*ABSs*EF*ED)/(BW*AT*365)\n",
    "    return(NCing)\n",
    "\n",
    "# populate input values\n",
    "FI = 100/100 #x/100 %\n",
    "ABSs = 100/100 #x/100 %\n",
    "EF = 365 #d/yr\n",
    "EDc = 6 #yr\n",
    "EDa = 58 #yr\n",
    "BWc = 29 #kg\n",
    "BWa = 70 #kg\n",
    "ATc = 6 #yr\n",
    "ATa = 58 #yr\n",
    "\n",
    "childNCing=NCing(CW,IRc,FI,ABSs,EF,EDc,BWc,ATc)\n",
    "adultNCing=NCing(CW,IRa,FI,ABSs,EF,EDa,BWa,ATa)\n",
    "childHQ = HQ(childNCing,RfD)\n",
    "adultHQ = HQ(adultNCing,RfD)\n",
    "\n",
    "print(\"NCing child\",round(childNCing,6))\n",
    "print(\"NCing adolt\",round(adultNCing,6))\n",
    "print(\"HQ child\",round(childHQ,3))\n",
    "print(\"HQ adult\",round(adultHQ,3))"
   ]
  },
  {
   "cell_type": "markdown",
   "metadata": {},
   "source": [
    "<hr>\n",
    "\n",
    "## Problem 4 \n",
    "\n",
    "An animal exposure study was performed to determine an acceptable drinking water concentration for a chemical that causes liver disease in rats and is assumed to have a nonzero threshold. The following results were obtained. \n",
    "\n",
    "**Control Group**\n",
    "Comparison to historical records: no evidence of premature deaths \n",
    "Time of sacrifice: all surviving rats were sacrificed at 18 months \n",
    "Initial number: 100 \n",
    "Number of rats with liver disease: 3 \n",
    "\n",
    "**Test Group** \n",
    "Exposure conditions (lowest observed effect): 140 mg/L, 30 mL/d for a median of 12 months \n",
    "Time of sacrifice: all surviving rats were sacrificed at 18 months \n",
    "Comparison of weight and survival curves: no differences between test and control rats \n",
    "Median adult weight: 0.4 kg \n",
    "Initial number exposed: 100 \n",
    "Number of rats with liver disease: 12 \n",
    "\n",
    "Determine:\n",
    "\n",
    "1. The LOAEL for the rats based on this study.\n",
    "2. The RfD for humans by adjusting for uncertainty. This result is subchronic animal data with no human exposure data available. \n",
    "3. Convert the RfD to an acceptable drinking water concentration. \n",
    "\n"
   ]
  },
  {
   "cell_type": "code",
   "execution_count": 30,
   "metadata": {},
   "outputs": [
    {
     "name": "stdout",
     "output_type": "stream",
     "text": [
      "The LOAEL for the rats = 10.500 mg/(kgd)\n"
     ]
    }
   ],
   "source": [
    "# Enter your solution below, or attach separate sheet(s) with your solution.\n",
    "\n",
    "#1.The LOAEL for the rats based on this study:\n",
    "CW=140 # mg/l\n",
    "IR=0.030 # L/d\n",
    "FI=1\n",
    "ABSs=1\n",
    "EF=365 # d/yr\n",
    "ED= 1 # yr\n",
    "BW=0.4 # kg\n",
    "AT= 1 # yr\n",
    "NCIng_Rat=(CW*IR*FI*ABSs*EF*ED)/(BW*AT*365)\n",
    "print(\"The LOAEL for the rats = %0.3f mg/(kgd)\" %NCIng_Rat) "
   ]
  },
  {
   "cell_type": "code",
   "execution_count": 32,
   "metadata": {},
   "outputs": [
    {
     "name": "stdout",
     "output_type": "stream",
     "text": [
      " RfD for humans by adjusting for uncertainty = 0.0010500 mg/(kgd)\n"
     ]
    }
   ],
   "source": [
    "#2.The RfD for humans by adjusting for uncertainty:\n",
    "UF=10**(4) # UF=10H*10A*10S*10L=10^4\n",
    "MF=1\n",
    "RfD=NCIng_Rat/(UF*MF)\n",
    "print(\" RfD for humans by adjusting for uncertainty = %0.7f mg/(kgd)\" %RfD)"
   ]
  },
  {
   "cell_type": "code",
   "execution_count": 33,
   "metadata": {},
   "outputs": [
    {
     "name": "stdout",
     "output_type": "stream",
     "text": [
      " RfD to an acceptable drinking water concentration = 0.0367500 mg/l\n"
     ]
    }
   ],
   "source": [
    "#3.Converting the RfD to an acceptable drinking water concentration:\n",
    "BW=70 # kg\n",
    "IR=2 # L/d\n",
    "DWEL=(RfD*BW)/IR\n",
    "print(\" RfD to an acceptable drinking water concentration = %0.7f mg/l\" %DWEL)"
   ]
  },
  {
   "cell_type": "markdown",
   "metadata": {},
   "source": [
    "<hr>\n",
    "\n",
    "## Problem 5 \n",
    "\n",
    "Visit the EPA’s IRIS system website (http://www.epa.gov/iriswebp/iris/index.html)\n",
    "\n",
    "Determine:\n",
    "1. Your favorite toxic or carcinogenic substance and print (or screen capture) the Quick View page for your choice.\n",
    "\n"
   ]
  },
  {
   "cell_type": "code",
   "execution_count": null,
   "metadata": {},
   "outputs": [],
   "source": []
  }
 ],
 "metadata": {
  "kernelspec": {
   "display_name": "Python 3",
   "language": "python",
   "name": "python3"
  },
  "language_info": {
   "codemirror_mode": {
    "name": "ipython",
    "version": 3
   },
   "file_extension": ".py",
   "mimetype": "text/x-python",
   "name": "python",
   "nbconvert_exporter": "python",
   "pygments_lexer": "ipython3",
   "version": "3.8.10"
  }
 },
 "nbformat": 4,
 "nbformat_minor": 4
}