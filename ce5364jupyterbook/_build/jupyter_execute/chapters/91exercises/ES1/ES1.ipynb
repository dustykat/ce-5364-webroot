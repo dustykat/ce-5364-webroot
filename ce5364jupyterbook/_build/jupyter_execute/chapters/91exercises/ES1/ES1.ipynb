{
 "cells": [
  {
   "cell_type": "markdown",
   "metadata": {},
   "source": [
    "<!--# <font color=darkblue>CE 4363/5363 Groundwater Transport Phenomena <br> Fall 2023 Exercise Set 1</font>-->\n",
    "\n",
    "# F23 Exercise Set 1\n",
    "\n",
    "**LAST NAME, FIRST NAME**\n",
    "\n",
    "**R00000000**\n",
    "\n",
    "<hr>\n",
    "\n",
    "## Purpose : \n",
    "Refresh groundwater principles; apply principles to quantitative cases\n",
    " \n",
    "## Assessment Criteria : \n",
    "Completion, results plausible, format correct, example calculations shown.  \n"
   ]
  },
  {
   "cell_type": "markdown",
   "metadata": {},
   "source": [
    "<hr>\n",
    "\n",
    "## Problem 1 (Problem 2-3, pg. 578)\n",
    "\n",
    "A sand column has the following characteristics:\n",
    "\n",
    "$$ K = 10^{-4} \\frac{cm}{s} \\\\ A = 75 cm^{2} \\\\ \\frac{dh}{dl} = 0.01 \\\\ n = 0.20$$\n",
    "\n",
    "Determine:\n",
    "\n",
    "1. Sketch the system.\n",
    "2. The discharge velocity.\n",
    "3. The seepage velocity.\n",
    "4. The volumetric flow rate through the column."
   ]
  },
  {
   "cell_type": "code",
   "execution_count": 1,
   "metadata": {},
   "outputs": [],
   "source": [
    "# sketch(s) \n",
    "# list known quantities\n",
    "# list unknown quantities\n",
    "# governing principles\n",
    "# solution details (e.g. step-by-step computations)\n",
    "# discussion"
   ]
  },
  {
   "cell_type": "markdown",
   "metadata": {},
   "source": [
    "<hr>\n",
    "\n",
    "## Problem 2 (Problem 2-8, pg. 578)\n",
    "\n",
    "The figure below shows a piezometric map for a shallow sand aquifer.  The hydraulic conductivtiy is estimated to be $1.5 \\times 10^{-2}~\\frac{cm}{s}$, the saturated thickness is 40 feet, and the effective porosity is 0.3.\n",
    "\n",
    "![](Fig5.18.png)\n",
    "\n",
    "Determine:\n",
    "\n",
    "1. Which well is expected to be the most contaminated.\n",
    "2. The groundwater velocity and seepage velocity across the plume.\n",
    "3. The duration that the source has been contaminating the aquifer (neglect dispersion, diffusiom, and adsorption).\n",
    "4. The flow rate across the plume.\n",
    "5. An explaination for contamination upgradient of the source zone."
   ]
  },
  {
   "cell_type": "code",
   "execution_count": 2,
   "metadata": {},
   "outputs": [],
   "source": [
    "# sketch(s) \n",
    "# list known quantities\n",
    "# list unknown quantities\n",
    "# governing principles\n",
    "# solution details (e.g. step-by-step computations)\n",
    "# discussion"
   ]
  },
  {
   "cell_type": "markdown",
   "metadata": {},
   "source": [
    "<hr>\n",
    "\n",
    "## Problem 3 (Problem 2-12, pg. 579)\n",
    "\n",
    "Three geologic formations overlie one another with the characteristics listed below.\n",
    "\n",
    "$$ b_1 = 50~ft ~~~~ K_1 = 0.0002 \\frac{ft}{s}\\\\ b_2 = 20~ft ~~~~ K_1 = 0.000005 \\frac{ft}{s}\\\\ b_3 = 210~ft ~~~~ K_1 = 0.001 \\frac{ft}{s}$$\n",
    "\n",
    "A constant velocity vertical flow field exists across the three formations.\n",
    "The hydraulic head at the top of the formations (top of formation 1) is 33 feet.  The hydraulic head at the bottom of the formations (bottom of formation 3) is 21 feet.\n",
    "\n",
    "Determine:\n",
    "\n",
    "1. Sketch the system.\n",
    "2. The hydraulic head at the internal boundary between formation 1 and 2.\n",
    "3. The hydraulic head at the internal boundary between formation 2 and 3.\n",
    "4. Approximate time for a tracer to flow through the three layers if the porosities $n_1$, $n_2$, and $n_3$ are 0.30,0.42, and 0.35, respectively"
   ]
  },
  {
   "cell_type": "code",
   "execution_count": 3,
   "metadata": {},
   "outputs": [],
   "source": [
    "# sketch(s) \n",
    "# list known quantities\n",
    "# list unknown quantities\n",
    "# governing principles\n",
    "# solution details (e.g. step-by-step computations)\n",
    "# discussion"
   ]
  },
  {
   "cell_type": "markdown",
   "metadata": {},
   "source": [
    "<hr>\n",
    "\n",
    "## Problem 4 \n",
    "\n",
    "Three monitoring wells are in a homogeneous isotropic confined aquifer with transmissivity $T=1700\\frac{m^2}{day}$.  The observed piezometric heads are given in the table below:\n",
    "\n",
    "|Well ID|Easting Coordinate (m)|Northing Coordinate (m)|Head (m)|\n",
    "|:---   |:---                  |:---                   |:---    |\n",
    "|MW-1   |0                     |0                      |120.0   |\n",
    "|MW-2   |0                     |300                    |118.4   |\n",
    "|MW-3   |200                   |0                      |122.5   |\n",
    "\n",
    "Determine:\n",
    "\n",
    "1. A contour map of the piezometric surface in the vicinity of these wells using a 1-meter contour interval.\n",
    "2. Magnitude and direction of the gradient of head."
   ]
  },
  {
   "cell_type": "code",
   "execution_count": 4,
   "metadata": {},
   "outputs": [],
   "source": [
    "# sketch(s) \n",
    "# list known quantities\n",
    "# list unknown quantities\n",
    "# governing principles\n",
    "# solution details (e.g. step-by-step computations)\n",
    "# discussion"
   ]
  },
  {
   "cell_type": "markdown",
   "metadata": {},
   "source": [
    "<hr>\n",
    "\n",
    "## Problem 5 \n",
    "\n",
    "Three monitoring wells are in a homogeneous anisotropic aquifer with saturated thickness of 20 m, and hydraulic conductivity given by \n",
    "\n",
    "$$\n",
    "\\begin{gather}\n",
    "\\mathbf{K} =\n",
    "\\begin{pmatrix}\n",
    "30 & ~8 \\\\\n",
    "~\\\\\n",
    "8 & 10 \\\\\n",
    "\\end{pmatrix}\n",
    "\\frac{m}{day}\n",
    "~\n",
    "\\end{gather}\n",
    "$$\n",
    "\n",
    "The observed piezometric heads are given in the table below:\n",
    "\n",
    "|Well ID|Easting Coordinate (m)|Northing Coordinate (m)|Head (m)|\n",
    "|:---   |:---                  |:---                   |:---    |\n",
    "|MW-1   |0                     |0                      |120.0   |\n",
    "|MW-2   |0                     |300                    |118.4   |\n",
    "|MW-3   |200                   |0                      |122.5   |\n",
    "\n",
    "Determine:\n",
    "\n",
    "1. A contour map of the piezometric surface in the vicinity of these wells using a 1-meter contour interval (identical to previous problem).\n",
    "2. Magnitude and direction of the specific discharge through the aquifer.\n",
    "3. Determine the principal values of the hydraulic conductivity $\\mathbf{K}$ tensor, and the angle between the principal axes and the Easting-Northing coordinate system."
   ]
  },
  {
   "cell_type": "code",
   "execution_count": 5,
   "metadata": {},
   "outputs": [],
   "source": [
    "# sketch(s) \n",
    "# list known quantities\n",
    "# list unknown quantities\n",
    "# governing principles\n",
    "# solution details (e.g. step-by-step computations)\n",
    "# discussion"
   ]
  },
  {
   "cell_type": "markdown",
   "metadata": {},
   "source": [
    "<!--## [Solution Sketch](http://54.243.252.9/ce-5364-webroot/2-Exercises/ES1/src_sol/ES1-WS.html)-->"
   ]
  },
  {
   "cell_type": "code",
   "execution_count": null,
   "metadata": {},
   "outputs": [],
   "source": []
  }
 ],
 "metadata": {
  "kernelspec": {
   "display_name": "Python 3 (ipykernel)",
   "language": "python",
   "name": "python3"
  },
  "language_info": {
   "codemirror_mode": {
    "name": "ipython",
    "version": 3
   },
   "file_extension": ".py",
   "mimetype": "text/x-python",
   "name": "python",
   "nbconvert_exporter": "python",
   "pygments_lexer": "ipython3",
   "version": "3.10.12"
  }
 },
 "nbformat": 4,
 "nbformat_minor": 4
}