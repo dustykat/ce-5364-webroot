{
 "cells": [
  {
   "cell_type": "markdown",
   "metadata": {},
   "source": [
    "<!--# <font color=darkblue>CE 5364 Groundwater Transport Phenomena <br> Fall 2023 Exercise Set 1</font>-->\n",
    "\n",
    "# F23 ES1 Solution Sketch\n",
    "**LAST NAME, FIRST NAME**\n",
    "\n",
    "**R00000000**\n",
    "\n",
    "<hr>\n",
    "\n",
    "## Purpose : \n",
    "Refresh groundwater principles; apply principles to quantitative cases\n",
    " \n",
    "## Assessment Criteria : \n",
    "Completion, results plausible, format correct, example calculations shown.  \n"
   ]
  },
  {
   "cell_type": "markdown",
   "metadata": {},
   "source": [
    "<hr><hr>\n",
    "\n",
    "## Problem 1 (Problem 2-3, pg. 578)\n",
    "\n",
    "A sand column has the following characteristics:\n",
    "\n",
    "$$ K = 10^{-4} \\frac{cm}{s} \\\\ A = 75 cm^{2} \\\\ \\frac{dh}{dl} = 0.01 \\\\ n = 0.20$$\n",
    "\n",
    "Determine:\n",
    "\n",
    "1. Sketch the system.\n",
    "2. The discharge velocity.\n",
    "3. The seepage velocity.\n",
    "4. The volumetric flow rate through the column."
   ]
  },
  {
   "cell_type": "markdown",
   "metadata": {},
   "source": [
    "## sketch\n",
    "\n",
    "![](es1-1-sketch.png)"
   ]
  },
  {
   "cell_type": "markdown",
   "metadata": {},
   "source": [
    "## list known quantities\n",
    "\n",
    "$$ K = 10^{-4} \\frac{cm}{s} $$\n",
    "$$ A = 75 cm^{2} $$ \n",
    "$$ \\frac{dh}{dl} = 0.01 $$\n",
    "$$ n = 0.20 $$\n"
   ]
  },
  {
   "cell_type": "markdown",
   "metadata": {},
   "source": [
    "## list unknown quantities\n",
    "\n",
    "1. The discharge velocity, $q = \\frac{Q}{A}$\n",
    "3. The seepage velocity, $u = \\frac{q}{n} = \\frac{Q}{nA}$\n",
    "4. The volumetric flow rate through the column, $Q$"
   ]
  },
  {
   "cell_type": "markdown",
   "metadata": {},
   "source": [
    "## governing principles\n",
    "\n",
    "1. Darcy's law; $Q=KA\\frac{dh}{dl}$\n",
    "2. Definition(s) of discharge and seepage velocity "
   ]
  },
  {
   "cell_type": "markdown",
   "metadata": {},
   "source": [
    "## solution details (e.g. step-by-step computations)"
   ]
  },
  {
   "cell_type": "code",
   "execution_count": 1,
   "metadata": {},
   "outputs": [],
   "source": [
    "K = 1.0e-04\n",
    "A = 75\n",
    "dhdl= 0.01\n",
    "n = 0.20"
   ]
  },
  {
   "cell_type": "code",
   "execution_count": 2,
   "metadata": {},
   "outputs": [
    {
     "name": "stdout",
     "output_type": "stream",
     "text": [
      "discharge velocity =  1e-06  cm/sec\n"
     ]
    }
   ],
   "source": [
    "q=K*dhdl\n",
    "print(\"discharge velocity = \",round(q,6),\" cm/sec\")"
   ]
  },
  {
   "cell_type": "code",
   "execution_count": 3,
   "metadata": {},
   "outputs": [
    {
     "name": "stdout",
     "output_type": "stream",
     "text": [
      "seepage velocity =  5e-06  cm/sec\n"
     ]
    }
   ],
   "source": [
    "u=q/n\n",
    "print(\"seepage velocity = \",round(u,6),\" cm/sec\")"
   ]
  },
  {
   "cell_type": "code",
   "execution_count": 4,
   "metadata": {},
   "outputs": [
    {
     "name": "stdout",
     "output_type": "stream",
     "text": [
      "Volumetric discharge =  7.5e-05  ml/sec\n"
     ]
    }
   ],
   "source": [
    "Q=q*A\n",
    "print(\"Volumetric discharge = \",round(Q,6),\" ml/sec\")"
   ]
  },
  {
   "cell_type": "markdown",
   "metadata": {},
   "source": [
    "## discussion\n",
    "\n",
    "Direct application of Darcy's law and definitions from the mighty internet is all that is required for this exercise."
   ]
  },
  {
   "cell_type": "markdown",
   "metadata": {},
   "source": [
    "<hr><hr>\n",
    "\n",
    "## Problem 2 (Problem 2-8, pg. 578)\n",
    "\n",
    "The figure below shows a piezometric map for a shallow sand aquifer.  The hydraulic conductivtiy is estimated to be $1.5 \\times 10^{-2}~\\frac{cm}{s}$, the saturated thickness is 40 feet, and the effective porosity is 0.3.\n",
    "\n",
    "![](Fig5.18.png)\n",
    "\n",
    "Determine:\n",
    "\n",
    "1. Which well is expected to be the most contaminated.\n",
    "2. The groundwater velocity and seepage velocity across the plume.\n",
    "3. The duration that the source has been contaminating the aquifer (neglect dispersion, diffusiom, and adsorption).\n",
    "4. The flow rate across the plume.\n",
    "5. An explaination for contamination upgradient of the source zone."
   ]
  },
  {
   "cell_type": "markdown",
   "metadata": {},
   "source": [
    "# sketch(s) \n",
    "# list known quantities\n",
    "- Head map (provided)\n",
    "- $b~\\approx~40~feet$\n",
    "- $K~\\approx~ 1.5 \\times 10^{-2}~\\frac{cm}{s} \\cdot \\frac{1~in}{2.54~cm} \\cdot \\frac{1~ft}{12~in} \\cdot \\frac{86400~s}{1~day} = 42.52~\\frac{ft}{day}$\n",
    "- $n~\\approx~ 0.30 $\n",
    "# list unknown quantities\n",
    "1. Which well is expected to be the most contaminated.\n",
    "2. The groundwater velocity and seepage velocity across the plume.\n",
    "3. The duration that the source has been contaminating the aquifer (neglect dispersion, diffusiom, and adsorption).\n",
    "4. The flow rate across the plume.\n",
    "5. An explaination for contamination upgradient of the source zone.\n",
    "\n",
    "# governing principles\n",
    "1. Darcy's law; $Q=KA\\frac{dh}{dl}$\n",
    "2. Definition(s) of discharge and seepage velocity \n",
    "\n",
    "# solution details (e.g. step-by-step computations)\n",
    "1. Which well is expected to be the most contaminated.\n",
    "  - If release is ongoing, probably well A in annotated map below.\n",
    "  - If release is \"past history\" then probably well M near middle of the plume.\n",
    "  <br>![](Fig5.18.annotate.png)\n",
    "2. The groundwater velocity and seepage velocity across the plume.\n",
    "  - See annotated map below.\n",
    "  - Gradients near well A and well M are calculated directly on the map annotations.\n",
    "  - Specific discharge values:\n",
    "  <br> $q_{near~well~A} = \\frac{Q}{A} _{near~well~A}~\\approx~45.52\\frac{ft}{day}(0.0014)= 0.0637 \\frac{ft}{day}$\n",
    "  <br> $q_{near~well~M} = \\frac{Q}{A} _{near~well~M}~\\approx~45.52\\frac{ft}{day}(0.00125)= 0.0569 \\frac{ft}{day}$\n",
    "  <br> A reasonable average is  $q = \\frac{Q}{A} _{average}~\\approx~0.06 \\frac{ft}{day}$\n",
    "  - Species (seepage) velocity is \n",
    "  <br> $U=\\frac{q}{n} = \\frac{1}{n} \\frac{Q}{A} = \\frac{1}{0.3} 0.06 \\frac{ft}{day} = 0.2 \\frac{ft}{day}$\n",
    "3. The duration that the source has been contaminating the aquifer (neglect dispersion, diffusiom, and adsorption).\n",
    "  - Choose a reasonable pathline like the one on the drawing below and measure its length, then using definition of velocity, solve for duration.\n",
    "  <br> Pathline is $\\approx~925~feet$\n",
    "  <br> $t=\\frac{x}{U}= \\frac{925}{0.02} = 4625~days$\n",
    "4. The flow rate across the plume.\n",
    "  - Apply Darcy's law\n",
    "  <br> $Q=qA=0.06 \\frac{ft}{day} \\cdot 325 ft \\cdot 40 ft = 780 \\frac{ft^3}{day}$\n",
    "5. An explaination for contamination upgradient of the source zone.\n",
    "  - Dispersion/diffusion of constituients, and/or\n",
    "  - The regional water table is not static and at some point in past, gradient was in Easterly direction.\n",
    "\n",
    "# discussion\n",
    "\n",
    "- The non-static water table is very likely, and quarterly moniroting is a usual standard to detect and account for seasonal/temporal variability."
   ]
  },
  {
   "cell_type": "markdown",
   "metadata": {},
   "source": [
    "<hr><hr> \n",
    "\n",
    "## Problem 3 (Problem 2-12, pg. 579)\n",
    "\n",
    "Three geologic formations overlie one another with the characteristics listed below.\n",
    "\n",
    "$$ b_1 = 50~ft ~~~~ K_1 = 0.0002 \\frac{ft}{s}\\\\ b_2 = 20~ft ~~~~ K_1 = 0.000005 \\frac{ft}{s}\\\\ b_3 = 210~ft ~~~~ K_1 = 0.001 \\frac{ft}{s}$$\n",
    "\n",
    "A constant velocity vertical flow field exists across the three formations.\n",
    "The hydraulic head at the top of the formations (top of formation 1) is 33 feet.  The hydraulic head at the bottom of the formations (bottom of formation 3) is 21 feet.\n",
    "\n",
    "Determine:\n",
    "\n",
    "1. Sketch the system.\n",
    "2. The hydraulic head at the internal boundary between formation 1 and 2.\n",
    "3. The hydraulic head at the internal boundary between formation 2 and 3.\n",
    "4. Approximate time for a tracer to flow through the three layers if the porosities $n_1$, $n_2$, and $n_3$ are 0.30,0.42, and 0.35, respectively"
   ]
  },
  {
   "cell_type": "code",
   "execution_count": 5,
   "metadata": {},
   "outputs": [],
   "source": [
    "# sketch(s) \n",
    "# list known quantities\n",
    "# list unknown quantities\n",
    "# governing principles\n",
    "# solution details (e.g. step-by-step computations)\n",
    "# discussion"
   ]
  },
  {
   "cell_type": "markdown",
   "metadata": {},
   "source": [
    "## sketch\n",
    "\n",
    "![](es1-3-sketch.png)\n",
    "\n",
    "## list known quantities\n",
    "\n",
    "Thickness, hydraulic conductivities, porosities and heads as shown on sketch above.\n",
    "\n",
    "## list unknown quantities\n",
    "\n",
    "1. H at 1-2 interface.\n",
    "2. H at 2-3 interface.\n",
    "3. Time for tracer to traverse entire formation\n",
    "\n",
    "\n",
    "## governing principles\n",
    "\n",
    "1. Darcy's law by layer\n",
    "3. velocity = q/n\n",
    "2. time = thickness/velocity\n"
   ]
  },
  {
   "cell_type": "code",
   "execution_count": 6,
   "metadata": {},
   "outputs": [
    {
     "name": "stdout",
     "output_type": "stream",
     "text": [
      "vertical composite Kv:  6.3e-05  ft/sec\n",
      "vertical hydraulic gradient : 0.042857  ft/ft\n",
      "vertical specific discharge q:  3e-06  ft/sec\n"
     ]
    }
   ],
   "source": [
    "# Find total discharge per unit area through entire formation\n",
    "htop=33\n",
    "hbot=21\n",
    "k1=0.0002\n",
    "k2=0.000005\n",
    "k3=0.001\n",
    "l1=50\n",
    "l2=20\n",
    "l3=210\n",
    "n1=0.30\n",
    "n2=0.42\n",
    "n3=0.35\n",
    "Kbar=(l1+l2+l3)/((l1/k1) + (l2/k2) + (l3/k3))\n",
    "print(\"vertical composite Kv: \",round(Kbar,6),\" ft/sec\")\n",
    "dH=htop - hbot\n",
    "dl = l1+l2+l3\n",
    "qt=Kbar*dH/dl\n",
    "print(\"vertical hydraulic gradient :\",round(dH/dl,6),\" ft/ft\")\n",
    "print(\"vertical specific discharge q: \",round(qt,6),\" ft/sec\")"
   ]
  },
  {
   "cell_type": "code",
   "execution_count": 7,
   "metadata": {},
   "outputs": [
    {
     "name": "stdout",
     "output_type": "stream",
     "text": [
      "head at layer 1-2 interface : 32.33  ft \n"
     ]
    }
   ],
   "source": [
    "# find head loss in layer 1\n",
    "dh1 = l1*qt/k1\n",
    "h12 = htop -dh1\n",
    "print(\"head at layer 1-2 interface :\",round(h12,2),\" ft \")"
   ]
  },
  {
   "cell_type": "code",
   "execution_count": 8,
   "metadata": {},
   "outputs": [
    {
     "name": "stdout",
     "output_type": "stream",
     "text": [
      "head at layer 2-3 interface : 21.57  ft \n"
     ]
    }
   ],
   "source": [
    "# find head loss in layer 2\n",
    "dh2 = l2*qt/k2\n",
    "h23 = htop - dh1 -dh2\n",
    "print(\"head at layer 2-3 interface :\",round(h23,2),\" ft \")"
   ]
  },
  {
   "cell_type": "code",
   "execution_count": 9,
   "metadata": {},
   "outputs": [
    {
     "name": "stdout",
     "output_type": "stream",
     "text": [
      "tracer time in layer 1 : 5575000.0  sec\n"
     ]
    }
   ],
   "source": [
    "# time in layer 1\n",
    "time1 = l1*n1/qt\n",
    "print(\"tracer time in layer 1 :\",round(time1,6),\" sec\")"
   ]
  },
  {
   "cell_type": "code",
   "execution_count": 10,
   "metadata": {},
   "outputs": [
    {
     "name": "stdout",
     "output_type": "stream",
     "text": [
      "tracer time in layer 2 : 3122000.0  sec\n"
     ]
    }
   ],
   "source": [
    "# time in layer 2\n",
    "time2 = l2*n2/qt\n",
    "print(\"tracer time in layer 2 :\",round(time2,6),\" sec\")"
   ]
  },
  {
   "cell_type": "code",
   "execution_count": 11,
   "metadata": {},
   "outputs": [
    {
     "name": "stdout",
     "output_type": "stream",
     "text": [
      "tracer time in layer 3 : 27317500.0  sec\n"
     ]
    }
   ],
   "source": [
    "# time in layer 3\n",
    "time3 = l3*n3/qt\n",
    "print(\"tracer time in layer 3 :\",round(time3,6),\" sec\")"
   ]
  },
  {
   "cell_type": "code",
   "execution_count": 12,
   "metadata": {},
   "outputs": [
    {
     "name": "stdout",
     "output_type": "stream",
     "text": [
      "Tracer travel time : 416.834  days \n"
     ]
    }
   ],
   "source": [
    "totaltime=time1+time2+time3\n",
    "totaltime=totaltime/86400\n",
    "print(\"Tracer travel time :\",round(totaltime,3),\" days \")"
   ]
  },
  {
   "cell_type": "markdown",
   "metadata": {},
   "source": [
    "<hr><hr> \n",
    "\n",
    "## Problem 4 \n",
    "\n",
    "Three monitoring wells are in a homogeneous isotropic confined aquifer with transmissivity $T=1700\\frac{m^2}{day}$.  The observed piezometric heads are given in the table below:\n",
    "\n",
    "|Well ID|Easting Coordinate (m)|Northing Coordinate (m)|Head (m)|\n",
    "|:---   |:---                  |:---                   |:---    |\n",
    "|MW-1   |0                     |0                      |120.0   |\n",
    "|MW-2   |0                     |300                    |118.4   |\n",
    "|MW-3   |200                   |0                      |122.5   |\n",
    "\n",
    "Determine:\n",
    "\n",
    "1. A contour map of the piezometric surface in the vicinity of these wells using a 1-meter contour interval.\n",
    "2. Magnitude and direction of the gradient of head."
   ]
  },
  {
   "cell_type": "code",
   "execution_count": 13,
   "metadata": {},
   "outputs": [],
   "source": [
    "# sketch(s) \n",
    "# list known quantities\n",
    "# list unknown quantities\n",
    "# governing principles\n",
    "# solution details (e.g. step-by-step computations)\n",
    "# discussion"
   ]
  },
  {
   "cell_type": "code",
   "execution_count": 14,
   "metadata": {},
   "outputs": [
    {
     "name": "stdout",
     "output_type": "stream",
     "text": [
      "x-component hydraulic gradient:  -0.012\n",
      "y-component hydraulic gradient:  0.005\n",
      "magnitude hydraulic gradient:  0.014\n",
      "direction cosine x-component hydraulic gradient:  -0.92\n",
      "direction cosine y-component hydraulic gradient:  0.392\n",
      "magnitude head gradient:  23.103  meters per day\n",
      "u= -K*dH/dx:  -21.25 m/day\n",
      "v= -K*dH/dy:  9.067 m/day\n"
     ]
    },
    {
     "data": {
      "image/png": "[encoded data removed]",
      "text/plain": [
       "<Figure size 432x288 with 1 Axes>"
      ]
     },
     "metadata": {
      "filenames": {
       "image/png": "/home/sensei/ce-5364-webroot/ce5364notes/_build/jupyter_execute/chapters/91exercises/ES1/src-sol/ES1-WS_26_1.png"
      },
      "needs_background": "light"
     },
     "output_type": "display_data"
    }
   ],
   "source": [
    "import numpy\n",
    "import math\n",
    "Tran=1700.0\n",
    "# well A is origin\n",
    "wellID =['Well A','Well B','Well C']\n",
    "well_X =[0.0,0.0,200.0]\n",
    "well_Y =[0.0,300.0,0.0]\n",
    "well_Z =[120,118.4,122.5]\n",
    "amatrix = [[0 for j in range(3)]for i in range(3)]\n",
    "b = [0 for j in range(3)]\n",
    "# A-matrix\n",
    "for i in range(3):\n",
    "    amatrix[i][0]=well_X[i]\n",
    "    amatrix[i][1]=well_Y[i]\n",
    "    amatrix[i][2]=1.0\n",
    "    b[i]= well_Z[i] \n",
    "amatrix = numpy.array(amatrix) #typecast as numpy array\n",
    "b = numpy.array(b)\n",
    "x = numpy.linalg.solve(amatrix,b) # solve equation of plane\n",
    "# recover and report results\n",
    "print(\"x-component hydraulic gradient: \",round(-x[0],3))\n",
    "print(\"y-component hydraulic gradient: \",round(-x[1],3))\n",
    "grad = math.sqrt(x[0]**2+x[1]**2)\n",
    "print(\"magnitude hydraulic gradient: \",round(grad,3))\n",
    "print(\"direction cosine x-component hydraulic gradient: \",round(-x[0]/grad,3))\n",
    "print(\"direction cosine y-component hydraulic gradient: \",round(-x[1]/grad,3))\n",
    "gradH = grad*Tran\n",
    "print(\"magnitude head gradient: \",round(gradH,3),\" meters per day\")\n",
    "print(\"u= -K*dH/dx: \",round(-x[0]*Tran,3),\"m/day\")\n",
    "print(\"v= -K*dH/dy: \",round(-x[1]*Tran,3),\"m/day\")\n",
    "# use this if want to plot\n",
    "list1 = [0,-100*(x[0]/grad)] \n",
    "list2 = [0,-100*(x[1]/grad)] \n",
    "stry='Distance Northing'\n",
    "strx='Distance Easting'\n",
    "strtitle='Hydraulic Gradient and 3-Well Locations\\n'+'Gradient Magnitude: '+ str(round(grad,3)) +'\\n Red segment is 100X direction cosines' \n",
    "\n",
    "plotlabel=['Wells','Gradient']\n",
    "from matplotlib import pyplot as plt # import the plotting library from matplotlibplt.show()\n",
    "plt.plot(well_X, well_Y, color ='green', marker ='o', linestyle ='none') # create a line chart, years on x-axis, gdp on y-axis\n",
    "plt.plot(list1, list2, color ='red', marker ='x', linestyle ='solid')\n",
    "plt.title(strtitle)# add a title\n",
    "plt.ylabel(stry)# add a label to the x and y-axes\n",
    "plt.xlabel(strx)\n",
    "plt.legend(plotlabel)\n",
    "plt.grid()\n",
    "plt.show() # display the plot"
   ]
  },
  {
   "cell_type": "code",
   "execution_count": 15,
   "metadata": {},
   "outputs": [],
   "source": [
    "# build XYZ structure from 3-well function\n",
    "nrows=401\n",
    "ncols=301\n",
    "distancex=[0 for i in range(ncols)]\n",
    "distancey=[0 for i in range(nrows)]\n",
    "head=[[0 for j in range(ncols)] for i in range(nrows)]\n",
    "for j in range(ncols):\n",
    "    distancex[j]=float(j)\n",
    "for i in range(nrows):\n",
    "    distancey[i]=float(i)\n",
    "for j in range(ncols):\n",
    "    for i in range(nrows):\n",
    "        head[i][j]=x[0]*distancex[j] + x[1]*distancey[i] + x[2]"
   ]
  },
  {
   "cell_type": "code",
   "execution_count": 16,
   "metadata": {},
   "outputs": [
    {
     "data": {
      "text/plain": [
       "Text(0.5, 1.0, 'Contour Plot from Gridded Data File')"
      ]
     },
     "execution_count": 16,
     "metadata": {},
     "output_type": "execute_result"
    },
    {
     "data": {
      "image/png": "[encoded data removed]",
      "text/plain": [
       "<Figure size 432x576 with 1 Axes>"
      ]
     },
     "metadata": {
      "filenames": {
       "image/png": "/home/sensei/ce-5364-webroot/ce5364notes/_build/jupyter_execute/chapters/91exercises/ES1/src-sol/ES1-WS_28_1.png"
      },
      "needs_background": "light"
     },
     "output_type": "display_data"
    }
   ],
   "source": [
    "my_xyz = [] # empty list\n",
    "for irow in range(nrows):\n",
    "    for jcol in range(ncols):\n",
    "        my_xyz.append([distancex[jcol],distancey[irow],head[irow][jcol]])\n",
    "import pandas\n",
    "my_xyz = pandas.DataFrame(my_xyz) # convert into a data frame\n",
    "#print(my_xyz) # activate to examine the dataframe\n",
    "import numpy \n",
    "import matplotlib.pyplot\n",
    "from scipy.interpolate import griddata\n",
    "# extract lists from the dataframe\n",
    "coord_x = my_xyz[0].values.tolist() # column 0 of dataframe\n",
    "coord_y = my_xyz[1].values.tolist() # column 1 of dataframe\n",
    "coord_z = my_xyz[2].values.tolist() # column 2 of dataframe\n",
    "coord_xy = numpy.column_stack((coord_x, coord_y))\n",
    "# Set plotting range in original data units\n",
    "lon = numpy.linspace(min(coord_x), max(coord_x), 300)\n",
    "lat = numpy.linspace(min(coord_y), max(coord_y), 80)\n",
    "X, Y = numpy.meshgrid(lon, lat)\n",
    "# Grid the data; use linear interpolation (choices are nearest, linear, cubic)\n",
    "Z = griddata(numpy.array(coord_xy), numpy.array(coord_z), (X, Y), method='cubic')\n",
    "# Build the map\n",
    "fig, ax = matplotlib.pyplot.subplots()\n",
    "fig.set_size_inches(6, 8)\n",
    "CS = ax.contour(X, Y, Z, levels = 6)\n",
    "# build flowline to overlaY\n",
    "list1 = [150,150-100*(x[0]/grad)] \n",
    "list2 = [150,150-100*(x[1]/grad)] \n",
    "ax.plot(list1, list2, color ='red', marker ='.', linestyle ='solid')\n",
    "ax.clabel(CS, inline=2, fontsize=16)\n",
    "ax.set_title('Contour Plot from Gridded Data File')"
   ]
  },
  {
   "cell_type": "markdown",
   "metadata": {},
   "source": [
    "<hr><hr> \n",
    "\n",
    "## Problem 5 \n",
    "\n",
    "Three monitoring wells are in a homogeneous anisotropic aquifer with saturated thickness of 20 m, and hydraulic conductivity given by \n",
    "\n",
    "$$\n",
    "\\begin{gather}\n",
    "\\mathbf{K} =\n",
    "\\begin{pmatrix}\n",
    "30 & ~8 \\\\\n",
    "~\\\\\n",
    "8 & 10 \\\\\n",
    "\\end{pmatrix}\n",
    "\\frac{m}{day}\n",
    "~\n",
    "\\end{gather}\n",
    "$$\n",
    "\n",
    "The observed piezometric heads are given in the table below:\n",
    "\n",
    "|Well ID|Easting Coordinate (m)|Northing Coordinate (m)|Head (m)|\n",
    "|:---   |:---                  |:---                   |:---    |\n",
    "|MW-1   |0                     |0                      |120.0   |\n",
    "|MW-2   |0                     |300                    |118.4   |\n",
    "|MW-3   |200                   |0                      |122.5   |\n",
    "\n",
    "Determine:\n",
    "\n",
    "1. A contour map of the piezometric surface in the vicinity of these wells using a 1-meter contour interval (identical to previous problem).\n",
    "2. Magnitude and direction of the specific discharge through the aquifer.\n",
    "3. Determine the principal values of the hydraulic conductivity $\\mathbf{K}$ tensor, and the angle between the principal axes and the Easting-Northing coordinate system."
   ]
  },
  {
   "cell_type": "code",
   "execution_count": 17,
   "metadata": {},
   "outputs": [],
   "source": [
    "# sketch(s) \n",
    "# list known quantities\n",
    "# list unknown quantities\n",
    "# governing principles\n",
    "# solution details (e.g. step-by-step computations)\n",
    "# discussion"
   ]
  },
  {
   "cell_type": "code",
   "execution_count": 18,
   "metadata": {},
   "outputs": [
    {
     "name": "stdout",
     "output_type": "stream",
     "text": [
      "x-component hydraulic gradient:  -0.012\n",
      "y-component hydraulic gradient:  0.005\n",
      "magnitude hydraulic gradient:  0.014\n",
      "direction cosine x-component hydraulic gradient:  -0.92\n",
      "direction cosine y-component hydraulic gradient:  0.392\n",
      "u= -K*dH/dx:  -0.332 m/day\n",
      "v= -K*dH/dy:  -0.047 m/day\n"
     ]
    },
    {
     "data": {
      "image/png": "[encoded data removed]",
      "text/plain": [
       "<Figure size 432x288 with 1 Axes>"
      ]
     },
     "metadata": {
      "filenames": {
       "image/png": "/home/sensei/ce-5364-webroot/ce5364notes/_build/jupyter_execute/chapters/91exercises/ES1/src-sol/ES1-WS_31_1.png"
      },
      "needs_background": "light"
     },
     "output_type": "display_data"
    }
   ],
   "source": [
    "import numpy\n",
    "import math\n",
    "K=[[30,8],[8,10]]\n",
    "# well A is origin\n",
    "wellID =['Well A','Well B','Well C']\n",
    "well_X =[0.0,0.0,200.0]\n",
    "well_Y =[0.0,300.0,0.0]\n",
    "well_Z =[120,118.4,122.5]\n",
    "amatrix = [[0 for j in range(3)]for i in range(3)]\n",
    "b = [0 for j in range(3)]\n",
    "# A-matrix\n",
    "for i in range(3):\n",
    "    amatrix[i][0]=well_X[i]\n",
    "    amatrix[i][1]=well_Y[i]\n",
    "    amatrix[i][2]=1.0\n",
    "    b[i]= well_Z[i] \n",
    "amatrix = numpy.array(amatrix) #typecast as numpy array\n",
    "b = numpy.array(b)\n",
    "x = numpy.linalg.solve(amatrix,b) # solve equation of plane\n",
    "# recover and report results\n",
    "print(\"x-component hydraulic gradient: \",round(-x[0],3))\n",
    "print(\"y-component hydraulic gradient: \",round(-x[1],3))\n",
    "grad = math.sqrt(x[0]**2+x[1]**2)\n",
    "print(\"magnitude hydraulic gradient: \",round(grad,3))\n",
    "print(\"direction cosine x-component hydraulic gradient: \",round(-x[0]/grad,3))\n",
    "print(\"direction cosine y-component hydraulic gradient: \",round(-x[1]/grad,3))\n",
    "#gradH = grad*Tran\n",
    "#print(\"magnitude head gradient: \",round(gradH,3),\" meters per day\")\n",
    "u = -x[0]*K[0][0]-x[1]*K[0][1]\n",
    "v = -x[0]*K[1][0]-x[1]*K[1][1]\n",
    "print(\"u= -K*dH/dx: \",round(u,3),\"m/day\")\n",
    "print(\"v= -K*dH/dy: \",round(v,3),\"m/day\")\n",
    "# use this if want to plot\n",
    "list1 = [0,-100*(x[0]/grad)] \n",
    "list2 = [0,-100*(x[1]/grad)] \n",
    "\n",
    "list11 = [0,100*(u)] \n",
    "list22 = [0,100*(v)] \n",
    "\n",
    "stry='Distance Northing'\n",
    "strx='Distance Easting'\n",
    "strtitle='Hydraulic Gradient and 3-Well Locations\\n' + \\\n",
    "'Gradient Magnitude: '+ str(round(grad,3)) + '\\n Red segment is 100X direction cosines' + \\\n",
    "'\\n Blue Segment is 100X Specific Discharge Velocities'\n",
    "\n",
    "plotlabel=['Wells','Hydraulic Gradient','Flowline']\n",
    "from matplotlib import pyplot as plt # import the plotting library from matplotlibplt.show()\n",
    "plt.plot(well_X, well_Y, color ='green', marker ='o', linestyle ='none') # create a line chart, years on x-axis, gdp on y-axis\n",
    "plt.plot(list1, list2, color ='blue', marker ='.', linestyle ='solid')\n",
    "plt.plot(list11, list22, color ='red', marker ='.', linestyle ='solid')\n",
    "plt.title(strtitle)# add a title\n",
    "plt.ylabel(stry)# add a label to the x and y-axes\n",
    "plt.xlabel(strx)\n",
    "plt.legend(plotlabel)\n",
    "plt.grid()\n",
    "plt.show() # display the plot"
   ]
  },
  {
   "cell_type": "code",
   "execution_count": 19,
   "metadata": {},
   "outputs": [],
   "source": [
    "# build XYZ structure from 3-well function\n",
    "nrows=401\n",
    "ncols=301\n",
    "distancex=[0 for i in range(ncols)]\n",
    "distancey=[0 for i in range(nrows)]\n",
    "head=[[0 for j in range(ncols)] for i in range(nrows)]\n",
    "for j in range(ncols):\n",
    "    distancex[j]=float(j)\n",
    "for i in range(nrows):\n",
    "    distancey[i]=float(i)\n",
    "for j in range(ncols):\n",
    "    for i in range(nrows):\n",
    "        head[i][j]=x[0]*distancex[j] + x[1]*distancey[i] + x[2]"
   ]
  },
  {
   "cell_type": "code",
   "execution_count": 20,
   "metadata": {},
   "outputs": [
    {
     "data": {
      "text/plain": [
       "Text(0.5, 1.0, 'Contour Plot from Gridded Data File')"
      ]
     },
     "execution_count": 20,
     "metadata": {},
     "output_type": "execute_result"
    },
    {
     "data": {
      "image/png": "[encoded data removed]",
      "text/plain": [
       "<Figure size 432x576 with 1 Axes>"
      ]
     },
     "metadata": {
      "filenames": {
       "image/png": "/home/sensei/ce-5364-webroot/ce5364notes/_build/jupyter_execute/chapters/91exercises/ES1/src-sol/ES1-WS_33_1.png"
      },
      "needs_background": "light"
     },
     "output_type": "display_data"
    }
   ],
   "source": [
    "my_xyz = [] # empty list\n",
    "for irow in range(nrows):\n",
    "    for jcol in range(ncols):\n",
    "        my_xyz.append([distancex[jcol],distancey[irow],head[irow][jcol]])\n",
    "import pandas\n",
    "my_xyz = pandas.DataFrame(my_xyz) # convert into a data frame\n",
    "#print(my_xyz) # activate to examine the dataframe\n",
    "import numpy \n",
    "import matplotlib.pyplot\n",
    "from scipy.interpolate import griddata\n",
    "# extract lists from the dataframe\n",
    "coord_x = my_xyz[0].values.tolist() # column 0 of dataframe\n",
    "coord_y = my_xyz[1].values.tolist() # column 1 of dataframe\n",
    "coord_z = my_xyz[2].values.tolist() # column 2 of dataframe\n",
    "coord_xy = numpy.column_stack((coord_x, coord_y))\n",
    "# Set plotting range in original data units\n",
    "lon = numpy.linspace(min(coord_x), max(coord_x), 300)\n",
    "lat = numpy.linspace(min(coord_y), max(coord_y), 80)\n",
    "X, Y = numpy.meshgrid(lon, lat)\n",
    "# Grid the data; use linear interpolation (choices are nearest, linear, cubic)\n",
    "Z = griddata(numpy.array(coord_xy), numpy.array(coord_z), (X, Y), method='cubic')\n",
    "# Build the map\n",
    "fig, ax = matplotlib.pyplot.subplots()\n",
    "fig.set_size_inches(6, 8)\n",
    "CS = ax.contour(X, Y, Z, levels = 6)\n",
    "# build flowline to overlaY\n",
    "list1 = [150,150-100*(x[0]/grad)] \n",
    "list2 = [150,150-100*(x[1]/grad)] \n",
    "list11 = [150,150+100*(u)] \n",
    "list22 = [150,150+100*(v)]\n",
    "ax.plot(list1, list2, color ='blue', marker ='.', linestyle ='solid')\n",
    "ax.plot(list11, list22, color ='red', marker ='.', linestyle ='solid')\n",
    "ax.clabel(CS, inline=2, fontsize=16)\n",
    "ax.set_title('Contour Plot from Gridded Data File')"
   ]
  },
  {
   "cell_type": "code",
   "execution_count": null,
   "metadata": {},
   "outputs": [],
   "source": []
  }
 ],
 "metadata": {
  "kernelspec": {
   "display_name": "Python 3",
   "language": "python",
   "name": "python3"
  },
  "language_info": {
   "codemirror_mode": {
    "name": "ipython",
    "version": 3
   },
   "file_extension": ".py",
   "mimetype": "text/x-python",
   "name": "python",
   "nbconvert_exporter": "python",
   "pygments_lexer": "ipython3",
   "version": "3.8.10"
  }
 },
 "nbformat": 4,
 "nbformat_minor": 4
}