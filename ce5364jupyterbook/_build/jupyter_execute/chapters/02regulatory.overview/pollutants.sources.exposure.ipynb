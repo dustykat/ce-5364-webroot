{
 "cells": [
  {
   "cell_type": "markdown",
   "metadata": {},
   "source": [
    "# 3. Regulatory Overview and Risk Assessment"
   ]
  },
  {
   "cell_type": "markdown",
   "metadata": {},
   "source": [
    ":::{admonition} Course Website\n",
    "[Link to Course Website](http://54.243.252.9/ce-5364-webroot/)\n",
    ":::\n",
    "\n",
    "---"
   ]
  },
  {
   "cell_type": "code",
   "execution_count": 1,
   "metadata": {
    "scrolled": true
   },
   "outputs": [
    {
     "data": {
      "text/html": [
       "<style> table {margin-left: 0 !important;} </style>\n"
      ],
      "text/plain": [
       "<IPython.core.display.HTML object>"
      ]
     },
     "metadata": {},
     "output_type": "display_data"
    }
   ],
   "source": [
    "%%html\n",
    "<style> table {margin-left: 0 !important;} </style>"
   ]
  },
  {
   "cell_type": "code",
   "execution_count": 2,
   "metadata": {
    "collapsed": true,
    "jupyter": {
     "outputs_hidden": true,
     "source_hidden": true
    },
    "scrolled": true
   },
   "outputs": [
    {
     "name": "stdout",
     "output_type": "stream",
     "text": [
      "ip-172-26-5-168\n",
      "sensei\n",
      "/opt/jupyterhub/bin/python3\n",
      "3.10.12 (main, May 27 2025, 17:12:29) [GCC 11.4.0]\n",
      "sys.version_info(major=3, minor=10, micro=12, releaselevel='final', serial=0)\n"
     ]
    }
   ],
   "source": [
    "import sys\n",
    "! hostname\n",
    "! whoami\n",
    "print(sys.executable)\n",
    "print(sys.version)\n",
    "print(sys.version_info)"
   ]
  },
  {
   "cell_type": "markdown",
   "metadata": {},
   "source": [
    "## Readings\n",
    "\n",
    "1. [Bedient, P.B., Rifai, H. S., and Newell, C. J. (1999). *Groundwater Contamination: Transport, and Remediation* Prentice Hall. pp. 75-113.](http://54.243.252.9/ce-5364-webroot/3-Readings/Bedient_et_al/Bedient_et_al._Chapter_4.pdf)\n",
    "\n",
    "2. []()\n",
    "\n",
    "1. [Asante-Duah, K. (1993) Hazardous Waste Risk Assessment](http://54.243.252.9/ce-5364-webroot/3-Readings/HazardousWasteRiskAssessmentbyAsante-Duah.pdf)\n",
    "2. [Hazard Ranking System Guidance Manual](http://54.243.252.9/ce-5364-webroot/3-Readings/HRSmanual.pdf)\n",
    "3. [EPA Risk Communication Seminar (1990)](http://54.243.252.9/ce-5364-webroot/3-Readings/EPARiskCommunicationSeminar.pdf)\n",
    "4. [Becquerel (radioactivity unit)](https://en.wikipedia.org/wiki/Becquerel)\n",
    "5. [Toxicity (Cleveland notes circa 2001)](http://54.243.252.9/ce-5364-webroot/ce5364notes/chapters/4pollutants/Toxicity.PDF)\n",
    "6. [Dose-Response (Wikipedia)](https://en.wikipedia.org/wiki/Dose%E2%80%93response_relationship)\n",
    "7. [Threshold Concept](https://www.toxmsdt.com/22-dose-response.html)\n",
    "8. [Risk Assessment Concepts (Cleveland notes)](http://54.243.252.9/ce-5364-webroot/ce5364notes/chapters/4pollutants/CIVE3331_Lecture_018.PDF)\n",
    "9. [Risk Assessment Concepts (TNRCC guidelines)](http://54.243.252.9/ce-5364-webroot/ce5364notes/chapters/4pollutants/CIVE3331_Readings_018_copy.pdf)\n",
    "10. [Risk Assessment Homework (Old Cleveland notes)](http://54.243.252.9/ce-5364-webroot/ce5364notes/chapters/4pollutants/Exercise021.PDF)\n",
    "11. [Risk Assessment Solutions (Old Cleveland notes)](http://54.243.252.9/ce-5364-webroot/ce5364notes/chapters/4pollutants/Solution021.PDF)\n",
    "12. [Framework for Ecological Risk Assessment EPA 630-R-92-001](https://www.epa.gov/risk/framework-ecological-risk-assessment)"
   ]
  },
  {
   "cell_type": "markdown",
   "metadata": {},
   "source": [
    "## Videos"
   ]
  },
  {
   "cell_type": "markdown",
   "metadata": {},
   "source": [
    "## Spreadsheets/Scripts/Data"
   ]
  },
  {
   "cell_type": "markdown",
   "metadata": {},
   "source": [
    "## Scope\n",
    "- U.S. and international groundwater contamination regulations\n",
    "- Risk-based corrective actions and exposure pathways\n",
    "- Case studies of regulatory decisions \n",
    "\n",
    "Pollutants\n",
    "\n",
    "Pollutants in groundwater refer to contaminating substances that have migrated into the underground water reservoirs, known as aquifers. These pollutants can include a wide range of chemicals, heavy metals, pesticides, fertilizers, industrial waste, and even naturally occurring substances like minerals and salts when they exceed desired levels. Contaminated groundwater poses a serious environmental and health risk, as it can affect drinking water quality and harm ecosystems when it reaches surface waters. Preventing and remedying groundwater pollution is crucial for safeguarding both human health and the environment.\n",
    "\n",
    ">**Why we care** Globally, the reliance on groundwater for human settlement sustainment is a critical aspect of our water supply infrastructure. Groundwater, which is stored in underground aquifers, serves as a lifeline for countless communities around the world. It plays a pivotal role in sustaining human settlements by providing a consistent and often more reliable source of freshwater.\n",
    ">\n",
    ">Groundwater is utilized for various essential purposes, including drinking water supply, irrigation for agriculture, industrial processes, and even supporting ecosystems. Its importance becomes especially pronounced in regions where surface water sources such as rivers and lakes are scarce, unreliable, or subject to pollution and contamination.\n",
    ">\n",
    ">The sustainability of groundwater resources, however, faces significant challenges. Over-extraction, driven by population growth and increasing water demands, can lead to the depletion of aquifers. This unsustainable use can result in land subsidence, seawater intrusion into coastal aquifers, and the long-term degradation of water quality.\n",
    ">\n",
    ">Balancing the reliance on groundwater with sustainable management practices is crucial for the continued well-being of human settlements. Monitoring, conservation, and the implementation of responsible water management strategies are essential steps toward ensuring that groundwater remains a dependable resource for communities worldwide. This includes promoting water conservation, recharge of aquifers, and careful regulation of extraction to preserve this invaluable source of freshwater for generations to come."
   ]
  },
  {
   "cell_type": "markdown",
   "metadata": {},
   "source": [
    "## Concentrations\n",
    "\n",
    "Solvent phase (soil, air, water) is the phase that contains the solute (constituient) phase. The amount of solute contained in the solvent is usually expressed as some kind of concentration either massic(mass/mass) or volumetric(mass/volume).  Concentrations are expressed in a variety of units; The most common in environmental flow and transport models are volumetric.  \n",
    "\n",
    "There are cases where multiple phases are present (multi-phase transport) and multiple components in a solute mixture (multi-component).  Emulsions are a special kind of two-(or more)phase system where the emulsion behaves as a single phase with respect to motion.  Oil-in-water, water-in-oil, biosolids-in-water (technically a slurry), coal-in-water (a slurry) are examples of commonly encountered emulsions.\n",
    "\n",
    "The terms constituients and pollutants are used more or less interchangeably; however a pollutant represents a value judgement - if the particular constituient is **undesirable**, for example methyl-ethyl death in water - then its a pollutant, otherwise its just a lowly *constituient*.  The distinction is irrelevant unless lawyers, judges, and money are involved - then be careful; someone goes to jail, and someone loses their doublewide if you get your mords wixed!"
   ]
  },
  {
   "cell_type": "markdown",
   "metadata": {},
   "source": [
    "## Types\n",
    "\n",
    "Lots of types of pollutants, their classification below is somewhat arbitrary but useful in assessing impacts and remediation methods.\n",
    "\n",
    ">**Pathogens**\n",
    "Bacteria, protozoa, virus, prions that can cause disease and death. Usually associated\n",
    "with waste from human activities.<br>\n",
    ">**Oxygen Demanding Materials**\n",
    "Usually organic chemicals associated with human activities. Often will degrade naturally\n",
    "of sufficient time and O2 are available.<br>\n",
    ">**Inorganic Materials**\n",
    "Cations and anions that pose a threat to health or economic use of air, soil, or water.\n",
    "Metals that are problematic, but not toxic (see hazardous chemicals).<br>\n",
    ">**Hazardous Chemicals**\n",
    "This category is further defined by [listed versus characteristic](https://www.epa.gov/hw/defining-hazardous-waste-listed-characteristic-and-mixed-radiological-wastes) versus hazardous materials.  Listed means the material is on a list; characteristic means it could exhibit behavior from:\n",
    ">- **Ignitability**-Materials that pose a fire hazard during routine handling (e.g.[gasoline](https://about.usps.com/posters/pos138/pos138_hazard_004.htm))\n",
    ">- **Corrosivity**-Materials that require special containers because they corrode standard containers. (e.g. [hydrogen fluoride](https://emergency.cdc.gov/agent/hydrofluoricacid/basics/facts.asp)\n",
    ">- **Reactivity**-Materials that react spontaneously with air or water, are unstable to shock or heat, generate toxic gases, or explode during routine handling. (e.g. [white phosphorous](https://www.epa.gov/sites/default/files/2016-09/documents/phosphorus.pdf))\n",
    ">- **Toxicity**-Materials that release toxicants in quantities that pose a threat to human or environmental health when improperly handled. (e.g. [Organophosphate pesticides](https://emergency.cdc.gov/agent/nerve/tsd.asp))<br><br>\n",
    ">Many compounds exhibit multiple characteristics - but one is enough to earn a spot on the pollutant show."
   ]
  },
  {
   "cell_type": "markdown",
   "metadata": {},
   "source": [
    "## Sources\n",
    "\n",
    "From our textbook:\n",
    "\n",
    "1. By design.  Septic tanks, injection wells, land application.\n",
    "2. Storage systems (failure). Leaks from landfills, tanks.\n",
    "3. Transmission system (failure). Pipelines, trucks, trains.\n",
    "4. Non-point sources. Irrigation,urban runoff,mining drainage\n",
    "5. Wells, excavations.\n",
    "6. Natural.  Salt waters.\n",
    "\n",
    ">From ([www.springwellwater.com](https://www.springwellwater.com/10-potential-sources-of-groundwater-pollution/)):\n",
    ">\n",
    ">1. **Natural Sources.** Groundwater contamination won’t always be a result of human activity. Some substances found naturally in rocks and soils, such as arsenic, iron, chlorides, sulfates, fluoride, or radionuclides, can become dissolved in groundwater. Other naturally-occurring substances, such as decaying organic matter, can move in groundwater as particles. Some of these contaminants may accumulate in excess quantities, posing a health threat if consumed. Others may produce an unpleasant odor, taste, or color. Groundwater containing these materials needs to be treated before it is used for domestic uses.\n",
    ">2. **Pesticide and Fertilizer Use.** Agriculture is a huge source of groundwater pollution. The spreading of slurry, fertilizers, pesticides, fungicides, insecticides, herbicides, and animal waste on the land can result in pollutants, such as nitrates and bacteria, seeping into underground water sources. These pollutants can have severe adverse effects on plants, animals, and people who rely on these water sources. Some of them can even stay in the ground for many months to many years. Atrazine, a common weed killer, is linked to congenital disabilities, cancer, and low sperm counts in humans.\n",
    ">3. **Waste from Sewers and Other Pipelines.** Sewer pipes carrying wastes sometimes leak fluids into the surrounding soil and groundwater. Sewage consists of organic matter, heavy metals, inorganic salts, bacteria, viruses, and nitrogen. Similarly, improperly designed, located, constructed, or maintained septic systems could leak bacteria, viruses, household chemicals, and other contaminants into the groundwater, causing severe problems. Pipelines carrying industrial chemicals and oil brine have also been known to leak, especially when the materials transported through the pipes are corrosive.\n",
    ">4. **Improper Disposal of Hazardous Waste.** Many of us don’t realize that the way we dispose of waste can impact the quality of the same groundwater we rely on. When we improperly dispose of materials such as cooking and motor oils, lawn and garden chemicals, paints and paint thinners, medicines, disinfectants, etc., they usually end up in groundwater wells. Besides, many substances used in the industrial process should not be disposed of in drains at the workplace because they could contaminate a drinking water source. Pouring the wrong chemicals down the drain or neglecting to discard medication properly can harm your groundwater sources and, ultimately, your health and possibly that of the people living in your household.\n",
    ">5. **Natural Gas Drilling.** Hydraulic fracturing, or “fracking” is a process used to drill for natural gas. A mixture of chemicals is combined with water and forced deep into cracks in the ground, opening them to gain more access to the gas. EPA scientists are still investigating whether natural gas drilling is contaminating groundwater sources in some Western States. But many homeowners have abandoned their houses after methane seeped into the water, and at least one house exploded in 2003, killing three people inside.\n",
    ">6. **Mining and Quarrying.** Mining and quarrying can release pollutants previously trapped in rocks into surrounding underground water sources. Precipitation causes these soluble chemicals to leach into the groundwater below. These wastes often include acid, iron, sulfates, and aluminum. Furthermore, toxins such as lead and arsenic were used in 19th-century mining, and often persist in today’s abandoned mine shafts.\n",
    ">7. **Saltwater Contamination.** When aquifers near the coast are over-pumped, there’s a risk of creating a vacuum that can quickly be filled with salty seawater. Saltwater is undrinkable and useless for irrigation, decreasing the availability of the already scarce freshwater. Saltwater contamination is a major concern for many coastal communities that depend on wells for drinking water.\n",
    ">8. **Landfills.** Landfills are areas where our garbage is taken to be buried. They are supposed to have a protective bottom layer to prevent contaminants from leaching into groundwater. However, if there’s no layer or the layer is cracked, contaminants from the landfill (paint, acid, car batteries, household cleaners, etc.) can make their way down into groundwater. These contaminants can pose serious health risks to humans and animals. Most landfill permits require some kind of monitoring for example [TCEQ Groundwater Detection Monitoring Report Format ](https://www.tceq.texas.gov/downloads/permitting/waste-permits/ihw/docs/gwdm-report-template.pdf)\n",
    ">9. **Military Bases.** Military sites are home to some of the most dangerous contaminants, including trichloroethylene (TCE) and per- and poly-fluoroalkyl substances (PFAS). Even today, some US military facilities are plagued by contamination. Worse, some contaminants found in and around those facilities have drifted into some groundwater supplies. TCE is believed to damage the nervous system, lungs, and liver and cause abnormal heartbeat, coma, or even death. It’s also believed to cause cancer in humans. PFAS may lead to problems like thyroid disease, damage to the liver and kidneys, elevated cholesterol, and effects on fertility and low birth weight. And similar to TCE, it is a possible cancer-causing agent.\n",
    ">10.  **Atmospheric Contamination.** Ever heard the saying, “What goes up must come down?” Well, that principle also applies to pollutants released into the atmosphere. These contaminants eventually return to Earth in rain, snow, and other forms of precipitation. Surface water then leaches these pollutants into groundwater. Moreover, nitrates and sulfates emitted from power plants and factories can cause acid rain, which streams through the soil and acidifies groundwater supplies.\n",
    "\n",
    "A nice [EPA Fact Sheet](https://www.epa.gov/sites/default/files/2015-08/documents/mgwc-gwc1.pdf) discusses sources in some detail.\n",
    "\n",
    "A typical priority list (circa 1990s) for the pollutants themselves is:\n",
    "\n",
    "- Inorganics\n",
    "- Organics\n",
    "- Hydrocarbons\n",
    "- Solvents\n",
    "- Chlorinated hydrocarbons\n",
    "- Metals\n",
    "- Emerging contaminants\n",
    "\n",
    "which pretty much covers everything!  The category overlaps are intentional."
   ]
  },
  {
   "cell_type": "markdown",
   "metadata": {},
   "source": [
    "## Exposure Sources and Effects\n",
    "A subset of sources, probably more useful in the overall context of transport are exposure sources:\n",
    "> **Biological cycles**: Uptake and decay of animal and plant life, excretion of materials, etc.<br>\n",
    "> **Domestic waste**: Discharges of raw and treated wastewater. <br>\n",
    "> **Industrial waste**:Discharges of raw and treated wastewater, discharges of raw and treated off-gases. <br>\n",
    "> **Nonpoint source**: Landfill leachate, stormwater runoff. As a rule of thumb, a nonpoint source is any source\n",
    "that you cannot “point” to. (Although humorous, this definition is quite practical) <br>\n",
    "\n",
    "Effects (of exposure) are classified as:\n",
    ">**Acute** effects imply some immediate damage; effect is noticed quickly<br>\n",
    ">**Chronic** effects imply long term damage; it may be many years until effect is noticed.\n",
    "\n",
    "### Exposure and Risk\n",
    "Fundamental question is what are the risks associated with assimilation of a certain compound at a certain concentration over short (acute) and long (chronic) term?\n",
    "\n",
    "### Risk Assessment Tools\n",
    "Toxic response analysis, Exposure Concentration, Cost-benefit analysis, Revealed and expressed preference analysis\n",
    "\n",
    "### Exposure Concentration\n",
    "- **Source of compound, production rates, and release rates to environment.**\n",
    "- **Characteristics of compound relevant to its ability to travel and react in the natural environment.**\n",
    "- Data to estimate the population at risk. Occupation. Medical surveillance.\n",
    "- Socioeconomic use habits. The source and compound characteristics can be incorporated into models. \n",
    "\n",
    "The actual risk analysis is a second step.\n",
    "\n",
    "## Dose/Response Concepts\n",
    "\n",
    "For response to a contaminant the material must be toxic and the receptor must be exposed. \n",
    "A highly toxic material with no exposure is not much of a hazard. \n",
    "A mildly toxic material with high exposure could be very hazardous. \n",
    "\n",
    "Environmental toxicology typically assumes that for dilute pollutants, toxicity is proportional to concentration and duration. The longer the contact time, the greater the probability of toxic effects. Amount of toxicant initially absorbed is gradually decreased by metabolic activity and excretion with other bodily wastes.\n",
    "\n",
    "The figure below is a conceptual retention curve for some pollutant\n",
    "\n",
    "![](retentioncurve.png)\n",
    "\n",
    "Time integral of the retention curve is called the *retention dose*.\n",
    "The lifetime retention dose is called the *dose commitment*.\n",
    "A typical formula for estimating retention dose is: \n",
    "\n",
    "$$R=C \\times U \\times D$$\n",
    "\n",
    "where $R$ is the retention dose, $C$ is the exposure concentration, $U$ is the uptake rate, and $D$ is the exposure duration.  \n",
    ":::{note}\n",
    "Obviously units are not supplied, we are in the realm of toxicology - outside scope of this document, but some background is needed, hence the overly simplified discussion herein.\n",
    ":::\n",
    "\n",
    "### Threshold Concept\n",
    "In drug therapy there exist threshold doses where response to the drug changes. Typically\n",
    "two thresholds in drugs exist, a lower bound where no therapeutic effect is observed, and\n",
    "an upper threshold where damage (usually death) occurs. \n",
    "\n",
    "Similarly toxicants are thought to also have thresholds. A practice used is that one-percent of the threshold dose for\n",
    "animals is acceptable for humans (normalized by body weight).\n",
    "\n",
    "### Latency Concept\n",
    "In support of the threshold hypothesis it has been observed that the period between exposure and response (tumors) for carcinogen increases as dose decreases. Generally it is accepted that the product of dose and latent time raised to some power is a constant.\n",
    "\n",
    "## Estimating Fate of Pollutants\n",
    "The fundamental tool used to predict concentrations in the environment is the mathematical model, supported by data, laboratory experiments, and judgement. \n",
    "\n",
    "Models are used in many disciplines such as:\n",
    "- Economics: predict market activity, occurrence or recessions or periods of productivity.\n",
    "- Meteorology: short-term weather conditions, long-term climatological conditions. \n",
    "- Engineering: predict performance of engineered systems. **Predict transport and fate of pollutants.**\n",
    "\n",
    "Keeping this in mind, much of these notes is aimed at building useful models to support engineering decisions regarding groundwater quality.\n",
    "\n",
    "A primary end goal is to estimate a Dilution–Attenuation Factor (DAF) and use that to inform remediation (or do nothing) decisions.  A DAF alone is insufficient, so we tend to favor detailed model estimates if screening indicates that an active remediation activity is needed.\n"
   ]
  },
  {
   "cell_type": "markdown",
   "metadata": {},
   "source": [
    "## Dilution–Attenuation Factor (DAF): what it is and why it matters\n",
    "\n",
    "Dilution–attenuation factor (DAF) is a screening-level construct that links a source concentration to a downgradient receptor concentration by accounting for processes that reduce concentrations during subsurface transport. In its simplest form,\n",
    "\n",
    "$$C_{receptor} = \\frac{C_{source}}{DAF}$$\n",
    "\n",
    "or equivalently $ DAF=\\frac{C_{source}}{ C_{receptor}}$\n",
    "\n",
    "Conceptually, as a pollutant migrates from the source through the vadose zone and aquifer, sorption and degradation attenuate concentrations, and mixing with cleaner groundwater further dilutes them before they reach a receptor. EPA’s Soil Screening Guidance (SSG) frames this reduction explicitly and uses DAF to translate source terms to groundwater impacts. \n",
    "\n",
    "### Role in fate and transport and risk assessment\n",
    "\n",
    "In regulatory screening, DAF is the bridge between source concentrations (e.g., soil porewater, leachate) and point-of-exposure concentrations at a well. It is used to derive soil screening levels protective of groundwater or to back-calculate allowable leachate concentrations at a landfill boundary. Historically, EPA generated DAFs by applying the EPACMTP/EPACML family of groundwater transport models over ensembles of hydrogeologic settings; the resulting factors embody mixing, dispersion, and (depending on configuration) simplified attenuation behaviors. \n",
    "\n",
    "- [Determination of Groundwater Dilution Attenuation Factors for Fixed Waste Site Areas Using EPACMTP, EPA Office of\n",
    "Solid Waste, 1994](https://semspub.epa.gov/work/HQ/175217.pdf)\n",
    "- [Guidance for the Determination of the Dilution-Attenuation Factor for the\n",
    "Impact to Ground Water Pathway (New Jersey DEP circa 2004 - the predecessor of next link below)](https://rucore.libraries.rutgers.edu/rutgers-lib/27975/PDF/1/play/)\n",
    "\n",
    "The SSG also provides a site-specific path: calculate a dilution factor from aquifer properties—hydraulic conductivity, gradient, aquifer thickness—and source/well geometry, then pair it with attenuation considerations. For generic screening where site data are sparse, EPA commonly references a default DAF of 20 to represent dilution/attenuation in the saturated zone between a source and a receptor well. Several state and federal materials cite typical DAFs on the order of 10–20 for screening; programs may be more or less conservative by policy. Always verify your applicable guidance. \n",
    "\n",
    "- [DEVELOPMENT OF A DILUTION-ATTENUATION FACTOR FOR THE IMPACT TO\n",
    "GROUND WATER PATHWAY New Jersey Department of Environmental Protection\n",
    "Trenton, New Jersey. 2013](https://www.nj.gov/dep/srp/guidance/rs/daf.pdf)\n",
    "\n",
    "A recent technical critique reminds us that DAF is, in principle, the product of dilution (DF) and attenuation (AF)— $DAF = DF \\times AF$. Many screening implementations emphasize groundwater dilution and treat attenuation processes implicitly or conservatively. For chemicals with strong sorption, transformation, or multiphase behavior, this distinction can materially affect protectiveness and uncertainty. \n",
    "\n",
    "- [Brusseau, Mark L, and Bo Guo. “Revising the EPA Dilution-Attenuation Soil Screening Model for PFAS.” Journal of hazardous materials letters vol. 4 (2023): 100077. doi:10.1016/j.hazl.2023.100077](https://www.sciencedirect.com/science/article/pii/S2666911023000035?via%3Dihub)\n",
    "\n",
    "### Practical use in remediation design\n",
    "\n",
    "DAF is valuable early in design for order-of-magnitude estimates:\n",
    "\n",
    "Screening cleanup goals: Given a drinking-water criterion at the well (e.g., MCL), a defensible DAF helps estimate a source-term performance target (soil or leachate concentrations) to meet that criterion at the point of exposure. [Soil Screening Guidance: User's Guide (EPA/540/R-96/018)](https://www.epa.gov/superfund/superfund-soil-screening-guidance) *link is to landing page only*\n",
    "\n",
    "Sensitivity checks: Varying K, gradient, aquifer thickness, well spacing, and source area reveals how fragile (or robust) protectiveness is to hydrogeologic uncertainty. \n",
    "\n",
    "But DAF is not a remedy and is not a substitute for site-specific mass flux, heterogeneity, or preferential pathway analysis. When moving beyond screening to final design, couple DAF-style reasoning with site models (transient transport, sorption/retardation that varies with chemistry, degradation kinetics, and source depletion). Where regulations permit, calibrate against monitoring data and update DAF-like ratios with observed plume behavior.\n",
    "\n",
    "### Common pitfalls and good practice\n",
    "\n",
    "- Using generic DAFs outside their domain. A default DAF (e.g., 20) is intended for screening and specific receptor/source configurations; it may not be conservative for thin aquifers, short well setbacks, or fractured media. \n",
    "- Confusing mixing length scales. DAF depends strongly on the control volume (screen length, well radius, capture zone). Document geometry and justify choices. \n",
    "- Ignoring chemical-specific attenuation. For redox-sensitive, degradable, or strongly sorbing compounds, the AF term can dominate. A dilution-only DAF can over- or under-predict risks. \n",
    "- Regulatory mismatch. Programs differ: some RSL/SSG workflows hold DAF fixed for generic tables, others require DAF=1 (no dilution) for conservative screening, and still others allow site-specific EPACMTP-based DAFs. Cite the applicable guidance in your submittal. \n",
    "\n",
    "DAF is a policy-informed engineering shortcut: it compresses complex fate-and-transport into a single factor that enables transparent screening and communication across stakeholders. Use it to scope problems, to prioritize remedies, and to set provisional targets—then test those targets with site-specific modeling and monitoring. When you report a DAF, state the assumptions (hydrogeology, geometry, chemical properties), show the sensitivity, and anchor it to the applicable guidance. That’s how you keep screening-level tools rigorous enough for graduate-level practice and defensible in regulatory review. \n",
    "\n",
    "- [Abranovic, D., Johnson, P.C., Charbeneau, R.J. and Hemstreet, T.J. (2001), A Graphical Approach for Determining Dilution-Attenuation Factors: Basic Theory and Approach for Submerged Sources. Groundwater Monitoring & Remediation, 21: 115-124. https://doi.org/10.1111/j.1745-6592.2001.tb00636.x](https://ngwa.onlinelibrary.wiley.com/doi/epdf/10.1111/j.1745-6592.2001.tb00636.x)"
   ]
  },
  {
   "cell_type": "markdown",
   "metadata": {},
   "source": [
    "## Response\n",
    "\n",
    "- Health effects\n",
    "- Economic effects\n",
    "- Legal effects"
   ]
  },
  {
   "cell_type": "markdown",
   "metadata": {},
   "source": [
    "## References\n",
    "\n"
   ]
  },
  {
   "cell_type": "code",
   "execution_count": null,
   "metadata": {},
   "outputs": [],
   "source": []
  },
  {
   "cell_type": "markdown",
   "metadata": {},
   "source": [
    "# Risk Assessment\n",
    "\n",
    "Risk = (Likliehood of outcome) $\\times$ (Consequence)\n",
    "\n",
    "If we observe or predict a concentration at a point in an aquifer how bad is it? Do we have to clean it up to **zero**?\n",
    "\n",
    "Usually cannot afford to! So we assess risk to establish a technologically achievable target.\n",
    "\n",
    "The concept of a technology-based target is incorporated into the [Clean Air Act](https://www.epa.gov/clean-air-act-overview/setting-emissions-standards-based-technology-performance) and under the Clean Wasser Act, under Sections 301, 302, 304, and 306, the EPA issues [technology-based effluent guidelines](https://www.ecfr.gov/current/title-40/chapter-I/subchapter-D/part-125) that establish discharge standards based on treatment technologies that are available and economically achievable. Each EPA Region issues permits that meet or exceed the guidelines and standards.\n",
    "\n",
    "A similar concept applies in groundwater contaminantion and restoration.  All these concept rely on risk as the arbiter of target values.\n",
    "\n",
    ":::{note}\n",
    "Here is an interesting review of [risks of technology-based standards](https://scholarship.law.duke.edu/cgi/viewcontent.cgi?referer=&httpsredir=1&article=1096&context=delpf); its written from a litigation lawyer point of view - but nonetheless interesting!  A similar law article is [The Triumph of Technology-Based Standards](https://heinonline.org/HOL/Page?handle=hein.journals/unilllr2000&div=11&g_sent=1&casa_token=&collection=journals)\n",
    ":::\n",
    "\n"
   ]
  },
  {
   "cell_type": "markdown",
   "metadata": {},
   "source": [
    "![](hazard2risk.png)"
   ]
  },
  {
   "cell_type": "markdown",
   "metadata": {},
   "source": [
    "## Hazard ID\n",
    "\n",
    "- Sample collection & analytical data\n",
    " - presence/absence; locations\n",
    " - non-detects: how are these included in statistics?<br> < DL, or <PQL, or 1/2 DL, or zero? <br> A whole science of censored data is needed to be considered."
   ]
  },
  {
   "cell_type": "markdown",
   "metadata": {},
   "source": [
    "## Exposure Assessment\n",
    "- Pathways: inhale, ingest, absorb (through skin)\n",
    "- Medium: Air, water, soil\n",
    "- Receptor: Worker, resident, adult (70kg), child (16kg), infant (3kg)\n",
    "- Exposure:  \n",
    "\n",
    "$EXP\\frac{mg}{kg \\cdot d} = IF(\\frac{amount of medium}{d})\\times C(\\frac{mg}{medium}) \\times EDF \\times CF$ <br>  IF == intake factor; EDF == exposure duration factor; CF == conversion factor <br> concentrations are compared to MCLs if available <br> derived from animal or human exposure\n",
    "\n",
    "[Asante-Duah, K. (1993) Hazardous Waste Risk Assessment](http://54.243.252.9/ce-5364-webroot/3-Readings/HazardousWasteRiskAssessmentbyAsante-Duah.pdf)\n",
    "\n",
    "![](intakedose.png)"
   ]
  },
  {
   "cell_type": "markdown",
   "metadata": {},
   "source": [
    "General AT guidelines:\n",
    "\n",
    "Carcinogen: AT == Lifetime (70 $\\times$ 365 days)<br>\n",
    "Non-Carcinogen: AT == Approximate exposure time\n",
    "\n",
    "Long-term: \n",
    "- CDI == chronic daily intake over 70 years<br>\n",
    "- C == reasonably maximum exposure (time)\n",
    "\n",
    "Short-term:\n",
    "- SDI == subchronic daily intake\n",
    "\n",
    "LADD == lifetime average daily dose (cancer) <br>\n",
    "ADD ==  average daily dose (non-cancer)<br>\n",
    "MDD = maximum daily dose (short-term acute)<br>\n",
    "            "
   ]
  },
  {
   "cell_type": "markdown",
   "metadata": {},
   "source": [
    "## Toxicity Assessment\n",
    "\n",
    "Type of adverse effects.  Relates exposure magnitude to amount of effect.\n",
    "\n",
    "An example:\n",
    "\n",
    "Total body exposure of 100 roentgens/rad or 1 Gray unit (Gy) causes radiation sickness. Total body exposure of 400 roentgens/rad (or 4 Gy) causes radiation sickness and death in half of the individuals who are exposed.\n",
    "\n",
    ":::{note}\n",
    "There is a missing component above - 4 Gy kills 1/2 exposed in some prescribed time interval (I recall its 30 days).  This whole concept of LD50 implicitly includes some response time window.  \n",
    ":::\n",
    "\n",
    "[Radiation health effects](https://www.epa.gov/radiation/radiation-health-effects) are phenomenally well studied and much toxicity understanding is directly sourced from radition behavoir.  \n",
    "\n",
    "**Data Sources**\n",
    "- [US EPA IRIS](https://www.epa.gov/iris) \n",
    "Has browsable database for example part of [Agent Orange](https://iris.epa.gov/ChemicalLanding/&substance_nmbr=150)\n",
    "- Scientific literature\n",
    "- Health literature [VA Agent Orange](https://www.publichealth.va.gov/exposures/agentorange/#:~:text=Agent%20Orange%20was%20a%20tactical,herbicides%20during%20the%20Vietnam%20War.)\n",
    "- Conspiracy literature (probably less reliable) [YouTube Agent Orange](https://www.youtube.com/watch?v=BHcd-srsSBY)\n",
    "\n",
    "\n",
    "All based to some extent on:\n",
    "- Case clusters\n",
    "- [Theoretical toxicology](https://www.ncbi.nlm.nih.gov/pmc/articles/PMC5837539/)\n",
    "- Short-term laboratory studies\n",
    "- [Long-term animal model studies](https://www.sciencedirect.com/science/article/pii/S2452302X1930316X)\n",
    "- [Human (epidemiological) studies](https://www.ncbi.nlm.nih.gov/books/NBK219116/)\n",
    "- [Unethical human experiments](https://en.wikipedia.org/wiki/Unethical_human_experimentation) ![](wasteOfFood.png) Although wrong, should we use the data? "
   ]
  },
  {
   "cell_type": "markdown",
   "metadata": {},
   "source": [
    "## References\n",
    "\n",
    "1. [Asante-Duah, K. (1993) Hazardous Waste Risk Assessment](http://54.243.252.9/ce-5364-webroot/3-Readings/HazardousWasteRiskAssessmentbyAsante-Duah.pdf)\n",
    "2. [Hazard Ranking System Guidance Manual](http://54.243.252.9/ce-5364-webroot/3-Readings/HRSmanual.pdf)\n",
    "3. [EPA Risk Communication Seminar (1990)](http://54.243.252.9/ce-5364-webroot/3-Readings/EPARiskCommunicationSeminar.pdf)"
   ]
  },
  {
   "cell_type": "code",
   "execution_count": null,
   "metadata": {},
   "outputs": [],
   "source": []
  },
  {
   "cell_type": "code",
   "execution_count": null,
   "metadata": {},
   "outputs": [],
   "source": []
  }
 ],
 "metadata": {
  "kernelspec": {
   "display_name": "Python 3 (ipykernel)",
   "language": "python",
   "name": "python3"
  },
  "language_info": {
   "codemirror_mode": {
    "name": "ipython",
    "version": 3
   },
   "file_extension": ".py",
   "mimetype": "text/x-python",
   "name": "python",
   "nbconvert_exporter": "python",
   "pygments_lexer": "ipython3",
   "version": "3.10.12"
  }
 },
 "nbformat": 4,
 "nbformat_minor": 4
}