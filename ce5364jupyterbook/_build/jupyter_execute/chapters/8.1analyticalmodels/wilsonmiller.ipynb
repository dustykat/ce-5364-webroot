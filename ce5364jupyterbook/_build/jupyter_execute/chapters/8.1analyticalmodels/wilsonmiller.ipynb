{
 "cells": [
  {
   "cell_type": "markdown",
   "metadata": {},
   "source": [
    "# 2D Plume in Regional Flow with 1st-Order Decay (Wilson and Miller Solution)\n",
    "\n",
    "The sketch depicts a vertical line source in an aquifer of infinite extent located at (x,y)=(0,0) some time after constant injection has begun. \n",
    "\n",
    "![](huntsetup.png)\n",
    "\n",
    "For the line source (injection well) whose fluid contribution makes negligible impact on the local hydraulics as depicted in the sketch the initial, boundary, and mass conservation conditions are:\n",
    "\n",
    "$$C(x,y,0)=0$$\n",
    "$$C(\\pm \\infty,\\pm \\infty,t)=0$$\n",
    "$$\\int_{- \\infty}^{\\infty}\\int_{-\\infty}^{\\infty}C(x,y,t)dxdy = C_0 Q t$$\n",
    "\n",
    "A solution obtained by time-convolution of an elementary line source solution with 1st order decay term is (Wilson and Miller, 1978) is \n",
    "\n",
    "$$C(x,y,t) = \\frac{C_0 Q}{4 \\pi n L}\\frac{1}{\\sqrt{D_x D_y}}exp(\\frac{x v}{2 D_x})W(u,\\frac{r}{B})$$\n",
    "\n",
    "where $W(u,\\frac{r}{B})$ is the leaky aquifer (Hantush) well function with\n",
    "\n",
    "$$B=\\frac{2D_x}{v}$$\n",
    "\n",
    "$$d=1+\\frac{2B\\lambda}{v}$$\n",
    "\n",
    "$$r= {\\sqrt{(x^2+y^2\\frac{D_x}{D_y})d}}$$\n",
    "\n",
    "$$u=\\frac{r^2}{4 d D_x t}$$\n",
    "\n",
    "\n",
    "\n"
   ]
  },
  {
   "cell_type": "markdown",
   "metadata": {},
   "source": [
    "The solution is presented in (Bear and Cheng, 2010) as \n",
    "\n",
    "![](wilsonmiller2.png)\n",
    "![](wilsonmiller1.png)\n",
    "a convolution integral (eqn. 10.6.38, p. 634) (the end user needs to supply the integration routine); Hunt (1978) noticed that the integral was the leaky well function with appropriate substitutions and completed the solution."
   ]
  },
  {
   "cell_type": "markdown",
   "metadata": {},
   "source": []
  },
  {
   "cell_type": "markdown",
   "metadata": {},
   "source": [
    "The leaky aquifer function can be evaluated numerically using a recursive definition, or efficient approximations can be used. Listings for these approximations appear below after the references\n"
   ]
  },
  {
   "cell_type": "markdown",
   "metadata": {},
   "source": [
    "The solution is applicable for porous media flow, where the velocity (below) is the mean section velocity (seepage velocity divided by the porosity). The solution can also be used with streams and pipes (porosity = 1). Negative values of distance in x-axis would correspond to locations upgradient of the injection location.\n",
    "\n",
    "Scripts to generate solutions are listed below:\n",
    "\n",
    "## Leaky Well Function"
   ]
  },
  {
   "cell_type": "code",
   "execution_count": 1,
   "metadata": {},
   "outputs": [],
   "source": [
    "def wh(u, rho): # Hantush Leaky aquifer well function\n",
    "    import numpy\n",
    "    \"\"\"Returns Hantush's well function values\n",
    "\n",
    "    Note: works only for scalar values of u and rho\n",
    "\n",
    "    Parameters:\n",
    "    -----------\n",
    "    u : scalar  (u= r^2 * S / (4 * kD * t))\n",
    "    rho : sclaar (rho =r / lambda, lambda = sqrt(kD * c))\n",
    "    Returns:\n",
    "    --------\n",
    "    Wh(u, rho) : Hantush well function value for (u, rho)\n",
    "    \"\"\"\n",
    "    try:\n",
    "        u =float(u)\n",
    "        rho =float(rho)\n",
    "    except:\n",
    "        print(\"u and rho must be scalars.\")\n",
    "        raise ValueError()\n",
    "\n",
    "    LOGINF = 2\n",
    "    y = numpy.logspace(numpy.log10(u), LOGINF, 1000)\n",
    "    ym = 0.5 * (y[:-1]+  y[1:])\n",
    "    dy = numpy.diff(y)\n",
    "    wh = numpy.sum(numpy.exp(-ym - (rho / 2)**2 / ym ) * dy / ym)\n",
    "    return(wh)"
   ]
  },
  {
   "cell_type": "markdown",
   "metadata": {},
   "source": [
    "## Wilson and Miller Solution (Prototype Function)"
   ]
  },
  {
   "cell_type": "code",
   "execution_count": 2,
   "metadata": {},
   "outputs": [],
   "source": [
    "def willsonmiller(c_injection,q_injection,l_thickness,d_x,d_y,decay,velocity,x_location,y_location,time):\n",
    "    import math\n",
    "    B   = 2*d_x/velocity\n",
    "    d   = 1+2*B*decay/velocity\n",
    "    rsq = (x_location**2 + (y_location**2)*(d_x/d_y))*d\n",
    "    r   = math.sqrt(rsq)\n",
    "    u   = rsq/(4.0*d*d_x*time)\n",
    "#    print(rsq,rrr,aaa,bbb)\n",
    "    term1 = c_injection*q_injection/(4.0*math.pi*l_thickness)\n",
    "    term2 = 1.0/(math.sqrt(d_x*d_y))\n",
    "    term3 = math.exp((x_location*velocity)/(2.0*d_x))\n",
    "    term4 = wh(u,r/B)\n",
    "\n",
    "    #if term4 <= 0.0: term4 = 0.0\n",
    "#    print(term1,term2,term3,term4)\n",
    "    willsonmiller = term1*term2*term3*term4\n",
    "    return willsonmiller"
   ]
  },
  {
   "cell_type": "markdown",
   "metadata": {},
   "source": [
    "## Driver Script"
   ]
  },
  {
   "cell_type": "code",
   "execution_count": 3,
   "metadata": {},
   "outputs": [
    {
     "name": "stdout",
     "output_type": "stream",
     "text": [
      "Concentration at x =  123  y=  0  t=  36500  =  11.394\n"
     ]
    }
   ],
   "source": [
    "# inputs\n",
    "c_injection = 133\n",
    "q_injection = 3.66\n",
    "l_thickness = 1.75\n",
    "d_x = 0.920\n",
    "d_y = 0.092\n",
    "decay = 0.0024 # added 1st order decay\n",
    "velocity = 0.187\n",
    "x_location = 123\n",
    "y_location = 0\n",
    "time = 36500\n",
    "scale = c_injection*q_injection\n",
    "output = willsonmiller(c_injection,q_injection,l_thickness,d_x,d_y,decay,velocity,x_location,y_location,time)\n",
    "print(\"Concentration at x = \",round(x_location,2),\" y= \",round(y_location,2) ,\" t= \",round(time,2) ,\" = \",round(output,3))\n",
    "#"
   ]
  },
  {
   "cell_type": "markdown",
   "metadata": {},
   "source": [
    "## Plotting Script"
   ]
  },
  {
   "cell_type": "code",
   "execution_count": 4,
   "metadata": {},
   "outputs": [
    {
     "data": {
      "image/png": "[encoded data removed]",
      "text/plain": [
       "<Figure size 720x360 with 1 Axes>"
      ]
     },
     "metadata": {
      "filenames": {
       "image/png": "/home/sensei/ce-5364-webroot/ce5364jupyterbook/_build/jupyter_execute/chapters/8.1analyticalmodels/wilsonmiller_11_0.png"
      },
      "needs_background": "light"
     },
     "output_type": "display_data"
    }
   ],
   "source": [
    "# make a plot\n",
    "x_max = 200\n",
    "y_max = 100\n",
    "# build a grid\n",
    "nrows = 50   \n",
    "deltax = (x_max*4)/nrows\n",
    "x = []\n",
    "x.append(-x_max)\n",
    "for i in range(nrows):\n",
    "    if x[i] == 0.0:\n",
    "        x[i] = 0.00001\n",
    "    x.append(x[i]+deltax)\n",
    "\n",
    "ncols = 50   \n",
    "deltay = (y_max*2)/(ncols-1)\n",
    "y = []\n",
    "y.append(-y_max)\n",
    "for i in range(1,ncols):\n",
    "    if y[i-1] == 0.0:\n",
    "        y[i-1] = 0.00001\n",
    "    y.append(y[i-1]+deltay)\n",
    "    \n",
    "#y\n",
    "\n",
    "#y = [i*deltay for i in range(how_many_points)] # constructor notation\n",
    "#y[0]=0.001\n",
    "ccc = [[0 for i in range(nrows)] for j in range(ncols)]\n",
    "\n",
    "for jcol in range(ncols):\n",
    "    for irow in range(nrows):\n",
    "        ccc[irow][jcol] = willsonmiller(c_injection,q_injection,l_thickness,d_x,d_y,decay,velocity,x[irow],y[jcol],time)\n",
    "        \n",
    "#y\n",
    "\n",
    "my_xyz = [] # empty list\n",
    "count=0\n",
    "for irow in range(nrows):\n",
    "    for jcol in range(ncols):\n",
    "        my_xyz.append([ x[irow],y[jcol],ccc[irow][jcol] ])\n",
    "       # print(count)\n",
    "        count=count+1\n",
    "        \n",
    "#print(len(my_xyz))\n",
    "\n",
    "import pandas\n",
    "my_xyz = pandas.DataFrame(my_xyz) # convert into a data frame\n",
    "import numpy \n",
    "import matplotlib.pyplot\n",
    "from scipy.interpolate import griddata\n",
    "# extract lists from the dataframe\n",
    "coord_x = my_xyz[0].values.tolist() # column 0 of dataframe\n",
    "coord_y = my_xyz[1].values.tolist() # column 1 of dataframe\n",
    "coord_z = my_xyz[2].values.tolist() # column 2 of dataframe\n",
    "#print(min(coord_x), max(coord_x)) # activate to examine the dataframe\n",
    "#print(min(coord_y), max(coord_y))\n",
    "coord_xy = numpy.column_stack((coord_x, coord_y))\n",
    "# Set plotting range in original data units\n",
    "lon = numpy.linspace(min(coord_x), max(coord_x), 64)\n",
    "lat = numpy.linspace(min(coord_y), max(coord_y), 64)\n",
    "X, Y = numpy.meshgrid(lon, lat)\n",
    "# Grid the data; use linear interpolation (choices are nearest, linear, cubic)\n",
    "Z = griddata(numpy.array(coord_xy), numpy.array(coord_z), (X, Y), method='cubic')\n",
    "# Build the map\n",
    "fig, ax = matplotlib.pyplot.subplots()\n",
    "fig.set_size_inches(10, 5)\n",
    "CS = ax.contour(X, Y, Z, levels = [1,5,10,15,20,25,30,35,40,45,50])\n",
    "ax.clabel(CS, inline=2, fontsize=16)\n",
    "ax.set_title('Concentration Map at Elapsed Time '+ str(round(time,1))+' days');\n"
   ]
  },
  {
   "cell_type": "markdown",
   "metadata": {},
   "source": [
    "## Spreadsheet Model\n",
    "\n",
    "A spreadsheet implementation is available at [http://54.243.252.9/ce-5364-webroot/6-Spreadsheets/WilsonMillerModel.xlsm](http://54.243.252.9/ce-5364-webroot/6-Spreadsheets/WilsonMillerModel.xlsm)  \n",
    "\n",
    ":::{note}\n",
    "This model requires Analysis Tool Pack Add-In and the VBA Macro Enabled.\n",
    "::::"
   ]
  },
  {
   "cell_type": "markdown",
   "metadata": {},
   "source": [
    "<!--\n",
    "from scipy import *\n",
    "from scipy import special\n",
    "from scipy.special import kn as BesselK\n",
    "#from scipy.special import expn as ExpInt\n",
    "from math import sqrt as sqrt\n",
    "from math import cosh as cosh\n",
    "from math import log as ln # in python: log(x)=Ln(x)\n",
    "import numpy\n",
    "\n",
    "def ExpInt(n,u):\n",
    "\n",
    "    # n wordt niet gebruikt\n",
    "\n",
    "    # Fast approximation for Wu according to equation 7a and 7b from Srivastava(1998)\n",
    "    gamma = 0.5772 # Euler-Macheroni constant\n",
    "\n",
    "    # Wu for u<1\n",
    "    u0  = numpy.where(u<1.0,u,1) # u=1 is just a dummy to make ln() work on all values\n",
    "    Wu0 = numpy.lib.scimath.log(numpy.exp(-gamma)/u0) + 0.9653*u - 0.1690*u0**2\n",
    "\n",
    "    #Wu for u>=1\n",
    "    u1 = numpy.where(u>=1.0,u,1) # u=1 is just a dummy to make ln() work on all values\n",
    "    Wu1 = 1/(u1*numpy.exp(u1))*(u1+0.3575)/(u1+1.280)\n",
    "\n",
    "    # combine Wu0 and Wu1\n",
    "    Wu = numpy.where(u<1.0,Wu0,Wu1)\n",
    "    return Wu\n",
    "\n",
    "def func_F(rho,tau):\n",
    "# func_F is a fast approximation of Hantush well function W\n",
    "\n",
    "    # Calculate parameter w\n",
    "    w = (ExpInt(1,rho)-BesselK(0,rho))/(ExpInt(1,rho)-ExpInt(1,rho/2))\n",
    "\n",
    "    # Calculate F(rho,tau)\n",
    "    if tau <= 0:\n",
    "        F = w*ExpInt(1,rho/2*e**(-tau))-(w-1)*ExpInt(1,rho*cosh(tau))\n",
    "    else:\n",
    "        F = 2*BesselK(0,rho) - w*ExpInt(1,rho/2*e**tau) + (w-1)*ExpInt(1,rho*cosh(tau))\n",
    "\n",
    "    # return calculated value of F(rho,tau)\n",
    "    return F\n",
    "-->"
   ]
  },
  {
   "cell_type": "markdown",
   "metadata": {},
   "source": [
    "## References\n",
    "\n",
    "1. [Wilson, J.L. and Miller, P.J. (1978) Two-dimensional plumes in uniform groundwater flow. J. Hyd. Div., ASCE, 104:503–514, 1978.](https://ascelibrary.org/doi/10.1061/JYCEAJ.0004975)\n",
    "3. [Yuan, D, (1995)  *Accurate approximations for one-, two-, and three-dimensional groundwater mass transport from an exponentially decaying contaminant source.* MS Thesis, Department of Civil and Environmental Engineering, University of Houston. ](http://54.243.252.9/about-me-webroot/about-me/MyWebPapers/thesis/yuan_thesis/Groundwater_transport.pdf)\n",
    "4. [Chuang, Lu-Chia, (1998) *A guidance system for choosing analytical contaminant transport models.* Doctoral Dissertation, Department of Civil and Environmental Engineering, University of Houston, Houston, Texas. 222p.](http://54.243.252.9/about-me-webroot/about-me/MyWebPapers/thesis/ants_dissertation/Luke_Chuang.pdf)\n",
    "5. [Analytical solutions for one-, two-, and three-dimensional solute transport in ground-water systems with uniform flow\n",
    "Open-File Report 89-56](https://pubs.usgs.gov/publication/ofr8956)\n",
    "6. [Analytical solutions for one-, two-, and three-dimensional solute transport in ground-water systems with uniform flow\n",
    "Techniques of Water-Resources Investigations 03-B7 (supercedes above reference)](https://pubs.usgs.gov/publication/twri03B7)"
   ]
  }
 ],
 "metadata": {
  "kernelspec": {
   "display_name": "Python 3",
   "language": "python",
   "name": "python3"
  },
  "language_info": {
   "codemirror_mode": {
    "name": "ipython",
    "version": 3
   },
   "file_extension": ".py",
   "mimetype": "text/x-python",
   "name": "python",
   "nbconvert_exporter": "python",
   "pygments_lexer": "ipython3",
   "version": "3.8.10"
  }
 },
 "nbformat": 4,
 "nbformat_minor": 4
}