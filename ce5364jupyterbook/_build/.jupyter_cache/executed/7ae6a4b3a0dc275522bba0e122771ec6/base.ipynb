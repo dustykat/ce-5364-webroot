{
 "cells": [
  {
   "cell_type": "code",
   "execution_count": 1,
   "metadata": {},
   "outputs": [],
   "source": [
    "def c3dad(conc0, distx, disty, distz, lenX, lenY, lenZ, dispx, dispy, dispz, velocity, etime):\n",
    "    import math\n",
    "    from scipy.special import erf, erfc # scipy needs to already be loaded into the kernel\n",
    "    # Constant of integration\n",
    "    term1 = conc0 / 8.0\n",
    "\n",
    "    # Centerline axis solution\n",
    "    arg1 = (distx - velocity*etime) / (2*math.sqrt(dispx*velocity*etime)) #dispx is dispersivity\n",
    "    term2 = erfc(arg1)\n",
    "\n",
    "    # Off-axis solution, Y direction\n",
    "#    arg2 = 2.0 * math.sqrt(dispy*distx / velocity)\n",
    "    arg2 = 2.0 * math.sqrt(dispy*distx) #dispy is dispersivity\n",
    "    arg3 = disty + 0.5*lenY\n",
    "    arg4 = disty - 0.5*lenY\n",
    "    term3 = erf(arg3 / arg2) - erf(arg4 / arg2)\n",
    "\n",
    "    # Off-axis solution, Z direction\n",
    "#    arg5 = 2.0 * math.sqrt(dispz*distx / velocity)\n",
    "    arg5 = 2.0 * math.sqrt(dispz*distx) #dispz is dispersivity\n",
    "    arg6 = distz + 0.5*lenZ\n",
    "    arg7 = distz - 0.5*lenZ\n",
    "    term4 = erf(arg6 / arg5) - erf(arg7 / arg5)\n",
    "\n",
    "    # Convolve the solutions\n",
    "    c3dad = term1 * term2 * term3 * term4\n",
    "    return c3dad"
   ]
  }
 ],
 "metadata": {
  "kernelspec": {
   "display_name": "Python 3",
   "language": "python",
   "name": "python3"
  },
  "language_info": {
   "codemirror_mode": {
    "name": "ipython",
    "version": 3
   },
   "file_extension": ".py",
   "mimetype": "text/x-python",
   "name": "python",
   "nbconvert_exporter": "python",
   "pygments_lexer": "ipython3",
   "version": "3.10.12"
  }
 },
 "nbformat": 4,
 "nbformat_minor": 4
}