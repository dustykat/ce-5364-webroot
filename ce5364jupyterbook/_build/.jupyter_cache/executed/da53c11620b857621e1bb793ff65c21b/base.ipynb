{
 "cells": [
  {
   "cell_type": "code",
   "execution_count": 1,
   "id": "b9577100-6c50-446a-bff6-71d4f1d2a9c5",
   "metadata": {},
   "outputs": [
    {
     "name": "stdout",
     "output_type": "stream",
     "text": [
      "This is pdfTeX, Version 3.141592653-2.6-1.40.22 (TeX Live 2022/dev/Debian) (preloaded format=pdflatex)\r\n",
      " restricted \\write18 enabled.\r\n"
     ]
    },
    {
     "name": "stdout",
     "output_type": "stream",
     "text": [
      "entering extended mode\r\n",
      "(./ce5364-es3-2025-3.tex\r\n",
      "LaTeX2e <2021-11-15> patch level 1\r\n",
      "L3 programming layer <2022-01-21>\r\n",
      "(/usr/share/texlive/texmf-dist/tex/latex/base/article.cls\r\n",
      "Document Class: article 2021/10/04 v1.4n Standard LaTeX document class\r\n",
      "(/usr/share/texlive/texmf-dist/tex/latex/base/size12.clo))\r\n",
      "(/usr/share/texlive/texmf-dist/tex/latex/geometry/geometry.sty\r\n",
      "(/usr/share/texlive/texmf-dist/tex/latex/graphics/keyval.sty)\r\n",
      "(/usr/share/texlive/texmf-dist/tex/generic/iftex/ifvtex.sty\r\n",
      "(/usr/share/texlive/texmf-dist/tex/generic/iftex/iftex.sty)))\r\n",
      "(/usr/share/texlive/texmf-dist/tex/latex/parskip/parskip.sty\r\n",
      "(/usr/share/texlive/texmf-dist/tex/latex/kvoptions/kvoptions.sty\r\n",
      "(/usr/share/texlive/texmf-dist/tex/generic/ltxcmds/ltxcmds.sty)\r\n",
      "(/usr/share/texlive/texmf-dist/tex/generic/kvsetkeys/kvsetkeys.sty))\r\n",
      "(/usr/share/texlive/texmf-dist/tex/latex/etoolbox/etoolbox.sty"
     ]
    },
    {
     "name": "stdout",
     "output_type": "stream",
     "text": [
      ")) (./daves.sty\r\n",
      "Dave's standard definitions: Last modified Friday, July 7, 1995.\r\n",
      ".....dbt changed footnote indentation\r\n",
      ".....dbt changed labels to arabic\r\n",
      ".....dbt included milestone charts\r\n",
      ") (/usr/share/texlive/texmf-dist/tex/latex/fancyhdr/fancyhdr.sty)\r\n",
      "(/usr/share/texlive/texmf-dist/tex/latex/natbib/natbib.sty)\r\n",
      "(/usr/share/texlive/texmf-dist/tex/latex/graphics/graphicx.sty\r\n",
      "(/usr/share/texlive/texmf-dist/tex/latex/graphics/graphics.sty\r\n",
      "(/usr/share/texlive/texmf-dist/tex/latex/graphics/trig.sty)\r\n",
      "(/usr/share/texlive/texmf-dist/tex/latex/graphics-cfg/graphics.cfg)\r\n",
      "(/usr/share/texlive/texmf-dist/tex/latex/graphics-def/pdftex.def)))\r\n",
      "(/usr/share/texlive/texmf-dist/tex/latex/tools/dcolumn.sty\r\n",
      "(/usr/share/texlive/texmf-dist/tex/latex/tools/array.sty))\r\n",
      "(/usr/share/texlive/texmf-dist/tex/latex/amsmath/amsmath.sty\r\n",
      "For additional information on amsmath, use the `?' option.\r\n",
      "(/usr/share/texlive/texmf-dist/tex/latex/amsmath/amstext.sty\r\n",
      "(/usr/share/texlive/texmf-dist/tex/latex/amsmath/amsgen.sty))\r\n",
      "(/usr/share/texlive/texmf-dist/tex/latex/amsmath/amsbsy.sty)\r\n",
      "(/usr/share/texlive/texmf-dist/tex/latex/amsmath/amsopn.sty))\r\n",
      "(/usr/share/texlive/texmf-dist/tex/latex/lastpage/lastpage.sty)\r\n",
      "(/usr/share/texlive/texmf-dist/tex/latex/url/url.sty)"
     ]
    },
    {
     "name": "stdout",
     "output_type": "stream",
     "text": [
      "\r\n",
      "(/usr/share/texlive/texmf-dist/tex/latex/amsfonts/amssymb.sty\r\n",
      "(/usr/share/texlive/texmf-dist/tex/latex/amsfonts/amsfonts.sty))\r\n",
      "(/usr/share/texlive/texmf-dist/tex/latex/epstopdf-pkg/epstopdf.sty\r\n",
      "(/usr/share/texlive/texmf-dist/tex/generic/infwarerr/infwarerr.sty)\r\n",
      "(/usr/share/texlive/texmf-dist/tex/latex/grfext/grfext.sty\r\n",
      "(/usr/share/texlive/texmf-dist/tex/generic/kvdefinekeys/kvdefinekeys.sty))\r\n",
      "(/usr/share/texlive/texmf-dist/tex/generic/pdftexcmds/pdftexcmds.sty)\r\n",
      "(/usr/share/texlive/texmf-dist/tex/latex/epstopdf-pkg/epstopdf-base.sty\r\n",
      "(/usr/share/texlive/texmf-dist/tex/latex/latexconfig/epstopdf-sys.cfg)))\r\n",
      "(/usr/share/texlive/texmf-dist/tex/latex/tools/longtable.sty)\r\n",
      "(/usr/share/texlive/texmf-dist/tex/latex/pdfpages/pdfpages.sty\r\n",
      "(/usr/share/texlive/texmf-dist/tex/latex/base/ifthen.sty)\r\n",
      "(/usr/share/texlive/texmf-dist/tex/latex/tools/calc.sty)\r\n",
      "(/usr/share/texlive/texmf-dist/tex/latex/eso-pic/eso-pic.sty\r\n",
      "(/usr/share/texlive/texmf-dist/tex/latex/xcolor/xcolor.sty\r\n",
      "(/usr/share/texlive/texmf-dist/tex/latex/graphics-cfg/color.cfg)))\r\n",
      "(/usr/share/texlive/texmf-dist/tex/latex/pdfpages/pppdftex.def)"
     ]
    },
    {
     "name": "stdout",
     "output_type": "stream",
     "text": [
      ")\r\n",
      "(/usr/share/texlive/texmf-dist/tex/latex/l3backend/l3backend-pdftex.def)\r\n",
      "(./ce5364-es3-2025-3.aux)\r\n",
      "*geometry* driver: auto-detecting\r\n",
      "*geometry* detected driver: pdftex\r\n",
      "(/usr/share/texlive/texmf-dist/tex/context/base/mkii/supp-pdf.mkii\r\n",
      "[Loading MPS to PDF converter (version 2006.09.02).]\r\n",
      ") (/usr/share/texlive/texmf-dist/tex/latex/pdflscape/pdflscape.sty\r\n",
      "(/usr/share/texlive/texmf-dist/tex/latex/graphics/lscape.sty))\r\n",
      "\r\n",
      "LaTeX Warning: `!h' float specifier changed to `!ht'.\r\n",
      "\r\n",
      "\r\n",
      "LaTeX Warning: `!h' float specifier changed to `!ht'.\r\n",
      "\r\n",
      "\r\n",
      "Package fancyhdr Warning: \\headheight is too small (12.0pt): \r\n",
      "(fancyhdr)                Make it at least 14.49998pt, for example:\r\n",
      "(fancyhdr)                \\setlength{\\headheight}{14.49998pt}.\r\n",
      "(fancyhdr)                You might also make \\topmargin smaller to compensate:\r\n",
      "\r\n",
      "(fancyhdr)                \\addtolength{\\topmargin}{-2.49998pt}.\r\n",
      "\r\n",
      "[1{/var/lib/texmf/fonts/map/pdftex/updmap/pdftex.map"
     ]
    },
    {
     "name": "stdout",
     "output_type": "stream",
     "text": [
      "}]\r\n",
      "\r\n",
      "Package fancyhdr Warning: \\headheight is too small (12.0pt): \r\n",
      "(fancyhdr)                Make it at least 14.49998pt, for example:\r\n",
      "(fancyhdr)                \\setlength{\\headheight}{14.49998pt}.\r\n",
      "(fancyhdr)                You might also make \\topmargin smaller to compensate:\r\n",
      "\r\n",
      "(fancyhdr)                \\addtolength{\\topmargin}{-2.49998pt}.\r\n",
      "\r\n",
      "[2 <./site_map_homework1.png"
     ]
    },
    {
     "name": "stdout",
     "output_type": "stream",
     "text": [
      ">]\r\n",
      "\r\n",
      "Package fancyhdr Warning: \\headheight is too small (12.0pt): \r\n",
      "(fancyhdr)                Make it at least 14.49998pt, for example:\r\n",
      "(fancyhdr)                \\setlength{\\headheight}{14.49998pt}.\r\n",
      "(fancyhdr)                You might also make \\topmargin smaller to compensate:\r\n",
      "\r\n",
      "(fancyhdr)                \\addtolength{\\topmargin}{-2.49998pt}.\r\n",
      "\r\n",
      "[3 <./site_map_homework2.png"
     ]
    },
    {
     "name": "stdout",
     "output_type": "stream",
     "text": [
      ">]\r\n",
      "(/usr/share/texlive/texmf-dist/tex/latex/amsfonts/umsa.fd)\r\n",
      "(/usr/share/texlive/texmf-dist/tex/latex/amsfonts/umsb.fd)\r\n",
      "\r\n",
      "Package fancyhdr Warning: \\headheight is too small (12.0pt): \r\n",
      "(fancyhdr)                Make it at least 14.49998pt, for example:\r\n",
      "(fancyhdr)                \\setlength{\\headheight}{14.49998pt}.\r\n",
      "(fancyhdr)                You might also make \\topmargin smaller to compensate:\r\n",
      "\r\n",
      "(fancyhdr)                \\addtolength{\\topmargin}{-2.49998pt}.\r\n",
      "\r\n",
      "[4 <./drillinglogs.png>] \r\n",
      "AED: lastpage setting LastPage\r\n",
      "\r\n",
      "Package fancyhdr Warning: \\headheight is too small (12.0pt): \r\n",
      "(fancyhdr)                Make it at least 14.49998pt, for example:\r\n"
     ]
    },
    {
     "name": "stdout",
     "output_type": "stream",
     "text": [
      "(fancyhdr)                \\setlength{\\headheight}{14.49998pt}.\r\n",
      "(fancyhdr)                You might also make \\topmargin smaller to compensate:\r\n",
      "\r\n",
      "(fancyhdr)                \\addtolength{\\topmargin}{-2.49998pt}.\r\n",
      "\r\n",
      "[5] (./ce5364-es3-2025-3.aux) )</usr/share/texlive/texmf-dist/fonts/type1/publi\r\n",
      "c/amsfonts/cm/cmbx10.pfb></usr/share/texlive/texmf-dist/fonts/type1/public/amsf\r\n",
      "onts/cm/cmbx12.pfb></usr/share/texlive/texmf-dist/fonts/type1/public/amsfonts/c\r\n",
      "m/cmr12.pfb></usr/share/texlive/texmf-dist/fonts/type1/public/amsfonts/cm/cmsl1\r\n",
      "2.pfb>\r\n",
      "Output written on ce5364-es3-2025-3.pdf (5 pages, 278469 bytes).\r\n",
      "Transcript written on ce5364-es3-2025-3.log.\r\n"
     ]
    }
   ],
   "source": [
    "! pdflatex ce5364-es3-2025-3.tex"
   ]
  },
  {
   "cell_type": "code",
   "execution_count": 2,
   "id": "735be09b-a14b-4ce0-8c76-87b8dcac22ee",
   "metadata": {},
   "outputs": [
    {
     "name": "stdout",
     "output_type": "stream",
     "text": [
      "/home/webroot/ce-5364-webroot/ce5364jupyterbook/chapters/03site.characterization/exercise\r\n"
     ]
    }
   ],
   "source": [
    "! pwd\n"
   ]
  },
  {
   "cell_type": "code",
   "execution_count": null,
   "id": "a1c39aed-60f5-46c3-b728-7011fc4ce8bc",
   "metadata": {},
   "outputs": [],
   "source": []
  }
 ],
 "metadata": {
  "kernelspec": {
   "display_name": "Python Common Environment",
   "language": "python",
   "name": "python-my-env"
  },
  "language_info": {
   "codemirror_mode": {
    "name": "ipython",
    "version": 3
   },
   "file_extension": ".py",
   "mimetype": "text/x-python",
   "name": "python",
   "nbconvert_exporter": "python",
   "pygments_lexer": "ipython3",
   "version": "3.10.12"
  }
 },
 "nbformat": 4,
 "nbformat_minor": 5
}