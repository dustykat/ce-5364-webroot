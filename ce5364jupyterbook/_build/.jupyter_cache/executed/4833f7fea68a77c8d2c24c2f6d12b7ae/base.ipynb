{
 "cells": [
  {
   "cell_type": "code",
   "execution_count": 1,
   "metadata": {},
   "outputs": [
    {
     "name": "stdout",
     "output_type": "stream",
     "text": [
      "CInh for Child 1-6 y.o. 7.232e-06\n",
      "CInh for Adolt  6.3663e-05\n",
      "CR for Child  4.4116e-05\n",
      "CR for Adolt  0.000388342\n"
     ]
    }
   ],
   "source": [
    "# Enter your solution below, or attach separate sheet(s) with your solution.\n",
    "# Given\n",
    "CA=5.4e-04 # mg/m^3\n",
    "SF=6.10 #(mg/kgd)^-1\n",
    "# use formula for CInh from readings\n",
    "\n",
    "def CInh(CA,IR,RR,ABSs,ET,EF,ED,BW,AT):\n",
    "    CInh = (CA*IR*RR*ABSs*ET*EF*ED)/(BW*AT*365)\n",
    "    return(CInh)\n",
    "\n",
    "# populate values Child 1-6\n",
    "IR= 0.25 #m^3/hr\n",
    "RR=100/100 #x/100% \n",
    "ABSs=100/100 #x/100%\n",
    "ET= 12 #hr/d\n",
    "EF= 365 #d/yr\n",
    "ED= 5 #yr\n",
    "BW= 16 #kg, child\n",
    "AT= 70 #yr\n",
    "\n",
    "childCInh=CInh(CA,IR,RR,ABSs,ET,EF,ED,BW,AT)\n",
    "print(\"CInh for Child 1-6 y.o.\",round(childCInh,9))\n",
    "\n",
    "# populate values Adult 19-70y.o.\n",
    "CA=5.4e-04 # mg/m^3\n",
    "IR= 0.83 #m^3/hr\n",
    "RR=100/100 #x/100% \n",
    "ABSs=100/100 #x/100%\n",
    "ET= 12 #hr/d\n",
    "EF= 365 #d/yr\n",
    "ED= 58 #yr\n",
    "BW= 70 #kg, adolt\n",
    "AT= 70 #yr\n",
    "\n",
    "adoltCInh=CInh(CA,IR,RR,ABSs,ET,EF,ED,BW,AT)\n",
    "print(\"CInh for Adolt \",round(adoltCInh,9))\n",
    "\n",
    "# use formula for CR from readings\n",
    "\n",
    "def CR(SF,Cinh):\n",
    "    CR=SF*Cinh\n",
    "    return(CR)\n",
    "\n",
    "childCR=CR(SF,childCInh)\n",
    "adoltCR=CR(SF,adoltCInh)\n",
    "print(\"CR for Child \",round(childCR,9))\n",
    "print(\"CR for Adolt \",round(adoltCR,9))"
   ]
  },
  {
   "cell_type": "code",
   "execution_count": 2,
   "metadata": {},
   "outputs": [
    {
     "name": "stdout",
     "output_type": "stream",
     "text": [
      "NCEDX child 0.000231\n",
      "NCEDX adolt 3.4e-05\n",
      "HQ child 0.334\n",
      "HQ adult 0.05\n"
     ]
    }
   ],
   "source": [
    "# Enter your solution below, or attach separate sheet(s) with your solution.\n",
    "# given\n",
    "RfD = 6.9e-04 #mg/kgd\n",
    "CS = 260 #mg/kg in soil\n",
    "\n",
    "# use formula for NCDEX from readings\n",
    "def NCDEX(CS,CF,SA,AF,ABSs,SM,EF,ED,BW,AT,AvT):\n",
    "    NCDEX = (CS*CF*SA*AF*AT*ABSs*SM*EF*ED)/(BW*AvT*365)\n",
    "    return(NCDEX)\n",
    "\n",
    "# Look up inputs\n",
    "CF = 1e-06 #kg/mg\n",
    "SA = 6980 #cm^2/d\n",
    "AT = 20/100 #%-child\n",
    "AF = 0.75 #mg/cm^2\n",
    "ABSs = 10/100 #%-child\n",
    "SM = 0.15\n",
    "EF = 330 #d/yr\n",
    "ED = 5 #yr child\n",
    "BW = 16 #kg child\n",
    "AvT = 5 #yr child\n",
    "\n",
    "childNCDEX= NCDEX(CS,CF,SA,AF,ABSs,SM,EF,ED,BW,AT,AvT)\n",
    "print(\"NCEDX child\",round(childNCDEX,6))\n",
    "\n",
    "# repeat fro adult\n",
    "\n",
    "SA = 18150 #cm^2/d\n",
    "AT = 10/100 #%-adult\n",
    "ABSs = 5/100 #%-adult\n",
    "ED = 58 #yr DULT\n",
    "BW = 70 #kg adult\n",
    "AvT = 58 #yr adult\n",
    "\n",
    "adultNCDEX= NCDEX(CS,CF,SA,AF,ABSs,SM,EF,ED,BW,AT,AvT)\n",
    "print(\"NCEDX adolt\",round(adultNCDEX,6))\n",
    "\n",
    "# use hazard quotiet formula\n",
    "\n",
    "def HQ(E,RfD):\n",
    "    HQ = E/RfD\n",
    "    return(HQ)\n",
    "\n",
    "childHQ = HQ(childNCDEX,RfD)\n",
    "adultHQ = HQ(adultNCDEX,RfD)\n",
    "\n",
    "print(\"HQ child\",round(childHQ,3))\n",
    "print(\"HQ adult\",round(adultHQ,3))\n"
   ]
  },
  {
   "cell_type": "code",
   "execution_count": 3,
   "metadata": {},
   "outputs": [
    {
     "name": "stdout",
     "output_type": "stream",
     "text": [
      "NCing child 0.012414\n",
      "NCing adolt 0.010286\n",
      "HQ child 0.124\n",
      "HQ adult 0.103\n"
     ]
    }
   ],
   "source": [
    "# Enter your solution below, or attach separate sheet(s) with your solution.\n",
    "# given\n",
    "CW = 0.36 #mg/L\n",
    "RfD = 0.10 #mg/kgd\n",
    "IRc = 1 #L/d\n",
    "IRa = 2 #L/d\n",
    "\n",
    "# use formula for NCing from readings\n",
    "def NCing(CW,IR,FI,ABSs,EF,ED,BW,AT):\n",
    "    NCing=(CW*IR*FI*ABSs*EF*ED)/(BW*AT*365)\n",
    "    return(NCing)\n",
    "\n",
    "# populate input values\n",
    "FI = 100/100 #x/100 %\n",
    "ABSs = 100/100 #x/100 %\n",
    "EF = 365 #d/yr\n",
    "EDc = 6 #yr\n",
    "EDa = 58 #yr\n",
    "BWc = 29 #kg\n",
    "BWa = 70 #kg\n",
    "ATc = 6 #yr\n",
    "ATa = 58 #yr\n",
    "\n",
    "childNCing=NCing(CW,IRc,FI,ABSs,EF,EDc,BWc,ATc)\n",
    "adultNCing=NCing(CW,IRa,FI,ABSs,EF,EDa,BWa,ATa)\n",
    "childHQ = HQ(childNCing,RfD)\n",
    "adultHQ = HQ(adultNCing,RfD)\n",
    "\n",
    "print(\"NCing child\",round(childNCing,6))\n",
    "print(\"NCing adolt\",round(adultNCing,6))\n",
    "print(\"HQ child\",round(childHQ,3))\n",
    "print(\"HQ adult\",round(adultHQ,3))"
   ]
  },
  {
   "cell_type": "code",
   "execution_count": 4,
   "metadata": {},
   "outputs": [
    {
     "name": "stdout",
     "output_type": "stream",
     "text": [
      "The LOAEL for the rats = 10.500 mg/(kgd)\n"
     ]
    }
   ],
   "source": [
    "# Enter your solution below, or attach separate sheet(s) with your solution.\n",
    "\n",
    "#1.The LOAEL for the rats based on this study:\n",
    "CW=140 # mg/l\n",
    "IR=0.030 # L/d\n",
    "FI=1\n",
    "ABSs=1\n",
    "EF=365 # d/yr\n",
    "ED= 1 # yr\n",
    "BW=0.4 # kg\n",
    "AT= 1 # yr\n",
    "NCIng_Rat=(CW*IR*FI*ABSs*EF*ED)/(BW*AT*365)\n",
    "print(\"The LOAEL for the rats = %0.3f mg/(kgd)\" %NCIng_Rat) "
   ]
  },
  {
   "cell_type": "code",
   "execution_count": 5,
   "metadata": {},
   "outputs": [
    {
     "name": "stdout",
     "output_type": "stream",
     "text": [
      " RfD for humans by adjusting for uncertainty = 0.0010500 mg/(kgd)\n"
     ]
    }
   ],
   "source": [
    "#2.The RfD for humans by adjusting for uncertainty:\n",
    "UF=10**(4) # UF=10H*10A*10S*10L=10^4\n",
    "MF=1\n",
    "RfD=NCIng_Rat/(UF*MF)\n",
    "print(\" RfD for humans by adjusting for uncertainty = %0.7f mg/(kgd)\" %RfD)"
   ]
  },
  {
   "cell_type": "code",
   "execution_count": 6,
   "metadata": {},
   "outputs": [
    {
     "name": "stdout",
     "output_type": "stream",
     "text": [
      " RfD to an acceptable drinking water concentration = 0.0367500 mg/l\n"
     ]
    }
   ],
   "source": [
    "#3.Converting the RfD to an acceptable drinking water concentration:\n",
    "BW=70 # kg\n",
    "IR=2 # L/d\n",
    "DWEL=(RfD*BW)/IR\n",
    "print(\" RfD to an acceptable drinking water concentration = %0.7f mg/l\" %DWEL)"
   ]
  },
  {
   "cell_type": "code",
   "execution_count": null,
   "metadata": {},
   "outputs": [],
   "source": []
  }
 ],
 "metadata": {
  "kernelspec": {
   "display_name": "Python 3",
   "language": "python",
   "name": "python3"
  },
  "language_info": {
   "codemirror_mode": {
    "name": "ipython",
    "version": 3
   },
   "file_extension": ".py",
   "mimetype": "text/x-python",
   "name": "python",
   "nbconvert_exporter": "python",
   "pygments_lexer": "ipython3",
   "version": "3.10.12"
  }
 },
 "nbformat": 4,
 "nbformat_minor": 4
}