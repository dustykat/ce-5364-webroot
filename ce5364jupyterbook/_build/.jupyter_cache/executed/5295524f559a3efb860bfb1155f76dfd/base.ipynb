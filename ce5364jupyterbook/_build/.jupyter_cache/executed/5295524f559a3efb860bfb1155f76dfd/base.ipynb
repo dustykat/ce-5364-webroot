{
 "cells": [
  {
   "cell_type": "code",
   "execution_count": 1,
   "metadata": {},
   "outputs": [],
   "source": [
    "# Enter your solution below, or attach separate sheet(s) with your solution."
   ]
  },
  {
   "cell_type": "code",
   "execution_count": 2,
   "metadata": {},
   "outputs": [
    {
     "name": "stdout",
     "output_type": "stream",
     "text": [
      "Impacted Zone Volume :  6376.2  cubic meters \n"
     ]
    }
   ],
   "source": [
    "iZV = 100*150*15\n",
    "impacted_zone_volume = iZV/(3.28**3) # convert to cubic meters\n",
    "print(\"Impacted Zone Volume : \",round(impacted_zone_volume,1),\" cubic meters \")"
   ]
  },
  {
   "cell_type": "code",
   "execution_count": 3,
   "metadata": {},
   "outputs": [
    {
     "name": "stdout",
     "output_type": "stream",
     "text": [
      "Mass Soil Impacted :  12752372.3  kilograms \n",
      "Mass TPH in soil :  127523.72  kilograms \n",
      "Initial TPH Volume :  84150.0  gallons \n"
     ]
    }
   ],
   "source": [
    "tph = 10000 # mg/Kg\n",
    "rho_soil = 2.0*1000 #Kg/m^3\n",
    "rho_tph = 0.8*1000 #Kg/m^3\n",
    "mass_soil_impacted = rho_soil*impacted_zone_volume\n",
    "mass_tph = tph*mass_soil_impacted*(1/1000)*(1/1000) # convert to kilograms\n",
    "loss_fraction = 0.50 # HC losses\n",
    "volume_soil_tph = mass_tph/rho_tph\n",
    "volume_release_tph = volume_soil_tph/loss_fraction\n",
    "volume_release_tph = volume_release_tph*(3.28**3)*7.48 # convert m^3 to gallons\n",
    "print(\"Mass Soil Impacted : \",round(mass_soil_impacted,1),\" kilograms \")\n",
    "print(\"Mass TPH in soil : \",round(mass_tph,2),\" kilograms \")\n",
    "print(\"Initial TPH Volume : \",round(volume_release_tph,1),\" gallons \")"
   ]
  },
  {
   "cell_type": "code",
   "execution_count": 4,
   "metadata": {},
   "outputs": [
    {
     "name": "stdout",
     "output_type": "stream",
     "text": [
      "Impacted Zone Pore Volume :  2231.7  cubic meters \n",
      "TPH saturation in soil :  0.07   \n"
     ]
    }
   ],
   "source": [
    "porosity = 0.35\n",
    "pore_volume = porosity*impacted_zone_volume\n",
    "saturation_tph = volume_soil_tph/pore_volume\n",
    "print(\"Impacted Zone Pore Volume : \",round(pore_volume,1),\" cubic meters \")\n",
    "print(\"TPH saturation in soil : \",round(saturation_tph,2),\"  \")"
   ]
  },
  {
   "cell_type": "code",
   "execution_count": 5,
   "metadata": {},
   "outputs": [],
   "source": [
    "# Enter your solution below, or attach separate sheet(s) with your solution."
   ]
  },
  {
   "cell_type": "code",
   "execution_count": 6,
   "metadata": {},
   "outputs": [
    {
     "name": "stdout",
     "output_type": "stream",
     "text": [
      "DNAPL free phase volume :  350.0  cubic feet\n",
      "DNAPL unsaturated zone volume :  15.0  cubic feet\n",
      "DNAPL saturated zone volume :  157.5  cubic feet\n",
      "DNAPL total volume :  522.5  cubic feet\n"
     ]
    }
   ],
   "source": [
    "dnapl_pool_vol = 0.5*0.7*200*5 # cubic feet; porosity*saturation*volume\n",
    "pore_volume_unsat = 0.30*100*5 # cubic feet\n",
    "pore_volume_sat = 0.30*100*15 # cubic feet\n",
    "dnapl_unsat = 0.10*pore_volume_unsat\n",
    "dnapl_sat = 0.35*pore_volume_sat\n",
    "total_dnapl = dnapl_pool_vol+dnapl_unsat+dnapl_sat\n",
    "print(\"DNAPL free phase volume : \",round(dnapl_pool_vol,1),\" cubic feet\")\n",
    "print(\"DNAPL unsaturated zone volume : \",round(dnapl_unsat,1),\" cubic feet\")\n",
    "print(\"DNAPL saturated zone volume : \",round(dnapl_sat,1),\" cubic feet\")\n",
    "print(\"DNAPL total volume : \",round(total_dnapl,1),\" cubic feet\")"
   ]
  },
  {
   "cell_type": "code",
   "execution_count": 7,
   "metadata": {},
   "outputs": [
    {
     "name": "stdout",
     "output_type": "stream",
     "text": [
      "DNAPL recoverable volume :  227.5  cubic feet\n"
     ]
    }
   ],
   "source": [
    "pore_volume_clay = dnapl_pool_vol\n",
    "unrecoverable = pore_volume_clay*0.35\n",
    "recoverable = pore_volume_clay - unrecoverable\n",
    "print(\"DNAPL recoverable volume : \",round(recoverable,1),\" cubic feet\")"
   ]
  },
  {
   "cell_type": "code",
   "execution_count": 8,
   "metadata": {},
   "outputs": [],
   "source": [
    "# Enter your solution below, or attach separate sheet(s) with your solution."
   ]
  },
  {
   "cell_type": "code",
   "execution_count": 9,
   "metadata": {},
   "outputs": [
    {
     "name": "stdout",
     "output_type": "stream",
     "text": [
      " NAPL formation thickness :  1.5  feet \n"
     ]
    }
   ],
   "source": [
    "head_well = 6.0 # feets\n",
    "rho_napl = 0.8*62.4 # lbf/ft^3\n",
    "rho_water    = 1.00*62.4 # lbf/ft^3\n",
    "head_formation = head_well*(rho_water-rho_napl)/rho_napl\n",
    "print(\" NAPL formation thickness : \",round(head_formation,1),\" feet \")"
   ]
  },
  {
   "cell_type": "code",
   "execution_count": null,
   "metadata": {},
   "outputs": [],
   "source": []
  }
 ],
 "metadata": {
  "kernelspec": {
   "display_name": "Python 3",
   "language": "python",
   "name": "python3"
  },
  "language_info": {
   "codemirror_mode": {
    "name": "ipython",
    "version": 3
   },
   "file_extension": ".py",
   "mimetype": "text/x-python",
   "name": "python",
   "nbconvert_exporter": "python",
   "pygments_lexer": "ipython3",
   "version": "3.10.12"
  }
 },
 "nbformat": 4,
 "nbformat_minor": 4
}