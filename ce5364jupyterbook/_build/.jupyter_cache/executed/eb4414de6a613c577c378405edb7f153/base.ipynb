{
 "cells": [
  {
   "cell_type": "code",
   "execution_count": 1,
   "metadata": {},
   "outputs": [],
   "source": [
    "%reset -f"
   ]
  },
  {
   "cell_type": "code",
   "execution_count": 2,
   "metadata": {},
   "outputs": [],
   "source": [
    "import warnings\n",
    "warnings.filterwarnings('ignore',category=DeprecationWarning)"
   ]
  },
  {
   "cell_type": "code",
   "execution_count": 3,
   "metadata": {},
   "outputs": [],
   "source": [
    "import os\n",
    "import pathlib as pl\n",
    "from pprint import pformat\n",
    "import flopy\n",
    "import git\n",
    "import matplotlib.pyplot as plt\n",
    "from matplotlib.colors import ListedColormap\n",
    "import numpy as np\n",
    "from flopy.plot.styles import styles\n",
    "from modflow_devtools.misc import get_env, timed\n",
    "import warnings\n",
    "warnings.filterwarnings('ignore',category=DeprecationWarning)"
   ]
  },
  {
   "cell_type": "code",
   "execution_count": 4,
   "metadata": {},
   "outputs": [],
   "source": [
    "# Read control file\n",
    "filename = \"pr2-input-base.txt\"\n",
    "# Read the file\n",
    "afile = open(filename,\"r\")  # connect and read file for base input\n",
    "lines = []\n",
    "for line in afile:\n",
    "    lines.append(line.rstrip('\\n'))\n",
    "afile.close()\n",
    "# Assign Properties\n",
    "length_units= lines[0]\n",
    "time_units= lines[1]\n",
    "nlay = int(lines[2])  # Number of layers\n",
    "nrow = int(lines[3])  # Number of rows\n",
    "ncol = int(lines[4])  # Number of columns\n",
    "delr = float(lines[5])  # Column width ($m$)\n",
    "delc = float(lines[6])  # Row width ($m$)\n",
    "delz = float(lines[7])  # Layer thickness ($m$)\n",
    "top  = float(lines[8])  # Top of the model ($m$)\n",
    "\n",
    "#\n",
    "\n",
    "# more above"
   ]
  },
  {
   "cell_type": "code",
   "execution_count": 5,
   "metadata": {},
   "outputs": [],
   "source": [
    "# Read hydraulic conductivity array\n",
    "filename = \"pr2-input-hydcond.txt\"\n",
    "hk = []\n",
    "# Read the file\n",
    "afile = open(filename,\"r\")  # connect and read file for base input\n",
    "for ilay in range(nlay):\n",
    "    for line in afile:\n",
    "        hk.append([float(n) for n in line.strip().split(',')])\n",
    "afile.close()\n",
    "# convert into numpy array\n",
    "hk = np.array(hk)"
   ]
  },
  {
   "cell_type": "code",
   "execution_count": 6,
   "metadata": {},
   "outputs": [],
   "source": [
    "# Read boundary array\n",
    "filename = \"pr2-input-ibound.txt\"\n",
    "ibound = []\n",
    "# Read the file\n",
    "afile = open(filename,\"r\")  # connect and read file for base input\n",
    "for ilay in range(nlay):\n",
    "    for line in afile:\n",
    "        ibound.append([int(n) for n in line.strip().split(',')])\n",
    "afile.close()\n",
    "# convert into numpy array\n",
    "ibound = np.array(ibound)"
   ]
  },
  {
   "cell_type": "code",
   "execution_count": 7,
   "metadata": {},
   "outputs": [],
   "source": [
    "# Read idomain array\n",
    "filename = \"pr2-input-idomain.txt\"\n",
    "idomain = []\n",
    "# Read the file\n",
    "afile = open(filename,\"r\")  # connect and read file for base input\n",
    "for ilay in range(nlay):\n",
    "    for line in afile:\n",
    "        idomain.append([int(n) for n in line.strip().split(',')])\n",
    "afile.close()\n",
    "# convert into numpy array\n",
    "idomain = np.array(idomain)"
   ]
  },
  {
   "cell_type": "code",
   "execution_count": 8,
   "metadata": {},
   "outputs": [],
   "source": [
    "# Read storativity array\n",
    "filename = \"pr2-input-storage.txt\"\n",
    "ss_array = []\n",
    "# Read the file\n",
    "afile = open(filename,\"r\")  # connect and read file for base input\n",
    "for ilay in range(nlay):\n",
    "    for line in afile:\n",
    "        ss_array.append([float(n) for n in line.strip().split(',')])\n",
    "afile.close()\n",
    "# convert into numpy array\n",
    "ss_array = np.array(ss_array)"
   ]
  },
  {
   "cell_type": "code",
   "execution_count": 9,
   "metadata": {},
   "outputs": [],
   "source": [
    "# Read porosity array\n",
    "filename = \"pr2-input-porosity.txt\"\n",
    "pors_array = []\n",
    "# Read the file\n",
    "afile = open(filename,\"r\")  # connect and read file for base input\n",
    "for ilay in range(nlay):\n",
    "    for line in afile:\n",
    "        pors_array.append([float(n) for n in line.strip().split(',')])\n",
    "afile.close()\n",
    "# convert into numpy array\n",
    "pors_array = np.array(pors_array)"
   ]
  },
  {
   "cell_type": "code",
   "execution_count": 10,
   "metadata": {},
   "outputs": [],
   "source": [
    "# Read longitudinal dispersivity array\n",
    "filename = \"pr2-input-disperl.txt\"\n",
    "displ_array = []\n",
    "# Read the file\n",
    "afile = open(filename,\"r\")  # connect and read file for base input\n",
    "for ilay in range(nlay):\n",
    "    for line in afile:\n",
    "        displ_array.append([float(n) for n in line.strip().split(',')])\n",
    "afile.close()\n",
    "# convert into numpy array\n",
    "displ_array = np.array(displ_array)"
   ]
  },
  {
   "cell_type": "code",
   "execution_count": 11,
   "metadata": {},
   "outputs": [],
   "source": [
    "# Read dispersivity in y-direction array\n",
    "filename = \"pr2-input-dispert.txt\"\n",
    "dispt_array = []\n",
    "# Read the file\n",
    "afile = open(filename,\"r\")  # connect and read file for base input\n",
    "for ilay in range(nlay):\n",
    "    for line in afile:\n",
    "        dispt_array.append([float(n) for n in line.strip().split(',')])\n",
    "afile.close()\n",
    "# convert into numpy array\n",
    "dispt_array = np.array(dispt_array)"
   ]
  },
  {
   "cell_type": "code",
   "execution_count": 12,
   "metadata": {},
   "outputs": [
    {
     "data": {
      "text/plain": [
       "array([[9999.99 , 9999.99 , 9999.99 , 9999.99 , 9999.99 , 9999.99 ,\n",
       "        9999.99 , 9999.99 , 9999.99 , 9999.99 ],\n",
       "       [9999.99 ,  600.   ,  600.   ,  600.   ,  600.   ,  600.   ,\n",
       "         600.   ,  600.   ,  600.   , 9999.99 ],\n",
       "       [9999.99 ,  598.627,  598.635,  598.651,  598.671,  598.685,\n",
       "         598.696,  598.698,  598.699, 9999.99 ],\n",
       "       [9999.99 ,  597.244,  597.263,  597.299,  597.347,  597.373,\n",
       "         597.4  ,  597.399,  597.398, 9999.99 ],\n",
       "       [9999.99 ,  595.844,  595.873,  595.935,  596.046,  596.058,\n",
       "         596.134,  596.1  ,  596.095, 9999.99 ],\n",
       "       [9999.99 ,  592.981,  593.023,  593.102,  593.21 ,  593.295,\n",
       "         593.388,  593.439,  593.477, 9999.99 ],\n",
       "       [9999.99 ,  588.644,  588.707,  588.823,  588.976,  589.14 ,\n",
       "         589.307,  589.46 ,  589.587, 9999.99 ],\n",
       "       [9999.99 ,  584.245,  584.338,  584.507,  584.73 ,  584.981,\n",
       "         585.242,  585.506,  585.823, 9999.99 ],\n",
       "       [9999.99 ,  579.753,  579.891,  580.139,  580.457,  580.812,\n",
       "         581.174,  581.498,  581.729, 9999.99 ],\n",
       "       [9999.99 ,  569.734,  570.035,  570.535,  571.135,  571.774,\n",
       "         572.459,  573.025,  573.375, 9999.99 ],\n",
       "       [9999.99 ,  554.028,  554.679,  555.666,  556.761,  557.828,\n",
       "         559.177,  560.211,  560.877, 9999.99 ],\n",
       "       [9999.99 ,  537.671,  538.985,  540.691,  542.414,  543.602,\n",
       "         546.211,  547.765,  549.045, 9999.99 ],\n",
       "       [9999.99 ,  520.   ,  522.9  ,  525.7  ,  528.6  ,  531.4  ,\n",
       "         534.3  ,  537.1  ,  540.   , 9999.99 ],\n",
       "       [9999.99 , 9999.99 , 9999.99 , 9999.99 , 9999.99 , 9999.99 ,\n",
       "        9999.99 , 9999.99 , 9999.99 , 9999.99 ]])"
      ]
     },
     "execution_count": 12,
     "metadata": {},
     "output_type": "execute_result"
    }
   ],
   "source": [
    "# Read initial heads array\n",
    "filename = \"pr2-input-headinit.txt\"\n",
    "strt = []\n",
    "# Read the file\n",
    "afile = open(filename,\"r\")  # connect and read file for base input\n",
    "for ilay in range(nlay):\n",
    "    for line in afile:\n",
    "        strt.append([float(n) for n in line.strip().split(',')])\n",
    "afile.close()\n",
    "# convert into numpy array\n",
    "strt = np.array(strt)\n",
    "\n",
    "strt"
   ]
  },
  {
   "cell_type": "code",
   "execution_count": 13,
   "metadata": {},
   "outputs": [
    {
     "data": {
      "text/plain": [
       "0.01548"
      ]
     },
     "execution_count": 13,
     "metadata": {},
     "output_type": "execute_result"
    }
   ],
   "source": [
    "0.01548"
   ]
  },
  {
   "cell_type": "code",
   "execution_count": 14,
   "metadata": {},
   "outputs": [],
   "source": [
    "# Wellfield Conditions\n",
    "# MF2K5 pumping/injection rates in length-time units\n",
    "# CFS pumping is negative\n",
    "qW1 = -16.0 \n",
    "qW2 =  -7.0\n",
    "qW3 =  -7.0\n",
    "# CFS injection is positive\n",
    "qI1 = 0.0 \n",
    "qI2 = 0.0\n",
    "qI3 = 30.0\n",
    "# Concentrations \n",
    "# PPM pumping (set pumpings to zero value)\n",
    "cW1 = 0.0\n",
    "cW2 = 0.0\n",
    "cW3 = 0.0\n",
    "# PPM injection\n",
    "cI1 = 00.0\n",
    "cI2 = 00.0\n",
    "cI3 = 1000.0\n",
    "#spd = {\n",
    " #   0: [[0, 3, 6, cwell1, 2], [0, 10, 6, cwell0, 2]],\n",
    "  #  1: [[0, 3, 6, cwell0, 2], [0, 10, 6, cwell0, 2]],\n",
    "#}  # Well info 4 MT3D\n",
    "# Build MF6 wellfield objects\n",
    "wellist_sp1 = []\n",
    "#                   (k,  i, j),   flow,  conc\n",
    "wellist_sp1.append([(0, 4, 4), qI1, cI1])  # Injection well\n",
    "wellist_sp1.append([(0, 4, 6), qI1, cI2])  # Injection well\n",
    "wellist_sp1.append([(0, 7, 8), qI1, cI3])  # Injection well #3  ACTIVE THIS SCENARIO\n",
    "wellist_sp1.append([(0, 11, 5), qW1, cW1])  # Pumping well\n",
    "wellist_sp1.append([(0, 11, 7), qW2, cW2])  # Pumping well\n",
    "wellist_sp1.append([(0, 11, 8), qW3, cW3])  # Pumping well\n",
    "#\n",
    "wellist_sp2 = []\n",
    "#                   (k,  i, j),   flow,  conc\n",
    "wellist_sp2.append([(0, 4, 4), qI1, cI1])  # Injection well\n",
    "wellist_sp2.append([(0, 4, 6), qI2, cI2])  # Injection well\n",
    "wellist_sp2.append([(0, 7, 8), qI3, cI3])  # Injection well  #3  ACTIVE THIS SCENARIO\n",
    "wellist_sp2.append([(0, 11, 5), qW1, cW1])  # Pumping well\n",
    "wellist_sp2.append([(0, 11, 7), qW2, cW2])  # Pumping well\n",
    "wellist_sp2.append([(0, 11, 8), qW3, cW3])  # Pumping well\n",
    "#\n",
    "spd_mf6 = {0: wellist_sp1, 1: wellist_sp2}"
   ]
  },
  {
   "cell_type": "code",
   "execution_count": 15,
   "metadata": {},
   "outputs": [],
   "source": [
    "# Model units\n",
    "#length_units = \"meters\"\n",
    "#time_units = \"seconds\"\n",
    "\n",
    "# Model parameters\n",
    "#nlay = 1  # Number of layers\n",
    "#nrow = 18  # Number of rows\n",
    "#ncol = 14  # Number of columns\n",
    "#delr = 100.0  # Column width ($m$)\n",
    "#delc = 100.0  # Row width ($m$)\n",
    "#delz = 10.0  # Layer thickness ($m$)\n",
    "#top = 0.0  # Top of the model ($m$)\n",
    "#prsity = 0.3  # Porosity - array reader above\n",
    "k1 = 1.474e-4  # Horiz. hyd. conductivity of medium grain material ($m/sec$)\n",
    "k2 = 1.474e-7  # Horiz. hyd. conductivity of fine grain material ($m/sec$)\n",
    "inj = 0.001  # Injection well rate ($m^3/sec$)\n",
    "ext = -0.0189  # Extraction well pumping rate ($m^3/sec$)\n",
    "al = 20.0  # Longitudinal dispersivity ($m$)\n",
    "trpt = 0.2  # Ratio of horiz. transverse to longitudinal dispersivity ($m$)\n",
    "perlen = 2.0  # Simulation time ($years$)\n",
    "\n",
    "# Additional model input\n",
    "#hk = k1 * np.ones((nlay, nrow, ncol), dtype=float)\n",
    "#hk[:, 5:8, 1:8] = k2\n",
    "laytyp = icelltype = 0\n",
    "\n",
    "# Active model domain\n",
    "#ibound = np.ones((nlay, nrow, ncol), dtype=int)\n",
    "#ibound[0, 0, :] = -1\n",
    "#ibound[0, -1, :] = -1\n",
    "#idomain = np.ones((nlay, nrow, ncol), dtype=int)\n",
    "icbund = 1\n",
    "\n",
    "# Boundary conditions\n",
    "\n",
    "# Transport related\n",
    "sconc = 0.0\n",
    "ath1 = al * trpt\n",
    "dmcoef = 0.0  # m^2/s\n",
    "# Time variables\n",
    "perlen = [365.0 * 86400, 365.0 * 86400]\n",
    "steady = [False, False]\n",
    "nper = len(perlen)\n",
    "nstp = [365, 365]\n",
    "tsmult = [1.0, 1.0]\n",
    "#\n",
    "sconc = 0.0\n",
    "c0 = 0.0\n",
    "botm = [top - delz]\n",
    "mixelm = -1\n",
    "\n",
    "# Solver settings\n",
    "nouter, ninner = 100, 300\n",
    "hclose, rclose, relax = 1e-6, 1e-6, 1.0\n",
    "percel = 1.0  # HMOC parameters\n",
    "itrack = 2\n",
    "wd = 0.5\n",
    "dceps = 1.0e-5\n",
    "nplane = 0\n",
    "npl = 0\n",
    "nph = 16\n",
    "npmin = 2\n",
    "npmax = 32\n",
    "dchmoc = 1.0e-3\n",
    "nlsink = nplane\n",
    "npsink = nph\n",
    "nadvfd = 1"
   ]
  },
  {
   "cell_type": "code",
   "execution_count": 16,
   "metadata": {},
   "outputs": [],
   "source": [
    "# Workspace and Executibles\n",
    "#binary = \"/home/sensei/ce-4363-webroot/ModflowExperimental/mf6-arm/mf6\"  # location on MY computer of the compiled modflow program\n",
    "#workarea = \"/home/sensei/ce-4363-webroot/ModflowExperimental/mf6-arm/mf6-pr2\" # location on MY computer to store files this example (directory must already exist)\n",
    "#workarea = workspace # location on MY computer to store files this example (directory must already exist)\n",
    "\n",
    "binary = \"/home/sensei/mfplayground/modflow-python/mf6.4.1_linux/bin/mf6\"  # location on AWS computer of the compiled modflow program\n",
    "workarea = \"/home/sensei/ce-5364-webroot/mfexperiments/mf6-pr2\" # location on MY computer to store files this example (directory must already exist)\n",
    "\n",
    "\n",
    "# Set Simulation Name(s)\n",
    "name = \"mf6-pr2\"\n",
    "gwfname = \"gwf-\" + name\n",
    "gwtname = \"gwt-\" + name\n",
    "\n",
    "##### FLOPY Build simulation framework ####\n",
    "sim = flopy.mf6.MFSimulation(\n",
    "    sim_name=\"sim-\" + name, exe_name=binary, version=\"mf6\", sim_ws=workarea\n",
    ")\n",
    "####### CREATED \"/home/sensei/ce-4363-webroot/ModflowExperimental/mf6-arm/mt3d_example9\""
   ]
  },
  {
   "cell_type": "code",
   "execution_count": 17,
   "metadata": {},
   "outputs": [],
   "source": [
    "####### Instantiating MODFLOW 6 time discretization ########\n",
    "tdis_rc = []\n",
    "for i in range(nper):\n",
    "    tdis_rc.append((perlen[i], nstp[i], tsmult[i]))\n",
    "flopy.mf6.ModflowTdis(sim, nper=nper, perioddata=tdis_rc, time_units=time_units);\n",
    "## delete \";\" in above line at end to show full output"
   ]
  },
  {
   "cell_type": "code",
   "execution_count": 18,
   "metadata": {},
   "outputs": [],
   "source": [
    "####### Instantiating MODFLOW 6 groundwater flow model ########\n",
    "# Set Model Name (using same base name as the simulation)\n",
    "model_nam_file = \"{}.nam\".format(gwfname)\n",
    "# create MODFLOW6 flow model framework\n",
    "gwf = flopy.mf6.ModflowGwf(sim, modelname=gwfname, save_flows=True, model_nam_file=model_nam_file);\n",
    "## delete \";\" in above line at end to show full output"
   ]
  },
  {
   "cell_type": "code",
   "execution_count": 19,
   "metadata": {},
   "outputs": [],
   "source": [
    "###### Instantiating MODFLOW 6 solver for flow model #######\n",
    "# Set Iterative Model Solution (choose solver parameters)\n",
    "# about IMS see: https://water.usgs.gov/nrp/gwsoftware/ModelMuse/Help/sms_sparse_matrix_solution_pac.htm\n",
    "# using defaults see: https://flopy.readthedocs.io/en/3.3.2/source/flopy.mf6.modflow.mfims.html\n",
    "imsgwf = flopy.mf6.ModflowIms(\n",
    "    sim,\n",
    "    print_option=\"SUMMARY\",\n",
    "    outer_dvclose=hclose,\n",
    "    outer_maximum=nouter,\n",
    "    under_relaxation=\"NONE\",\n",
    "    inner_maximum=ninner,\n",
    "    inner_dvclose=hclose,\n",
    "    rcloserecord=rclose,\n",
    "    linear_acceleration=\"CG\",\n",
    "    scaling_method=\"NONE\",\n",
    "    reordering_method=\"NONE\",\n",
    "    relaxation_factor=relax,\n",
    "    filename=f\"{gwfname}.ims\",\n",
    "    )\n",
    "sim.register_ims_package(imsgwf, [gwf.name]);\n",
    "## delete \";\" in above line at end to show full output"
   ]
  },
  {
   "cell_type": "code",
   "execution_count": 20,
   "metadata": {},
   "outputs": [],
   "source": [
    "###### Instantiating MODFLOW 6 discretization package ######\n",
    "flopy.mf6.ModflowGwfdis(\n",
    "    gwf,\n",
    "    length_units=length_units,\n",
    "    nlay=nlay,\n",
    "    nrow=nrow,\n",
    "    ncol=ncol,\n",
    "    delr=delr,\n",
    "    delc=delc,\n",
    "    top=top,\n",
    "    botm=botm,\n",
    "    idomain=idomain,\n",
    "    filename=f\"{gwfname}.dis\",\n",
    "    );\n",
    "## delete \";\" in above line at end to show full output"
   ]
  },
  {
   "cell_type": "code",
   "execution_count": 21,
   "metadata": {},
   "outputs": [],
   "source": [
    "# Build MF6 constant head boundaries:\n",
    "xc = gwf.modelgrid.xcellcenters\n",
    "chdspd = []\n",
    "# Loop through the top & bottom sides.\n",
    "for j in range(1,ncol-1):\n",
    "#for j in np.arange(ncol):\n",
    "#               l,  r, c,  head, conc\n",
    "    chdspd.append([(0, 1, j), 600.0, 0.0])  # Top boundary\n",
    "    hd = 520.0 + (xc[-1, j] - xc[-1, 1]) * 2.8572 / 1500\n",
    "    chdspd.append([(0, 12, j), round(hd,1), 0.0])  # Bottom boundary\n",
    "chdspd = {0: chdspd}"
   ]
  },
  {
   "cell_type": "code",
   "execution_count": 22,
   "metadata": {},
   "outputs": [],
   "source": [
    "###### Instantiating MODFLOW 6 initial conditions package for flow model #######\n",
    "flopy.mf6.ModflowGwfic(gwf, strt=strt, filename=f\"{gwfname}.ic\");\n",
    "## delete \";\" in above line at end to show full output"
   ]
  },
  {
   "cell_type": "code",
   "execution_count": 23,
   "metadata": {},
   "outputs": [],
   "source": [
    "# Instantiating MODFLOW 6 node-property flow package\n",
    "flopy.mf6.ModflowGwfnpf(\n",
    "    gwf,\n",
    "    save_flows=False,\n",
    "    icelltype=icelltype,\n",
    "    k=hk,\n",
    "    k33=hk,\n",
    "    save_specific_discharge=True,\n",
    "    filename=f\"{gwfname}.npf\",\n",
    "    );\n",
    "## delete \";\" in above line at end to show full output"
   ]
  },
  {
   "cell_type": "code",
   "execution_count": 24,
   "metadata": {},
   "outputs": [],
   "source": [
    "# Define the Storage package (sto) with the ss array\n",
    "#sto = flopy.mf6.ModflowGwfsto(gwf, ss=1.0e-05)\n",
    "sto = flopy.mf6.ModflowGwfsto(gwf, ss=ss_array);\n",
    "## delete \";\" in above line at end to show full output"
   ]
  },
  {
   "cell_type": "code",
   "execution_count": 25,
   "metadata": {},
   "outputs": [],
   "source": [
    "# Instantiating MODFLOW 6 constant head package\n",
    "\n",
    "flopy.mf6.ModflowGwfchd(\n",
    "    gwf,\n",
    "    maxbound=len(chdspd),\n",
    "    stress_period_data=chdspd,\n",
    "    save_flows=False,\n",
    "    auxiliary=\"CONCENTRATION\",\n",
    "    pname=\"CHD-1\",\n",
    "    filename=f\"{gwfname}.chd\",\n",
    "    );\n",
    "## delete \";\" in above line at end to show full output"
   ]
  },
  {
   "cell_type": "code",
   "execution_count": 26,
   "metadata": {},
   "outputs": [],
   "source": [
    "# Instantiate the wel package\n",
    "flopy.mf6.ModflowGwfwel(\n",
    "    gwf,\n",
    "    print_input=True,\n",
    "    print_flows=True,\n",
    "    stress_period_data=spd_mf6,\n",
    "    save_flows=False,\n",
    "    auxiliary=\"CONCENTRATION\",\n",
    "    pname=\"WEL-1\",\n",
    "    filename=f\"{gwfname}.wel\",\n",
    "    );\n",
    "## delete \";\" in above line at end to show full output"
   ]
  },
  {
   "cell_type": "code",
   "execution_count": 27,
   "metadata": {},
   "outputs": [],
   "source": [
    "# Instantiating MODFLOW 6 output control package for flow model\n",
    "flopy.mf6.ModflowGwfoc(\n",
    "    gwf,\n",
    "    head_filerecord=f\"{gwfname}.hds\",\n",
    "    budget_filerecord=f\"{gwfname}.bud\",\n",
    "    headprintrecord=[(\"COLUMNS\", 10, \"WIDTH\", 15, \"DIGITS\", 6, \"GENERAL\")],\n",
    "    saverecord=[(\"HEAD\", \"LAST\"), (\"BUDGET\", \"LAST\")],\n",
    "    printrecord=[(\"HEAD\", \"LAST\"), (\"BUDGET\", \"LAST\")],\n",
    "    );\n",
    "## delete \";\" in above line at end to show full output"
   ]
  },
  {
   "cell_type": "code",
   "execution_count": 28,
   "metadata": {},
   "outputs": [],
   "source": [
    "###### Instantiating MODFLOW 6 groundwater transport package ##########\n",
    "gwtname = \"gwt-\" + name\n",
    "gwt = flopy.mf6.MFModel(\n",
    "    sim,\n",
    "    model_type=\"gwt6\",\n",
    "    modelname=gwtname,\n",
    "    model_nam_file=f\"{gwtname}.nam\",\n",
    "    )#;\n",
    "## delete \";\" in above line at end to show full output\n",
    "gwt.name_file.save_flows = True"
   ]
  },
  {
   "cell_type": "code",
   "execution_count": 29,
   "metadata": {},
   "outputs": [],
   "source": [
    "# create iterative model solution and register the gwt model with it\n",
    "imsgwt = flopy.mf6.ModflowIms(\n",
    "    sim,\n",
    "    print_option=\"SUMMARY\",\n",
    "    outer_dvclose=hclose,\n",
    "    outer_maximum=nouter,\n",
    "    under_relaxation=\"NONE\",\n",
    "    inner_maximum=ninner,\n",
    "    inner_dvclose=hclose,\n",
    "    rcloserecord=rclose,\n",
    "    linear_acceleration=\"BICGSTAB\",\n",
    "    scaling_method=\"NONE\",\n",
    "    reordering_method=\"NONE\",\n",
    "    relaxation_factor=relax,\n",
    "    filename=f\"{gwtname}.ims\",\n",
    "    )\n",
    "sim.register_ims_package(imsgwt, [gwt.name]);\n",
    "## delete \";\" in above line at end to show full output"
   ]
  },
  {
   "cell_type": "code",
   "execution_count": 30,
   "metadata": {},
   "outputs": [],
   "source": [
    "###### Instantiating MODFLOW 6 transport discretization package #####\n",
    "flopy.mf6.ModflowGwtdis(\n",
    "    gwt,\n",
    "    nlay=nlay,\n",
    "    nrow=nrow,\n",
    "    ncol=ncol,\n",
    "    delr=delr,\n",
    "    delc=delc,\n",
    "    top=top,\n",
    "    botm=botm,\n",
    "    idomain=idomain,\n",
    "    filename=f\"{gwtname}.dis\",\n",
    "    );\n",
    "## delete \";\" in above line at end to show full output"
   ]
  },
  {
   "cell_type": "code",
   "execution_count": 31,
   "metadata": {},
   "outputs": [],
   "source": [
    "# Instantiating MODFLOW 6 transport initial concentrations\n",
    "flopy.mf6.ModflowGwtic(gwt, strt=sconc, filename=f\"{gwtname}.ic\");\n",
    "## delete \";\" in above line at end to show full output"
   ]
  },
  {
   "cell_type": "code",
   "execution_count": 32,
   "metadata": {},
   "outputs": [],
   "source": [
    "# Instantiating MODFLOW 6 transport advection package\n",
    "if mixelm >= 0:\n",
    "    scheme = \"UPSTREAM\"\n",
    "elif mixelm == -1:\n",
    "    scheme = \"TVD\"\n",
    "else:\n",
    "    raise Exception()\n",
    "flopy.mf6.ModflowGwtadv(gwt, scheme=scheme, filename=f\"{gwtname}.adv\");\n",
    "## delete \";\" in above line at end to show full output"
   ]
  },
  {
   "cell_type": "code",
   "execution_count": 33,
   "metadata": {},
   "outputs": [],
   "source": [
    "# Instantiating MODFLOW 6 transport dispersion package\n",
    "if al != 0:\n",
    "    flopy.mf6.ModflowGwtdsp(\n",
    "        gwt,\n",
    "        #alh=al, # longitudinal\n",
    "        alh = displ_array,\n",
    "        #ath1=ath1, # transverse\n",
    "        ath1 = dispt_array,\n",
    "        filename=f\"{gwtname}.dsp\",\n",
    "        );\n",
    "## delete \";\" in above line at end to show full output"
   ]
  },
  {
   "cell_type": "code",
   "execution_count": 34,
   "metadata": {},
   "outputs": [],
   "source": [
    "# Instantiating MODFLOW 6 transport mass storage package\n",
    "flopy.mf6.ModflowGwtmst(\n",
    "    gwt,\n",
    "    porosity=pors_array,\n",
    "##    porosity=prsity,\n",
    "    first_order_decay=False,\n",
    "    decay=None,\n",
    "    decay_sorbed=None,\n",
    "    sorption=None,\n",
    "    bulk_density=None,\n",
    "    distcoef=None,\n",
    "    filename=f\"{gwtname}.mst\",\n",
    "    );\n",
    "## delete \";\" in above line at end to show full output"
   ]
  },
  {
   "cell_type": "code",
   "execution_count": 35,
   "metadata": {},
   "outputs": [],
   "source": [
    "# Instantiating MODFLOW 6 transport source-sink mixing package\n",
    "sourcerecarray = [\n",
    "    (\"WEL-1\", \"AUX\", \"CONCENTRATION\"),\n",
    "    (\"CHD-1\", \"AUX\", \"CONCENTRATION\"),\n",
    "    ]\n",
    "flopy.mf6.ModflowGwtssm(\n",
    "    gwt,\n",
    "    sources=sourcerecarray,\n",
    "    print_flows=True,\n",
    "    filename=f\"{gwtname}.ssm\",\n",
    "    );\n",
    "## delete \";\" in above line at end to show full output"
   ]
  },
  {
   "cell_type": "code",
   "execution_count": 36,
   "metadata": {},
   "outputs": [],
   "source": [
    "# Instantiating MODFLOW 6 transport output control package\n",
    "flopy.mf6.ModflowGwtoc(\n",
    "    gwt,\n",
    "    budget_filerecord=f\"{gwtname}.cbc\",\n",
    "    concentration_filerecord=f\"{gwtname}.ucn\",\n",
    "    concentrationprintrecord=[(\"COLUMNS\", 10, \"WIDTH\", 15, \"DIGITS\", 6, \"GENERAL\")],\n",
    "    saverecord=[(\"CONCENTRATION\", \"LAST\"), (\"BUDGET\", \"LAST\")],\n",
    "    printrecord=[(\"CONCENTRATION\", \"LAST\"), (\"BUDGET\", \"LAST\")],\n",
    "    filename=f\"{gwtname}.oc\",\n",
    "    );\n",
    "## delete \";\" in above line at end to show full output"
   ]
  },
  {
   "cell_type": "code",
   "execution_count": 37,
   "metadata": {},
   "outputs": [],
   "source": [
    "# Instantiating MODFLOW 6 flow-transport exchange mechanism\n",
    "flopy.mf6.ModflowGwfgwt(\n",
    "    sim,\n",
    "    exgtype=\"GWF6-GWT6\",\n",
    "    exgmnamea=gwfname,\n",
    "    exgmnameb=gwtname,\n",
    "    filename=f\"{name}.gwfgwt\",\n",
    "    );\n",
    "## delete \";\" in above line at end to show full output"
   ]
  },
  {
   "cell_type": "code",
   "execution_count": 38,
   "metadata": {},
   "outputs": [],
   "source": [
    "sim.write_simulation(silent=True)"
   ]
  },
  {
   "cell_type": "code",
   "execution_count": 39,
   "metadata": {},
   "outputs": [],
   "source": [
    "#success, buff = sim.run_simulation(silent=False, report=True)#Verbose output\n",
    "success, buff = sim.run_simulation(silent=True, report=True)#Suppress output\n",
    "assert success, pformat(buff)"
   ]
  },
  {
   "cell_type": "code",
   "execution_count": 40,
   "metadata": {},
   "outputs": [
    {
     "data": {
      "image/png": "[encoded data removed]",
      "text/plain": [
       "<Figure size 2100x1500 with 4 Axes>"
      ]
     },
     "metadata": {},
     "output_type": "display_data"
    }
   ],
   "source": [
    "import copy\n",
    "import matplotlib as mpl\n",
    "# Figure properties\n",
    "figure_size = (7, 5)\n",
    "# Get the MF6 concentration output\n",
    "gwt = sim.get_model(list(sim.model_names)[1])\n",
    "ucnobj_mf6 = gwt.output.concentration()\n",
    "conc_mf6 = ucnobj_mf6.get_alldata()\n",
    "\n",
    "\n",
    "# Create figure for scenario\n",
    "with styles.USGSPlot() as fs:\n",
    "    sim_name = sim.name\n",
    "    plt.rcParams[\"lines.dashed_pattern\"] = [5.0, 5.0]\n",
    "    levels = np.arange(0.2, 10, 0.4)\n",
    "    stp_idx = 0  # 0-based (out of 2 possible stress periods)\n",
    "# Plot after 8 years\n",
    "    axWasNone = False\n",
    "#    if ax is None:\n",
    "    fig = plt.figure(figsize=figure_size, dpi=300, tight_layout=True)\n",
    "    axWasNone = True\n",
    "    ax = fig.add_subplot(1, 2, 1, aspect=\"equal\")\n",
    "    cflood = np.ma.masked_less_equal(conc_mf6[stp_idx], 0.2)\n",
    "    mm = flopy.plot.PlotMapView(ax=ax, model=gwf)\n",
    "    cmap = copy.copy(mpl.cm.get_cmap(\"RdYlGn_r\"))\n",
    "    #cmap = plt.get_cmap('RdYlGn_r')\n",
    "    cmap.set_bad(color='none')\n",
    "    colors = ['saddlebrown', 'goldenrod']\n",
    "    cmap = ListedColormap(colors)\n",
    "    #mm.plot_array(hk, masked_values=[hk[0, 0, 0]], alpha=0.8, cmap = cmap)\n",
    "    mm.plot_array(hk, alpha=0.5, cmap = cmap)\n",
    "    mm.plot_ibound()\n",
    "    mm.plot_grid(color=\".5\", alpha=0.2)\n",
    "    cmap = copy.copy(mpl.cm.get_cmap(\"RdYlGn_r\"))\n",
    "    #cmap = plt.get_cmap('RdYlGn_r')\n",
    "    cmap.set_bad(color='none')\n",
    "    cs = mm.plot_array(cflood[0],  alpha=1.0, vmin=0, vmax=1000, cmap = cmap)\n",
    "# Add a colorbar to the plot\n",
    "    cbar = plt.colorbar(cs, orientation='horizontal')  # Use orientation='horizontal' if preferred\n",
    "    cbar.set_label('Concentration (ppm)')  # Replace with appropriate label for your data\n",
    "    cs = mm.contour_array(conc_mf6[stp_idx], colors=\"k\", levels=levels, linewidths=0.5)\n",
    "    plt.clabel(cs, fmt='%.2f')\n",
    "    plt.xlabel(\"Distance Along X-Axis, in meters\")\n",
    "    plt.ylabel(\"Distance Along Y-Axis, in meters\")\n",
    "\n",
    "    title = \"MF6 - End of Stress Period \" + str(stp_idx + 1)\n",
    "# set idx\n",
    "    idx = 0\n",
    "    letter = chr(ord(\"@\") + idx + 1)\n",
    "    styles.heading(letter=letter, heading=title)\n",
    "    \n",
    "# second stress period\n",
    "    stp_idx = 1  # 0-based (out of 2 possible stress periods)\n",
    "    if axWasNone:\n",
    "        ax = fig.add_subplot(1, 2, 2, aspect=\"equal\",label = \"subplot2\")\n",
    "    cflood = np.ma.masked_less_equal(conc_mf6[stp_idx], 0.2)\n",
    "    mm = flopy.plot.PlotMapView(ax=ax, model=gwf)\n",
    "    colors = ['saddlebrown', 'goldenrod']\n",
    "    cmap = ListedColormap(colors)\n",
    "    #mm.plot_array(hk, masked_values=[hk[0, 0, 0]], alpha=0.8, cmap = cmap)\n",
    "    mm.plot_array(hk, alpha=0.5, cmap = cmap)\n",
    "    mm.plot_ibound()\n",
    "    mm.plot_grid(color=\".5\", alpha=0.2)\n",
    "    cmap = copy.copy(mpl.cm.get_cmap(\"RdYlGn_r\"))\n",
    "    #cmap = plt.get_cmap('RdYlGn_r')\n",
    "    cmap.set_bad(color='none')\n",
    "    cs = mm.plot_array(cflood[0], alpha=1.0, vmin=0, vmax=1000, cmap = cmap)\n",
    "# Add a colorbar to the plot\n",
    "    cbar = plt.colorbar(cs, orientation='horizontal')  # Use orientation='horizontal' if preferred\n",
    "    cbar.set_label('Concentration (ppm)')  # Replace with appropriate label for your data\n",
    "    cs = mm.contour_array(conc_mf6[stp_idx], colors=\"k\", levels=levels, linewidths=0.5)\n",
    "    plt.clabel(cs, fmt='%.2f')\n",
    "    plt.xlabel(\"Distance Along X-Axis, in meters\")\n",
    "    plt.ylabel(\"Distance Along Y-Axis, in meters\")\n",
    "\n",
    "    title = \"MF6 - End of Stress Period \" + str(stp_idx + 1)\n",
    "# set idx\n",
    "    idx = 1\n",
    "    letter = chr(ord(\"@\") + idx + 1)\n",
    "    styles.heading(letter=letter, heading=title)"
   ]
  },
  {
   "cell_type": "code",
   "execution_count": 41,
   "metadata": {},
   "outputs": [
    {
     "name": "stdout",
     "output_type": "stream",
     "text": [
      "Shape: (2, 1, 14, 10)\n",
      "Data type: float64\n",
      "Number of dimensions: 4\n"
     ]
    }
   ],
   "source": [
    "print(\"Shape:\", conc_mf6.shape)  # (rows, columns, depth, etc.)\n",
    "print(\"Data type:\", conc_mf6.dtype)\n",
    "print(\"Number of dimensions:\", conc_mf6.ndim)"
   ]
  },
  {
   "cell_type": "code",
   "execution_count": 42,
   "metadata": {},
   "outputs": [
    {
     "name": "stdout",
     "output_type": "stream",
     "text": [
      "W1 Conc SP1 0.0\n",
      "W1 Conc SP2 15.247\n",
      "W2 Conc SP1 0.0\n",
      "W2 Conc SP2 153.983\n",
      "W3 Conc SP1 0.0\n",
      "W3 Conc SP2 328.63\n"
     ]
    }
   ],
   "source": [
    "print(\"W1 Conc SP1\",round(conc_mf6[0][0][11][5],3))\n",
    "print(\"W1 Conc SP2\",round(conc_mf6[1][0][11][5],3))\n",
    "print(\"W2 Conc SP1\",round(conc_mf6[0][0][11][7],3))\n",
    "print(\"W2 Conc SP2\",round(conc_mf6[1][0][11][7],3))\n",
    "print(\"W3 Conc SP1\",round(conc_mf6[0][0][11][8],3))\n",
    "print(\"W3 Conc SP2\",round(conc_mf6[1][0][11][8],3))\n",
    "\n",
    "#print(\"I1 Conc SP1\",round(conc_mf6[0][0][4][4],3))\n",
    "#print(\"I1 Conc SP2\",round(conc_mf6[1][0][4][4],3))\n",
    "#print(\"I2 Conc SP1\",round(conc_mf6[0][0][4][6],3))\n",
    "#print(\"I2 Conc SP2\",round(conc_mf6[1][0][4][6],3))\n",
    "#print(\"I3 Conc SP1\",round(conc_mf6[0][0][7][8],3))\n",
    "#print(\"I3 Conc SP2\",round(conc_mf6[1][0][7][8],3))\n",
    "#$(0, 11, 5), qW1, cW1])  # Pumping well\n",
    "#wellist_sp2.append([(0, 11, 7), qW2, cW2])  # Pumping well\n",
    "#wellist_sp2.append([(0, 11, 8)"
   ]
  },
  {
   "cell_type": "code",
   "execution_count": 43,
   "metadata": {},
   "outputs": [],
   "source": [
    "%reset -f"
   ]
  },
  {
   "cell_type": "code",
   "execution_count": 44,
   "metadata": {},
   "outputs": [],
   "source": [
    "import warnings\n",
    "warnings.filterwarnings('ignore',category=DeprecationWarning)"
   ]
  },
  {
   "cell_type": "code",
   "execution_count": 45,
   "metadata": {},
   "outputs": [],
   "source": [
    "import os\n",
    "import pathlib as pl\n",
    "from pprint import pformat\n",
    "import flopy\n",
    "import git\n",
    "import matplotlib.pyplot as plt\n",
    "from matplotlib.colors import ListedColormap\n",
    "import numpy as np\n",
    "from flopy.plot.styles import styles\n",
    "from modflow_devtools.misc import get_env, timed\n",
    "import warnings\n",
    "warnings.filterwarnings('ignore',category=DeprecationWarning)"
   ]
  },
  {
   "cell_type": "code",
   "execution_count": 46,
   "metadata": {},
   "outputs": [],
   "source": [
    "# Read control file\n",
    "filename = \"pr2-input-base.txt\"\n",
    "# Read the file\n",
    "afile = open(filename,\"r\")  # connect and read file for base input\n",
    "lines = []\n",
    "for line in afile:\n",
    "    lines.append(line.rstrip('\\n'))\n",
    "afile.close()\n",
    "# Assign Properties\n",
    "length_units= lines[0]\n",
    "time_units= lines[1]\n",
    "nlay = int(lines[2])  # Number of layers\n",
    "nrow = int(lines[3])  # Number of rows\n",
    "ncol = int(lines[4])  # Number of columns\n",
    "delr = float(lines[5])  # Column width ($m$)\n",
    "delc = float(lines[6])  # Row width ($m$)\n",
    "delz = float(lines[7])  # Layer thickness ($m$)\n",
    "top  = float(lines[8])  # Top of the model ($m$)\n",
    "\n",
    "#\n",
    "\n",
    "# more above"
   ]
  },
  {
   "cell_type": "code",
   "execution_count": 47,
   "metadata": {},
   "outputs": [],
   "source": [
    "# Read hydraulic conductivity array\n",
    "filename = \"pr2-input-hydcond.txt\"\n",
    "hk = []\n",
    "# Read the file\n",
    "afile = open(filename,\"r\")  # connect and read file for base input\n",
    "for ilay in range(nlay):\n",
    "    for line in afile:\n",
    "        hk.append([float(n) for n in line.strip().split(',')])\n",
    "afile.close()\n",
    "# convert into numpy array\n",
    "hk = np.array(hk)"
   ]
  },
  {
   "cell_type": "code",
   "execution_count": 48,
   "metadata": {},
   "outputs": [],
   "source": [
    "# Read boundary array\n",
    "filename = \"pr2-input-ibound.txt\"\n",
    "ibound = []\n",
    "# Read the file\n",
    "afile = open(filename,\"r\")  # connect and read file for base input\n",
    "for ilay in range(nlay):\n",
    "    for line in afile:\n",
    "        ibound.append([int(n) for n in line.strip().split(',')])\n",
    "afile.close()\n",
    "# convert into numpy array\n",
    "ibound = np.array(ibound)"
   ]
  },
  {
   "cell_type": "code",
   "execution_count": 49,
   "metadata": {},
   "outputs": [],
   "source": [
    "# Read idomain array\n",
    "filename = \"pr2-input-idomain.txt\"\n",
    "idomain = []\n",
    "# Read the file\n",
    "afile = open(filename,\"r\")  # connect and read file for base input\n",
    "for ilay in range(nlay):\n",
    "    for line in afile:\n",
    "        idomain.append([int(n) for n in line.strip().split(',')])\n",
    "afile.close()\n",
    "# convert into numpy array\n",
    "idomain = np.array(idomain)"
   ]
  },
  {
   "cell_type": "code",
   "execution_count": 50,
   "metadata": {},
   "outputs": [],
   "source": [
    "# Read storativity array\n",
    "filename = \"pr2-input-storage.txt\"\n",
    "ss_array = []\n",
    "# Read the file\n",
    "afile = open(filename,\"r\")  # connect and read file for base input\n",
    "for ilay in range(nlay):\n",
    "    for line in afile:\n",
    "        ss_array.append([float(n) for n in line.strip().split(',')])\n",
    "afile.close()\n",
    "# convert into numpy array\n",
    "ss_array = np.array(ss_array)"
   ]
  },
  {
   "cell_type": "code",
   "execution_count": 51,
   "metadata": {},
   "outputs": [],
   "source": [
    "# Read porosity array\n",
    "filename = \"pr2-input-porosity.txt\"\n",
    "pors_array = []\n",
    "# Read the file\n",
    "afile = open(filename,\"r\")  # connect and read file for base input\n",
    "for ilay in range(nlay):\n",
    "    for line in afile:\n",
    "        pors_array.append([float(n) for n in line.strip().split(',')])\n",
    "afile.close()\n",
    "# convert into numpy array\n",
    "pors_array = np.array(pors_array)"
   ]
  },
  {
   "cell_type": "code",
   "execution_count": 52,
   "metadata": {},
   "outputs": [],
   "source": [
    "# Read longitudinal dispersivity array\n",
    "filename = \"pr2-input-disperl.txt\"\n",
    "displ_array = []\n",
    "# Read the file\n",
    "afile = open(filename,\"r\")  # connect and read file for base input\n",
    "for ilay in range(nlay):\n",
    "    for line in afile:\n",
    "        displ_array.append([float(n) for n in line.strip().split(',')])\n",
    "afile.close()\n",
    "# convert into numpy array\n",
    "displ_array = np.array(displ_array)"
   ]
  },
  {
   "cell_type": "code",
   "execution_count": 53,
   "metadata": {},
   "outputs": [],
   "source": [
    "# Read dispersivity in y-direction array\n",
    "filename = \"pr2-input-dispert.txt\"\n",
    "dispt_array = []\n",
    "# Read the file\n",
    "afile = open(filename,\"r\")  # connect and read file for base input\n",
    "for ilay in range(nlay):\n",
    "    for line in afile:\n",
    "        dispt_array.append([float(n) for n in line.strip().split(',')])\n",
    "afile.close()\n",
    "# convert into numpy array\n",
    "dispt_array = np.array(dispt_array)"
   ]
  },
  {
   "cell_type": "code",
   "execution_count": 54,
   "metadata": {},
   "outputs": [
    {
     "data": {
      "text/plain": [
       "array([[9999.99 , 9999.99 , 9999.99 , 9999.99 , 9999.99 , 9999.99 ,\n",
       "        9999.99 , 9999.99 , 9999.99 , 9999.99 ],\n",
       "       [9999.99 ,  600.   ,  600.   ,  600.   ,  600.   ,  600.   ,\n",
       "         600.   ,  600.   ,  600.   , 9999.99 ],\n",
       "       [9999.99 ,  598.627,  598.635,  598.651,  598.671,  598.685,\n",
       "         598.696,  598.698,  598.699, 9999.99 ],\n",
       "       [9999.99 ,  597.244,  597.263,  597.299,  597.347,  597.373,\n",
       "         597.4  ,  597.399,  597.398, 9999.99 ],\n",
       "       [9999.99 ,  595.844,  595.873,  595.935,  596.046,  596.058,\n",
       "         596.134,  596.1  ,  596.095, 9999.99 ],\n",
       "       [9999.99 ,  592.981,  593.023,  593.102,  593.21 ,  593.295,\n",
       "         593.388,  593.439,  593.477, 9999.99 ],\n",
       "       [9999.99 ,  588.644,  588.707,  588.823,  588.976,  589.14 ,\n",
       "         589.307,  589.46 ,  589.587, 9999.99 ],\n",
       "       [9999.99 ,  584.245,  584.338,  584.507,  584.73 ,  584.981,\n",
       "         585.242,  585.506,  585.823, 9999.99 ],\n",
       "       [9999.99 ,  579.753,  579.891,  580.139,  580.457,  580.812,\n",
       "         581.174,  581.498,  581.729, 9999.99 ],\n",
       "       [9999.99 ,  569.734,  570.035,  570.535,  571.135,  571.774,\n",
       "         572.459,  573.025,  573.375, 9999.99 ],\n",
       "       [9999.99 ,  554.028,  554.679,  555.666,  556.761,  557.828,\n",
       "         559.177,  560.211,  560.877, 9999.99 ],\n",
       "       [9999.99 ,  537.671,  538.985,  540.691,  542.414,  543.602,\n",
       "         546.211,  547.765,  549.045, 9999.99 ],\n",
       "       [9999.99 ,  520.   ,  522.9  ,  525.7  ,  528.6  ,  531.4  ,\n",
       "         534.3  ,  537.1  ,  540.   , 9999.99 ],\n",
       "       [9999.99 , 9999.99 , 9999.99 , 9999.99 , 9999.99 , 9999.99 ,\n",
       "        9999.99 , 9999.99 , 9999.99 , 9999.99 ]])"
      ]
     },
     "execution_count": 54,
     "metadata": {},
     "output_type": "execute_result"
    }
   ],
   "source": [
    "# Read initial heads array\n",
    "filename = \"pr2-input-headinit.txt\"\n",
    "strt = []\n",
    "# Read the file\n",
    "afile = open(filename,\"r\")  # connect and read file for base input\n",
    "for ilay in range(nlay):\n",
    "    for line in afile:\n",
    "        strt.append([float(n) for n in line.strip().split(',')])\n",
    "afile.close()\n",
    "# convert into numpy array\n",
    "strt = np.array(strt)\n",
    "\n",
    "strt"
   ]
  },
  {
   "cell_type": "code",
   "execution_count": 55,
   "metadata": {},
   "outputs": [
    {
     "data": {
      "text/plain": [
       "0.01548"
      ]
     },
     "execution_count": 55,
     "metadata": {},
     "output_type": "execute_result"
    }
   ],
   "source": [
    "0.01548"
   ]
  },
  {
   "cell_type": "code",
   "execution_count": 56,
   "metadata": {},
   "outputs": [],
   "source": [
    "# Wellfield Conditions\n",
    "# MF2K5 pumping/injection rates in length-time units\n",
    "# CFS pumping is negative\n",
    "qW1 = -16.0 \n",
    "qW2 =  -7.0\n",
    "qW3 =  -7.0\n",
    "# CFS injection is positive\n",
    "qI1 = 10.0 \n",
    "qI2 = 0.0\n",
    "qI3 = 20.0\n",
    "# Concentrations \n",
    "# PPM pumping (set pumpings to zero value)\n",
    "cW1 = 0.0\n",
    "cW2 = 0.0\n",
    "cW3 = 0.0\n",
    "# PPM injection\n",
    "cI1 = 1000.0\n",
    "cI2 = 1000.0\n",
    "cI3 = 1000.0\n",
    "#spd = {\n",
    " #   0: [[0, 3, 6, cwell1, 2], [0, 10, 6, cwell0, 2]],\n",
    "  #  1: [[0, 3, 6, cwell0, 2], [0, 10, 6, cwell0, 2]],\n",
    "#}  # Well info 4 MT3D\n",
    "# Build MF6 wellfield objects\n",
    "wellist_sp1 = []\n",
    "#                   (k,  i, j),   flow,  conc\n",
    "wellist_sp1.append([(0, 4, 4), qI1, cI1])  # Injection well\n",
    "wellist_sp1.append([(0, 4, 6), qI1, cI2])  # Injection well\n",
    "wellist_sp1.append([(0, 7, 8), qI1, cI3])  # Injection well #3  ACTIVE THIS SCENARIO\n",
    "wellist_sp1.append([(0, 11, 5), qW1, cW1])  # Pumping well\n",
    "wellist_sp1.append([(0, 11, 7), qW2, cW2])  # Pumping well\n",
    "wellist_sp1.append([(0, 11, 8), qW3, cW3])  # Pumping well\n",
    "#\n",
    "wellist_sp2 = []\n",
    "#                   (k,  i, j),   flow,  conc\n",
    "wellist_sp2.append([(0, 4, 4), qI1, cI1])  # Injection well\n",
    "wellist_sp2.append([(0, 4, 6), qI2, cI2])  # Injection well\n",
    "wellist_sp2.append([(0, 7, 8), qI3, cI3])  # Injection well  #3  ACTIVE THIS SCENARIO\n",
    "wellist_sp2.append([(0, 11, 5), qW1, cW1])  # Pumping well\n",
    "wellist_sp2.append([(0, 11, 7), qW2, cW2])  # Pumping well\n",
    "wellist_sp2.append([(0, 11, 8), qW3, cW3])  # Pumping well\n",
    "#\n",
    "spd_mf6 = {0: wellist_sp1, 1: wellist_sp2}"
   ]
  },
  {
   "cell_type": "code",
   "execution_count": 57,
   "metadata": {},
   "outputs": [],
   "source": [
    "# Model units\n",
    "#length_units = \"meters\"\n",
    "#time_units = \"seconds\"\n",
    "\n",
    "# Model parameters\n",
    "#nlay = 1  # Number of layers\n",
    "#nrow = 18  # Number of rows\n",
    "#ncol = 14  # Number of columns\n",
    "#delr = 100.0  # Column width ($m$)\n",
    "#delc = 100.0  # Row width ($m$)\n",
    "#delz = 10.0  # Layer thickness ($m$)\n",
    "#top = 0.0  # Top of the model ($m$)\n",
    "#prsity = 0.3  # Porosity - array reader above\n",
    "k1 = 1.474e-4  # Horiz. hyd. conductivity of medium grain material ($m/sec$)\n",
    "k2 = 1.474e-7  # Horiz. hyd. conductivity of fine grain material ($m/sec$)\n",
    "inj = 0.001  # Injection well rate ($m^3/sec$)\n",
    "ext = -0.0189  # Extraction well pumping rate ($m^3/sec$)\n",
    "al = 20.0  # Longitudinal dispersivity ($m$)\n",
    "trpt = 0.2  # Ratio of horiz. transverse to longitudinal dispersivity ($m$)\n",
    "perlen = 2.0  # Simulation time ($years$)\n",
    "\n",
    "# Additional model input\n",
    "#hk = k1 * np.ones((nlay, nrow, ncol), dtype=float)\n",
    "#hk[:, 5:8, 1:8] = k2\n",
    "laytyp = icelltype = 0\n",
    "\n",
    "# Active model domain\n",
    "#ibound = np.ones((nlay, nrow, ncol), dtype=int)\n",
    "#ibound[0, 0, :] = -1\n",
    "#ibound[0, -1, :] = -1\n",
    "#idomain = np.ones((nlay, nrow, ncol), dtype=int)\n",
    "icbund = 1\n",
    "\n",
    "# Boundary conditions\n",
    "\n",
    "# Transport related\n",
    "sconc = 0.0\n",
    "ath1 = al * trpt\n",
    "dmcoef = 0.0  # m^2/s\n",
    "# Time variables\n",
    "perlen = [365.0 * 86400, 365.0 * 86400]\n",
    "steady = [False, False]\n",
    "nper = len(perlen)\n",
    "nstp = [365, 365]\n",
    "tsmult = [1.0, 1.0]\n",
    "#\n",
    "sconc = 0.0\n",
    "c0 = 0.0\n",
    "botm = [top - delz]\n",
    "mixelm = -1\n",
    "\n",
    "# Solver settings\n",
    "nouter, ninner = 100, 300\n",
    "hclose, rclose, relax = 1e-6, 1e-6, 1.0\n",
    "percel = 1.0  # HMOC parameters\n",
    "itrack = 2\n",
    "wd = 0.5\n",
    "dceps = 1.0e-5\n",
    "nplane = 0\n",
    "npl = 0\n",
    "nph = 16\n",
    "npmin = 2\n",
    "npmax = 32\n",
    "dchmoc = 1.0e-3\n",
    "nlsink = nplane\n",
    "npsink = nph\n",
    "nadvfd = 1"
   ]
  },
  {
   "cell_type": "code",
   "execution_count": 58,
   "metadata": {},
   "outputs": [],
   "source": [
    "# Workspace and Executibles\n",
    "binary = \"/home/sensei/ce-4363-webroot/ModflowExperimental/mf6-arm/mf6\"  # location on MY computer of the compiled modflow program\n",
    "workarea = \"/home/sensei/ce-4363-webroot/ModflowExperimental/mf6-arm/mf6-pr2\" # location on MY computer to store files this example (directory must already exist)\n",
    "#workarea = workspace # location on MY computer to store files this example (directory must already exist)\n",
    "\n",
    "binary = \"/home/sensei/mfplayground/modflow-python/mf6.4.1_linux/bin/mf6\"  # location on AWS computer of the compiled modflow program\n",
    "workarea = \"/home/sensei/ce-5364-webroot/mfexperiments/mf6-pr2\" # location on MY computer to store files this example (directory must already exist)\n",
    "\n",
    "\n",
    "\n",
    "# Set Simulation Name(s)\n",
    "name = \"mf6-pr2\"\n",
    "gwfname = \"gwf-\" + name\n",
    "gwtname = \"gwt-\" + name\n",
    "\n",
    "##### FLOPY Build simulation framework ####\n",
    "sim = flopy.mf6.MFSimulation(\n",
    "    sim_name=\"sim-\" + name, exe_name=binary, version=\"mf6\", sim_ws=workarea\n",
    ")\n",
    "####### CREATED \"/home/sensei/ce-4363-webroot/ModflowExperimental/mf6-arm/mt3d_example9\""
   ]
  },
  {
   "cell_type": "code",
   "execution_count": 59,
   "metadata": {},
   "outputs": [],
   "source": [
    "####### Instantiating MODFLOW 6 time discretization ########\n",
    "tdis_rc = []\n",
    "for i in range(nper):\n",
    "    tdis_rc.append((perlen[i], nstp[i], tsmult[i]))\n",
    "flopy.mf6.ModflowTdis(sim, nper=nper, perioddata=tdis_rc, time_units=time_units);\n",
    "## delete \";\" in above line at end to show full output"
   ]
  },
  {
   "cell_type": "code",
   "execution_count": 60,
   "metadata": {},
   "outputs": [],
   "source": [
    "####### Instantiating MODFLOW 6 groundwater flow model ########\n",
    "# Set Model Name (using same base name as the simulation)\n",
    "model_nam_file = \"{}.nam\".format(gwfname)\n",
    "# create MODFLOW6 flow model framework\n",
    "gwf = flopy.mf6.ModflowGwf(sim, modelname=gwfname, save_flows=True, model_nam_file=model_nam_file);\n",
    "## delete \";\" in above line at end to show full output"
   ]
  },
  {
   "cell_type": "code",
   "execution_count": 61,
   "metadata": {},
   "outputs": [],
   "source": [
    "###### Instantiating MODFLOW 6 solver for flow model #######\n",
    "# Set Iterative Model Solution (choose solver parameters)\n",
    "# about IMS see: https://water.usgs.gov/nrp/gwsoftware/ModelMuse/Help/sms_sparse_matrix_solution_pac.htm\n",
    "# using defaults see: https://flopy.readthedocs.io/en/3.3.2/source/flopy.mf6.modflow.mfims.html\n",
    "imsgwf = flopy.mf6.ModflowIms(\n",
    "    sim,\n",
    "    print_option=\"SUMMARY\",\n",
    "    outer_dvclose=hclose,\n",
    "    outer_maximum=nouter,\n",
    "    under_relaxation=\"NONE\",\n",
    "    inner_maximum=ninner,\n",
    "    inner_dvclose=hclose,\n",
    "    rcloserecord=rclose,\n",
    "    linear_acceleration=\"CG\",\n",
    "    scaling_method=\"NONE\",\n",
    "    reordering_method=\"NONE\",\n",
    "    relaxation_factor=relax,\n",
    "    filename=f\"{gwfname}.ims\",\n",
    "    )\n",
    "sim.register_ims_package(imsgwf, [gwf.name]);\n",
    "## delete \";\" in above line at end to show full output"
   ]
  },
  {
   "cell_type": "code",
   "execution_count": 62,
   "metadata": {},
   "outputs": [],
   "source": [
    "###### Instantiating MODFLOW 6 discretization package ######\n",
    "flopy.mf6.ModflowGwfdis(\n",
    "    gwf,\n",
    "    length_units=length_units,\n",
    "    nlay=nlay,\n",
    "    nrow=nrow,\n",
    "    ncol=ncol,\n",
    "    delr=delr,\n",
    "    delc=delc,\n",
    "    top=top,\n",
    "    botm=botm,\n",
    "    idomain=idomain,\n",
    "    filename=f\"{gwfname}.dis\",\n",
    "    );\n",
    "## delete \";\" in above line at end to show full output"
   ]
  },
  {
   "cell_type": "code",
   "execution_count": 63,
   "metadata": {},
   "outputs": [],
   "source": [
    "# Build MF6 constant head boundaries:\n",
    "xc = gwf.modelgrid.xcellcenters\n",
    "chdspd = []\n",
    "# Loop through the top & bottom sides.\n",
    "for j in range(1,ncol-1):\n",
    "#for j in np.arange(ncol):\n",
    "#               l,  r, c,  head, conc\n",
    "    chdspd.append([(0, 1, j), 600.0, 0.0])  # Top boundary\n",
    "    hd = 520.0 + (xc[-1, j] - xc[-1, 1]) * 2.8572 / 1500\n",
    "    chdspd.append([(0, 12, j), round(hd,1), 0.0])  # Bottom boundary\n",
    "chdspd = {0: chdspd}"
   ]
  },
  {
   "cell_type": "code",
   "execution_count": 64,
   "metadata": {},
   "outputs": [],
   "source": [
    "###### Instantiating MODFLOW 6 initial conditions package for flow model #######\n",
    "flopy.mf6.ModflowGwfic(gwf, strt=strt, filename=f\"{gwfname}.ic\");\n",
    "## delete \";\" in above line at end to show full output"
   ]
  },
  {
   "cell_type": "code",
   "execution_count": 65,
   "metadata": {},
   "outputs": [],
   "source": [
    "# Instantiating MODFLOW 6 node-property flow package\n",
    "flopy.mf6.ModflowGwfnpf(\n",
    "    gwf,\n",
    "    save_flows=False,\n",
    "    icelltype=icelltype,\n",
    "    k=hk,\n",
    "    k33=hk,\n",
    "    save_specific_discharge=True,\n",
    "    filename=f\"{gwfname}.npf\",\n",
    "    );\n",
    "## delete \";\" in above line at end to show full output"
   ]
  },
  {
   "cell_type": "code",
   "execution_count": 66,
   "metadata": {},
   "outputs": [],
   "source": [
    "# Define the Storage package (sto) with the ss array\n",
    "#sto = flopy.mf6.ModflowGwfsto(gwf, ss=1.0e-05)\n",
    "sto = flopy.mf6.ModflowGwfsto(gwf, ss=ss_array);\n",
    "## delete \";\" in above line at end to show full output"
   ]
  },
  {
   "cell_type": "code",
   "execution_count": 67,
   "metadata": {},
   "outputs": [],
   "source": [
    "# Instantiating MODFLOW 6 constant head package\n",
    "\n",
    "flopy.mf6.ModflowGwfchd(\n",
    "    gwf,\n",
    "    maxbound=len(chdspd),\n",
    "    stress_period_data=chdspd,\n",
    "    save_flows=False,\n",
    "    auxiliary=\"CONCENTRATION\",\n",
    "    pname=\"CHD-1\",\n",
    "    filename=f\"{gwfname}.chd\",\n",
    "    );\n",
    "## delete \";\" in above line at end to show full output"
   ]
  },
  {
   "cell_type": "code",
   "execution_count": 68,
   "metadata": {},
   "outputs": [],
   "source": [
    "# Instantiate the wel package\n",
    "flopy.mf6.ModflowGwfwel(\n",
    "    gwf,\n",
    "    print_input=True,\n",
    "    print_flows=True,\n",
    "    stress_period_data=spd_mf6,\n",
    "    save_flows=False,\n",
    "    auxiliary=\"CONCENTRATION\",\n",
    "    pname=\"WEL-1\",\n",
    "    filename=f\"{gwfname}.wel\",\n",
    "    );\n",
    "## delete \";\" in above line at end to show full output"
   ]
  },
  {
   "cell_type": "code",
   "execution_count": 69,
   "metadata": {},
   "outputs": [],
   "source": [
    "# Instantiating MODFLOW 6 output control package for flow model\n",
    "flopy.mf6.ModflowGwfoc(\n",
    "    gwf,\n",
    "    head_filerecord=f\"{gwfname}.hds\",\n",
    "    budget_filerecord=f\"{gwfname}.bud\",\n",
    "    headprintrecord=[(\"COLUMNS\", 10, \"WIDTH\", 15, \"DIGITS\", 6, \"GENERAL\")],\n",
    "    saverecord=[(\"HEAD\", \"LAST\"), (\"BUDGET\", \"LAST\")],\n",
    "    printrecord=[(\"HEAD\", \"LAST\"), (\"BUDGET\", \"LAST\")],\n",
    "    );\n",
    "## delete \";\" in above line at end to show full output"
   ]
  },
  {
   "cell_type": "code",
   "execution_count": 70,
   "metadata": {},
   "outputs": [],
   "source": [
    "###### Instantiating MODFLOW 6 groundwater transport package ##########\n",
    "gwtname = \"gwt-\" + name\n",
    "gwt = flopy.mf6.MFModel(\n",
    "    sim,\n",
    "    model_type=\"gwt6\",\n",
    "    modelname=gwtname,\n",
    "    model_nam_file=f\"{gwtname}.nam\",\n",
    "    )#;\n",
    "## delete \";\" in above line at end to show full output\n",
    "gwt.name_file.save_flows = True"
   ]
  },
  {
   "cell_type": "code",
   "execution_count": 71,
   "metadata": {},
   "outputs": [],
   "source": [
    "# create iterative model solution and register the gwt model with it\n",
    "imsgwt = flopy.mf6.ModflowIms(\n",
    "    sim,\n",
    "    print_option=\"SUMMARY\",\n",
    "    outer_dvclose=hclose,\n",
    "    outer_maximum=nouter,\n",
    "    under_relaxation=\"NONE\",\n",
    "    inner_maximum=ninner,\n",
    "    inner_dvclose=hclose,\n",
    "    rcloserecord=rclose,\n",
    "    linear_acceleration=\"BICGSTAB\",\n",
    "    scaling_method=\"NONE\",\n",
    "    reordering_method=\"NONE\",\n",
    "    relaxation_factor=relax,\n",
    "    filename=f\"{gwtname}.ims\",\n",
    "    )\n",
    "sim.register_ims_package(imsgwt, [gwt.name]);\n",
    "## delete \";\" in above line at end to show full output"
   ]
  },
  {
   "cell_type": "code",
   "execution_count": 72,
   "metadata": {},
   "outputs": [],
   "source": [
    "###### Instantiating MODFLOW 6 transport discretization package #####\n",
    "flopy.mf6.ModflowGwtdis(\n",
    "    gwt,\n",
    "    nlay=nlay,\n",
    "    nrow=nrow,\n",
    "    ncol=ncol,\n",
    "    delr=delr,\n",
    "    delc=delc,\n",
    "    top=top,\n",
    "    botm=botm,\n",
    "    idomain=idomain,\n",
    "    filename=f\"{gwtname}.dis\",\n",
    "    );\n",
    "## delete \";\" in above line at end to show full output"
   ]
  },
  {
   "cell_type": "code",
   "execution_count": 73,
   "metadata": {},
   "outputs": [],
   "source": [
    "# Instantiating MODFLOW 6 transport initial concentrations\n",
    "flopy.mf6.ModflowGwtic(gwt, strt=sconc, filename=f\"{gwtname}.ic\");\n",
    "## delete \";\" in above line at end to show full output"
   ]
  },
  {
   "cell_type": "code",
   "execution_count": 74,
   "metadata": {},
   "outputs": [],
   "source": [
    "# Instantiating MODFLOW 6 transport advection package\n",
    "if mixelm >= 0:\n",
    "    scheme = \"UPSTREAM\"\n",
    "elif mixelm == -1:\n",
    "    scheme = \"TVD\"\n",
    "else:\n",
    "    raise Exception()\n",
    "flopy.mf6.ModflowGwtadv(gwt, scheme=scheme, filename=f\"{gwtname}.adv\");\n",
    "## delete \";\" in above line at end to show full output"
   ]
  },
  {
   "cell_type": "code",
   "execution_count": 75,
   "metadata": {},
   "outputs": [],
   "source": [
    "# Instantiating MODFLOW 6 transport dispersion package\n",
    "if al != 0:\n",
    "    flopy.mf6.ModflowGwtdsp(\n",
    "        gwt,\n",
    "        #alh=al, # longitudinal\n",
    "        alh = displ_array,\n",
    "        #ath1=ath1, # transverse\n",
    "        ath1 = dispt_array,\n",
    "        filename=f\"{gwtname}.dsp\",\n",
    "        );\n",
    "## delete \";\" in above line at end to show full output"
   ]
  },
  {
   "cell_type": "code",
   "execution_count": 76,
   "metadata": {},
   "outputs": [],
   "source": [
    "# Instantiating MODFLOW 6 transport mass storage package\n",
    "flopy.mf6.ModflowGwtmst(\n",
    "    gwt,\n",
    "    porosity=pors_array,\n",
    "##    porosity=prsity,\n",
    "    first_order_decay=False,\n",
    "    decay=None,\n",
    "    decay_sorbed=None,\n",
    "    sorption=None,\n",
    "    bulk_density=None,\n",
    "    distcoef=None,\n",
    "    filename=f\"{gwtname}.mst\",\n",
    "    );\n",
    "## delete \";\" in above line at end to show full output"
   ]
  },
  {
   "cell_type": "code",
   "execution_count": 77,
   "metadata": {},
   "outputs": [],
   "source": [
    "# Instantiating MODFLOW 6 transport source-sink mixing package\n",
    "sourcerecarray = [\n",
    "    (\"WEL-1\", \"AUX\", \"CONCENTRATION\"),\n",
    "    (\"CHD-1\", \"AUX\", \"CONCENTRATION\"),\n",
    "    ]\n",
    "flopy.mf6.ModflowGwtssm(\n",
    "    gwt,\n",
    "    sources=sourcerecarray,\n",
    "    print_flows=True,\n",
    "    filename=f\"{gwtname}.ssm\",\n",
    "    );\n",
    "## delete \";\" in above line at end to show full output"
   ]
  },
  {
   "cell_type": "code",
   "execution_count": 78,
   "metadata": {},
   "outputs": [],
   "source": [
    "# Instantiating MODFLOW 6 transport output control package\n",
    "flopy.mf6.ModflowGwtoc(\n",
    "    gwt,\n",
    "    budget_filerecord=f\"{gwtname}.cbc\",\n",
    "    concentration_filerecord=f\"{gwtname}.ucn\",\n",
    "    concentrationprintrecord=[(\"COLUMNS\", 10, \"WIDTH\", 15, \"DIGITS\", 6, \"GENERAL\")],\n",
    "    saverecord=[(\"CONCENTRATION\", \"LAST\"), (\"BUDGET\", \"LAST\")],\n",
    "    printrecord=[(\"CONCENTRATION\", \"LAST\"), (\"BUDGET\", \"LAST\")],\n",
    "    filename=f\"{gwtname}.oc\",\n",
    "    );\n",
    "## delete \";\" in above line at end to show full output"
   ]
  },
  {
   "cell_type": "code",
   "execution_count": 79,
   "metadata": {},
   "outputs": [],
   "source": [
    "# Instantiating MODFLOW 6 flow-transport exchange mechanism\n",
    "flopy.mf6.ModflowGwfgwt(\n",
    "    sim,\n",
    "    exgtype=\"GWF6-GWT6\",\n",
    "    exgmnamea=gwfname,\n",
    "    exgmnameb=gwtname,\n",
    "    filename=f\"{name}.gwfgwt\",\n",
    "    );\n",
    "## delete \";\" in above line at end to show full output"
   ]
  },
  {
   "cell_type": "code",
   "execution_count": 80,
   "metadata": {},
   "outputs": [],
   "source": [
    "sim.write_simulation(silent=True)"
   ]
  },
  {
   "cell_type": "code",
   "execution_count": 81,
   "metadata": {},
   "outputs": [],
   "source": [
    "#success, buff = sim.run_simulation(silent=False, report=True)#Verbose output\n",
    "success, buff = sim.run_simulation(silent=True, report=True)#Suppress output\n",
    "assert success, pformat(buff)"
   ]
  },
  {
   "cell_type": "code",
   "execution_count": 82,
   "metadata": {},
   "outputs": [],
   "source": [
    "import copy\n",
    "import matplotlib as mpl\n",
    "# Figure properties\n",
    "figure_size = (7, 5)\n",
    "# Get the MF6 concentration output\n",
    "gwt = sim.get_model(list(sim.model_names)[1])\n",
    "ucnobj_mf6 = gwt.output.concentration()\n",
    "conc_mf6 = ucnobj_mf6.get_alldata()\n",
    "\n",
    "\n",
    "# Create figure for scenario\n",
    "with styles.USGSPlot() as fs:\n",
    "    sim_name = sim.name\n",
    "    plt.rcParams[\"lines.dashed_pattern\"] = [5.0, 5.0]\n",
    "    levels = np.arange(0.2, 10, 0.4)\n",
    "    stp_idx = 0  # 0-based (out of 2 possible stress periods)\n",
    "# Plot after 8 years\n",
    "    axWasNone = False\n",
    "#    if ax is None:\n",
    "    fig = plt.figure(figsize=figure_size, dpi=300, tight_layout=True)\n",
    "    axWasNone = True\n",
    "    ax = fig.add_subplot(1, 2, 1, aspect=\"equal\")\n",
    "    cflood = np.ma.masked_less_equal(conc_mf6[stp_idx], 0.2)\n",
    "    mm = flopy.plot.PlotMapView(ax=ax, model=gwf)\n",
    "    cmap = copy.copy(mpl.cm.get_cmap(\"RdYlGn_r\"))\n",
    "    #cmap = plt.get_cmap('RdYlGn_r')\n",
    "    cmap.set_bad(color='none')\n",
    "    colors = ['saddlebrown', 'goldenrod']\n",
    "    cmap = ListedColormap(colors)\n",
    "    #mm.plot_array(hk, masked_values=[hk[0, 0, 0]], alpha=0.8, cmap = cmap)\n",
    "    mm.plot_array(hk, alpha=0.5, cmap = cmap)\n",
    "    mm.plot_ibound()\n",
    "    mm.plot_grid(color=\".5\", alpha=0.2)\n",
    "    cmap = copy.copy(mpl.cm.get_cmap(\"RdYlGn_r\"))\n",
    "    #cmap = plt.get_cmap('RdYlGn_r')\n",
    "    cmap.set_bad(color='none')\n",
    "    cs = mm.plot_array(cflood[0],  alpha=1.0, vmin=0, vmax=1000, cmap = cmap)\n",
    "# Add a colorbar to the plot\n",
    "    cbar = plt.colorbar(cs, orientation='horizontal')  # Use orientation='horizontal' if preferred\n",
    "    cbar.set_label('Concentration (ppm)')  # Replace with appropriate label for your data\n",
    "    cs = mm.contour_array(conc_mf6[stp_idx], colors=\"k\", levels=levels, linewidths=0.5)\n",
    "    plt.clabel(cs, fmt='%.2f')\n",
    "    plt.xlabel(\"Distance Along X-Axis, in meters\")\n",
    "    plt.ylabel(\"Distance Along Y-Axis, in meters\")\n",
    "\n",
    "    title = \"MF6 - End of Stress Period \" + str(stp_idx + 1)\n",
    "# set idx\n",
    "    idx = 0\n",
    "    letter = chr(ord(\"@\") + idx + 1)\n",
    "    styles.heading(letter=letter, heading=title)\n",
    "    \n",
    "# second stress period\n",
    "    stp_idx = 1  # 0-based (out of 2 possible stress periods)\n",
    "    if axWasNone:\n",
    "        ax = fig.add_subplot(1, 2, 2, aspect=\"equal\",label = \"subplot2\")\n",
    "    cflood = np.ma.masked_less_equal(conc_mf6[stp_idx], 0.2)\n",
    "    mm = flopy.plot.PlotMapView(ax=ax, model=gwf)\n",
    "    colors = ['saddlebrown', 'goldenrod']\n",
    "    cmap = ListedColormap(colors)\n",
    "    #mm.plot_array(hk, masked_values=[hk[0, 0, 0]], alpha=0.8, cmap = cmap)\n",
    "    mm.plot_array(hk, alpha=0.5, cmap = cmap)\n",
    "    mm.plot_ibound()\n",
    "    mm.plot_grid(color=\".5\", alpha=0.2)\n",
    "    cmap = copy.copy(mpl.cm.get_cmap(\"RdYlGn_r\"))\n",
    "    #cmap = plt.get_cmap('RdYlGn_r')\n",
    "    cmap.set_bad(color='none')\n",
    "    cs = mm.plot_array(cflood[0], alpha=1.0, vmin=0, vmax=1000, cmap = cmap)\n",
    "# Add a colorbar to the plot\n",
    "    cbar = plt.colorbar(cs, orientation='horizontal')  # Use orientation='horizontal' if preferred\n",
    "    cbar.set_label('Concentration (ppm)')  # Replace with appropriate label for your data\n",
    "    cs = mm.contour_array(conc_mf6[stp_idx], colors=\"k\", levels=levels, linewidths=0.5)\n",
    "    plt.clabel(cs, fmt='%.2f')\n",
    "    plt.xlabel(\"Distance Along X-Axis, in meters\")\n",
    "    plt.ylabel(\"Distance Along Y-Axis, in meters\")\n",
    "\n",
    "    title = \"MF6 - End of Stress Period \" + str(stp_idx + 1)\n",
    "# set idx\n",
    "    idx = 1\n",
    "    letter = chr(ord(\"@\") + idx + 1)\n",
    "    styles.heading(letter=letter, heading=title)"
   ]
  },
  {
   "cell_type": "code",
   "execution_count": 83,
   "metadata": {},
   "outputs": [
    {
     "name": "stdout",
     "output_type": "stream",
     "text": [
      "Shape: (2, 1, 14, 10)\n",
      "Data type: float64\n",
      "Number of dimensions: 4\n"
     ]
    }
   ],
   "source": [
    "print(\"Shape:\", conc_mf6.shape)  # (rows, columns, depth, etc.)\n",
    "print(\"Data type:\", conc_mf6.dtype)\n",
    "print(\"Number of dimensions:\", conc_mf6.ndim)"
   ]
  },
  {
   "cell_type": "code",
   "execution_count": 84,
   "metadata": {},
   "outputs": [
    {
     "name": "stdout",
     "output_type": "stream",
     "text": [
      "W1 Conc SP1 65.591\n",
      "W1 Conc SP2 25.506\n",
      "W2 Conc SP1 67.033\n",
      "W2 Conc SP2 99.129\n",
      "W3 Conc SP1 130.479\n",
      "W3 Conc SP2 234.931\n"
     ]
    }
   ],
   "source": [
    "print(\"W1 Conc SP1\",round(conc_mf6[0][0][11][5],3))\n",
    "print(\"W1 Conc SP2\",round(conc_mf6[1][0][11][5],3))\n",
    "print(\"W2 Conc SP1\",round(conc_mf6[0][0][11][7],3))\n",
    "print(\"W2 Conc SP2\",round(conc_mf6[1][0][11][7],3))\n",
    "print(\"W3 Conc SP1\",round(conc_mf6[0][0][11][8],3))\n",
    "print(\"W3 Conc SP2\",round(conc_mf6[1][0][11][8],3))\n",
    "\n",
    "#print(\"I1 Conc SP1\",round(conc_mf6[0][0][4][4],3))\n",
    "#print(\"I1 Conc SP2\",round(conc_mf6[1][0][4][4],3))\n",
    "#print(\"I2 Conc SP1\",round(conc_mf6[0][0][4][6],3))\n",
    "#print(\"I2 Conc SP2\",round(conc_mf6[1][0][4][6],3))\n",
    "#print(\"I3 Conc SP1\",round(conc_mf6[0][0][7][8],3))\n",
    "#print(\"I3 Conc SP2\",round(conc_mf6[1][0][7][8],3))\n",
    "#$(0, 11, 5), qW1, cW1])  # Pumping well\n",
    "#wellist_sp2.append([(0, 11, 7), qW2, cW2])  # Pumping well\n",
    "#wellist_sp2.append([(0, 11, 8)"
   ]
  },
  {
   "cell_type": "code",
   "execution_count": null,
   "metadata": {},
   "outputs": [],
   "source": []
  }
 ],
 "metadata": {
  "kernelspec": {
   "display_name": "Python 3 (ipykernel)",
   "language": "python",
   "name": "python3"
  },
  "language_info": {
   "codemirror_mode": {
    "name": "ipython",
    "version": 3
   },
   "file_extension": ".py",
   "mimetype": "text/x-python",
   "name": "python",
   "nbconvert_exporter": "python",
   "pygments_lexer": "ipython3",
   "version": "3.10.12"
  }
 },
 "nbformat": 4,
 "nbformat_minor": 4
}