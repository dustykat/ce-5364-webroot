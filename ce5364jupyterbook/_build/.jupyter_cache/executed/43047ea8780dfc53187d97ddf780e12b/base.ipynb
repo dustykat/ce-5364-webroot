{
 "cells": [
  {
   "cell_type": "code",
   "execution_count": 1,
   "metadata": {},
   "outputs": [
    {
     "name": "stdout",
     "output_type": "stream",
     "text": [
      "gradhA : 0.001\n",
      "gradhC : 0.001\n",
      "hab : 5.508  meters\n",
      "hbc : 2.856  meters\n",
      "KB : 3.218  meters/day\n"
     ]
    }
   ],
   "source": [
    "KA=13 #m/d\n",
    "KC= 9 #m/d\n",
    "Q = 0.008*24 #m^3/d\n",
    "w = 1 #m\n",
    "b = 18 #m\n",
    "\n",
    "gradhA = -Q/(KA*b*w)\n",
    "gradhC = -Q/(KC*b*w)\n",
    "\n",
    "print(\"gradhA :\",round(-gradhA,3))\n",
    "print(\"gradhC :\",round(-gradhC,3))\n",
    "\n",
    "hab = 6.0+gradhA*600\n",
    "hbc = 2.5-gradhC*300\n",
    "\n",
    "print(\"hab :\",round(hab,3),\" meters\")\n",
    "print(\"hbc :\",round(hbc,3),\" meters\")\n",
    "\n",
    "KB = -Q/(b*w*((hbc-hab)/800))\n",
    "\n",
    "print(\"KB :\",round(KB,3),\" meters/day\")"
   ]
  },
  {
   "cell_type": "code",
   "execution_count": 2,
   "metadata": {},
   "outputs": [
    {
     "name": "stdout",
     "output_type": "stream",
     "text": [
      "vertical composite Kv:  6.3e-05  ft/sec\n",
      "vertical hydraulic gradient : 0.042857  ft/ft\n",
      "vertical specific discharge q:  3e-06  ft/sec\n"
     ]
    }
   ],
   "source": [
    "# Find total discharge per unit area through entire formation\n",
    "htop=33\n",
    "hbot=21\n",
    "k1=0.0002\n",
    "k2=0.000005\n",
    "k3=0.001\n",
    "l1=50\n",
    "l2=20\n",
    "l3=210\n",
    "n1=0.30\n",
    "n2=0.42\n",
    "n3=0.35\n",
    "Kbar=(l1+l2+l3)/((l1/k1) + (l2/k2) + (l3/k3))\n",
    "print(\"vertical composite Kv: \",round(Kbar,6),\" ft/sec\")\n",
    "dH=htop - hbot\n",
    "dl = l1+l2+l3\n",
    "qt=Kbar*dH/dl\n",
    "print(\"vertical hydraulic gradient :\",round(dH/dl,6),\" ft/ft\")\n",
    "print(\"vertical specific discharge q: \",round(qt,6),\" ft/sec\")"
   ]
  },
  {
   "cell_type": "code",
   "execution_count": 3,
   "metadata": {},
   "outputs": [
    {
     "name": "stdout",
     "output_type": "stream",
     "text": [
      "head at layer 1-2 interface : 32.33  ft \n"
     ]
    }
   ],
   "source": [
    "# find head loss in layer 1\n",
    "dh1 = l1*qt/k1\n",
    "h12 = htop -dh1\n",
    "print(\"head at layer 1-2 interface :\",round(h12,2),\" ft \")"
   ]
  },
  {
   "cell_type": "code",
   "execution_count": 4,
   "metadata": {},
   "outputs": [
    {
     "name": "stdout",
     "output_type": "stream",
     "text": [
      "head at layer 2-3 interface : 21.57  ft \n"
     ]
    }
   ],
   "source": [
    "# find head loss in layer 2\n",
    "dh2 = l2*qt/k2\n",
    "h23 = htop - dh1 -dh2\n",
    "print(\"head at layer 2-3 interface :\",round(h23,2),\" ft \")"
   ]
  },
  {
   "cell_type": "code",
   "execution_count": 5,
   "metadata": {},
   "outputs": [
    {
     "name": "stdout",
     "output_type": "stream",
     "text": [
      "tracer time in layer 1 : 5575000.0  sec\n"
     ]
    }
   ],
   "source": [
    "# time in layer 1\n",
    "time1 = l1*n1/qt\n",
    "print(\"tracer time in layer 1 :\",round(time1,6),\" sec\")"
   ]
  },
  {
   "cell_type": "code",
   "execution_count": 6,
   "metadata": {},
   "outputs": [
    {
     "name": "stdout",
     "output_type": "stream",
     "text": [
      "tracer time in layer 2 : 3122000.0  sec\n"
     ]
    }
   ],
   "source": [
    "# time in layer 2\n",
    "time2 = l2*n2/qt\n",
    "print(\"tracer time in layer 2 :\",round(time2,6),\" sec\")"
   ]
  },
  {
   "cell_type": "code",
   "execution_count": 7,
   "metadata": {},
   "outputs": [
    {
     "name": "stdout",
     "output_type": "stream",
     "text": [
      "tracer time in layer 3 : 27317500.0  sec\n"
     ]
    }
   ],
   "source": [
    "# time in layer 3\n",
    "time3 = l3*n3/qt\n",
    "print(\"tracer time in layer 3 :\",round(time3,6),\" sec\")"
   ]
  },
  {
   "cell_type": "code",
   "execution_count": 8,
   "metadata": {},
   "outputs": [
    {
     "name": "stdout",
     "output_type": "stream",
     "text": [
      "Tracer travel time : 416.834  days \n"
     ]
    }
   ],
   "source": [
    "totaltime=time1+time2+time3\n",
    "totaltime=totaltime/86400\n",
    "print(\"Tracer travel time :\",round(totaltime,3),\" days \")"
   ]
  },
  {
   "cell_type": "code",
   "execution_count": 9,
   "metadata": {},
   "outputs": [
    {
     "name": "stdout",
     "output_type": "stream",
     "text": [
      "time to 75 meters : 150.0  days\n"
     ]
    }
   ],
   "source": [
    "distance = 75 #m\n",
    "velocity = 1.0 #m/day\n",
    "retardation = 2.0 #given\n",
    "\n",
    "timet075 = distance*retardation/velocity\n",
    "\n",
    "print(\"time to 75 meters :\",round(timet075,3),\" days\")"
   ]
  },
  {
   "cell_type": "code",
   "execution_count": 10,
   "metadata": {},
   "outputs": [],
   "source": [
    "def c3addinst(x,y,z,t,m,dx,dy,dz,v,lm):\n",
    "# Baetsle 1969 model eq. 6.28\n",
    "    import math\n",
    "    term0 = math.exp(-1.0*lm*t)\n",
    "#    term1 = 4.0*((math.pi*t)**(2/2))*math.sqrt(dx*dy)\n",
    "    term1 = 8.0*((math.pi*t)**(3/2))*math.sqrt(dx*dy*dz)\n",
    "    term2 = math.exp(-((x-v*t)**2)/(4.0*dx*t) -((y)**2)/(4.0*dy*t) -((z)**2)/(4.0*dz*t))\n",
    "    c3addinst = term0*(mass/term1)*term2\n",
    "    return(c3addinst)\n",
    "\n",
    "def c2addinst(x,y,z,t,m,dx,dy,dz,v,lm):\n",
    "# dz is not used, preserved to make cut-and-paste same eq 6.27\n",
    "# Baetsle 1969 model\n",
    "    import math\n",
    "    term0 = math.exp(-1.0*lm*t)\n",
    "    term1 = 4.0*((math.pi*t)**(2/2))*math.sqrt(dx*dy)\n",
    "    term2 = math.exp(-((x-v*t)**2)/(4.0*dx*t) -((y)**2)/(4.0*dy*t) )\n",
    "    c2addinst = term0*(mass/term1)*term2\n",
    "    return(c2addinst)"
   ]
  },
  {
   "cell_type": "code",
   "execution_count": 11,
   "metadata": {},
   "outputs": [
    {
     "name": "stdout",
     "output_type": "stream",
     "text": [
      "            Mass :  10000  kg/m^3\n",
      "Species velocity :  0.5  m/day\n",
      "    Dispersion x :  1.0  m^2/day\n",
      "    Dispersion y :  0.1  m^2/day\n",
      "    Dispersion z :  0.1  m^2/day\n"
     ]
    }
   ],
   "source": [
    "Co = 1000 #mg/L note problem presents in micrograms/L\n",
    "Ao = 10 \n",
    "mass        = Co*Ao #kg\n",
    "velocity    = 1.0/retardation #m/day\n",
    "disp_x = 1.0  #m^2/day\n",
    "disp_y = 0.1 #m^2/day\n",
    "disp_z = 0.1 #m^2/day\n",
    "decay = 0.0005 #1/day\n",
    "\n",
    "print(\"            Mass : \",round(mass,3),\" kg/m^3\")\n",
    "print(\"Species velocity : \",round(velocity,3),\" m/day\")\n",
    "print(\"    Dispersion x : \",round(disp_x,3),\" m^2/day\")\n",
    "print(\"    Dispersion y : \",round(disp_y,3),\" m^2/day\")\n",
    "print(\"    Dispersion z : \",round(disp_z,3),\" m^2/day\")"
   ]
  },
  {
   "cell_type": "code",
   "execution_count": 12,
   "metadata": {},
   "outputs": [
    {
     "data": {
      "image/png": "[encoded data removed]",
      "text/plain": [
       "<Figure size 640x480 with 1 Axes>"
      ]
     },
     "metadata": {},
     "output_type": "display_data"
    }
   ],
   "source": [
    "deltat      = (1.0) #days\n",
    "howmany =     300/deltat \n",
    "howmany = int(howmany)\n",
    "\n",
    "t = [] #days\n",
    "for i in range(howmany):\n",
    "    t.append(float(i)*deltat)\n",
    "    if t[i] == 0: # trap zero time to prevent divide by zero\n",
    "        t[i]= 0.00000001\n",
    "    \n",
    "x        = 75  #ft\n",
    "y        = 0\n",
    "z        = 0\n",
    "\n",
    "c = [0 for i in range(howmany)] #concentration \n",
    "\n",
    "for i in range(howmany):\n",
    "    c[i]=c3addinst(x,y,z,t[i],mass,disp_x,disp_y,disp_z,velocity,decay)\n",
    "\n",
    "\n",
    "#\n",
    "# Import graphics routines for picture making\n",
    "#\n",
    "from matplotlib import pyplot as plt\n",
    "#\n",
    "# Build and Render the Plot\n",
    "#\n",
    "plt.plot(t,c, color='red', linestyle = 'solid')  # make the plot object\n",
    "plt.title(\" Concentration History \\n Distance: \" + repr(x) + \" feet \\n\" ) # caption the plot object\n",
    "plt.xlabel(\" Elapsed Time (days) \") # label x-axis\n",
    "plt.ylabel(\" Concentration  (kg/m^3)      \") # label y-axis\n",
    "plt.show() # plot to stdio -- has to be last call as it kills prior objects\n",
    "plt.close('all') # needed when plt.show call not invoked, optional here"
   ]
  },
  {
   "cell_type": "code",
   "execution_count": 13,
   "metadata": {},
   "outputs": [
    {
     "name": "stdout",
     "output_type": "stream",
     "text": [
      "Maximum concentration :  1.211  mg/L\n",
      "          Observed at :  138.0  days\n"
     ]
    }
   ],
   "source": [
    "print(\"Maximum concentration : \",round(max(c),3),\" mg/L\")\n",
    "print(\"          Observed at : \",t[c.index(max(c))],\" days\")"
   ]
  },
  {
   "cell_type": "code",
   "execution_count": 14,
   "metadata": {},
   "outputs": [
    {
     "name": "stdout",
     "output_type": "stream",
     "text": [
      "x dimension :  81.06  meters \n",
      "y dimension :  25.63  meters \n"
     ]
    }
   ],
   "source": [
    "import math\n",
    "\n",
    "sigma_x = math.sqrt(2*disp_x*365)\n",
    "sigma_y = math.sqrt(2*disp_y*365)\n",
    "\n",
    "\n",
    "print(\"x dimension : \",round(3*sigma_x,2),\" meters \")\n",
    "print(\"y dimension : \",round(3*sigma_y,2),\" meters \")"
   ]
  },
  {
   "cell_type": "code",
   "execution_count": 15,
   "metadata": {},
   "outputs": [],
   "source": [
    "#\n",
    "# prototype decaying species function\n",
    "#\n",
    "def c1dadrd(c_source,space,time,dispersion,velocity,retardation,decay):\n",
    "    from math import sqrt,erf,erfc,exp  # get special math functions\n",
    "    dee = dispersion/retardation\n",
    "    vee = velocity/retardation\n",
    "    uuu = (vee**2 + 4.0*decay*dee)\n",
    "    uuu = sqrt(uuu)\n",
    "    arg1 = (space*(vee-uuu))/(2.0*dee)\n",
    "    arg2 = (space - uuu*time)/(2.0*sqrt(dee*time))\n",
    "    arg3 = (space*(vee+uuu))/(2.0*dee)\n",
    "    arg4 = (space + uuu*time)/(2.0*sqrt(dee*time))\n",
    "    temp1 = c_source/2.0\n",
    "    temp2 = exp(arg1)\n",
    "    temp3 = erfc(arg2)\n",
    "    temp4 = exp(arg3)\n",
    "    temp5 = erfc(arg4)\n",
    "    \n",
    "    c1dadrd = temp1*(temp2*temp3+temp4*temp5)\n",
    "    \n",
    "    return c1dadrd"
   ]
  },
  {
   "cell_type": "code",
   "execution_count": 16,
   "metadata": {},
   "outputs": [
    {
     "name": "stdout",
     "output_type": "stream",
     "text": [
      "        ---- Supplied Values ----  \n",
      "            Pore Velocity :  0.2  cm/min\n",
      "             Dispersivity :  4.0  cm \n",
      "          Outlet Distance :  30.0  cm \n",
      "        ---- Computed Values ----  \n",
      "               Dispersion :  0.8  cm^2/min \n"
     ]
    }
   ],
   "source": [
    "# input data manager\n",
    "conc_c = 10.0 #mg/L\n",
    "velocity = 0.20 #cm/min\n",
    "dispersivity = 4.0 #cm\n",
    "dispersion = dispersivity*velocity\n",
    "length = 30.0 #cm\n",
    "print(\"        ---- Supplied Values ----  \")\n",
    "print(\"            Pore Velocity : \",round(velocity,3),\" cm/min\" )\n",
    "print(\"             Dispersivity : \",dispersivity,\" cm \")\n",
    "print(\"          Outlet Distance : \",round(length,3),\" cm \")\n",
    "print(\"        ---- Computed Values ----  \")\n",
    "print(\"               Dispersion : \",round(dispersion,3),\" cm^2/min \")"
   ]
  },
  {
   "cell_type": "code",
   "execution_count": 17,
   "metadata": {},
   "outputs": [
    {
     "data": {
      "image/png": "[encoded data removed]",
      "text/plain": [
       "<Figure size 640x480 with 1 Axes>"
      ]
     },
     "metadata": {},
     "output_type": "display_data"
    }
   ],
   "source": [
    "deltat      = (1.0) #minutes\n",
    "howmany =     601/deltat \n",
    "howmany = int(howmany)\n",
    "\n",
    "t = [] #days\n",
    "for i in range(howmany):\n",
    "    t.append(float(i)*deltat)\n",
    "    if t[i] == 0: # trap zero time to prevent divide by zero\n",
    "        t[i]= 0.00000001\n",
    "    \n",
    "distance        = 30  #cm\n",
    "\n",
    "c = [0 for i in range(howmany)] #concentration \n",
    "\n",
    "for i in range(howmany):\n",
    "    c[i]=c1dadrd(conc_c,distance,t[i],dispersion,velocity,1,0)\n",
    "\n",
    "#\n",
    "# Import graphics routines for picture making\n",
    "#\n",
    "from matplotlib import pyplot as plt\n",
    "#\n",
    "# Build and Render the Plot\n",
    "#\n",
    "plt.plot(t,c, color='red', linestyle = 'solid')  # make the plot object\n",
    "plt.title(\" Concentration History \\n Distance: \" + repr(distance) + \" cm \\n\" + \" Dispersion: \" + repr(dispersion) + \" cm^2/min \\n\" + \" Velocity: \" + repr(velocity) + \" cm/min \\n\") # caption the plot object\n",
    "plt.xlabel(\" Elapsed Time (minutes) \") # label x-axis\n",
    "plt.ylabel(\" Concentration  (mg/L)      \") # label y-axis\n",
    "#plt.plot([365,365],[0,c0])\n",
    "#plt.plot([365*2,365*2],[0,c0])\n",
    "#plt.text(365,100,\"  year 1\")\n",
    "#plt.text(365*2,100,\"  year 2\")\n",
    "#plt.savefig(\"ogatabanksplot.png\") # optional generates just a plot for embedding into a report\n",
    "plt.show() # plot to stdio -- has to be last call as it kills prior objects\n",
    "plt.close('all') # needed when plt.show call not invoked, optional here\n",
    "#sys.exit() # used to elegant exit for CGI-BIN use\n",
    "#print(\"Center of Distribution Position : \",round(time*velocity,2),\" length units\")"
   ]
  },
  {
   "cell_type": "code",
   "execution_count": 18,
   "metadata": {},
   "outputs": [
    {
     "name": "stdout",
     "output_type": "stream",
     "text": [
      "Concentration observed at 90.0  minutes :  2.159  mg/L \n"
     ]
    }
   ],
   "source": [
    "print(\"Concentration observed at\",t[c.index(c[90])],\" minutes : \",round(c[90],3),\" mg/L \")"
   ]
  },
  {
   "cell_type": "code",
   "execution_count": 19,
   "metadata": {},
   "outputs": [
    {
     "name": "stdout",
     "output_type": "stream",
     "text": [
      "Retardation coefficient for Toluene :  4.36\n"
     ]
    }
   ],
   "source": [
    "rhob=1.6 #g/cc\n",
    "pors=0.40\n",
    "kaydee = 0.84 #1000cc/1000g\n",
    "retardation = 1+(rhob/pors)*kaydee\n",
    "print(\"Retardation coefficient for Toluene : \",round(retardation,3))"
   ]
  },
  {
   "cell_type": "code",
   "execution_count": 20,
   "metadata": {},
   "outputs": [
    {
     "name": "stdout",
     "output_type": "stream",
     "text": [
      "Time to travel 5 meters (advection only) :  83.758  days\n"
     ]
    }
   ],
   "source": [
    "# time to 5 meters\n",
    "velocity = 95/365 #cm/day\n",
    "distance = 5\n",
    "timeTo5 = distance*retardation/velocity\n",
    "print(\"Time to travel 5 meters (advection only) : \",round(timeTo5,3),\" days\")"
   ]
  },
  {
   "cell_type": "code",
   "execution_count": 21,
   "metadata": {},
   "outputs": [],
   "source": [
    "def c2addinst(x,y,t,m,dx,dy,vee,r,lm):\n",
    "# Baetsle 1969 model\n",
    "    import math\n",
    "    v=vee/r\n",
    "    dxx=dx/r\n",
    "    dyy=dy/r\n",
    "    term0 = math.exp(-1.0*lm*t)\n",
    "    term1 = 4.0*math.pi*t*math.sqrt(dxx*dyy)\n",
    "    term2 = math.exp(    -((x-v*t)**2)/(4.0*dxx*t) - ((y)**2)/(4.0*dyy*t) )\n",
    "    c2addinst = term0*(mass/term1)*term2\n",
    "    return(c2addinst)"
   ]
  },
  {
   "cell_type": "code",
   "execution_count": 22,
   "metadata": {},
   "outputs": [
    {
     "name": "stdout",
     "output_type": "stream",
     "text": [
      "Initial concentration :  416.091\n",
      "Field point (x,y,t) : ( 5 , 1.5 , 90 ) \n",
      "Pore velocity :  0.26 m/d\n",
      "Dispersion x :  0.911  m^2/d\n",
      "Dispersion y :  0.13  m^2/d\n",
      "Retardation R :  4.36\n",
      "Decay Lambda :  0.021  per day\n",
      "Concentration :  1.36939  mg/L\n"
     ]
    }
   ],
   "source": [
    "import math\n",
    "thickness = 8.5\n",
    "diameter = 0.6\n",
    "well_volume = thickness*0.25*math.pi*(diameter**2)\n",
    "mass = 1000.0\n",
    "conc_0 = mass/well_volume\n",
    "mmm = conc_0*thickness*diameter\n",
    "print(\"Initial concentration : \",round(conc_0,3))\n",
    "time1 = 3*30\n",
    "x1 = 5\n",
    "y1 = 1.5\n",
    "alpha_l = 3.5\n",
    "alpha_t = 0.5\n",
    "disp_x = velocity*alpha_l #units!\n",
    "disp_y = velocity*alpha_t\n",
    "lm = 0.021\n",
    "c1 = c2addinst(x1,y1,time1,mmm,disp_x,disp_y,velocity,retardation,lm)\n",
    "print(\"Field point (x,y,t) : (\",x1,\",\",y1,\",\",time1,\") \")\n",
    "print(\"Pore velocity : \",round(velocity,3),\"m/d\")\n",
    "print(\"Dispersion x : \",round(disp_x,3),\" m^2/d\")\n",
    "print(\"Dispersion y : \",round(disp_y,3),\" m^2/d\")\n",
    "print(\"Retardation R : \",round(retardation,3))\n",
    "print(\"Decay Lambda : \",round(lm,3),\" per day\")\n",
    "print(\"Concentration : \",round(c1,6),\" mg/L\")"
   ]
  },
  {
   "cell_type": "code",
   "execution_count": null,
   "metadata": {},
   "outputs": [],
   "source": []
  }
 ],
 "metadata": {
  "kernelspec": {
   "display_name": "Python 3 (ipykernel)",
   "language": "python",
   "name": "python3"
  },
  "language_info": {
   "codemirror_mode": {
    "name": "ipython",
    "version": 3
   },
   "file_extension": ".py",
   "mimetype": "text/x-python",
   "name": "python",
   "nbconvert_exporter": "python",
   "pygments_lexer": "ipython3",
   "version": "3.10.12"
  }
 },
 "nbformat": 4,
 "nbformat_minor": 4
}