{
 "cells": [
  {
   "cell_type": "code",
   "execution_count": 1,
   "metadata": {},
   "outputs": [
    {
     "name": "stdout",
     "output_type": "stream",
     "text": [
      "Volume Impacted by :  10000  mg of benzene is :  5.882  liters \n"
     ]
    }
   ],
   "source": [
    "# 10 g Benzene dissolved at solubility contaminates what volume of water?\n",
    "solubility = 1700 #mg/L\n",
    "benzene_mass = 10 * 1000 # mg\n",
    "volume_affected = benzene_mass/solubility\n",
    "print(\"Volume Impacted by : \",benzene_mass,\" mg of benzene is : \",round(volume_affected,3),\" liters \")"
   ]
  },
  {
   "cell_type": "code",
   "execution_count": 2,
   "metadata": {},
   "outputs": [
    {
     "name": "stdout",
     "output_type": "stream",
     "text": [
      "Volume Impacted by :  10000  mg of benzene is :  2000000.0  liters \n"
     ]
    }
   ],
   "source": [
    "# 10 g Benzene dissolved at solubility contaminates what volume of water?\n",
    "solubility = 0.005 #mg/L\n",
    "benzene_mass = 10 * 1000 # mg\n",
    "volume_affected = benzene_mass/solubility\n",
    "print(\"Volume Impacted by : \",benzene_mass,\" mg of benzene is : \",round(volume_affected,3),\" liters \")"
   ]
  },
  {
   "cell_type": "code",
   "execution_count": null,
   "metadata": {},
   "outputs": [],
   "source": []
  }
 ],
 "metadata": {
  "kernelspec": {
   "display_name": "Python 3",
   "language": "python",
   "name": "python3"
  },
  "language_info": {
   "codemirror_mode": {
    "name": "ipython",
    "version": 3
   },
   "file_extension": ".py",
   "mimetype": "text/x-python",
   "name": "python",
   "nbconvert_exporter": "python",
   "pygments_lexer": "ipython3",
   "version": "3.10.12"
  }
 },
 "nbformat": 4,
 "nbformat_minor": 4
}